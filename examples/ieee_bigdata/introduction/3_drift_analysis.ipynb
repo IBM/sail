{
 "cells": [
  {
   "cell_type": "markdown",
   "metadata": {},
   "source": [
    "## Drift Analysis Example\n",
    "This notebook gives an intuitive explanation on why model drift and data drift are both necessary for monitoring. The concepts are illustrated with a vanilla logistic regression model. "
   ]
  },
  {
   "cell_type": "code",
   "execution_count": 1,
   "metadata": {},
   "outputs": [],
   "source": [
    "import numpy as np\n",
    "import pandas as pd\n",
    "import seaborn as sns"
   ]
  },
  {
   "cell_type": "markdown",
   "metadata": {},
   "source": [
    "We first generate the data for the logistic regression model. The given logistic regression problem has 1 feature (`x`) and a binary classification as the target variable (`y`). In the training example, `x` varies between 0 and 1. So, data drift can be considered when the scoring feature vector has values outside (0,1). The target variable `y` is 0 for `x < 0.48` and `0.5 < x < 0.52`.The aberration values (`0.48 < x < 0.52`) are substantially less than the number of samples in the remaining domain of `x`.The target variable `y` is 1 for `0.48 < x < 0.5` and `0.52 < x < 1.0`."
   ]
  },
  {
   "cell_type": "code",
   "execution_count": 2,
   "metadata": {},
   "outputs": [],
   "source": [
    "a, b = 0, 0.5\n",
    "N = 100\n",
    "N_aber = 10\n",
    "lose_x = np.random.uniform(0,0.48, N)\n",
    "win_x = np.random.uniform(0.52,1.0, N)\n",
    "lose_x_aber = np.random.uniform(0.50,0.52, N_aber)\n",
    "win_x_aber = np.random.uniform(0.48,0.50, N_aber)\n",
    "lose_x = np.append(lose_x, lose_x_aber)\n",
    "win_x = np.append(win_x, win_x_aber)\n",
    "x = np.append(lose_x, win_x)\n"
   ]
  },
  {
   "cell_type": "code",
   "execution_count": 3,
   "metadata": {},
   "outputs": [],
   "source": [
    "def true_y(x):\n",
    "    if x<0.48:\n",
    "        y = 0\n",
    "    elif (x >= 0.48) & (x < 0.50):\n",
    "        y = 1\n",
    "    elif (x>=0.50) & (x<0.52):\n",
    "        y = 0\n",
    "    elif (x>=0.52) & (x < 1.1):\n",
    "        y = 1\n",
    "    elif (x >= 1.1) & (x < 1.2):\n",
    "        y = 0 \n",
    "    else: \n",
    "        y = 1 \n",
    "        \n",
    "    return y\n",
    "y = np.array([true_y(x1) for x1 in x])"
   ]
  },
  {
   "cell_type": "code",
   "execution_count": 4,
   "metadata": {},
   "outputs": [],
   "source": [
    "df = pd.DataFrame({'x': x, 'y': y})\n",
    "X = df['x']\n",
    "X = X.values.reshape(-1,1)\n",
    "y = df['y']"
   ]
  },
  {
   "cell_type": "code",
   "execution_count": 5,
   "metadata": {},
   "outputs": [
    {
     "data": {
      "text/html": [
       "<div>\n",
       "<style scoped>\n",
       "    .dataframe tbody tr th:only-of-type {\n",
       "        vertical-align: middle;\n",
       "    }\n",
       "\n",
       "    .dataframe tbody tr th {\n",
       "        vertical-align: top;\n",
       "    }\n",
       "\n",
       "    .dataframe thead th {\n",
       "        text-align: right;\n",
       "    }\n",
       "</style>\n",
       "<table border=\"1\" class=\"dataframe\">\n",
       "  <thead>\n",
       "    <tr style=\"text-align: right;\">\n",
       "      <th></th>\n",
       "      <th>x</th>\n",
       "      <th>y</th>\n",
       "    </tr>\n",
       "  </thead>\n",
       "  <tbody>\n",
       "    <tr>\n",
       "      <th>0</th>\n",
       "      <td>0.190884</td>\n",
       "      <td>0</td>\n",
       "    </tr>\n",
       "    <tr>\n",
       "      <th>1</th>\n",
       "      <td>0.045987</td>\n",
       "      <td>0</td>\n",
       "    </tr>\n",
       "    <tr>\n",
       "      <th>2</th>\n",
       "      <td>0.239203</td>\n",
       "      <td>0</td>\n",
       "    </tr>\n",
       "    <tr>\n",
       "      <th>3</th>\n",
       "      <td>0.047767</td>\n",
       "      <td>0</td>\n",
       "    </tr>\n",
       "    <tr>\n",
       "      <th>4</th>\n",
       "      <td>0.241692</td>\n",
       "      <td>0</td>\n",
       "    </tr>\n",
       "  </tbody>\n",
       "</table>\n",
       "</div>"
      ],
      "text/plain": [
       "          x  y\n",
       "0  0.190884  0\n",
       "1  0.045987  0\n",
       "2  0.239203  0\n",
       "3  0.047767  0\n",
       "4  0.241692  0"
      ]
     },
     "execution_count": 5,
     "metadata": {},
     "output_type": "execute_result"
    }
   ],
   "source": [
    "df.head()"
   ]
  },
  {
   "cell_type": "markdown",
   "metadata": {},
   "source": [
    "When we plot the target variable `y` with the feature `x`, it is clear that any reasonable machine learning model will train the model such that `y` is 0 for approximately x<0.5 and 1 otherwise unless the model is overfitted. "
   ]
  },
  {
   "cell_type": "code",
   "execution_count": 6,
   "metadata": {},
   "outputs": [
    {
     "data": {
      "text/plain": [
       "<seaborn.axisgrid.PairGrid at 0x7fac087048b0>"
      ]
     },
     "execution_count": 6,
     "metadata": {},
     "output_type": "execute_result"
    },
    {
     "data": {
      "image/png": "[encoded data removed]",
      "text/plain": [
       "<Figure size 360x360 with 6 Axes>"
      ]
     },
     "metadata": {
      "needs_background": "light"
     },
     "output_type": "display_data"
    }
   ],
   "source": [
    "sns.pairplot(df)\n"
   ]
  },
  {
   "cell_type": "markdown",
   "metadata": {},
   "source": [
    "The data is trained with a logistic regression model from sklearn. "
   ]
  },
  {
   "cell_type": "code",
   "execution_count": 7,
   "metadata": {},
   "outputs": [
    {
     "data": {
      "text/plain": [
       "LogisticRegression()"
      ]
     },
     "execution_count": 7,
     "metadata": {},
     "output_type": "execute_result"
    }
   ],
   "source": [
    "from sklearn.linear_model import LogisticRegression\n",
    "from sklearn import metrics\n",
    "from sklearn.model_selection import train_test_split\n",
    "\n",
    "X_train, X_test, y_train, y_test = train_test_split(X, y, test_size=0.3, random_state=0)\n",
    "model = LogisticRegression()\n",
    "model.fit(X_train, y_train)"
   ]
  },
  {
   "cell_type": "code",
   "execution_count": 8,
   "metadata": {
    "scrolled": true
   },
   "outputs": [
    {
     "name": "stdout",
     "output_type": "stream",
     "text": [
      "Accuracy of logistic regression classifier on test set: 0.95\n"
     ]
    }
   ],
   "source": [
    "y_pred = model.predict(X_test)\n",
    "print('Accuracy of logistic regression classifier on test set: {:.2f}'.format(model.score(X_test, y_test)))"
   ]
  },
  {
   "cell_type": "markdown",
   "metadata": {},
   "source": [
    "# No data drift, no model drift\n",
    "The first case is when 0.< x < 0.48 for every element `x` in `X_test`. There is no data drift since x is between 0 and 1. As stated earlier, the model can be expected to be highly accurate here. While monitoring, if the scoring jobs are in this range, the mat package should not observe any data drift or model drift. "
   ]
  },
  {
   "cell_type": "code",
   "execution_count": 9,
   "metadata": {},
   "outputs": [
    {
     "name": "stdout",
     "output_type": "stream",
     "text": [
      "[[0.47866747]\n",
      " [0.25861549]\n",
      " [0.25350433]\n",
      " [0.01690075]\n",
      " [0.06437454]\n",
      " [0.20802378]\n",
      " [0.43956347]\n",
      " [0.39518413]\n",
      " [0.32276348]\n",
      " [0.19440808]]\n",
      "Accuracy of logistic regression classifier on test set: 1.00\n"
     ]
    }
   ],
   "source": [
    "X_test = X[0:10]\n",
    "print(X_test)\n",
    "y_test = y[0:10]\n",
    "print('Accuracy of logistic regression classifier on test set: {:.2f}'.format(model.score(X_test, y_test)))"
   ]
  },
  {
   "cell_type": "markdown",
   "metadata": {},
   "source": [
    "# Data drift not detected but model drift detected\n",
    "The second case is when we take some elements from the aberration space as well for `X_test`. It is difficult to detect data drift in this case using the standard data drift metrics (ex. min, max, mean etc). A sophisticated data drift model is required to detect data drift in this case. The model is expected to fail here since there are few training samples in this region unless the model was overfit.  While monitoring, if the scoring jobs are in this range, the mat package should not observe any data drift but send an alert for model drift. \n"
   ]
  },
  {
   "cell_type": "code",
   "execution_count": 9,
   "metadata": {},
   "outputs": [
    {
     "name": "stdout",
     "output_type": "stream",
     "text": [
      "[[0.22553833]\n",
      " [0.30988068]\n",
      " [0.33961185]\n",
      " [0.39078233]\n",
      " [0.51895069]\n",
      " [0.51977669]\n",
      " [0.5144164 ]\n",
      " [0.5043754 ]\n",
      " [0.50185374]\n",
      " [0.84608919]\n",
      " [0.91816545]\n",
      " [0.91109078]]\n",
      "Accuracy of logistic regression classifier on test set: 0.75\n"
     ]
    }
   ],
   "source": [
    "X_test = X[N-7:N+7+N_aber:2]\n",
    "print(X_test)\n",
    "y_test = y[N-7:N+7+N_aber:2]\n",
    "print('Accuracy of logistic regression classifier on test set: {:.2f}'.format(model.score(X_test, y_test)))"
   ]
  },
  {
   "cell_type": "markdown",
   "metadata": {},
   "source": [
    "# Data drift exists but no model drift\n",
    "The third case is when `1.0 < x < 1.1` for every element `x` in `X_test`. There is data drift in this case since `x` is between 0 and 1 in the training set. Based on the trained model, it is reasonable to expect that any value of `x > 1` will result in `y = 1`. So, in this case if the observations for the target variable are also 1, there is no model drift.  While monitoring, if the scoring jobs are in this range and observations are 1 for the target variable, the mat package should alert for data drift but not for model drift. "
   ]
  },
  {
   "cell_type": "code",
   "execution_count": 10,
   "metadata": {},
   "outputs": [
    {
     "name": "stdout",
     "output_type": "stream",
     "text": [
      "[[1.09600212]\n",
      " [1.09302902]\n",
      " [1.05804199]\n",
      " [1.05965114]\n",
      " [1.01564412]\n",
      " [1.02386053]\n",
      " [1.0415256 ]\n",
      " [1.01075394]\n",
      " [1.03348371]\n",
      " [1.0176866 ]]\n",
      "Accuracy of logistic regression classifier on test set: 1.00\n"
     ]
    }
   ],
   "source": [
    "win_x = np.random.uniform(1.0,1.1, N_aber)\n",
    "X_test = win_x.reshape(-1,1)\n",
    "y_test = np.empty(N_aber)\n",
    "y_test.fill(1)\n",
    "print(X_test)\n",
    "print('Accuracy of logistic regression classifier on test set: {:.2f}'.format(model.score(X_test, y_test)))"
   ]
  },
  {
   "cell_type": "markdown",
   "metadata": {},
   "source": [
    "# Data drift exists and model drift exists \n",
    "The fourth case is when `1.1 < x < 1.2` for every element `x` in `X_test`. There is data drift in this case since `x` is between 0 and 1 in the training set. Based on the trained model, it is reasonable to expect that any value of `x > 1` will result in `y = 1`. So, in this case if the observations for the target variable are 0, there is model drift. While monitoring, if the scoring jobs are in this range and observations are 0 for the target variable, the mat package should alert for data drift as well as model drift.\n",
    "\n"
   ]
  },
  {
   "cell_type": "code",
   "execution_count": 11,
   "metadata": {},
   "outputs": [
    {
     "name": "stdout",
     "output_type": "stream",
     "text": [
      "[[1.12509623]\n",
      " [1.14142557]\n",
      " [1.17750409]\n",
      " [1.14368787]\n",
      " [1.14823627]\n",
      " [1.16904314]\n",
      " [1.10550578]\n",
      " [1.13891995]\n",
      " [1.18960168]\n",
      " [1.12418731]]\n",
      "Accuracy of logistic regression classifier on test set: 0.00\n"
     ]
    }
   ],
   "source": [
    "win_x = np.random.uniform(1.1,1.2, N_aber)\n",
    "X_test = win_x.reshape(-1,1)\n",
    "y_test = np.empty(N_aber)\n",
    "y_test.fill(0)\n",
    "print(X_test)\n",
    "print('Accuracy of logistic regression classifier on test set: {:.2f}'.format(model.score(X_test, y_test)))"
   ]
  },
  {
   "cell_type": "markdown",
   "metadata": {},
   "source": [
    "# Concept drift\n",
    "The fifth case is when the relationship of the target variable with the feature changes. For example, if in the future, the target variable `y` is observed to be 1 instead of 0 for `x < 0.48` then the current model becomes obsolete.   "
   ]
  },
  {
   "cell_type": "code",
   "execution_count": 12,
   "metadata": {},
   "outputs": [
    {
     "name": "stdout",
     "output_type": "stream",
     "text": [
      "[[0.19088447]\n",
      " [0.04598682]\n",
      " [0.23920322]\n",
      " [0.04776665]\n",
      " [0.24169188]\n",
      " [0.28626224]\n",
      " [0.31579585]\n",
      " [0.4004189 ]\n",
      " [0.36521872]\n",
      " [0.19987849]]\n",
      "Accuracy of logistic regression classifier on test set: 0.00\n"
     ]
    }
   ],
   "source": [
    "X_test = X[0:10]\n",
    "print(X_test)\n",
    "y_test = np.empty(N_aber)\n",
    "y_test.fill(1)\n",
    "print('Accuracy of logistic regression classifier on test set: {:.2f}'.format(model.score(X_test, y_test)))"
   ]
  },
  {
   "cell_type": "code",
   "execution_count": null,
   "metadata": {},
   "outputs": [],
   "source": []
  }
 ],
 "metadata": {
  "kernelspec": {
   "display_name": "Python 3 (ipykernel)",
   "language": "python",
   "name": "python3"
  },
  "language_info": {
   "codemirror_mode": {
    "name": "ipython",
    "version": 3
   },
   "file_extension": ".py",
   "mimetype": "text/x-python",
   "name": "python",
   "nbconvert_exporter": "python",
   "pygments_lexer": "ipython3",
   "version": "3.8.12"
  }
 },
 "nbformat": 4,
 "nbformat_minor": 4
}
