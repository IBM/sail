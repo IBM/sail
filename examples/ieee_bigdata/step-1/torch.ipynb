{
 "cells": [
  {
   "cell_type": "code",
   "execution_count": 1,
   "id": "011c86ab",
   "metadata": {},
   "outputs": [],
   "source": [
    "from sail.models.torch.onn_hbp import ONNHBPClassifier\n",
    "from sklearn.model_selection import train_test_split\n",
    "from sklearn.datasets import load_iris\n",
    "from sklearn.utils import gen_batches\n",
    "import numpy as np\n",
    "import torch\n",
    "\n",
    "from sail.transformers.river.preprocessing import StandardScaler"
   ]
  },
  {
   "cell_type": "markdown",
   "id": "3d398e54",
   "metadata": {},
   "source": [
    "### Load the Iris dataset\n"
   ]
  },
  {
   "cell_type": "code",
   "execution_count": 2,
   "id": "fdbf8069",
   "metadata": {},
   "outputs": [],
   "source": [
    "iris = load_iris()\n",
    "X = iris[\"data\"]\n",
    "y = iris[\"target\"]\n",
    "names = iris[\"target_names\"]\n",
    "feature_names = iris[\"feature_names\"]\n",
    "\n",
    "# Scale data to have mean 0 and variance 1\n",
    "# which is importance for convergence of the neural network\n",
    "scaler = StandardScaler()\n",
    "X_scaled = scaler.fit_transform(X)"
   ]
  },
  {
   "cell_type": "markdown",
   "id": "be5ec5d9",
   "metadata": {},
   "source": [
    "#### Split the data set into training and testing\n"
   ]
  },
  {
   "cell_type": "code",
   "execution_count": 3,
   "id": "7384ac40",
   "metadata": {},
   "outputs": [],
   "source": [
    "X_train, X_test, y_train, y_test = train_test_split(\n",
    "    X_scaled, y, test_size=0.2, random_state=2\n",
    ")"
   ]
  },
  {
   "cell_type": "markdown",
   "id": "a51ee696",
   "metadata": {},
   "source": [
    "#### Declare your model\n"
   ]
  },
  {
   "cell_type": "code",
   "execution_count": 4,
   "id": "50703b2f",
   "metadata": {},
   "outputs": [],
   "source": [
    "model_skorch = ONNHBPClassifier(\n",
    "    input_units=4, output_units=3, hidden_units=50, n_hidden_layers=3\n",
    ")"
   ]
  },
  {
   "cell_type": "markdown",
   "id": "1c438a51",
   "metadata": {},
   "source": [
    "### Train and test ONN on Iris dataset\n"
   ]
  },
  {
   "cell_type": "code",
   "execution_count": 5,
   "metadata": {
    "collapsed": false,
    "pycharm": {
     "name": "#%%\n"
    }
   },
   "outputs": [
    {
     "name": "stdout",
     "output_type": "stream",
     "text": [
      "  epoch    train_loss     dur\n",
      "-------  ------------  ------\n",
      "      1        \u001b[36m0.9625\u001b[0m  0.0337\n",
      "      2        1.0352  0.0021\n",
      "      3        1.1836  0.0018\n",
      "      4        1.0254  0.0017\n",
      "      5        1.1573  0.0016\n",
      "      6        1.0757  0.0015\n",
      "      7        \u001b[36m0.9411\u001b[0m  0.0016\n",
      "      8        1.1619  0.0021\n",
      "      9        1.2197  0.0017\n",
      "     10        0.9593  0.0031\n",
      "     11        1.1766  0.0030\n",
      "     12        1.1554  0.0037\n",
      "     13        0.9710  0.0035\n",
      "     14        1.1869  0.0019\n",
      "     15        1.0209  0.0019\n",
      "     16        0.9555  0.0017\n",
      "     17        1.0087  0.0020\n",
      "     18        1.1151  0.0032\n",
      "     19        1.0026  0.0019\n",
      "     20        0.9924  0.0019\n",
      "     21        0.9858  0.0017\n",
      "     22        1.0174  0.0016\n",
      "     23        1.0461  0.0017\n",
      "     24        0.9690  0.0017\n",
      "     25        0.9802  0.0017\n",
      "     26        \u001b[36m0.9308\u001b[0m  0.0016\n",
      "     27        0.9942  0.0017\n",
      "     28        \u001b[36m0.8474\u001b[0m  0.0017\n",
      "     29        0.8696  0.0016\n",
      "     30        0.9493  0.0016\n",
      "     31        0.9511  0.0017\n",
      "     32        0.9280  0.0020\n",
      "     33        1.2098  0.0019\n",
      "     34        1.2092  0.0016\n",
      "     35        \u001b[36m0.8168\u001b[0m  0.0016\n",
      "     36        0.8900  0.0015\n",
      "     37        1.1931  0.0016\n",
      "     38        0.9864  0.0015\n",
      "     39        1.1984  0.0020\n",
      "     40        0.9912  0.0018\n",
      "     41        0.9140  0.0016\n",
      "     42        1.2054  0.0018\n",
      "     43        1.1917  0.0017\n",
      "     44        0.9920  0.0015\n",
      "     45        1.1890  0.0016\n",
      "     46        1.1599  0.0015\n",
      "     47        1.1380  0.0018\n",
      "     48        \u001b[36m0.8116\u001b[0m  0.0018\n",
      "     49        0.9464  0.0019\n",
      "     50        1.1073  0.0017\n",
      "     51        0.9519  0.0015\n",
      "     52        1.1624  0.0017\n",
      "     53        0.8985  0.0017\n",
      "     54        0.9186  0.0017\n",
      "     55        1.1501  0.0019\n",
      "     56        0.9190  0.0016\n",
      "     57        0.9093  0.0017\n",
      "     58        0.9155  0.0016\n",
      "     59        0.8976  0.0016\n",
      "     60        0.9447  0.0016\n",
      "     61        0.9051  0.0015\n",
      "     62        0.8836  0.0017\n",
      "     63        0.8731  0.0019\n",
      "     64        \u001b[36m0.7562\u001b[0m  0.0016\n",
      "     65        1.1890  0.0015\n",
      "     66        0.8641  0.0015\n",
      "     67        1.1630  0.0016\n",
      "     68        1.1644  0.0016\n",
      "     69        0.8996  0.0017\n",
      "     70        0.8876  0.0016\n",
      "     71        0.8020  0.0016\n",
      "     72        0.9629  0.0016\n",
      "     73        0.8618  0.0016\n",
      "     74        0.8768  0.0016\n",
      "     75        0.9432  0.0016\n",
      "     76        0.8679  0.0016\n",
      "     77        0.8589  0.0018\n",
      "     78        1.1714  0.0019\n",
      "     79        0.8398  0.0019\n",
      "     80        1.1765  0.0015\n",
      "     81        0.9126  0.0017\n",
      "     82        1.1600  0.0016\n",
      "     83        1.1826  0.0017\n",
      "     84        0.8979  0.0017\n",
      "     85        1.1582  0.0021\n",
      "     86        1.1361  0.0019\n",
      "     87        1.1492  0.0016\n",
      "     88        0.9484  0.0016\n",
      "     89        1.1818  0.0016\n",
      "     90        0.9242  0.0017\n",
      "     91        1.1211  0.0015\n",
      "     92        0.8787  0.0016\n",
      "     93        1.1695  0.0017\n",
      "     94        1.1299  0.0016\n",
      "     95        1.1010  0.0016\n",
      "     96        1.1041  0.0016\n",
      "     97        0.9267  0.0015\n",
      "     98        1.0980  0.0016\n",
      "     99        0.8960  0.0015\n",
      "    100        0.8628  0.0018\n",
      "    101        0.9146  0.0017\n",
      "    102        1.0920  0.0016\n",
      "    103        0.8207  0.0016\n",
      "    104        0.8497  0.0017\n",
      "    105        0.8187  0.0016\n",
      "    106        0.8264  0.0016\n",
      "    107        0.8892  0.0019\n",
      "    108        0.8648  0.0021\n",
      "    109        0.8823  0.0018\n",
      "    110        1.1351  0.0016\n",
      "    111        0.8297  0.0015\n",
      "    112        0.8263  0.0015\n",
      "    113        1.1251  0.0017\n",
      "    114        0.8267  0.0017\n",
      "    115        0.8391  0.0019\n",
      "    116        1.1123  0.0021\n",
      "    117        0.8645  0.0029\n",
      "    118        0.7797  0.0039\n",
      "    119        1.1547  0.0034\n",
      "    120        0.8522  0.0051\n"
     ]
    }
   ],
   "source": [
    "batch_size = 1\n",
    "\n",
    "for batch in gen_batches(X_train.shape[0], batch_size):\n",
    "    x_batch = X_train[batch]\n",
    "    y_batch = y_train[batch]\n",
    "    partial_fit = model_skorch.partial_fit(x_batch, y_batch)"
   ]
  },
  {
   "cell_type": "markdown",
   "id": "3ca278d0",
   "metadata": {},
   "source": [
    "#### Predict on the hold out set\n"
   ]
  },
  {
   "cell_type": "code",
   "execution_count": 6,
   "id": "272c311d",
   "metadata": {},
   "outputs": [],
   "source": [
    "predict = model_skorch.predict(X_test)"
   ]
  },
  {
   "cell_type": "markdown",
   "id": "4a1e9dba",
   "metadata": {},
   "source": [
    "#### Score\n"
   ]
  },
  {
   "cell_type": "code",
   "execution_count": 7,
   "id": "05d68e97",
   "metadata": {},
   "outputs": [
    {
     "name": "stdout",
     "output_type": "stream",
     "text": [
      "0.7333333333333333\n"
     ]
    }
   ],
   "source": [
    "print(partial_fit.score(X_test, y_test))"
   ]
  },
  {
   "cell_type": "markdown",
   "metadata": {},
   "source": [
    "#### Classification Report\n"
   ]
  },
  {
   "cell_type": "code",
   "execution_count": 8,
   "metadata": {},
   "outputs": [
    {
     "name": "stdout",
     "output_type": "stream",
     "text": [
      "              precision    recall  f1-score   support\n",
      "\n",
      "           0       1.00      1.00      1.00        14\n",
      "           1       0.00      0.00      0.00         8\n",
      "           2       0.50      1.00      0.67         8\n",
      "\n",
      "    accuracy                           0.73        30\n",
      "   macro avg       0.50      0.67      0.56        30\n",
      "weighted avg       0.60      0.73      0.64        30\n",
      "\n"
     ]
    },
    {
     "name": "stderr",
     "output_type": "stream",
     "text": [
      "/Users/dhaval/.pyenv/versions/3.10.10/envs/sail/lib/python3.10/site-packages/sklearn/metrics/_classification.py:1469: UndefinedMetricWarning: Precision and F-score are ill-defined and being set to 0.0 in labels with no predicted samples. Use `zero_division` parameter to control this behavior.\n",
      "  _warn_prf(average, modifier, msg_start, len(result))\n",
      "/Users/dhaval/.pyenv/versions/3.10.10/envs/sail/lib/python3.10/site-packages/sklearn/metrics/_classification.py:1469: UndefinedMetricWarning: Precision and F-score are ill-defined and being set to 0.0 in labels with no predicted samples. Use `zero_division` parameter to control this behavior.\n",
      "  _warn_prf(average, modifier, msg_start, len(result))\n",
      "/Users/dhaval/.pyenv/versions/3.10.10/envs/sail/lib/python3.10/site-packages/sklearn/metrics/_classification.py:1469: UndefinedMetricWarning: Precision and F-score are ill-defined and being set to 0.0 in labels with no predicted samples. Use `zero_division` parameter to control this behavior.\n",
      "  _warn_prf(average, modifier, msg_start, len(result))\n"
     ]
    }
   ],
   "source": [
    "from sklearn.metrics import classification_report\n",
    "\n",
    "print(classification_report(y_test, predict))"
   ]
  }
 ],
 "metadata": {
  "kernelspec": {
   "display_name": "venv-sail",
   "language": "python",
   "name": "python3"
  },
  "language_info": {
   "codemirror_mode": {
    "name": "ipython",
    "version": 3
   },
   "file_extension": ".py",
   "mimetype": "text/x-python",
   "name": "python",
   "nbconvert_exporter": "python",
   "pygments_lexer": "ipython3",
   "version": "3.10.10"
  }
 },
 "nbformat": 4,
 "nbformat_minor": 5
}
