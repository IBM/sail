{
 "cells": [
  {
   "cell_type": "code",
   "execution_count": 1,
   "metadata": {},
   "outputs": [],
   "source": [
    "import numpy as np\n",
    "import pandas as pd\n",
    "from sail.models.river.forest import AdaptiveRandomForestClassifier\n",
    "from sail.pipeline import SAILPipeline\n",
    "from sklearn.impute import SimpleImputer\n",
    "from sail.transformers.river.preprocessing import StandardScaler"
   ]
  },
  {
   "attachments": {},
   "cell_type": "markdown",
   "metadata": {},
   "source": [
    "#### Load Data\n"
   ]
  },
  {
   "cell_type": "code",
   "execution_count": 4,
   "metadata": {},
   "outputs": [],
   "source": [
    "X = pd.read_csv(\"../../datasets/agrawal.csv\").head(5000)\n",
    "\n",
    "y = X[\"class\"]\n",
    "X.drop(\"class\", axis=1, inplace=True)"
   ]
  },
  {
   "attachments": {},
   "cell_type": "markdown",
   "metadata": {},
   "source": [
    "#### Model Definition\n"
   ]
  },
  {
   "cell_type": "code",
   "execution_count": 5,
   "metadata": {},
   "outputs": [],
   "source": [
    "random_forest = AdaptiveRandomForestClassifier(n_models=10)"
   ]
  },
  {
   "attachments": {},
   "cell_type": "markdown",
   "metadata": {},
   "source": [
    "#### Create SAIL Pipeline\n"
   ]
  },
  {
   "cell_type": "code",
   "execution_count": 6,
   "metadata": {},
   "outputs": [],
   "source": [
    "steps = [\n",
    "    (\"Imputer\", SimpleImputer(missing_values=np.nan, strategy=\"mean\")),\n",
    "    (\"standard_scalar\", StandardScaler()),\n",
    "    (\"classifier\", random_forest),\n",
    "]\n",
    "sail_pipeline = SAILPipeline(steps=steps, verbosity_level=1)"
   ]
  },
  {
   "attachments": {},
   "cell_type": "markdown",
   "metadata": {},
   "source": [
    "#### Train Test Split\n"
   ]
  },
  {
   "cell_type": "code",
   "execution_count": 7,
   "metadata": {},
   "outputs": [],
   "source": [
    "from sklearn.model_selection import train_test_split\n",
    "X_train, X_test, y_train, y_test = train_test_split(X, y, test_size=0.30, random_state=42)"
   ]
  },
  {
   "attachments": {},
   "cell_type": "markdown",
   "metadata": {},
   "source": [
    "#### Start Incremental Training\n"
   ]
  },
  {
   "cell_type": "code",
   "execution_count": 8,
   "metadata": {},
   "outputs": [
    {
     "name": "stderr",
     "output_type": "stream",
     "text": [
      "\n",
      "    \n",
      ">> Epoch: 1 | Samples Seen: 0 -------------------------------------------------------------------------------------\n",
      "SAIL Pipeline Partial fit: 100%========== [Steps: 3/3, ETA: 00:00<00:00, Elapsed:0.099s, Batch Size=100, P_Score=0]             \n",
      "\n",
      "    \n",
      ">> Epoch: 2 | Samples Seen: 100 -------------------------------------------------------------------------------------\n",
      "SAIL Pipeline Partial fit: 100%========== [Steps: 3/3, ETA: 00:00<00:00, Elapsed:0.077s, Batch Size=100, P_Score=0.86]             \n",
      "\n",
      "    \n",
      ">> Epoch: 3 | Samples Seen: 200 -------------------------------------------------------------------------------------\n",
      "SAIL Pipeline Partial fit: 100%========== [Steps: 3/3, ETA: 00:00<00:00, Elapsed:0.082s, Batch Size=100, P_Score=0.85]             \n",
      "\n",
      "    \n",
      ">> Epoch: 4 | Samples Seen: 300 -------------------------------------------------------------------------------------\n",
      "SAIL Pipeline Partial fit: 100%========== [Steps: 3/3, ETA: 00:00<00:00, Elapsed:0.076s, Batch Size=100, P_Score=0.883]             \n",
      "\n",
      "    \n",
      ">> Epoch: 5 | Samples Seen: 400 -------------------------------------------------------------------------------------\n",
      "SAIL Pipeline Partial fit: 100%========== [Steps: 3/3, ETA: 00:00<00:00, Elapsed:0.076s, Batch Size=100, P_Score=0.892]             \n",
      "\n",
      "    \n",
      ">> Epoch: 6 | Samples Seen: 500 -------------------------------------------------------------------------------------\n",
      "SAIL Pipeline Partial fit: 100%========== [Steps: 3/3, ETA: 00:00<00:00, Elapsed:0.078s, Batch Size=100, P_Score=0.888]             \n",
      "\n",
      "    \n",
      ">> Epoch: 7 | Samples Seen: 600 -------------------------------------------------------------------------------------\n",
      "SAIL Pipeline Partial fit: 100%========== [Steps: 3/3, ETA: 00:00<00:00, Elapsed:0.075s, Batch Size=100, P_Score=0.9]             \n",
      "\n",
      "    \n",
      ">> Epoch: 8 | Samples Seen: 700 -------------------------------------------------------------------------------------\n",
      "SAIL Pipeline Partial fit: 100%========== [Steps: 3/3, ETA: 00:00<00:00, Elapsed:0.080s, Batch Size=100, P_Score=0.901]             \n",
      "\n",
      "    \n",
      ">> Epoch: 9 | Samples Seen: 800 -------------------------------------------------------------------------------------\n",
      "SAIL Pipeline Partial fit: 100%========== [Steps: 3/3, ETA: 00:00<00:00, Elapsed:0.091s, Batch Size=100, P_Score=0.906]             \n",
      "\n",
      "    \n",
      ">> Epoch: 10 | Samples Seen: 900 -------------------------------------------------------------------------------------\n",
      "SAIL Pipeline Partial fit: 100%========== [Steps: 3/3, ETA: 00:00<00:00, Elapsed:0.082s, Batch Size=100, P_Score=0.906]             \n",
      "\n",
      "    \n",
      ">> Epoch: 11 | Samples Seen: 1000 -------------------------------------------------------------------------------------\n",
      "SAIL Pipeline Partial fit: 100%========== [Steps: 3/3, ETA: 00:00<00:00, Elapsed:0.139s, Batch Size=100, P_Score=0.908]             \n",
      "\n",
      "    \n",
      ">> Epoch: 12 | Samples Seen: 1100 -------------------------------------------------------------------------------------\n",
      "SAIL Pipeline Partial fit: 100%========== [Steps: 3/3, ETA: 00:00<00:00, Elapsed:0.083s, Batch Size=100, P_Score=0.912]             \n",
      "\n",
      "    \n",
      ">> Epoch: 13 | Samples Seen: 1200 -------------------------------------------------------------------------------------\n",
      "SAIL Pipeline Partial fit: 100%========== [Steps: 3/3, ETA: 00:00<00:00, Elapsed:0.081s, Batch Size=100, P_Score=0.912]             \n",
      "\n",
      "    \n",
      ">> Epoch: 14 | Samples Seen: 1300 -------------------------------------------------------------------------------------\n",
      "SAIL Pipeline Partial fit: 100%========== [Steps: 3/3, ETA: 00:00<00:00, Elapsed:0.081s, Batch Size=100, P_Score=0.912]             \n",
      "\n",
      "    \n",
      ">> Epoch: 15 | Samples Seen: 1400 -------------------------------------------------------------------------------------\n",
      "SAIL Pipeline Partial fit: 100%========== [Steps: 3/3, ETA: 00:00<00:00, Elapsed:0.084s, Batch Size=100, P_Score=0.914]             \n",
      "\n",
      "    \n",
      ">> Epoch: 16 | Samples Seen: 1500 -------------------------------------------------------------------------------------\n",
      "SAIL Pipeline Partial fit: 100%========== [Steps: 3/3, ETA: 00:00<00:00, Elapsed:0.086s, Batch Size=100, P_Score=0.914]             \n",
      "\n",
      "    \n",
      ">> Epoch: 17 | Samples Seen: 1600 -------------------------------------------------------------------------------------\n",
      "SAIL Pipeline Partial fit: 100%========== [Steps: 3/3, ETA: 00:00<00:00, Elapsed:0.084s, Batch Size=100, P_Score=0.917]             \n",
      "\n",
      "    \n",
      ">> Epoch: 18 | Samples Seen: 1700 -------------------------------------------------------------------------------------\n",
      "SAIL Pipeline Partial fit: 100%========== [Steps: 3/3, ETA: 00:00<00:00, Elapsed:0.082s, Batch Size=100, P_Score=0.918]             \n",
      "\n",
      "    \n",
      ">> Epoch: 19 | Samples Seen: 1800 -------------------------------------------------------------------------------------\n",
      "SAIL Pipeline Partial fit: 100%========== [Steps: 3/3, ETA: 00:00<00:00, Elapsed:0.080s, Batch Size=100, P_Score=0.92]             \n",
      "\n",
      "    \n",
      ">> Epoch: 20 | Samples Seen: 1900 -------------------------------------------------------------------------------------\n",
      "SAIL Pipeline Partial fit: 100%========== [Steps: 3/3, ETA: 00:00<00:00, Elapsed:0.081s, Batch Size=100, P_Score=0.921]             \n",
      "\n",
      "    \n",
      ">> Epoch: 21 | Samples Seen: 2000 -------------------------------------------------------------------------------------\n",
      "SAIL Pipeline Partial fit: 100%========== [Steps: 3/3, ETA: 00:00<00:00, Elapsed:0.078s, Batch Size=100, P_Score=0.922]             \n",
      "\n",
      "    \n",
      ">> Epoch: 22 | Samples Seen: 2100 -------------------------------------------------------------------------------------\n",
      "SAIL Pipeline Partial fit: 100%========== [Steps: 3/3, ETA: 00:00<00:00, Elapsed:0.086s, Batch Size=100, P_Score=0.923]             \n",
      "\n",
      "    \n",
      ">> Epoch: 23 | Samples Seen: 2200 -------------------------------------------------------------------------------------\n",
      "SAIL Pipeline Partial fit: 100%========== [Steps: 3/3, ETA: 00:00<00:00, Elapsed:0.089s, Batch Size=100, P_Score=0.924]             \n",
      "\n",
      "    \n",
      ">> Epoch: 24 | Samples Seen: 2300 -------------------------------------------------------------------------------------\n",
      "SAIL Pipeline Partial fit: 100%========== [Steps: 3/3, ETA: 00:00<00:00, Elapsed:0.087s, Batch Size=100, P_Score=0.923]             \n",
      "\n",
      "    \n",
      ">> Epoch: 25 | Samples Seen: 2400 -------------------------------------------------------------------------------------\n",
      "SAIL Pipeline Partial fit: 100%========== [Steps: 3/3, ETA: 00:00<00:00, Elapsed:0.089s, Batch Size=100, P_Score=0.924]             \n",
      "\n",
      "    \n",
      ">> Epoch: 26 | Samples Seen: 2500 -------------------------------------------------------------------------------------\n",
      "SAIL Pipeline Partial fit: 100%========== [Steps: 3/3, ETA: 00:00<00:00, Elapsed:0.095s, Batch Size=100, P_Score=0.925]             \n",
      "\n",
      "    \n",
      ">> Epoch: 27 | Samples Seen: 2600 -------------------------------------------------------------------------------------\n",
      "SAIL Pipeline Partial fit: 100%========== [Steps: 3/3, ETA: 00:00<00:00, Elapsed:0.088s, Batch Size=100, P_Score=0.924]             \n",
      "\n",
      "    \n",
      ">> Epoch: 28 | Samples Seen: 2700 -------------------------------------------------------------------------------------\n",
      "SAIL Pipeline Partial fit: 100%========== [Steps: 3/3, ETA: 00:00<00:00, Elapsed:0.090s, Batch Size=100, P_Score=0.922]             \n",
      "\n",
      "    \n",
      ">> Epoch: 29 | Samples Seen: 2800 -------------------------------------------------------------------------------------\n",
      "SAIL Pipeline Partial fit: 100%========== [Steps: 3/3, ETA: 00:00<00:00, Elapsed:0.091s, Batch Size=100, P_Score=0.924]             \n",
      "\n",
      "    \n",
      ">> Epoch: 30 | Samples Seen: 2900 -------------------------------------------------------------------------------------\n",
      "SAIL Pipeline Partial fit: 100%========== [Steps: 3/3, ETA: 00:00<00:00, Elapsed:0.094s, Batch Size=100, P_Score=0.925]             \n",
      "\n",
      "    \n",
      ">> Epoch: 31 | Samples Seen: 3000 -------------------------------------------------------------------------------------\n",
      "SAIL Pipeline Partial fit: 100%========== [Steps: 3/3, ETA: 00:00<00:00, Elapsed:0.103s, Batch Size=100, P_Score=0.925]             \n",
      "\n",
      "    \n",
      ">> Epoch: 32 | Samples Seen: 3100 -------------------------------------------------------------------------------------\n",
      "SAIL Pipeline Partial fit: 100%========== [Steps: 3/3, ETA: 00:00<00:00, Elapsed:0.099s, Batch Size=100, P_Score=0.926]             \n",
      "\n",
      "    \n",
      ">> Epoch: 33 | Samples Seen: 3200 -------------------------------------------------------------------------------------\n",
      "SAIL Pipeline Partial fit: 100%========== [Steps: 3/3, ETA: 00:00<00:00, Elapsed:0.100s, Batch Size=100, P_Score=0.925]             \n",
      "\n",
      "    \n",
      ">> Epoch: 34 | Samples Seen: 3300 -------------------------------------------------------------------------------------\n",
      "SAIL Pipeline Partial fit: 100%========== [Steps: 3/3, ETA: 00:00<00:00, Elapsed:0.095s, Batch Size=100, P_Score=0.926]             \n",
      "\n",
      "    \n",
      ">> Epoch: 35 | Samples Seen: 3400 -------------------------------------------------------------------------------------\n",
      "SAIL Pipeline Partial fit: 100%========== [Steps: 3/3, ETA: 00:00<00:00, Elapsed:0.095s, Batch Size=100, P_Score=0.928]             \n"
     ]
    }
   ],
   "source": [
    "y_preds = []\n",
    "y_true = []\n",
    "batch_size = 100\n",
    "\n",
    "for start in range(0, X_train.shape[0], batch_size):\n",
    "\n",
    "    end = start + batch_size\n",
    "\n",
    "    X = X_train.iloc[start:end]\n",
    "    y = y_train.iloc[start:end]\n",
    "\n",
    "\n",
    "    sail_pipeline.partial_fit(X, y, classifier__classes=[1, 0])"
   ]
  },
  {
   "attachments": {},
   "cell_type": "markdown",
   "metadata": {},
   "source": [
    "#### Save SAIL Pipeline\n"
   ]
  },
  {
   "cell_type": "code",
   "execution_count": 9,
   "metadata": {},
   "outputs": [
    {
     "name": "stderr",
     "output_type": "stream",
     "text": [
      "[2023-12-12 17:41:48:406] - INFO - SAIL (SAILModel) - Model saved successfully.\n"
     ]
    },
    {
     "data": {
      "text/plain": [
       "'./sail_pipeline'"
      ]
     },
     "execution_count": 9,
     "metadata": {},
     "output_type": "execute_result"
    }
   ],
   "source": [
    "sail_pipeline.save(\".\")"
   ]
  },
  {
   "attachments": {},
   "cell_type": "markdown",
   "metadata": {},
   "source": [
    "#### Load SAIL Pipeline\n"
   ]
  },
  {
   "cell_type": "code",
   "execution_count": 10,
   "metadata": {},
   "outputs": [
    {
     "name": "stderr",
     "output_type": "stream",
     "text": [
      "[2023-12-12 17:41:48:601] - INFO - SAIL (SAILModel) - Model loaded successfully.\n",
      "SAIL Pipeline Progressive Score: 100%========== [Points: 3400/3400, Elapsed:0.0049s, Metric=Accuracy, Batch Size=3400, P_Score=0.928]\n"
     ]
    }
   ],
   "source": [
    "sail_new_pipeline = SAILPipeline.load(\".\")"
   ]
  },
  {
   "attachments": {},
   "cell_type": "markdown",
   "metadata": {},
   "source": [
    "#### Make Prediction on the Hold out set\n"
   ]
  },
  {
   "cell_type": "code",
   "execution_count": 11,
   "metadata": {},
   "outputs": [],
   "source": [
    "y_preds = []\n",
    "y_true = []\n",
    "batch_size = 100\n",
    "\n",
    "for start in range(0, X_test.shape[0], batch_size):\n",
    "\n",
    "    end = start + batch_size\n",
    "\n",
    "    X = X_test.iloc[start:end]\n",
    "    y = y_test.iloc[start:end]\n",
    "\n",
    "    preds = sail_new_pipeline.predict(X)\n",
    "    y_preds.extend(list(preds))\n",
    "    y_true.extend(list(y))"
   ]
  },
  {
   "attachments": {},
   "cell_type": "markdown",
   "metadata": {},
   "source": [
    "#### Classification Report\n"
   ]
  },
  {
   "cell_type": "code",
   "execution_count": 12,
   "metadata": {},
   "outputs": [
    {
     "name": "stdout",
     "output_type": "stream",
     "text": [
      "              precision    recall  f1-score   support\n",
      "\n",
      "           0       0.94      0.97      0.96       992\n",
      "           1       0.94      0.89      0.91       508\n",
      "\n",
      "    accuracy                           0.94      1500\n",
      "   macro avg       0.94      0.93      0.93      1500\n",
      "weighted avg       0.94      0.94      0.94      1500\n",
      "\n"
     ]
    }
   ],
   "source": [
    "from sklearn.metrics import confusion_matrix, classification_report\n",
    "\n",
    "print(classification_report(y_true, y_preds))"
   ]
  },
  {
   "attachments": {},
   "cell_type": "markdown",
   "metadata": {},
   "source": [
    "#### Plot confusion matrix\n"
   ]
  },
  {
   "cell_type": "code",
   "execution_count": 13,
   "metadata": {},
   "outputs": [
    {
     "data": {
      "text/plain": [
       "<Axes: >"
      ]
     },
     "execution_count": 13,
     "metadata": {},
     "output_type": "execute_result"
    },
    {
     "data": {
      "image/png": "[encoded data removed]",
      "text/plain": [
       "<Figure size 640x480 with 2 Axes>"
      ]
     },
     "metadata": {},
     "output_type": "display_data"
    }
   ],
   "source": [
    "import seaborn as sns\n",
    "\n",
    "cf_matrix = confusion_matrix(y_true, y_preds)\n",
    "sns.heatmap(cf_matrix/np.sum(cf_matrix), annot=True, fmt='.2%', cmap='Blues')"
   ]
  }
 ],
 "metadata": {
  "kernelspec": {
   "display_name": "sail",
   "language": "python",
   "name": "python3"
  },
  "language_info": {
   "codemirror_mode": {
    "name": "ipython",
    "version": 3
   },
   "file_extension": ".py",
   "mimetype": "text/x-python",
   "name": "python",
   "nbconvert_exporter": "python",
   "pygments_lexer": "ipython3",
   "version": "3.10.10"
  },
  "orig_nbformat": 4
 },
 "nbformat": 4,
 "nbformat_minor": 2
}
