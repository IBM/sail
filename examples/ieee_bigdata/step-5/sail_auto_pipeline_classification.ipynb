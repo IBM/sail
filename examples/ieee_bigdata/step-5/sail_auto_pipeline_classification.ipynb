{
 "cells": [
  {
   "cell_type": "code",
   "execution_count": 1,
   "metadata": {},
   "outputs": [],
   "source": [
    "import numpy as np\n",
    "import pandas as pd\n",
    "from river import optim\n",
    "from river import metrics\n",
    "from river.drift.binary import EDDM\n",
    "from sail.telemetry import TracingClient\n",
    "from sail.models.auto_ml.tune import SAILTuneGridSearchCV\n",
    "from sail.models.river.forest import AdaptiveRandomForestClassifier\n",
    "from sail.models.river.linear_model import LogisticRegression\n",
    "from sail.models.keras import KerasSequentialClassifier\n",
    "from sail.models.auto_ml.auto_pipeline import SAILAutoPipeline\n",
    "from sail.pipeline import SAILPipeline\n",
    "from sklearn.impute import SimpleImputer\n",
    "from sail.drift_detection.drift_detector import SAILDriftDetector\n",
    "from sail.transformers.river.preprocessing import StandardScaler"
   ]
  },
  {
   "attachments": {},
   "cell_type": "markdown",
   "metadata": {},
   "source": [
    "#### Load Data\n"
   ]
  },
  {
   "cell_type": "code",
   "execution_count": 2,
   "metadata": {},
   "outputs": [],
   "source": [
    "X = pd.read_csv(\"../../datasets/agrawal.csv\").head(50000)\n",
    "\n",
    "y = X[\"class\"]\n",
    "X.drop(\"class\", axis=1, inplace=True)"
   ]
  },
  {
   "attachments": {},
   "cell_type": "markdown",
   "metadata": {},
   "source": [
    "#### Model Definition\n"
   ]
  },
  {
   "cell_type": "code",
   "execution_count": 3,
   "metadata": {},
   "outputs": [],
   "source": [
    "logistic_reg = LogisticRegression(optimizer=optim.SGD(0.1))\n",
    "random_forest = AdaptiveRandomForestClassifier(n_models=10)\n",
    "keras = KerasSequentialClassifier(\n",
    "    num_hidden_nodes=[10],\n",
    "    hidden_layer_activation=[\"relu\"],\n",
    "    num_output_nodes=1,\n",
    "    outer_layer_activation=\"sigmoid\",\n",
    ")"
   ]
  },
  {
   "attachments": {},
   "cell_type": "markdown",
   "metadata": {},
   "source": [
    "#### Create SAIL Pipeline\n"
   ]
  },
  {
   "cell_type": "code",
   "execution_count": 4,
   "metadata": {},
   "outputs": [],
   "source": [
    "steps = [\n",
    "    (\"Imputer\", SimpleImputer(missing_values=np.nan, strategy=\"mean\")),\n",
    "    (\"standard_scalar\", StandardScaler()),\n",
    "    (\"classifier\", \"passthrough\"),\n",
    "]\n",
    "sail_pipeline = SAILPipeline(\n",
    "    steps=steps, scoring=[metrics.Accuracy], verbosity_level=1, verbosity_interval=1\n",
    ")"
   ]
  },
  {
   "attachments": {},
   "cell_type": "markdown",
   "metadata": {},
   "source": [
    "#### HPO Params\n"
   ]
  },
  {
   "cell_type": "code",
   "execution_count": 5,
   "metadata": {},
   "outputs": [],
   "source": [
    "params_grid = [\n",
    "    {\n",
    "        \"classifier\": [logistic_reg],\n",
    "        \"classifier__l2\": [0.1, 0.9],\n",
    "        \"classifier__intercept_init\": [0.2, 0.5],\n",
    "    },\n",
    "    {\n",
    "        \"classifier\": [random_forest],\n",
    "        \"classifier__n_models\": [5, 10],\n",
    "        \"Imputer\": [\"passthrough\"],\n",
    "    },\n",
    "    {\"classifier\": [keras], \"classifier__num_hidden_nodes\": [[5], [10]]},\n",
    "]"
   ]
  },
  {
   "attachments": {},
   "cell_type": "markdown",
   "metadata": {},
   "source": [
    "#### Create Model Instance\n"
   ]
  },
  {
   "cell_type": "code",
   "execution_count": 6,
   "metadata": {},
   "outputs": [
    {
     "name": "stderr",
     "output_type": "stream",
     "text": [
      "[2023-12-15 17:40:07:494] - INFO - SAIL (PipelineStrategy) - Pipeline Strategy [DetectAndIncrement] created with actions: ['DATA_COLLECTION', 'FIND_BEST_PIPELINE', 'SCORE_AND_DETECT_DRIFT', 'PARTIAL_FIT_MODEL']\n"
     ]
    }
   ],
   "source": [
    "tracer = TracingClient(\n",
    "    service_name=\"SAILAutoPipeline-Classification\",\n",
    "    otlp_endpoint=\"http://83.212.75.52:31318\",\n",
    ")\n",
    "\n",
    "auto_pipeline = SAILAutoPipeline(\n",
    "    pipeline=sail_pipeline,\n",
    "    pipeline_params_grid=params_grid,\n",
    "    search_method=SAILTuneGridSearchCV,\n",
    "    search_method_params={\n",
    "        \"num_cpus_per_trial\": 1,\n",
    "        \"max_iters\": 1,\n",
    "        \"early_stopping\": False,\n",
    "        \"mode\": \"max\",\n",
    "        \"scoring\": \"accuracy\",\n",
    "        \"pipeline_auto_early_stop\": False,\n",
    "        \"keep_best_configurations\": 2,\n",
    "    },\n",
    "    search_data_size=1000,\n",
    "    incremental_training=True,\n",
    "    drift_detector=SAILDriftDetector(model=EDDM(), drift_param=\"score\"),\n",
    "    pipeline_strategy=\"DetectAndIncrement\",\n",
    "    verbosity_level=1,\n",
    "    verbosity_interval=1,\n",
    "    tensorboard_log_dir=\"/Users/dhaval/Projects/Tensorboard_logs\",\n",
    "    tracer=tracer,\n",
    ")"
   ]
  },
  {
   "attachments": {},
   "cell_type": "markdown",
   "metadata": {},
   "source": [
    "#### Start Training\n"
   ]
  },
  {
   "cell_type": "code",
   "execution_count": 7,
   "metadata": {},
   "outputs": [
    {
     "data": {
      "text/html": [
       "<div class=\"tuneStatus\">\n",
       "  <div style=\"display: flex;flex-direction: row\">\n",
       "    <div style=\"display: flex;flex-direction: column;\">\n",
       "      <h3>Tune Status</h3>\n",
       "      <table>\n",
       "<tbody>\n",
       "<tr><td>Current time:</td><td>2023-12-15 12:49:20</td></tr>\n",
       "<tr><td>Running for: </td><td>00:00:22.32        </td></tr>\n",
       "<tr><td>Memory:      </td><td>35.1/64.0 GiB      </td></tr>\n",
       "</tbody>\n",
       "</table>\n",
       "    </div>\n",
       "    <div class=\"vDivider\"></div>\n",
       "    <div class=\"systemInfo\">\n",
       "      <h3>System Info</h3>\n",
       "      Using FIFO scheduling algorithm.<br>Logical resource usage: 2.0/10 CPUs, 0/0 GPUs\n",
       "    </div>\n",
       "    \n",
       "  </div>\n",
       "  <div class=\"hDivider\"></div>\n",
       "  <div class=\"trialStatus\">\n",
       "    <h3>Trial Status</h3>\n",
       "    <table>\n",
       "<thead>\n",
       "<tr><th>Trial name         </th><th>status    </th><th>loc            </th><th>Imputer    </th><th>classifier          </th><th style=\"text-align: right;\">    classifier__intercep\n",
       "t_init</th><th style=\"text-align: right;\">  classifier__l2</th><th style=\"text-align: right;\">  classifier__n_models</th><th>classifier__num_hidd\n",
       "en_nodes     </th><th style=\"text-align: right;\">  iter</th><th style=\"text-align: right;\">  total time (s)</th><th style=\"text-align: right;\">  split0_test_score</th><th style=\"text-align: right;\">  split1_test_score</th><th style=\"text-align: right;\">  split2_test_score</th></tr>\n",
       "</thead>\n",
       "<tbody>\n",
       "<tr><td>_Trainable_f4e968c2</td><td>TERMINATED</td><td>127.0.0.1:89255</td><td>           </td><td>LogisticRegress_2500</td><td style=\"text-align: right;\">0.2</td><td style=\"text-align: right;\">             0.1</td><td style=\"text-align: right;\">                      </td><td>    </td><td style=\"text-align: right;\">     1</td><td style=\"text-align: right;\">        0.111307</td><td style=\"text-align: right;\">              0.59 </td><td style=\"text-align: right;\">              0.655</td><td style=\"text-align: right;\">              0.545</td></tr>\n",
       "<tr><td>_Trainable_ccb08788</td><td>TERMINATED</td><td>127.0.0.1:89255</td><td>           </td><td>LogisticRegress_6440</td><td style=\"text-align: right;\">0.2</td><td style=\"text-align: right;\">             0.9</td><td style=\"text-align: right;\">                      </td><td>    </td><td style=\"text-align: right;\">     1</td><td style=\"text-align: right;\">        0.115576</td><td style=\"text-align: right;\">              0.67 </td><td style=\"text-align: right;\">              0.68 </td><td style=\"text-align: right;\">              0.63 </td></tr>\n",
       "<tr><td>_Trainable_fb54eee1</td><td>TERMINATED</td><td>127.0.0.1:89255</td><td>           </td><td>LogisticRegress_b5e0</td><td style=\"text-align: right;\">0.5</td><td style=\"text-align: right;\">             0.1</td><td style=\"text-align: right;\">                      </td><td>    </td><td style=\"text-align: right;\">     1</td><td style=\"text-align: right;\">        0.11294 </td><td style=\"text-align: right;\">              0.585</td><td style=\"text-align: right;\">              0.65 </td><td style=\"text-align: right;\">              0.55 </td></tr>\n",
       "<tr><td>_Trainable_a31f2e20</td><td>TERMINATED</td><td>127.0.0.1:89255</td><td>           </td><td>LogisticRegress_e020</td><td style=\"text-align: right;\">0.5</td><td style=\"text-align: right;\">             0.9</td><td style=\"text-align: right;\">                      </td><td>    </td><td style=\"text-align: right;\">     1</td><td style=\"text-align: right;\">        0.13684 </td><td style=\"text-align: right;\">              0.665</td><td style=\"text-align: right;\">              0.68 </td><td style=\"text-align: right;\">              0.63 </td></tr>\n",
       "<tr><td>_Trainable_5f5e0ad0</td><td>TERMINATED</td><td>127.0.0.1:89255</td><td>passthrough</td><td>AdaptiveRandomF_f160</td><td style=\"text-align: right;\">   </td><td style=\"text-align: right;\">                </td><td style=\"text-align: right;\">                     5</td><td>    </td><td style=\"text-align: right;\">     1</td><td style=\"text-align: right;\">        1.78228 </td><td style=\"text-align: right;\">              0.805</td><td style=\"text-align: right;\">              0.92 </td><td style=\"text-align: right;\">              0.925</td></tr>\n",
       "<tr><td>_Trainable_f7cb0b18</td><td>TERMINATED</td><td>127.0.0.1:89255</td><td>passthrough</td><td>AdaptiveRandomF_e650</td><td style=\"text-align: right;\">   </td><td style=\"text-align: right;\">                </td><td style=\"text-align: right;\">                    10</td><td>    </td><td style=\"text-align: right;\">     1</td><td style=\"text-align: right;\">        3.04542 </td><td style=\"text-align: right;\">              0.865</td><td style=\"text-align: right;\">              0.915</td><td style=\"text-align: right;\">              0.83 </td></tr>\n",
       "<tr><td>_Trainable_1a54529f</td><td>TERMINATED</td><td>127.0.0.1:89255</td><td>           </td><td>KerasSequential_69e0</td><td style=\"text-align: right;\">   </td><td style=\"text-align: right;\">                </td><td style=\"text-align: right;\">                      </td><td>[5] </td><td style=\"text-align: right;\">     1</td><td style=\"text-align: right;\">        1.88833 </td><td style=\"text-align: right;\">              0.385</td><td style=\"text-align: right;\">              0.615</td><td style=\"text-align: right;\">              0.45 </td></tr>\n",
       "<tr><td>_Trainable_0d63cfe6</td><td>TERMINATED</td><td>127.0.0.1:89255</td><td>           </td><td>KerasSequential_08e0</td><td style=\"text-align: right;\">   </td><td style=\"text-align: right;\">                </td><td style=\"text-align: right;\">                      </td><td>[10]</td><td style=\"text-align: right;\">     1</td><td style=\"text-align: right;\">        1.90762 </td><td style=\"text-align: right;\">              0.59 </td><td style=\"text-align: right;\">              0.395</td><td style=\"text-align: right;\">              0.535</td></tr>\n",
       "</tbody>\n",
       "</table>\n",
       "  </div>\n",
       "</div>\n",
       "<style>\n",
       ".tuneStatus {\n",
       "  color: var(--jp-ui-font-color1);\n",
       "}\n",
       ".tuneStatus .systemInfo {\n",
       "  display: flex;\n",
       "  flex-direction: column;\n",
       "}\n",
       ".tuneStatus td {\n",
       "  white-space: nowrap;\n",
       "}\n",
       ".tuneStatus .trialStatus {\n",
       "  display: flex;\n",
       "  flex-direction: column;\n",
       "}\n",
       ".tuneStatus h3 {\n",
       "  font-weight: bold;\n",
       "}\n",
       ".tuneStatus .hDivider {\n",
       "  border-bottom-width: var(--jp-border-width);\n",
       "  border-bottom-color: var(--jp-border-color0);\n",
       "  border-bottom-style: solid;\n",
       "}\n",
       ".tuneStatus .vDivider {\n",
       "  border-left-width: var(--jp-border-width);\n",
       "  border-left-color: var(--jp-border-color0);\n",
       "  border-left-style: solid;\n",
       "  margin: 0.5em 1em 0.5em 1em;\n",
       "}\n",
       "</style>\n"
      ],
      "text/plain": [
       "<IPython.core.display.HTML object>"
      ]
     },
     "metadata": {},
     "output_type": "display_data"
    },
    {
     "name": "stderr",
     "output_type": "stream",
     "text": [
      "WARNING:absl:Found untraced functions such as _update_step_xla while saving (showing 1 of 1). These functions will not be directly callable after loading.\n"
     ]
    },
    {
     "name": "stdout",
     "output_type": "stream",
     "text": [
      "INFO:tensorflow:Assets written to: ram://2831d841267b4541aeb94328912a33e8/assets\n"
     ]
    },
    {
     "name": "stderr",
     "output_type": "stream",
     "text": [
      "INFO:tensorflow:Assets written to: ram://2831d841267b4541aeb94328912a33e8/assets\n",
      "WARNING:absl:Found untraced functions such as _update_step_xla while saving (showing 1 of 1). These functions will not be directly callable after loading.\n"
     ]
    },
    {
     "name": "stdout",
     "output_type": "stream",
     "text": [
      "INFO:tensorflow:Assets written to: ram://da088f5f74aa4768a7c3c3a9948caa8d/assets\n"
     ]
    },
    {
     "name": "stderr",
     "output_type": "stream",
     "text": [
      "INFO:tensorflow:Assets written to: ram://da088f5f74aa4768a7c3c3a9948caa8d/assets\n",
      "2023-12-15 12:49:03.892371: W tensorflow/core/util/tensor_slice_reader.cc:96] Could not open ram://bdc9cae1fa5a4c65bb5cfb02446307b5: INVALID_ARGUMENT: ram://bdc9cae1fa5a4c65bb5cfb02446307b5 is a directory.\n",
      "WARNING:absl:Found untraced functions such as _update_step_xla while saving (showing 1 of 1). These functions will not be directly callable after loading.\n"
     ]
    },
    {
     "name": "stdout",
     "output_type": "stream",
     "text": [
      "INFO:tensorflow:Assets written to: ram://a87b7422eb7b4629af07fec614a9c72a/assets\n"
     ]
    },
    {
     "name": "stderr",
     "output_type": "stream",
     "text": [
      "INFO:tensorflow:Assets written to: ram://a87b7422eb7b4629af07fec614a9c72a/assets\n",
      "2023-12-15 12:49:04.403792: W tensorflow/core/util/tensor_slice_reader.cc:96] Could not open ram://db4fd4554a714ff691d670fb300d7fe9: INVALID_ARGUMENT: ram://db4fd4554a714ff691d670fb300d7fe9 is a directory.\n",
      "WARNING:absl:Found untraced functions such as _update_step_xla while saving (showing 1 of 1). These functions will not be directly callable after loading.\n"
     ]
    },
    {
     "name": "stdout",
     "output_type": "stream",
     "text": [
      "INFO:tensorflow:Assets written to: ram://dea6ed8dfa674bc48db26f5a3677b1fb/assets\n"
     ]
    },
    {
     "name": "stderr",
     "output_type": "stream",
     "text": [
      "INFO:tensorflow:Assets written to: ram://dea6ed8dfa674bc48db26f5a3677b1fb/assets\n",
      "2023-12-15 12:49:05.006645: W tensorflow/core/util/tensor_slice_reader.cc:96] Could not open ram://ee98551a49f640a5be8320317eccaeca: INVALID_ARGUMENT: ram://ee98551a49f640a5be8320317eccaeca is a directory.\n",
      "WARNING:absl:Found untraced functions such as _update_step_xla while saving (showing 1 of 1). These functions will not be directly callable after loading.\n"
     ]
    },
    {
     "name": "stdout",
     "output_type": "stream",
     "text": [
      "INFO:tensorflow:Assets written to: ram://903e472905594cc58e2e7f99e76f5f5c/assets\n"
     ]
    },
    {
     "name": "stderr",
     "output_type": "stream",
     "text": [
      "INFO:tensorflow:Assets written to: ram://903e472905594cc58e2e7f99e76f5f5c/assets\n",
      "WARNING:absl:Found untraced functions such as _update_step_xla while saving (showing 1 of 1). These functions will not be directly callable after loading.\n"
     ]
    },
    {
     "name": "stdout",
     "output_type": "stream",
     "text": [
      "INFO:tensorflow:Assets written to: ram://1784b02dce4749ca9c106ac0ab67e01f/assets\n"
     ]
    },
    {
     "name": "stderr",
     "output_type": "stream",
     "text": [
      "INFO:tensorflow:Assets written to: ram://1784b02dce4749ca9c106ac0ab67e01f/assets\n",
      "2023-12-15 12:49:06.712500: W tensorflow/core/util/tensor_slice_reader.cc:96] Could not open ram://2520d30015ed45fc915d7f3ef045daea: INVALID_ARGUMENT: ram://2520d30015ed45fc915d7f3ef045daea is a directory.\n",
      "WARNING:absl:Found untraced functions such as _update_step_xla while saving (showing 1 of 1). These functions will not be directly callable after loading.\n"
     ]
    },
    {
     "name": "stdout",
     "output_type": "stream",
     "text": [
      "INFO:tensorflow:Assets written to: ram://f9c803c3a487463da2e98bca63b87ad7/assets\n"
     ]
    },
    {
     "name": "stderr",
     "output_type": "stream",
     "text": [
      "INFO:tensorflow:Assets written to: ram://f9c803c3a487463da2e98bca63b87ad7/assets\n"
     ]
    },
    {
     "name": "stdout",
     "output_type": "stream",
     "text": [
      "WARNING:tensorflow:Detecting that an object or model or tf.train.Checkpoint is being deleted with unrestored values. See the following logs for the specific values in question. To silence these warnings, use `status.expect_partial()`. See https://www.tensorflow.org/api_docs/python/tf/train/Checkpoint#restorefor details about the status object returned by the restore function.\n"
     ]
    },
    {
     "name": "stderr",
     "output_type": "stream",
     "text": [
      "WARNING:tensorflow:Detecting that an object or model or tf.train.Checkpoint is being deleted with unrestored values. See the following logs for the specific values in question. To silence these warnings, use `status.expect_partial()`. See https://www.tensorflow.org/api_docs/python/tf/train/Checkpoint#restorefor details about the status object returned by the restore function.\n"
     ]
    },
    {
     "name": "stdout",
     "output_type": "stream",
     "text": [
      "WARNING:tensorflow:Value in checkpoint could not be found in the restored object: (root).keras_api.metrics.0.total\n"
     ]
    },
    {
     "name": "stderr",
     "output_type": "stream",
     "text": [
      "WARNING:tensorflow:Value in checkpoint could not be found in the restored object: (root).keras_api.metrics.0.total\n"
     ]
    },
    {
     "name": "stdout",
     "output_type": "stream",
     "text": [
      "WARNING:tensorflow:Value in checkpoint could not be found in the restored object: (root).keras_api.metrics.0.count\n"
     ]
    },
    {
     "name": "stderr",
     "output_type": "stream",
     "text": [
      "WARNING:tensorflow:Value in checkpoint could not be found in the restored object: (root).keras_api.metrics.0.count\n"
     ]
    },
    {
     "name": "stdout",
     "output_type": "stream",
     "text": [
      "WARNING:tensorflow:Value in checkpoint could not be found in the restored object: (root).keras_api.metrics.1.total\n"
     ]
    },
    {
     "name": "stderr",
     "output_type": "stream",
     "text": [
      "WARNING:tensorflow:Value in checkpoint could not be found in the restored object: (root).keras_api.metrics.1.total\n"
     ]
    },
    {
     "name": "stdout",
     "output_type": "stream",
     "text": [
      "WARNING:tensorflow:Value in checkpoint could not be found in the restored object: (root).keras_api.metrics.1.count\n"
     ]
    },
    {
     "name": "stderr",
     "output_type": "stream",
     "text": [
      "WARNING:tensorflow:Value in checkpoint could not be found in the restored object: (root).keras_api.metrics.1.count\n"
     ]
    },
    {
     "name": "stdout",
     "output_type": "stream",
     "text": [
      "WARNING:tensorflow:Detecting that an object or model or tf.train.Checkpoint is being deleted with unrestored values. See the following logs for the specific values in question. To silence these warnings, use `status.expect_partial()`. See https://www.tensorflow.org/api_docs/python/tf/train/Checkpoint#restorefor details about the status object returned by the restore function.\n"
     ]
    },
    {
     "name": "stderr",
     "output_type": "stream",
     "text": [
      "WARNING:tensorflow:Detecting that an object or model or tf.train.Checkpoint is being deleted with unrestored values. See the following logs for the specific values in question. To silence these warnings, use `status.expect_partial()`. See https://www.tensorflow.org/api_docs/python/tf/train/Checkpoint#restorefor details about the status object returned by the restore function.\n"
     ]
    },
    {
     "name": "stdout",
     "output_type": "stream",
     "text": [
      "WARNING:tensorflow:Value in checkpoint could not be found in the restored object: (root).keras_api.metrics.0.total\n"
     ]
    },
    {
     "name": "stderr",
     "output_type": "stream",
     "text": [
      "WARNING:tensorflow:Value in checkpoint could not be found in the restored object: (root).keras_api.metrics.0.total\n"
     ]
    },
    {
     "name": "stdout",
     "output_type": "stream",
     "text": [
      "WARNING:tensorflow:Value in checkpoint could not be found in the restored object: (root).keras_api.metrics.0.count\n"
     ]
    },
    {
     "name": "stderr",
     "output_type": "stream",
     "text": [
      "WARNING:tensorflow:Value in checkpoint could not be found in the restored object: (root).keras_api.metrics.0.count\n"
     ]
    },
    {
     "name": "stdout",
     "output_type": "stream",
     "text": [
      "WARNING:tensorflow:Value in checkpoint could not be found in the restored object: (root).keras_api.metrics.1.total\n"
     ]
    },
    {
     "name": "stderr",
     "output_type": "stream",
     "text": [
      "WARNING:tensorflow:Value in checkpoint could not be found in the restored object: (root).keras_api.metrics.1.total\n"
     ]
    },
    {
     "name": "stdout",
     "output_type": "stream",
     "text": [
      "WARNING:tensorflow:Value in checkpoint could not be found in the restored object: (root).keras_api.metrics.1.count\n"
     ]
    },
    {
     "name": "stderr",
     "output_type": "stream",
     "text": [
      "WARNING:tensorflow:Value in checkpoint could not be found in the restored object: (root).keras_api.metrics.1.count\n",
      "WARNING:absl:Found untraced functions such as _update_step_xla while saving (showing 1 of 1). These functions will not be directly callable after loading.\n"
     ]
    },
    {
     "name": "stdout",
     "output_type": "stream",
     "text": [
      "INFO:tensorflow:Assets written to: ram://bca2dd336a184b49b3ced3caf7d17397/assets\n"
     ]
    },
    {
     "name": "stderr",
     "output_type": "stream",
     "text": [
      "INFO:tensorflow:Assets written to: ram://bca2dd336a184b49b3ced3caf7d17397/assets\n",
      "WARNING:absl:Found untraced functions such as _update_step_xla while saving (showing 1 of 1). These functions will not be directly callable after loading.\n"
     ]
    },
    {
     "name": "stdout",
     "output_type": "stream",
     "text": [
      "INFO:tensorflow:Assets written to: ram://0f75c5cfb2a242879b31f3b110919481/assets\n"
     ]
    },
    {
     "name": "stderr",
     "output_type": "stream",
     "text": [
      "INFO:tensorflow:Assets written to: ram://0f75c5cfb2a242879b31f3b110919481/assets\n",
      "\u001b[2m\u001b[36m(_Trainable pid=89286)\u001b[0m 2023-12-15 12:49:09.383291: W tensorflow/core/util/tensor_slice_reader.cc:96] Could not open ram://a7378daff262450eb54e6b68bf910657: INVALID_ARGUMENT: ram://a7378daff262450eb54e6b68bf910657 is a directory.\n",
      "WARNING:absl:Found untraced functions such as _update_step_xla while saving (showing 1 of 1). These functions will not be directly callable after loading.\n"
     ]
    },
    {
     "name": "stdout",
     "output_type": "stream",
     "text": [
      "INFO:tensorflow:Assets written to: ram://c586081fe31b44d09f5c4cf2f8cedd51/assets\n"
     ]
    },
    {
     "name": "stderr",
     "output_type": "stream",
     "text": [
      "\u001b[2m\u001b[36m(_Trainable pid=89286)\u001b[0m WARNING:absl:Found untraced functions such as _update_step_xla while saving (showing 1 of 1). These functions will not be directly callable after loading.\n",
      "INFO:tensorflow:Assets written to: ram://c586081fe31b44d09f5c4cf2f8cedd51/assets\n",
      "WARNING:absl:Found untraced functions such as _update_step_xla while saving (showing 1 of 1). These functions will not be directly callable after loading.\n"
     ]
    },
    {
     "name": "stdout",
     "output_type": "stream",
     "text": [
      "INFO:tensorflow:Assets written to: ram://73a72312ded14e88a6ae6b6d62dbd627/assets\n"
     ]
    },
    {
     "name": "stderr",
     "output_type": "stream",
     "text": [
      "INFO:tensorflow:Assets written to: ram://73a72312ded14e88a6ae6b6d62dbd627/assets\n",
      "WARNING:absl:Found untraced functions such as _update_step_xla while saving (showing 1 of 1). These functions will not be directly callable after loading.\n"
     ]
    },
    {
     "name": "stdout",
     "output_type": "stream",
     "text": [
      "INFO:tensorflow:Assets written to: ram://33cc1f7e44fb4628a26501d2d97f58e8/assets\n"
     ]
    },
    {
     "name": "stderr",
     "output_type": "stream",
     "text": [
      "INFO:tensorflow:Assets written to: ram://33cc1f7e44fb4628a26501d2d97f58e8/assets\n",
      "WARNING:absl:Found untraced functions such as _update_step_xla while saving (showing 1 of 1). These functions will not be directly callable after loading.\n"
     ]
    },
    {
     "name": "stdout",
     "output_type": "stream",
     "text": [
      "INFO:tensorflow:Assets written to: ram://3cb08f77cb1946639d1eb16da1e23255/assets\n"
     ]
    },
    {
     "name": "stderr",
     "output_type": "stream",
     "text": [
      "\u001b[2m\u001b[36m(_Trainable pid=89255)\u001b[0m 2023-12-15 12:49:10.636002: W tensorflow/tsl/platform/profile_utils/cpu_utils.cc:128] Failed to get CPU frequency: 0 Hz\n",
      "INFO:tensorflow:Assets written to: ram://3cb08f77cb1946639d1eb16da1e23255/assets\n",
      "2023-12-15 12:49:11.162241: W tensorflow/core/util/tensor_slice_reader.cc:96] Could not open ram://613a63c7eaa24f96af9106d342aa18af: INVALID_ARGUMENT: ram://613a63c7eaa24f96af9106d342aa18af is a directory.\n",
      "WARNING:absl:Found untraced functions such as _update_step_xla while saving (showing 1 of 1). These functions will not be directly callable after loading.\n"
     ]
    },
    {
     "name": "stdout",
     "output_type": "stream",
     "text": [
      "INFO:tensorflow:Assets written to: ram://6298ce1f1fea47ddabc42307bdab86bb/assets\n"
     ]
    },
    {
     "name": "stderr",
     "output_type": "stream",
     "text": [
      "INFO:tensorflow:Assets written to: ram://6298ce1f1fea47ddabc42307bdab86bb/assets\n",
      "2023-12-15 12:49:11.689596: W tensorflow/core/util/tensor_slice_reader.cc:96] Could not open ram://5391e0813254419ba8239b02da4adb51: INVALID_ARGUMENT: ram://5391e0813254419ba8239b02da4adb51 is a directory.\n",
      "WARNING:absl:Found untraced functions such as _update_step_xla while saving (showing 1 of 1). These functions will not be directly callable after loading.\n"
     ]
    },
    {
     "name": "stdout",
     "output_type": "stream",
     "text": [
      "INFO:tensorflow:Assets written to: ram://1108d28392314ba4b312342007dd5dc0/assets\n"
     ]
    },
    {
     "name": "stderr",
     "output_type": "stream",
     "text": [
      "INFO:tensorflow:Assets written to: ram://1108d28392314ba4b312342007dd5dc0/assets\n",
      "2023-12-15 12:49:12.319049: W tensorflow/core/util/tensor_slice_reader.cc:96] Could not open ram://33752d7ec4e0440bacaac081218fcb1c: INVALID_ARGUMENT: ram://33752d7ec4e0440bacaac081218fcb1c is a directory.\n",
      "WARNING:absl:Found untraced functions such as _update_step_xla while saving (showing 1 of 1). These functions will not be directly callable after loading.\n"
     ]
    },
    {
     "name": "stdout",
     "output_type": "stream",
     "text": [
      "INFO:tensorflow:Assets written to: ram://78374a67698a4bc48cbfca66f321207e/assets\n"
     ]
    },
    {
     "name": "stderr",
     "output_type": "stream",
     "text": [
      "INFO:tensorflow:Assets written to: ram://78374a67698a4bc48cbfca66f321207e/assets\n"
     ]
    },
    {
     "name": "stdout",
     "output_type": "stream",
     "text": [
      "WARNING:tensorflow:Detecting that an object or model or tf.train.Checkpoint is being deleted with unrestored values. See the following logs for the specific values in question. To silence these warnings, use `status.expect_partial()`. See https://www.tensorflow.org/api_docs/python/tf/train/Checkpoint#restorefor details about the status object returned by the restore function.\n"
     ]
    },
    {
     "name": "stderr",
     "output_type": "stream",
     "text": [
      "WARNING:tensorflow:Detecting that an object or model or tf.train.Checkpoint is being deleted with unrestored values. See the following logs for the specific values in question. To silence these warnings, use `status.expect_partial()`. See https://www.tensorflow.org/api_docs/python/tf/train/Checkpoint#restorefor details about the status object returned by the restore function.\n"
     ]
    },
    {
     "name": "stdout",
     "output_type": "stream",
     "text": [
      "WARNING:tensorflow:Value in checkpoint could not be found in the restored object: (root).keras_api.metrics.0.total\n"
     ]
    },
    {
     "name": "stderr",
     "output_type": "stream",
     "text": [
      "WARNING:tensorflow:Value in checkpoint could not be found in the restored object: (root).keras_api.metrics.0.total\n"
     ]
    },
    {
     "name": "stdout",
     "output_type": "stream",
     "text": [
      "WARNING:tensorflow:Value in checkpoint could not be found in the restored object: (root).keras_api.metrics.0.count\n"
     ]
    },
    {
     "name": "stderr",
     "output_type": "stream",
     "text": [
      "WARNING:tensorflow:Value in checkpoint could not be found in the restored object: (root).keras_api.metrics.0.count\n"
     ]
    },
    {
     "name": "stdout",
     "output_type": "stream",
     "text": [
      "WARNING:tensorflow:Value in checkpoint could not be found in the restored object: (root).keras_api.metrics.1.total\n"
     ]
    },
    {
     "name": "stderr",
     "output_type": "stream",
     "text": [
      "WARNING:tensorflow:Value in checkpoint could not be found in the restored object: (root).keras_api.metrics.1.total\n"
     ]
    },
    {
     "name": "stdout",
     "output_type": "stream",
     "text": [
      "WARNING:tensorflow:Value in checkpoint could not be found in the restored object: (root).keras_api.metrics.1.count\n"
     ]
    },
    {
     "name": "stderr",
     "output_type": "stream",
     "text": [
      "WARNING:tensorflow:Value in checkpoint could not be found in the restored object: (root).keras_api.metrics.1.count\n",
      "2023-12-15 12:49:13.113170: W tensorflow/core/util/tensor_slice_reader.cc:96] Could not open ram://1d4f72c89a8e4c5fbb2ea539192215e3: INVALID_ARGUMENT: ram://1d4f72c89a8e4c5fbb2ea539192215e3 is a directory.\n",
      "WARNING:absl:Found untraced functions such as _update_step_xla while saving (showing 1 of 1). These functions will not be directly callable after loading.\n"
     ]
    },
    {
     "name": "stdout",
     "output_type": "stream",
     "text": [
      "INFO:tensorflow:Assets written to: ram://2df14e92d8cb495ab59cfa9af44bd623/assets\n"
     ]
    },
    {
     "name": "stderr",
     "output_type": "stream",
     "text": [
      "INFO:tensorflow:Assets written to: ram://2df14e92d8cb495ab59cfa9af44bd623/assets\n",
      "2023-12-15 12:49:13.617145: W tensorflow/core/util/tensor_slice_reader.cc:96] Could not open ram://308679d48ded4178b013a5a3ec3d3880: INVALID_ARGUMENT: ram://308679d48ded4178b013a5a3ec3d3880 is a directory.\n",
      "WARNING:absl:Found untraced functions such as _update_step_xla while saving (showing 1 of 1). These functions will not be directly callable after loading.\n"
     ]
    },
    {
     "name": "stdout",
     "output_type": "stream",
     "text": [
      "INFO:tensorflow:Assets written to: ram://0a1978e3072542f7bfa7c99624ab710e/assets\n"
     ]
    },
    {
     "name": "stderr",
     "output_type": "stream",
     "text": [
      "INFO:tensorflow:Assets written to: ram://0a1978e3072542f7bfa7c99624ab710e/assets\n",
      "WARNING:absl:Found untraced functions such as _update_step_xla while saving (showing 1 of 1). These functions will not be directly callable after loading.\n"
     ]
    },
    {
     "name": "stdout",
     "output_type": "stream",
     "text": [
      "INFO:tensorflow:Assets written to: ram://9e782a0517914e199e320e3c0687d1f7/assets\n"
     ]
    },
    {
     "name": "stderr",
     "output_type": "stream",
     "text": [
      "\u001b[2m\u001b[36m(_Trainable pid=89255)\u001b[0m 2023-12-15 12:49:14.276643: W tensorflow/core/util/tensor_slice_reader.cc:96] Could not open ram://2e388a97f2414c13b8a42e66dac8131d: INVALID_ARGUMENT: ram://2e388a97f2414c13b8a42e66dac8131d is a directory.\u001b[32m [repeated 3x across cluster] (Ray deduplicates logs by default. Set RAY_DEDUP_LOGS=0 to disable log deduplication, or see https://docs.ray.io/en/master/ray-observability/ray-logging.html#log-deduplication for more options.)\u001b[0m\n",
      "INFO:tensorflow:Assets written to: ram://9e782a0517914e199e320e3c0687d1f7/assets\n",
      "2023-12-15 12:49:15.412849: W tensorflow/core/util/tensor_slice_reader.cc:96] Could not open ram://aaeb218a02974e8a958684acda5cdf12: INVALID_ARGUMENT: ram://aaeb218a02974e8a958684acda5cdf12 is a directory.\n",
      "\u001b[2m\u001b[36m(_Trainable pid=89255)\u001b[0m WARNING:absl:Found untraced functions such as _update_step_xla while saving (showing 1 of 1). These functions will not be directly callable after loading.\u001b[32m [repeated 4x across cluster]\u001b[0m\n",
      "\u001b[2m\u001b[36m(_Trainable pid=89255)\u001b[0m WARNING:tensorflow:Detecting that an object or model or tf.train.Checkpoint is being deleted with unrestored values. See the following logs for the specific values in question. To silence these warnings, use `status.expect_partial()`. See https://www.tensorflow.org/api_docs/python/tf/train/Checkpoint#restorefor details about the status object returned by the restore function.\n",
      "\u001b[2m\u001b[36m(_Trainable pid=89255)\u001b[0m WARNING:tensorflow:Detecting that an object or model or tf.train.Checkpoint is being deleted with unrestored values. See the following logs for the specific values in question. To silence these warnings, use `status.expect_partial()`. See https://www.tensorflow.org/api_docs/python/tf/train/Checkpoint#restorefor details about the status object returned by the restore function.\n",
      "\u001b[2m\u001b[36m(_Trainable pid=89255)\u001b[0m WARNING:tensorflow:Value in checkpoint could not be found in the restored object: (root).keras_api.metrics.0.total\n",
      "\u001b[2m\u001b[36m(_Trainable pid=89255)\u001b[0m WARNING:tensorflow:Value in checkpoint could not be found in the restored object: (root).keras_api.metrics.0.total\n",
      "\u001b[2m\u001b[36m(_Trainable pid=89255)\u001b[0m WARNING:tensorflow:Value in checkpoint could not be found in the restored object: (root).keras_api.metrics.0.count\n",
      "\u001b[2m\u001b[36m(_Trainable pid=89255)\u001b[0m WARNING:tensorflow:Value in checkpoint could not be found in the restored object: (root).keras_api.metrics.0.count\n",
      "\u001b[2m\u001b[36m(_Trainable pid=89255)\u001b[0m WARNING:tensorflow:Value in checkpoint could not be found in the restored object: (root).keras_api.metrics.1.total\n",
      "\u001b[2m\u001b[36m(_Trainable pid=89255)\u001b[0m WARNING:tensorflow:Value in checkpoint could not be found in the restored object: (root).keras_api.metrics.1.total\n",
      "\u001b[2m\u001b[36m(_Trainable pid=89255)\u001b[0m WARNING:tensorflow:Value in checkpoint could not be found in the restored object: (root).keras_api.metrics.1.count\n",
      "\u001b[2m\u001b[36m(_Trainable pid=89255)\u001b[0m WARNING:tensorflow:Value in checkpoint could not be found in the restored object: (root).keras_api.metrics.1.count\n"
     ]
    },
    {
     "name": "stdout",
     "output_type": "stream",
     "text": [
      "WARNING:tensorflow:Detecting that an object or model or tf.train.Checkpoint is being deleted with unrestored values. See the following logs for the specific values in question. To silence these warnings, use `status.expect_partial()`. See https://www.tensorflow.org/api_docs/python/tf/train/Checkpoint#restorefor details about the status object returned by the restore function.\n"
     ]
    },
    {
     "name": "stderr",
     "output_type": "stream",
     "text": [
      "WARNING:tensorflow:Detecting that an object or model or tf.train.Checkpoint is being deleted with unrestored values. See the following logs for the specific values in question. To silence these warnings, use `status.expect_partial()`. See https://www.tensorflow.org/api_docs/python/tf/train/Checkpoint#restorefor details about the status object returned by the restore function.\n"
     ]
    },
    {
     "name": "stdout",
     "output_type": "stream",
     "text": [
      "WARNING:tensorflow:Value in checkpoint could not be found in the restored object: (root).keras_api.metrics.0.total\n"
     ]
    },
    {
     "name": "stderr",
     "output_type": "stream",
     "text": [
      "WARNING:tensorflow:Value in checkpoint could not be found in the restored object: (root).keras_api.metrics.0.total\n"
     ]
    },
    {
     "name": "stdout",
     "output_type": "stream",
     "text": [
      "WARNING:tensorflow:Value in checkpoint could not be found in the restored object: (root).keras_api.metrics.0.count\n"
     ]
    },
    {
     "name": "stderr",
     "output_type": "stream",
     "text": [
      "WARNING:tensorflow:Value in checkpoint could not be found in the restored object: (root).keras_api.metrics.0.count\n"
     ]
    },
    {
     "name": "stdout",
     "output_type": "stream",
     "text": [
      "WARNING:tensorflow:Value in checkpoint could not be found in the restored object: (root).keras_api.metrics.1.total\n"
     ]
    },
    {
     "name": "stderr",
     "output_type": "stream",
     "text": [
      "WARNING:tensorflow:Value in checkpoint could not be found in the restored object: (root).keras_api.metrics.1.total\n"
     ]
    },
    {
     "name": "stdout",
     "output_type": "stream",
     "text": [
      "WARNING:tensorflow:Value in checkpoint could not be found in the restored object: (root).keras_api.metrics.1.count\n"
     ]
    },
    {
     "name": "stderr",
     "output_type": "stream",
     "text": [
      "WARNING:tensorflow:Value in checkpoint could not be found in the restored object: (root).keras_api.metrics.1.count\n",
      "2023-12-15 12:49:17.386835: W tensorflow/core/util/tensor_slice_reader.cc:96] Could not open ram://c0bd5adc149f43458d31fc799ec8b731: INVALID_ARGUMENT: ram://c0bd5adc149f43458d31fc799ec8b731 is a directory.\n",
      "WARNING:absl:Found untraced functions such as _update_step_xla while saving (showing 1 of 1). These functions will not be directly callable after loading.\n"
     ]
    },
    {
     "name": "stdout",
     "output_type": "stream",
     "text": [
      "INFO:tensorflow:Assets written to: ram://dfa3a0eb34be482ea2415094c81dcbe7/assets\n"
     ]
    },
    {
     "name": "stderr",
     "output_type": "stream",
     "text": [
      "INFO:tensorflow:Assets written to: ram://dfa3a0eb34be482ea2415094c81dcbe7/assets\n",
      "WARNING:absl:Found untraced functions such as _update_step_xla while saving (showing 1 of 1). These functions will not be directly callable after loading.\n"
     ]
    },
    {
     "name": "stdout",
     "output_type": "stream",
     "text": [
      "INFO:tensorflow:Assets written to: ram://3b5a4057c4684d0c8bf8114e7cd25095/assets\n"
     ]
    },
    {
     "name": "stderr",
     "output_type": "stream",
     "text": [
      "INFO:tensorflow:Assets written to: ram://3b5a4057c4684d0c8bf8114e7cd25095/assets\n",
      "WARNING:absl:Found untraced functions such as _update_step_xla while saving (showing 1 of 1). These functions will not be directly callable after loading.\n"
     ]
    },
    {
     "name": "stdout",
     "output_type": "stream",
     "text": [
      "INFO:tensorflow:Assets written to: ram://59ca7f1c7f2f4096b167606d53ae2b91/assets\n"
     ]
    },
    {
     "name": "stderr",
     "output_type": "stream",
     "text": [
      "INFO:tensorflow:Assets written to: ram://59ca7f1c7f2f4096b167606d53ae2b91/assets\n",
      "WARNING:absl:Found untraced functions such as _update_step_xla while saving (showing 1 of 1). These functions will not be directly callable after loading.\n"
     ]
    },
    {
     "name": "stdout",
     "output_type": "stream",
     "text": [
      "INFO:tensorflow:Assets written to: ram://3f9d4b66efbf4f6e98093bba68e0be48/assets\n"
     ]
    },
    {
     "name": "stderr",
     "output_type": "stream",
     "text": [
      "INFO:tensorflow:Assets written to: ram://3f9d4b66efbf4f6e98093bba68e0be48/assets\n",
      "WARNING:absl:Found untraced functions such as _update_step_xla while saving (showing 1 of 1). These functions will not be directly callable after loading.\n"
     ]
    },
    {
     "name": "stdout",
     "output_type": "stream",
     "text": [
      "INFO:tensorflow:Assets written to: ram://da4bda6e86514ed68683a8018a28ce04/assets\n"
     ]
    },
    {
     "name": "stderr",
     "output_type": "stream",
     "text": [
      "INFO:tensorflow:Assets written to: ram://da4bda6e86514ed68683a8018a28ce04/assets\n",
      "WARNING:absl:Found untraced functions such as _update_step_xla while saving (showing 1 of 1). These functions will not be directly callable after loading.\n"
     ]
    },
    {
     "name": "stdout",
     "output_type": "stream",
     "text": [
      "INFO:tensorflow:Assets written to: ram://0d3bb9c7c8c6483893d16eb8b31a6ce0/assets\n"
     ]
    },
    {
     "name": "stderr",
     "output_type": "stream",
     "text": [
      "INFO:tensorflow:Assets written to: ram://0d3bb9c7c8c6483893d16eb8b31a6ce0/assets\n",
      "WARNING:absl:Found untraced functions such as _update_step_xla while saving (showing 1 of 1). These functions will not be directly callable after loading.\n"
     ]
    },
    {
     "name": "stdout",
     "output_type": "stream",
     "text": [
      "INFO:tensorflow:Assets written to: ram://f45da5c469fb47bd89699a4c2a554145/assets\n"
     ]
    },
    {
     "name": "stderr",
     "output_type": "stream",
     "text": [
      "INFO:tensorflow:Assets written to: ram://f45da5c469fb47bd89699a4c2a554145/assets\n",
      "WARNING:absl:Found untraced functions such as _update_step_xla while saving (showing 1 of 1). These functions will not be directly callable after loading.\n"
     ]
    },
    {
     "name": "stdout",
     "output_type": "stream",
     "text": [
      "INFO:tensorflow:Assets written to: ram://6ca00b3f11554f3da051830aa450ccda/assets\n"
     ]
    },
    {
     "name": "stderr",
     "output_type": "stream",
     "text": [
      "INFO:tensorflow:Assets written to: ram://6ca00b3f11554f3da051830aa450ccda/assets\n",
      "INFO:ray.tune.tune:Total run time: 22.36 seconds (19.35 seconds for the tuning loop).\n",
      "\u001b[2m\u001b[36m(_Trainable pid=89296)\u001b[0m 2023-12-15 12:49:17.118429: W tensorflow/core/util/tensor_slice_reader.cc:96] Could not open ram://89622cf5bcb345ce819fa4fcc0fdfe41: INVALID_ARGUMENT: ram://89622cf5bcb345ce819fa4fcc0fdfe41 is a directory.\u001b[32m [repeated 2x across cluster]\u001b[0m\n",
      "\u001b[2m\u001b[36m(_Trainable pid=89296)\u001b[0m WARNING:absl:Found untraced functions such as _update_step_xla while saving (showing 1 of 1). These functions will not be directly callable after loading.\u001b[32m [repeated 2x across cluster]\u001b[0m\n",
      "[2023-12-15 12:49:22:218] - INFO - SAIL (PipelineStrategy) - Pipeline tuning completed. Disconnecting Ray cluster...\n",
      "[2023-12-15 12:49:22:220] - INFO - SAIL (PipelineStrategy) - Found best params: {'Imputer': 'passthrough', 'classifier': AdaptiveRandomForestClassifier(drift_detector=ADWIN (\n",
      "      delta=0.001\n",
      "      clock=32\n",
      "      max_buckets=5\n",
      "      min_window_length=5\n",
      "      grace_period=10\n",
      "    ),\n",
      "                                   metric=Accuracy: 0.00%, n_models=5,\n",
      "                                   warning_detector=ADWIN (\n",
      "      delta=0.01\n",
      "      clock=32\n",
      "      max_buckets=5\n",
      "      min_window_length=5\n",
      "      grace_period=10\n",
      "    )), 'classifier__n_models': 5}\n",
      "\n",
      "    \n",
      ">> Epoch: 21 | Samples Seen: 1000 -------------------------------------------------------------------------------------\n",
      "SAIL Pipeline Progressive Score: 100%========== [Points: 50/50, Elapsed:0.0020s, Metric=Accuracy, Batch Size=50, P_Score=0.8]\n",
      "SAIL Drift detection: 100%========== [Points: 1/1, Elapsed:0.0011s, Detector=EDDM, Param=score, Drift=No]\n",
      "[2023-12-15 12:49:22:268] - INFO - SAIL (TensorboardWriter) - Sending training output to Tensorboard logs. Please run `tensorboard --logdir /Users/dhaval/Projects/Tensorboard_logs/Training_Logs` in terminal to start tensorboard server and track training progress.\n",
      "SAIL Pipeline Partial fit: 100%========== [Steps: 2/2, ETA: 00:00<00:00, Elapsed:0.036s, Batch Size=50, P_Score=0.8]             \n",
      "\n",
      "    \n",
      ">> Epoch: 22 | Samples Seen: 1050 -------------------------------------------------------------------------------------\n",
      "SAIL Pipeline Progressive Score: 100%========== [Points: 50/50, Elapsed:0.0025s, Metric=Accuracy, Batch Size=50, P_Score=0.86]\n",
      "SAIL Drift detection: 100%========== [Points: 1/1, Elapsed:0.0011s, Detector=EDDM, Param=score, Drift=No]\n",
      "SAIL Pipeline Partial fit: 100%========== [Steps: 2/2, ETA: 00:00<00:00, Elapsed:0.028s, Batch Size=50, P_Score=0.86]             \n",
      "\n",
      "    \n",
      ">> Epoch: 23 | Samples Seen: 1100 -------------------------------------------------------------------------------------\n",
      "SAIL Pipeline Progressive Score: 100%========== [Points: 50/50, Elapsed:0.0015s, Metric=Accuracy, Batch Size=50, P_Score=0.813]\n",
      "SAIL Drift detection: 100%========== [Points: 1/1, Elapsed:0.0010s, Detector=EDDM, Param=score, Drift=No]\n",
      "SAIL Pipeline Partial fit: 100%========== [Steps: 2/2, ETA: 00:00<00:00, Elapsed:0.034s, Batch Size=50, P_Score=0.813]             \n",
      "\n",
      "    \n",
      ">> Epoch: 24 | Samples Seen: 1150 -------------------------------------------------------------------------------------\n",
      "SAIL Pipeline Progressive Score: 100%========== [Points: 50/50, Elapsed:0.0020s, Metric=Accuracy, Batch Size=50, P_Score=0.835]\n",
      "SAIL Drift detection: 100%========== [Points: 1/1, Elapsed:0.0010s, Detector=EDDM, Param=score, Drift=No]\n",
      "SAIL Pipeline Partial fit: 100%========== [Steps: 2/2, ETA: 00:00<00:00, Elapsed:0.024s, Batch Size=50, P_Score=0.835]             \n",
      "\n",
      "    \n",
      ">> Epoch: 25 | Samples Seen: 1200 -------------------------------------------------------------------------------------\n",
      "SAIL Pipeline Progressive Score: 100%========== [Points: 50/50, Elapsed:0.0014s, Metric=Accuracy, Batch Size=50, P_Score=0.836]\n",
      "SAIL Drift detection: 100%========== [Points: 1/1, Elapsed:0.0011s, Detector=EDDM, Param=score, Drift=No]\n",
      "SAIL Pipeline Partial fit: 100%========== [Steps: 2/2, ETA: 00:00<00:00, Elapsed:0.027s, Batch Size=50, P_Score=0.836]             \n",
      "\n",
      "    \n",
      ">> Epoch: 26 | Samples Seen: 1250 -------------------------------------------------------------------------------------\n",
      "SAIL Pipeline Progressive Score: 100%========== [Points: 50/50, Elapsed:0.0013s, Metric=Accuracy, Batch Size=50, P_Score=0.84]\n",
      "SAIL Drift detection: 100%========== [Points: 1/1, Elapsed:0.0011s, Detector=EDDM, Param=score, Drift=No]\n",
      "SAIL Pipeline Partial fit: 100%========== [Steps: 2/2, ETA: 00:00<00:00, Elapsed:0.031s, Batch Size=50, P_Score=0.84]             \n",
      "\n",
      "    \n",
      ">> Epoch: 27 | Samples Seen: 1300 -------------------------------------------------------------------------------------\n",
      "SAIL Pipeline Progressive Score: 100%========== [Points: 50/50, Elapsed:0.0014s, Metric=Accuracy, Batch Size=50, P_Score=0.851]\n",
      "SAIL Drift detection: 100%========== [Points: 1/1, Elapsed:0.0009s, Detector=EDDM, Param=score, Drift=No]\n",
      "SAIL Pipeline Partial fit: 100%========== [Steps: 2/2, ETA: 00:00<00:00, Elapsed:0.026s, Batch Size=50, P_Score=0.851]             \n",
      "\n",
      "    \n",
      ">> Epoch: 28 | Samples Seen: 1350 -------------------------------------------------------------------------------------\n",
      "SAIL Pipeline Progressive Score: 100%========== [Points: 50/50, Elapsed:0.0015s, Metric=Accuracy, Batch Size=50, P_Score=0.86]\n",
      "SAIL Drift detection: 100%========== [Points: 1/1, Elapsed:0.0009s, Detector=EDDM, Param=score, Drift=No]\n",
      "SAIL Pipeline Partial fit: 100%========== [Steps: 2/2, ETA: 00:00<00:00, Elapsed:0.028s, Batch Size=50, P_Score=0.86]             \n",
      "\n",
      "    \n",
      ">> Epoch: 29 | Samples Seen: 1400 -------------------------------------------------------------------------------------\n",
      "SAIL Pipeline Progressive Score: 100%========== [Points: 50/50, Elapsed:0.0014s, Metric=Accuracy, Batch Size=50, P_Score=0.86]\n",
      "SAIL Drift detection: 100%========== [Points: 1/1, Elapsed:0.0010s, Detector=EDDM, Param=score, Drift=No]\n",
      "SAIL Pipeline Partial fit: 100%========== [Steps: 2/2, ETA: 00:00<00:00, Elapsed:0.029s, Batch Size=50, P_Score=0.86]             \n",
      "\n",
      "    \n",
      ">> Epoch: 30 | Samples Seen: 1450 -------------------------------------------------------------------------------------\n",
      "SAIL Pipeline Progressive Score: 100%========== [Points: 50/50, Elapsed:0.0017s, Metric=Accuracy, Batch Size=50, P_Score=0.858]\n",
      "SAIL Drift detection: 100%========== [Points: 1/1, Elapsed:0.0009s, Detector=EDDM, Param=score, Drift=No]\n",
      "SAIL Pipeline Partial fit: 100%========== [Steps: 2/2, ETA: 00:00<00:00, Elapsed:0.024s, Batch Size=50, P_Score=0.858]             \n",
      "\n",
      "    \n",
      ">> Epoch: 31 | Samples Seen: 1500 -------------------------------------------------------------------------------------\n",
      "SAIL Pipeline Progressive Score: 100%========== [Points: 50/50, Elapsed:0.0013s, Metric=Accuracy, Batch Size=50, P_Score=0.864]\n",
      "SAIL Drift detection: 100%========== [Points: 1/1, Elapsed:0.0012s, Detector=EDDM, Param=score, Drift=No]\n",
      "SAIL Pipeline Partial fit: 100%========== [Steps: 2/2, ETA: 00:00<00:00, Elapsed:0.025s, Batch Size=50, P_Score=0.864]             \n",
      "\n",
      "    \n",
      ">> Epoch: 32 | Samples Seen: 1550 -------------------------------------------------------------------------------------\n",
      "SAIL Pipeline Progressive Score: 100%========== [Points: 50/50, Elapsed:0.0014s, Metric=Accuracy, Batch Size=50, P_Score=0.863]\n",
      "SAIL Drift detection: 100%========== [Points: 1/1, Elapsed:0.0009s, Detector=EDDM, Param=score, Drift=No]\n",
      "SAIL Pipeline Partial fit: 100%========== [Steps: 2/2, ETA: 00:00<00:00, Elapsed:0.027s, Batch Size=50, P_Score=0.863]             \n",
      "\n",
      "    \n",
      ">> Epoch: 33 | Samples Seen: 1600 -------------------------------------------------------------------------------------\n",
      "SAIL Pipeline Progressive Score: 100%========== [Points: 50/50, Elapsed:0.0017s, Metric=Accuracy, Batch Size=50, P_Score=0.863]\n",
      "SAIL Drift detection: 100%========== [Points: 1/1, Elapsed:0.0013s, Detector=EDDM, Param=score, Drift=No]\n",
      "SAIL Pipeline Partial fit: 100%========== [Steps: 2/2, ETA: 00:00<00:00, Elapsed:0.031s, Batch Size=50, P_Score=0.863]             \n",
      "\n",
      "    \n",
      ">> Epoch: 34 | Samples Seen: 1650 -------------------------------------------------------------------------------------\n",
      "SAIL Pipeline Progressive Score: 100%========== [Points: 50/50, Elapsed:0.0017s, Metric=Accuracy, Batch Size=50, P_Score=0.866]\n",
      "SAIL Drift detection: 100%========== [Points: 1/1, Elapsed:0.0010s, Detector=EDDM, Param=score, Drift=No]\n",
      "SAIL Pipeline Partial fit: 100%========== [Steps: 2/2, ETA: 00:00<00:00, Elapsed:0.031s, Batch Size=50, P_Score=0.866]             \n",
      "\n",
      "    \n",
      ">> Epoch: 35 | Samples Seen: 1700 -------------------------------------------------------------------------------------\n",
      "SAIL Pipeline Progressive Score: 100%========== [Points: 50/50, Elapsed:0.0016s, Metric=Accuracy, Batch Size=50, P_Score=0.871]\n",
      "SAIL Drift detection: 100%========== [Points: 1/1, Elapsed:0.0008s, Detector=EDDM, Param=score, Drift=No]\n",
      "SAIL Pipeline Partial fit: 100%========== [Steps: 2/2, ETA: 00:00<00:00, Elapsed:0.026s, Batch Size=50, P_Score=0.871]             \n",
      "\n",
      "    \n",
      ">> Epoch: 36 | Samples Seen: 1750 -------------------------------------------------------------------------------------\n",
      "SAIL Pipeline Progressive Score: 100%========== [Points: 50/50, Elapsed:0.0014s, Metric=Accuracy, Batch Size=50, P_Score=0.874]\n",
      "SAIL Drift detection: 100%========== [Points: 1/1, Elapsed:0.0009s, Detector=EDDM, Param=score, Drift=No]\n",
      "SAIL Pipeline Partial fit: 100%========== [Steps: 2/2, ETA: 00:00<00:00, Elapsed:0.030s, Batch Size=50, P_Score=0.874]             \n",
      "\n",
      "    \n",
      ">> Epoch: 37 | Samples Seen: 1800 -------------------------------------------------------------------------------------\n",
      "SAIL Pipeline Progressive Score: 100%========== [Points: 50/50, Elapsed:0.0025s, Metric=Accuracy, Batch Size=50, P_Score=0.876]\n",
      "SAIL Drift detection: 100%========== [Points: 1/1, Elapsed:0.0016s, Detector=EDDM, Param=score, Drift=No]\n",
      "SAIL Pipeline Partial fit: 100%========== [Steps: 2/2, ETA: 00:00<00:00, Elapsed:0.029s, Batch Size=50, P_Score=0.876]             \n",
      "\n",
      "    \n",
      ">> Epoch: 38 | Samples Seen: 1850 -------------------------------------------------------------------------------------\n",
      "SAIL Pipeline Progressive Score: 100%========== [Points: 50/50, Elapsed:0.0018s, Metric=Accuracy, Batch Size=50, P_Score=0.878]\n",
      "SAIL Drift detection: 100%========== [Points: 1/1, Elapsed:0.0010s, Detector=EDDM, Param=score, Drift=No]\n",
      "SAIL Pipeline Partial fit: 100%========== [Steps: 2/2, ETA: 00:00<00:00, Elapsed:0.030s, Batch Size=50, P_Score=0.878]             \n",
      "\n",
      "    \n",
      ">> Epoch: 39 | Samples Seen: 1900 -------------------------------------------------------------------------------------\n",
      "SAIL Pipeline Progressive Score: 100%========== [Points: 50/50, Elapsed:0.0016s, Metric=Accuracy, Batch Size=50, P_Score=0.88]\n",
      "SAIL Drift detection: 100%========== [Points: 1/1, Elapsed:0.0011s, Detector=EDDM, Param=score, Drift=No]\n",
      "SAIL Pipeline Partial fit: 100%========== [Steps: 2/2, ETA: 00:00<00:00, Elapsed:0.025s, Batch Size=50, P_Score=0.88]             \n",
      "\n",
      "    \n",
      ">> Epoch: 40 | Samples Seen: 1950 -------------------------------------------------------------------------------------\n",
      "SAIL Pipeline Progressive Score: 100%========== [Points: 50/50, Elapsed:0.0017s, Metric=Accuracy, Batch Size=50, P_Score=0.885]\n",
      "SAIL Drift detection: 100%========== [Points: 1/1, Elapsed:0.0010s, Detector=EDDM, Param=score, Drift=No]\n",
      "SAIL Pipeline Partial fit: 100%========== [Steps: 2/2, ETA: 00:00<00:00, Elapsed:0.027s, Batch Size=50, P_Score=0.885]             \n"
     ]
    }
   ],
   "source": [
    "y_preds = []\n",
    "y_true = []\n",
    "batch_size = 50\n",
    "\n",
    "with tracer.trace_as_current_span(span_name=\"Pipeline-Train\"):\n",
    "    for start in range(0, 2000, batch_size):\n",
    "        end = start + batch_size\n",
    "\n",
    "        X_train = X.iloc[start:end]\n",
    "        y_train = y.iloc[start:end]\n",
    "\n",
    "        if start == 0:\n",
    "            keras.fit(X_train, y_train)\n",
    "\n",
    "        if end > 1000:  # search_data_size is 1000\n",
    "            preds = auto_pipeline.predict(X_train)\n",
    "            if preds is not None:\n",
    "                y_preds.extend(list(preds))\n",
    "                y_true.extend(list(y_train))\n",
    "\n",
    "        auto_pipeline.train(X_train, y_train, classifier__classes=[1, 0])"
   ]
  },
  {
   "attachments": {},
   "cell_type": "markdown",
   "metadata": {},
   "source": [
    "#### Save model\n"
   ]
  },
  {
   "cell_type": "code",
   "execution_count": 8,
   "metadata": {},
   "outputs": [
    {
     "name": "stderr",
     "output_type": "stream",
     "text": [
      "[2023-12-15 12:49:28:234] - INFO - SAIL (SAILModel) - Model saved successfully.\n",
      "WARNING:absl:Found untraced functions such as _update_step_xla while saving (showing 1 of 1). These functions will not be directly callable after loading.\n"
     ]
    },
    {
     "name": "stdout",
     "output_type": "stream",
     "text": [
      "INFO:tensorflow:Assets written to: ram://89350bb14afb4fd991e7ec0813a9e3d0/assets\n"
     ]
    },
    {
     "name": "stderr",
     "output_type": "stream",
     "text": [
      "INFO:tensorflow:Assets written to: ram://89350bb14afb4fd991e7ec0813a9e3d0/assets\n"
     ]
    },
    {
     "data": {
      "text/plain": [
       "'./sail_auto_pipeline'"
      ]
     },
     "execution_count": 8,
     "metadata": {},
     "output_type": "execute_result"
    }
   ],
   "source": [
    "auto_pipeline.save_model(\".\")"
   ]
  },
  {
   "attachments": {},
   "cell_type": "markdown",
   "metadata": {},
   "source": [
    "#### Load model\n"
   ]
  },
  {
   "cell_type": "code",
   "execution_count": 9,
   "metadata": {},
   "outputs": [
    {
     "name": "stderr",
     "output_type": "stream",
     "text": [
      "2023-12-15 12:49:29.040991: W tensorflow/core/util/tensor_slice_reader.cc:96] Could not open ram://d035461e3cd548518b15b246bf1b5a6e: INVALID_ARGUMENT: ram://d035461e3cd548518b15b246bf1b5a6e is a directory.\n",
      "[2023-12-15 12:49:29:49] - INFO - SAIL (PipelineStrategy) - Pipeline Strategy [DetectAndIncrement] created with actions: ['DATA_COLLECTION', 'FIND_BEST_PIPELINE', 'SCORE_AND_DETECT_DRIFT', 'PARTIAL_FIT_MODEL']\n",
      "[2023-12-15 12:49:29:51] - INFO - SAIL (TensorboardWriter) - Sending training output to Tensorboard logs. Please run `tensorboard --logdir /Users/dhaval/Projects/Tensorboard_logs/Training_Logs` in terminal to start tensorboard server and track training progress.\n",
      "[2023-12-15 12:49:29:96] - INFO - SAIL (SAILModel) - Model loaded successfully.\n",
      "SAIL Pipeline Progressive Score: 100%========== [Points: 2000/2000, Elapsed:0.0045s, Metric=Accuracy, Batch Size=2000, P_Score=0.885]\n"
     ]
    }
   ],
   "source": [
    "new_auto_pipeline = SAILAutoPipeline.load_model(\".\")"
   ]
  },
  {
   "attachments": {},
   "cell_type": "markdown",
   "metadata": {},
   "source": [
    "#### Continue training using the load model\n"
   ]
  },
  {
   "cell_type": "code",
   "execution_count": 10,
   "metadata": {},
   "outputs": [
    {
     "name": "stderr",
     "output_type": "stream",
     "text": [
      "\n",
      "    \n",
      ">> Epoch: 41 | Samples Seen: 2000 -------------------------------------------------------------------------------------\n",
      "SAIL Pipeline Progressive Score: 100%========== [Points: 50/50, Elapsed:0.0017s, Metric=Accuracy, Batch Size=50, P_Score=0.886]\n",
      "SAIL Drift detection: 100%========== [Points: 1/1, Elapsed:0.0030s, Detector=EDDM, Param=score, Drift=No]\n",
      "SAIL Pipeline Partial fit: 100%========== [Steps: 2/2, ETA: 00:00<00:00, Elapsed:0.036s, Batch Size=50, P_Score=0.886]             \n",
      "\n",
      "    \n",
      ">> Epoch: 42 | Samples Seen: 2050 -------------------------------------------------------------------------------------\n",
      "SAIL Pipeline Progressive Score: 100%========== [Points: 50/50, Elapsed:0.0015s, Metric=Accuracy, Batch Size=50, P_Score=0.889]\n",
      "SAIL Drift detection: 100%========== [Points: 1/1, Elapsed:0.0013s, Detector=EDDM, Param=score, Drift=No]\n",
      "SAIL Pipeline Partial fit: 100%========== [Steps: 2/2, ETA: 00:00<00:00, Elapsed:0.052s, Batch Size=50, P_Score=0.889]             \n",
      "\n",
      "    \n",
      ">> Epoch: 43 | Samples Seen: 2100 -------------------------------------------------------------------------------------\n",
      "SAIL Pipeline Progressive Score: 100%========== [Points: 50/50, Elapsed:0.0037s, Metric=Accuracy, Batch Size=50, P_Score=0.889]\n",
      "SAIL Drift detection: 100%========== [Points: 1/1, Elapsed:0.0009s, Detector=EDDM, Param=score, Drift=No]\n",
      "SAIL Pipeline Partial fit: 100%========== [Steps: 2/2, ETA: 00:00<00:00, Elapsed:0.030s, Batch Size=50, P_Score=0.889]             \n",
      "\n",
      "    \n",
      ">> Epoch: 44 | Samples Seen: 2150 -------------------------------------------------------------------------------------\n",
      "SAIL Pipeline Progressive Score: 100%========== [Points: 50/50, Elapsed:0.0031s, Metric=Accuracy, Batch Size=50, P_Score=0.89]\n",
      "SAIL Drift detection: 100%========== [Points: 1/1, Elapsed:0.0040s, Detector=EDDM, Param=score, Drift=No]\n",
      "SAIL Pipeline Partial fit: 100%========== [Steps: 2/2, ETA: 00:00<00:00, Elapsed:0.041s, Batch Size=50, P_Score=0.89]             \n",
      "\n",
      "    \n",
      ">> Epoch: 45 | Samples Seen: 2200 -------------------------------------------------------------------------------------\n",
      "SAIL Pipeline Progressive Score: 100%========== [Points: 50/50, Elapsed:0.0025s, Metric=Accuracy, Batch Size=50, P_Score=0.891]\n",
      "SAIL Drift detection: 100%========== [Points: 1/1, Elapsed:0.0009s, Detector=EDDM, Param=score, Drift=No]\n",
      "SAIL Pipeline Partial fit: 100%========== [Steps: 2/2, ETA: 00:00<00:00, Elapsed:0.027s, Batch Size=50, P_Score=0.891]             \n",
      "\n",
      "    \n",
      ">> Epoch: 46 | Samples Seen: 2250 -------------------------------------------------------------------------------------\n",
      "SAIL Pipeline Progressive Score: 100%========== [Points: 50/50, Elapsed:0.0014s, Metric=Accuracy, Batch Size=50, P_Score=0.891]\n",
      "SAIL Drift detection: 100%========== [Points: 1/1, Elapsed:0.0011s, Detector=EDDM, Param=score, Drift=No]\n",
      "SAIL Pipeline Partial fit: 100%========== [Steps: 2/2, ETA: 00:00<00:00, Elapsed:0.027s, Batch Size=50, P_Score=0.891]             \n",
      "\n",
      "    \n",
      ">> Epoch: 47 | Samples Seen: 2300 -------------------------------------------------------------------------------------\n",
      "SAIL Pipeline Progressive Score: 100%========== [Points: 50/50, Elapsed:0.0014s, Metric=Accuracy, Batch Size=50, P_Score=0.891]\n",
      "SAIL Drift detection: 100%========== [Points: 1/1, Elapsed:0.0009s, Detector=EDDM, Param=score, Drift=No]\n",
      "SAIL Pipeline Partial fit: 100%========== [Steps: 2/2, ETA: 00:00<00:00, Elapsed:0.025s, Batch Size=50, P_Score=0.891]             \n",
      "\n",
      "    \n",
      ">> Epoch: 48 | Samples Seen: 2350 -------------------------------------------------------------------------------------\n",
      "SAIL Pipeline Progressive Score: 100%========== [Points: 50/50, Elapsed:0.0015s, Metric=Accuracy, Batch Size=50, P_Score=0.892]\n",
      "SAIL Drift detection: 100%========== [Points: 1/1, Elapsed:0.0016s, Detector=EDDM, Param=score, Drift=No]\n",
      "SAIL Pipeline Partial fit: 100%========== [Steps: 2/2, ETA: 00:00<00:00, Elapsed:0.031s, Batch Size=50, P_Score=0.892]             \n",
      "\n",
      "    \n",
      ">> Epoch: 49 | Samples Seen: 2400 -------------------------------------------------------------------------------------\n",
      "SAIL Pipeline Progressive Score: 100%========== [Points: 50/50, Elapsed:0.0019s, Metric=Accuracy, Batch Size=50, P_Score=0.892]\n",
      "SAIL Drift detection: 100%========== [Points: 1/1, Elapsed:0.0011s, Detector=EDDM, Param=score, Drift=No]\n",
      "SAIL Pipeline Partial fit: 100%========== [Steps: 2/2, ETA: 00:00<00:00, Elapsed:0.029s, Batch Size=50, P_Score=0.892]             \n",
      "\n",
      "    \n",
      ">> Epoch: 50 | Samples Seen: 2450 -------------------------------------------------------------------------------------\n",
      "SAIL Pipeline Progressive Score: 100%========== [Points: 50/50, Elapsed:0.0015s, Metric=Accuracy, Batch Size=50, P_Score=0.894]\n",
      "SAIL Drift detection: 100%========== [Points: 1/1, Elapsed:0.0010s, Detector=EDDM, Param=score, Drift=No]\n",
      "SAIL Pipeline Partial fit: 100%========== [Steps: 2/2, ETA: 00:00<00:00, Elapsed:0.027s, Batch Size=50, P_Score=0.894]             \n",
      "\n",
      "    \n",
      ">> Epoch: 51 | Samples Seen: 2500 -------------------------------------------------------------------------------------\n",
      "SAIL Pipeline Progressive Score: 100%========== [Points: 50/50, Elapsed:0.0013s, Metric=Accuracy, Batch Size=50, P_Score=0.894]\n",
      "SAIL Drift detection: 100%========== [Points: 1/1, Elapsed:0.0009s, Detector=EDDM, Param=score, Drift=No]\n",
      "SAIL Pipeline Partial fit: 100%========== [Steps: 2/2, ETA: 00:00<00:00, Elapsed:0.030s, Batch Size=50, P_Score=0.894]             \n",
      "\n",
      "    \n",
      ">> Epoch: 52 | Samples Seen: 2550 -------------------------------------------------------------------------------------\n",
      "SAIL Pipeline Progressive Score: 100%========== [Points: 50/50, Elapsed:0.0015s, Metric=Accuracy, Batch Size=50, P_Score=0.896]\n",
      "SAIL Drift detection: 100%========== [Points: 1/1, Elapsed:0.0010s, Detector=EDDM, Param=score, Drift=No]\n",
      "SAIL Pipeline Partial fit: 100%========== [Steps: 2/2, ETA: 00:00<00:00, Elapsed:0.030s, Batch Size=50, P_Score=0.896]             \n",
      "\n",
      "    \n",
      ">> Epoch: 53 | Samples Seen: 2600 -------------------------------------------------------------------------------------\n",
      "SAIL Pipeline Progressive Score: 100%========== [Points: 50/50, Elapsed:0.0014s, Metric=Accuracy, Batch Size=50, P_Score=0.896]\n",
      "SAIL Drift detection: 100%========== [Points: 1/1, Elapsed:0.0010s, Detector=EDDM, Param=score, Drift=No]\n",
      "SAIL Pipeline Partial fit: 100%========== [Steps: 2/2, ETA: 00:00<00:00, Elapsed:0.034s, Batch Size=50, P_Score=0.896]             \n",
      "\n",
      "    \n",
      ">> Epoch: 54 | Samples Seen: 2650 -------------------------------------------------------------------------------------\n",
      "SAIL Pipeline Progressive Score: 100%========== [Points: 50/50, Elapsed:0.0016s, Metric=Accuracy, Batch Size=50, P_Score=0.897]\n",
      "SAIL Drift detection: 100%========== [Points: 1/1, Elapsed:0.0010s, Detector=EDDM, Param=score, Drift=No]\n",
      "SAIL Pipeline Partial fit: 100%========== [Steps: 2/2, ETA: 00:00<00:00, Elapsed:0.031s, Batch Size=50, P_Score=0.897]             \n",
      "\n",
      "    \n",
      ">> Epoch: 55 | Samples Seen: 2700 -------------------------------------------------------------------------------------\n",
      "SAIL Pipeline Progressive Score: 100%========== [Points: 50/50, Elapsed:0.0015s, Metric=Accuracy, Batch Size=50, P_Score=0.897]\n",
      "SAIL Drift detection: 100%========== [Points: 1/1, Elapsed:0.0008s, Detector=EDDM, Param=score, Drift=No]\n",
      "SAIL Pipeline Partial fit: 100%========== [Steps: 2/2, ETA: 00:00<00:00, Elapsed:0.030s, Batch Size=50, P_Score=0.897]             \n",
      "\n",
      "    \n",
      ">> Epoch: 56 | Samples Seen: 2750 -------------------------------------------------------------------------------------\n",
      "SAIL Pipeline Progressive Score: 100%========== [Points: 50/50, Elapsed:0.0014s, Metric=Accuracy, Batch Size=50, P_Score=0.897]\n",
      "SAIL Drift detection: 100%========== [Points: 1/1, Elapsed:0.0008s, Detector=EDDM, Param=score, Drift=No]\n",
      "SAIL Pipeline Partial fit: 100%========== [Steps: 2/2, ETA: 00:00<00:00, Elapsed:0.030s, Batch Size=50, P_Score=0.897]             \n",
      "\n",
      "    \n",
      ">> Epoch: 57 | Samples Seen: 2800 -------------------------------------------------------------------------------------\n",
      "SAIL Pipeline Progressive Score: 100%========== [Points: 50/50, Elapsed:0.0014s, Metric=Accuracy, Batch Size=50, P_Score=0.898]\n",
      "SAIL Drift detection: 100%========== [Points: 1/1, Elapsed:0.0009s, Detector=EDDM, Param=score, Drift=No]\n",
      "SAIL Pipeline Partial fit: 100%========== [Steps: 2/2, ETA: 00:00<00:00, Elapsed:0.033s, Batch Size=50, P_Score=0.898]             \n",
      "\n",
      "    \n",
      ">> Epoch: 58 | Samples Seen: 2850 -------------------------------------------------------------------------------------\n",
      "SAIL Pipeline Progressive Score: 100%========== [Points: 50/50, Elapsed:0.0014s, Metric=Accuracy, Batch Size=50, P_Score=0.899]\n",
      "SAIL Drift detection: 100%========== [Points: 1/1, Elapsed:0.0008s, Detector=EDDM, Param=score, Drift=No]\n",
      "SAIL Pipeline Partial fit: 100%========== [Steps: 2/2, ETA: 00:00<00:00, Elapsed:0.030s, Batch Size=50, P_Score=0.899]             \n",
      "\n",
      "    \n",
      ">> Epoch: 59 | Samples Seen: 2900 -------------------------------------------------------------------------------------\n",
      "SAIL Pipeline Progressive Score: 100%========== [Points: 50/50, Elapsed:0.0240s, Metric=Accuracy, Batch Size=50, P_Score=0.898]\n",
      "SAIL Drift detection: 100%========== [Points: 1/1, Elapsed:0.0011s, Detector=EDDM, Param=score, Drift=No]\n",
      "SAIL Pipeline Partial fit: 100%========== [Steps: 2/2, ETA: 00:00<00:00, Elapsed:0.026s, Batch Size=50, P_Score=0.898]             \n",
      "\n",
      "    \n",
      ">> Epoch: 60 | Samples Seen: 2950 -------------------------------------------------------------------------------------\n",
      "SAIL Pipeline Progressive Score: 100%========== [Points: 50/50, Elapsed:0.0017s, Metric=Accuracy, Batch Size=50, P_Score=0.898]\n",
      "SAIL Drift detection: 100%========== [Points: 1/1, Elapsed:0.0013s, Detector=EDDM, Param=score, Drift=No]\n",
      "SAIL Pipeline Partial fit: 100%========== [Steps: 2/2, ETA: 00:00<00:00, Elapsed:0.028s, Batch Size=50, P_Score=0.898]             \n",
      "\n",
      "    \n",
      ">> Epoch: 61 | Samples Seen: 3000 -------------------------------------------------------------------------------------\n",
      "SAIL Pipeline Progressive Score: 100%========== [Points: 50/50, Elapsed:0.0013s, Metric=Accuracy, Batch Size=50, P_Score=0.899]\n",
      "SAIL Drift detection: 100%========== [Points: 1/1, Elapsed:0.0007s, Detector=EDDM, Param=score, Drift=No]\n",
      "SAIL Pipeline Partial fit: 100%========== [Steps: 2/2, ETA: 00:00<00:00, Elapsed:0.026s, Batch Size=50, P_Score=0.899]             \n",
      "\n",
      "    \n",
      ">> Epoch: 62 | Samples Seen: 3050 -------------------------------------------------------------------------------------\n",
      "SAIL Pipeline Progressive Score: 100%========== [Points: 50/50, Elapsed:0.0019s, Metric=Accuracy, Batch Size=50, P_Score=0.898]\n",
      "SAIL Drift detection: 100%========== [Points: 1/1, Elapsed:0.0011s, Detector=EDDM, Param=score, Drift=No]\n",
      "SAIL Pipeline Partial fit: 100%========== [Steps: 2/2, ETA: 00:00<00:00, Elapsed:0.026s, Batch Size=50, P_Score=0.898]             \n",
      "\n",
      "    \n",
      ">> Epoch: 63 | Samples Seen: 3100 -------------------------------------------------------------------------------------\n",
      "SAIL Pipeline Progressive Score: 100%========== [Points: 50/50, Elapsed:0.0011s, Metric=Accuracy, Batch Size=50, P_Score=0.898]\n",
      "SAIL Drift detection: 100%========== [Points: 1/1, Elapsed:0.0009s, Detector=EDDM, Param=score, Drift=No]\n",
      "SAIL Pipeline Partial fit: 100%========== [Steps: 2/2, ETA: 00:00<00:00, Elapsed:0.028s, Batch Size=50, P_Score=0.898]             \n",
      "\n",
      "    \n",
      ">> Epoch: 64 | Samples Seen: 3150 -------------------------------------------------------------------------------------\n",
      "SAIL Pipeline Progressive Score: 100%========== [Points: 50/50, Elapsed:0.0011s, Metric=Accuracy, Batch Size=50, P_Score=0.898]\n",
      "SAIL Drift detection: 100%========== [Points: 1/1, Elapsed:0.0009s, Detector=EDDM, Param=score, Drift=No]\n",
      "SAIL Pipeline Partial fit: 100%========== [Steps: 2/2, ETA: 00:00<00:00, Elapsed:0.027s, Batch Size=50, P_Score=0.898]             \n",
      "\n",
      "    \n",
      ">> Epoch: 65 | Samples Seen: 3200 -------------------------------------------------------------------------------------\n",
      "SAIL Pipeline Progressive Score: 100%========== [Points: 50/50, Elapsed:0.0012s, Metric=Accuracy, Batch Size=50, P_Score=0.897]\n",
      "SAIL Drift detection: 100%========== [Points: 1/1, Elapsed:0.0008s, Detector=EDDM, Param=score, Drift=No]\n",
      "SAIL Pipeline Partial fit: 100%========== [Steps: 2/2, ETA: 00:00<00:00, Elapsed:0.027s, Batch Size=50, P_Score=0.897]             \n",
      "\n",
      "    \n",
      ">> Epoch: 66 | Samples Seen: 3250 -------------------------------------------------------------------------------------\n",
      "SAIL Pipeline Progressive Score: 100%========== [Points: 50/50, Elapsed:0.0011s, Metric=Accuracy, Batch Size=50, P_Score=0.898]\n",
      "SAIL Drift detection: 100%========== [Points: 1/1, Elapsed:0.0008s, Detector=EDDM, Param=score, Drift=No]\n",
      "SAIL Pipeline Partial fit: 100%========== [Steps: 2/2, ETA: 00:00<00:00, Elapsed:0.027s, Batch Size=50, P_Score=0.898]             \n",
      "\n",
      "    \n",
      ">> Epoch: 67 | Samples Seen: 3300 -------------------------------------------------------------------------------------\n",
      "SAIL Pipeline Progressive Score: 100%========== [Points: 50/50, Elapsed:0.0018s, Metric=Accuracy, Batch Size=50, P_Score=0.899]\n",
      "SAIL Drift detection: 100%========== [Points: 1/1, Elapsed:0.0012s, Detector=EDDM, Param=score, Drift=No]\n",
      "SAIL Pipeline Partial fit: 100%========== [Steps: 2/2, ETA: 00:00<00:00, Elapsed:0.026s, Batch Size=50, P_Score=0.899]             \n",
      "\n",
      "    \n",
      ">> Epoch: 68 | Samples Seen: 3350 -------------------------------------------------------------------------------------\n",
      "SAIL Pipeline Progressive Score: 100%========== [Points: 50/50, Elapsed:0.0018s, Metric=Accuracy, Batch Size=50, P_Score=0.899]\n",
      "SAIL Drift detection: 100%========== [Points: 1/1, Elapsed:0.0008s, Detector=EDDM, Param=score, Drift=No]\n",
      "SAIL Pipeline Partial fit: 100%========== [Steps: 2/2, ETA: 00:00<00:00, Elapsed:0.038s, Batch Size=50, P_Score=0.899]             \n",
      "\n",
      "    \n",
      ">> Epoch: 69 | Samples Seen: 3400 -------------------------------------------------------------------------------------\n",
      "SAIL Pipeline Progressive Score: 100%========== [Points: 50/50, Elapsed:0.0018s, Metric=Accuracy, Batch Size=50, P_Score=0.899]\n",
      "SAIL Drift detection: 100%========== [Points: 1/1, Elapsed:0.0012s, Detector=EDDM, Param=score, Drift=No]\n",
      "SAIL Pipeline Partial fit: 100%========== [Steps: 2/2, ETA: 00:00<00:00, Elapsed:0.026s, Batch Size=50, P_Score=0.899]             \n",
      "\n",
      "    \n",
      ">> Epoch: 70 | Samples Seen: 3450 -------------------------------------------------------------------------------------\n",
      "SAIL Pipeline Progressive Score: 100%========== [Points: 50/50, Elapsed:0.0013s, Metric=Accuracy, Batch Size=50, P_Score=0.898]\n",
      "SAIL Drift detection: 100%========== [Points: 1/1, Elapsed:0.0008s, Detector=EDDM, Param=score, Drift=No]\n",
      "SAIL Pipeline Partial fit: 100%========== [Steps: 2/2, ETA: 00:00<00:00, Elapsed:0.025s, Batch Size=50, P_Score=0.898]             \n"
     ]
    }
   ],
   "source": [
    "for start in range(1501, 3001, batch_size):\n",
    "    end = start + batch_size\n",
    "\n",
    "    X_train = X.iloc[start:end]\n",
    "    y_train = y.iloc[start:end]\n",
    "\n",
    "    if end > 1000:  # search_data_size is 1000\n",
    "        preds = new_auto_pipeline.predict(X_train)\n",
    "        if preds is not None:\n",
    "            y_preds.extend(list(preds))\n",
    "            y_true.extend(list(y_train))\n",
    "\n",
    "    new_auto_pipeline.train(X_train, y_train, classifier__classes=[1, 0])"
   ]
  },
  {
   "attachments": {},
   "cell_type": "markdown",
   "metadata": {},
   "source": [
    "#### Classification Report\n"
   ]
  },
  {
   "cell_type": "code",
   "execution_count": 11,
   "metadata": {},
   "outputs": [
    {
     "name": "stdout",
     "output_type": "stream",
     "text": [
      "              precision    recall  f1-score   support\n",
      "\n",
      "           0       0.89      0.98      0.93      1654\n",
      "           1       0.95      0.76      0.84       846\n",
      "\n",
      "    accuracy                           0.90      2500\n",
      "   macro avg       0.92      0.87      0.89      2500\n",
      "weighted avg       0.91      0.90      0.90      2500\n",
      "\n"
     ]
    }
   ],
   "source": [
    "from sklearn.metrics import confusion_matrix, classification_report\n",
    "\n",
    "print(classification_report(y_true, y_preds))"
   ]
  },
  {
   "attachments": {},
   "cell_type": "markdown",
   "metadata": {},
   "source": [
    "#### Plot confusion matrix\n"
   ]
  },
  {
   "cell_type": "code",
   "execution_count": 12,
   "metadata": {},
   "outputs": [
    {
     "data": {
      "text/plain": [
       "<Axes: >"
      ]
     },
     "execution_count": 12,
     "metadata": {},
     "output_type": "execute_result"
    },
    {
     "data": {
      "image/png": "[encoded data removed]",
      "text/plain": [
       "<Figure size 640x480 with 2 Axes>"
      ]
     },
     "metadata": {},
     "output_type": "display_data"
    }
   ],
   "source": [
    "import seaborn as sns\n",
    "\n",
    "cf_matrix = confusion_matrix(y_true, y_preds)\n",
    "sns.heatmap(cf_matrix / np.sum(cf_matrix), annot=True, fmt=\".2%\", cmap=\"Blues\")"
   ]
  }
 ],
 "metadata": {
  "kernelspec": {
   "display_name": "venv-sail",
   "language": "python",
   "name": "python3"
  },
  "language_info": {
   "codemirror_mode": {
    "name": "ipython",
    "version": 3
   },
   "file_extension": ".py",
   "mimetype": "text/x-python",
   "name": "python",
   "nbconvert_exporter": "python",
   "pygments_lexer": "ipython3",
   "version": "3.10.10"
  },
  "orig_nbformat": 4
 },
 "nbformat": 4,
 "nbformat_minor": 2
}
