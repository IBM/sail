{
 "cells": [
  {
   "cell_type": "code",
   "execution_count": 1,
   "metadata": {},
   "outputs": [],
   "source": [
    "import numpy as np\n",
    "import pandas as pd\n",
    "from river import optim\n",
    "from river.drift import ADWIN\n",
    "from ray.tune.sklearn import TuneGridSearchCV\n",
    "from sail.models.river.forest import AdaptiveRandomForestClassifier\n",
    "from sail.models.river.linear_model import LogisticRegression\n",
    "from sail.models.auto_ml import PipeLineSelection\n",
    "from sail.pipeline import SAILPipeline\n",
    "from sklearn.impute import SimpleImputer\n",
    "from sail.transfomers.river.preprocessing import StandardScaler"
   ]
  },
  {
   "attachments": {},
   "cell_type": "markdown",
   "metadata": {},
   "source": [
    "#### Load Data\n"
   ]
  },
  {
   "cell_type": "code",
   "execution_count": 2,
   "metadata": {},
   "outputs": [],
   "source": [
    "X = pd.read_csv(\"../../datasets/agrawal.csv\").head(50000)\n",
    "\n",
    "y = X[\"class\"]\n",
    "X.drop(\"class\", axis=1, inplace=True)"
   ]
  },
  {
   "attachments": {},
   "cell_type": "markdown",
   "metadata": {},
   "source": [
    "#### Model Definition\n"
   ]
  },
  {
   "cell_type": "code",
   "execution_count": 3,
   "metadata": {},
   "outputs": [],
   "source": [
    "logistic_reg = LogisticRegression(optimizer=optim.SGD(0.1))\n",
    "random_forest = AdaptiveRandomForestClassifier(n_models=10)"
   ]
  },
  {
   "attachments": {},
   "cell_type": "markdown",
   "metadata": {},
   "source": [
    "#### Create SAIL Pipeline\n"
   ]
  },
  {
   "cell_type": "code",
   "execution_count": 4,
   "metadata": {},
   "outputs": [
    {
     "name": "stderr",
     "output_type": "stream",
     "text": [
      "[2023-06-26 16:53:01:117] - INFO - SAIL : created SAILPipeline object with ID 868afe4b-c853-4de6-bcea-1712519bcc46\n"
     ]
    }
   ],
   "source": [
    "steps = [\n",
    "    (\"Imputer\", SimpleImputer(missing_values=np.nan, strategy=\"mean\")),\n",
    "    (\"standard_scalar\", StandardScaler()),\n",
    "    (\"classifier\", \"passthrough\"),\n",
    "]\n",
    "sail_pipeline = SAILPipeline(steps=steps)"
   ]
  },
  {
   "attachments": {},
   "cell_type": "markdown",
   "metadata": {},
   "source": [
    "#### HPO Params\n"
   ]
  },
  {
   "cell_type": "code",
   "execution_count": 5,
   "metadata": {},
   "outputs": [],
   "source": [
    "params_grid = [\n",
    "    {\n",
    "        \"classifier\": [logistic_reg],\n",
    "        \"classifier__l2\": [0.1, 0.9],\n",
    "        \"classifier__intercept_init\": [0.2, 0.5],\n",
    "    },\n",
    "    {\n",
    "        \"classifier\": [random_forest],\n",
    "        \"classifier__n_models\": [5, 10],\n",
    "        \"Imputer\": [\"passthrough\"],\n",
    "    },\n",
    "]\n",
    "\n",
    "# params_grid = {\n",
    "#     \"classifier__l2\": [0.1, 0.9],\n",
    "#     \"classifier__intercept_init\": [0.2, 0.5],\n",
    "# }\n"
   ]
  },
  {
   "attachments": {},
   "cell_type": "markdown",
   "metadata": {},
   "source": [
    "#### Create Model Instance\n"
   ]
  },
  {
   "cell_type": "code",
   "execution_count": 6,
   "metadata": {},
   "outputs": [],
   "source": [
    "pipeline_selection = PipeLineSelection(\n",
    "    pipeline=sail_pipeline,\n",
    "    pipeline_params_grid=params_grid,\n",
    "    scoring=\"Accuracy\",\n",
    "    search_data_size=1000,\n",
    "    search_method=TuneGridSearchCV,\n",
    "    search_method_params={\n",
    "        \"max_iters\": 1,\n",
    "        \"early_stopping\": False,\n",
    "        \"scoring\": \"accuracy\",\n",
    "        \"pipeline_auto_early_stop\": False,\n",
    "    },\n",
    "    drift_detector=ADWIN(delta=0.001),\n",
    ")"
   ]
  },
  {
   "attachments": {},
   "cell_type": "markdown",
   "metadata": {},
   "source": [
    "#### Start Training\n"
   ]
  },
  {
   "cell_type": "code",
   "execution_count": 7,
   "metadata": {},
   "outputs": [
    {
     "data": {
      "text/html": [],
      "text/plain": [
       "<IPython.core.display.HTML object>"
      ]
     },
     "metadata": {},
     "output_type": "display_data"
    },
    {
     "name": "stderr",
     "output_type": "stream",
     "text": [
      "2023-06-26 16:53:04,624\tWARNING searcher.py:377 -- save not implemented for Searcher. Skipping save.\n",
      "\u001b[2m\u001b[36m(_Trainable pid=23312)\u001b[0m [2023-06-26 16:53:06:589] - INFO - SAIL : created SAILPipeline object with ID c7d85073-d572-482c-969b-c6e308ded3a2\n",
      "\u001b[2m\u001b[36m(_Trainable pid=23312)\u001b[0m [2023-06-26 16:53:06:589] - INFO - SAIL : created SAILPipeline object with ID 2ae06250-7844-41e8-89a8-875e320acf40\n",
      "\u001b[2m\u001b[36m(_Trainable pid=23312)\u001b[0m [2023-06-26 16:53:06:590] - INFO - SAIL : created SAILPipeline object with ID 827ee844-07cb-4a1f-bb3e-e1d41b59ce59\n",
      "\u001b[2m\u001b[36m(_Trainable pid=23312)\u001b[0m [2023-06-26 16:53:06:590] - INFO - SAIL : created SAILPipeline object with ID 0eb13807-9f9a-4394-a375-5b277d3309be\n",
      "\u001b[2m\u001b[36m(_Trainable pid=23312)\u001b[0m [2023-06-26 16:53:06:590] - INFO - SAIL : created SAILPipeline object with ID c060c40d-c8a0-4e81-be68-b855922efb07\n",
      "\u001b[2m\u001b[36m(_Trainable pid=23312)\u001b[0m [2023-06-26 16:53:06:604] - INFO - SAIL : created SAILPipeline object with ID a05b31a2-9047-4a2d-a477-f7898bf05828\n",
      "\u001b[2m\u001b[36m(_Trainable pid=23312)\u001b[0m [2023-06-26 16:53:06:629] - INFO - SAIL : created SAILPipeline object with ID abaca788-e9a1-4635-99f1-9caa02e5324c\n",
      "\u001b[2m\u001b[36m(_Trainable pid=23312)\u001b[0m [2023-06-26 16:53:06:698] - INFO - SAIL : created SAILPipeline object with ID 5bafc07a-ba5b-4a59-a8f2-4624effcea93\n",
      "\u001b[2m\u001b[36m(_Trainable pid=23312)\u001b[0m [2023-06-26 16:53:06:720] - INFO - SAIL : created SAILPipeline object with ID 2aa396a1-a0b1-499c-afb9-ed1943c86605\n",
      "2023-06-26 16:53:06,771\tINFO tensorboardx.py:269 -- Removed the following hyperparameter values when logging to tensorboard: {'classifier': LogisticRegression(initializer=Zeros (),\n",
      "                   intercept_lr=Constant({'learning_rate': 0.01}),\n",
      "                   loss=Log({'weight_pos': 1.0, 'weight_neg': 1.0}),\n",
      "                   optimizer=SGD({'lr': Constant({'learning_rate': 0.1}), 'n_iterations': 0}))}\n",
      "2023-06-26 16:53:06,865\tINFO tensorboardx.py:269 -- Removed the following hyperparameter values when logging to tensorboard: {'classifier': LogisticRegression(initializer=Zeros (),\n",
      "                   intercept_lr=Constant({'learning_rate': 0.01}),\n",
      "                   loss=Log({'weight_pos': 1.0, 'weight_neg': 1.0}),\n",
      "                   optimizer=SGD({'lr': Constant({'learning_rate': 0.1}), 'n_iterations': 0}))}\n",
      "2023-06-26 16:53:06,872\tINFO tensorboardx.py:269 -- Removed the following hyperparameter values when logging to tensorboard: {'classifier': LogisticRegression(initializer=Zeros (),\n",
      "                   intercept_lr=Constant({'learning_rate': 0.01}),\n",
      "                   loss=Log({'weight_pos': 1.0, 'weight_neg': 1.0}),\n",
      "                   optimizer=SGD({'lr': Constant({'learning_rate': 0.1}), 'n_iterations': 0}))}\n",
      "2023-06-26 16:53:06,877\tINFO tensorboardx.py:269 -- Removed the following hyperparameter values when logging to tensorboard: {'classifier': LogisticRegression(initializer=Zeros (),\n",
      "                   intercept_lr=Constant({'learning_rate': 0.01}),\n",
      "                   loss=Log({'weight_pos': 1.0, 'weight_neg': 1.0}),\n",
      "                   optimizer=SGD({'lr': Constant({'learning_rate': 0.1}), 'n_iterations': 0}))}\n"
     ]
    },
    {
     "name": "stdout",
     "output_type": "stream",
     "text": [
      "\u001b[2m\u001b[36m(_Trainable pid=23312)\u001b[0m [Pipeline] ........ (step 3 of 3) Processing classifier, total=   0.0s\n",
      "\u001b[2m\u001b[36m(_Trainable pid=23312)\u001b[0m [Pipeline] ........ (step 3 of 3) Processing classifier, total=   0.0s\n",
      "\u001b[2m\u001b[36m(_Trainable pid=23312)\u001b[0m [Pipeline] ........ (step 3 of 3) Processing classifier, total=   0.0s\n"
     ]
    },
    {
     "name": "stderr",
     "output_type": "stream",
     "text": [
      "2023-06-26 16:53:08,239\tINFO tensorboardx.py:269 -- Removed the following hyperparameter values when logging to tensorboard: {'classifier': AdaptiveRandomForestClassifier()}\n",
      "2023-06-26 16:53:09,708\tINFO tensorboardx.py:269 -- Removed the following hyperparameter values when logging to tensorboard: {'classifier': AdaptiveRandomForestClassifier()}\n",
      "[2023-06-26 16:53:09:744] - INFO - SAIL : created SAILPipeline object with ID 21c0987e-5550-47e4-ab84-681c50c37231\n",
      "[2023-06-26 16:53:09:746] - INFO - SAIL : created SAILPipeline object with ID 0b527f09-27ed-446b-96d0-6f173ca83c39\n",
      "[2023-06-26 16:53:10:100] - INFO - SAIL : Cumulative Pipeline Score: 0.84\n",
      "[2023-06-26 16:53:10:100] - INFO - SAIL : Calling Partial_fit() on the pipeline.\n",
      "[2023-06-26 16:53:10:128] - INFO - SAIL : Cumulative Pipeline Score: 0.89\n",
      "[2023-06-26 16:53:10:129] - INFO - SAIL : Calling Partial_fit() on the pipeline.\n",
      "[2023-06-26 16:53:10:156] - INFO - SAIL : Cumulative Pipeline Score: 0.88\n",
      "[2023-06-26 16:53:10:156] - INFO - SAIL : Calling Partial_fit() on the pipeline.\n",
      "[2023-06-26 16:53:10:182] - INFO - SAIL : Cumulative Pipeline Score: 0.895\n",
      "[2023-06-26 16:53:10:182] - INFO - SAIL : Calling Partial_fit() on the pipeline.\n",
      "[2023-06-26 16:53:10:210] - INFO - SAIL : Cumulative Pipeline Score: 0.888\n",
      "[2023-06-26 16:53:10:210] - INFO - SAIL : Calling Partial_fit() on the pipeline.\n",
      "[2023-06-26 16:53:10:239] - INFO - SAIL : Cumulative Pipeline Score: 0.88\n",
      "[2023-06-26 16:53:10:239] - INFO - SAIL : Calling Partial_fit() on the pipeline.\n",
      "[2023-06-26 16:53:10:266] - INFO - SAIL : Cumulative Pipeline Score: 0.8942857142857142\n",
      "[2023-06-26 16:53:10:267] - INFO - SAIL : Calling Partial_fit() on the pipeline.\n",
      "[2023-06-26 16:53:10:295] - INFO - SAIL : Cumulative Pipeline Score: 0.895\n",
      "[2023-06-26 16:53:10:295] - INFO - SAIL : Calling Partial_fit() on the pipeline.\n"
     ]
    },
    {
     "name": "stdout",
     "output_type": "stream",
     "text": [
      "[Pipeline] ........ (step 3 of 3) Processing classifier, total=   0.3s\n",
      "[Pipeline] ........ (step 3 of 3) Processing classifier, total=   0.0s\n",
      "[Pipeline] ........ (step 3 of 3) Processing classifier, total=   0.0s\n",
      "[Pipeline] ........ (step 3 of 3) Processing classifier, total=   0.0s\n",
      "[Pipeline] ........ (step 3 of 3) Processing classifier, total=   0.0s\n",
      "[Pipeline] ........ (step 3 of 3) Processing classifier, total=   0.0s\n",
      "[Pipeline] ........ (step 3 of 3) Processing classifier, total=   0.0s\n",
      "[Pipeline] ........ (step 3 of 3) Processing classifier, total=   0.0s\n"
     ]
    },
    {
     "name": "stderr",
     "output_type": "stream",
     "text": [
      "[2023-06-26 16:53:10:324] - INFO - SAIL : Cumulative Pipeline Score: 0.8888888888888888\n",
      "[2023-06-26 16:53:10:324] - INFO - SAIL : Calling Partial_fit() on the pipeline.\n",
      "[2023-06-26 16:53:10:352] - INFO - SAIL : Cumulative Pipeline Score: 0.886\n",
      "[2023-06-26 16:53:10:352] - INFO - SAIL : Calling Partial_fit() on the pipeline.\n",
      "[2023-06-26 16:53:10:379] - INFO - SAIL : Cumulative Pipeline Score: 0.8927272727272727\n",
      "[2023-06-26 16:53:10:379] - INFO - SAIL : Calling Partial_fit() on the pipeline.\n",
      "[2023-06-26 16:53:10:407] - INFO - SAIL : Cumulative Pipeline Score: 0.8933333333333333\n",
      "[2023-06-26 16:53:10:407] - INFO - SAIL : Calling Partial_fit() on the pipeline.\n",
      "[2023-06-26 16:53:10:436] - INFO - SAIL : Cumulative Pipeline Score: 0.8876923076923077\n",
      "[2023-06-26 16:53:10:436] - INFO - SAIL : Calling Partial_fit() on the pipeline.\n",
      "[2023-06-26 16:53:10:465] - INFO - SAIL : Cumulative Pipeline Score: 0.89\n",
      "[2023-06-26 16:53:10:466] - INFO - SAIL : Calling Partial_fit() on the pipeline.\n",
      "[2023-06-26 16:53:10:496] - INFO - SAIL : Cumulative Pipeline Score: 0.8906666666666667\n",
      "[2023-06-26 16:53:10:496] - INFO - SAIL : Calling Partial_fit() on the pipeline.\n"
     ]
    },
    {
     "name": "stdout",
     "output_type": "stream",
     "text": [
      "[Pipeline] ........ (step 3 of 3) Processing classifier, total=   0.0s\n",
      "[Pipeline] ........ (step 3 of 3) Processing classifier, total=   0.0s\n",
      "[Pipeline] ........ (step 3 of 3) Processing classifier, total=   0.0s\n",
      "[Pipeline] ........ (step 3 of 3) Processing classifier, total=   0.0s\n",
      "[Pipeline] ........ (step 3 of 3) Processing classifier, total=   0.0s\n",
      "[Pipeline] ........ (step 3 of 3) Processing classifier, total=   0.0s\n",
      "[Pipeline] ........ (step 3 of 3) Processing classifier, total=   0.0s\n",
      "[Pipeline] ........ (step 3 of 3) Processing classifier, total=   0.0s\n"
     ]
    },
    {
     "name": "stderr",
     "output_type": "stream",
     "text": [
      "[2023-06-26 16:53:10:523] - INFO - SAIL : Cumulative Pipeline Score: 0.89125\n",
      "[2023-06-26 16:53:10:524] - INFO - SAIL : Calling Partial_fit() on the pipeline.\n",
      "[2023-06-26 16:53:10:558] - INFO - SAIL : Cumulative Pipeline Score: 0.8941176470588236\n",
      "[2023-06-26 16:53:10:559] - INFO - SAIL : Calling Partial_fit() on the pipeline.\n",
      "[2023-06-26 16:53:10:589] - INFO - SAIL : Cumulative Pipeline Score: 0.8955555555555555\n",
      "[2023-06-26 16:53:10:589] - INFO - SAIL : Calling Partial_fit() on the pipeline.\n",
      "[2023-06-26 16:53:10:619] - INFO - SAIL : Cumulative Pipeline Score: 0.8957894736842106\n",
      "[2023-06-26 16:53:10:619] - INFO - SAIL : Calling Partial_fit() on the pipeline.\n",
      "[2023-06-26 16:53:10:647] - INFO - SAIL : Cumulative Pipeline Score: 0.899\n",
      "[2023-06-26 16:53:10:647] - INFO - SAIL : Calling Partial_fit() on the pipeline.\n"
     ]
    },
    {
     "name": "stdout",
     "output_type": "stream",
     "text": [
      "[Pipeline] ........ (step 3 of 3) Processing classifier, total=   0.0s\n",
      "[Pipeline] ........ (step 3 of 3) Processing classifier, total=   0.0s\n",
      "[Pipeline] ........ (step 3 of 3) Processing classifier, total=   0.0s\n",
      "[Pipeline] ........ (step 3 of 3) Processing classifier, total=   0.0s\n",
      "[Pipeline] ........ (step 3 of 3) Processing classifier, total=   0.0s\n"
     ]
    }
   ],
   "source": [
    "y_preds = []\n",
    "y_true = []\n",
    "batch_size = 50\n",
    "\n",
    "start = 0\n",
    "for end in range(50, 2001, batch_size):\n",
    "\n",
    "    X_train = X.iloc[start:end]\n",
    "    y_train = y.iloc[start:end]\n",
    "\n",
    "    if end > 1000: # search_data_size is 1000\n",
    "        preds = pipeline_selection.predict(X_train)\n",
    "        y_preds.extend(list(preds))\n",
    "        y_true.extend(list(y_train))\n",
    "\n",
    "    pipeline_selection.partial_fit(X_train, y_train, classifier__classes=[1, 0])\n",
    "    start = end"
   ]
  },
  {
   "attachments": {},
   "cell_type": "markdown",
   "metadata": {},
   "source": [
    "#### Classification Report"
   ]
  },
  {
   "cell_type": "code",
   "execution_count": 8,
   "metadata": {},
   "outputs": [
    {
     "name": "stdout",
     "output_type": "stream",
     "text": [
      "              precision    recall  f1-score   support\n",
      "\n",
      "           0       0.89      0.96      0.93       652\n",
      "           1       0.92      0.78      0.84       348\n",
      "\n",
      "    accuracy                           0.90      1000\n",
      "   macro avg       0.90      0.87      0.88      1000\n",
      "weighted avg       0.90      0.90      0.90      1000\n",
      "\n"
     ]
    }
   ],
   "source": [
    "from sklearn.metrics import confusion_matrix, classification_report\n",
    "\n",
    "print(classification_report(y_true, y_preds))"
   ]
  },
  {
   "attachments": {},
   "cell_type": "markdown",
   "metadata": {},
   "source": [
    "#### Plot confusion matrix"
   ]
  },
  {
   "cell_type": "code",
   "execution_count": 9,
   "metadata": {},
   "outputs": [
    {
     "data": {
      "text/plain": [
       "<Axes: >"
      ]
     },
     "execution_count": 9,
     "metadata": {},
     "output_type": "execute_result"
    },
    {
     "data": {
      "image/png": "[encoded data removed]",
      "text/plain": [
       "<Figure size 640x480 with 2 Axes>"
      ]
     },
     "metadata": {},
     "output_type": "display_data"
    }
   ],
   "source": [
    "import seaborn as sns\n",
    "\n",
    "cf_matrix = confusion_matrix(y_true, y_preds)\n",
    "sns.heatmap(cf_matrix/np.sum(cf_matrix), annot=True, fmt='.2%', cmap='Blues')"
   ]
  }
 ],
 "metadata": {
  "interpreter": {
   "hash": "b80c0023fefa806f5881563925dd94c43248ee76b7e4f6ec8aa64a4c530437bf"
  },
  "kernelspec": {
   "display_name": "Python 3.8.12 ('sail3.8_v2')",
   "language": "python",
   "name": "python3"
  },
  "language_info": {
   "codemirror_mode": {
    "name": "ipython",
    "version": 3
   },
   "file_extension": ".py",
   "mimetype": "text/x-python",
   "name": "python",
   "nbconvert_exporter": "python",
   "pygments_lexer": "ipython3",
   "version": "3.8.12"
  },
  "orig_nbformat": 4
 },
 "nbformat": 4,
 "nbformat_minor": 2
}
