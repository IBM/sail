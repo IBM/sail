{
 "cells": [
  {
   "cell_type": "code",
   "execution_count": 1,
   "metadata": {},
   "outputs": [],
   "source": [
    "import numpy as np\n",
    "import pandas as pd\n",
    "from river import optim\n",
    "from river.drift import ADWIN\n",
    "from ray.tune.search import BasicVariantGenerator\n",
    "from sail.models.auto_ml.tune import SAILTuneGridSearchCV\n",
    "from sail.models.river.forest import AdaptiveRandomForestClassifier\n",
    "from sail.models.river.linear_model import LogisticRegression\n",
    "from sail.models.auto_ml.auto_pipeline import SAILAutoPipeline\n",
    "from sail.pipeline import SAILPipeline\n",
    "from sklearn.impute import SimpleImputer\n",
    "import ray.cloudpickle as cpickle\n",
    "from sail.transfomers.river.preprocessing import StandardScaler"
   ]
  },
  {
   "attachments": {},
   "cell_type": "markdown",
   "metadata": {},
   "source": [
    "#### Load Data"
   ]
  },
  {
   "cell_type": "code",
   "execution_count": 2,
   "metadata": {},
   "outputs": [],
   "source": [
    "df = pd.read_csv(\"../../datasets/agrawal.csv\").head(50000)\n",
    "X = df.copy()\n",
    "\n",
    "y = X[\"class\"]\n",
    "X.drop(\"class\", axis=1, inplace=True)\n"
   ]
  },
  {
   "attachments": {},
   "cell_type": "markdown",
   "metadata": {},
   "source": [
    "#### Model Definition"
   ]
  },
  {
   "cell_type": "code",
   "execution_count": 3,
   "metadata": {},
   "outputs": [],
   "source": [
    "logistic_reg = LogisticRegression(optimizer=optim.SGD(0.1))\n",
    "random_forest = AdaptiveRandomForestClassifier(n_models=10)"
   ]
  },
  {
   "attachments": {},
   "cell_type": "markdown",
   "metadata": {},
   "source": [
    "#### Create SAIL Pipeline"
   ]
  },
  {
   "cell_type": "code",
   "execution_count": 4,
   "metadata": {},
   "outputs": [
    {
     "name": "stderr",
     "output_type": "stream",
     "text": [
      "[2023-06-15 22:32:14:380] - INFO - SAIL : created SAILPipeline object with ID 095a118b-e5dd-463a-ae72-6b4a473809ff\n"
     ]
    }
   ],
   "source": [
    "steps = [\n",
    "    (\"Imputer\", SimpleImputer(missing_values=np.nan, strategy=\"mean\")),\n",
    "    (\"standard_scalar\", StandardScaler()),\n",
    "    (\"classifier\", \"passthrough\"),\n",
    "]\n",
    "sail_pipeline = SAILPipeline(steps=steps)"
   ]
  },
  {
   "attachments": {},
   "cell_type": "markdown",
   "metadata": {},
   "source": [
    "#### HPO Params"
   ]
  },
  {
   "cell_type": "code",
   "execution_count": 5,
   "metadata": {},
   "outputs": [],
   "source": [
    "params_grid = [\n",
    "    {\n",
    "        \"classifier\": [logistic_reg],\n",
    "        \"classifier__l2\": [0.1, 0.9],\n",
    "        \"classifier__intercept_init\": [0.2, 0.5],\n",
    "    },\n",
    "    {\n",
    "        \"classifier\": [random_forest],\n",
    "        \"classifier__n_models\": [5, 10],\n",
    "        \"Imputer\": [\"passthrough\"],\n",
    "    },\n",
    "]\n",
    "\n",
    "# params_grid = {\n",
    "#     \"classifier__l2\": [0.1, 0.9],\n",
    "#     \"classifier__intercept_init\": [0.2, 0.5],\n",
    "# }\n"
   ]
  },
  {
   "attachments": {},
   "cell_type": "markdown",
   "metadata": {},
   "source": [
    "#### Create Model Instance"
   ]
  },
  {
   "cell_type": "code",
   "execution_count": 6,
   "metadata": {},
   "outputs": [
    {
     "name": "stderr",
     "output_type": "stream",
     "text": [
      "[2023-06-15 22:32:14:392] - INFO - SAIL : Pipeline Strategy [DetectAndIncrement] created with actions: ['DATA_COLLECTION', 'FIND_BEST_PIPELINE', 'SCORE_AND_DETECT_DRIFT', 'PARTIAL_FIT_MODEL']\n"
     ]
    }
   ],
   "source": [
    "auto_pipeline = SAILAutoPipeline(\n",
    "    pipeline=sail_pipeline,\n",
    "    pipeline_params_grid=params_grid,\n",
    "    search_data_size=1000,\n",
    "    search_method=SAILTuneGridSearchCV,\n",
    "    search_method_params={\n",
    "        \"max_iters\": 1,\n",
    "        \"early_stopping\": False,\n",
    "        \"mode\": \"max\",\n",
    "        \"scoring\": \"accuracy\",\n",
    "        \"pipeline_auto_early_stop\": False,\n",
    "        \"keep_best_configurations\": 2\n",
    "    },\n",
    "    drift_detector=ADWIN(delta=0.001),\n",
    "    pipeline_strategy=\"DetectAndIncrement\",\n",
    ")"
   ]
  },
  {
   "attachments": {},
   "cell_type": "markdown",
   "metadata": {},
   "source": [
    "#### Start Training"
   ]
  },
  {
   "cell_type": "code",
   "execution_count": 7,
   "metadata": {},
   "outputs": [
    {
     "data": {
      "text/html": [],
      "text/plain": [
       "<IPython.core.display.HTML object>"
      ]
     },
     "metadata": {},
     "output_type": "display_data"
    },
    {
     "name": "stderr",
     "output_type": "stream",
     "text": [
      "\u001b[2m\u001b[36m(_Trainable pid=58810)\u001b[0m [2023-06-15 22:32:19:578] - INFO - SAIL : created SAILPipeline object with ID edc16510-b49d-445c-a969-558b28df9635\n",
      "\u001b[2m\u001b[36m(_Trainable pid=58810)\u001b[0m [2023-06-15 22:32:19:579] - INFO - SAIL : created SAILPipeline object with ID 79835f4e-fcea-43bc-8a45-d66401d9fa75\n",
      "\u001b[2m\u001b[36m(_Trainable pid=58810)\u001b[0m [2023-06-15 22:32:19:579] - INFO - SAIL : created SAILPipeline object with ID d49a1906-b216-4259-bdfe-e15c42f43abc\n",
      "\u001b[2m\u001b[36m(_Trainable pid=58810)\u001b[0m [2023-06-15 22:32:19:579] - INFO - SAIL : created SAILPipeline object with ID d94db043-61cc-4aa9-b542-d4b218ad59d7\n",
      "\u001b[2m\u001b[36m(_Trainable pid=58810)\u001b[0m [2023-06-15 22:32:19:580] - INFO - SAIL : created SAILPipeline object with ID 51ca22e3-89b1-44ca-9435-1f2bbf9b26b5\n",
      "\u001b[2m\u001b[36m(_Trainable pid=58810)\u001b[0m [2023-06-15 22:32:19:590] - INFO - SAIL : created SAILPipeline object with ID 796e1b1c-f669-4d47-a03e-f9fa2a25ef4c\n",
      "\u001b[2m\u001b[36m(_Trainable pid=58810)\u001b[0m [2023-06-15 22:32:19:612] - INFO - SAIL : created SAILPipeline object with ID fbb9d8a2-ef4d-4e79-a415-1960eeb22c93\n",
      "\u001b[2m\u001b[36m(_Trainable pid=58810)\u001b[0m [2023-06-15 22:32:19:634] - INFO - SAIL : created SAILPipeline object with ID 059a54c0-a59b-4533-9cb3-55ae1b73cb20\n",
      "2023-06-15 22:32:19,704\tINFO tensorboardx.py:269 -- Removed the following hyperparameter values when logging to tensorboard: {'classifier': LogisticRegression(initializer=Zeros (),\n",
      "                   intercept_lr=Constant({'learning_rate': 0.01}),\n",
      "                   loss=Log({'weight_pos': 1.0, 'weight_neg': 1.0}),\n",
      "                   optimizer=SGD({'lr': Constant({'learning_rate': 0.1}), 'n_iterations': 0}))}\n",
      "\u001b[2m\u001b[36m(_Trainable pid=58810)\u001b[0m [2023-06-15 22:32:19:655] - INFO - SAIL : created SAILPipeline object with ID 0f0c3a2c-8d0e-4379-b7db-4003f02d483c\n",
      "\u001b[2m\u001b[36m(_Trainable pid=58810)\u001b[0m [2023-06-15 22:32:19:677] - INFO - SAIL : created SAILPipeline object with ID f4f40b40-313e-43af-b40c-a2c96fb99017\n",
      "2023-06-15 22:32:19,798\tINFO tensorboardx.py:269 -- Removed the following hyperparameter values when logging to tensorboard: {'classifier': LogisticRegression(initializer=Zeros (),\n",
      "                   intercept_lr=Constant({'learning_rate': 0.01}),\n",
      "                   loss=Log({'weight_pos': 1.0, 'weight_neg': 1.0}),\n",
      "                   optimizer=SGD({'lr': Constant({'learning_rate': 0.1}), 'n_iterations': 0}))}\n",
      "2023-06-15 22:32:19,806\tINFO tensorboardx.py:269 -- Removed the following hyperparameter values when logging to tensorboard: {'classifier': LogisticRegression(initializer=Zeros (),\n",
      "                   intercept_lr=Constant({'learning_rate': 0.01}),\n",
      "                   loss=Log({'weight_pos': 1.0, 'weight_neg': 1.0}),\n",
      "                   optimizer=SGD({'lr': Constant({'learning_rate': 0.1}), 'n_iterations': 0}))}\n",
      "2023-06-15 22:32:19,820\tINFO tensorboardx.py:269 -- Removed the following hyperparameter values when logging to tensorboard: {'classifier': LogisticRegression(initializer=Zeros (),\n",
      "                   intercept_lr=Constant({'learning_rate': 0.01}),\n",
      "                   loss=Log({'weight_pos': 1.0, 'weight_neg': 1.0}),\n",
      "                   optimizer=SGD({'lr': Constant({'learning_rate': 0.1}), 'n_iterations': 0}))}\n"
     ]
    },
    {
     "name": "stdout",
     "output_type": "stream",
     "text": [
      "\u001b[2m\u001b[36m(_Trainable pid=58810)\u001b[0m [Pipeline] ........ (step 3 of 3) Processing classifier, total=   0.0s\n",
      "\u001b[2m\u001b[36m(_Trainable pid=58810)\u001b[0m [Pipeline] ........ (step 3 of 3) Processing classifier, total=   0.0s\n",
      "\u001b[2m\u001b[36m(_Trainable pid=58810)\u001b[0m [Pipeline] ........ (step 3 of 3) Processing classifier, total=   0.0s\n",
      "\u001b[2m\u001b[36m(_Trainable pid=58810)\u001b[0m [Pipeline] ........ (step 3 of 3) Processing classifier, total=   0.0s\n",
      "\u001b[2m\u001b[36m(_Trainable pid=58810)\u001b[0m [Pipeline] ........ (step 3 of 3) Processing classifier, total=   0.0s\n"
     ]
    },
    {
     "name": "stderr",
     "output_type": "stream",
     "text": [
      "2023-06-15 22:32:21,366\tINFO tensorboardx.py:269 -- Removed the following hyperparameter values when logging to tensorboard: {'classifier': AdaptiveRandomForestClassifier()}\n",
      "2023-06-15 22:32:22,774\tINFO tensorboardx.py:269 -- Removed the following hyperparameter values when logging to tensorboard: {'classifier': AdaptiveRandomForestClassifier()}\n",
      "[2023-06-15 22:32:22:804] - INFO - SAIL : created SAILPipeline object with ID 3e1dd911-3a2f-4189-b11e-bb81738224c2\n",
      "[2023-06-15 22:32:22:806] - INFO - SAIL : created SAILPipeline object with ID a52f8a81-41c6-483a-b646-d5af255c79bb\n",
      "[2023-06-15 22:32:23:562] - INFO - SAIL : Cumulative Pipeline Score: 0.88\n",
      "[2023-06-15 22:32:23:577] - INFO - SAIL : Cumulative Pipeline Score: 0.91\n",
      "[2023-06-15 22:32:23:593] - INFO - SAIL : Cumulative Pipeline Score: 0.8666666666666667\n",
      "[2023-06-15 22:32:23:609] - INFO - SAIL : Cumulative Pipeline Score: 0.875\n",
      "[2023-06-15 22:32:23:625] - INFO - SAIL : Cumulative Pipeline Score: 0.868\n",
      "[2023-06-15 22:32:23:643] - INFO - SAIL : Cumulative Pipeline Score: 0.87\n",
      "[2023-06-15 22:32:23:659] - INFO - SAIL : Cumulative Pipeline Score: 0.8714285714285714\n",
      "[2023-06-15 22:32:23:676] - INFO - SAIL : Cumulative Pipeline Score: 0.8675\n",
      "[2023-06-15 22:32:23:692] - INFO - SAIL : Cumulative Pipeline Score: 0.86\n",
      "[2023-06-15 22:32:23:707] - INFO - SAIL : Cumulative Pipeline Score: 0.862\n",
      "[2023-06-15 22:32:23:723] - INFO - SAIL : Cumulative Pipeline Score: 0.86\n",
      "[2023-06-15 22:32:23:743] - INFO - SAIL : Cumulative Pipeline Score: 0.86\n"
     ]
    },
    {
     "name": "stdout",
     "output_type": "stream",
     "text": [
      "[Pipeline] ........ (step 3 of 3) Processing classifier, total=   0.7s\n"
     ]
    },
    {
     "name": "stderr",
     "output_type": "stream",
     "text": [
      "[2023-06-15 22:32:23:767] - INFO - SAIL : Cumulative Pipeline Score: 0.8630769230769231\n",
      "[2023-06-15 22:32:23:787] - INFO - SAIL : Cumulative Pipeline Score: 0.8657142857142858\n",
      "[2023-06-15 22:32:23:803] - INFO - SAIL : Cumulative Pipeline Score: 0.8693333333333333\n",
      "[2023-06-15 22:32:23:820] - INFO - SAIL : Cumulative Pipeline Score: 0.86375\n",
      "[2023-06-15 22:32:23:836] - INFO - SAIL : Cumulative Pipeline Score: 0.8647058823529412\n",
      "[2023-06-15 22:32:23:852] - INFO - SAIL : Cumulative Pipeline Score: 0.8677777777777778\n",
      "[2023-06-15 22:32:23:868] - INFO - SAIL : Cumulative Pipeline Score: 0.8652631578947368\n",
      "[2023-06-15 22:32:23:888] - INFO - SAIL : Cumulative Pipeline Score: 0.868\n"
     ]
    }
   ],
   "source": [
    "y_preds = []\n",
    "y_true = []\n",
    "batch_size = 50\n",
    "\n",
    "start = 0\n",
    "for end in range(50, 2001, batch_size):\n",
    "\n",
    "    X_train = X.iloc[start:end]\n",
    "    y_train = y.iloc[start:end]\n",
    "\n",
    "    if end > 1000: # search_data_size is 1000\n",
    "        preds = auto_pipeline.predict(X_train)\n",
    "        y_preds.extend(list(preds))\n",
    "        y_true.extend(list(y_train))\n",
    "\n",
    "    auto_pipeline.train(X_train, y_train)\n",
    "    start = end\n"
   ]
  },
  {
   "cell_type": "code",
   "execution_count": 8,
   "metadata": {},
   "outputs": [
    {
     "name": "stdout",
     "output_type": "stream",
     "text": [
      "              precision    recall  f1-score   support\n",
      "\n",
      "           0       0.85      0.97      0.91       652\n",
      "           1       0.93      0.67      0.78       348\n",
      "\n",
      "    accuracy                           0.87      1000\n",
      "   macro avg       0.89      0.82      0.84      1000\n",
      "weighted avg       0.88      0.87      0.86      1000\n",
      "\n"
     ]
    }
   ],
   "source": [
    "from sklearn.metrics import confusion_matrix, classification_report\n",
    "\n",
    "print(classification_report(y_true, y_preds))"
   ]
  },
  {
   "cell_type": "code",
   "execution_count": 9,
   "metadata": {},
   "outputs": [
    {
     "data": {
      "text/plain": [
       "<Axes: >"
      ]
     },
     "execution_count": 9,
     "metadata": {},
     "output_type": "execute_result"
    },
    {
     "data": {
      "image/png": "[encoded data removed]",
      "text/plain": [
       "<Figure size 640x480 with 2 Axes>"
      ]
     },
     "metadata": {},
     "output_type": "display_data"
    }
   ],
   "source": [
    "import seaborn as sns\n",
    "\n",
    "cf_matrix = confusion_matrix(y_true, y_preds)\n",
    "sns.heatmap(cf_matrix/np.sum(cf_matrix), annot=True, fmt='.2%', cmap='Blues')"
   ]
  }
 ],
 "metadata": {
  "kernelspec": {
   "display_name": "venv-sail",
   "language": "python",
   "name": "python3"
  },
  "language_info": {
   "codemirror_mode": {
    "name": "ipython",
    "version": 3
   },
   "file_extension": ".py",
   "mimetype": "text/x-python",
   "name": "python",
   "nbconvert_exporter": "python",
   "pygments_lexer": "ipython3",
   "version": "3.8.12"
  },
  "orig_nbformat": 4
 },
 "nbformat": 4,
 "nbformat_minor": 2
}
