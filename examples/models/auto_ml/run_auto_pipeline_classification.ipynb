{
 "cells": [
  {
   "cell_type": "code",
   "execution_count": 1,
   "metadata": {},
   "outputs": [],
   "source": [
    "import numpy as np\n",
    "import pandas as pd\n",
    "from river import optim\n",
    "from river.drift import ADWIN\n",
    "from ray.tune.sklearn import TuneGridSearchCV\n",
    "from sail.models.river.forest import AdaptiveRandomForestClassifier\n",
    "from sail.models.river.linear_model import LogisticRegression\n",
    "from sail.models.auto_ml.auto_pipeline import SAILAutoPipeline\n",
    "from sail.pipeline import SAILPipeline\n",
    "from sklearn.impute import SimpleImputer\n",
    "import ray.cloudpickle as cpickle\n",
    "from sail.transfomers.river.preprocessing import StandardScaler"
   ]
  },
  {
   "attachments": {},
   "cell_type": "markdown",
   "metadata": {},
   "source": [
    "#### Load Data"
   ]
  },
  {
   "cell_type": "code",
   "execution_count": 2,
   "metadata": {},
   "outputs": [],
   "source": [
    "df = pd.read_csv(\"../../datasets/agrawal.csv\").head(50000)\n",
    "X = df.copy()\n",
    "\n",
    "y = X[\"class\"]\n",
    "X.drop(\"class\", axis=1, inplace=True)\n"
   ]
  },
  {
   "attachments": {},
   "cell_type": "markdown",
   "metadata": {},
   "source": [
    "#### Model Definition"
   ]
  },
  {
   "cell_type": "code",
   "execution_count": 3,
   "metadata": {},
   "outputs": [],
   "source": [
    "logistic_reg = LogisticRegression(optimizer=optim.SGD(0.1))\n",
    "random_forest = AdaptiveRandomForestClassifier(n_models=10)"
   ]
  },
  {
   "attachments": {},
   "cell_type": "markdown",
   "metadata": {},
   "source": [
    "#### Create SAIL Pipeline"
   ]
  },
  {
   "cell_type": "code",
   "execution_count": 4,
   "metadata": {},
   "outputs": [
    {
     "name": "stderr",
     "output_type": "stream",
     "text": [
      "[2023-06-12 18:55:55:676] - INFO - SAIL : created SAILPipeline object with ID 6df0b2fe-caab-4b3a-ad2f-859e6387285b\n"
     ]
    }
   ],
   "source": [
    "steps = [\n",
    "    (\"Imputer\", SimpleImputer(missing_values=np.nan, strategy=\"mean\")),\n",
    "    (\"standard_scalar\", StandardScaler()),\n",
    "    (\"classifier\", \"passthrough\"),\n",
    "]\n",
    "sail_pipeline = SAILPipeline(steps=steps)"
   ]
  },
  {
   "attachments": {},
   "cell_type": "markdown",
   "metadata": {},
   "source": [
    "#### HPO Params"
   ]
  },
  {
   "cell_type": "code",
   "execution_count": 5,
   "metadata": {},
   "outputs": [],
   "source": [
    "params_grid = [\n",
    "    {\n",
    "        \"classifier\": [logistic_reg],\n",
    "        \"classifier__l2\": [0.1, 0.9],\n",
    "        \"classifier__intercept_init\": [0.2, 0.5],\n",
    "    },\n",
    "    {\n",
    "        \"classifier\": [random_forest],\n",
    "        \"classifier__n_models\": [5, 10],\n",
    "        \"Imputer\": [\"passthrough\"],\n",
    "    },\n",
    "]"
   ]
  },
  {
   "attachments": {},
   "cell_type": "markdown",
   "metadata": {},
   "source": [
    "#### Create Model Instance"
   ]
  },
  {
   "cell_type": "code",
   "execution_count": 6,
   "metadata": {},
   "outputs": [
    {
     "name": "stderr",
     "output_type": "stream",
     "text": [
      "[2023-06-12 18:55:55:722] - INFO - SAIL : Pipeline Strategy [DetectAndIncrement] created with actions: ['DATA_COLLECTION', 'FIND_BEST_PIPELINE', 'SCORE_AND_DETECT_DRIFT', 'PARTIAL_FIT_MODEL']\n"
     ]
    }
   ],
   "source": [
    "auto_pipeline = SAILAutoPipeline(\n",
    "    pipeline=sail_pipeline,\n",
    "    pipeline_params_grid=params_grid,\n",
    "    search_data_size=1000,\n",
    "    search_method=TuneGridSearchCV,\n",
    "    search_method_params={\n",
    "        \"max_iters\": 1,\n",
    "        \"early_stopping\": False,\n",
    "        \"mode\": \"max\",\n",
    "        \"scoring\": \"accuracy\",\n",
    "        \"pipeline_auto_early_stop\": False,\n",
    "    },\n",
    "    drift_detector=ADWIN(delta=0.001),\n",
    "    pipeline_strategy=\"DetectAndIncrement\"\n",
    ")"
   ]
  },
  {
   "attachments": {},
   "cell_type": "markdown",
   "metadata": {},
   "source": [
    "#### Start Training"
   ]
  },
  {
   "cell_type": "code",
   "execution_count": 7,
   "metadata": {},
   "outputs": [
    {
     "data": {
      "text/html": [],
      "text/plain": [
       "<IPython.core.display.HTML object>"
      ]
     },
     "metadata": {},
     "output_type": "display_data"
    },
    {
     "name": "stderr",
     "output_type": "stream",
     "text": [
      "2023-06-12 18:55:59,162\tWARNING searcher.py:377 -- save not implemented for Searcher. Skipping save.\n",
      "\u001b[2m\u001b[36m(_TuneSklearnTrainable pid=4911)\u001b[0m [2023-06-12 18:56:01:192] - INFO - SAIL : created SAILPipeline object with ID ac8b25fe-5b84-433f-b367-210c90c6ffc3\n",
      "\u001b[2m\u001b[36m(_TuneSklearnTrainable pid=4911)\u001b[0m [2023-06-12 18:56:01:192] - INFO - SAIL : created SAILPipeline object with ID 4466daff-4c14-4d0a-9c10-b83e53a6d08e\n",
      "\u001b[2m\u001b[36m(_TuneSklearnTrainable pid=4911)\u001b[0m [2023-06-12 18:56:01:193] - INFO - SAIL : created SAILPipeline object with ID 75a01b91-f1b0-4bf3-9ecc-7130da074723\n",
      "\u001b[2m\u001b[36m(_TuneSklearnTrainable pid=4911)\u001b[0m [2023-06-12 18:56:01:193] - INFO - SAIL : created SAILPipeline object with ID 8a1ced45-9580-456a-9bc8-4879d15866d6\n",
      "\u001b[2m\u001b[36m(_TuneSklearnTrainable pid=4911)\u001b[0m [2023-06-12 18:56:01:193] - INFO - SAIL : created SAILPipeline object with ID 49255734-8526-4c04-a366-31c2a8d6a8c1\n",
      "\u001b[2m\u001b[36m(_TuneSklearnTrainable pid=4911)\u001b[0m [2023-06-12 18:56:01:224] - INFO - SAIL : created SAILPipeline object with ID 7362e4b0-969f-4028-9cfc-6ed6f389c4f8\n",
      "\u001b[2m\u001b[36m(_TuneSklearnTrainable pid=4911)\u001b[0m [2023-06-12 18:56:01:248] - INFO - SAIL : created SAILPipeline object with ID 1e541858-04b2-42c9-b3f9-48159603c05d\n",
      "\u001b[2m\u001b[36m(_TuneSklearnTrainable pid=4911)\u001b[0m [2023-06-12 18:56:01:269] - INFO - SAIL : created SAILPipeline object with ID bb593df8-ebc3-4f8b-ae5f-c6e2da2c61a9\n",
      "2023-06-12 18:56:01,334\tINFO tensorboardx.py:269 -- Removed the following hyperparameter values when logging to tensorboard: {'classifier': LogisticRegression(initializer=Zeros (),\n",
      "                   intercept_lr=Constant({'learning_rate': 0.01}),\n",
      "                   loss=Log({'weight_pos': 1.0, 'weight_neg': 1.0}),\n",
      "                   optimizer=SGD({'lr': Constant({'learning_rate': 0.1}), 'n_iterations': 0}))}\n",
      "2023-06-12 18:56:01,345\tINFO tensorboardx.py:269 -- Removed the following hyperparameter values when logging to tensorboard: {'classifier': LogisticRegression(initializer=Zeros (),\n",
      "                   intercept_lr=Constant({'learning_rate': 0.01}),\n",
      "                   loss=Log({'weight_pos': 1.0, 'weight_neg': 1.0}),\n",
      "                   optimizer=SGD({'lr': Constant({'learning_rate': 0.1}), 'n_iterations': 0}))}\n",
      "2023-06-12 18:56:01,350\tINFO tensorboardx.py:269 -- Removed the following hyperparameter values when logging to tensorboard: {'classifier': LogisticRegression(initializer=Zeros (),\n",
      "                   intercept_lr=Constant({'learning_rate': 0.01}),\n",
      "                   loss=Log({'weight_pos': 1.0, 'weight_neg': 1.0}),\n",
      "                   optimizer=SGD({'lr': Constant({'learning_rate': 0.1}), 'n_iterations': 0}))}\n",
      "2023-06-12 18:56:01,412\tINFO tensorboardx.py:269 -- Removed the following hyperparameter values when logging to tensorboard: {'classifier': LogisticRegression(initializer=Zeros (),\n",
      "                   intercept_lr=Constant({'learning_rate': 0.01}),\n",
      "                   loss=Log({'weight_pos': 1.0, 'weight_neg': 1.0}),\n",
      "                   optimizer=SGD({'lr': Constant({'learning_rate': 0.1}), 'n_iterations': 0}))}\n"
     ]
    },
    {
     "name": "stdout",
     "output_type": "stream",
     "text": [
      "\u001b[2m\u001b[36m(_TuneSklearnTrainable pid=4911)\u001b[0m [Pipeline] ........ (step 3 of 3) Processing classifier, total=   0.0s\n",
      "\u001b[2m\u001b[36m(_TuneSklearnTrainable pid=4911)\u001b[0m [Pipeline] ........ (step 3 of 3) Processing classifier, total=   0.0s\n"
     ]
    },
    {
     "name": "stderr",
     "output_type": "stream",
     "text": [
      "2023-06-12 18:56:02,896\tINFO tensorboardx.py:269 -- Removed the following hyperparameter values when logging to tensorboard: {'classifier': AdaptiveRandomForestClassifier()}\n",
      "2023-06-12 18:56:04,532\tINFO tensorboardx.py:269 -- Removed the following hyperparameter values when logging to tensorboard: {'classifier': AdaptiveRandomForestClassifier()}\n",
      "[2023-06-12 18:56:04:571] - INFO - SAIL : created SAILPipeline object with ID b4d5ae84-a355-48d7-a3be-36281ad0b822\n",
      "[2023-06-12 18:56:04:573] - INFO - SAIL : created SAILPipeline object with ID 50690bd1-844c-4296-acaf-0537a38176ea\n",
      "[2023-06-12 18:56:05:328] - INFO - SAIL : Cumulative Pipeline Score: 0.92\n",
      "[2023-06-12 18:56:05:342] - INFO - SAIL : Cumulative Pipeline Score: 0.96\n",
      "[2023-06-12 18:56:05:357] - INFO - SAIL : Cumulative Pipeline Score: 0.9266666666666666\n",
      "[2023-06-12 18:56:05:372] - INFO - SAIL : Cumulative Pipeline Score: 0.93\n",
      "[2023-06-12 18:56:05:389] - INFO - SAIL : Cumulative Pipeline Score: 0.908\n",
      "[2023-06-12 18:56:05:404] - INFO - SAIL : Cumulative Pipeline Score: 0.91\n",
      "[2023-06-12 18:56:05:420] - INFO - SAIL : Cumulative Pipeline Score: 0.92\n",
      "[2023-06-12 18:56:05:436] - INFO - SAIL : Cumulative Pipeline Score: 0.9225\n",
      "[2023-06-12 18:56:05:451] - INFO - SAIL : Cumulative Pipeline Score: 0.9133333333333333\n",
      "[2023-06-12 18:56:05:466] - INFO - SAIL : Cumulative Pipeline Score: 0.912\n",
      "[2023-06-12 18:56:05:481] - INFO - SAIL : Cumulative Pipeline Score: 0.9127272727272727\n",
      "[2023-06-12 18:56:05:496] - INFO - SAIL : Cumulative Pipeline Score: 0.9166666666666666\n",
      "[2023-06-12 18:56:05:511] - INFO - SAIL : Cumulative Pipeline Score: 0.9138461538461539\n"
     ]
    },
    {
     "name": "stdout",
     "output_type": "stream",
     "text": [
      "[Pipeline] ........ (step 3 of 3) Processing classifier, total=   0.7s\n"
     ]
    },
    {
     "name": "stderr",
     "output_type": "stream",
     "text": [
      "[2023-06-12 18:56:05:528] - INFO - SAIL : Cumulative Pipeline Score: 0.9142857142857143\n",
      "[2023-06-12 18:56:05:544] - INFO - SAIL : Cumulative Pipeline Score: 0.916\n",
      "[2023-06-12 18:56:05:560] - INFO - SAIL : Cumulative Pipeline Score: 0.9175\n",
      "[2023-06-12 18:56:05:575] - INFO - SAIL : Cumulative Pipeline Score: 0.9176470588235294\n",
      "[2023-06-12 18:56:05:590] - INFO - SAIL : Cumulative Pipeline Score: 0.9188888888888889\n",
      "[2023-06-12 18:56:05:606] - INFO - SAIL : Cumulative Pipeline Score: 0.92\n",
      "[2023-06-12 18:56:05:622] - INFO - SAIL : Cumulative Pipeline Score: 0.923\n"
     ]
    }
   ],
   "source": [
    "y_preds = []\n",
    "y_true = []\n",
    "batch_size = 50\n",
    "\n",
    "start = 0\n",
    "for end in range(50, 2001, batch_size):\n",
    "\n",
    "    X_train = X.iloc[start:end]\n",
    "    y_train = y.iloc[start:end]\n",
    "\n",
    "    if end > 1000: # search_data_size is 1000\n",
    "        preds = auto_pipeline.predict(X_train)\n",
    "        y_preds.extend(list(preds))\n",
    "        y_true.extend(list(y_train))\n",
    "\n",
    "    auto_pipeline.train(X_train, y_train)\n",
    "    start = end\n"
   ]
  },
  {
   "cell_type": "code",
   "execution_count": 8,
   "metadata": {},
   "outputs": [
    {
     "name": "stdout",
     "output_type": "stream",
     "text": [
      "              precision    recall  f1-score   support\n",
      "\n",
      "           0       0.91      0.97      0.94       652\n",
      "           1       0.94      0.83      0.88       348\n",
      "\n",
      "    accuracy                           0.92      1000\n",
      "   macro avg       0.93      0.90      0.91      1000\n",
      "weighted avg       0.92      0.92      0.92      1000\n",
      "\n"
     ]
    }
   ],
   "source": [
    "from sklearn.metrics import confusion_matrix, classification_report\n",
    "\n",
    "print(classification_report(y_true, y_preds))"
   ]
  },
  {
   "cell_type": "code",
   "execution_count": 9,
   "metadata": {},
   "outputs": [
    {
     "data": {
      "text/plain": [
       "<Axes: >"
      ]
     },
     "execution_count": 9,
     "metadata": {},
     "output_type": "execute_result"
    },
    {
     "data": {
      "image/png": "[encoded data removed]",
      "text/plain": [
       "<Figure size 640x480 with 2 Axes>"
      ]
     },
     "metadata": {},
     "output_type": "display_data"
    }
   ],
   "source": [
    "import seaborn as sns\n",
    "\n",
    "cf_matrix = confusion_matrix(y_true, y_preds)\n",
    "sns.heatmap(cf_matrix/np.sum(cf_matrix), annot=True, fmt='.2%', cmap='Blues')"
   ]
  }
 ],
 "metadata": {
  "kernelspec": {
   "display_name": "venv-sail",
   "language": "python",
   "name": "python3"
  },
  "language_info": {
   "codemirror_mode": {
    "name": "ipython",
    "version": 3
   },
   "file_extension": ".py",
   "mimetype": "text/x-python",
   "name": "python",
   "nbconvert_exporter": "python",
   "pygments_lexer": "ipython3",
   "version": "3.8.12"
  },
  "orig_nbformat": 4
 },
 "nbformat": 4,
 "nbformat_minor": 2
}
