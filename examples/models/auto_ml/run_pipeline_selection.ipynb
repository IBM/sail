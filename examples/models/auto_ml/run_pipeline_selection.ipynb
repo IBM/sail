{
 "cells": [
  {
   "cell_type": "code",
   "execution_count": 1,
   "metadata": {},
   "outputs": [],
   "source": [
    "import numpy as np\n",
    "import pandas as pd\n",
    "from river import optim\n",
    "from river.drift import ADWIN\n",
    "from ray.tune.sklearn import TuneGridSearchCV\n",
    "\n",
    "from sail.models.river.forest import AdaptiveRandomForestClassifier\n",
    "from sail.models.river.linear_model import LogisticRegression\n",
    "from sail.models.auto_ml import PipeLineSelection\n",
    "from sail.pipeline import SAILPipeline\n",
    "from sklearn.impute import SimpleImputer\n",
    "from sail.transfomers.river.preprocessing import StandardScaler"
   ]
  },
  {
   "attachments": {},
   "cell_type": "markdown",
   "metadata": {},
   "source": [
    "#### Load Data"
   ]
  },
  {
   "cell_type": "code",
   "execution_count": 2,
   "metadata": {},
   "outputs": [],
   "source": [
    "df = pd.read_csv(\"/Users/dhaval/Projects/Datasets/agrawal.csv\").head(50000)\n",
    "X = df.copy()\n",
    "\n",
    "y = X[\"class\"]\n",
    "X.drop(\"class\", axis=1, inplace=True)\n"
   ]
  },
  {
   "attachments": {},
   "cell_type": "markdown",
   "metadata": {},
   "source": [
    "#### Model Definition"
   ]
  },
  {
   "cell_type": "code",
   "execution_count": 3,
   "metadata": {},
   "outputs": [],
   "source": [
    "logistic_reg = LogisticRegression(optimizer=optim.SGD(0.1))\n",
    "random_forest = AdaptiveRandomForestClassifier(n_models=10)"
   ]
  },
  {
   "attachments": {},
   "cell_type": "markdown",
   "metadata": {},
   "source": [
    "#### Create SAIL Pipeline"
   ]
  },
  {
   "cell_type": "code",
   "execution_count": 4,
   "metadata": {},
   "outputs": [
    {
     "name": "stderr",
     "output_type": "stream",
     "text": [
      "[2023-05-11 22:54:30:665] - INFO - SAIL : created SAILPipeline object with ID 61208b7b-a181-4ae7-b6ae-6fba11e7fb27\n"
     ]
    }
   ],
   "source": [
    "steps = [\n",
    "    (\"Imputer\", SimpleImputer(missing_values=np.nan, strategy=\"mean\")),\n",
    "    (\"standard_scalar\", StandardScaler()),\n",
    "    (\"classifier\", \"passthrough\"),\n",
    "]\n",
    "sail_pipeline = SAILPipeline(steps=steps)"
   ]
  },
  {
   "attachments": {},
   "cell_type": "markdown",
   "metadata": {},
   "source": [
    "#### HPO Params"
   ]
  },
  {
   "cell_type": "code",
   "execution_count": 5,
   "metadata": {},
   "outputs": [],
   "source": [
    "param_grid = [\n",
    "    {\n",
    "        \"classifier\": [logistic_reg],\n",
    "        \"classifier__l2\": [0.1, 0.9],\n",
    "        \"classifier__intercept_init\": [0.2, 0.5],\n",
    "    },\n",
    "    {\n",
    "        \"classifier\": [random_forest],\n",
    "        \"classifier__n_models\": [5, 10],\n",
    "        \"Imputer\": [\"passthrough\"],\n",
    "    },\n",
    "]"
   ]
  },
  {
   "attachments": {},
   "cell_type": "markdown",
   "metadata": {},
   "source": [
    "#### Create Model Instance"
   ]
  },
  {
   "cell_type": "code",
   "execution_count": 6,
   "metadata": {},
   "outputs": [],
   "source": [
    "pipeline_selection = PipeLineSelection(\n",
    "    pipeline=sail_pipeline,\n",
    "    pipeline_params_grid=param_grid,\n",
    "    search_data_size=1000,\n",
    "    search_method=TuneGridSearchCV,\n",
    "    search_method_params={\n",
    "        \"max_iters\": 1,\n",
    "        \"early_stopping\": False,\n",
    "        \"mode\": \"max\",\n",
    "        \"scoring\": \"accuracy\",\n",
    "        \"pipeline_auto_early_stop\": False,\n",
    "    },\n",
    "    drift_detector=ADWIN(delta=0.001),\n",
    ")"
   ]
  },
  {
   "attachments": {},
   "cell_type": "markdown",
   "metadata": {},
   "source": [
    "#### Start Training"
   ]
  },
  {
   "cell_type": "code",
   "execution_count": 8,
   "metadata": {},
   "outputs": [
    {
     "data": {
      "text/html": [],
      "text/plain": [
       "<IPython.core.display.HTML object>"
      ]
     },
     "metadata": {},
     "output_type": "display_data"
    },
    {
     "name": "stderr",
     "output_type": "stream",
     "text": [
      "2023-05-11 22:56:40,587\tWARNING searcher.py:372 -- save not implemented for Searcher. Skipping save.\n",
      "\u001b[2m\u001b[36m(_Trainable pid=28023)\u001b[0m [2023-05-11 22:56:46:292] - INFO - SAIL : created SAILPipeline object with ID b711e480-15ba-460e-bca9-e7e43289f23e\n",
      "\u001b[2m\u001b[36m(_Trainable pid=28023)\u001b[0m [2023-05-11 22:56:46:294] - INFO - SAIL : created SAILPipeline object with ID 72519ae6-3d6d-466b-b805-bfc91578f393\n",
      "\u001b[2m\u001b[36m(_Trainable pid=28023)\u001b[0m [2023-05-11 22:56:46:295] - INFO - SAIL : created SAILPipeline object with ID e52dda04-296a-4fc0-b7bd-7a6b2d4f918c\n",
      "\u001b[2m\u001b[36m(_Trainable pid=28023)\u001b[0m [2023-05-11 22:56:46:297] - INFO - SAIL : created SAILPipeline object with ID bc153039-8126-49c0-8f30-c4fe6ccaf178\n",
      "\u001b[2m\u001b[36m(_Trainable pid=28023)\u001b[0m [2023-05-11 22:56:46:298] - INFO - SAIL : created SAILPipeline object with ID 5dda7293-4253-4d04-aa71-e09fb78975d0\n",
      "\u001b[2m\u001b[36m(_Trainable pid=28023)\u001b[0m [2023-05-11 22:56:46:312] - INFO - SAIL : created SAILPipeline object with ID c49bace6-9918-4a73-9959-f3cf96142da9\n",
      "\u001b[2m\u001b[36m(_Trainable pid=28024)\u001b[0m [2023-05-11 22:56:46:314] - INFO - SAIL : created SAILPipeline object with ID 6ae1524b-de07-44ab-910f-1c80bced34d3\n",
      "\u001b[2m\u001b[36m(_Trainable pid=28025)\u001b[0m [2023-05-11 22:56:46:298] - INFO - SAIL : created SAILPipeline object with ID df00d00a-44b3-40b4-a9cb-cc239f5402eb\n",
      "\u001b[2m\u001b[36m(_Trainable pid=28025)\u001b[0m [2023-05-11 22:56:46:300] - INFO - SAIL : created SAILPipeline object with ID a926f6d2-7c07-4827-82e8-423ceb9304a0\n",
      "\u001b[2m\u001b[36m(_Trainable pid=28025)\u001b[0m [2023-05-11 22:56:46:301] - INFO - SAIL : created SAILPipeline object with ID e7493bba-0842-4310-b375-05f555643e6a\n",
      "\u001b[2m\u001b[36m(_Trainable pid=28025)\u001b[0m [2023-05-11 22:56:46:301] - INFO - SAIL : created SAILPipeline object with ID ed55f8bc-8a4d-4983-8dac-15126309ae0a\n",
      "\u001b[2m\u001b[36m(_Trainable pid=28025)\u001b[0m [2023-05-11 22:56:46:303] - INFO - SAIL : created SAILPipeline object with ID 2c82f7c4-3e12-46d3-acc2-ce7cc398c9c1\n",
      "\u001b[2m\u001b[36m(_Trainable pid=28024)\u001b[0m [2023-05-11 22:56:46:315] - INFO - SAIL : created SAILPipeline object with ID 34976234-7116-41d2-a239-0c3a556ad6ae\n",
      "\u001b[2m\u001b[36m(_Trainable pid=28024)\u001b[0m [2023-05-11 22:56:46:316] - INFO - SAIL : created SAILPipeline object with ID 633640c2-0500-434b-9ba1-566bcc5021e1\n",
      "\u001b[2m\u001b[36m(_Trainable pid=28024)\u001b[0m [2023-05-11 22:56:46:317] - INFO - SAIL : created SAILPipeline object with ID 6383cf7d-fb8b-4449-8bba-1124eb5d8636\n",
      "\u001b[2m\u001b[36m(_Trainable pid=28024)\u001b[0m [2023-05-11 22:56:46:318] - INFO - SAIL : created SAILPipeline object with ID cd05ac3d-2d0d-4b38-9d22-29a176a430d7\n",
      "\u001b[2m\u001b[36m(_Trainable pid=28025)\u001b[0m [2023-05-11 22:56:46:319] - INFO - SAIL : created SAILPipeline object with ID b3e9b5d0-b9b6-4eb0-a4f1-fe2d96aa3e9d\n",
      "\u001b[2m\u001b[36m(_Trainable pid=28023)\u001b[0m [2023-05-11 22:56:46:394] - INFO - SAIL : created SAILPipeline object with ID b5960248-142d-4dd6-ba60-27f764033de8\n",
      "\u001b[2m\u001b[36m(_Trainable pid=28024)\u001b[0m [2023-05-11 22:56:46:332] - INFO - SAIL : created SAILPipeline object with ID 279c737f-361a-4807-9245-4985b4e1bd24\n",
      "\u001b[2m\u001b[36m(_Trainable pid=28024)\u001b[0m [2023-05-11 22:56:46:403] - INFO - SAIL : created SAILPipeline object with ID bd84bff1-673e-466e-abf4-6ffcc531a72a\n",
      "\u001b[2m\u001b[36m(_Trainable pid=28026)\u001b[0m [2023-05-11 22:56:46:371] - INFO - SAIL : created SAILPipeline object with ID e0758f70-c24a-4d90-803c-e5638a0e58e8\n",
      "\u001b[2m\u001b[36m(_Trainable pid=28026)\u001b[0m [2023-05-11 22:56:46:374] - INFO - SAIL : created SAILPipeline object with ID 784c2300-bda7-4544-849d-892e165df8fb\n",
      "\u001b[2m\u001b[36m(_Trainable pid=28026)\u001b[0m [2023-05-11 22:56:46:375] - INFO - SAIL : created SAILPipeline object with ID 2128e55f-87a0-4256-8247-bad053636b2b\n",
      "\u001b[2m\u001b[36m(_Trainable pid=28026)\u001b[0m [2023-05-11 22:56:46:375] - INFO - SAIL : created SAILPipeline object with ID 14a9c02c-1615-44e5-9e91-7910eb994f81\n",
      "\u001b[2m\u001b[36m(_Trainable pid=28026)\u001b[0m [2023-05-11 22:56:46:376] - INFO - SAIL : created SAILPipeline object with ID ec8e2a43-85b6-44e2-8418-966f2eecda65\n",
      "\u001b[2m\u001b[36m(_Trainable pid=28026)\u001b[0m [2023-05-11 22:56:46:385] - INFO - SAIL : created SAILPipeline object with ID dda67d88-d24b-486b-b9a5-e3d61c80abc2\n",
      "\u001b[2m\u001b[36m(_Trainable pid=28025)\u001b[0m [2023-05-11 22:56:46:391] - INFO - SAIL : created SAILPipeline object with ID de044e46-31e1-4ed0-b2ef-21338d3d0619\n"
     ]
    },
    {
     "name": "stdout",
     "output_type": "stream",
     "text": [
      "\u001b[2m\u001b[36m(_Trainable pid=28023)\u001b[0m [Pipeline] ........ (step 3 of 3) Processing classifier, total=   0.0s\n",
      "\u001b[2m\u001b[36m(_Trainable pid=28024)\u001b[0m [Pipeline] ........ (step 3 of 3) Processing classifier, total=   0.0s\n",
      "\u001b[2m\u001b[36m(_Trainable pid=28025)\u001b[0m [Pipeline] ........ (step 3 of 3) Processing classifier, total=   0.0s\n",
      "\u001b[2m\u001b[36m(_Trainable pid=28023)\u001b[0m [Pipeline] ........ (step 3 of 3) Processing classifier, total=   0.0s\n",
      "\u001b[2m\u001b[36m(_Trainable pid=28023)\u001b[0m [Pipeline] ........ (step 3 of 3) Processing classifier, total=   0.0s\n",
      "\u001b[2m\u001b[36m(_Trainable pid=28026)\u001b[0m [Pipeline] ........ (step 3 of 3) Processing classifier, total=   0.0s\n",
      "\u001b[2m\u001b[36m(_Trainable pid=28026)\u001b[0m [Pipeline] ........ (step 3 of 3) Processing classifier, total=   0.0s\n",
      "\u001b[2m\u001b[36m(_Trainable pid=28024)\u001b[0m [Pipeline] ........ (step 3 of 3) Processing classifier, total=   0.0s\n",
      "\u001b[2m\u001b[36m(_Trainable pid=28024)\u001b[0m [Pipeline] ........ (step 3 of 3) Processing classifier, total=   0.0s\n",
      "\u001b[2m\u001b[36m(_Trainable pid=28025)\u001b[0m [Pipeline] ........ (step 3 of 3) Processing classifier, total=   0.0s\n",
      "\u001b[2m\u001b[36m(_Trainable pid=28025)\u001b[0m [Pipeline] ........ (step 3 of 3) Processing classifier, total=   0.0s\n"
     ]
    },
    {
     "name": "stderr",
     "output_type": "stream",
     "text": [
      "\u001b[2m\u001b[36m(_Trainable pid=28023)\u001b[0m [2023-05-11 22:56:46:466] - INFO - SAIL : created SAILPipeline object with ID 363e4349-9884-44f5-bbbb-8e0a00096a68\n",
      "\u001b[2m\u001b[36m(_Trainable pid=28023)\u001b[0m [2023-05-11 22:56:46:533] - INFO - SAIL : created SAILPipeline object with ID c0904e7d-9bf3-4cba-bf37-c3b4fdc7fa73\n",
      "\u001b[2m\u001b[36m(_Trainable pid=28024)\u001b[0m [2023-05-11 22:56:46:479] - INFO - SAIL : created SAILPipeline object with ID a82d1ea8-e661-49ee-8768-ad591b48cbc2\n",
      "\u001b[2m\u001b[36m(_Trainable pid=28024)\u001b[0m [2023-05-11 22:56:46:551] - INFO - SAIL : created SAILPipeline object with ID 797c42fd-89cb-471d-9ab4-db9816f82a9a\n",
      "\u001b[2m\u001b[36m(_Trainable pid=28026)\u001b[0m [2023-05-11 22:56:46:451] - INFO - SAIL : created SAILPipeline object with ID 0716ff35-428d-4c1f-9fd7-db8c08d33c30\n",
      "\u001b[2m\u001b[36m(_Trainable pid=28026)\u001b[0m [2023-05-11 22:56:46:515] - INFO - SAIL : created SAILPipeline object with ID df01b28c-b671-4726-ba7c-0c6b5775b658\n",
      "\u001b[2m\u001b[36m(_Trainable pid=28025)\u001b[0m [2023-05-11 22:56:46:460] - INFO - SAIL : created SAILPipeline object with ID 3e7c88ec-34cd-4e2d-bfa1-55874781b242\n",
      "\u001b[2m\u001b[36m(_Trainable pid=28025)\u001b[0m [2023-05-11 22:56:46:528] - INFO - SAIL : created SAILPipeline object with ID 7d56d54d-2592-4325-b083-0598afcc4657\n",
      "\u001b[2m\u001b[36m(_Trainable pid=28031)\u001b[0m [2023-05-11 22:56:46:449] - INFO - SAIL : created SAILPipeline object with ID d492024a-54dd-4168-9804-c22885c2c3db\n",
      "\u001b[2m\u001b[36m(_Trainable pid=28031)\u001b[0m [2023-05-11 22:56:46:451] - INFO - SAIL : created SAILPipeline object with ID 98726d4b-a14b-4a4e-807d-1be3bec6e27d\n",
      "\u001b[2m\u001b[36m(_Trainable pid=28031)\u001b[0m [2023-05-11 22:56:46:452] - INFO - SAIL : created SAILPipeline object with ID cf648b22-3992-4154-a0f0-ee0d8c83a8b6\n",
      "\u001b[2m\u001b[36m(_Trainable pid=28031)\u001b[0m [2023-05-11 22:56:46:452] - INFO - SAIL : created SAILPipeline object with ID 53b77b69-f813-4dc9-ab00-1d31b8fd4a55\n",
      "\u001b[2m\u001b[36m(_Trainable pid=28031)\u001b[0m [2023-05-11 22:56:46:453] - INFO - SAIL : created SAILPipeline object with ID 7d97b544-03b8-4525-abed-1b1abe0e9f3e\n",
      "\u001b[2m\u001b[36m(_Trainable pid=28031)\u001b[0m [2023-05-11 22:56:46:465] - INFO - SAIL : created SAILPipeline object with ID 4dd3e393-4837-49f3-b582-098ed16387b7\n",
      "\u001b[2m\u001b[36m(_Trainable pid=28030)\u001b[0m [2023-05-11 22:56:46:452] - INFO - SAIL : created SAILPipeline object with ID 443742f4-8845-4460-bfa6-9329a5b00ac3\n",
      "\u001b[2m\u001b[36m(_Trainable pid=28030)\u001b[0m [2023-05-11 22:56:46:453] - INFO - SAIL : created SAILPipeline object with ID 1faefcbd-7614-4d7c-b608-23c85321e50f\n",
      "\u001b[2m\u001b[36m(_Trainable pid=28030)\u001b[0m [2023-05-11 22:56:46:454] - INFO - SAIL : created SAILPipeline object with ID 5f520805-a9aa-4f82-a9ad-96d23294bc1a\n",
      "\u001b[2m\u001b[36m(_Trainable pid=28030)\u001b[0m [2023-05-11 22:56:46:455] - INFO - SAIL : created SAILPipeline object with ID c0c0fc8b-a9e8-495b-9fbd-e23126796789\n",
      "\u001b[2m\u001b[36m(_Trainable pid=28030)\u001b[0m [2023-05-11 22:56:46:456] - INFO - SAIL : created SAILPipeline object with ID 873ec64f-49c5-4a70-9490-bf5c6747080a\n",
      "\u001b[2m\u001b[36m(_Trainable pid=28030)\u001b[0m [2023-05-11 22:56:46:471] - INFO - SAIL : created SAILPipeline object with ID 21927b49-cada-4696-bc7f-812e8ea5928b\n",
      "\u001b[2m\u001b[36m(_Trainable pid=28023)\u001b[0m [2023-05-11 22:56:46:631] - INFO - SAIL : created SAILPipeline object with ID 9dae0512-66a1-4f1b-8644-d2cf01c39085\n",
      "\u001b[2m\u001b[36m(_Trainable pid=28024)\u001b[0m [2023-05-11 22:56:46:647] - INFO - SAIL : created SAILPipeline object with ID 83fd2abd-ef90-4274-8fd2-341b0bb0411b\n",
      "\u001b[2m\u001b[36m(_Trainable pid=28026)\u001b[0m [2023-05-11 22:56:46:599] - INFO - SAIL : created SAILPipeline object with ID f2fb5eec-5e41-488b-aed1-ff8dd8aa5872\n",
      "\u001b[2m\u001b[36m(_Trainable pid=28025)\u001b[0m [2023-05-11 22:56:46:655] - INFO - SAIL : created SAILPipeline object with ID 737f3918-0726-4c18-afe1-855956fc9c5c\n",
      "\u001b[2m\u001b[36m(_Trainable pid=28026)\u001b[0m [2023-05-11 22:56:46:730] - INFO - SAIL : created SAILPipeline object with ID 7ae62944-2d0d-4e1a-ada2-41e91555e312\n",
      "2023-05-11 22:56:46,846\tINFO tensorboardx.py:267 -- Removed the following hyperparameter values when logging to tensorboard: {'classifier': LogisticRegression(initializer=Zeros (),\n",
      "                   intercept_lr=Constant({'learning_rate': 0.01}),\n",
      "                   loss=Log({'weight_pos': 1.0, 'weight_neg': 1.0}),\n",
      "                   optimizer=SGD({'lr': Constant({'learning_rate': 0.1}), 'n_iterations': 0}))}\n",
      "2023-05-11 22:56:46,890\tINFO tensorboardx.py:267 -- Removed the following hyperparameter values when logging to tensorboard: {'classifier': LogisticRegression(initializer=Zeros (),\n",
      "                   intercept_lr=Constant({'learning_rate': 0.01}),\n",
      "                   loss=Log({'weight_pos': 1.0, 'weight_neg': 1.0}),\n",
      "                   optimizer=SGD({'lr': Constant({'learning_rate': 0.1}), 'n_iterations': 0}))}\n"
     ]
    },
    {
     "name": "stdout",
     "output_type": "stream",
     "text": [
      "\u001b[2m\u001b[36m(_Trainable pid=28023)\u001b[0m [Pipeline] ........ (step 3 of 3) Processing classifier, total=   0.0s\n",
      "\u001b[2m\u001b[36m(_Trainable pid=28026)\u001b[0m [Pipeline] ........ (step 3 of 3) Processing classifier, total=   0.0s\n",
      "\u001b[2m\u001b[36m(_Trainable pid=28024)\u001b[0m [Pipeline] ........ (step 3 of 3) Processing classifier, total=   0.0s\n",
      "\u001b[2m\u001b[36m(_Trainable pid=28025)\u001b[0m [Pipeline] ........ (step 3 of 3) Processing classifier, total=   0.1s\n",
      "\u001b[2m\u001b[36m(_Trainable pid=28023)\u001b[0m [Pipeline] ........ (step 3 of 3) Processing classifier, total=   0.1s\n",
      "\u001b[2m\u001b[36m(_Trainable pid=28026)\u001b[0m [Pipeline] ........ (step 3 of 3) Processing classifier, total=   0.1s\n",
      "\u001b[2m\u001b[36m(_Trainable pid=28024)\u001b[0m [Pipeline] ........ (step 3 of 3) Processing classifier, total=   0.1s\n",
      "\u001b[2m\u001b[36m(_Trainable pid=28025)\u001b[0m [Pipeline] ........ (step 3 of 3) Processing classifier, total=   0.1s\n"
     ]
    },
    {
     "name": "stderr",
     "output_type": "stream",
     "text": [
      "2023-05-11 22:56:46,931\tINFO tensorboardx.py:267 -- Removed the following hyperparameter values when logging to tensorboard: {'classifier': LogisticRegression(initializer=Zeros (),\n",
      "                   intercept_lr=Constant({'learning_rate': 0.01}),\n",
      "                   loss=Log({'weight_pos': 1.0, 'weight_neg': 1.0}),\n",
      "                   optimizer=SGD({'lr': Constant({'learning_rate': 0.1}), 'n_iterations': 0}))}\n",
      "2023-05-11 22:56:46,965\tINFO tensorboardx.py:267 -- Removed the following hyperparameter values when logging to tensorboard: {'classifier': LogisticRegression(initializer=Zeros (),\n",
      "                   intercept_lr=Constant({'learning_rate': 0.01}),\n",
      "                   loss=Log({'weight_pos': 1.0, 'weight_neg': 1.0}),\n",
      "                   optimizer=SGD({'lr': Constant({'learning_rate': 0.1}), 'n_iterations': 0}))}\n"
     ]
    },
    {
     "name": "stdout",
     "output_type": "stream",
     "text": [
      "\u001b[2m\u001b[36m(_Trainable pid=28026)\u001b[0m [Pipeline] ........ (step 3 of 3) Processing classifier, total=   0.1s\n",
      "\u001b[2m\u001b[36m(_Trainable pid=28030)\u001b[0m [Pipeline] ........ (step 3 of 3) Processing classifier, total=   1.2s\n"
     ]
    },
    {
     "name": "stderr",
     "output_type": "stream",
     "text": [
      "\u001b[2m\u001b[36m(_Trainable pid=28030)\u001b[0m [2023-05-11 22:56:47:708] - INFO - SAIL : created SAILPipeline object with ID 1bc9a59c-7c20-4f65-af0d-4c9f07721ed1\n"
     ]
    },
    {
     "name": "stdout",
     "output_type": "stream",
     "text": [
      "\u001b[2m\u001b[36m(_Trainable pid=28030)\u001b[0m [Pipeline] ........ (step 3 of 3) Processing classifier, total=   0.7s\n",
      "\u001b[2m\u001b[36m(_Trainable pid=28031)\u001b[0m [Pipeline] ........ (step 3 of 3) Processing classifier, total=   1.9s\n"
     ]
    },
    {
     "name": "stderr",
     "output_type": "stream",
     "text": [
      "\u001b[2m\u001b[36m(_Trainable pid=28031)\u001b[0m [2023-05-11 22:56:48:490] - INFO - SAIL : created SAILPipeline object with ID d093d7fe-e90b-441f-bd8e-c6af9b01d83e\n",
      "\u001b[2m\u001b[36m(_Trainable pid=28030)\u001b[0m [2023-05-11 22:56:48:460] - INFO - SAIL : created SAILPipeline object with ID 0ed61416-b3f9-402d-94ff-99e146660c4b\n"
     ]
    },
    {
     "name": "stdout",
     "output_type": "stream",
     "text": [
      "\u001b[2m\u001b[36m(_Trainable pid=28030)\u001b[0m [Pipeline] ........ (step 3 of 3) Processing classifier, total=   0.7s\n"
     ]
    },
    {
     "name": "stderr",
     "output_type": "stream",
     "text": [
      "\u001b[2m\u001b[36m(_Trainable pid=28030)\u001b[0m [2023-05-11 22:56:49:206] - INFO - SAIL : created SAILPipeline object with ID 690b9028-4b6e-4856-bc06-1ff5932fbab1\n"
     ]
    },
    {
     "name": "stdout",
     "output_type": "stream",
     "text": [
      "\u001b[2m\u001b[36m(_Trainable pid=28031)\u001b[0m [Pipeline] ........ (step 3 of 3) Processing classifier, total=   1.4s\n",
      "\u001b[2m\u001b[36m(_Trainable pid=28030)\u001b[0m [Pipeline] ........ (step 3 of 3) Processing classifier, total=   0.7s\n"
     ]
    },
    {
     "name": "stderr",
     "output_type": "stream",
     "text": [
      "\u001b[2m\u001b[36m(_Trainable pid=28031)\u001b[0m [2023-05-11 22:56:49:989] - INFO - SAIL : created SAILPipeline object with ID 6c6f952d-16f7-4771-bf30-18ffb5eeae7e\n",
      "\u001b[2m\u001b[36m(_Trainable pid=28030)\u001b[0m [2023-05-11 22:56:49:988] - INFO - SAIL : created SAILPipeline object with ID 797cdbd2-7f38-4daa-9f54-a494f66a401e\n",
      "2023-05-11 22:56:50,825\tINFO tensorboardx.py:267 -- Removed the following hyperparameter values when logging to tensorboard: {'classifier': AdaptiveRandomForestClassifier()}\n"
     ]
    },
    {
     "name": "stdout",
     "output_type": "stream",
     "text": [
      "\u001b[2m\u001b[36m(_Trainable pid=28030)\u001b[0m [Pipeline] ........ (step 3 of 3) Processing classifier, total=   0.8s\n",
      "\u001b[2m\u001b[36m(_Trainable pid=28031)\u001b[0m [Pipeline] ........ (step 3 of 3) Processing classifier, total=   1.4s\n"
     ]
    },
    {
     "name": "stderr",
     "output_type": "stream",
     "text": [
      "\u001b[2m\u001b[36m(_Trainable pid=28031)\u001b[0m [2023-05-11 22:56:51:501] - INFO - SAIL : created SAILPipeline object with ID 2ff8c520-84e6-4b3e-b882-ebfcb5fc3174\n"
     ]
    },
    {
     "name": "stdout",
     "output_type": "stream",
     "text": [
      "\u001b[2m\u001b[36m(_Trainable pid=28031)\u001b[0m [Pipeline] ........ (step 3 of 3) Processing classifier, total=   1.4s\n"
     ]
    },
    {
     "name": "stderr",
     "output_type": "stream",
     "text": [
      "\u001b[2m\u001b[36m(_Trainable pid=28031)\u001b[0m [2023-05-11 22:56:52:946] - INFO - SAIL : created SAILPipeline object with ID d48648b8-3620-4343-a088-d858455d12a4\n",
      "2023-05-11 22:56:54,566\tINFO tensorboardx.py:267 -- Removed the following hyperparameter values when logging to tensorboard: {'classifier': AdaptiveRandomForestClassifier()}\n",
      "[2023-05-11 22:56:54:650] - INFO - SAIL : created SAILPipeline object with ID 3c2225dc-48ff-4ab2-a6b6-74c104435d04\n",
      "[2023-05-11 22:56:54:654] - INFO - SAIL : created SAILPipeline object with ID d5c6af15-34e9-4056-9e8a-2bae085472b5\n"
     ]
    },
    {
     "name": "stdout",
     "output_type": "stream",
     "text": [
      "\u001b[2m\u001b[36m(_Trainable pid=28031)\u001b[0m [Pipeline] ........ (step 3 of 3) Processing classifier, total=   1.5s\n"
     ]
    },
    {
     "name": "stderr",
     "output_type": "stream",
     "text": [
      "[2023-05-11 22:56:55:577] - INFO - SAIL : Cumulative Pipeline Score: 0.9\n",
      "[2023-05-11 22:56:55:579] - INFO - SAIL : Calling Partial_fit() on the pipeline.\n",
      "[2023-05-11 22:56:55:637] - INFO - SAIL : Cumulative Pipeline Score: 0.88\n",
      "[2023-05-11 22:56:55:638] - INFO - SAIL : Calling Partial_fit() on the pipeline.\n",
      "[2023-05-11 22:56:55:713] - INFO - SAIL : Cumulative Pipeline Score: 0.8866666666666667\n",
      "[2023-05-11 22:56:55:714] - INFO - SAIL : Calling Partial_fit() on the pipeline.\n"
     ]
    },
    {
     "name": "stdout",
     "output_type": "stream",
     "text": [
      "[Pipeline] ........ (step 3 of 3) Processing classifier, total=   0.9s\n",
      "[Pipeline] ........ (step 3 of 3) Processing classifier, total=   0.0s\n",
      "[Pipeline] ........ (step 3 of 3) Processing classifier, total=   0.1s\n",
      "[Pipeline] ........ (step 3 of 3) Processing classifier, total=   0.0s\n"
     ]
    },
    {
     "name": "stderr",
     "output_type": "stream",
     "text": [
      "[2023-05-11 22:56:55:780] - INFO - SAIL : Cumulative Pipeline Score: 0.895\n",
      "[2023-05-11 22:56:55:782] - INFO - SAIL : Calling Partial_fit() on the pipeline.\n",
      "[2023-05-11 22:56:55:854] - INFO - SAIL : Cumulative Pipeline Score: 0.9\n",
      "[2023-05-11 22:56:55:855] - INFO - SAIL : Calling Partial_fit() on the pipeline.\n",
      "[2023-05-11 22:56:55:921] - INFO - SAIL : Cumulative Pipeline Score: 0.9033333333333333\n",
      "[2023-05-11 22:56:55:921] - INFO - SAIL : Calling Partial_fit() on the pipeline.\n",
      "[2023-05-11 22:56:55:982] - INFO - SAIL : Cumulative Pipeline Score: 0.9114285714285715\n",
      "[2023-05-11 22:56:55:984] - INFO - SAIL : Calling Partial_fit() on the pipeline.\n",
      "[2023-05-11 22:56:56:44] - INFO - SAIL : Cumulative Pipeline Score: 0.91\n",
      "[2023-05-11 22:56:56:45] - INFO - SAIL : Calling Partial_fit() on the pipeline.\n"
     ]
    },
    {
     "name": "stdout",
     "output_type": "stream",
     "text": [
      "[Pipeline] ........ (step 3 of 3) Processing classifier, total=   0.1s\n",
      "[Pipeline] ........ (step 3 of 3) Processing classifier, total=   0.1s\n",
      "[Pipeline] ........ (step 3 of 3) Processing classifier, total=   0.0s\n",
      "[Pipeline] ........ (step 3 of 3) Processing classifier, total=   0.0s\n"
     ]
    },
    {
     "name": "stderr",
     "output_type": "stream",
     "text": [
      "[2023-05-11 22:56:56:110] - INFO - SAIL : Cumulative Pipeline Score: 0.9111111111111111\n",
      "[2023-05-11 22:56:56:111] - INFO - SAIL : Calling Partial_fit() on the pipeline.\n",
      "[2023-05-11 22:56:56:178] - INFO - SAIL : Cumulative Pipeline Score: 0.918\n",
      "[2023-05-11 22:56:56:179] - INFO - SAIL : Calling Partial_fit() on the pipeline.\n",
      "[2023-05-11 22:56:56:266] - INFO - SAIL : Cumulative Pipeline Score: 0.9163636363636364\n",
      "[2023-05-11 22:56:56:270] - INFO - SAIL : Calling Partial_fit() on the pipeline.\n"
     ]
    },
    {
     "name": "stdout",
     "output_type": "stream",
     "text": [
      "[Pipeline] ........ (step 3 of 3) Processing classifier, total=   0.0s\n",
      "[Pipeline] ........ (step 3 of 3) Processing classifier, total=   0.1s\n",
      "[Pipeline] ........ (step 3 of 3) Processing classifier, total=   0.1s\n"
     ]
    },
    {
     "name": "stderr",
     "output_type": "stream",
     "text": [
      "[2023-05-11 22:56:56:423] - INFO - SAIL : Cumulative Pipeline Score: 0.9216666666666666\n",
      "[2023-05-11 22:56:56:425] - INFO - SAIL : Calling Partial_fit() on the pipeline.\n",
      "[2023-05-11 22:56:56:542] - INFO - SAIL : Cumulative Pipeline Score: 0.916923076923077\n",
      "[2023-05-11 22:56:56:544] - INFO - SAIL : Calling Partial_fit() on the pipeline.\n"
     ]
    },
    {
     "name": "stdout",
     "output_type": "stream",
     "text": [
      "[Pipeline] ........ (step 3 of 3) Processing classifier, total=   0.1s\n",
      "[Pipeline] ........ (step 3 of 3) Processing classifier, total=   0.1s\n"
     ]
    },
    {
     "name": "stderr",
     "output_type": "stream",
     "text": [
      "[2023-05-11 22:56:56:639] - INFO - SAIL : Cumulative Pipeline Score: 0.92\n",
      "[2023-05-11 22:56:56:640] - INFO - SAIL : Calling Partial_fit() on the pipeline.\n",
      "[2023-05-11 22:56:56:721] - INFO - SAIL : Cumulative Pipeline Score: 0.916\n",
      "[2023-05-11 22:56:56:722] - INFO - SAIL : Calling Partial_fit() on the pipeline.\n",
      "[2023-05-11 22:56:56:810] - INFO - SAIL : Cumulative Pipeline Score: 0.91625\n",
      "[2023-05-11 22:56:56:811] - INFO - SAIL : Calling Partial_fit() on the pipeline.\n"
     ]
    },
    {
     "name": "stdout",
     "output_type": "stream",
     "text": [
      "[Pipeline] ........ (step 3 of 3) Processing classifier, total=   0.1s\n",
      "[Pipeline] ........ (step 3 of 3) Processing classifier, total=   0.1s\n",
      "[Pipeline] ........ (step 3 of 3) Processing classifier, total=   0.1s\n"
     ]
    },
    {
     "name": "stderr",
     "output_type": "stream",
     "text": [
      "[2023-05-11 22:56:56:890] - INFO - SAIL : Cumulative Pipeline Score: 0.9188235294117647\n",
      "[2023-05-11 22:56:56:891] - INFO - SAIL : Calling Partial_fit() on the pipeline.\n",
      "[2023-05-11 22:56:56:968] - INFO - SAIL : Cumulative Pipeline Score: 0.9211111111111111\n",
      "[2023-05-11 22:56:56:969] - INFO - SAIL : Calling Partial_fit() on the pipeline.\n",
      "[2023-05-11 22:56:57:50] - INFO - SAIL : Cumulative Pipeline Score: 0.92\n",
      "[2023-05-11 22:56:57:51] - INFO - SAIL : Calling Partial_fit() on the pipeline.\n"
     ]
    },
    {
     "name": "stdout",
     "output_type": "stream",
     "text": [
      "[Pipeline] ........ (step 3 of 3) Processing classifier, total=   0.1s\n",
      "[Pipeline] ........ (step 3 of 3) Processing classifier, total=   0.1s\n",
      "[Pipeline] ........ (step 3 of 3) Processing classifier, total=   0.1s\n"
     ]
    },
    {
     "name": "stderr",
     "output_type": "stream",
     "text": [
      "[2023-05-11 22:56:57:138] - INFO - SAIL : Cumulative Pipeline Score: 0.918\n",
      "[2023-05-11 22:56:57:139] - INFO - SAIL : Calling Partial_fit() on the pipeline.\n",
      "[2023-05-11 22:56:57:235] - INFO - SAIL : Cumulative Pipeline Score: 0.9180952380952381\n",
      "[2023-05-11 22:56:57:236] - INFO - SAIL : Calling Partial_fit() on the pipeline.\n"
     ]
    },
    {
     "name": "stdout",
     "output_type": "stream",
     "text": [
      "[Pipeline] ........ (step 3 of 3) Processing classifier, total=   0.1s\n",
      "[Pipeline] ........ (step 3 of 3) Processing classifier, total=   0.1s\n",
      "[Pipeline] ........ (step 3 of 3) Processing classifier, total=   0.1s\n"
     ]
    },
    {
     "name": "stderr",
     "output_type": "stream",
     "text": [
      "[2023-05-11 22:56:57:334] - INFO - SAIL : Cumulative Pipeline Score: 0.92\n",
      "[2023-05-11 22:56:57:336] - INFO - SAIL : Calling Partial_fit() on the pipeline.\n",
      "[2023-05-11 22:56:57:429] - INFO - SAIL : Cumulative Pipeline Score: 0.9182608695652174\n",
      "[2023-05-11 22:56:57:430] - INFO - SAIL : Calling Partial_fit() on the pipeline.\n",
      "[2023-05-11 22:56:57:507] - INFO - SAIL : Cumulative Pipeline Score: 0.9191666666666667\n",
      "[2023-05-11 22:56:57:508] - INFO - SAIL : Calling Partial_fit() on the pipeline.\n",
      "[2023-05-11 22:56:57:587] - INFO - SAIL : Cumulative Pipeline Score: 0.92\n",
      "[2023-05-11 22:56:57:588] - INFO - SAIL : Calling Partial_fit() on the pipeline.\n"
     ]
    },
    {
     "name": "stdout",
     "output_type": "stream",
     "text": [
      "[Pipeline] ........ (step 3 of 3) Processing classifier, total=   0.1s\n",
      "[Pipeline] ........ (step 3 of 3) Processing classifier, total=   0.1s\n",
      "[Pipeline] ........ (step 3 of 3) Processing classifier, total=   0.1s\n"
     ]
    },
    {
     "name": "stderr",
     "output_type": "stream",
     "text": [
      "[2023-05-11 22:56:57:667] - INFO - SAIL : Cumulative Pipeline Score: 0.9192307692307692\n",
      "[2023-05-11 22:56:57:668] - INFO - SAIL : Calling Partial_fit() on the pipeline.\n",
      "[2023-05-11 22:56:57:747] - INFO - SAIL : Cumulative Pipeline Score: 0.92\n",
      "[2023-05-11 22:56:57:748] - INFO - SAIL : Calling Partial_fit() on the pipeline.\n",
      "[2023-05-11 22:56:57:825] - INFO - SAIL : Cumulative Pipeline Score: 0.92\n",
      "[2023-05-11 22:56:57:825] - INFO - SAIL : Calling Partial_fit() on the pipeline.\n"
     ]
    },
    {
     "name": "stdout",
     "output_type": "stream",
     "text": [
      "[Pipeline] ........ (step 3 of 3) Processing classifier, total=   0.1s\n",
      "[Pipeline] ........ (step 3 of 3) Processing classifier, total=   0.1s\n",
      "[Pipeline] ........ (step 3 of 3) Processing classifier, total=   0.1s\n"
     ]
    },
    {
     "name": "stderr",
     "output_type": "stream",
     "text": [
      "[2023-05-11 22:56:57:900] - INFO - SAIL : Cumulative Pipeline Score: 0.9213793103448276\n",
      "[2023-05-11 22:56:57:901] - INFO - SAIL : Calling Partial_fit() on the pipeline.\n",
      "[2023-05-11 22:56:57:974] - INFO - SAIL : Cumulative Pipeline Score: 0.922\n",
      "[2023-05-11 22:56:57:976] - INFO - SAIL : Calling Partial_fit() on the pipeline.\n",
      "[2023-05-11 22:56:58:39] - INFO - SAIL : Cumulative Pipeline Score: 0.9238709677419354\n",
      "[2023-05-11 22:56:58:40] - INFO - SAIL : Calling Partial_fit() on the pipeline.\n"
     ]
    },
    {
     "name": "stdout",
     "output_type": "stream",
     "text": [
      "[Pipeline] ........ (step 3 of 3) Processing classifier, total=   0.0s\n",
      "[Pipeline] ........ (step 3 of 3) Processing classifier, total=   0.0s\n",
      "[Pipeline] ........ (step 3 of 3) Processing classifier, total=   0.0s\n"
     ]
    },
    {
     "name": "stderr",
     "output_type": "stream",
     "text": [
      "[2023-05-11 22:56:58:108] - INFO - SAIL : Cumulative Pipeline Score: 0.924375\n",
      "[2023-05-11 22:56:58:109] - INFO - SAIL : Calling Partial_fit() on the pipeline.\n",
      "[2023-05-11 22:56:58:180] - INFO - SAIL : Cumulative Pipeline Score: 0.926060606060606\n",
      "[2023-05-11 22:56:58:181] - INFO - SAIL : Calling Partial_fit() on the pipeline.\n",
      "[2023-05-11 22:56:58:248] - INFO - SAIL : Cumulative Pipeline Score: 0.9258823529411765\n",
      "[2023-05-11 22:56:58:249] - INFO - SAIL : Calling Partial_fit() on the pipeline.\n"
     ]
    },
    {
     "name": "stdout",
     "output_type": "stream",
     "text": [
      "[Pipeline] ........ (step 3 of 3) Processing classifier, total=   0.0s\n",
      "[Pipeline] ........ (step 3 of 3) Processing classifier, total=   0.0s\n",
      "[Pipeline] ........ (step 3 of 3) Processing classifier, total=   0.0s\n"
     ]
    },
    {
     "name": "stderr",
     "output_type": "stream",
     "text": [
      "[2023-05-11 22:56:58:322] - INFO - SAIL : Cumulative Pipeline Score: 0.9262857142857143\n",
      "[2023-05-11 22:56:58:348] - INFO - SAIL : Calling Partial_fit() on the pipeline.\n",
      "[2023-05-11 22:56:58:439] - INFO - SAIL : Cumulative Pipeline Score: 0.9266666666666666\n",
      "[2023-05-11 22:56:58:440] - INFO - SAIL : Calling Partial_fit() on the pipeline.\n"
     ]
    },
    {
     "name": "stdout",
     "output_type": "stream",
     "text": [
      "[Pipeline] ........ (step 3 of 3) Processing classifier, total=   0.0s\n",
      "[Pipeline] ........ (step 3 of 3) Processing classifier, total=   0.1s\n",
      "[Pipeline] ........ (step 3 of 3) Processing classifier, total=   0.1s\n"
     ]
    },
    {
     "name": "stderr",
     "output_type": "stream",
     "text": [
      "[2023-05-11 22:56:58:524] - INFO - SAIL : Cumulative Pipeline Score: 0.9264864864864865\n",
      "[2023-05-11 22:56:58:525] - INFO - SAIL : Calling Partial_fit() on the pipeline.\n",
      "[2023-05-11 22:56:58:610] - INFO - SAIL : Cumulative Pipeline Score: 0.9263157894736842\n",
      "[2023-05-11 22:56:58:611] - INFO - SAIL : Calling Partial_fit() on the pipeline.\n",
      "[2023-05-11 22:56:58:683] - INFO - SAIL : Cumulative Pipeline Score: 0.9266666666666666\n",
      "[2023-05-11 22:56:58:684] - INFO - SAIL : Calling Partial_fit() on the pipeline.\n",
      "[2023-05-11 22:56:58:755] - INFO - SAIL : Cumulative Pipeline Score: 0.926\n",
      "[2023-05-11 22:56:58:757] - INFO - SAIL : Calling Partial_fit() on the pipeline.\n"
     ]
    },
    {
     "name": "stdout",
     "output_type": "stream",
     "text": [
      "[Pipeline] ........ (step 3 of 3) Processing classifier, total=   0.1s\n",
      "[Pipeline] ........ (step 3 of 3) Processing classifier, total=   0.0s\n",
      "[Pipeline] ........ (step 3 of 3) Processing classifier, total=   0.0s\n"
     ]
    },
    {
     "name": "stderr",
     "output_type": "stream",
     "text": [
      "[2023-05-11 22:56:58:828] - INFO - SAIL : Cumulative Pipeline Score: 0.9278048780487805\n",
      "[2023-05-11 22:56:58:829] - INFO - SAIL : Calling Partial_fit() on the pipeline.\n",
      "[2023-05-11 22:56:58:907] - INFO - SAIL : Cumulative Pipeline Score: 0.9266666666666666\n",
      "[2023-05-11 22:56:58:908] - INFO - SAIL : Calling Partial_fit() on the pipeline.\n",
      "[2023-05-11 22:56:59:18] - INFO - SAIL : Cumulative Pipeline Score: 0.9279069767441861\n"
     ]
    },
    {
     "name": "stdout",
     "output_type": "stream",
     "text": [
      "[Pipeline] ........ (step 3 of 3) Processing classifier, total=   0.0s\n",
      "[Pipeline] ........ (step 3 of 3) Processing classifier, total=   0.0s\n",
      "[Pipeline] ........ (step 3 of 3) Processing classifier, total=   0.1s\n"
     ]
    },
    {
     "name": "stderr",
     "output_type": "stream",
     "text": [
      "[2023-05-11 22:56:59:19] - INFO - SAIL : Calling Partial_fit() on the pipeline.\n",
      "[2023-05-11 22:56:59:95] - INFO - SAIL : Cumulative Pipeline Score: 0.9281818181818182\n",
      "[2023-05-11 22:56:59:96] - INFO - SAIL : Calling Partial_fit() on the pipeline.\n",
      "[2023-05-11 22:56:59:169] - INFO - SAIL : Cumulative Pipeline Score: 0.9271111111111111\n",
      "[2023-05-11 22:56:59:170] - INFO - SAIL : Calling Partial_fit() on the pipeline.\n",
      "[2023-05-11 22:56:59:239] - INFO - SAIL : Cumulative Pipeline Score: 0.9269565217391305\n",
      "[2023-05-11 22:56:59:239] - INFO - SAIL : Calling Partial_fit() on the pipeline.\n"
     ]
    },
    {
     "name": "stdout",
     "output_type": "stream",
     "text": [
      "[Pipeline] ........ (step 3 of 3) Processing classifier, total=   0.1s\n",
      "[Pipeline] ........ (step 3 of 3) Processing classifier, total=   0.0s\n",
      "[Pipeline] ........ (step 3 of 3) Processing classifier, total=   0.0s\n"
     ]
    },
    {
     "name": "stderr",
     "output_type": "stream",
     "text": [
      "[2023-05-11 22:56:59:311] - INFO - SAIL : Cumulative Pipeline Score: 0.9263829787234042\n",
      "[2023-05-11 22:56:59:312] - INFO - SAIL : Calling Partial_fit() on the pipeline.\n",
      "[2023-05-11 22:56:59:383] - INFO - SAIL : Cumulative Pipeline Score: 0.9266666666666666\n",
      "[2023-05-11 22:56:59:384] - INFO - SAIL : Calling Partial_fit() on the pipeline.\n",
      "[2023-05-11 22:56:59:457] - INFO - SAIL : Cumulative Pipeline Score: 0.9269387755102041\n",
      "[2023-05-11 22:56:59:458] - INFO - SAIL : Calling Partial_fit() on the pipeline.\n"
     ]
    },
    {
     "name": "stdout",
     "output_type": "stream",
     "text": [
      "[Pipeline] ........ (step 3 of 3) Processing classifier, total=   0.0s\n",
      "[Pipeline] ........ (step 3 of 3) Processing classifier, total=   0.0s\n",
      "[Pipeline] ........ (step 3 of 3) Processing classifier, total=   0.0s\n"
     ]
    },
    {
     "name": "stderr",
     "output_type": "stream",
     "text": [
      "[2023-05-11 22:56:59:541] - INFO - SAIL : Cumulative Pipeline Score: 0.9252\n",
      "[2023-05-11 22:56:59:541] - INFO - SAIL : Calling Partial_fit() on the pipeline.\n",
      "[2023-05-11 22:56:59:621] - INFO - SAIL : Cumulative Pipeline Score: 0.9258823529411765\n",
      "[2023-05-11 22:56:59:622] - INFO - SAIL : Calling Partial_fit() on the pipeline.\n",
      "[2023-05-11 22:56:59:694] - INFO - SAIL : Cumulative Pipeline Score: 0.9265384615384615\n",
      "[2023-05-11 22:56:59:696] - INFO - SAIL : Calling Partial_fit() on the pipeline.\n"
     ]
    },
    {
     "name": "stdout",
     "output_type": "stream",
     "text": [
      "[Pipeline] ........ (step 3 of 3) Processing classifier, total=   0.1s\n",
      "[Pipeline] ........ (step 3 of 3) Processing classifier, total=   0.1s\n",
      "[Pipeline] ........ (step 3 of 3) Processing classifier, total=   0.0s\n"
     ]
    },
    {
     "name": "stderr",
     "output_type": "stream",
     "text": [
      "[2023-05-11 22:56:59:774] - INFO - SAIL : Cumulative Pipeline Score: 0.9267924528301886\n",
      "[2023-05-11 22:56:59:775] - INFO - SAIL : Calling Partial_fit() on the pipeline.\n",
      "[2023-05-11 22:56:59:845] - INFO - SAIL : Cumulative Pipeline Score: 0.9262962962962963\n",
      "[2023-05-11 22:56:59:845] - INFO - SAIL : Calling Partial_fit() on the pipeline.\n",
      "[2023-05-11 22:56:59:925] - INFO - SAIL : Cumulative Pipeline Score: 0.9261818181818182\n",
      "[2023-05-11 22:56:59:926] - INFO - SAIL : Calling Partial_fit() on the pipeline.\n"
     ]
    },
    {
     "name": "stdout",
     "output_type": "stream",
     "text": [
      "[Pipeline] ........ (step 3 of 3) Processing classifier, total=   0.0s\n",
      "[Pipeline] ........ (step 3 of 3) Processing classifier, total=   0.0s\n",
      "[Pipeline] ........ (step 3 of 3) Processing classifier, total=   0.1s\n"
     ]
    },
    {
     "name": "stderr",
     "output_type": "stream",
     "text": [
      "[2023-05-11 22:57:00:3] - INFO - SAIL : Cumulative Pipeline Score: 0.9264285714285714\n",
      "[2023-05-11 22:57:00:4] - INFO - SAIL : Calling Partial_fit() on the pipeline.\n",
      "[2023-05-11 22:57:00:79] - INFO - SAIL : Cumulative Pipeline Score: 0.9273684210526316\n",
      "[2023-05-11 22:57:00:80] - INFO - SAIL : Calling Partial_fit() on the pipeline.\n",
      "[2023-05-11 22:57:00:156] - INFO - SAIL : Cumulative Pipeline Score: 0.9272413793103448\n",
      "[2023-05-11 22:57:00:157] - INFO - SAIL : Calling Partial_fit() on the pipeline.\n"
     ]
    },
    {
     "name": "stdout",
     "output_type": "stream",
     "text": [
      "[Pipeline] ........ (step 3 of 3) Processing classifier, total=   0.0s\n",
      "[Pipeline] ........ (step 3 of 3) Processing classifier, total=   0.1s\n",
      "[Pipeline] ........ (step 3 of 3) Processing classifier, total=   0.0s\n"
     ]
    },
    {
     "name": "stderr",
     "output_type": "stream",
     "text": [
      "[2023-05-11 22:57:00:241] - INFO - SAIL : Cumulative Pipeline Score: 0.9271186440677966\n",
      "[2023-05-11 22:57:00:242] - INFO - SAIL : Calling Partial_fit() on the pipeline.\n",
      "[2023-05-11 22:57:00:333] - INFO - SAIL : Cumulative Pipeline Score: 0.927\n",
      "[2023-05-11 22:57:00:335] - INFO - SAIL : Calling Partial_fit() on the pipeline.\n"
     ]
    },
    {
     "name": "stdout",
     "output_type": "stream",
     "text": [
      "[Pipeline] ........ (step 3 of 3) Processing classifier, total=   0.1s\n",
      "[Pipeline] ........ (step 3 of 3) Processing classifier, total=   0.1s\n"
     ]
    },
    {
     "name": "stderr",
     "output_type": "stream",
     "text": [
      "[2023-05-11 22:57:00:530] - INFO - SAIL : Cumulative Pipeline Score: 0.9281967213114755\n",
      "[2023-05-11 22:57:00:531] - INFO - SAIL : Calling Partial_fit() on the pipeline.\n",
      "[2023-05-11 22:57:00:613] - INFO - SAIL : Cumulative Pipeline Score: 0.9293548387096774\n",
      "[2023-05-11 22:57:00:615] - INFO - SAIL : Calling Partial_fit() on the pipeline.\n"
     ]
    },
    {
     "name": "stdout",
     "output_type": "stream",
     "text": [
      "[Pipeline] ........ (step 3 of 3) Processing classifier, total=   0.2s\n",
      "[Pipeline] ........ (step 3 of 3) Processing classifier, total=   0.1s\n",
      "[Pipeline] ........ (step 3 of 3) Processing classifier, total=   0.1s\n"
     ]
    },
    {
     "name": "stderr",
     "output_type": "stream",
     "text": [
      "[2023-05-11 22:57:00:716] - INFO - SAIL : Cumulative Pipeline Score: 0.9298412698412698\n",
      "[2023-05-11 22:57:00:718] - INFO - SAIL : Calling Partial_fit() on the pipeline.\n",
      "[2023-05-11 22:57:00:814] - INFO - SAIL : Cumulative Pipeline Score: 0.930625\n",
      "[2023-05-11 22:57:00:816] - INFO - SAIL : Calling Partial_fit() on the pipeline.\n",
      "[2023-05-11 22:57:00:919] - INFO - SAIL : Cumulative Pipeline Score: 0.9301538461538461\n",
      "[2023-05-11 22:57:00:921] - INFO - SAIL : Calling Partial_fit() on the pipeline.\n"
     ]
    },
    {
     "name": "stdout",
     "output_type": "stream",
     "text": [
      "[Pipeline] ........ (step 3 of 3) Processing classifier, total=   0.1s\n",
      "[Pipeline] ........ (step 3 of 3) Processing classifier, total=   0.1s\n",
      "[Pipeline] ........ (step 3 of 3) Processing classifier, total=   0.1s\n"
     ]
    },
    {
     "name": "stderr",
     "output_type": "stream",
     "text": [
      "[2023-05-11 22:57:01:1] - INFO - SAIL : Cumulative Pipeline Score: 0.9309090909090909\n",
      "[2023-05-11 22:57:01:2] - INFO - SAIL : Calling Partial_fit() on the pipeline.\n",
      "[2023-05-11 22:57:01:75] - INFO - SAIL : Cumulative Pipeline Score: 0.9316417910447761\n",
      "[2023-05-11 22:57:01:76] - INFO - SAIL : Calling Partial_fit() on the pipeline.\n",
      "[2023-05-11 22:57:01:145] - INFO - SAIL : Cumulative Pipeline Score: 0.9317647058823529\n",
      "[2023-05-11 22:57:01:145] - INFO - SAIL : Calling Partial_fit() on the pipeline.\n",
      "[2023-05-11 22:57:01:216] - INFO - SAIL : Cumulative Pipeline Score: 0.9318840579710145\n",
      "[2023-05-11 22:57:01:217] - INFO - SAIL : Calling Partial_fit() on the pipeline.\n"
     ]
    },
    {
     "name": "stdout",
     "output_type": "stream",
     "text": [
      "[Pipeline] ........ (step 3 of 3) Processing classifier, total=   0.0s\n",
      "[Pipeline] ........ (step 3 of 3) Processing classifier, total=   0.0s\n",
      "[Pipeline] ........ (step 3 of 3) Processing classifier, total=   0.0s\n"
     ]
    },
    {
     "name": "stderr",
     "output_type": "stream",
     "text": [
      "[2023-05-11 22:57:01:310] - INFO - SAIL : Cumulative Pipeline Score: 0.932\n",
      "[2023-05-11 22:57:01:311] - INFO - SAIL : Calling Partial_fit() on the pipeline.\n",
      "[2023-05-11 22:57:01:421] - INFO - SAIL : Cumulative Pipeline Score: 0.9307042253521127\n",
      "[2023-05-11 22:57:01:423] - INFO - SAIL : Calling Partial_fit() on the pipeline.\n"
     ]
    },
    {
     "name": "stdout",
     "output_type": "stream",
     "text": [
      "[Pipeline] ........ (step 3 of 3) Processing classifier, total=   0.1s\n",
      "[Pipeline] ........ (step 3 of 3) Processing classifier, total=   0.1s\n"
     ]
    },
    {
     "name": "stderr",
     "output_type": "stream",
     "text": [
      "[2023-05-11 22:57:01:513] - INFO - SAIL : Cumulative Pipeline Score: 0.9308333333333333\n",
      "[2023-05-11 22:57:01:514] - INFO - SAIL : Calling Partial_fit() on the pipeline.\n",
      "[2023-05-11 22:57:01:586] - INFO - SAIL : Cumulative Pipeline Score: 0.9315068493150684\n",
      "[2023-05-11 22:57:01:587] - INFO - SAIL : Calling Partial_fit() on the pipeline.\n",
      "[2023-05-11 22:57:01:670] - INFO - SAIL : Cumulative Pipeline Score: 0.9316216216216217\n",
      "[2023-05-11 22:57:01:672] - INFO - SAIL : Calling Partial_fit() on the pipeline.\n"
     ]
    },
    {
     "name": "stdout",
     "output_type": "stream",
     "text": [
      "[Pipeline] ........ (step 3 of 3) Processing classifier, total=   0.1s\n",
      "[Pipeline] ........ (step 3 of 3) Processing classifier, total=   0.0s\n",
      "[Pipeline] ........ (step 3 of 3) Processing classifier, total=   0.1s\n"
     ]
    },
    {
     "name": "stderr",
     "output_type": "stream",
     "text": [
      "[2023-05-11 22:57:01:763] - INFO - SAIL : Cumulative Pipeline Score: 0.9314666666666667\n",
      "[2023-05-11 22:57:01:765] - INFO - SAIL : Calling Partial_fit() on the pipeline.\n",
      "[2023-05-11 22:57:01:867] - INFO - SAIL : Cumulative Pipeline Score: 0.9318421052631579\n",
      "[2023-05-11 22:57:01:868] - INFO - SAIL : Calling Partial_fit() on the pipeline.\n",
      "[2023-05-11 22:57:01:934] - INFO - SAIL : Cumulative Pipeline Score: 0.9314285714285714\n",
      "[2023-05-11 22:57:01:935] - INFO - SAIL : Calling Partial_fit() on the pipeline.\n"
     ]
    },
    {
     "name": "stdout",
     "output_type": "stream",
     "text": [
      "[Pipeline] ........ (step 3 of 3) Processing classifier, total=   0.1s\n",
      "[Pipeline] ........ (step 3 of 3) Processing classifier, total=   0.1s\n",
      "[Pipeline] ........ (step 3 of 3) Processing classifier, total=   0.0s\n"
     ]
    },
    {
     "name": "stderr",
     "output_type": "stream",
     "text": [
      "[2023-05-11 22:57:02:5] - INFO - SAIL : Cumulative Pipeline Score: 0.9317948717948717\n",
      "[2023-05-11 22:57:02:6] - INFO - SAIL : Calling Partial_fit() on the pipeline.\n",
      "[2023-05-11 22:57:02:78] - INFO - SAIL : Cumulative Pipeline Score: 0.9321518987341773\n",
      "[2023-05-11 22:57:02:79] - INFO - SAIL : Calling Partial_fit() on the pipeline.\n",
      "[2023-05-11 22:57:02:149] - INFO - SAIL : Cumulative Pipeline Score: 0.9325\n",
      "[2023-05-11 22:57:02:150] - INFO - SAIL : Calling Partial_fit() on the pipeline.\n"
     ]
    },
    {
     "name": "stdout",
     "output_type": "stream",
     "text": [
      "[Pipeline] ........ (step 3 of 3) Processing classifier, total=   0.0s\n",
      "[Pipeline] ........ (step 3 of 3) Processing classifier, total=   0.0s\n",
      "[Pipeline] ........ (step 3 of 3) Processing classifier, total=   0.0s\n"
     ]
    },
    {
     "name": "stderr",
     "output_type": "stream",
     "text": [
      "[2023-05-11 22:57:02:224] - INFO - SAIL : Cumulative Pipeline Score: 0.9333333333333333\n",
      "[2023-05-11 22:57:02:225] - INFO - SAIL : Calling Partial_fit() on the pipeline.\n",
      "[2023-05-11 22:57:02:297] - INFO - SAIL : Cumulative Pipeline Score: 0.9336585365853659\n",
      "[2023-05-11 22:57:02:298] - INFO - SAIL : Calling Partial_fit() on the pipeline.\n",
      "[2023-05-11 22:57:02:386] - INFO - SAIL : Cumulative Pipeline Score: 0.9332530120481928\n",
      "[2023-05-11 22:57:02:387] - INFO - SAIL : Calling Partial_fit() on the pipeline.\n"
     ]
    },
    {
     "name": "stdout",
     "output_type": "stream",
     "text": [
      "[Pipeline] ........ (step 3 of 3) Processing classifier, total=   0.0s\n",
      "[Pipeline] ........ (step 3 of 3) Processing classifier, total=   0.0s\n",
      "[Pipeline] ........ (step 3 of 3) Processing classifier, total=   0.1s\n"
     ]
    },
    {
     "name": "stderr",
     "output_type": "stream",
     "text": [
      "[2023-05-11 22:57:02:469] - INFO - SAIL : Cumulative Pipeline Score: 0.9330952380952381\n",
      "[2023-05-11 22:57:02:471] - INFO - SAIL : Calling Partial_fit() on the pipeline.\n",
      "[2023-05-11 22:57:02:553] - INFO - SAIL : Cumulative Pipeline Score: 0.9334117647058824\n",
      "[2023-05-11 22:57:02:554] - INFO - SAIL : Calling Partial_fit() on the pipeline.\n",
      "[2023-05-11 22:57:02:629] - INFO - SAIL : Cumulative Pipeline Score: 0.9334883720930233\n",
      "[2023-05-11 22:57:02:631] - INFO - SAIL : Calling Partial_fit() on the pipeline.\n"
     ]
    },
    {
     "name": "stdout",
     "output_type": "stream",
     "text": [
      "[Pipeline] ........ (step 3 of 3) Processing classifier, total=   0.1s\n",
      "[Pipeline] ........ (step 3 of 3) Processing classifier, total=   0.1s\n",
      "[Pipeline] ........ (step 3 of 3) Processing classifier, total=   0.0s\n"
     ]
    },
    {
     "name": "stderr",
     "output_type": "stream",
     "text": [
      "[2023-05-11 22:57:02:716] - INFO - SAIL : Cumulative Pipeline Score: 0.9333333333333333\n",
      "[2023-05-11 22:57:02:716] - INFO - SAIL : Calling Partial_fit() on the pipeline.\n",
      "[2023-05-11 22:57:02:808] - INFO - SAIL : Cumulative Pipeline Score: 0.9331818181818182\n",
      "[2023-05-11 22:57:02:809] - INFO - SAIL : Calling Partial_fit() on the pipeline.\n",
      "[2023-05-11 22:57:02:885] - INFO - SAIL : Cumulative Pipeline Score: 0.9337078651685393\n",
      "[2023-05-11 22:57:02:886] - INFO - SAIL : Calling Partial_fit() on the pipeline.\n"
     ]
    },
    {
     "name": "stdout",
     "output_type": "stream",
     "text": [
      "[Pipeline] ........ (step 3 of 3) Processing classifier, total=   0.1s\n",
      "[Pipeline] ........ (step 3 of 3) Processing classifier, total=   0.1s\n",
      "[Pipeline] ........ (step 3 of 3) Processing classifier, total=   0.1s\n"
     ]
    },
    {
     "name": "stderr",
     "output_type": "stream",
     "text": [
      "[2023-05-11 22:57:02:962] - INFO - SAIL : Cumulative Pipeline Score: 0.9342222222222222\n",
      "[2023-05-11 22:57:02:963] - INFO - SAIL : Calling Partial_fit() on the pipeline.\n",
      "[2023-05-11 22:57:03:42] - INFO - SAIL : Cumulative Pipeline Score: 0.9345054945054945\n",
      "[2023-05-11 22:57:03:44] - INFO - SAIL : Calling Partial_fit() on the pipeline.\n",
      "[2023-05-11 22:57:03:118] - INFO - SAIL : Cumulative Pipeline Score: 0.9339130434782609\n",
      "[2023-05-11 22:57:03:119] - INFO - SAIL : Calling Partial_fit() on the pipeline.\n"
     ]
    },
    {
     "name": "stdout",
     "output_type": "stream",
     "text": [
      "[Pipeline] ........ (step 3 of 3) Processing classifier, total=   0.0s\n",
      "[Pipeline] ........ (step 3 of 3) Processing classifier, total=   0.1s\n",
      "[Pipeline] ........ (step 3 of 3) Processing classifier, total=   0.0s\n"
     ]
    },
    {
     "name": "stderr",
     "output_type": "stream",
     "text": [
      "[2023-05-11 22:57:03:201] - INFO - SAIL : Cumulative Pipeline Score: 0.933763440860215\n",
      "[2023-05-11 22:57:03:202] - INFO - SAIL : Calling Partial_fit() on the pipeline.\n",
      "[2023-05-11 22:57:03:274] - INFO - SAIL : Cumulative Pipeline Score: 0.9338297872340425\n",
      "[2023-05-11 22:57:03:275] - INFO - SAIL : Calling Partial_fit() on the pipeline.\n",
      "[2023-05-11 22:57:03:341] - INFO - SAIL : Cumulative Pipeline Score: 0.9334736842105263\n",
      "[2023-05-11 22:57:03:342] - INFO - SAIL : Calling Partial_fit() on the pipeline.\n"
     ]
    },
    {
     "name": "stdout",
     "output_type": "stream",
     "text": [
      "[Pipeline] ........ (step 3 of 3) Processing classifier, total=   0.1s\n",
      "[Pipeline] ........ (step 3 of 3) Processing classifier, total=   0.0s\n",
      "[Pipeline] ........ (step 3 of 3) Processing classifier, total=   0.0s\n"
     ]
    },
    {
     "name": "stderr",
     "output_type": "stream",
     "text": [
      "[2023-05-11 22:57:03:413] - INFO - SAIL : Cumulative Pipeline Score: 0.93375\n",
      "[2023-05-11 22:57:03:414] - INFO - SAIL : Calling Partial_fit() on the pipeline.\n",
      "[2023-05-11 22:57:03:490] - INFO - SAIL : Cumulative Pipeline Score: 0.9338144329896907\n",
      "[2023-05-11 22:57:03:491] - INFO - SAIL : Calling Partial_fit() on the pipeline.\n",
      "[2023-05-11 22:57:03:571] - INFO - SAIL : Cumulative Pipeline Score: 0.9340816326530612\n",
      "[2023-05-11 22:57:03:571] - INFO - SAIL : Calling Partial_fit() on the pipeline.\n"
     ]
    },
    {
     "name": "stdout",
     "output_type": "stream",
     "text": [
      "[Pipeline] ........ (step 3 of 3) Processing classifier, total=   0.0s\n",
      "[Pipeline] ........ (step 3 of 3) Processing classifier, total=   0.0s\n",
      "[Pipeline] ........ (step 3 of 3) Processing classifier, total=   0.1s\n"
     ]
    },
    {
     "name": "stderr",
     "output_type": "stream",
     "text": [
      "[2023-05-11 22:57:03:651] - INFO - SAIL : Cumulative Pipeline Score: 0.9335353535353536\n",
      "[2023-05-11 22:57:03:652] - INFO - SAIL : Calling Partial_fit() on the pipeline.\n",
      "[2023-05-11 22:57:03:733] - INFO - SAIL : Cumulative Pipeline Score: 0.9332\n",
      "[2023-05-11 22:57:03:734] - INFO - SAIL : Calling Partial_fit() on the pipeline.\n",
      "[2023-05-11 22:57:03:812] - INFO - SAIL : Cumulative Pipeline Score: 0.9336633663366337\n",
      "[2023-05-11 22:57:03:813] - INFO - SAIL : Calling Partial_fit() on the pipeline.\n"
     ]
    },
    {
     "name": "stdout",
     "output_type": "stream",
     "text": [
      "[Pipeline] ........ (step 3 of 3) Processing classifier, total=   0.1s\n",
      "[Pipeline] ........ (step 3 of 3) Processing classifier, total=   0.1s\n",
      "[Pipeline] ........ (step 3 of 3) Processing classifier, total=   0.1s\n"
     ]
    },
    {
     "name": "stderr",
     "output_type": "stream",
     "text": [
      "[2023-05-11 22:57:03:890] - INFO - SAIL : Cumulative Pipeline Score: 0.9337254901960784\n",
      "[2023-05-11 22:57:03:891] - INFO - SAIL : Calling Partial_fit() on the pipeline.\n",
      "[2023-05-11 22:57:03:969] - INFO - SAIL : Cumulative Pipeline Score: 0.934368932038835\n",
      "[2023-05-11 22:57:03:970] - INFO - SAIL : Calling Partial_fit() on the pipeline.\n",
      "[2023-05-11 22:57:04:45] - INFO - SAIL : Cumulative Pipeline Score: 0.9346153846153846\n",
      "[2023-05-11 22:57:04:46] - INFO - SAIL : Calling Partial_fit() on the pipeline.\n"
     ]
    },
    {
     "name": "stdout",
     "output_type": "stream",
     "text": [
      "[Pipeline] ........ (step 3 of 3) Processing classifier, total=   0.1s\n",
      "[Pipeline] ........ (step 3 of 3) Processing classifier, total=   0.1s\n",
      "[Pipeline] ........ (step 3 of 3) Processing classifier, total=   0.0s\n"
     ]
    },
    {
     "name": "stderr",
     "output_type": "stream",
     "text": [
      "[2023-05-11 22:57:04:129] - INFO - SAIL : Cumulative Pipeline Score: 0.9352380952380952\n",
      "[2023-05-11 22:57:04:130] - INFO - SAIL : Calling Partial_fit() on the pipeline.\n",
      "[2023-05-11 22:57:04:248] - INFO - SAIL : Cumulative Pipeline Score: 0.9354716981132075\n",
      "[2023-05-11 22:57:04:249] - INFO - SAIL : Calling Partial_fit() on the pipeline.\n"
     ]
    },
    {
     "name": "stdout",
     "output_type": "stream",
     "text": [
      "[Pipeline] ........ (step 3 of 3) Processing classifier, total=   0.1s\n",
      "[Pipeline] ........ (step 3 of 3) Processing classifier, total=   0.1s\n",
      "[Pipeline] ........ (step 3 of 3) Processing classifier, total=   0.1s\n"
     ]
    },
    {
     "name": "stderr",
     "output_type": "stream",
     "text": [
      "[2023-05-11 22:57:04:329] - INFO - SAIL : Cumulative Pipeline Score: 0.9358878504672897\n",
      "[2023-05-11 22:57:04:330] - INFO - SAIL : Calling Partial_fit() on the pipeline.\n",
      "[2023-05-11 22:57:04:427] - INFO - SAIL : Cumulative Pipeline Score: 0.9362962962962963\n",
      "[2023-05-11 22:57:04:428] - INFO - SAIL : Calling Partial_fit() on the pipeline.\n",
      "[2023-05-11 22:57:04:513] - INFO - SAIL : Cumulative Pipeline Score: 0.936697247706422\n",
      "[2023-05-11 22:57:04:513] - INFO - SAIL : Calling Partial_fit() on the pipeline.\n"
     ]
    },
    {
     "name": "stdout",
     "output_type": "stream",
     "text": [
      "[Pipeline] ........ (step 3 of 3) Processing classifier, total=   0.1s\n",
      "[Pipeline] ........ (step 3 of 3) Processing classifier, total=   0.1s\n",
      "[Pipeline] ........ (step 3 of 3) Processing classifier, total=   0.1s\n"
     ]
    },
    {
     "name": "stderr",
     "output_type": "stream",
     "text": [
      "[2023-05-11 22:57:04:592] - INFO - SAIL : Cumulative Pipeline Score: 0.9370909090909091\n",
      "[2023-05-11 22:57:04:593] - INFO - SAIL : Calling Partial_fit() on the pipeline.\n",
      "[2023-05-11 22:57:04:679] - INFO - SAIL : Cumulative Pipeline Score: 0.9372972972972973\n",
      "[2023-05-11 22:57:04:680] - INFO - SAIL : Calling Partial_fit() on the pipeline.\n",
      "[2023-05-11 22:57:04:758] - INFO - SAIL : Cumulative Pipeline Score: 0.9376785714285715\n",
      "[2023-05-11 22:57:04:759] - INFO - SAIL : Calling Partial_fit() on the pipeline.\n",
      "[2023-05-11 22:57:04:841] - INFO - SAIL : Cumulative Pipeline Score: 0.9382300884955752\n",
      "[2023-05-11 22:57:04:842] - INFO - SAIL : Calling Partial_fit() on the pipeline.\n"
     ]
    },
    {
     "name": "stdout",
     "output_type": "stream",
     "text": [
      "[Pipeline] ........ (step 3 of 3) Processing classifier, total=   0.1s\n",
      "[Pipeline] ........ (step 3 of 3) Processing classifier, total=   0.1s\n",
      "[Pipeline] ........ (step 3 of 3) Processing classifier, total=   0.1s\n"
     ]
    },
    {
     "name": "stderr",
     "output_type": "stream",
     "text": [
      "[2023-05-11 22:57:04:922] - INFO - SAIL : Cumulative Pipeline Score: 0.9384210526315789\n",
      "[2023-05-11 22:57:04:923] - INFO - SAIL : Calling Partial_fit() on the pipeline.\n",
      "[2023-05-11 22:57:05:4] - INFO - SAIL : Cumulative Pipeline Score: 0.9384347826086956\n",
      "[2023-05-11 22:57:05:5] - INFO - SAIL : Calling Partial_fit() on the pipeline.\n",
      "[2023-05-11 22:57:05:88] - INFO - SAIL : Cumulative Pipeline Score: 0.9382758620689655\n",
      "[2023-05-11 22:57:05:89] - INFO - SAIL : Calling Partial_fit() on the pipeline.\n"
     ]
    },
    {
     "name": "stdout",
     "output_type": "stream",
     "text": [
      "[Pipeline] ........ (step 3 of 3) Processing classifier, total=   0.1s\n",
      "[Pipeline] ........ (step 3 of 3) Processing classifier, total=   0.1s\n",
      "[Pipeline] ........ (step 3 of 3) Processing classifier, total=   0.1s\n"
     ]
    },
    {
     "name": "stderr",
     "output_type": "stream",
     "text": [
      "[2023-05-11 22:57:05:180] - INFO - SAIL : Cumulative Pipeline Score: 0.9386324786324787\n",
      "[2023-05-11 22:57:05:181] - INFO - SAIL : Calling Partial_fit() on the pipeline.\n",
      "[2023-05-11 22:57:05:259] - INFO - SAIL : Cumulative Pipeline Score: 0.9389830508474576\n",
      "[2023-05-11 22:57:05:260] - INFO - SAIL : Calling Partial_fit() on the pipeline.\n",
      "[2023-05-11 22:57:05:338] - INFO - SAIL : Cumulative Pipeline Score: 0.9389915966386555\n",
      "[2023-05-11 22:57:05:339] - INFO - SAIL : Calling Partial_fit() on the pipeline.\n"
     ]
    },
    {
     "name": "stdout",
     "output_type": "stream",
     "text": [
      "[Pipeline] ........ (step 3 of 3) Processing classifier, total=   0.1s\n",
      "[Pipeline] ........ (step 3 of 3) Processing classifier, total=   0.1s\n",
      "[Pipeline] ........ (step 3 of 3) Processing classifier, total=   0.1s\n"
     ]
    },
    {
     "name": "stderr",
     "output_type": "stream",
     "text": [
      "[2023-05-11 22:57:05:422] - INFO - SAIL : Cumulative Pipeline Score: 0.9391666666666667\n",
      "[2023-05-11 22:57:05:424] - INFO - SAIL : Calling Partial_fit() on the pipeline.\n",
      "[2023-05-11 22:57:05:508] - INFO - SAIL : Cumulative Pipeline Score: 0.9391735537190082\n",
      "[2023-05-11 22:57:05:509] - INFO - SAIL : Calling Partial_fit() on the pipeline.\n",
      "[2023-05-11 22:57:05:590] - INFO - SAIL : Cumulative Pipeline Score: 0.9393442622950819\n",
      "[2023-05-11 22:57:05:591] - INFO - SAIL : Calling Partial_fit() on the pipeline.\n"
     ]
    },
    {
     "name": "stdout",
     "output_type": "stream",
     "text": [
      "[Pipeline] ........ (step 3 of 3) Processing classifier, total=   0.1s\n",
      "[Pipeline] ........ (step 3 of 3) Processing classifier, total=   0.1s\n",
      "[Pipeline] ........ (step 3 of 3) Processing classifier, total=   0.1s\n"
     ]
    },
    {
     "name": "stderr",
     "output_type": "stream",
     "text": [
      "[2023-05-11 22:57:05:675] - INFO - SAIL : Cumulative Pipeline Score: 0.9395121951219512\n",
      "[2023-05-11 22:57:05:675] - INFO - SAIL : Calling Partial_fit() on the pipeline.\n",
      "[2023-05-11 22:57:05:762] - INFO - SAIL : Cumulative Pipeline Score: 0.94\n",
      "[2023-05-11 22:57:05:763] - INFO - SAIL : Calling Partial_fit() on the pipeline.\n",
      "[2023-05-11 22:57:05:846] - INFO - SAIL : Cumulative Pipeline Score: 0.94016\n",
      "[2023-05-11 22:57:05:847] - INFO - SAIL : Calling Partial_fit() on the pipeline.\n"
     ]
    },
    {
     "name": "stdout",
     "output_type": "stream",
     "text": [
      "[Pipeline] ........ (step 3 of 3) Processing classifier, total=   0.1s\n",
      "[Pipeline] ........ (step 3 of 3) Processing classifier, total=   0.1s\n",
      "[Pipeline] ........ (step 3 of 3) Processing classifier, total=   0.1s\n"
     ]
    },
    {
     "name": "stderr",
     "output_type": "stream",
     "text": [
      "[2023-05-11 22:57:05:932] - INFO - SAIL : Cumulative Pipeline Score: 0.9404761904761905\n",
      "[2023-05-11 22:57:05:934] - INFO - SAIL : Calling Partial_fit() on the pipeline.\n",
      "[2023-05-11 22:57:06:11] - INFO - SAIL : Cumulative Pipeline Score: 0.9409448818897638\n",
      "[2023-05-11 22:57:06:12] - INFO - SAIL : Calling Partial_fit() on the pipeline.\n",
      "[2023-05-11 22:57:06:94] - INFO - SAIL : Cumulative Pipeline Score: 0.94109375\n",
      "[2023-05-11 22:57:06:95] - INFO - SAIL : Calling Partial_fit() on the pipeline.\n"
     ]
    },
    {
     "name": "stdout",
     "output_type": "stream",
     "text": [
      "[Pipeline] ........ (step 3 of 3) Processing classifier, total=   0.1s\n",
      "[Pipeline] ........ (step 3 of 3) Processing classifier, total=   0.1s\n",
      "[Pipeline] ........ (step 3 of 3) Processing classifier, total=   0.1s\n"
     ]
    },
    {
     "name": "stderr",
     "output_type": "stream",
     "text": [
      "[2023-05-11 22:57:06:176] - INFO - SAIL : Cumulative Pipeline Score: 0.9407751937984496\n",
      "[2023-05-11 22:57:06:177] - INFO - SAIL : Calling Partial_fit() on the pipeline.\n",
      "[2023-05-11 22:57:06:257] - INFO - SAIL : Cumulative Pipeline Score: 0.9406153846153846\n",
      "[2023-05-11 22:57:06:258] - INFO - SAIL : Calling Partial_fit() on the pipeline.\n",
      "[2023-05-11 22:57:06:342] - INFO - SAIL : Cumulative Pipeline Score: 0.9404580152671755\n",
      "[2023-05-11 22:57:06:342] - INFO - SAIL : Calling Partial_fit() on the pipeline.\n"
     ]
    },
    {
     "name": "stdout",
     "output_type": "stream",
     "text": [
      "[Pipeline] ........ (step 3 of 3) Processing classifier, total=   0.1s\n",
      "[Pipeline] ........ (step 3 of 3) Processing classifier, total=   0.1s\n",
      "[Pipeline] ........ (step 3 of 3) Processing classifier, total=   0.1s\n"
     ]
    },
    {
     "name": "stderr",
     "output_type": "stream",
     "text": [
      "[2023-05-11 22:57:06:430] - INFO - SAIL : Cumulative Pipeline Score: 0.9403030303030303\n",
      "[2023-05-11 22:57:06:431] - INFO - SAIL : Calling Partial_fit() on the pipeline.\n",
      "[2023-05-11 22:57:06:526] - INFO - SAIL : Cumulative Pipeline Score: 0.9403007518796993\n",
      "[2023-05-11 22:57:06:527] - INFO - SAIL : Calling Partial_fit() on the pipeline.\n"
     ]
    },
    {
     "name": "stdout",
     "output_type": "stream",
     "text": [
      "[Pipeline] ........ (step 3 of 3) Processing classifier, total=   0.1s\n",
      "[Pipeline] ........ (step 3 of 3) Processing classifier, total=   0.1s\n",
      "[Pipeline] ........ (step 3 of 3) Processing classifier, total=   0.1s\n"
     ]
    },
    {
     "name": "stderr",
     "output_type": "stream",
     "text": [
      "[2023-05-11 22:57:06:617] - INFO - SAIL : Cumulative Pipeline Score: 0.9402985074626866\n",
      "[2023-05-11 22:57:06:618] - INFO - SAIL : Calling Partial_fit() on the pipeline.\n",
      "[2023-05-11 22:57:06:730] - INFO - SAIL : Cumulative Pipeline Score: 0.9401481481481482\n",
      "[2023-05-11 22:57:06:731] - INFO - SAIL : Calling Partial_fit() on the pipeline.\n",
      "[2023-05-11 22:57:06:825] - INFO - SAIL : Cumulative Pipeline Score: 0.9402941176470588\n",
      "[2023-05-11 22:57:06:825] - INFO - SAIL : Calling Partial_fit() on the pipeline.\n"
     ]
    },
    {
     "name": "stdout",
     "output_type": "stream",
     "text": [
      "[Pipeline] ........ (step 3 of 3) Processing classifier, total=   0.1s\n",
      "[Pipeline] ........ (step 3 of 3) Processing classifier, total=   0.1s\n",
      "[Pipeline] ........ (step 3 of 3) Processing classifier, total=   0.1s\n"
     ]
    },
    {
     "name": "stderr",
     "output_type": "stream",
     "text": [
      "[2023-05-11 22:57:06:913] - INFO - SAIL : Cumulative Pipeline Score: 0.9402919708029197\n",
      "[2023-05-11 22:57:06:914] - INFO - SAIL : Calling Partial_fit() on the pipeline.\n",
      "[2023-05-11 22:57:07:2] - INFO - SAIL : Cumulative Pipeline Score: 0.9398550724637681\n",
      "[2023-05-11 22:57:07:2] - INFO - SAIL : Calling Partial_fit() on the pipeline.\n",
      "[2023-05-11 22:57:07:93] - INFO - SAIL : Cumulative Pipeline Score: 0.94\n",
      "[2023-05-11 22:57:07:94] - INFO - SAIL : Calling Partial_fit() on the pipeline.\n",
      "[2023-05-11 22:57:07:175] - INFO - SAIL : Cumulative Pipeline Score: 0.94\n",
      "[2023-05-11 22:57:07:177] - INFO - SAIL : Calling Partial_fit() on the pipeline.\n"
     ]
    },
    {
     "name": "stdout",
     "output_type": "stream",
     "text": [
      "[Pipeline] ........ (step 3 of 3) Processing classifier, total=   0.1s\n",
      "[Pipeline] ........ (step 3 of 3) Processing classifier, total=   0.1s\n",
      "[Pipeline] ........ (step 3 of 3) Processing classifier, total=   0.1s\n"
     ]
    },
    {
     "name": "stderr",
     "output_type": "stream",
     "text": [
      "[2023-05-11 22:57:07:263] - INFO - SAIL : Cumulative Pipeline Score: 0.9398581560283688\n",
      "[2023-05-11 22:57:07:263] - INFO - SAIL : Calling Partial_fit() on the pipeline.\n",
      "[2023-05-11 22:57:07:342] - INFO - SAIL : Cumulative Pipeline Score: 0.9398591549295775\n",
      "[2023-05-11 22:57:07:343] - INFO - SAIL : Calling Partial_fit() on the pipeline.\n",
      "[2023-05-11 22:57:07:420] - INFO - SAIL : Cumulative Pipeline Score: 0.94\n",
      "[2023-05-11 22:57:07:421] - INFO - SAIL : Calling Partial_fit() on the pipeline.\n"
     ]
    },
    {
     "name": "stdout",
     "output_type": "stream",
     "text": [
      "[Pipeline] ........ (step 3 of 3) Processing classifier, total=   0.1s\n",
      "[Pipeline] ........ (step 3 of 3) Processing classifier, total=   0.1s\n",
      "[Pipeline] ........ (step 3 of 3) Processing classifier, total=   0.1s\n"
     ]
    },
    {
     "name": "stderr",
     "output_type": "stream",
     "text": [
      "[2023-05-11 22:57:07:504] - INFO - SAIL : Cumulative Pipeline Score: 0.9401388888888889\n",
      "[2023-05-11 22:57:07:505] - INFO - SAIL : Calling Partial_fit() on the pipeline.\n",
      "[2023-05-11 22:57:07:588] - INFO - SAIL : Cumulative Pipeline Score: 0.94\n",
      "[2023-05-11 22:57:07:589] - INFO - SAIL : Calling Partial_fit() on the pipeline.\n",
      "[2023-05-11 22:57:07:667] - INFO - SAIL : Cumulative Pipeline Score: 0.9404109589041096\n",
      "[2023-05-11 22:57:07:668] - INFO - SAIL : Calling Partial_fit() on the pipeline.\n"
     ]
    },
    {
     "name": "stdout",
     "output_type": "stream",
     "text": [
      "[Pipeline] ........ (step 3 of 3) Processing classifier, total=   0.1s\n",
      "[Pipeline] ........ (step 3 of 3) Processing classifier, total=   0.1s\n",
      "[Pipeline] ........ (step 3 of 3) Processing classifier, total=   0.1s\n"
     ]
    },
    {
     "name": "stderr",
     "output_type": "stream",
     "text": [
      "[2023-05-11 22:57:07:749] - INFO - SAIL : Cumulative Pipeline Score: 0.9405442176870749\n",
      "[2023-05-11 22:57:07:750] - INFO - SAIL : Calling Partial_fit() on the pipeline.\n",
      "[2023-05-11 22:57:07:833] - INFO - SAIL : Cumulative Pipeline Score: 0.9405405405405406\n",
      "[2023-05-11 22:57:07:834] - INFO - SAIL : Calling Partial_fit() on the pipeline.\n",
      "[2023-05-11 22:57:07:907] - INFO - SAIL : Cumulative Pipeline Score: 0.9405369127516778\n",
      "[2023-05-11 22:57:07:908] - INFO - SAIL : Calling Partial_fit() on the pipeline.\n"
     ]
    },
    {
     "name": "stdout",
     "output_type": "stream",
     "text": [
      "[Pipeline] ........ (step 3 of 3) Processing classifier, total=   0.1s\n",
      "[Pipeline] ........ (step 3 of 3) Processing classifier, total=   0.1s\n",
      "[Pipeline] ........ (step 3 of 3) Processing classifier, total=   0.0s\n"
     ]
    },
    {
     "name": "stderr",
     "output_type": "stream",
     "text": [
      "[2023-05-11 22:57:07:985] - INFO - SAIL : Cumulative Pipeline Score: 0.9406666666666667\n",
      "[2023-05-11 22:57:07:986] - INFO - SAIL : Calling Partial_fit() on the pipeline.\n",
      "[2023-05-11 22:57:08:61] - INFO - SAIL : Cumulative Pipeline Score: 0.9405298013245033\n",
      "[2023-05-11 22:57:08:62] - INFO - SAIL : Calling Partial_fit() on the pipeline.\n",
      "[2023-05-11 22:57:08:134] - INFO - SAIL : Cumulative Pipeline Score: 0.9406578947368421\n",
      "[2023-05-11 22:57:08:135] - INFO - SAIL : Calling Partial_fit() on the pipeline.\n"
     ]
    },
    {
     "name": "stdout",
     "output_type": "stream",
     "text": [
      "[Pipeline] ........ (step 3 of 3) Processing classifier, total=   0.1s\n",
      "[Pipeline] ........ (step 3 of 3) Processing classifier, total=   0.1s\n",
      "[Pipeline] ........ (step 3 of 3) Processing classifier, total=   0.1s\n"
     ]
    },
    {
     "name": "stderr",
     "output_type": "stream",
     "text": [
      "[2023-05-11 22:57:08:210] - INFO - SAIL : Cumulative Pipeline Score: 0.9403921568627451\n",
      "[2023-05-11 22:57:08:211] - INFO - SAIL : Calling Partial_fit() on the pipeline.\n",
      "[2023-05-11 22:57:08:291] - INFO - SAIL : Cumulative Pipeline Score: 0.9405194805194805\n",
      "[2023-05-11 22:57:08:292] - INFO - SAIL : Calling Partial_fit() on the pipeline.\n",
      "[2023-05-11 22:57:08:368] - INFO - SAIL : Cumulative Pipeline Score: 0.9406451612903226\n",
      "[2023-05-11 22:57:08:369] - INFO - SAIL : Calling Partial_fit() on the pipeline.\n"
     ]
    },
    {
     "name": "stdout",
     "output_type": "stream",
     "text": [
      "[Pipeline] ........ (step 3 of 3) Processing classifier, total=   0.0s\n",
      "[Pipeline] ........ (step 3 of 3) Processing classifier, total=   0.1s\n",
      "[Pipeline] ........ (step 3 of 3) Processing classifier, total=   0.1s\n"
     ]
    },
    {
     "name": "stderr",
     "output_type": "stream",
     "text": [
      "[2023-05-11 22:57:08:449] - INFO - SAIL : Cumulative Pipeline Score: 0.9406410256410257\n",
      "[2023-05-11 22:57:08:450] - INFO - SAIL : Calling Partial_fit() on the pipeline.\n",
      "[2023-05-11 22:57:08:526] - INFO - SAIL : Cumulative Pipeline Score: 0.9405095541401274\n",
      "[2023-05-11 22:57:08:527] - INFO - SAIL : Calling Partial_fit() on the pipeline.\n",
      "[2023-05-11 22:57:08:611] - INFO - SAIL : Cumulative Pipeline Score: 0.9405063291139241\n",
      "[2023-05-11 22:57:08:612] - INFO - SAIL : Calling Partial_fit() on the pipeline.\n"
     ]
    },
    {
     "name": "stdout",
     "output_type": "stream",
     "text": [
      "[Pipeline] ........ (step 3 of 3) Processing classifier, total=   0.1s\n",
      "[Pipeline] ........ (step 3 of 3) Processing classifier, total=   0.0s\n",
      "[Pipeline] ........ (step 3 of 3) Processing classifier, total=   0.1s\n"
     ]
    },
    {
     "name": "stderr",
     "output_type": "stream",
     "text": [
      "[2023-05-11 22:57:08:690] - INFO - SAIL : Cumulative Pipeline Score: 0.940125786163522\n",
      "[2023-05-11 22:57:08:691] - INFO - SAIL : Calling Partial_fit() on the pipeline.\n",
      "[2023-05-11 22:57:08:772] - INFO - SAIL : Cumulative Pipeline Score: 0.94025\n",
      "[2023-05-11 22:57:08:774] - INFO - SAIL : Calling Partial_fit() on the pipeline.\n",
      "[2023-05-11 22:57:08:851] - INFO - SAIL : Cumulative Pipeline Score: 0.9402484472049689\n",
      "[2023-05-11 22:57:08:852] - INFO - SAIL : Calling Partial_fit() on the pipeline.\n"
     ]
    },
    {
     "name": "stdout",
     "output_type": "stream",
     "text": [
      "[Pipeline] ........ (step 3 of 3) Processing classifier, total=   0.0s\n",
      "[Pipeline] ........ (step 3 of 3) Processing classifier, total=   0.1s\n",
      "[Pipeline] ........ (step 3 of 3) Processing classifier, total=   0.0s\n"
     ]
    },
    {
     "name": "stderr",
     "output_type": "stream",
     "text": [
      "[2023-05-11 22:57:08:944] - INFO - SAIL : Cumulative Pipeline Score: 0.94\n",
      "[2023-05-11 22:57:08:954] - INFO - SAIL : Calling Partial_fit() on the pipeline.\n",
      "[2023-05-11 22:57:09:47] - INFO - SAIL : Cumulative Pipeline Score: 0.9397546012269938\n",
      "[2023-05-11 22:57:09:48] - INFO - SAIL : Calling Partial_fit() on the pipeline.\n"
     ]
    },
    {
     "name": "stdout",
     "output_type": "stream",
     "text": [
      "[Pipeline] ........ (step 3 of 3) Processing classifier, total=   0.1s\n",
      "[Pipeline] ........ (step 3 of 3) Processing classifier, total=   0.1s\n"
     ]
    },
    {
     "name": "stderr",
     "output_type": "stream",
     "text": [
      "[2023-05-11 22:57:09:168] - INFO - SAIL : Cumulative Pipeline Score: 0.9397560975609756\n",
      "[2023-05-11 22:57:09:170] - INFO - SAIL : Calling Partial_fit() on the pipeline.\n",
      "[2023-05-11 22:57:09:260] - INFO - SAIL : Cumulative Pipeline Score: 0.9396363636363636\n",
      "[2023-05-11 22:57:09:261] - INFO - SAIL : Calling Partial_fit() on the pipeline.\n"
     ]
    },
    {
     "name": "stdout",
     "output_type": "stream",
     "text": [
      "[Pipeline] ........ (step 3 of 3) Processing classifier, total=   0.1s\n",
      "[Pipeline] ........ (step 3 of 3) Processing classifier, total=   0.1s\n",
      "[Pipeline] ........ (step 3 of 3) Processing classifier, total=   0.1s\n"
     ]
    },
    {
     "name": "stderr",
     "output_type": "stream",
     "text": [
      "[2023-05-11 22:57:09:354] - INFO - SAIL : Cumulative Pipeline Score: 0.9392771084337349\n",
      "[2023-05-11 22:57:09:355] - INFO - SAIL : Calling Partial_fit() on the pipeline.\n",
      "[2023-05-11 22:57:09:440] - INFO - SAIL : Cumulative Pipeline Score: 0.9392814371257485\n",
      "[2023-05-11 22:57:09:441] - INFO - SAIL : Calling Partial_fit() on the pipeline.\n",
      "[2023-05-11 22:57:09:517] - INFO - SAIL : Cumulative Pipeline Score: 0.9394047619047619\n",
      "[2023-05-11 22:57:09:518] - INFO - SAIL : Calling Partial_fit() on the pipeline.\n",
      "[2023-05-11 22:57:09:598] - INFO - SAIL : Cumulative Pipeline Score: 0.9397633136094674\n",
      "[2023-05-11 22:57:09:598] - INFO - SAIL : Calling Partial_fit() on the pipeline.\n"
     ]
    },
    {
     "name": "stdout",
     "output_type": "stream",
     "text": [
      "[Pipeline] ........ (step 3 of 3) Processing classifier, total=   0.1s\n",
      "[Pipeline] ........ (step 3 of 3) Processing classifier, total=   0.1s\n",
      "[Pipeline] ........ (step 3 of 3) Processing classifier, total=   0.1s\n"
     ]
    },
    {
     "name": "stderr",
     "output_type": "stream",
     "text": [
      "[2023-05-11 22:57:09:691] - INFO - SAIL : Cumulative Pipeline Score: 0.9401176470588235\n",
      "[2023-05-11 22:57:09:692] - INFO - SAIL : Calling Partial_fit() on the pipeline.\n",
      "[2023-05-11 22:57:09:790] - INFO - SAIL : Cumulative Pipeline Score: 0.94\n",
      "[2023-05-11 22:57:09:791] - INFO - SAIL : Calling Partial_fit() on the pipeline.\n"
     ]
    },
    {
     "name": "stdout",
     "output_type": "stream",
     "text": [
      "[Pipeline] ........ (step 3 of 3) Processing classifier, total=   0.1s\n",
      "[Pipeline] ........ (step 3 of 3) Processing classifier, total=   0.1s\n",
      "[Pipeline] ........ (step 3 of 3) Processing classifier, total=   0.1s\n"
     ]
    },
    {
     "name": "stderr",
     "output_type": "stream",
     "text": [
      "[2023-05-11 22:57:09:869] - INFO - SAIL : Cumulative Pipeline Score: 0.9401162790697675\n",
      "[2023-05-11 22:57:09:870] - INFO - SAIL : Calling Partial_fit() on the pipeline.\n",
      "[2023-05-11 22:57:09:948] - INFO - SAIL : Cumulative Pipeline Score: 0.9398843930635838\n",
      "[2023-05-11 22:57:09:949] - INFO - SAIL : Calling Partial_fit() on the pipeline.\n",
      "[2023-05-11 22:57:10:25] - INFO - SAIL : Cumulative Pipeline Score: 0.9395402298850575\n",
      "[2023-05-11 22:57:10:27] - INFO - SAIL : Calling Partial_fit() on the pipeline.\n",
      "[2023-05-11 22:57:10:103] - INFO - SAIL : Cumulative Pipeline Score: 0.9396571428571429\n",
      "[2023-05-11 22:57:10:104] - INFO - SAIL : Calling Partial_fit() on the pipeline.\n"
     ]
    },
    {
     "name": "stdout",
     "output_type": "stream",
     "text": [
      "[Pipeline] ........ (step 3 of 3) Processing classifier, total=   0.1s\n",
      "[Pipeline] ........ (step 3 of 3) Processing classifier, total=   0.1s\n",
      "[Pipeline] ........ (step 3 of 3) Processing classifier, total=   0.1s\n"
     ]
    },
    {
     "name": "stderr",
     "output_type": "stream",
     "text": [
      "[2023-05-11 22:57:10:183] - INFO - SAIL : Cumulative Pipeline Score: 0.9393181818181818\n",
      "[2023-05-11 22:57:10:184] - INFO - SAIL : Calling Partial_fit() on the pipeline.\n",
      "[2023-05-11 22:57:10:263] - INFO - SAIL : Cumulative Pipeline Score: 0.9390960451977401\n",
      "[2023-05-11 22:57:10:264] - INFO - SAIL : Calling Partial_fit() on the pipeline.\n",
      "[2023-05-11 22:57:10:339] - INFO - SAIL : Cumulative Pipeline Score: 0.9389887640449438\n",
      "[2023-05-11 22:57:10:340] - INFO - SAIL : Calling Partial_fit() on the pipeline.\n"
     ]
    },
    {
     "name": "stdout",
     "output_type": "stream",
     "text": [
      "[Pipeline] ........ (step 3 of 3) Processing classifier, total=   0.0s\n",
      "[Pipeline] ........ (step 3 of 3) Processing classifier, total=   0.1s\n",
      "[Pipeline] ........ (step 3 of 3) Processing classifier, total=   0.1s\n"
     ]
    },
    {
     "name": "stderr",
     "output_type": "stream",
     "text": [
      "[2023-05-11 22:57:10:431] - INFO - SAIL : Cumulative Pipeline Score: 0.9391061452513967\n",
      "[2023-05-11 22:57:10:431] - INFO - SAIL : Calling Partial_fit() on the pipeline.\n",
      "[2023-05-11 22:57:10:504] - INFO - SAIL : Cumulative Pipeline Score: 0.939\n",
      "[2023-05-11 22:57:10:505] - INFO - SAIL : Calling Partial_fit() on the pipeline.\n"
     ]
    },
    {
     "name": "stdout",
     "output_type": "stream",
     "text": [
      "[Pipeline] ........ (step 3 of 3) Processing classifier, total=   0.1s\n",
      "[Pipeline] ........ (step 3 of 3) Processing classifier, total=   0.0s\n",
      "[Pipeline] ........ (step 3 of 3) Processing classifier, total=   0.1s\n"
     ]
    },
    {
     "name": "stderr",
     "output_type": "stream",
     "text": [
      "[2023-05-11 22:57:10:608] - INFO - SAIL : Cumulative Pipeline Score: 0.9392265193370166\n",
      "[2023-05-11 22:57:10:609] - INFO - SAIL : Calling Partial_fit() on the pipeline.\n",
      "[2023-05-11 22:57:10:696] - INFO - SAIL : Cumulative Pipeline Score: 0.9394505494505494\n",
      "[2023-05-11 22:57:10:697] - INFO - SAIL : Calling Partial_fit() on the pipeline.\n",
      "[2023-05-11 22:57:10:775] - INFO - SAIL : Cumulative Pipeline Score: 0.9397814207650274\n",
      "[2023-05-11 22:57:10:776] - INFO - SAIL : Calling Partial_fit() on the pipeline.\n",
      "[2023-05-11 22:57:10:854] - INFO - SAIL : Cumulative Pipeline Score: 0.9397826086956522\n",
      "[2023-05-11 22:57:10:855] - INFO - SAIL : Calling Partial_fit() on the pipeline.\n"
     ]
    },
    {
     "name": "stdout",
     "output_type": "stream",
     "text": [
      "[Pipeline] ........ (step 3 of 3) Processing classifier, total=   0.1s\n",
      "[Pipeline] ........ (step 3 of 3) Processing classifier, total=   0.1s\n",
      "[Pipeline] ........ (step 3 of 3) Processing classifier, total=   0.1s\n"
     ]
    },
    {
     "name": "stderr",
     "output_type": "stream",
     "text": [
      "[2023-05-11 22:57:10:950] - INFO - SAIL : Cumulative Pipeline Score: 0.9398918918918919\n",
      "[2023-05-11 22:57:10:951] - INFO - SAIL : Calling Partial_fit() on the pipeline.\n",
      "[2023-05-11 22:57:11:31] - INFO - SAIL : Cumulative Pipeline Score: 0.9397849462365592\n",
      "[2023-05-11 22:57:11:32] - INFO - SAIL : Calling Partial_fit() on the pipeline.\n",
      "[2023-05-11 22:57:11:110] - INFO - SAIL : Cumulative Pipeline Score: 0.9393582887700535\n",
      "[2023-05-11 22:57:11:110] - INFO - SAIL : Calling Partial_fit() on the pipeline.\n"
     ]
    },
    {
     "name": "stdout",
     "output_type": "stream",
     "text": [
      "[Pipeline] ........ (step 3 of 3) Processing classifier, total=   0.1s\n",
      "[Pipeline] ........ (step 3 of 3) Processing classifier, total=   0.1s\n",
      "[Pipeline] ........ (step 3 of 3) Processing classifier, total=   0.1s\n"
     ]
    },
    {
     "name": "stderr",
     "output_type": "stream",
     "text": [
      "[2023-05-11 22:57:11:223] - INFO - SAIL : Cumulative Pipeline Score: 0.9395744680851064\n",
      "[2023-05-11 22:57:11:223] - INFO - SAIL : Calling Partial_fit() on the pipeline.\n",
      "[2023-05-11 22:57:11:308] - INFO - SAIL : Cumulative Pipeline Score: 0.9396825396825397\n",
      "[2023-05-11 22:57:11:309] - INFO - SAIL : Calling Partial_fit() on the pipeline.\n",
      "[2023-05-11 22:57:11:384] - INFO - SAIL : Cumulative Pipeline Score: 0.9396842105263158\n",
      "[2023-05-11 22:57:11:385] - INFO - SAIL : Calling Partial_fit() on the pipeline.\n"
     ]
    },
    {
     "name": "stdout",
     "output_type": "stream",
     "text": [
      "[Pipeline] ........ (step 3 of 3) Processing classifier, total=   0.1s\n",
      "[Pipeline] ........ (step 3 of 3) Processing classifier, total=   0.1s\n",
      "[Pipeline] ........ (step 3 of 3) Processing classifier, total=   0.1s\n"
     ]
    },
    {
     "name": "stderr",
     "output_type": "stream",
     "text": [
      "[2023-05-11 22:57:11:469] - INFO - SAIL : Cumulative Pipeline Score: 0.9395811518324607\n",
      "[2023-05-11 22:57:11:470] - INFO - SAIL : Calling Partial_fit() on the pipeline.\n",
      "[2023-05-11 22:57:11:549] - INFO - SAIL : Cumulative Pipeline Score: 0.939375\n",
      "[2023-05-11 22:57:11:550] - INFO - SAIL : Calling Partial_fit() on the pipeline.\n",
      "[2023-05-11 22:57:11:631] - INFO - SAIL : Cumulative Pipeline Score: 0.9394818652849741\n",
      "[2023-05-11 22:57:11:632] - INFO - SAIL : Calling Partial_fit() on the pipeline.\n"
     ]
    },
    {
     "name": "stdout",
     "output_type": "stream",
     "text": [
      "[Pipeline] ........ (step 3 of 3) Processing classifier, total=   0.1s\n",
      "[Pipeline] ........ (step 3 of 3) Processing classifier, total=   0.1s\n",
      "[Pipeline] ........ (step 3 of 3) Processing classifier, total=   0.1s\n"
     ]
    },
    {
     "name": "stderr",
     "output_type": "stream",
     "text": [
      "[2023-05-11 22:57:11:714] - INFO - SAIL : Cumulative Pipeline Score: 0.9395876288659794\n",
      "[2023-05-11 22:57:11:715] - INFO - SAIL : Calling Partial_fit() on the pipeline.\n",
      "[2023-05-11 22:57:11:796] - INFO - SAIL : Cumulative Pipeline Score: 0.9393846153846154\n",
      "[2023-05-11 22:57:11:797] - INFO - SAIL : Calling Partial_fit() on the pipeline.\n",
      "[2023-05-11 22:57:11:875] - INFO - SAIL : Cumulative Pipeline Score: 0.9393877551020409\n",
      "[2023-05-11 22:57:11:876] - INFO - SAIL : Calling Partial_fit() on the pipeline.\n"
     ]
    },
    {
     "name": "stdout",
     "output_type": "stream",
     "text": [
      "[Pipeline] ........ (step 3 of 3) Processing classifier, total=   0.1s\n",
      "[Pipeline] ........ (step 3 of 3) Processing classifier, total=   0.1s\n",
      "[Pipeline] ........ (step 3 of 3) Processing classifier, total=   0.1s\n"
     ]
    },
    {
     "name": "stderr",
     "output_type": "stream",
     "text": [
      "[2023-05-11 22:57:11:954] - INFO - SAIL : Cumulative Pipeline Score: 0.939492385786802\n",
      "[2023-05-11 22:57:11:955] - INFO - SAIL : Calling Partial_fit() on the pipeline.\n",
      "[2023-05-11 22:57:12:30] - INFO - SAIL : Cumulative Pipeline Score: 0.9395959595959597\n",
      "[2023-05-11 22:57:12:31] - INFO - SAIL : Calling Partial_fit() on the pipeline.\n",
      "[2023-05-11 22:57:12:102] - INFO - SAIL : Cumulative Pipeline Score: 0.9396984924623115\n",
      "[2023-05-11 22:57:12:103] - INFO - SAIL : Calling Partial_fit() on the pipeline.\n"
     ]
    },
    {
     "name": "stdout",
     "output_type": "stream",
     "text": [
      "[Pipeline] ........ (step 3 of 3) Processing classifier, total=   0.1s\n",
      "[Pipeline] ........ (step 3 of 3) Processing classifier, total=   0.1s\n",
      "[Pipeline] ........ (step 3 of 3) Processing classifier, total=   0.0s\n"
     ]
    },
    {
     "name": "stderr",
     "output_type": "stream",
     "text": [
      "[2023-05-11 22:57:12:179] - INFO - SAIL : Cumulative Pipeline Score: 0.9399\n",
      "[2023-05-11 22:57:12:180] - INFO - SAIL : Calling Partial_fit() on the pipeline.\n",
      "[2023-05-11 22:57:12:252] - INFO - SAIL : Cumulative Pipeline Score: 0.9397014925373134\n",
      "[2023-05-11 22:57:12:252] - INFO - SAIL : Calling Partial_fit() on the pipeline.\n",
      "[2023-05-11 22:57:12:335] - INFO - SAIL : Cumulative Pipeline Score: 0.9397029702970296\n",
      "[2023-05-11 22:57:12:336] - INFO - SAIL : Calling Partial_fit() on the pipeline.\n"
     ]
    },
    {
     "name": "stdout",
     "output_type": "stream",
     "text": [
      "[Pipeline] ........ (step 3 of 3) Processing classifier, total=   0.0s\n",
      "[Pipeline] ........ (step 3 of 3) Processing classifier, total=   0.0s\n",
      "[Pipeline] ........ (step 3 of 3) Processing classifier, total=   0.1s\n"
     ]
    },
    {
     "name": "stderr",
     "output_type": "stream",
     "text": [
      "[2023-05-11 22:57:12:418] - INFO - SAIL : Cumulative Pipeline Score: 0.939704433497537\n",
      "[2023-05-11 22:57:12:419] - INFO - SAIL : Calling Partial_fit() on the pipeline.\n",
      "[2023-05-11 22:57:12:494] - INFO - SAIL : Cumulative Pipeline Score: 0.9398039215686275\n",
      "[2023-05-11 22:57:12:495] - INFO - SAIL : Calling Partial_fit() on the pipeline.\n",
      "[2023-05-11 22:57:12:574] - INFO - SAIL : Cumulative Pipeline Score: 0.9396097560975609\n",
      "[2023-05-11 22:57:12:575] - INFO - SAIL : Calling Partial_fit() on the pipeline.\n"
     ]
    },
    {
     "name": "stdout",
     "output_type": "stream",
     "text": [
      "[Pipeline] ........ (step 3 of 3) Processing classifier, total=   0.1s\n",
      "[Pipeline] ........ (step 3 of 3) Processing classifier, total=   0.1s\n",
      "[Pipeline] ........ (step 3 of 3) Processing classifier, total=   0.1s\n"
     ]
    },
    {
     "name": "stderr",
     "output_type": "stream",
     "text": [
      "[2023-05-11 22:57:12:656] - INFO - SAIL : Cumulative Pipeline Score: 0.9398058252427185\n",
      "[2023-05-11 22:57:12:657] - INFO - SAIL : Calling Partial_fit() on the pipeline.\n",
      "[2023-05-11 22:57:12:737] - INFO - SAIL : Cumulative Pipeline Score: 0.9399033816425121\n",
      "[2023-05-11 22:57:12:738] - INFO - SAIL : Calling Partial_fit() on the pipeline.\n",
      "[2023-05-11 22:57:12:820] - INFO - SAIL : Cumulative Pipeline Score: 0.9398076923076923\n",
      "[2023-05-11 22:57:12:821] - INFO - SAIL : Calling Partial_fit() on the pipeline.\n"
     ]
    },
    {
     "name": "stdout",
     "output_type": "stream",
     "text": [
      "[Pipeline] ........ (step 3 of 3) Processing classifier, total=   0.1s\n",
      "[Pipeline] ........ (step 3 of 3) Processing classifier, total=   0.1s\n",
      "[Pipeline] ........ (step 3 of 3) Processing classifier, total=   0.1s\n"
     ]
    },
    {
     "name": "stderr",
     "output_type": "stream",
     "text": [
      "[2023-05-11 22:57:12:909] - INFO - SAIL : Cumulative Pipeline Score: 0.939712918660287\n",
      "[2023-05-11 22:57:12:910] - INFO - SAIL : Calling Partial_fit() on the pipeline.\n",
      "[2023-05-11 22:57:12:982] - INFO - SAIL : Cumulative Pipeline Score: 0.9397142857142857\n",
      "[2023-05-11 22:57:12:983] - INFO - SAIL : Calling Partial_fit() on the pipeline.\n",
      "[2023-05-11 22:57:13:64] - INFO - SAIL : Cumulative Pipeline Score: 0.9399052132701422\n",
      "[2023-05-11 22:57:13:65] - INFO - SAIL : Calling Partial_fit() on the pipeline.\n"
     ]
    },
    {
     "name": "stdout",
     "output_type": "stream",
     "text": [
      "[Pipeline] ........ (step 3 of 3) Processing classifier, total=   0.1s\n",
      "[Pipeline] ........ (step 3 of 3) Processing classifier, total=   0.0s\n",
      "[Pipeline] ........ (step 3 of 3) Processing classifier, total=   0.1s\n"
     ]
    },
    {
     "name": "stderr",
     "output_type": "stream",
     "text": [
      "[2023-05-11 22:57:13:173] - INFO - SAIL : Cumulative Pipeline Score: 0.94\n",
      "[2023-05-11 22:57:13:174] - INFO - SAIL : Calling Partial_fit() on the pipeline.\n",
      "[2023-05-11 22:57:13:261] - INFO - SAIL : Cumulative Pipeline Score: 0.940093896713615\n",
      "[2023-05-11 22:57:13:262] - INFO - SAIL : Calling Partial_fit() on the pipeline.\n",
      "[2023-05-11 22:57:13:342] - INFO - SAIL : Cumulative Pipeline Score: 0.9401869158878504\n",
      "[2023-05-11 22:57:13:343] - INFO - SAIL : Calling Partial_fit() on the pipeline.\n"
     ]
    },
    {
     "name": "stdout",
     "output_type": "stream",
     "text": [
      "[Pipeline] ........ (step 3 of 3) Processing classifier, total=   0.1s\n",
      "[Pipeline] ........ (step 3 of 3) Processing classifier, total=   0.1s\n",
      "[Pipeline] ........ (step 3 of 3) Processing classifier, total=   0.1s\n"
     ]
    },
    {
     "name": "stderr",
     "output_type": "stream",
     "text": [
      "[2023-05-11 22:57:13:433] - INFO - SAIL : Cumulative Pipeline Score: 0.940186046511628\n",
      "[2023-05-11 22:57:13:434] - INFO - SAIL : Calling Partial_fit() on the pipeline.\n",
      "[2023-05-11 22:57:13:524] - INFO - SAIL : Cumulative Pipeline Score: 0.9402777777777778\n",
      "[2023-05-11 22:57:13:525] - INFO - SAIL : Calling Partial_fit() on the pipeline.\n",
      "[2023-05-11 22:57:13:604] - INFO - SAIL : Cumulative Pipeline Score: 0.9399078341013825\n",
      "[2023-05-11 22:57:13:606] - INFO - SAIL : Calling Partial_fit() on the pipeline.\n"
     ]
    },
    {
     "name": "stdout",
     "output_type": "stream",
     "text": [
      "[Pipeline] ........ (step 3 of 3) Processing classifier, total=   0.1s\n",
      "[Pipeline] ........ (step 3 of 3) Processing classifier, total=   0.1s\n",
      "[Pipeline] ........ (step 3 of 3) Processing classifier, total=   0.1s\n"
     ]
    },
    {
     "name": "stderr",
     "output_type": "stream",
     "text": [
      "[2023-05-11 22:57:13:698] - INFO - SAIL : Cumulative Pipeline Score: 0.939908256880734\n",
      "[2023-05-11 22:57:13:699] - INFO - SAIL : Calling Partial_fit() on the pipeline.\n",
      "[2023-05-11 22:57:13:786] - INFO - SAIL : Cumulative Pipeline Score: 0.9401826484018265\n",
      "[2023-05-11 22:57:13:787] - INFO - SAIL : Calling Partial_fit() on the pipeline.\n",
      "[2023-05-11 22:57:13:869] - INFO - SAIL : Cumulative Pipeline Score: 0.9396363636363636\n",
      "[2023-05-11 22:57:13:870] - INFO - SAIL : Calling Partial_fit() on the pipeline.\n"
     ]
    },
    {
     "name": "stdout",
     "output_type": "stream",
     "text": [
      "[Pipeline] ........ (step 3 of 3) Processing classifier, total=   0.1s\n",
      "[Pipeline] ........ (step 3 of 3) Processing classifier, total=   0.1s\n",
      "[Pipeline] ........ (step 3 of 3) Processing classifier, total=   0.1s\n"
     ]
    },
    {
     "name": "stderr",
     "output_type": "stream",
     "text": [
      "[2023-05-11 22:57:13:969] - INFO - SAIL : Cumulative Pipeline Score: 0.9395475113122171\n",
      "[2023-05-11 22:57:13:970] - INFO - SAIL : Calling Partial_fit() on the pipeline.\n",
      "[2023-05-11 22:57:14:53] - INFO - SAIL : Cumulative Pipeline Score: 0.9395495495495495\n",
      "[2023-05-11 22:57:14:54] - INFO - SAIL : Calling Partial_fit() on the pipeline.\n"
     ]
    },
    {
     "name": "stdout",
     "output_type": "stream",
     "text": [
      "[Pipeline] ........ (step 3 of 3) Processing classifier, total=   0.1s\n",
      "[Pipeline] ........ (step 3 of 3) Processing classifier, total=   0.1s\n"
     ]
    },
    {
     "name": "stderr",
     "output_type": "stream",
     "text": [
      "[2023-05-11 22:57:14:275] - INFO - SAIL : Cumulative Pipeline Score: 0.9397309417040359\n",
      "[2023-05-11 22:57:14:276] - INFO - SAIL : Calling Partial_fit() on the pipeline.\n",
      "[2023-05-11 22:57:14:359] - INFO - SAIL : Cumulative Pipeline Score: 0.9397321428571429\n",
      "[2023-05-11 22:57:14:360] - INFO - SAIL : Calling Partial_fit() on the pipeline.\n",
      "[2023-05-11 22:57:14:443] - INFO - SAIL : Cumulative Pipeline Score: 0.9395555555555556\n",
      "[2023-05-11 22:57:14:444] - INFO - SAIL : Calling Partial_fit() on the pipeline.\n"
     ]
    },
    {
     "name": "stdout",
     "output_type": "stream",
     "text": [
      "[Pipeline] ........ (step 3 of 3) Processing classifier, total=   0.2s\n",
      "[Pipeline] ........ (step 3 of 3) Processing classifier, total=   0.1s\n",
      "[Pipeline] ........ (step 3 of 3) Processing classifier, total=   0.1s\n"
     ]
    },
    {
     "name": "stderr",
     "output_type": "stream",
     "text": [
      "[2023-05-11 22:57:14:532] - INFO - SAIL : Cumulative Pipeline Score: 0.9397345132743363\n",
      "[2023-05-11 22:57:14:533] - INFO - SAIL : Calling Partial_fit() on the pipeline.\n",
      "[2023-05-11 22:57:14:615] - INFO - SAIL : Cumulative Pipeline Score: 0.939647577092511\n",
      "[2023-05-11 22:57:14:616] - INFO - SAIL : Calling Partial_fit() on the pipeline.\n",
      "[2023-05-11 22:57:14:702] - INFO - SAIL : Cumulative Pipeline Score: 0.9396491228070175\n",
      "[2023-05-11 22:57:14:703] - INFO - SAIL : Calling Partial_fit() on the pipeline.\n"
     ]
    },
    {
     "name": "stdout",
     "output_type": "stream",
     "text": [
      "[Pipeline] ........ (step 3 of 3) Processing classifier, total=   0.1s\n",
      "[Pipeline] ........ (step 3 of 3) Processing classifier, total=   0.1s\n",
      "[Pipeline] ........ (step 3 of 3) Processing classifier, total=   0.1s\n"
     ]
    },
    {
     "name": "stderr",
     "output_type": "stream",
     "text": [
      "[2023-05-11 22:57:14:791] - INFO - SAIL : Cumulative Pipeline Score: 0.9396506550218341\n",
      "[2023-05-11 22:57:14:792] - INFO - SAIL : Calling Partial_fit() on the pipeline.\n",
      "[2023-05-11 22:57:14:880] - INFO - SAIL : Cumulative Pipeline Score: 0.9393913043478261\n",
      "[2023-05-11 22:57:14:881] - INFO - SAIL : Calling Partial_fit() on the pipeline.\n",
      "[2023-05-11 22:57:14:964] - INFO - SAIL : Cumulative Pipeline Score: 0.9393939393939394\n",
      "[2023-05-11 22:57:14:965] - INFO - SAIL : Calling Partial_fit() on the pipeline.\n"
     ]
    },
    {
     "name": "stdout",
     "output_type": "stream",
     "text": [
      "[Pipeline] ........ (step 3 of 3) Processing classifier, total=   0.1s\n",
      "[Pipeline] ........ (step 3 of 3) Processing classifier, total=   0.1s\n",
      "[Pipeline] ........ (step 3 of 3) Processing classifier, total=   0.1s\n"
     ]
    },
    {
     "name": "stderr",
     "output_type": "stream",
     "text": [
      "[2023-05-11 22:57:15:64] - INFO - SAIL : Cumulative Pipeline Score: 0.9395689655172413\n",
      "[2023-05-11 22:57:15:65] - INFO - SAIL : Calling Partial_fit() on the pipeline.\n",
      "[2023-05-11 22:57:15:165] - INFO - SAIL : Cumulative Pipeline Score: 0.939656652360515\n",
      "[2023-05-11 22:57:15:166] - INFO - SAIL : Calling Partial_fit() on the pipeline.\n"
     ]
    },
    {
     "name": "stdout",
     "output_type": "stream",
     "text": [
      "[Pipeline] ........ (step 3 of 3) Processing classifier, total=   0.1s\n",
      "[Pipeline] ........ (step 3 of 3) Processing classifier, total=   0.1s\n",
      "[Pipeline] ........ (step 3 of 3) Processing classifier, total=   0.1s\n"
     ]
    },
    {
     "name": "stderr",
     "output_type": "stream",
     "text": [
      "[2023-05-11 22:57:15:243] - INFO - SAIL : Cumulative Pipeline Score: 0.9397435897435897\n",
      "[2023-05-11 22:57:15:244] - INFO - SAIL : Calling Partial_fit() on the pipeline.\n",
      "[2023-05-11 22:57:15:355] - INFO - SAIL : Cumulative Pipeline Score: 0.9398297872340425\n",
      "[2023-05-11 22:57:15:356] - INFO - SAIL : Calling Partial_fit() on the pipeline.\n",
      "[2023-05-11 22:57:15:427] - INFO - SAIL : Cumulative Pipeline Score: 0.9397457627118644\n",
      "[2023-05-11 22:57:15:428] - INFO - SAIL : Calling Partial_fit() on the pipeline.\n",
      "[2023-05-11 22:57:15:503] - INFO - SAIL : Cumulative Pipeline Score: 0.9397468354430379\n",
      "[2023-05-11 22:57:15:505] - INFO - SAIL : Calling Partial_fit() on the pipeline.\n"
     ]
    },
    {
     "name": "stdout",
     "output_type": "stream",
     "text": [
      "[Pipeline] ........ (step 3 of 3) Processing classifier, total=   0.1s\n",
      "[Pipeline] ........ (step 3 of 3) Processing classifier, total=   0.0s\n",
      "[Pipeline] ........ (step 3 of 3) Processing classifier, total=   0.0s\n"
     ]
    },
    {
     "name": "stderr",
     "output_type": "stream",
     "text": [
      "[2023-05-11 22:57:15:584] - INFO - SAIL : Cumulative Pipeline Score: 0.9397478991596638\n",
      "[2023-05-11 22:57:15:585] - INFO - SAIL : Calling Partial_fit() on the pipeline.\n",
      "[2023-05-11 22:57:15:661] - INFO - SAIL : Cumulative Pipeline Score: 0.9397489539748954\n",
      "[2023-05-11 22:57:15:662] - INFO - SAIL : Calling Partial_fit() on the pipeline.\n",
      "[2023-05-11 22:57:15:747] - INFO - SAIL : Cumulative Pipeline Score: 0.9396666666666667\n",
      "[2023-05-11 22:57:15:748] - INFO - SAIL : Calling Partial_fit() on the pipeline.\n"
     ]
    },
    {
     "name": "stdout",
     "output_type": "stream",
     "text": [
      "[Pipeline] ........ (step 3 of 3) Processing classifier, total=   0.1s\n",
      "[Pipeline] ........ (step 3 of 3) Processing classifier, total=   0.1s\n",
      "[Pipeline] ........ (step 3 of 3) Processing classifier, total=   0.1s\n"
     ]
    },
    {
     "name": "stderr",
     "output_type": "stream",
     "text": [
      "[2023-05-11 22:57:15:841] - INFO - SAIL : Cumulative Pipeline Score: 0.9395850622406638\n",
      "[2023-05-11 22:57:15:842] - INFO - SAIL : Calling Partial_fit() on the pipeline.\n",
      "[2023-05-11 22:57:15:918] - INFO - SAIL : Cumulative Pipeline Score: 0.9395041322314049\n",
      "[2023-05-11 22:57:15:919] - INFO - SAIL : Calling Partial_fit() on the pipeline.\n",
      "[2023-05-11 22:57:15:995] - INFO - SAIL : Cumulative Pipeline Score: 0.9395061728395062\n",
      "[2023-05-11 22:57:15:996] - INFO - SAIL : Calling Partial_fit() on the pipeline.\n"
     ]
    },
    {
     "name": "stdout",
     "output_type": "stream",
     "text": [
      "[Pipeline] ........ (step 3 of 3) Processing classifier, total=   0.1s\n",
      "[Pipeline] ........ (step 3 of 3) Processing classifier, total=   0.1s\n",
      "[Pipeline] ........ (step 3 of 3) Processing classifier, total=   0.0s\n"
     ]
    },
    {
     "name": "stderr",
     "output_type": "stream",
     "text": [
      "[2023-05-11 22:57:16:77] - INFO - SAIL : Cumulative Pipeline Score: 0.939672131147541\n",
      "[2023-05-11 22:57:16:78] - INFO - SAIL : Calling Partial_fit() on the pipeline.\n",
      "[2023-05-11 22:57:16:174] - INFO - SAIL : Cumulative Pipeline Score: 0.9397551020408164\n",
      "[2023-05-11 22:57:16:175] - INFO - SAIL : Calling Partial_fit() on the pipeline.\n"
     ]
    },
    {
     "name": "stdout",
     "output_type": "stream",
     "text": [
      "[Pipeline] ........ (step 3 of 3) Processing classifier, total=   0.1s\n",
      "[Pipeline] ........ (step 3 of 3) Processing classifier, total=   0.1s\n",
      "[Pipeline] ........ (step 3 of 3) Processing classifier, total=   0.1s\n"
     ]
    },
    {
     "name": "stderr",
     "output_type": "stream",
     "text": [
      "[2023-05-11 22:57:16:264] - INFO - SAIL : Cumulative Pipeline Score: 0.9395934959349593\n",
      "[2023-05-11 22:57:16:265] - INFO - SAIL : Calling Partial_fit() on the pipeline.\n",
      "[2023-05-11 22:57:16:356] - INFO - SAIL : Cumulative Pipeline Score: 0.9394331983805668\n",
      "[2023-05-11 22:57:16:357] - INFO - SAIL : Calling Partial_fit() on the pipeline.\n",
      "[2023-05-11 22:57:16:434] - INFO - SAIL : Cumulative Pipeline Score: 0.9394354838709678\n",
      "[2023-05-11 22:57:16:435] - INFO - SAIL : Calling Partial_fit() on the pipeline.\n",
      "[2023-05-11 22:57:16:516] - INFO - SAIL : Cumulative Pipeline Score: 0.939437751004016\n",
      "[2023-05-11 22:57:16:517] - INFO - SAIL : Calling Partial_fit() on the pipeline.\n"
     ]
    },
    {
     "name": "stdout",
     "output_type": "stream",
     "text": [
      "[Pipeline] ........ (step 3 of 3) Processing classifier, total=   0.1s\n",
      "[Pipeline] ........ (step 3 of 3) Processing classifier, total=   0.1s\n",
      "[Pipeline] ........ (step 3 of 3) Processing classifier, total=   0.1s\n"
     ]
    },
    {
     "name": "stderr",
     "output_type": "stream",
     "text": [
      "[2023-05-11 22:57:16:612] - INFO - SAIL : Cumulative Pipeline Score: 0.93936\n",
      "[2023-05-11 22:57:16:613] - INFO - SAIL : Calling Partial_fit() on the pipeline.\n",
      "[2023-05-11 22:57:16:710] - INFO - SAIL : Cumulative Pipeline Score: 0.9392828685258964\n",
      "[2023-05-11 22:57:16:711] - INFO - SAIL : Calling Partial_fit() on the pipeline.\n"
     ]
    },
    {
     "name": "stdout",
     "output_type": "stream",
     "text": [
      "[Pipeline] ........ (step 3 of 3) Processing classifier, total=   0.1s\n",
      "[Pipeline] ........ (step 3 of 3) Processing classifier, total=   0.1s\n",
      "[Pipeline] ........ (step 3 of 3) Processing classifier, total=   0.1s\n"
     ]
    },
    {
     "name": "stderr",
     "output_type": "stream",
     "text": [
      "[2023-05-11 22:57:16:802] - INFO - SAIL : Cumulative Pipeline Score: 0.9393650793650794\n",
      "[2023-05-11 22:57:16:804] - INFO - SAIL : Calling Partial_fit() on the pipeline.\n",
      "[2023-05-11 22:57:16:902] - INFO - SAIL : Cumulative Pipeline Score: 0.9392885375494071\n",
      "[2023-05-11 22:57:16:903] - INFO - SAIL : Calling Partial_fit() on the pipeline.\n",
      "[2023-05-11 22:57:16:991] - INFO - SAIL : Cumulative Pipeline Score: 0.9393700787401574\n",
      "[2023-05-11 22:57:16:992] - INFO - SAIL : Calling Partial_fit() on the pipeline.\n",
      "[2023-05-11 22:57:17:79] - INFO - SAIL : Cumulative Pipeline Score: 0.9396078431372549\n",
      "[2023-05-11 22:57:17:80] - INFO - SAIL : Calling Partial_fit() on the pipeline.\n"
     ]
    },
    {
     "name": "stdout",
     "output_type": "stream",
     "text": [
      "[Pipeline] ........ (step 3 of 3) Processing classifier, total=   0.1s\n",
      "[Pipeline] ........ (step 3 of 3) Processing classifier, total=   0.1s\n",
      "[Pipeline] ........ (step 3 of 3) Processing classifier, total=   0.1s\n"
     ]
    },
    {
     "name": "stderr",
     "output_type": "stream",
     "text": [
      "[2023-05-11 22:57:17:178] - INFO - SAIL : Cumulative Pipeline Score: 0.93953125\n",
      "[2023-05-11 22:57:17:179] - INFO - SAIL : Calling Partial_fit() on the pipeline.\n",
      "[2023-05-11 22:57:17:277] - INFO - SAIL : Cumulative Pipeline Score: 0.9396887159533074\n",
      "[2023-05-11 22:57:17:278] - INFO - SAIL : Calling Partial_fit() on the pipeline.\n"
     ]
    },
    {
     "name": "stdout",
     "output_type": "stream",
     "text": [
      "[Pipeline] ........ (step 3 of 3) Processing classifier, total=   0.1s\n",
      "[Pipeline] ........ (step 3 of 3) Processing classifier, total=   0.1s\n",
      "[Pipeline] ........ (step 3 of 3) Processing classifier, total=   0.1s\n"
     ]
    },
    {
     "name": "stderr",
     "output_type": "stream",
     "text": [
      "[2023-05-11 22:57:17:366] - INFO - SAIL : Cumulative Pipeline Score: 0.939922480620155\n",
      "[2023-05-11 22:57:17:366] - INFO - SAIL : Calling Partial_fit() on the pipeline.\n",
      "[2023-05-11 22:57:17:533] - INFO - SAIL : Cumulative Pipeline Score: 0.94\n",
      "[2023-05-11 22:57:17:534] - INFO - SAIL : Calling Partial_fit() on the pipeline.\n",
      "[2023-05-11 22:57:17:636] - INFO - SAIL : Cumulative Pipeline Score: 0.9401538461538461\n",
      "[2023-05-11 22:57:17:637] - INFO - SAIL : Calling Partial_fit() on the pipeline.\n"
     ]
    },
    {
     "name": "stdout",
     "output_type": "stream",
     "text": [
      "[Pipeline] ........ (step 3 of 3) Processing classifier, total=   0.1s\n",
      "[Pipeline] ........ (step 3 of 3) Processing classifier, total=   0.1s\n"
     ]
    },
    {
     "name": "stderr",
     "output_type": "stream",
     "text": [
      "[2023-05-11 22:57:17:757] - INFO - SAIL : Cumulative Pipeline Score: 0.9403065134099616\n",
      "[2023-05-11 22:57:17:758] - INFO - SAIL : Calling Partial_fit() on the pipeline.\n",
      "[2023-05-11 22:57:17:858] - INFO - SAIL : Cumulative Pipeline Score: 0.9405343511450381\n",
      "[2023-05-11 22:57:17:860] - INFO - SAIL : Calling Partial_fit() on the pipeline.\n"
     ]
    },
    {
     "name": "stdout",
     "output_type": "stream",
     "text": [
      "[Pipeline] ........ (step 3 of 3) Processing classifier, total=   0.1s\n",
      "[Pipeline] ........ (step 3 of 3) Processing classifier, total=   0.1s\n",
      "[Pipeline] ........ (step 3 of 3) Processing classifier, total=   0.1s\n"
     ]
    },
    {
     "name": "stderr",
     "output_type": "stream",
     "text": [
      "[2023-05-11 22:57:17:953] - INFO - SAIL : Cumulative Pipeline Score: 0.9406844106463879\n",
      "[2023-05-11 22:57:17:954] - INFO - SAIL : Calling Partial_fit() on the pipeline.\n",
      "[2023-05-11 22:57:18:56] - INFO - SAIL : Cumulative Pipeline Score: 0.9408333333333333\n",
      "[2023-05-11 22:57:18:57] - INFO - SAIL : Calling Partial_fit() on the pipeline.\n",
      "[2023-05-11 22:57:18:139] - INFO - SAIL : Cumulative Pipeline Score: 0.9409811320754717\n",
      "[2023-05-11 22:57:18:140] - INFO - SAIL : Calling Partial_fit() on the pipeline.\n",
      "[2023-05-11 22:57:18:227] - INFO - SAIL : Cumulative Pipeline Score: 0.9411278195488721\n",
      "[2023-05-11 22:57:18:228] - INFO - SAIL : Calling Partial_fit() on the pipeline.\n"
     ]
    },
    {
     "name": "stdout",
     "output_type": "stream",
     "text": [
      "[Pipeline] ........ (step 3 of 3) Processing classifier, total=   0.1s\n",
      "[Pipeline] ........ (step 3 of 3) Processing classifier, total=   0.1s\n",
      "[Pipeline] ........ (step 3 of 3) Processing classifier, total=   0.1s\n"
     ]
    },
    {
     "name": "stderr",
     "output_type": "stream",
     "text": [
      "[2023-05-11 22:57:18:311] - INFO - SAIL : Cumulative Pipeline Score: 0.941123595505618\n",
      "[2023-05-11 22:57:18:312] - INFO - SAIL : Calling Partial_fit() on the pipeline.\n",
      "[2023-05-11 22:57:18:397] - INFO - SAIL : Cumulative Pipeline Score: 0.941044776119403\n",
      "[2023-05-11 22:57:18:398] - INFO - SAIL : Calling Partial_fit() on the pipeline.\n"
     ]
    },
    {
     "name": "stdout",
     "output_type": "stream",
     "text": [
      "[Pipeline] ........ (step 3 of 3) Processing classifier, total=   0.1s\n",
      "[Pipeline] ........ (step 3 of 3) Processing classifier, total=   0.1s\n",
      "[Pipeline] ........ (step 3 of 3) Processing classifier, total=   0.1s\n"
     ]
    },
    {
     "name": "stderr",
     "output_type": "stream",
     "text": [
      "[2023-05-11 22:57:18:494] - INFO - SAIL : Cumulative Pipeline Score: 0.9410408921933086\n",
      "[2023-05-11 22:57:18:495] - INFO - SAIL : Calling Partial_fit() on the pipeline.\n",
      "[2023-05-11 22:57:18:595] - INFO - SAIL : Cumulative Pipeline Score: 0.940962962962963\n",
      "[2023-05-11 22:57:18:596] - INFO - SAIL : Calling Partial_fit() on the pipeline.\n",
      "[2023-05-11 22:57:18:704] - INFO - SAIL : Cumulative Pipeline Score: 0.940959409594096\n",
      "[2023-05-11 22:57:18:705] - INFO - SAIL : Calling Partial_fit() on the pipeline.\n"
     ]
    },
    {
     "name": "stdout",
     "output_type": "stream",
     "text": [
      "[Pipeline] ........ (step 3 of 3) Processing classifier, total=   0.1s\n",
      "[Pipeline] ........ (step 3 of 3) Processing classifier, total=   0.1s\n",
      "[Pipeline] ........ (step 3 of 3) Processing classifier, total=   0.1s\n"
     ]
    },
    {
     "name": "stderr",
     "output_type": "stream",
     "text": [
      "[2023-05-11 22:57:18:795] - INFO - SAIL : Cumulative Pipeline Score: 0.9411029411764706\n",
      "[2023-05-11 22:57:18:797] - INFO - SAIL : Calling Partial_fit() on the pipeline.\n",
      "[2023-05-11 22:57:18:908] - INFO - SAIL : Cumulative Pipeline Score: 0.941025641025641\n",
      "[2023-05-11 22:57:18:909] - INFO - SAIL : Calling Partial_fit() on the pipeline.\n",
      "[2023-05-11 22:57:18:995] - INFO - SAIL : Cumulative Pipeline Score: 0.9410948905109489\n",
      "[2023-05-11 22:57:18:996] - INFO - SAIL : Calling Partial_fit() on the pipeline.\n"
     ]
    },
    {
     "name": "stdout",
     "output_type": "stream",
     "text": [
      "[Pipeline] ........ (step 3 of 3) Processing classifier, total=   0.1s\n",
      "[Pipeline] ........ (step 3 of 3) Processing classifier, total=   0.1s\n",
      "[Pipeline] ........ (step 3 of 3) Processing classifier, total=   0.1s\n"
     ]
    },
    {
     "name": "stderr",
     "output_type": "stream",
     "text": [
      "[2023-05-11 22:57:19:112] - INFO - SAIL : Cumulative Pipeline Score: 0.9410909090909091\n",
      "[2023-05-11 22:57:19:115] - INFO - SAIL : Calling Partial_fit() on the pipeline.\n",
      "[2023-05-11 22:57:19:201] - INFO - SAIL : Cumulative Pipeline Score: 0.941231884057971\n",
      "[2023-05-11 22:57:19:202] - INFO - SAIL : Calling Partial_fit() on the pipeline.\n",
      "[2023-05-11 22:57:19:276] - INFO - SAIL : Cumulative Pipeline Score: 0.9410108303249097\n",
      "[2023-05-11 22:57:19:277] - INFO - SAIL : Calling Partial_fit() on the pipeline.\n",
      "[2023-05-11 22:57:19:348] - INFO - SAIL : Cumulative Pipeline Score: 0.9407913669064748\n",
      "[2023-05-11 22:57:19:349] - INFO - SAIL : Calling Partial_fit() on the pipeline.\n"
     ]
    },
    {
     "name": "stdout",
     "output_type": "stream",
     "text": [
      "[Pipeline] ........ (step 3 of 3) Processing classifier, total=   0.1s\n",
      "[Pipeline] ........ (step 3 of 3) Processing classifier, total=   0.0s\n",
      "[Pipeline] ........ (step 3 of 3) Processing classifier, total=   0.0s\n"
     ]
    },
    {
     "name": "stderr",
     "output_type": "stream",
     "text": [
      "[2023-05-11 22:57:19:451] - INFO - SAIL : Cumulative Pipeline Score: 0.9407168458781362\n",
      "[2023-05-11 22:57:19:458] - INFO - SAIL : Calling Partial_fit() on the pipeline.\n",
      "[2023-05-11 22:57:19:546] - INFO - SAIL : Cumulative Pipeline Score: 0.9405\n",
      "[2023-05-11 22:57:19:547] - INFO - SAIL : Calling Partial_fit() on the pipeline.\n"
     ]
    },
    {
     "name": "stdout",
     "output_type": "stream",
     "text": [
      "[Pipeline] ........ (step 3 of 3) Processing classifier, total=   0.1s\n",
      "[Pipeline] ........ (step 3 of 3) Processing classifier, total=   0.1s\n",
      "[Pipeline] ........ (step 3 of 3) Processing classifier, total=   0.0s\n"
     ]
    },
    {
     "name": "stderr",
     "output_type": "stream",
     "text": [
      "[2023-05-11 22:57:19:624] - INFO - SAIL : Cumulative Pipeline Score: 0.9406405693950178\n",
      "[2023-05-11 22:57:19:626] - INFO - SAIL : Calling Partial_fit() on the pipeline.\n",
      "[2023-05-11 22:57:19:708] - INFO - SAIL : Cumulative Pipeline Score: 0.9408510638297872\n",
      "[2023-05-11 22:57:19:709] - INFO - SAIL : Calling Partial_fit() on the pipeline.\n",
      "[2023-05-11 22:57:19:792] - INFO - SAIL : Cumulative Pipeline Score: 0.9409893992932862\n",
      "[2023-05-11 22:57:19:793] - INFO - SAIL : Calling Partial_fit() on the pipeline.\n",
      "[2023-05-11 22:57:19:875] - INFO - SAIL : Cumulative Pipeline Score: 0.9409154929577465\n",
      "[2023-05-11 22:57:19:876] - INFO - SAIL : Calling Partial_fit() on the pipeline.\n"
     ]
    },
    {
     "name": "stdout",
     "output_type": "stream",
     "text": [
      "[Pipeline] ........ (step 3 of 3) Processing classifier, total=   0.1s\n",
      "[Pipeline] ........ (step 3 of 3) Processing classifier, total=   0.1s\n",
      "[Pipeline] ........ (step 3 of 3) Processing classifier, total=   0.1s\n"
     ]
    },
    {
     "name": "stderr",
     "output_type": "stream",
     "text": [
      "[2023-05-11 22:57:19:970] - INFO - SAIL : Cumulative Pipeline Score: 0.9410526315789474\n",
      "[2023-05-11 22:57:19:970] - INFO - SAIL : Calling Partial_fit() on the pipeline.\n",
      "[2023-05-11 22:57:20:54] - INFO - SAIL : Cumulative Pipeline Score: 0.9411188811188811\n",
      "[2023-05-11 22:57:20:55] - INFO - SAIL : Calling Partial_fit() on the pipeline.\n",
      "[2023-05-11 22:57:20:137] - INFO - SAIL : Cumulative Pipeline Score: 0.9410452961672474\n",
      "[2023-05-11 22:57:20:138] - INFO - SAIL : Calling Partial_fit() on the pipeline.\n"
     ]
    },
    {
     "name": "stdout",
     "output_type": "stream",
     "text": [
      "[Pipeline] ........ (step 3 of 3) Processing classifier, total=   0.1s\n",
      "[Pipeline] ........ (step 3 of 3) Processing classifier, total=   0.1s\n",
      "[Pipeline] ........ (step 3 of 3) Processing classifier, total=   0.1s\n"
     ]
    },
    {
     "name": "stderr",
     "output_type": "stream",
     "text": [
      "[2023-05-11 22:57:20:238] - INFO - SAIL : Cumulative Pipeline Score: 0.9411111111111111\n",
      "[2023-05-11 22:57:20:239] - INFO - SAIL : Calling Partial_fit() on the pipeline.\n",
      "[2023-05-11 22:57:20:321] - INFO - SAIL : Cumulative Pipeline Score: 0.9408304498269896\n",
      "[2023-05-11 22:57:20:322] - INFO - SAIL : Calling Partial_fit() on the pipeline.\n",
      "[2023-05-11 22:57:20:399] - INFO - SAIL : Cumulative Pipeline Score: 0.9408275862068965\n",
      "[2023-05-11 22:57:20:400] - INFO - SAIL : Calling Partial_fit() on the pipeline.\n"
     ]
    },
    {
     "name": "stdout",
     "output_type": "stream",
     "text": [
      "[Pipeline] ........ (step 3 of 3) Processing classifier, total=   0.1s\n",
      "[Pipeline] ........ (step 3 of 3) Processing classifier, total=   0.1s\n",
      "[Pipeline] ........ (step 3 of 3) Processing classifier, total=   0.1s\n"
     ]
    },
    {
     "name": "stderr",
     "output_type": "stream",
     "text": [
      "[2023-05-11 22:57:20:487] - INFO - SAIL : Cumulative Pipeline Score: 0.940893470790378\n",
      "[2023-05-11 22:57:20:487] - INFO - SAIL : Calling Partial_fit() on the pipeline.\n",
      "[2023-05-11 22:57:20:568] - INFO - SAIL : Cumulative Pipeline Score: 0.9410958904109589\n",
      "[2023-05-11 22:57:20:569] - INFO - SAIL : Calling Partial_fit() on the pipeline.\n",
      "[2023-05-11 22:57:20:650] - INFO - SAIL : Cumulative Pipeline Score: 0.9410921501706485\n",
      "[2023-05-11 22:57:20:651] - INFO - SAIL : Calling Partial_fit() on the pipeline.\n"
     ]
    },
    {
     "name": "stdout",
     "output_type": "stream",
     "text": [
      "[Pipeline] ........ (step 3 of 3) Processing classifier, total=   0.1s\n",
      "[Pipeline] ........ (step 3 of 3) Processing classifier, total=   0.1s\n",
      "[Pipeline] ........ (step 3 of 3) Processing classifier, total=   0.1s\n"
     ]
    },
    {
     "name": "stderr",
     "output_type": "stream",
     "text": [
      "[2023-05-11 22:57:20:758] - INFO - SAIL : Cumulative Pipeline Score: 0.940952380952381\n",
      "[2023-05-11 22:57:20:759] - INFO - SAIL : Calling Partial_fit() on the pipeline.\n",
      "[2023-05-11 22:57:20:851] - INFO - SAIL : Cumulative Pipeline Score: 0.9410169491525424\n",
      "[2023-05-11 22:57:20:852] - INFO - SAIL : Calling Partial_fit() on the pipeline.\n"
     ]
    },
    {
     "name": "stdout",
     "output_type": "stream",
     "text": [
      "[Pipeline] ........ (step 3 of 3) Processing classifier, total=   0.1s\n",
      "[Pipeline] ........ (step 3 of 3) Processing classifier, total=   0.1s\n",
      "[Pipeline] ........ (step 3 of 3) Processing classifier, total=   0.1s\n"
     ]
    },
    {
     "name": "stderr",
     "output_type": "stream",
     "text": [
      "[2023-05-11 22:57:20:937] - INFO - SAIL : Cumulative Pipeline Score: 0.9410810810810811\n",
      "[2023-05-11 22:57:20:938] - INFO - SAIL : Calling Partial_fit() on the pipeline.\n",
      "[2023-05-11 22:57:21:27] - INFO - SAIL : Cumulative Pipeline Score: 0.9411447811447812\n",
      "[2023-05-11 22:57:21:28] - INFO - SAIL : Calling Partial_fit() on the pipeline.\n",
      "[2023-05-11 22:57:21:121] - INFO - SAIL : Cumulative Pipeline Score: 0.9412080536912751\n",
      "[2023-05-11 22:57:21:122] - INFO - SAIL : Calling Partial_fit() on the pipeline.\n"
     ]
    },
    {
     "name": "stdout",
     "output_type": "stream",
     "text": [
      "[Pipeline] ........ (step 3 of 3) Processing classifier, total=   0.1s\n",
      "[Pipeline] ........ (step 3 of 3) Processing classifier, total=   0.1s\n",
      "[Pipeline] ........ (step 3 of 3) Processing classifier, total=   0.1s\n"
     ]
    },
    {
     "name": "stderr",
     "output_type": "stream",
     "text": [
      "[2023-05-11 22:57:21:211] - INFO - SAIL : Cumulative Pipeline Score: 0.9413377926421405\n",
      "[2023-05-11 22:57:21:213] - INFO - SAIL : Calling Partial_fit() on the pipeline.\n",
      "[2023-05-11 22:57:21:298] - INFO - SAIL : Cumulative Pipeline Score: 0.9413333333333334\n",
      "[2023-05-11 22:57:21:300] - INFO - SAIL : Calling Partial_fit() on the pipeline.\n",
      "[2023-05-11 22:57:21:382] - INFO - SAIL : Cumulative Pipeline Score: 0.9412624584717608\n",
      "[2023-05-11 22:57:21:383] - INFO - SAIL : Calling Partial_fit() on the pipeline.\n",
      "[2023-05-11 22:57:21:465] - INFO - SAIL : Cumulative Pipeline Score: 0.9413907284768211\n",
      "[2023-05-11 22:57:21:466] - INFO - SAIL : Calling Partial_fit() on the pipeline.\n"
     ]
    },
    {
     "name": "stdout",
     "output_type": "stream",
     "text": [
      "[Pipeline] ........ (step 3 of 3) Processing classifier, total=   0.1s\n",
      "[Pipeline] ........ (step 3 of 3) Processing classifier, total=   0.1s\n",
      "[Pipeline] ........ (step 3 of 3) Processing classifier, total=   0.1s\n"
     ]
    },
    {
     "name": "stderr",
     "output_type": "stream",
     "text": [
      "[2023-05-11 22:57:21:590] - INFO - SAIL : Cumulative Pipeline Score: 0.9415181518151815\n",
      "[2023-05-11 22:57:21:591] - INFO - SAIL : Calling Partial_fit() on the pipeline.\n",
      "[2023-05-11 22:57:21:674] - INFO - SAIL : Cumulative Pipeline Score: 0.9416447368421053\n",
      "[2023-05-11 22:57:21:675] - INFO - SAIL : Calling Partial_fit() on the pipeline.\n",
      "[2023-05-11 22:57:21:752] - INFO - SAIL : Cumulative Pipeline Score: 0.9416393442622951\n",
      "[2023-05-11 22:57:21:753] - INFO - SAIL : Calling Partial_fit() on the pipeline.\n"
     ]
    },
    {
     "name": "stdout",
     "output_type": "stream",
     "text": [
      "[Pipeline] ........ (step 3 of 3) Processing classifier, total=   0.1s\n",
      "[Pipeline] ........ (step 3 of 3) Processing classifier, total=   0.1s\n",
      "[Pipeline] ........ (step 3 of 3) Processing classifier, total=   0.1s\n"
     ]
    },
    {
     "name": "stderr",
     "output_type": "stream",
     "text": [
      "[2023-05-11 22:57:21:836] - INFO - SAIL : Cumulative Pipeline Score: 0.9416339869281046\n",
      "[2023-05-11 22:57:21:837] - INFO - SAIL : Calling Partial_fit() on the pipeline.\n",
      "[2023-05-11 22:57:21:917] - INFO - SAIL : Cumulative Pipeline Score: 0.9415635179153095\n",
      "[2023-05-11 22:57:21:918] - INFO - SAIL : Calling Partial_fit() on the pipeline.\n",
      "[2023-05-11 22:57:21:992] - INFO - SAIL : Cumulative Pipeline Score: 0.9414935064935065\n",
      "[2023-05-11 22:57:21:993] - INFO - SAIL : Calling Partial_fit() on the pipeline.\n"
     ]
    },
    {
     "name": "stdout",
     "output_type": "stream",
     "text": [
      "[Pipeline] ........ (step 3 of 3) Processing classifier, total=   0.1s\n",
      "[Pipeline] ........ (step 3 of 3) Processing classifier, total=   0.1s\n",
      "[Pipeline] ........ (step 3 of 3) Processing classifier, total=   0.0s\n"
     ]
    },
    {
     "name": "stderr",
     "output_type": "stream",
     "text": [
      "[2023-05-11 22:57:22:78] - INFO - SAIL : Cumulative Pipeline Score: 0.9414886731391586\n",
      "[2023-05-11 22:57:22:79] - INFO - SAIL : Calling Partial_fit() on the pipeline.\n",
      "[2023-05-11 22:57:22:159] - INFO - SAIL : Cumulative Pipeline Score: 0.9414193548387096\n",
      "[2023-05-11 22:57:22:160] - INFO - SAIL : Calling Partial_fit() on the pipeline.\n",
      "[2023-05-11 22:57:22:236] - INFO - SAIL : Cumulative Pipeline Score: 0.9412218649517685\n",
      "[2023-05-11 22:57:22:237] - INFO - SAIL : Calling Partial_fit() on the pipeline.\n"
     ]
    },
    {
     "name": "stdout",
     "output_type": "stream",
     "text": [
      "[Pipeline] ........ (step 3 of 3) Processing classifier, total=   0.1s\n",
      "[Pipeline] ........ (step 3 of 3) Processing classifier, total=   0.1s\n",
      "[Pipeline] ........ (step 3 of 3) Processing classifier, total=   0.1s\n"
     ]
    },
    {
     "name": "stderr",
     "output_type": "stream",
     "text": [
      "[2023-05-11 22:57:22:318] - INFO - SAIL : Cumulative Pipeline Score: 0.9410897435897436\n",
      "[2023-05-11 22:57:22:319] - INFO - SAIL : Calling Partial_fit() on the pipeline.\n",
      "[2023-05-11 22:57:22:398] - INFO - SAIL : Cumulative Pipeline Score: 0.9412140575079873\n",
      "[2023-05-11 22:57:22:399] - INFO - SAIL : Calling Partial_fit() on the pipeline.\n",
      "[2023-05-11 22:57:22:470] - INFO - SAIL : Cumulative Pipeline Score: 0.9413375796178344\n",
      "[2023-05-11 22:57:22:471] - INFO - SAIL : Calling Partial_fit() on the pipeline.\n"
     ]
    },
    {
     "name": "stdout",
     "output_type": "stream",
     "text": [
      "[Pipeline] ........ (step 3 of 3) Processing classifier, total=   0.1s\n",
      "[Pipeline] ........ (step 3 of 3) Processing classifier, total=   0.1s\n",
      "[Pipeline] ........ (step 3 of 3) Processing classifier, total=   0.0s\n"
     ]
    },
    {
     "name": "stderr",
     "output_type": "stream",
     "text": [
      "[2023-05-11 22:57:22:560] - INFO - SAIL : Cumulative Pipeline Score: 0.9413333333333334\n",
      "[2023-05-11 22:57:22:561] - INFO - SAIL : Calling Partial_fit() on the pipeline.\n",
      "[2023-05-11 22:57:22:638] - INFO - SAIL : Cumulative Pipeline Score: 0.9411392405063291\n",
      "[2023-05-11 22:57:22:639] - INFO - SAIL : Calling Partial_fit() on the pipeline.\n",
      "[2023-05-11 22:57:22:718] - INFO - SAIL : Cumulative Pipeline Score: 0.9410725552050473\n",
      "[2023-05-11 22:57:22:719] - INFO - SAIL : Calling Partial_fit() on the pipeline.\n"
     ]
    },
    {
     "name": "stdout",
     "output_type": "stream",
     "text": [
      "[Pipeline] ........ (step 3 of 3) Processing classifier, total=   0.1s\n",
      "[Pipeline] ........ (step 3 of 3) Processing classifier, total=   0.1s\n",
      "[Pipeline] ........ (step 3 of 3) Processing classifier, total=   0.1s\n"
     ]
    },
    {
     "name": "stderr",
     "output_type": "stream",
     "text": [
      "[2023-05-11 22:57:22:799] - INFO - SAIL : Cumulative Pipeline Score: 0.9410691823899371\n",
      "[2023-05-11 22:57:22:800] - INFO - SAIL : Calling Partial_fit() on the pipeline.\n",
      "[2023-05-11 22:57:22:879] - INFO - SAIL : Cumulative Pipeline Score: 0.9410658307210031\n",
      "[2023-05-11 22:57:22:880] - INFO - SAIL : Calling Partial_fit() on the pipeline.\n",
      "[2023-05-11 22:57:22:959] - INFO - SAIL : Cumulative Pipeline Score: 0.9410625\n",
      "[2023-05-11 22:57:22:960] - INFO - SAIL : Calling Partial_fit() on the pipeline.\n"
     ]
    },
    {
     "name": "stdout",
     "output_type": "stream",
     "text": [
      "[Pipeline] ........ (step 3 of 3) Processing classifier, total=   0.0s\n",
      "[Pipeline] ........ (step 3 of 3) Processing classifier, total=   0.1s\n",
      "[Pipeline] ........ (step 3 of 3) Processing classifier, total=   0.1s\n"
     ]
    },
    {
     "name": "stderr",
     "output_type": "stream",
     "text": [
      "[2023-05-11 22:57:23:46] - INFO - SAIL : Cumulative Pipeline Score: 0.9410591900311527\n",
      "[2023-05-11 22:57:23:47] - INFO - SAIL : Calling Partial_fit() on the pipeline.\n",
      "[2023-05-11 22:57:23:135] - INFO - SAIL : Cumulative Pipeline Score: 0.9411180124223603\n",
      "[2023-05-11 22:57:23:136] - INFO - SAIL : Calling Partial_fit() on the pipeline.\n",
      "[2023-05-11 22:57:23:209] - INFO - SAIL : Cumulative Pipeline Score: 0.9409907120743034\n",
      "[2023-05-11 22:57:23:210] - INFO - SAIL : Calling Partial_fit() on the pipeline.\n"
     ]
    },
    {
     "name": "stdout",
     "output_type": "stream",
     "text": [
      "[Pipeline] ........ (step 3 of 3) Processing classifier, total=   0.1s\n",
      "[Pipeline] ........ (step 3 of 3) Processing classifier, total=   0.1s\n",
      "[Pipeline] ........ (step 3 of 3) Processing classifier, total=   0.0s\n"
     ]
    },
    {
     "name": "stderr",
     "output_type": "stream",
     "text": [
      "[2023-05-11 22:57:23:303] - INFO - SAIL : Cumulative Pipeline Score: 0.9410493827160494\n",
      "[2023-05-11 22:57:23:304] - INFO - SAIL : Calling Partial_fit() on the pipeline.\n",
      "[2023-05-11 22:57:23:441] - INFO - SAIL : Cumulative Pipeline Score: 0.9409846153846154\n",
      "[2023-05-11 22:57:23:442] - INFO - SAIL : Calling Partial_fit() on the pipeline.\n"
     ]
    },
    {
     "name": "stdout",
     "output_type": "stream",
     "text": [
      "[Pipeline] ........ (step 3 of 3) Processing classifier, total=   0.1s\n",
      "[Pipeline] ........ (step 3 of 3) Processing classifier, total=   0.1s\n"
     ]
    },
    {
     "name": "stderr",
     "output_type": "stream",
     "text": [
      "[2023-05-11 22:57:23:533] - INFO - SAIL : Cumulative Pipeline Score: 0.9409815950920245\n",
      "[2023-05-11 22:57:23:534] - INFO - SAIL : Calling Partial_fit() on the pipeline.\n",
      "[2023-05-11 22:57:23:619] - INFO - SAIL : Cumulative Pipeline Score: 0.9410397553516819\n",
      "[2023-05-11 22:57:23:619] - INFO - SAIL : Calling Partial_fit() on the pipeline.\n",
      "[2023-05-11 22:57:23:704] - INFO - SAIL : Cumulative Pipeline Score: 0.9410975609756097\n",
      "[2023-05-11 22:57:23:704] - INFO - SAIL : Calling Partial_fit() on the pipeline.\n"
     ]
    },
    {
     "name": "stdout",
     "output_type": "stream",
     "text": [
      "[Pipeline] ........ (step 3 of 3) Processing classifier, total=   0.1s\n",
      "[Pipeline] ........ (step 3 of 3) Processing classifier, total=   0.1s\n",
      "[Pipeline] ........ (step 3 of 3) Processing classifier, total=   0.1s\n"
     ]
    },
    {
     "name": "stderr",
     "output_type": "stream",
     "text": [
      "[2023-05-11 22:57:23:794] - INFO - SAIL : Cumulative Pipeline Score: 0.9409726443768996\n",
      "[2023-05-11 22:57:23:795] - INFO - SAIL : Calling Partial_fit() on the pipeline.\n",
      "[2023-05-11 22:57:23:873] - INFO - SAIL : Cumulative Pipeline Score: 0.941030303030303\n",
      "[2023-05-11 22:57:23:873] - INFO - SAIL : Calling Partial_fit() on the pipeline.\n",
      "[2023-05-11 22:57:23:948] - INFO - SAIL : Cumulative Pipeline Score: 0.9409063444108762\n",
      "[2023-05-11 22:57:23:949] - INFO - SAIL : Calling Partial_fit() on the pipeline.\n"
     ]
    },
    {
     "name": "stdout",
     "output_type": "stream",
     "text": [
      "[Pipeline] ........ (step 3 of 3) Processing classifier, total=   0.1s\n",
      "[Pipeline] ........ (step 3 of 3) Processing classifier, total=   0.1s\n",
      "[Pipeline] ........ (step 3 of 3) Processing classifier, total=   0.1s\n"
     ]
    },
    {
     "name": "stderr",
     "output_type": "stream",
     "text": [
      "[2023-05-11 22:57:24:29] - INFO - SAIL : Cumulative Pipeline Score: 0.940843373493976\n",
      "[2023-05-11 22:57:24:30] - INFO - SAIL : Calling Partial_fit() on the pipeline.\n",
      "[2023-05-11 22:57:24:112] - INFO - SAIL : Cumulative Pipeline Score: 0.9408408408408409\n",
      "[2023-05-11 22:57:24:113] - INFO - SAIL : Calling Partial_fit() on the pipeline.\n",
      "[2023-05-11 22:57:24:195] - INFO - SAIL : Cumulative Pipeline Score: 0.9409580838323354\n",
      "[2023-05-11 22:57:24:196] - INFO - SAIL : Calling Partial_fit() on the pipeline.\n"
     ]
    },
    {
     "name": "stdout",
     "output_type": "stream",
     "text": [
      "[Pipeline] ........ (step 3 of 3) Processing classifier, total=   0.1s\n",
      "[Pipeline] ........ (step 3 of 3) Processing classifier, total=   0.1s\n",
      "[Pipeline] ........ (step 3 of 3) Processing classifier, total=   0.1s\n"
     ]
    },
    {
     "name": "stderr",
     "output_type": "stream",
     "text": [
      "[2023-05-11 22:57:24:273] - INFO - SAIL : Cumulative Pipeline Score: 0.9410149253731344\n",
      "[2023-05-11 22:57:24:274] - INFO - SAIL : Calling Partial_fit() on the pipeline.\n",
      "[2023-05-11 22:57:24:376] - INFO - SAIL : Cumulative Pipeline Score: 0.9410119047619048\n",
      "[2023-05-11 22:57:24:377] - INFO - SAIL : Calling Partial_fit() on the pipeline.\n"
     ]
    },
    {
     "name": "stdout",
     "output_type": "stream",
     "text": [
      "[Pipeline] ........ (step 3 of 3) Processing classifier, total=   0.0s\n",
      "[Pipeline] ........ (step 3 of 3) Processing classifier, total=   0.1s\n",
      "[Pipeline] ........ (step 3 of 3) Processing classifier, total=   0.1s\n"
     ]
    },
    {
     "name": "stderr",
     "output_type": "stream",
     "text": [
      "[2023-05-11 22:57:24:475] - INFO - SAIL : Cumulative Pipeline Score: 0.9411869436201781\n",
      "[2023-05-11 22:57:24:475] - INFO - SAIL : Calling Partial_fit() on the pipeline.\n",
      "[2023-05-11 22:57:24:561] - INFO - SAIL : Cumulative Pipeline Score: 0.9411834319526627\n",
      "[2023-05-11 22:57:24:563] - INFO - SAIL : Calling Partial_fit() on the pipeline.\n",
      "[2023-05-11 22:57:24:657] - INFO - SAIL : Cumulative Pipeline Score: 0.9412389380530973\n",
      "[2023-05-11 22:57:24:658] - INFO - SAIL : Calling Partial_fit() on the pipeline.\n"
     ]
    },
    {
     "name": "stdout",
     "output_type": "stream",
     "text": [
      "[Pipeline] ........ (step 3 of 3) Processing classifier, total=   0.1s\n",
      "[Pipeline] ........ (step 3 of 3) Processing classifier, total=   0.1s\n",
      "[Pipeline] ........ (step 3 of 3) Processing classifier, total=   0.1s\n"
     ]
    },
    {
     "name": "stderr",
     "output_type": "stream",
     "text": [
      "[2023-05-11 22:57:24:745] - INFO - SAIL : Cumulative Pipeline Score: 0.9413529411764706\n",
      "[2023-05-11 22:57:24:746] - INFO - SAIL : Calling Partial_fit() on the pipeline.\n",
      "[2023-05-11 22:57:24:845] - INFO - SAIL : Cumulative Pipeline Score: 0.9412903225806452\n",
      "[2023-05-11 22:57:24:846] - INFO - SAIL : Calling Partial_fit() on the pipeline.\n",
      "[2023-05-11 22:57:24:932] - INFO - SAIL : Cumulative Pipeline Score: 0.9411695906432749\n",
      "[2023-05-11 22:57:24:933] - INFO - SAIL : Calling Partial_fit() on the pipeline.\n"
     ]
    },
    {
     "name": "stdout",
     "output_type": "stream",
     "text": [
      "[Pipeline] ........ (step 3 of 3) Processing classifier, total=   0.1s\n",
      "[Pipeline] ........ (step 3 of 3) Processing classifier, total=   0.1s\n",
      "[Pipeline] ........ (step 3 of 3) Processing classifier, total=   0.1s\n"
     ]
    },
    {
     "name": "stderr",
     "output_type": "stream",
     "text": [
      "[2023-05-11 22:57:25:22] - INFO - SAIL : Cumulative Pipeline Score: 0.9411661807580175\n",
      "[2023-05-11 22:57:25:24] - INFO - SAIL : Calling Partial_fit() on the pipeline.\n",
      "[2023-05-11 22:57:25:116] - INFO - SAIL : Cumulative Pipeline Score: 0.9411627906976744\n",
      "[2023-05-11 22:57:25:117] - INFO - SAIL : Calling Partial_fit() on the pipeline.\n",
      "[2023-05-11 22:57:25:200] - INFO - SAIL : Cumulative Pipeline Score: 0.9412753623188406\n",
      "[2023-05-11 22:57:25:202] - INFO - SAIL : Calling Partial_fit() on the pipeline.\n",
      "[2023-05-11 22:57:25:277] - INFO - SAIL : Cumulative Pipeline Score: 0.9412716763005781\n",
      "[2023-05-11 22:57:25:278] - INFO - SAIL : Calling Partial_fit() on the pipeline.\n"
     ]
    },
    {
     "name": "stdout",
     "output_type": "stream",
     "text": [
      "[Pipeline] ........ (step 3 of 3) Processing classifier, total=   0.1s\n",
      "[Pipeline] ........ (step 3 of 3) Processing classifier, total=   0.1s\n",
      "[Pipeline] ........ (step 3 of 3) Processing classifier, total=   0.0s\n"
     ]
    },
    {
     "name": "stderr",
     "output_type": "stream",
     "text": [
      "[2023-05-11 22:57:25:389] - INFO - SAIL : Cumulative Pipeline Score: 0.9412103746397694\n",
      "[2023-05-11 22:57:25:389] - INFO - SAIL : Calling Partial_fit() on the pipeline.\n",
      "[2023-05-11 22:57:25:498] - INFO - SAIL : Cumulative Pipeline Score: 0.9411494252873563\n",
      "[2023-05-11 22:57:25:499] - INFO - SAIL : Calling Partial_fit() on the pipeline.\n"
     ]
    },
    {
     "name": "stdout",
     "output_type": "stream",
     "text": [
      "[Pipeline] ........ (step 3 of 3) Processing classifier, total=   0.1s\n",
      "[Pipeline] ........ (step 3 of 3) Processing classifier, total=   0.1s\n"
     ]
    },
    {
     "name": "stderr",
     "output_type": "stream",
     "text": [
      "[2023-05-11 22:57:25:589] - INFO - SAIL : Cumulative Pipeline Score: 0.9409742120343839\n",
      "[2023-05-11 22:57:25:590] - INFO - SAIL : Calling Partial_fit() on the pipeline.\n",
      "[2023-05-11 22:57:25:688] - INFO - SAIL : Cumulative Pipeline Score: 0.9410857142857143\n",
      "[2023-05-11 22:57:25:688] - INFO - SAIL : Calling Partial_fit() on the pipeline.\n"
     ]
    },
    {
     "name": "stdout",
     "output_type": "stream",
     "text": [
      "[Pipeline] ........ (step 3 of 3) Processing classifier, total=   0.1s\n",
      "[Pipeline] ........ (step 3 of 3) Processing classifier, total=   0.1s\n",
      "[Pipeline] ........ (step 3 of 3) Processing classifier, total=   0.1s\n"
     ]
    },
    {
     "name": "stderr",
     "output_type": "stream",
     "text": [
      "[2023-05-11 22:57:25:792] - INFO - SAIL : Cumulative Pipeline Score: 0.9409686609686609\n",
      "[2023-05-11 22:57:25:793] - INFO - SAIL : Calling Partial_fit() on the pipeline.\n",
      "[2023-05-11 22:57:25:901] - INFO - SAIL : Cumulative Pipeline Score: 0.9410227272727273\n",
      "[2023-05-11 22:57:25:902] - INFO - SAIL : Calling Partial_fit() on the pipeline.\n",
      "[2023-05-11 22:57:25:983] - INFO - SAIL : Cumulative Pipeline Score: 0.9410764872521247\n",
      "[2023-05-11 22:57:25:984] - INFO - SAIL : Calling Partial_fit() on the pipeline.\n",
      "[2023-05-11 22:57:26:66] - INFO - SAIL : Cumulative Pipeline Score: 0.9411299435028249\n",
      "[2023-05-11 22:57:26:67] - INFO - SAIL : Calling Partial_fit() on the pipeline.\n"
     ]
    },
    {
     "name": "stdout",
     "output_type": "stream",
     "text": [
      "[Pipeline] ........ (step 3 of 3) Processing classifier, total=   0.1s\n",
      "[Pipeline] ........ (step 3 of 3) Processing classifier, total=   0.1s\n",
      "[Pipeline] ........ (step 3 of 3) Processing classifier, total=   0.1s\n"
     ]
    },
    {
     "name": "stderr",
     "output_type": "stream",
     "text": [
      "[2023-05-11 22:57:26:159] - INFO - SAIL : Cumulative Pipeline Score: 0.9411267605633803\n",
      "[2023-05-11 22:57:26:160] - INFO - SAIL : Calling Partial_fit() on the pipeline.\n",
      "[2023-05-11 22:57:26:255] - INFO - SAIL : Cumulative Pipeline Score: 0.9407865168539326\n",
      "[2023-05-11 22:57:26:256] - INFO - SAIL : Calling Partial_fit() on the pipeline.\n",
      "[2023-05-11 22:57:26:348] - INFO - SAIL : Cumulative Pipeline Score: 0.9407843137254902\n"
     ]
    },
    {
     "name": "stdout",
     "output_type": "stream",
     "text": [
      "[Pipeline] ........ (step 3 of 3) Processing classifier, total=   0.1s\n",
      "[Pipeline] ........ (step 3 of 3) Processing classifier, total=   0.1s\n",
      "[Pipeline] ........ (step 3 of 3) Processing classifier, total=   0.1s\n"
     ]
    },
    {
     "name": "stderr",
     "output_type": "stream",
     "text": [
      "[2023-05-11 22:57:26:349] - INFO - SAIL : Calling Partial_fit() on the pipeline.\n",
      "[2023-05-11 22:57:26:439] - INFO - SAIL : Cumulative Pipeline Score: 0.9408379888268157\n",
      "[2023-05-11 22:57:26:440] - INFO - SAIL : Calling Partial_fit() on the pipeline.\n",
      "[2023-05-11 22:57:26:521] - INFO - SAIL : Cumulative Pipeline Score: 0.9408356545961003\n",
      "[2023-05-11 22:57:26:522] - INFO - SAIL : Calling Partial_fit() on the pipeline.\n",
      "[2023-05-11 22:57:26:611] - INFO - SAIL : Cumulative Pipeline Score: 0.9407777777777778\n",
      "[2023-05-11 22:57:26:612] - INFO - SAIL : Calling Partial_fit() on the pipeline.\n"
     ]
    },
    {
     "name": "stdout",
     "output_type": "stream",
     "text": [
      "[Pipeline] ........ (step 3 of 3) Processing classifier, total=   0.1s\n",
      "[Pipeline] ........ (step 3 of 3) Processing classifier, total=   0.1s\n",
      "[Pipeline] ........ (step 3 of 3) Processing classifier, total=   0.1s\n"
     ]
    },
    {
     "name": "stderr",
     "output_type": "stream",
     "text": [
      "[2023-05-11 22:57:26:700] - INFO - SAIL : Cumulative Pipeline Score: 0.940775623268698\n",
      "[2023-05-11 22:57:26:700] - INFO - SAIL : Calling Partial_fit() on the pipeline.\n",
      "[2023-05-11 22:57:26:786] - INFO - SAIL : Cumulative Pipeline Score: 0.9407182320441989\n",
      "[2023-05-11 22:57:26:786] - INFO - SAIL : Calling Partial_fit() on the pipeline.\n",
      "[2023-05-11 22:57:26:864] - INFO - SAIL : Cumulative Pipeline Score: 0.940771349862259\n",
      "[2023-05-11 22:57:26:865] - INFO - SAIL : Calling Partial_fit() on the pipeline.\n"
     ]
    },
    {
     "name": "stdout",
     "output_type": "stream",
     "text": [
      "[Pipeline] ........ (step 3 of 3) Processing classifier, total=   0.1s\n",
      "[Pipeline] ........ (step 3 of 3) Processing classifier, total=   0.1s\n",
      "[Pipeline] ........ (step 3 of 3) Processing classifier, total=   0.1s\n"
     ]
    },
    {
     "name": "stderr",
     "output_type": "stream",
     "text": [
      "[2023-05-11 22:57:26:949] - INFO - SAIL : Cumulative Pipeline Score: 0.9407692307692308\n",
      "[2023-05-11 22:57:26:950] - INFO - SAIL : Calling Partial_fit() on the pipeline.\n",
      "[2023-05-11 22:57:27:30] - INFO - SAIL : Cumulative Pipeline Score: 0.9407123287671233\n",
      "[2023-05-11 22:57:27:31] - INFO - SAIL : Calling Partial_fit() on the pipeline.\n",
      "[2023-05-11 22:57:27:110] - INFO - SAIL : Cumulative Pipeline Score: 0.9408196721311476\n",
      "[2023-05-11 22:57:27:111] - INFO - SAIL : Calling Partial_fit() on the pipeline.\n"
     ]
    },
    {
     "name": "stdout",
     "output_type": "stream",
     "text": [
      "[Pipeline] ........ (step 3 of 3) Processing classifier, total=   0.1s\n",
      "[Pipeline] ........ (step 3 of 3) Processing classifier, total=   0.1s\n",
      "[Pipeline] ........ (step 3 of 3) Processing classifier, total=   0.1s\n"
     ]
    },
    {
     "name": "stderr",
     "output_type": "stream",
     "text": [
      "[2023-05-11 22:57:27:198] - INFO - SAIL : Cumulative Pipeline Score: 0.9408719346049046\n",
      "[2023-05-11 22:57:27:199] - INFO - SAIL : Calling Partial_fit() on the pipeline.\n",
      "[2023-05-11 22:57:27:320] - INFO - SAIL : Cumulative Pipeline Score: 0.9408695652173913\n",
      "[2023-05-11 22:57:27:321] - INFO - SAIL : Calling Partial_fit() on the pipeline.\n"
     ]
    },
    {
     "name": "stdout",
     "output_type": "stream",
     "text": [
      "[Pipeline] ........ (step 3 of 3) Processing classifier, total=   0.1s\n",
      "[Pipeline] ........ (step 3 of 3) Processing classifier, total=   0.1s\n",
      "[Pipeline] ........ (step 3 of 3) Processing classifier, total=   0.1s\n"
     ]
    },
    {
     "name": "stderr",
     "output_type": "stream",
     "text": [
      "[2023-05-11 22:57:27:402] - INFO - SAIL : Cumulative Pipeline Score: 0.9404878048780487\n",
      "[2023-05-11 22:57:27:404] - INFO - SAIL : Calling Partial_fit() on the pipeline.\n",
      "[2023-05-11 22:57:27:486] - INFO - SAIL : Cumulative Pipeline Score: 0.9405945945945946\n",
      "[2023-05-11 22:57:27:487] - INFO - SAIL : Calling Partial_fit() on the pipeline.\n",
      "[2023-05-11 22:57:27:573] - INFO - SAIL : Cumulative Pipeline Score: 0.9405929919137467\n",
      "[2023-05-11 22:57:27:574] - INFO - SAIL : Calling Partial_fit() on the pipeline.\n",
      "[2023-05-11 22:57:27:657] - INFO - SAIL : Cumulative Pipeline Score: 0.9406989247311828\n",
      "[2023-05-11 22:57:27:658] - INFO - SAIL : Calling Partial_fit() on the pipeline.\n"
     ]
    },
    {
     "name": "stdout",
     "output_type": "stream",
     "text": [
      "[Pipeline] ........ (step 3 of 3) Processing classifier, total=   0.1s\n",
      "[Pipeline] ........ (step 3 of 3) Processing classifier, total=   0.1s\n",
      "[Pipeline] ........ (step 3 of 3) Processing classifier, total=   0.1s\n"
     ]
    },
    {
     "name": "stderr",
     "output_type": "stream",
     "text": [
      "[2023-05-11 22:57:27:751] - INFO - SAIL : Cumulative Pipeline Score: 0.9408042895442359\n",
      "[2023-05-11 22:57:27:752] - INFO - SAIL : Calling Partial_fit() on the pipeline.\n",
      "[2023-05-11 22:57:27:836] - INFO - SAIL : Cumulative Pipeline Score: 0.940855614973262\n",
      "[2023-05-11 22:57:27:837] - INFO - SAIL : Calling Partial_fit() on the pipeline.\n",
      "[2023-05-11 22:57:27:912] - INFO - SAIL : Cumulative Pipeline Score: 0.9408\n",
      "[2023-05-11 22:57:27:913] - INFO - SAIL : Calling Partial_fit() on the pipeline.\n"
     ]
    },
    {
     "name": "stdout",
     "output_type": "stream",
     "text": [
      "[Pipeline] ........ (step 3 of 3) Processing classifier, total=   0.1s\n",
      "[Pipeline] ........ (step 3 of 3) Processing classifier, total=   0.1s\n",
      "[Pipeline] ........ (step 3 of 3) Processing classifier, total=   0.0s\n"
     ]
    },
    {
     "name": "stderr",
     "output_type": "stream",
     "text": [
      "[2023-05-11 22:57:28:6] - INFO - SAIL : Cumulative Pipeline Score: 0.9407978723404256\n",
      "[2023-05-11 22:57:28:7] - INFO - SAIL : Calling Partial_fit() on the pipeline.\n",
      "[2023-05-11 22:57:28:94] - INFO - SAIL : Cumulative Pipeline Score: 0.9409018567639257\n",
      "[2023-05-11 22:57:28:95] - INFO - SAIL : Calling Partial_fit() on the pipeline.\n",
      "[2023-05-11 22:57:28:169] - INFO - SAIL : Cumulative Pipeline Score: 0.9408994708994709\n",
      "[2023-05-11 22:57:28:170] - INFO - SAIL : Calling Partial_fit() on the pipeline.\n"
     ]
    },
    {
     "name": "stdout",
     "output_type": "stream",
     "text": [
      "[Pipeline] ........ (step 3 of 3) Processing classifier, total=   0.1s\n",
      "[Pipeline] ........ (step 3 of 3) Processing classifier, total=   0.1s\n",
      "[Pipeline] ........ (step 3 of 3) Processing classifier, total=   0.0s\n"
     ]
    },
    {
     "name": "stderr",
     "output_type": "stream",
     "text": [
      "[2023-05-11 22:57:28:250] - INFO - SAIL : Cumulative Pipeline Score: 0.9408970976253298\n",
      "[2023-05-11 22:57:28:250] - INFO - SAIL : Calling Partial_fit() on the pipeline.\n",
      "[2023-05-11 22:57:28:331] - INFO - SAIL : Cumulative Pipeline Score: 0.9407368421052632\n",
      "[2023-05-11 22:57:28:332] - INFO - SAIL : Calling Partial_fit() on the pipeline.\n",
      "[2023-05-11 22:57:28:402] - INFO - SAIL : Cumulative Pipeline Score: 0.9405774278215223\n",
      "[2023-05-11 22:57:28:403] - INFO - SAIL : Calling Partial_fit() on the pipeline.\n"
     ]
    },
    {
     "name": "stdout",
     "output_type": "stream",
     "text": [
      "[Pipeline] ........ (step 3 of 3) Processing classifier, total=   0.1s\n",
      "[Pipeline] ........ (step 3 of 3) Processing classifier, total=   0.1s\n",
      "[Pipeline] ........ (step 3 of 3) Processing classifier, total=   0.0s\n"
     ]
    },
    {
     "name": "stderr",
     "output_type": "stream",
     "text": [
      "[2023-05-11 22:57:28:483] - INFO - SAIL : Cumulative Pipeline Score: 0.9405235602094241\n",
      "[2023-05-11 22:57:28:484] - INFO - SAIL : Calling Partial_fit() on the pipeline.\n",
      "[2023-05-11 22:57:28:564] - INFO - SAIL : Cumulative Pipeline Score: 0.9405744125326371\n",
      "[2023-05-11 22:57:28:565] - INFO - SAIL : Calling Partial_fit() on the pipeline.\n",
      "[2023-05-11 22:57:28:637] - INFO - SAIL : Cumulative Pipeline Score: 0.9405729166666666\n",
      "[2023-05-11 22:57:28:638] - INFO - SAIL : Calling Partial_fit() on the pipeline.\n"
     ]
    },
    {
     "name": "stdout",
     "output_type": "stream",
     "text": [
      "[Pipeline] ........ (step 3 of 3) Processing classifier, total=   0.1s\n",
      "[Pipeline] ........ (step 3 of 3) Processing classifier, total=   0.1s\n",
      "[Pipeline] ........ (step 3 of 3) Processing classifier, total=   0.0s\n"
     ]
    },
    {
     "name": "stderr",
     "output_type": "stream",
     "text": [
      "[2023-05-11 22:57:28:718] - INFO - SAIL : Cumulative Pipeline Score: 0.9406753246753247\n",
      "[2023-05-11 22:57:28:719] - INFO - SAIL : Calling Partial_fit() on the pipeline.\n",
      "[2023-05-11 22:57:28:804] - INFO - SAIL : Cumulative Pipeline Score: 0.9407772020725389\n",
      "[2023-05-11 22:57:28:805] - INFO - SAIL : Calling Partial_fit() on the pipeline.\n",
      "[2023-05-11 22:57:28:890] - INFO - SAIL : Cumulative Pipeline Score: 0.9407751937984496\n",
      "[2023-05-11 22:57:28:891] - INFO - SAIL : Calling Partial_fit() on the pipeline.\n"
     ]
    },
    {
     "name": "stdout",
     "output_type": "stream",
     "text": [
      "[Pipeline] ........ (step 3 of 3) Processing classifier, total=   0.1s\n",
      "[Pipeline] ........ (step 3 of 3) Processing classifier, total=   0.1s\n",
      "[Pipeline] ........ (step 3 of 3) Processing classifier, total=   0.1s\n"
     ]
    },
    {
     "name": "stderr",
     "output_type": "stream",
     "text": [
      "[2023-05-11 22:57:28:982] - INFO - SAIL : Cumulative Pipeline Score: 0.9407216494845361\n",
      "[2023-05-11 22:57:28:983] - INFO - SAIL : Calling Partial_fit() on the pipeline.\n",
      "[2023-05-11 22:57:29:65] - INFO - SAIL : Cumulative Pipeline Score: 0.9407197943444731\n",
      "[2023-05-11 22:57:29:66] - INFO - SAIL : Calling Partial_fit() on the pipeline.\n"
     ]
    },
    {
     "name": "stdout",
     "output_type": "stream",
     "text": [
      "[Pipeline] ........ (step 3 of 3) Processing classifier, total=   0.1s\n",
      "[Pipeline] ........ (step 3 of 3) Processing classifier, total=   0.1s\n",
      "[Pipeline] ........ (step 3 of 3) Processing classifier, total=   0.1s\n"
     ]
    },
    {
     "name": "stderr",
     "output_type": "stream",
     "text": [
      "[2023-05-11 22:57:29:159] - INFO - SAIL : Cumulative Pipeline Score: 0.9407179487179487\n",
      "[2023-05-11 22:57:29:160] - INFO - SAIL : Calling Partial_fit() on the pipeline.\n"
     ]
    },
    {
     "name": "stdout",
     "output_type": "stream",
     "text": [
      "[Pipeline] ........ (step 3 of 3) Processing classifier, total=   0.1s\n"
     ]
    }
   ],
   "source": [
    "y_preds = []\n",
    "y_true = []\n",
    "batch_size = 50\n",
    "\n",
    "start = 0\n",
    "for end in range(50, 20001, batch_size):\n",
    "\n",
    "    X_train = X.iloc[start:end]\n",
    "    y_train = y.iloc[start:end]\n",
    "\n",
    "    if end > 1000: # search_data_size is 1000\n",
    "        preds = pipeline_selection.predict(X_train)\n",
    "        y_preds.extend(list(preds))\n",
    "        y_true.extend(list(y_train))\n",
    "\n",
    "    pipeline_selection.partial_fit(X_train, y_train)\n",
    "    start = end"
   ]
  },
  {
   "cell_type": "code",
   "execution_count": 14,
   "metadata": {},
   "outputs": [
    {
     "name": "stdout",
     "output_type": "stream",
     "text": [
      "              precision    recall  f1-score   support\n",
      "\n",
      "           0       0.95      0.96      0.96     12863\n",
      "           1       0.92      0.90      0.91      6137\n",
      "\n",
      "    accuracy                           0.94     19000\n",
      "   macro avg       0.94      0.93      0.93     19000\n",
      "weighted avg       0.94      0.94      0.94     19000\n",
      "\n"
     ]
    }
   ],
   "source": [
    "from sklearn.metrics import confusion_matrix, classification_report\n",
    "\n",
    "print(classification_report(y_true, y_preds))"
   ]
  },
  {
   "cell_type": "code",
   "execution_count": 16,
   "metadata": {},
   "outputs": [
    {
     "data": {
      "text/plain": [
       "<Axes: >"
      ]
     },
     "execution_count": 16,
     "metadata": {},
     "output_type": "execute_result"
    },
    {
     "data": {
      "image/png": "[encoded data removed]",
      "text/plain": [
       "<Figure size 640x480 with 2 Axes>"
      ]
     },
     "metadata": {},
     "output_type": "display_data"
    }
   ],
   "source": [
    "import seaborn as sns\n",
    "\n",
    "cf_matrix = confusion_matrix(y_true, y_preds)\n",
    "sns.heatmap(cf_matrix/np.sum(cf_matrix), annot=True, fmt='.2%', cmap='Blues')"
   ]
  }
 ],
 "metadata": {
  "kernelspec": {
   "display_name": "venv-sail",
   "language": "python",
   "name": "python3"
  },
  "language_info": {
   "codemirror_mode": {
    "name": "ipython",
    "version": 3
   },
   "file_extension": ".py",
   "mimetype": "text/x-python",
   "name": "python",
   "nbconvert_exporter": "python",
   "pygments_lexer": "ipython3",
   "version": "3.10.9"
  },
  "orig_nbformat": 4
 },
 "nbformat": 4,
 "nbformat_minor": 2
}
