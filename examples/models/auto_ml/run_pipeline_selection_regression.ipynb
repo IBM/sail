{
 "cells": [
  {
   "cell_type": "code",
   "execution_count": 1,
   "metadata": {},
   "outputs": [],
   "source": [
    "import numpy as np\n",
    "import pandas as pd\n",
    "from river import optim\n",
    "from river.drift import ADWIN\n",
    "from ray.tune.sklearn import TuneGridSearchCV\n",
    "from sail.models.river.forest import AdaptiveRandomForestRegressor\n",
    "from sail.models.river.linear_model import LinearRegression\n",
    "from sail.models.auto_ml import PipeLineSelection\n",
    "from sail.pipeline import SAILPipeline\n",
    "from sklearn.impute import SimpleImputer\n",
    "from sail.transfomers.river.preprocessing import StandardScaler"
   ]
  },
  {
   "attachments": {},
   "cell_type": "markdown",
   "metadata": {},
   "source": [
    "#### Load Data"
   ]
  },
  {
   "cell_type": "code",
   "execution_count": 2,
   "metadata": {},
   "outputs": [],
   "source": [
    "df = pd.read_csv(\"../../datasets/HDWF2.csv\")\n",
    "X = df.copy()\n",
    "\n",
    "y = X[\"power\"]\n",
    "X.drop(\"power\", axis=1, inplace=True)\n",
    "X.drop(\"time\", axis=1, inplace=True)"
   ]
  },
  {
   "attachments": {},
   "cell_type": "markdown",
   "metadata": {},
   "source": [
    "#### Model Definition"
   ]
  },
  {
   "cell_type": "code",
   "execution_count": 3,
   "metadata": {},
   "outputs": [],
   "source": [
    "linear_reg = LinearRegression(optimizer=optim.SGD(0.1))\n",
    "random_forest = AdaptiveRandomForestRegressor(n_models=10)"
   ]
  },
  {
   "attachments": {},
   "cell_type": "markdown",
   "metadata": {},
   "source": [
    "#### Create SAIL Pipeline"
   ]
  },
  {
   "cell_type": "code",
   "execution_count": 4,
   "metadata": {},
   "outputs": [
    {
     "name": "stderr",
     "output_type": "stream",
     "text": [
      "[2023-05-12 12:50:22:685] - INFO - SAIL : created SAILPipeline object with ID 062969ca-fa62-4b7d-8ff9-ae9a58aa8016\n"
     ]
    }
   ],
   "source": [
    "steps = [\n",
    "    (\"Imputer\", SimpleImputer(missing_values=np.nan, strategy=\"mean\")),\n",
    "    (\"standard_scalar\", StandardScaler()),\n",
    "    (\"classifier\", \"passthrough\"),\n",
    "]\n",
    "sail_pipeline = SAILPipeline(steps=steps)"
   ]
  },
  {
   "attachments": {},
   "cell_type": "markdown",
   "metadata": {},
   "source": [
    "#### HPO Params"
   ]
  },
  {
   "cell_type": "code",
   "execution_count": 5,
   "metadata": {},
   "outputs": [],
   "source": [
    "param_grid = [\n",
    "    {\n",
    "        \"classifier\": [linear_reg],\n",
    "    },\n",
    "    {\n",
    "        \"classifier\": [random_forest],\n",
    "    },\n",
    "]"
   ]
  },
  {
   "attachments": {},
   "cell_type": "markdown",
   "metadata": {},
   "source": [
    "#### Create Model Instance"
   ]
  },
  {
   "cell_type": "code",
   "execution_count": 6,
   "metadata": {},
   "outputs": [],
   "source": [
    "pipeline_selection = PipeLineSelection(\n",
    "    pipeline=sail_pipeline,\n",
    "    pipeline_params_grid=param_grid,\n",
    "    scoring=\"R2\",\n",
    "    search_data_size=1000,\n",
    "    search_method=TuneGridSearchCV,\n",
    "    search_method_params={\n",
    "        \"max_iters\": 1,\n",
    "        \"early_stopping\": False,\n",
    "        \"scoring\": \"r2\",\n",
    "        \"pipeline_auto_early_stop\": False,\n",
    "    },\n",
    "    drift_detector=ADWIN(delta=0.001),\n",
    ")"
   ]
  },
  {
   "attachments": {},
   "cell_type": "markdown",
   "metadata": {},
   "source": [
    "#### Start Training"
   ]
  },
  {
   "cell_type": "code",
   "execution_count": 7,
   "metadata": {},
   "outputs": [
    {
     "data": {
      "text/html": [],
      "text/plain": [
       "<IPython.core.display.HTML object>"
      ]
     },
     "metadata": {},
     "output_type": "display_data"
    },
    {
     "name": "stderr",
     "output_type": "stream",
     "text": [
      "2023-05-12 12:50:30,081\tWARNING searcher.py:372 -- save not implemented for Searcher. Skipping save.\n",
      "\u001b[2m\u001b[36m(_Trainable pid=32193)\u001b[0m [2023-05-12 12:50:34:662] - INFO - SAIL : created SAILPipeline object with ID b2147b11-c371-49c6-891a-313f88b71a39\n",
      "\u001b[2m\u001b[36m(_Trainable pid=32193)\u001b[0m [2023-05-12 12:50:34:663] - INFO - SAIL : created SAILPipeline object with ID d17d390a-59d6-4ec7-ac25-7bd2d18f14a1\n",
      "\u001b[2m\u001b[36m(_Trainable pid=32193)\u001b[0m [2023-05-12 12:50:34:664] - INFO - SAIL : created SAILPipeline object with ID a603d407-882c-4f13-a2ff-6ceaf3ccaff2\n",
      "\u001b[2m\u001b[36m(_Trainable pid=32193)\u001b[0m [2023-05-12 12:50:34:664] - INFO - SAIL : created SAILPipeline object with ID d916ca67-439b-4567-8809-3d31f31d8a4e\n",
      "\u001b[2m\u001b[36m(_Trainable pid=32193)\u001b[0m [2023-05-12 12:50:34:665] - INFO - SAIL : created SAILPipeline object with ID f037fdf9-2c71-4e7d-930d-28d76bc7dcdc\n",
      "\u001b[2m\u001b[36m(_Trainable pid=32193)\u001b[0m [2023-05-12 12:50:34:675] - INFO - SAIL : created SAILPipeline object with ID d22ffcf3-b16f-4cd7-9e26-989d4f65da45\n",
      "\u001b[2m\u001b[36m(_Trainable pid=32193)\u001b[0m [2023-05-12 12:50:34:729] - INFO - SAIL : created SAILPipeline object with ID d266b160-2e55-4c29-a3db-39ec3b0466b2\n",
      "\u001b[2m\u001b[36m(_Trainable pid=32193)\u001b[0m [2023-05-12 12:50:34:778] - INFO - SAIL : created SAILPipeline object with ID 870db536-5503-4632-9206-b4947824b2f6\n",
      "\u001b[2m\u001b[36m(_Trainable pid=32194)\u001b[0m [2023-05-12 12:50:34:710] - INFO - SAIL : created SAILPipeline object with ID 732ca272-d7d8-43b2-a5e0-94368efeb915\n",
      "\u001b[2m\u001b[36m(_Trainable pid=32194)\u001b[0m [2023-05-12 12:50:34:711] - INFO - SAIL : created SAILPipeline object with ID 34978424-4a61-40a3-89b9-8cf576d83ebb\n",
      "\u001b[2m\u001b[36m(_Trainable pid=32194)\u001b[0m [2023-05-12 12:50:34:711] - INFO - SAIL : created SAILPipeline object with ID 8c4f41ee-d0ef-4d80-8589-28637d31c102\n",
      "\u001b[2m\u001b[36m(_Trainable pid=32194)\u001b[0m [2023-05-12 12:50:34:712] - INFO - SAIL : created SAILPipeline object with ID c82308f6-d55f-49d1-bf0d-7c79c01435b3\n",
      "\u001b[2m\u001b[36m(_Trainable pid=32194)\u001b[0m [2023-05-12 12:50:34:713] - INFO - SAIL : created SAILPipeline object with ID 21184e74-a56a-40be-b2bd-dd4f1303ec49\n",
      "\u001b[2m\u001b[36m(_Trainable pid=32194)\u001b[0m [2023-05-12 12:50:34:721] - INFO - SAIL : created SAILPipeline object with ID 1052d873-01b5-4372-962c-bfbf3757caed\n",
      "\u001b[2m\u001b[36m(_Trainable pid=32193)\u001b[0m [2023-05-12 12:50:34:829] - INFO - SAIL : created SAILPipeline object with ID 5290603e-5765-48df-bdbb-fa2a48b5348a\n",
      "\u001b[2m\u001b[36m(_Trainable pid=32193)\u001b[0m [2023-05-12 12:50:34:874] - INFO - SAIL : created SAILPipeline object with ID 5c8c722b-be1e-42cc-abaf-2e35eb5a80a5\n",
      "2023-05-12 12:50:34,944\tINFO tensorboardx.py:267 -- Removed the following hyperparameter values when logging to tensorboard: {'classifier': LinearRegression(initializer=Zeros (),\n",
      "                 intercept_lr=Constant({'learning_rate': 0.01}),\n",
      "                 loss=Squared({}),\n",
      "                 optimizer=SGD({'lr': Constant({'learning_rate': 0.1}), 'n_iterations': 0}))}\n"
     ]
    },
    {
     "name": "stdout",
     "output_type": "stream",
     "text": [
      "\u001b[2m\u001b[36m(_Trainable pid=32193)\u001b[0m [Pipeline] ........ (step 3 of 3) Processing classifier, total=   0.0s\n",
      "\u001b[2m\u001b[36m(_Trainable pid=32193)\u001b[0m [Pipeline] ........ (step 3 of 3) Processing classifier, total=   0.0s\n",
      "\u001b[2m\u001b[36m(_Trainable pid=32193)\u001b[0m [Pipeline] ........ (step 3 of 3) Processing classifier, total=   0.0s\n",
      "\u001b[2m\u001b[36m(_Trainable pid=32193)\u001b[0m [Pipeline] ........ (step 3 of 3) Processing classifier, total=   0.0s\n",
      "\u001b[2m\u001b[36m(_Trainable pid=32193)\u001b[0m [Pipeline] ........ (step 3 of 3) Processing classifier, total=   0.0s\n",
      "\u001b[2m\u001b[36m(_Trainable pid=32194)\u001b[0m [Pipeline] ........ (step 3 of 3) Processing classifier, total=   2.7s\n"
     ]
    },
    {
     "name": "stderr",
     "output_type": "stream",
     "text": [
      "\u001b[2m\u001b[36m(_Trainable pid=32194)\u001b[0m [2023-05-12 12:50:37:523] - INFO - SAIL : created SAILPipeline object with ID 63140f1f-0953-4b1b-9de3-2fcc93504939\n"
     ]
    },
    {
     "name": "stdout",
     "output_type": "stream",
     "text": [
      "\u001b[2m\u001b[36m(_Trainable pid=32194)\u001b[0m [Pipeline] ........ (step 3 of 3) Processing classifier, total=   2.8s\n"
     ]
    },
    {
     "name": "stderr",
     "output_type": "stream",
     "text": [
      "\u001b[2m\u001b[36m(_Trainable pid=32194)\u001b[0m [2023-05-12 12:50:40:374] - INFO - SAIL : created SAILPipeline object with ID e7efe7c6-ddb9-4f02-a81e-02ce53a7ac97\n"
     ]
    },
    {
     "name": "stdout",
     "output_type": "stream",
     "text": [
      "\u001b[2m\u001b[36m(_Trainable pid=32194)\u001b[0m [Pipeline] ........ (step 3 of 3) Processing classifier, total=   3.0s\n"
     ]
    },
    {
     "name": "stderr",
     "output_type": "stream",
     "text": [
      "\u001b[2m\u001b[36m(_Trainable pid=32194)\u001b[0m [2023-05-12 12:50:43:398] - INFO - SAIL : created SAILPipeline object with ID 07d4cfd9-ee2a-4a23-b511-fbcf5709d320\n"
     ]
    },
    {
     "name": "stdout",
     "output_type": "stream",
     "text": [
      "\u001b[2m\u001b[36m(_Trainable pid=32194)\u001b[0m [Pipeline] ........ (step 3 of 3) Processing classifier, total=   3.0s\n"
     ]
    },
    {
     "name": "stderr",
     "output_type": "stream",
     "text": [
      "\u001b[2m\u001b[36m(_Trainable pid=32194)\u001b[0m [2023-05-12 12:50:46:492] - INFO - SAIL : created SAILPipeline object with ID 24b6a9be-422d-4470-806e-2c03f8f2583e\n",
      "2023-05-12 12:50:49,429\tINFO tensorboardx.py:267 -- Removed the following hyperparameter values when logging to tensorboard: {'classifier': AdaptiveRandomForestRegressor()}\n",
      "[2023-05-12 12:50:49:476] - INFO - SAIL : created SAILPipeline object with ID 4ecc77ce-273c-4a2d-9eb7-c03ffc455738\n",
      "[2023-05-12 12:50:49:480] - INFO - SAIL : created SAILPipeline object with ID ffdc8390-5f4f-4a5c-9c59-6e4cefd5d927\n"
     ]
    },
    {
     "name": "stdout",
     "output_type": "stream",
     "text": [
      "\u001b[2m\u001b[36m(_Trainable pid=32194)\u001b[0m [Pipeline] ........ (step 3 of 3) Processing classifier, total=   2.9s\n"
     ]
    },
    {
     "name": "stderr",
     "output_type": "stream",
     "text": [
      "[2023-05-12 12:50:53:131] - INFO - SAIL : Cumulative Pipeline Score: 0.46977682840450574\n",
      "[2023-05-12 12:50:53:132] - INFO - SAIL : Calling Partial_fit() on the pipeline.\n"
     ]
    },
    {
     "name": "stdout",
     "output_type": "stream",
     "text": [
      "[Pipeline] ........ (step 3 of 3) Processing classifier, total=   3.6s\n",
      "[Pipeline] ........ (step 3 of 3) Processing classifier, total=   0.2s\n"
     ]
    },
    {
     "name": "stderr",
     "output_type": "stream",
     "text": [
      "[2023-05-12 12:50:53:349] - INFO - SAIL : Cumulative Pipeline Score: 0.7097404556306319\n",
      "[2023-05-12 12:50:53:350] - INFO - SAIL : Calling Partial_fit() on the pipeline.\n",
      "[2023-05-12 12:50:53:603] - INFO - SAIL : Cumulative Pipeline Score: 0.7308065125530596\n",
      "[2023-05-12 12:50:53:604] - INFO - SAIL : Calling Partial_fit() on the pipeline.\n"
     ]
    },
    {
     "name": "stdout",
     "output_type": "stream",
     "text": [
      "[Pipeline] ........ (step 3 of 3) Processing classifier, total=   0.2s\n"
     ]
    },
    {
     "name": "stderr",
     "output_type": "stream",
     "text": [
      "[2023-05-12 12:50:53:868] - INFO - SAIL : Cumulative Pipeline Score: 0.7340743733480422\n",
      "[2023-05-12 12:50:53:869] - INFO - SAIL : Calling Partial_fit() on the pipeline.\n"
     ]
    },
    {
     "name": "stdout",
     "output_type": "stream",
     "text": [
      "[Pipeline] ........ (step 3 of 3) Processing classifier, total=   0.2s\n"
     ]
    },
    {
     "name": "stderr",
     "output_type": "stream",
     "text": [
      "[2023-05-12 12:50:54:143] - INFO - SAIL : Cumulative Pipeline Score: 0.7628110453571783\n",
      "[2023-05-12 12:50:54:144] - INFO - SAIL : Calling Partial_fit() on the pipeline.\n"
     ]
    },
    {
     "name": "stdout",
     "output_type": "stream",
     "text": [
      "[Pipeline] ........ (step 3 of 3) Processing classifier, total=   0.2s\n",
      "[Pipeline] ........ (step 3 of 3) Processing classifier, total=   0.2s\n"
     ]
    },
    {
     "name": "stderr",
     "output_type": "stream",
     "text": [
      "[2023-05-12 12:50:54:369] - INFO - SAIL : Cumulative Pipeline Score: 0.676322360643115\n",
      "[2023-05-12 12:50:54:370] - INFO - SAIL : Calling Partial_fit() on the pipeline.\n",
      "[2023-05-12 12:50:54:663] - INFO - SAIL : Cumulative Pipeline Score: 0.697015029393155\n",
      "[2023-05-12 12:50:54:664] - INFO - SAIL : Calling Partial_fit() on the pipeline.\n"
     ]
    },
    {
     "name": "stdout",
     "output_type": "stream",
     "text": [
      "[Pipeline] ........ (step 3 of 3) Processing classifier, total=   0.3s\n",
      "[Pipeline] ........ (step 3 of 3) Processing classifier, total=   0.2s\n"
     ]
    },
    {
     "name": "stderr",
     "output_type": "stream",
     "text": [
      "[2023-05-12 12:50:54:898] - INFO - SAIL : Cumulative Pipeline Score: 0.6596153281318795\n",
      "[2023-05-12 12:50:54:899] - INFO - SAIL : Calling Partial_fit() on the pipeline.\n",
      "[2023-05-12 12:50:55:132] - INFO - SAIL : Cumulative Pipeline Score: 0.6956910892044056\n",
      "[2023-05-12 12:50:55:132] - INFO - SAIL : Calling Partial_fit() on the pipeline.\n"
     ]
    },
    {
     "name": "stdout",
     "output_type": "stream",
     "text": [
      "[Pipeline] ........ (step 3 of 3) Processing classifier, total=   0.2s\n"
     ]
    },
    {
     "name": "stderr",
     "output_type": "stream",
     "text": [
      "[2023-05-12 12:50:55:441] - INFO - SAIL : Cumulative Pipeline Score: 0.7006751641900679\n",
      "[2023-05-12 12:50:55:441] - INFO - SAIL : Calling Partial_fit() on the pipeline.\n"
     ]
    },
    {
     "name": "stdout",
     "output_type": "stream",
     "text": [
      "[Pipeline] ........ (step 3 of 3) Processing classifier, total=   0.3s\n"
     ]
    },
    {
     "name": "stderr",
     "output_type": "stream",
     "text": [
      "[2023-05-12 12:50:55:665] - INFO - SAIL : Cumulative Pipeline Score: 0.7133540917608862\n",
      "[2023-05-12 12:50:55:667] - INFO - SAIL : Calling Partial_fit() on the pipeline.\n"
     ]
    },
    {
     "name": "stdout",
     "output_type": "stream",
     "text": [
      "[Pipeline] ........ (step 3 of 3) Processing classifier, total=   0.2s\n"
     ]
    },
    {
     "name": "stderr",
     "output_type": "stream",
     "text": [
      "[2023-05-12 12:50:55:961] - INFO - SAIL : Cumulative Pipeline Score: 0.7168904200175729\n",
      "[2023-05-12 12:50:55:962] - INFO - SAIL : Calling Partial_fit() on the pipeline.\n"
     ]
    },
    {
     "name": "stdout",
     "output_type": "stream",
     "text": [
      "[Pipeline] ........ (step 3 of 3) Processing classifier, total=   0.3s\n"
     ]
    },
    {
     "name": "stderr",
     "output_type": "stream",
     "text": [
      "[2023-05-12 12:50:56:231] - INFO - SAIL : Cumulative Pipeline Score: 0.718148269689461\n",
      "[2023-05-12 12:50:56:233] - INFO - SAIL : Calling Partial_fit() on the pipeline.\n"
     ]
    },
    {
     "name": "stdout",
     "output_type": "stream",
     "text": [
      "[Pipeline] ........ (step 3 of 3) Processing classifier, total=   0.2s\n"
     ]
    },
    {
     "name": "stderr",
     "output_type": "stream",
     "text": [
      "[2023-05-12 12:50:56:661] - INFO - SAIL : Cumulative Pipeline Score: 0.7134007410279526\n",
      "[2023-05-12 12:50:56:662] - INFO - SAIL : Calling Partial_fit() on the pipeline.\n"
     ]
    },
    {
     "name": "stdout",
     "output_type": "stream",
     "text": [
      "[Pipeline] ........ (step 3 of 3) Processing classifier, total=   0.4s\n"
     ]
    },
    {
     "name": "stderr",
     "output_type": "stream",
     "text": [
      "[2023-05-12 12:50:56:963] - INFO - SAIL : Cumulative Pipeline Score: 0.7246433321341137\n",
      "[2023-05-12 12:50:56:965] - INFO - SAIL : Calling Partial_fit() on the pipeline.\n"
     ]
    },
    {
     "name": "stdout",
     "output_type": "stream",
     "text": [
      "[Pipeline] ........ (step 3 of 3) Processing classifier, total=   0.3s\n"
     ]
    },
    {
     "name": "stderr",
     "output_type": "stream",
     "text": [
      "[2023-05-12 12:50:57:241] - INFO - SAIL : Cumulative Pipeline Score: 0.7310435062025216\n",
      "[2023-05-12 12:50:57:242] - INFO - SAIL : Calling Partial_fit() on the pipeline.\n"
     ]
    },
    {
     "name": "stdout",
     "output_type": "stream",
     "text": [
      "[Pipeline] ........ (step 3 of 3) Processing classifier, total=   0.2s\n"
     ]
    },
    {
     "name": "stderr",
     "output_type": "stream",
     "text": [
      "[2023-05-12 12:50:57:560] - INFO - SAIL : Cumulative Pipeline Score: 0.7409830997318496\n",
      "[2023-05-12 12:50:57:562] - INFO - SAIL : Calling Partial_fit() on the pipeline.\n"
     ]
    },
    {
     "name": "stdout",
     "output_type": "stream",
     "text": [
      "[Pipeline] ........ (step 3 of 3) Processing classifier, total=   0.3s\n"
     ]
    },
    {
     "name": "stderr",
     "output_type": "stream",
     "text": [
      "[2023-05-12 12:50:57:856] - INFO - SAIL : Cumulative Pipeline Score: 0.7503162540371066\n",
      "[2023-05-12 12:50:57:857] - INFO - SAIL : Calling Partial_fit() on the pipeline.\n"
     ]
    },
    {
     "name": "stdout",
     "output_type": "stream",
     "text": [
      "[Pipeline] ........ (step 3 of 3) Processing classifier, total=   0.3s\n"
     ]
    },
    {
     "name": "stderr",
     "output_type": "stream",
     "text": [
      "[2023-05-12 12:50:58:92] - INFO - SAIL : Cumulative Pipeline Score: 0.7402913142621688\n",
      "[2023-05-12 12:50:58:93] - INFO - SAIL : Calling Partial_fit() on the pipeline.\n"
     ]
    },
    {
     "name": "stdout",
     "output_type": "stream",
     "text": [
      "[Pipeline] ........ (step 3 of 3) Processing classifier, total=   0.2s\n"
     ]
    },
    {
     "name": "stderr",
     "output_type": "stream",
     "text": [
      "[2023-05-12 12:50:58:380] - INFO - SAIL : Cumulative Pipeline Score: 0.7516325339451587\n",
      "[2023-05-12 12:50:58:381] - INFO - SAIL : Calling Partial_fit() on the pipeline.\n"
     ]
    },
    {
     "name": "stdout",
     "output_type": "stream",
     "text": [
      "[Pipeline] ........ (step 3 of 3) Processing classifier, total=   0.3s\n"
     ]
    },
    {
     "name": "stderr",
     "output_type": "stream",
     "text": [
      "[2023-05-12 12:50:58:638] - INFO - SAIL : Cumulative Pipeline Score: 0.7372775980267743\n",
      "[2023-05-12 12:50:58:638] - INFO - SAIL : Calling Partial_fit() on the pipeline.\n"
     ]
    },
    {
     "name": "stdout",
     "output_type": "stream",
     "text": [
      "[Pipeline] ........ (step 3 of 3) Processing classifier, total=   0.2s\n"
     ]
    },
    {
     "name": "stderr",
     "output_type": "stream",
     "text": [
      "[2023-05-12 12:50:58:876] - INFO - SAIL : Cumulative Pipeline Score: 0.7362524493946762\n",
      "[2023-05-12 12:50:58:877] - INFO - SAIL : Calling Partial_fit() on the pipeline.\n"
     ]
    },
    {
     "name": "stdout",
     "output_type": "stream",
     "text": [
      "[Pipeline] ........ (step 3 of 3) Processing classifier, total=   0.2s\n"
     ]
    },
    {
     "name": "stderr",
     "output_type": "stream",
     "text": [
      "[2023-05-12 12:50:59:121] - INFO - SAIL : Cumulative Pipeline Score: 0.728427146959957\n",
      "[2023-05-12 12:50:59:122] - INFO - SAIL : Calling Partial_fit() on the pipeline.\n"
     ]
    },
    {
     "name": "stdout",
     "output_type": "stream",
     "text": [
      "[Pipeline] ........ (step 3 of 3) Processing classifier, total=   0.2s\n"
     ]
    },
    {
     "name": "stderr",
     "output_type": "stream",
     "text": [
      "[2023-05-12 12:50:59:376] - INFO - SAIL : Cumulative Pipeline Score: 0.727021506187975\n",
      "[2023-05-12 12:50:59:377] - INFO - SAIL : Calling Partial_fit() on the pipeline.\n"
     ]
    },
    {
     "name": "stdout",
     "output_type": "stream",
     "text": [
      "[Pipeline] ........ (step 3 of 3) Processing classifier, total=   0.2s\n"
     ]
    },
    {
     "name": "stderr",
     "output_type": "stream",
     "text": [
      "[2023-05-12 12:50:59:622] - INFO - SAIL : Cumulative Pipeline Score: 0.7274164765330053\n",
      "[2023-05-12 12:50:59:622] - INFO - SAIL : Calling Partial_fit() on the pipeline.\n"
     ]
    },
    {
     "name": "stdout",
     "output_type": "stream",
     "text": [
      "[Pipeline] ........ (step 3 of 3) Processing classifier, total=   0.2s\n"
     ]
    },
    {
     "name": "stderr",
     "output_type": "stream",
     "text": [
      "[2023-05-12 12:50:59:877] - INFO - SAIL : Cumulative Pipeline Score: 0.719789016268279\n",
      "[2023-05-12 12:50:59:878] - INFO - SAIL : Calling Partial_fit() on the pipeline.\n"
     ]
    },
    {
     "name": "stdout",
     "output_type": "stream",
     "text": [
      "[Pipeline] ........ (step 3 of 3) Processing classifier, total=   0.2s\n"
     ]
    },
    {
     "name": "stderr",
     "output_type": "stream",
     "text": [
      "[2023-05-12 12:51:00:143] - INFO - SAIL : Cumulative Pipeline Score: 0.7192558521737653\n",
      "[2023-05-12 12:51:00:144] - INFO - SAIL : Calling Partial_fit() on the pipeline.\n"
     ]
    },
    {
     "name": "stdout",
     "output_type": "stream",
     "text": [
      "[Pipeline] ........ (step 3 of 3) Processing classifier, total=   0.2s\n"
     ]
    },
    {
     "name": "stderr",
     "output_type": "stream",
     "text": [
      "[2023-05-12 12:51:00:380] - INFO - SAIL : Cumulative Pipeline Score: 0.7153954397166424\n",
      "[2023-05-12 12:51:00:381] - INFO - SAIL : Calling Partial_fit() on the pipeline.\n"
     ]
    },
    {
     "name": "stdout",
     "output_type": "stream",
     "text": [
      "[Pipeline] ........ (step 3 of 3) Processing classifier, total=   0.2s\n"
     ]
    },
    {
     "name": "stderr",
     "output_type": "stream",
     "text": [
      "[2023-05-12 12:51:00:620] - INFO - SAIL : Cumulative Pipeline Score: 0.7100403010855217\n",
      "[2023-05-12 12:51:00:621] - INFO - SAIL : Calling Partial_fit() on the pipeline.\n"
     ]
    },
    {
     "name": "stdout",
     "output_type": "stream",
     "text": [
      "[Pipeline] ........ (step 3 of 3) Processing classifier, total=   0.2s\n"
     ]
    },
    {
     "name": "stderr",
     "output_type": "stream",
     "text": [
      "[2023-05-12 12:51:00:937] - INFO - SAIL : Cumulative Pipeline Score: 0.7017208083132861\n",
      "[2023-05-12 12:51:00:938] - INFO - SAIL : Calling Partial_fit() on the pipeline.\n"
     ]
    },
    {
     "name": "stdout",
     "output_type": "stream",
     "text": [
      "[Pipeline] ........ (step 3 of 3) Processing classifier, total=   0.3s\n"
     ]
    },
    {
     "name": "stderr",
     "output_type": "stream",
     "text": [
      "[2023-05-12 12:51:01:171] - INFO - SAIL : Cumulative Pipeline Score: 0.7099234063124165\n",
      "[2023-05-12 12:51:01:172] - INFO - SAIL : Calling Partial_fit() on the pipeline.\n"
     ]
    },
    {
     "name": "stdout",
     "output_type": "stream",
     "text": [
      "[Pipeline] ........ (step 3 of 3) Processing classifier, total=   0.2s\n"
     ]
    },
    {
     "name": "stderr",
     "output_type": "stream",
     "text": [
      "[2023-05-12 12:51:01:406] - INFO - SAIL : Cumulative Pipeline Score: 0.7079214552439002\n",
      "[2023-05-12 12:51:01:408] - INFO - SAIL : Calling Partial_fit() on the pipeline.\n"
     ]
    },
    {
     "name": "stdout",
     "output_type": "stream",
     "text": [
      "[Pipeline] ........ (step 3 of 3) Processing classifier, total=   0.2s\n",
      "[Pipeline] ........ (step 3 of 3) Processing classifier, total=   0.2s\n"
     ]
    },
    {
     "name": "stderr",
     "output_type": "stream",
     "text": [
      "[2023-05-12 12:51:01:638] - INFO - SAIL : Cumulative Pipeline Score: 0.7121840176890446\n",
      "[2023-05-12 12:51:01:639] - INFO - SAIL : Calling Partial_fit() on the pipeline.\n",
      "[2023-05-12 12:51:01:931] - INFO - SAIL : Cumulative Pipeline Score: 0.7137953540890414\n",
      "[2023-05-12 12:51:01:932] - INFO - SAIL : Calling Partial_fit() on the pipeline.\n"
     ]
    },
    {
     "name": "stdout",
     "output_type": "stream",
     "text": [
      "[Pipeline] ........ (step 3 of 3) Processing classifier, total=   0.3s\n"
     ]
    },
    {
     "name": "stderr",
     "output_type": "stream",
     "text": [
      "[2023-05-12 12:51:02:246] - INFO - SAIL : Cumulative Pipeline Score: 0.7152906400836957\n",
      "[2023-05-12 12:51:02:247] - INFO - SAIL : Calling Partial_fit() on the pipeline.\n"
     ]
    },
    {
     "name": "stdout",
     "output_type": "stream",
     "text": [
      "[Pipeline] ........ (step 3 of 3) Processing classifier, total=   0.3s\n"
     ]
    },
    {
     "name": "stderr",
     "output_type": "stream",
     "text": [
      "[2023-05-12 12:51:02:477] - INFO - SAIL : Cumulative Pipeline Score: 0.7078948507980907\n",
      "[2023-05-12 12:51:02:478] - INFO - SAIL : Calling Partial_fit() on the pipeline.\n"
     ]
    },
    {
     "name": "stdout",
     "output_type": "stream",
     "text": [
      "[Pipeline] ........ (step 3 of 3) Processing classifier, total=   0.2s\n"
     ]
    },
    {
     "name": "stderr",
     "output_type": "stream",
     "text": [
      "[2023-05-12 12:51:02:755] - INFO - SAIL : Cumulative Pipeline Score: 0.7110226010603165\n",
      "[2023-05-12 12:51:02:756] - INFO - SAIL : Calling Partial_fit() on the pipeline.\n"
     ]
    },
    {
     "name": "stdout",
     "output_type": "stream",
     "text": [
      "[Pipeline] ........ (step 3 of 3) Processing classifier, total=   0.2s\n"
     ]
    },
    {
     "name": "stderr",
     "output_type": "stream",
     "text": [
      "[2023-05-12 12:51:03:187] - INFO - SAIL : Cumulative Pipeline Score: 0.7168062589640958\n",
      "[2023-05-12 12:51:03:188] - INFO - SAIL : Calling Partial_fit() on the pipeline.\n"
     ]
    },
    {
     "name": "stdout",
     "output_type": "stream",
     "text": [
      "[Pipeline] ........ (step 3 of 3) Processing classifier, total=   0.4s\n"
     ]
    },
    {
     "name": "stderr",
     "output_type": "stream",
     "text": [
      "[2023-05-12 12:51:03:476] - INFO - SAIL : Cumulative Pipeline Score: 0.7117207942186858\n",
      "[2023-05-12 12:51:03:476] - INFO - SAIL : Calling Partial_fit() on the pipeline.\n"
     ]
    },
    {
     "name": "stdout",
     "output_type": "stream",
     "text": [
      "[Pipeline] ........ (step 3 of 3) Processing classifier, total=   0.3s\n"
     ]
    },
    {
     "name": "stderr",
     "output_type": "stream",
     "text": [
      "[2023-05-12 12:51:03:760] - INFO - SAIL : Cumulative Pipeline Score: 0.7033126452118268\n",
      "[2023-05-12 12:51:03:761] - INFO - SAIL : Calling Partial_fit() on the pipeline.\n"
     ]
    },
    {
     "name": "stdout",
     "output_type": "stream",
     "text": [
      "[Pipeline] ........ (step 3 of 3) Processing classifier, total=   0.2s\n"
     ]
    },
    {
     "name": "stderr",
     "output_type": "stream",
     "text": [
      "[2023-05-12 12:51:04:47] - INFO - SAIL : Cumulative Pipeline Score: 0.7007369544629889\n",
      "[2023-05-12 12:51:04:50] - INFO - SAIL : Calling Partial_fit() on the pipeline.\n"
     ]
    },
    {
     "name": "stdout",
     "output_type": "stream",
     "text": [
      "[Pipeline] ........ (step 3 of 3) Processing classifier, total=   0.3s\n"
     ]
    },
    {
     "name": "stderr",
     "output_type": "stream",
     "text": [
      "[2023-05-12 12:51:04:406] - INFO - SAIL : Cumulative Pipeline Score: 0.6869952969928863\n",
      "[2023-05-12 12:51:04:408] - INFO - SAIL : Calling Partial_fit() on the pipeline.\n"
     ]
    },
    {
     "name": "stdout",
     "output_type": "stream",
     "text": [
      "[Pipeline] ........ (step 3 of 3) Processing classifier, total=   0.3s\n"
     ]
    },
    {
     "name": "stderr",
     "output_type": "stream",
     "text": [
      "[2023-05-12 12:51:04:728] - INFO - SAIL : Cumulative Pipeline Score: 0.6895746953126215\n",
      "[2023-05-12 12:51:04:730] - INFO - SAIL : Calling Partial_fit() on the pipeline.\n"
     ]
    },
    {
     "name": "stdout",
     "output_type": "stream",
     "text": [
      "[Pipeline] ........ (step 3 of 3) Processing classifier, total=   0.3s\n"
     ]
    },
    {
     "name": "stderr",
     "output_type": "stream",
     "text": [
      "[2023-05-12 12:51:04:983] - INFO - SAIL : Cumulative Pipeline Score: 0.6773662685736639\n",
      "[2023-05-12 12:51:04:984] - INFO - SAIL : Calling Partial_fit() on the pipeline.\n"
     ]
    },
    {
     "name": "stdout",
     "output_type": "stream",
     "text": [
      "[Pipeline] ........ (step 3 of 3) Processing classifier, total=   0.2s\n"
     ]
    },
    {
     "name": "stderr",
     "output_type": "stream",
     "text": [
      "[2023-05-12 12:51:05:297] - INFO - SAIL : Cumulative Pipeline Score: 0.6657385908371037\n",
      "[2023-05-12 12:51:05:301] - INFO - SAIL : Calling Partial_fit() on the pipeline.\n"
     ]
    },
    {
     "name": "stdout",
     "output_type": "stream",
     "text": [
      "[Pipeline] ........ (step 3 of 3) Processing classifier, total=   0.3s\n"
     ]
    },
    {
     "name": "stderr",
     "output_type": "stream",
     "text": [
      "[2023-05-12 12:51:05:641] - INFO - SAIL : Cumulative Pipeline Score: 0.6596302867080963\n",
      "[2023-05-12 12:51:05:642] - INFO - SAIL : Calling Partial_fit() on the pipeline.\n"
     ]
    },
    {
     "name": "stdout",
     "output_type": "stream",
     "text": [
      "[Pipeline] ........ (step 3 of 3) Processing classifier, total=   0.3s\n"
     ]
    },
    {
     "name": "stderr",
     "output_type": "stream",
     "text": [
      "[2023-05-12 12:51:06:309] - INFO - SAIL : Cumulative Pipeline Score: 0.6567864847496007\n",
      "[2023-05-12 12:51:06:310] - INFO - SAIL : Calling Partial_fit() on the pipeline.\n"
     ]
    },
    {
     "name": "stdout",
     "output_type": "stream",
     "text": [
      "[Pipeline] ........ (step 3 of 3) Processing classifier, total=   0.6s\n"
     ]
    },
    {
     "name": "stderr",
     "output_type": "stream",
     "text": [
      "[2023-05-12 12:51:06:589] - INFO - SAIL : Cumulative Pipeline Score: 0.6565223703772132\n",
      "[2023-05-12 12:51:06:590] - INFO - SAIL : Calling Partial_fit() on the pipeline.\n"
     ]
    },
    {
     "name": "stdout",
     "output_type": "stream",
     "text": [
      "[Pipeline] ........ (step 3 of 3) Processing classifier, total=   0.2s\n"
     ]
    },
    {
     "name": "stderr",
     "output_type": "stream",
     "text": [
      "[2023-05-12 12:51:06:876] - INFO - SAIL : Cumulative Pipeline Score: 0.651214927263366\n",
      "[2023-05-12 12:51:06:877] - INFO - SAIL : Calling Partial_fit() on the pipeline.\n"
     ]
    },
    {
     "name": "stdout",
     "output_type": "stream",
     "text": [
      "[Pipeline] ........ (step 3 of 3) Processing classifier, total=   0.3s\n"
     ]
    },
    {
     "name": "stderr",
     "output_type": "stream",
     "text": [
      "[2023-05-12 12:51:07:208] - INFO - SAIL : Cumulative Pipeline Score: 0.6557002554556555\n",
      "[2023-05-12 12:51:07:210] - INFO - SAIL : Calling Partial_fit() on the pipeline.\n"
     ]
    },
    {
     "name": "stdout",
     "output_type": "stream",
     "text": [
      "[Pipeline] ........ (step 3 of 3) Processing classifier, total=   0.3s\n"
     ]
    },
    {
     "name": "stderr",
     "output_type": "stream",
     "text": [
      "[2023-05-12 12:51:07:507] - INFO - SAIL : Cumulative Pipeline Score: 0.6526782969702682\n",
      "[2023-05-12 12:51:07:508] - INFO - SAIL : Calling Partial_fit() on the pipeline.\n"
     ]
    },
    {
     "name": "stdout",
     "output_type": "stream",
     "text": [
      "[Pipeline] ........ (step 3 of 3) Processing classifier, total=   0.3s\n"
     ]
    },
    {
     "name": "stderr",
     "output_type": "stream",
     "text": [
      "[2023-05-12 12:51:07:856] - INFO - SAIL : Cumulative Pipeline Score: 0.6539164734173587\n",
      "[2023-05-12 12:51:07:857] - INFO - SAIL : Calling Partial_fit() on the pipeline.\n"
     ]
    },
    {
     "name": "stdout",
     "output_type": "stream",
     "text": [
      "[Pipeline] ........ (step 3 of 3) Processing classifier, total=   0.3s\n"
     ]
    },
    {
     "name": "stderr",
     "output_type": "stream",
     "text": [
      "[2023-05-12 12:51:08:186] - INFO - SAIL : Cumulative Pipeline Score: 0.6516865245934587\n",
      "[2023-05-12 12:51:08:186] - INFO - SAIL : Calling Partial_fit() on the pipeline.\n"
     ]
    },
    {
     "name": "stdout",
     "output_type": "stream",
     "text": [
      "[Pipeline] ........ (step 3 of 3) Processing classifier, total=   0.3s\n"
     ]
    },
    {
     "name": "stderr",
     "output_type": "stream",
     "text": [
      "[2023-05-12 12:51:08:480] - INFO - SAIL : Cumulative Pipeline Score: 0.6544665721291025\n",
      "[2023-05-12 12:51:08:488] - INFO - SAIL : Calling Partial_fit() on the pipeline.\n"
     ]
    },
    {
     "name": "stdout",
     "output_type": "stream",
     "text": [
      "[Pipeline] ........ (step 3 of 3) Processing classifier, total=   0.3s\n"
     ]
    },
    {
     "name": "stderr",
     "output_type": "stream",
     "text": [
      "[2023-05-12 12:51:08:789] - INFO - SAIL : Cumulative Pipeline Score: 0.6579632462448219\n",
      "[2023-05-12 12:51:08:790] - INFO - SAIL : Calling Partial_fit() on the pipeline.\n"
     ]
    },
    {
     "name": "stdout",
     "output_type": "stream",
     "text": [
      "[Pipeline] ........ (step 3 of 3) Processing classifier, total=   0.3s\n"
     ]
    },
    {
     "name": "stderr",
     "output_type": "stream",
     "text": [
      "[2023-05-12 12:51:09:50] - INFO - SAIL : Cumulative Pipeline Score: 0.6574702292666503\n",
      "[2023-05-12 12:51:09:51] - INFO - SAIL : Calling Partial_fit() on the pipeline.\n"
     ]
    },
    {
     "name": "stdout",
     "output_type": "stream",
     "text": [
      "[Pipeline] ........ (step 3 of 3) Processing classifier, total=   0.2s\n"
     ]
    },
    {
     "name": "stderr",
     "output_type": "stream",
     "text": [
      "[2023-05-12 12:51:09:299] - INFO - SAIL : Cumulative Pipeline Score: 0.6564787652059394\n",
      "[2023-05-12 12:51:09:300] - INFO - SAIL : Calling Partial_fit() on the pipeline.\n"
     ]
    },
    {
     "name": "stdout",
     "output_type": "stream",
     "text": [
      "[Pipeline] ........ (step 3 of 3) Processing classifier, total=   0.2s\n"
     ]
    },
    {
     "name": "stderr",
     "output_type": "stream",
     "text": [
      "[2023-05-12 12:51:09:924] - INFO - SAIL : Cumulative Pipeline Score: 0.6470129319299157\n",
      "[2023-05-12 12:51:09:925] - INFO - SAIL : Calling Partial_fit() on the pipeline.\n"
     ]
    },
    {
     "name": "stdout",
     "output_type": "stream",
     "text": [
      "[Pipeline] ........ (step 3 of 3) Processing classifier, total=   0.6s\n"
     ]
    },
    {
     "name": "stderr",
     "output_type": "stream",
     "text": [
      "[2023-05-12 12:51:10:225] - INFO - SAIL : Cumulative Pipeline Score: 0.6430278091306051\n",
      "[2023-05-12 12:51:10:225] - INFO - SAIL : Calling Partial_fit() on the pipeline.\n"
     ]
    },
    {
     "name": "stdout",
     "output_type": "stream",
     "text": [
      "[Pipeline] ........ (step 3 of 3) Processing classifier, total=   0.3s\n"
     ]
    },
    {
     "name": "stderr",
     "output_type": "stream",
     "text": [
      "[2023-05-12 12:51:10:460] - INFO - SAIL : Cumulative Pipeline Score: 0.6474691798121925\n",
      "[2023-05-12 12:51:10:461] - INFO - SAIL : Calling Partial_fit() on the pipeline.\n"
     ]
    },
    {
     "name": "stdout",
     "output_type": "stream",
     "text": [
      "[Pipeline] ........ (step 3 of 3) Processing classifier, total=   0.2s\n"
     ]
    },
    {
     "name": "stderr",
     "output_type": "stream",
     "text": [
      "[2023-05-12 12:51:10:726] - INFO - SAIL : Cumulative Pipeline Score: 0.6475925305917222\n",
      "[2023-05-12 12:51:10:727] - INFO - SAIL : Calling Partial_fit() on the pipeline.\n"
     ]
    },
    {
     "name": "stdout",
     "output_type": "stream",
     "text": [
      "[Pipeline] ........ (step 3 of 3) Processing classifier, total=   0.2s\n"
     ]
    },
    {
     "name": "stderr",
     "output_type": "stream",
     "text": [
      "[2023-05-12 12:51:11:24] - INFO - SAIL : Cumulative Pipeline Score: 0.6506327790380355\n",
      "[2023-05-12 12:51:11:25] - INFO - SAIL : Calling Partial_fit() on the pipeline.\n"
     ]
    },
    {
     "name": "stdout",
     "output_type": "stream",
     "text": [
      "[Pipeline] ........ (step 3 of 3) Processing classifier, total=   0.3s\n"
     ]
    },
    {
     "name": "stderr",
     "output_type": "stream",
     "text": [
      "[2023-05-12 12:51:11:396] - INFO - SAIL : Cumulative Pipeline Score: 0.647713507157664\n",
      "[2023-05-12 12:51:11:397] - INFO - SAIL : Calling Partial_fit() on the pipeline.\n"
     ]
    },
    {
     "name": "stdout",
     "output_type": "stream",
     "text": [
      "[Pipeline] ........ (step 3 of 3) Processing classifier, total=   0.3s\n"
     ]
    },
    {
     "name": "stderr",
     "output_type": "stream",
     "text": [
      "[2023-05-12 12:51:11:634] - INFO - SAIL : Cumulative Pipeline Score: 0.6443864654919929\n",
      "[2023-05-12 12:51:11:637] - INFO - SAIL : Calling Partial_fit() on the pipeline.\n"
     ]
    },
    {
     "name": "stdout",
     "output_type": "stream",
     "text": [
      "[Pipeline] ........ (step 3 of 3) Processing classifier, total=   0.2s\n"
     ]
    },
    {
     "name": "stderr",
     "output_type": "stream",
     "text": [
      "[2023-05-12 12:51:11:911] - INFO - SAIL : Cumulative Pipeline Score: 0.6435604015891412\n",
      "[2023-05-12 12:51:11:912] - INFO - SAIL : Calling Partial_fit() on the pipeline.\n"
     ]
    },
    {
     "name": "stdout",
     "output_type": "stream",
     "text": [
      "[Pipeline] ........ (step 3 of 3) Processing classifier, total=   0.2s\n"
     ]
    },
    {
     "name": "stderr",
     "output_type": "stream",
     "text": [
      "[2023-05-12 12:51:12:352] - INFO - SAIL : Cumulative Pipeline Score: 0.6405553452187568\n",
      "[2023-05-12 12:51:12:353] - INFO - SAIL : Calling Partial_fit() on the pipeline.\n"
     ]
    },
    {
     "name": "stdout",
     "output_type": "stream",
     "text": [
      "[Pipeline] ........ (step 3 of 3) Processing classifier, total=   0.4s\n"
     ]
    },
    {
     "name": "stderr",
     "output_type": "stream",
     "text": [
      "[2023-05-12 12:51:12:619] - INFO - SAIL : Cumulative Pipeline Score: 0.6410618440132403\n",
      "[2023-05-12 12:51:12:620] - INFO - SAIL : Calling Partial_fit() on the pipeline.\n"
     ]
    },
    {
     "name": "stdout",
     "output_type": "stream",
     "text": [
      "[Pipeline] ........ (step 3 of 3) Processing classifier, total=   0.2s\n"
     ]
    },
    {
     "name": "stderr",
     "output_type": "stream",
     "text": [
      "[2023-05-12 12:51:12:892] - INFO - SAIL : Cumulative Pipeline Score: 0.6390059931577132\n",
      "[2023-05-12 12:51:12:893] - INFO - SAIL : Calling Partial_fit() on the pipeline.\n"
     ]
    },
    {
     "name": "stdout",
     "output_type": "stream",
     "text": [
      "[Pipeline] ........ (step 3 of 3) Processing classifier, total=   0.2s\n"
     ]
    },
    {
     "name": "stderr",
     "output_type": "stream",
     "text": [
      "[2023-05-12 12:51:13:185] - INFO - SAIL : Cumulative Pipeline Score: 0.6370609913994999\n",
      "[2023-05-12 12:51:13:186] - INFO - SAIL : Calling Partial_fit() on the pipeline.\n"
     ]
    },
    {
     "name": "stdout",
     "output_type": "stream",
     "text": [
      "[Pipeline] ........ (step 3 of 3) Processing classifier, total=   0.3s\n"
     ]
    },
    {
     "name": "stderr",
     "output_type": "stream",
     "text": [
      "[2023-05-12 12:51:13:492] - INFO - SAIL : Cumulative Pipeline Score: 0.6411487022387875\n",
      "[2023-05-12 12:51:13:493] - INFO - SAIL : Calling Partial_fit() on the pipeline.\n"
     ]
    },
    {
     "name": "stdout",
     "output_type": "stream",
     "text": [
      "[Pipeline] ........ (step 3 of 3) Processing classifier, total=   0.3s\n"
     ]
    },
    {
     "name": "stderr",
     "output_type": "stream",
     "text": [
      "[2023-05-12 12:51:13:843] - INFO - SAIL : Cumulative Pipeline Score: 0.6389663547299891\n",
      "[2023-05-12 12:51:13:844] - INFO - SAIL : Calling Partial_fit() on the pipeline.\n"
     ]
    },
    {
     "name": "stdout",
     "output_type": "stream",
     "text": [
      "[Pipeline] ........ (step 3 of 3) Processing classifier, total=   0.3s\n"
     ]
    },
    {
     "name": "stderr",
     "output_type": "stream",
     "text": [
      "[2023-05-12 12:51:14:133] - INFO - SAIL : Cumulative Pipeline Score: 0.6385706092142819\n",
      "[2023-05-12 12:51:14:134] - INFO - SAIL : Calling Partial_fit() on the pipeline.\n"
     ]
    },
    {
     "name": "stdout",
     "output_type": "stream",
     "text": [
      "[Pipeline] ........ (step 3 of 3) Processing classifier, total=   0.2s\n"
     ]
    },
    {
     "name": "stderr",
     "output_type": "stream",
     "text": [
      "[2023-05-12 12:51:14:577] - INFO - SAIL : Cumulative Pipeline Score: 0.6377563349292951\n",
      "[2023-05-12 12:51:14:578] - INFO - SAIL : Calling Partial_fit() on the pipeline.\n"
     ]
    },
    {
     "name": "stdout",
     "output_type": "stream",
     "text": [
      "[Pipeline] ........ (step 3 of 3) Processing classifier, total=   0.4s\n"
     ]
    },
    {
     "name": "stderr",
     "output_type": "stream",
     "text": [
      "[2023-05-12 12:51:15:35] - INFO - SAIL : Cumulative Pipeline Score: 0.6362090475586138\n",
      "[2023-05-12 12:51:15:36] - INFO - SAIL : Calling Partial_fit() on the pipeline.\n"
     ]
    },
    {
     "name": "stdout",
     "output_type": "stream",
     "text": [
      "[Pipeline] ........ (step 3 of 3) Processing classifier, total=   0.4s\n"
     ]
    },
    {
     "name": "stderr",
     "output_type": "stream",
     "text": [
      "[2023-05-12 12:51:15:417] - INFO - SAIL : Cumulative Pipeline Score: 0.6355549449540043\n",
      "[2023-05-12 12:51:15:418] - INFO - SAIL : Calling Partial_fit() on the pipeline.\n"
     ]
    },
    {
     "name": "stdout",
     "output_type": "stream",
     "text": [
      "[Pipeline] ........ (step 3 of 3) Processing classifier, total=   0.3s\n"
     ]
    },
    {
     "name": "stderr",
     "output_type": "stream",
     "text": [
      "[2023-05-12 12:51:15:712] - INFO - SAIL : Cumulative Pipeline Score: 0.6351173666261403\n",
      "[2023-05-12 12:51:15:713] - INFO - SAIL : Calling Partial_fit() on the pipeline.\n"
     ]
    },
    {
     "name": "stdout",
     "output_type": "stream",
     "text": [
      "[Pipeline] ........ (step 3 of 3) Processing classifier, total=   0.3s\n"
     ]
    },
    {
     "name": "stderr",
     "output_type": "stream",
     "text": [
      "[2023-05-12 12:51:16:24] - INFO - SAIL : Cumulative Pipeline Score: 0.6305984035017325\n",
      "[2023-05-12 12:51:16:25] - INFO - SAIL : Calling Partial_fit() on the pipeline.\n"
     ]
    },
    {
     "name": "stdout",
     "output_type": "stream",
     "text": [
      "[Pipeline] ........ (step 3 of 3) Processing classifier, total=   0.3s\n"
     ]
    },
    {
     "name": "stderr",
     "output_type": "stream",
     "text": [
      "[2023-05-12 12:51:16:355] - INFO - SAIL : Cumulative Pipeline Score: 0.6270107303505708\n",
      "[2023-05-12 12:51:16:357] - INFO - SAIL : Calling Partial_fit() on the pipeline.\n"
     ]
    },
    {
     "name": "stdout",
     "output_type": "stream",
     "text": [
      "[Pipeline] ........ (step 3 of 3) Processing classifier, total=   0.3s\n"
     ]
    },
    {
     "name": "stderr",
     "output_type": "stream",
     "text": [
      "[2023-05-12 12:51:16:943] - INFO - SAIL : Cumulative Pipeline Score: 0.6251484540321727\n",
      "[2023-05-12 12:51:16:944] - INFO - SAIL : Calling Partial_fit() on the pipeline.\n"
     ]
    },
    {
     "name": "stdout",
     "output_type": "stream",
     "text": [
      "[Pipeline] ........ (step 3 of 3) Processing classifier, total=   0.5s\n"
     ]
    },
    {
     "name": "stderr",
     "output_type": "stream",
     "text": [
      "[2023-05-12 12:51:17:312] - INFO - SAIL : Cumulative Pipeline Score: 0.6280374593148141\n",
      "[2023-05-12 12:51:17:312] - INFO - SAIL : Calling Partial_fit() on the pipeline.\n"
     ]
    },
    {
     "name": "stdout",
     "output_type": "stream",
     "text": [
      "[Pipeline] ........ (step 3 of 3) Processing classifier, total=   0.3s\n"
     ]
    },
    {
     "name": "stderr",
     "output_type": "stream",
     "text": [
      "[2023-05-12 12:51:17:695] - INFO - SAIL : Cumulative Pipeline Score: 0.6258244860008786\n",
      "[2023-05-12 12:51:17:696] - INFO - SAIL : Calling Partial_fit() on the pipeline.\n"
     ]
    },
    {
     "name": "stdout",
     "output_type": "stream",
     "text": [
      "[Pipeline] ........ (step 3 of 3) Processing classifier, total=   0.3s\n"
     ]
    },
    {
     "name": "stderr",
     "output_type": "stream",
     "text": [
      "[2023-05-12 12:51:17:998] - INFO - SAIL : Cumulative Pipeline Score: 0.6258146787316811\n",
      "[2023-05-12 12:51:17:999] - INFO - SAIL : Calling Partial_fit() on the pipeline.\n"
     ]
    },
    {
     "name": "stdout",
     "output_type": "stream",
     "text": [
      "[Pipeline] ........ (step 3 of 3) Processing classifier, total=   0.3s\n"
     ]
    },
    {
     "name": "stderr",
     "output_type": "stream",
     "text": [
      "[2023-05-12 12:51:18:326] - INFO - SAIL : Cumulative Pipeline Score: 0.6249280742851702\n",
      "[2023-05-12 12:51:18:330] - INFO - SAIL : Calling Partial_fit() on the pipeline.\n"
     ]
    },
    {
     "name": "stdout",
     "output_type": "stream",
     "text": [
      "[Pipeline] ........ (step 3 of 3) Processing classifier, total=   0.3s\n"
     ]
    },
    {
     "name": "stderr",
     "output_type": "stream",
     "text": [
      "[2023-05-12 12:51:18:653] - INFO - SAIL : Cumulative Pipeline Score: 0.6270528180550812\n",
      "[2023-05-12 12:51:18:657] - INFO - SAIL : Calling Partial_fit() on the pipeline.\n"
     ]
    },
    {
     "name": "stdout",
     "output_type": "stream",
     "text": [
      "[Pipeline] ........ (step 3 of 3) Processing classifier, total=   0.3s\n"
     ]
    },
    {
     "name": "stderr",
     "output_type": "stream",
     "text": [
      "[2023-05-12 12:51:19:8] - INFO - SAIL : Cumulative Pipeline Score: 0.6250433803791391\n",
      "[2023-05-12 12:51:19:9] - INFO - SAIL : Calling Partial_fit() on the pipeline.\n"
     ]
    },
    {
     "name": "stdout",
     "output_type": "stream",
     "text": [
      "[Pipeline] ........ (step 3 of 3) Processing classifier, total=   0.3s\n"
     ]
    },
    {
     "name": "stderr",
     "output_type": "stream",
     "text": [
      "[2023-05-12 12:51:19:425] - INFO - SAIL : Cumulative Pipeline Score: 0.6242008206438978\n",
      "[2023-05-12 12:51:19:426] - INFO - SAIL : Calling Partial_fit() on the pipeline.\n"
     ]
    },
    {
     "name": "stdout",
     "output_type": "stream",
     "text": [
      "[Pipeline] ........ (step 3 of 3) Processing classifier, total=   0.4s\n"
     ]
    },
    {
     "name": "stderr",
     "output_type": "stream",
     "text": [
      "[2023-05-12 12:51:19:779] - INFO - SAIL : Cumulative Pipeline Score: 0.6202106590338184\n",
      "[2023-05-12 12:51:19:779] - INFO - SAIL : Calling Partial_fit() on the pipeline.\n"
     ]
    },
    {
     "name": "stdout",
     "output_type": "stream",
     "text": [
      "[Pipeline] ........ (step 3 of 3) Processing classifier, total=   0.3s\n"
     ]
    },
    {
     "name": "stderr",
     "output_type": "stream",
     "text": [
      "[2023-05-12 12:51:20:97] - INFO - SAIL : Cumulative Pipeline Score: 0.6213411251244243\n",
      "[2023-05-12 12:51:20:98] - INFO - SAIL : Calling Partial_fit() on the pipeline.\n"
     ]
    },
    {
     "name": "stdout",
     "output_type": "stream",
     "text": [
      "[Pipeline] ........ (step 3 of 3) Processing classifier, total=   0.3s\n"
     ]
    },
    {
     "name": "stderr",
     "output_type": "stream",
     "text": [
      "[2023-05-12 12:51:20:493] - INFO - SAIL : Cumulative Pipeline Score: 0.6223033224568286\n",
      "[2023-05-12 12:51:20:494] - INFO - SAIL : Calling Partial_fit() on the pipeline.\n"
     ]
    },
    {
     "name": "stdout",
     "output_type": "stream",
     "text": [
      "[Pipeline] ........ (step 3 of 3) Processing classifier, total=   0.4s\n"
     ]
    },
    {
     "name": "stderr",
     "output_type": "stream",
     "text": [
      "[2023-05-12 12:51:20:801] - INFO - SAIL : Cumulative Pipeline Score: 0.6221246205684356\n",
      "[2023-05-12 12:51:20:803] - INFO - SAIL : Calling Partial_fit() on the pipeline.\n"
     ]
    },
    {
     "name": "stdout",
     "output_type": "stream",
     "text": [
      "[Pipeline] ........ (step 3 of 3) Processing classifier, total=   0.3s\n"
     ]
    },
    {
     "name": "stderr",
     "output_type": "stream",
     "text": [
      "[2023-05-12 12:51:21:84] - INFO - SAIL : Cumulative Pipeline Score: 0.6213386783877488\n",
      "[2023-05-12 12:51:21:85] - INFO - SAIL : Calling Partial_fit() on the pipeline.\n"
     ]
    },
    {
     "name": "stdout",
     "output_type": "stream",
     "text": [
      "[Pipeline] ........ (step 3 of 3) Processing classifier, total=   0.2s\n"
     ]
    },
    {
     "name": "stderr",
     "output_type": "stream",
     "text": [
      "[2023-05-12 12:51:21:410] - INFO - SAIL : Cumulative Pipeline Score: 0.6209026076157628\n",
      "[2023-05-12 12:51:21:411] - INFO - SAIL : Calling Partial_fit() on the pipeline.\n"
     ]
    },
    {
     "name": "stdout",
     "output_type": "stream",
     "text": [
      "[Pipeline] ........ (step 3 of 3) Processing classifier, total=   0.3s\n"
     ]
    },
    {
     "name": "stderr",
     "output_type": "stream",
     "text": [
      "[2023-05-12 12:51:21:724] - INFO - SAIL : Cumulative Pipeline Score: 0.6208856088838655\n",
      "[2023-05-12 12:51:21:725] - INFO - SAIL : Calling Partial_fit() on the pipeline.\n"
     ]
    },
    {
     "name": "stdout",
     "output_type": "stream",
     "text": [
      "[Pipeline] ........ (step 3 of 3) Processing classifier, total=   0.3s\n"
     ]
    },
    {
     "name": "stderr",
     "output_type": "stream",
     "text": [
      "[2023-05-12 12:51:22:50] - INFO - SAIL : Cumulative Pipeline Score: 0.6209164234207458\n",
      "[2023-05-12 12:51:22:51] - INFO - SAIL : Calling Partial_fit() on the pipeline.\n"
     ]
    },
    {
     "name": "stdout",
     "output_type": "stream",
     "text": [
      "[Pipeline] ........ (step 3 of 3) Processing classifier, total=   0.3s\n"
     ]
    },
    {
     "name": "stderr",
     "output_type": "stream",
     "text": [
      "[2023-05-12 12:51:22:510] - INFO - SAIL : Cumulative Pipeline Score: 0.6227557784705098\n",
      "[2023-05-12 12:51:22:511] - INFO - SAIL : Calling Partial_fit() on the pipeline.\n"
     ]
    },
    {
     "name": "stdout",
     "output_type": "stream",
     "text": [
      "[Pipeline] ........ (step 3 of 3) Processing classifier, total=   0.4s\n"
     ]
    },
    {
     "name": "stderr",
     "output_type": "stream",
     "text": [
      "[2023-05-12 12:51:22:903] - INFO - SAIL : Cumulative Pipeline Score: 0.6223223922700669\n",
      "[2023-05-12 12:51:22:905] - INFO - SAIL : Calling Partial_fit() on the pipeline.\n"
     ]
    },
    {
     "name": "stdout",
     "output_type": "stream",
     "text": [
      "[Pipeline] ........ (step 3 of 3) Processing classifier, total=   0.4s\n"
     ]
    },
    {
     "name": "stderr",
     "output_type": "stream",
     "text": [
      "[2023-05-12 12:51:23:249] - INFO - SAIL : Cumulative Pipeline Score: 0.6230027503158503\n",
      "[2023-05-12 12:51:23:250] - INFO - SAIL : Calling Partial_fit() on the pipeline.\n"
     ]
    },
    {
     "name": "stdout",
     "output_type": "stream",
     "text": [
      "[Pipeline] ........ (step 3 of 3) Processing classifier, total=   0.3s\n"
     ]
    },
    {
     "name": "stderr",
     "output_type": "stream",
     "text": [
      "[2023-05-12 12:51:23:582] - INFO - SAIL : Cumulative Pipeline Score: 0.624963101659227\n",
      "[2023-05-12 12:51:23:584] - INFO - SAIL : Calling Partial_fit() on the pipeline.\n"
     ]
    },
    {
     "name": "stdout",
     "output_type": "stream",
     "text": [
      "[Pipeline] ........ (step 3 of 3) Processing classifier, total=   0.3s\n"
     ]
    },
    {
     "name": "stderr",
     "output_type": "stream",
     "text": [
      "[2023-05-12 12:51:23:928] - INFO - SAIL : Cumulative Pipeline Score: 0.626521723491372\n",
      "[2023-05-12 12:51:23:931] - INFO - SAIL : Calling Partial_fit() on the pipeline.\n"
     ]
    },
    {
     "name": "stdout",
     "output_type": "stream",
     "text": [
      "[Pipeline] ........ (step 3 of 3) Processing classifier, total=   0.3s\n"
     ]
    },
    {
     "name": "stderr",
     "output_type": "stream",
     "text": [
      "[2023-05-12 12:51:24:350] - INFO - SAIL : Cumulative Pipeline Score: 0.6245018483813518\n",
      "[2023-05-12 12:51:24:351] - INFO - SAIL : Calling Partial_fit() on the pipeline.\n"
     ]
    },
    {
     "name": "stdout",
     "output_type": "stream",
     "text": [
      "[Pipeline] ........ (step 3 of 3) Processing classifier, total=   0.4s\n"
     ]
    },
    {
     "name": "stderr",
     "output_type": "stream",
     "text": [
      "[2023-05-12 12:51:24:673] - INFO - SAIL : Cumulative Pipeline Score: 0.6252238899756507\n",
      "[2023-05-12 12:51:24:674] - INFO - SAIL : Calling Partial_fit() on the pipeline.\n"
     ]
    },
    {
     "name": "stdout",
     "output_type": "stream",
     "text": [
      "[Pipeline] ........ (step 3 of 3) Processing classifier, total=   0.3s\n"
     ]
    },
    {
     "name": "stderr",
     "output_type": "stream",
     "text": [
      "[2023-05-12 12:51:24:990] - INFO - SAIL : Cumulative Pipeline Score: 0.6257875892010263\n",
      "[2023-05-12 12:51:24:991] - INFO - SAIL : Calling Partial_fit() on the pipeline.\n"
     ]
    },
    {
     "name": "stdout",
     "output_type": "stream",
     "text": [
      "[Pipeline] ........ (step 3 of 3) Processing classifier, total=   0.3s\n"
     ]
    },
    {
     "name": "stderr",
     "output_type": "stream",
     "text": [
      "[2023-05-12 12:51:25:475] - INFO - SAIL : Cumulative Pipeline Score: 0.6244229238540128\n",
      "[2023-05-12 12:51:25:476] - INFO - SAIL : Calling Partial_fit() on the pipeline.\n"
     ]
    },
    {
     "name": "stdout",
     "output_type": "stream",
     "text": [
      "[Pipeline] ........ (step 3 of 3) Processing classifier, total=   0.5s\n"
     ]
    },
    {
     "name": "stderr",
     "output_type": "stream",
     "text": [
      "[2023-05-12 12:51:25:822] - INFO - SAIL : Cumulative Pipeline Score: 0.6246808905509429\n",
      "[2023-05-12 12:51:25:823] - INFO - SAIL : Calling Partial_fit() on the pipeline.\n"
     ]
    },
    {
     "name": "stdout",
     "output_type": "stream",
     "text": [
      "[Pipeline] ........ (step 3 of 3) Processing classifier, total=   0.3s\n"
     ]
    },
    {
     "name": "stderr",
     "output_type": "stream",
     "text": [
      "[2023-05-12 12:51:26:174] - INFO - SAIL : Cumulative Pipeline Score: 0.6237466963361488\n",
      "[2023-05-12 12:51:26:175] - INFO - SAIL : Calling Partial_fit() on the pipeline.\n"
     ]
    },
    {
     "name": "stdout",
     "output_type": "stream",
     "text": [
      "[Pipeline] ........ (step 3 of 3) Processing classifier, total=   0.3s\n"
     ]
    },
    {
     "name": "stderr",
     "output_type": "stream",
     "text": [
      "[2023-05-12 12:51:26:710] - INFO - SAIL : Cumulative Pipeline Score: 0.6232329698703001\n",
      "[2023-05-12 12:51:26:710] - INFO - SAIL : Calling Partial_fit() on the pipeline.\n"
     ]
    },
    {
     "name": "stdout",
     "output_type": "stream",
     "text": [
      "[Pipeline] ........ (step 3 of 3) Processing classifier, total=   0.5s\n"
     ]
    },
    {
     "name": "stderr",
     "output_type": "stream",
     "text": [
      "[2023-05-12 12:51:27:73] - INFO - SAIL : Cumulative Pipeline Score: 0.6188131926630012\n",
      "[2023-05-12 12:51:27:74] - INFO - SAIL : Calling Partial_fit() on the pipeline.\n"
     ]
    },
    {
     "name": "stdout",
     "output_type": "stream",
     "text": [
      "[Pipeline] ........ (step 3 of 3) Processing classifier, total=   0.3s\n"
     ]
    },
    {
     "name": "stderr",
     "output_type": "stream",
     "text": [
      "[2023-05-12 12:51:27:390] - INFO - SAIL : Cumulative Pipeline Score: 0.6176030663118496\n",
      "[2023-05-12 12:51:27:391] - INFO - SAIL : Calling Partial_fit() on the pipeline.\n"
     ]
    },
    {
     "name": "stdout",
     "output_type": "stream",
     "text": [
      "[Pipeline] ........ (step 3 of 3) Processing classifier, total=   0.3s\n"
     ]
    },
    {
     "name": "stderr",
     "output_type": "stream",
     "text": [
      "[2023-05-12 12:51:27:737] - INFO - SAIL : Cumulative Pipeline Score: 0.6162289146068081\n",
      "[2023-05-12 12:51:27:738] - INFO - SAIL : Calling Partial_fit() on the pipeline.\n"
     ]
    },
    {
     "name": "stdout",
     "output_type": "stream",
     "text": [
      "[Pipeline] ........ (step 3 of 3) Processing classifier, total=   0.3s\n"
     ]
    },
    {
     "name": "stderr",
     "output_type": "stream",
     "text": [
      "[2023-05-12 12:51:28:138] - INFO - SAIL : Cumulative Pipeline Score: 0.6175537357079627\n",
      "[2023-05-12 12:51:28:139] - INFO - SAIL : Calling Partial_fit() on the pipeline.\n"
     ]
    },
    {
     "name": "stdout",
     "output_type": "stream",
     "text": [
      "[Pipeline] ........ (step 3 of 3) Processing classifier, total=   0.3s\n"
     ]
    },
    {
     "name": "stderr",
     "output_type": "stream",
     "text": [
      "[2023-05-12 12:51:28:519] - INFO - SAIL : Cumulative Pipeline Score: 0.6196948287703883\n",
      "[2023-05-12 12:51:28:521] - INFO - SAIL : Calling Partial_fit() on the pipeline.\n"
     ]
    },
    {
     "name": "stdout",
     "output_type": "stream",
     "text": [
      "[Pipeline] ........ (step 3 of 3) Processing classifier, total=   0.3s\n"
     ]
    },
    {
     "name": "stderr",
     "output_type": "stream",
     "text": [
      "[2023-05-12 12:51:28:881] - INFO - SAIL : Cumulative Pipeline Score: 0.6190060066331766\n",
      "[2023-05-12 12:51:28:882] - INFO - SAIL : Calling Partial_fit() on the pipeline.\n"
     ]
    },
    {
     "name": "stdout",
     "output_type": "stream",
     "text": [
      "[Pipeline] ........ (step 3 of 3) Processing classifier, total=   0.3s\n"
     ]
    },
    {
     "name": "stderr",
     "output_type": "stream",
     "text": [
      "[2023-05-12 12:51:29:207] - INFO - SAIL : Cumulative Pipeline Score: 0.6179364221645609\n",
      "[2023-05-12 12:51:29:208] - INFO - SAIL : Calling Partial_fit() on the pipeline.\n"
     ]
    },
    {
     "name": "stdout",
     "output_type": "stream",
     "text": [
      "[Pipeline] ........ (step 3 of 3) Processing classifier, total=   0.3s\n"
     ]
    },
    {
     "name": "stderr",
     "output_type": "stream",
     "text": [
      "[2023-05-12 12:51:29:536] - INFO - SAIL : Cumulative Pipeline Score: 0.6173160206530826\n",
      "[2023-05-12 12:51:29:537] - INFO - SAIL : Calling Partial_fit() on the pipeline.\n"
     ]
    },
    {
     "name": "stdout",
     "output_type": "stream",
     "text": [
      "[Pipeline] ........ (step 3 of 3) Processing classifier, total=   0.3s\n"
     ]
    },
    {
     "name": "stderr",
     "output_type": "stream",
     "text": [
      "[2023-05-12 12:51:29:895] - INFO - SAIL : Cumulative Pipeline Score: 0.6196738242107911\n",
      "[2023-05-12 12:51:29:897] - INFO - SAIL : Calling Partial_fit() on the pipeline.\n"
     ]
    },
    {
     "name": "stdout",
     "output_type": "stream",
     "text": [
      "[Pipeline] ........ (step 3 of 3) Processing classifier, total=   0.3s\n"
     ]
    },
    {
     "name": "stderr",
     "output_type": "stream",
     "text": [
      "[2023-05-12 12:51:30:425] - INFO - SAIL : Cumulative Pipeline Score: 0.6178474814921577\n",
      "[2023-05-12 12:51:30:426] - INFO - SAIL : Calling Partial_fit() on the pipeline.\n"
     ]
    },
    {
     "name": "stdout",
     "output_type": "stream",
     "text": [
      "[Pipeline] ........ (step 3 of 3) Processing classifier, total=   0.5s\n"
     ]
    },
    {
     "name": "stderr",
     "output_type": "stream",
     "text": [
      "[2023-05-12 12:51:30:747] - INFO - SAIL : Cumulative Pipeline Score: 0.6184701797575994\n",
      "[2023-05-12 12:51:30:748] - INFO - SAIL : Calling Partial_fit() on the pipeline.\n"
     ]
    },
    {
     "name": "stdout",
     "output_type": "stream",
     "text": [
      "[Pipeline] ........ (step 3 of 3) Processing classifier, total=   0.3s\n"
     ]
    },
    {
     "name": "stderr",
     "output_type": "stream",
     "text": [
      "[2023-05-12 12:51:31:276] - INFO - SAIL : Cumulative Pipeline Score: 0.6171011889729452\n",
      "[2023-05-12 12:51:31:276] - INFO - SAIL : Calling Partial_fit() on the pipeline.\n"
     ]
    },
    {
     "name": "stdout",
     "output_type": "stream",
     "text": [
      "[Pipeline] ........ (step 3 of 3) Processing classifier, total=   0.5s\n"
     ]
    },
    {
     "name": "stderr",
     "output_type": "stream",
     "text": [
      "[2023-05-12 12:51:31:770] - INFO - SAIL : Cumulative Pipeline Score: 0.6160791859751389\n",
      "[2023-05-12 12:51:31:771] - INFO - SAIL : Calling Partial_fit() on the pipeline.\n"
     ]
    },
    {
     "name": "stdout",
     "output_type": "stream",
     "text": [
      "[Pipeline] ........ (step 3 of 3) Processing classifier, total=   0.4s\n"
     ]
    },
    {
     "name": "stderr",
     "output_type": "stream",
     "text": [
      "[2023-05-12 12:51:32:107] - INFO - SAIL : Cumulative Pipeline Score: 0.61615837806306\n",
      "[2023-05-12 12:51:32:108] - INFO - SAIL : Calling Partial_fit() on the pipeline.\n"
     ]
    },
    {
     "name": "stdout",
     "output_type": "stream",
     "text": [
      "[Pipeline] ........ (step 3 of 3) Processing classifier, total=   0.3s\n"
     ]
    },
    {
     "name": "stderr",
     "output_type": "stream",
     "text": [
      "[2023-05-12 12:51:32:514] - INFO - SAIL : Cumulative Pipeline Score: 0.6187171555101068\n",
      "[2023-05-12 12:51:32:520] - INFO - SAIL : Calling Partial_fit() on the pipeline.\n"
     ]
    },
    {
     "name": "stdout",
     "output_type": "stream",
     "text": [
      "[Pipeline] ........ (step 3 of 3) Processing classifier, total=   0.3s\n"
     ]
    },
    {
     "name": "stderr",
     "output_type": "stream",
     "text": [
      "[2023-05-12 12:51:33:201] - INFO - SAIL : Cumulative Pipeline Score: 0.6162002472947661\n",
      "[2023-05-12 12:51:33:203] - INFO - SAIL : Calling Partial_fit() on the pipeline.\n"
     ]
    },
    {
     "name": "stdout",
     "output_type": "stream",
     "text": [
      "[Pipeline] ........ (step 3 of 3) Processing classifier, total=   0.6s\n"
     ]
    },
    {
     "name": "stderr",
     "output_type": "stream",
     "text": [
      "[2023-05-12 12:51:33:571] - INFO - SAIL : Cumulative Pipeline Score: 0.6171239809446059\n",
      "[2023-05-12 12:51:33:572] - INFO - SAIL : Calling Partial_fit() on the pipeline.\n"
     ]
    },
    {
     "name": "stdout",
     "output_type": "stream",
     "text": [
      "[Pipeline] ........ (step 3 of 3) Processing classifier, total=   0.3s\n"
     ]
    },
    {
     "name": "stderr",
     "output_type": "stream",
     "text": [
      "[2023-05-12 12:51:33:875] - INFO - SAIL : Cumulative Pipeline Score: 0.6175310850282478\n",
      "[2023-05-12 12:51:33:876] - INFO - SAIL : Calling Partial_fit() on the pipeline.\n"
     ]
    },
    {
     "name": "stdout",
     "output_type": "stream",
     "text": [
      "[Pipeline] ........ (step 3 of 3) Processing classifier, total=   0.3s\n"
     ]
    },
    {
     "name": "stderr",
     "output_type": "stream",
     "text": [
      "[2023-05-12 12:51:34:391] - INFO - SAIL : Cumulative Pipeline Score: 0.6190661935186672\n",
      "[2023-05-12 12:51:34:402] - INFO - SAIL : Calling Partial_fit() on the pipeline.\n"
     ]
    },
    {
     "name": "stdout",
     "output_type": "stream",
     "text": [
      "[Pipeline] ........ (step 3 of 3) Processing classifier, total=   0.5s\n"
     ]
    },
    {
     "name": "stderr",
     "output_type": "stream",
     "text": [
      "[2023-05-12 12:51:34:769] - INFO - SAIL : Cumulative Pipeline Score: 0.6200844465370359\n",
      "[2023-05-12 12:51:34:770] - INFO - SAIL : Calling Partial_fit() on the pipeline.\n"
     ]
    },
    {
     "name": "stdout",
     "output_type": "stream",
     "text": [
      "[Pipeline] ........ (step 3 of 3) Processing classifier, total=   0.3s\n"
     ]
    },
    {
     "name": "stderr",
     "output_type": "stream",
     "text": [
      "[2023-05-12 12:51:35:379] - INFO - SAIL : Cumulative Pipeline Score: 0.6173583878892341\n",
      "[2023-05-12 12:51:35:380] - INFO - SAIL : Calling Partial_fit() on the pipeline.\n"
     ]
    },
    {
     "name": "stdout",
     "output_type": "stream",
     "text": [
      "[Pipeline] ........ (step 3 of 3) Processing classifier, total=   0.6s\n"
     ]
    },
    {
     "name": "stderr",
     "output_type": "stream",
     "text": [
      "[2023-05-12 12:51:35:831] - INFO - SAIL : Cumulative Pipeline Score: 0.6177236112892958\n",
      "[2023-05-12 12:51:35:832] - INFO - SAIL : Calling Partial_fit() on the pipeline.\n"
     ]
    },
    {
     "name": "stdout",
     "output_type": "stream",
     "text": [
      "[Pipeline] ........ (step 3 of 3) Processing classifier, total=   0.4s\n"
     ]
    },
    {
     "name": "stderr",
     "output_type": "stream",
     "text": [
      "[2023-05-12 12:51:36:251] - INFO - SAIL : Cumulative Pipeline Score: 0.6182640228161442\n",
      "[2023-05-12 12:51:36:252] - INFO - SAIL : Calling Partial_fit() on the pipeline.\n"
     ]
    },
    {
     "name": "stdout",
     "output_type": "stream",
     "text": [
      "[Pipeline] ........ (step 3 of 3) Processing classifier, total=   0.4s\n"
     ]
    },
    {
     "name": "stderr",
     "output_type": "stream",
     "text": [
      "[2023-05-12 12:51:36:637] - INFO - SAIL : Cumulative Pipeline Score: 0.6191373600222719\n",
      "[2023-05-12 12:51:36:638] - INFO - SAIL : Calling Partial_fit() on the pipeline.\n"
     ]
    },
    {
     "name": "stdout",
     "output_type": "stream",
     "text": [
      "[Pipeline] ........ (step 3 of 3) Processing classifier, total=   0.4s\n"
     ]
    },
    {
     "name": "stderr",
     "output_type": "stream",
     "text": [
      "[2023-05-12 12:51:37:25] - INFO - SAIL : Cumulative Pipeline Score: 0.6178920395657269\n",
      "[2023-05-12 12:51:37:27] - INFO - SAIL : Calling Partial_fit() on the pipeline.\n"
     ]
    },
    {
     "name": "stdout",
     "output_type": "stream",
     "text": [
      "[Pipeline] ........ (step 3 of 3) Processing classifier, total=   0.3s\n"
     ]
    },
    {
     "name": "stderr",
     "output_type": "stream",
     "text": [
      "[2023-05-12 12:51:37:481] - INFO - SAIL : Cumulative Pipeline Score: 0.619567836966903\n",
      "[2023-05-12 12:51:37:482] - INFO - SAIL : Calling Partial_fit() on the pipeline.\n"
     ]
    },
    {
     "name": "stdout",
     "output_type": "stream",
     "text": [
      "[Pipeline] ........ (step 3 of 3) Processing classifier, total=   0.4s\n"
     ]
    },
    {
     "name": "stderr",
     "output_type": "stream",
     "text": [
      "[2023-05-12 12:51:38:41] - INFO - SAIL : Cumulative Pipeline Score: 0.6212218428928611\n",
      "[2023-05-12 12:51:38:42] - INFO - SAIL : Calling Partial_fit() on the pipeline.\n"
     ]
    },
    {
     "name": "stdout",
     "output_type": "stream",
     "text": [
      "[Pipeline] ........ (step 3 of 3) Processing classifier, total=   0.5s\n"
     ]
    },
    {
     "name": "stderr",
     "output_type": "stream",
     "text": [
      "[2023-05-12 12:51:38:689] - INFO - SAIL : Cumulative Pipeline Score: 0.6215021058076807\n",
      "[2023-05-12 12:51:38:691] - INFO - SAIL : Calling Partial_fit() on the pipeline.\n"
     ]
    },
    {
     "name": "stdout",
     "output_type": "stream",
     "text": [
      "[Pipeline] ........ (step 3 of 3) Processing classifier, total=   0.6s\n"
     ]
    },
    {
     "name": "stderr",
     "output_type": "stream",
     "text": [
      "[2023-05-12 12:51:39:144] - INFO - SAIL : Cumulative Pipeline Score: 0.6225612971331373\n",
      "[2023-05-12 12:51:39:145] - INFO - SAIL : Calling Partial_fit() on the pipeline.\n"
     ]
    },
    {
     "name": "stdout",
     "output_type": "stream",
     "text": [
      "[Pipeline] ........ (step 3 of 3) Processing classifier, total=   0.4s\n"
     ]
    },
    {
     "name": "stderr",
     "output_type": "stream",
     "text": [
      "[2023-05-12 12:51:39:632] - INFO - SAIL : Cumulative Pipeline Score: 0.6241855817921631\n",
      "[2023-05-12 12:51:39:633] - INFO - SAIL : Calling Partial_fit() on the pipeline.\n"
     ]
    },
    {
     "name": "stdout",
     "output_type": "stream",
     "text": [
      "[Pipeline] ........ (step 3 of 3) Processing classifier, total=   0.5s\n"
     ]
    },
    {
     "name": "stderr",
     "output_type": "stream",
     "text": [
      "[2023-05-12 12:51:40:11] - INFO - SAIL : Cumulative Pipeline Score: 0.6259043820261254\n",
      "[2023-05-12 12:51:40:11] - INFO - SAIL : Calling Partial_fit() on the pipeline.\n"
     ]
    },
    {
     "name": "stdout",
     "output_type": "stream",
     "text": [
      "[Pipeline] ........ (step 3 of 3) Processing classifier, total=   0.3s\n"
     ]
    },
    {
     "name": "stderr",
     "output_type": "stream",
     "text": [
      "[2023-05-12 12:51:40:388] - INFO - SAIL : Cumulative Pipeline Score: 0.6277596309169283\n",
      "[2023-05-12 12:51:40:389] - INFO - SAIL : Calling Partial_fit() on the pipeline.\n"
     ]
    },
    {
     "name": "stdout",
     "output_type": "stream",
     "text": [
      "[Pipeline] ........ (step 3 of 3) Processing classifier, total=   0.4s\n"
     ]
    },
    {
     "name": "stderr",
     "output_type": "stream",
     "text": [
      "[2023-05-12 12:51:40:757] - INFO - SAIL : Cumulative Pipeline Score: 0.626165142490494\n",
      "[2023-05-12 12:51:40:758] - INFO - SAIL : Calling Partial_fit() on the pipeline.\n"
     ]
    },
    {
     "name": "stdout",
     "output_type": "stream",
     "text": [
      "[Pipeline] ........ (step 3 of 3) Processing classifier, total=   0.3s\n"
     ]
    },
    {
     "name": "stderr",
     "output_type": "stream",
     "text": [
      "[2023-05-12 12:51:41:232] - INFO - SAIL : Cumulative Pipeline Score: 0.625557054512992\n",
      "[2023-05-12 12:51:41:233] - INFO - SAIL : Calling Partial_fit() on the pipeline.\n"
     ]
    },
    {
     "name": "stdout",
     "output_type": "stream",
     "text": [
      "[Pipeline] ........ (step 3 of 3) Processing classifier, total=   0.4s\n"
     ]
    },
    {
     "name": "stderr",
     "output_type": "stream",
     "text": [
      "[2023-05-12 12:51:41:612] - INFO - SAIL : Cumulative Pipeline Score: 0.6254072903515712\n",
      "[2023-05-12 12:51:41:613] - INFO - SAIL : Calling Partial_fit() on the pipeline.\n"
     ]
    },
    {
     "name": "stdout",
     "output_type": "stream",
     "text": [
      "[Pipeline] ........ (step 3 of 3) Processing classifier, total=   0.3s\n"
     ]
    },
    {
     "name": "stderr",
     "output_type": "stream",
     "text": [
      "[2023-05-12 12:51:41:972] - INFO - SAIL : Cumulative Pipeline Score: 0.6244362529497449\n",
      "[2023-05-12 12:51:41:973] - INFO - SAIL : Calling Partial_fit() on the pipeline.\n"
     ]
    },
    {
     "name": "stdout",
     "output_type": "stream",
     "text": [
      "[Pipeline] ........ (step 3 of 3) Processing classifier, total=   0.3s\n"
     ]
    },
    {
     "name": "stderr",
     "output_type": "stream",
     "text": [
      "[2023-05-12 12:51:42:339] - INFO - SAIL : Cumulative Pipeline Score: 0.6232975010063961\n",
      "[2023-05-12 12:51:42:340] - INFO - SAIL : Calling Partial_fit() on the pipeline.\n"
     ]
    },
    {
     "name": "stdout",
     "output_type": "stream",
     "text": [
      "[Pipeline] ........ (step 3 of 3) Processing classifier, total=   0.3s\n"
     ]
    },
    {
     "name": "stderr",
     "output_type": "stream",
     "text": [
      "[2023-05-12 12:51:42:736] - INFO - SAIL : Cumulative Pipeline Score: 0.6230473104654897\n",
      "[2023-05-12 12:51:42:737] - INFO - SAIL : Calling Partial_fit() on the pipeline.\n"
     ]
    },
    {
     "name": "stdout",
     "output_type": "stream",
     "text": [
      "[Pipeline] ........ (step 3 of 3) Processing classifier, total=   0.4s\n"
     ]
    },
    {
     "name": "stderr",
     "output_type": "stream",
     "text": [
      "[2023-05-12 12:51:43:125] - INFO - SAIL : Cumulative Pipeline Score: 0.6199002156038849\n",
      "[2023-05-12 12:51:43:125] - INFO - SAIL : Calling Partial_fit() on the pipeline.\n"
     ]
    },
    {
     "name": "stdout",
     "output_type": "stream",
     "text": [
      "[Pipeline] ........ (step 3 of 3) Processing classifier, total=   0.4s\n"
     ]
    },
    {
     "name": "stderr",
     "output_type": "stream",
     "text": [
      "[2023-05-12 12:51:43:461] - INFO - SAIL : Cumulative Pipeline Score: 0.6195744755921622\n",
      "[2023-05-12 12:51:43:462] - INFO - SAIL : Calling Partial_fit() on the pipeline.\n"
     ]
    },
    {
     "name": "stdout",
     "output_type": "stream",
     "text": [
      "[Pipeline] ........ (step 3 of 3) Processing classifier, total=   0.3s\n"
     ]
    },
    {
     "name": "stderr",
     "output_type": "stream",
     "text": [
      "[2023-05-12 12:51:43:852] - INFO - SAIL : Cumulative Pipeline Score: 0.6194551314386236\n",
      "[2023-05-12 12:51:43:853] - INFO - SAIL : Calling Partial_fit() on the pipeline.\n"
     ]
    },
    {
     "name": "stdout",
     "output_type": "stream",
     "text": [
      "[Pipeline] ........ (step 3 of 3) Processing classifier, total=   0.4s\n"
     ]
    },
    {
     "name": "stderr",
     "output_type": "stream",
     "text": [
      "[2023-05-12 12:51:44:238] - INFO - SAIL : Cumulative Pipeline Score: 0.6208563880927173\n",
      "[2023-05-12 12:51:44:239] - INFO - SAIL : Calling Partial_fit() on the pipeline.\n"
     ]
    },
    {
     "name": "stdout",
     "output_type": "stream",
     "text": [
      "[Pipeline] ........ (step 3 of 3) Processing classifier, total=   0.3s\n"
     ]
    },
    {
     "name": "stderr",
     "output_type": "stream",
     "text": [
      "[2023-05-12 12:51:44:755] - INFO - SAIL : Cumulative Pipeline Score: 0.622282725948533\n",
      "[2023-05-12 12:51:44:756] - INFO - SAIL : Calling Partial_fit() on the pipeline.\n"
     ]
    },
    {
     "name": "stdout",
     "output_type": "stream",
     "text": [
      "[Pipeline] ........ (step 3 of 3) Processing classifier, total=   0.5s\n"
     ]
    },
    {
     "name": "stderr",
     "output_type": "stream",
     "text": [
      "[2023-05-12 12:51:45:108] - INFO - SAIL : Cumulative Pipeline Score: 0.6237188074511462\n",
      "[2023-05-12 12:51:45:109] - INFO - SAIL : Calling Partial_fit() on the pipeline.\n"
     ]
    },
    {
     "name": "stdout",
     "output_type": "stream",
     "text": [
      "[Pipeline] ........ (step 3 of 3) Processing classifier, total=   0.3s\n"
     ]
    },
    {
     "name": "stderr",
     "output_type": "stream",
     "text": [
      "[2023-05-12 12:51:45:440] - INFO - SAIL : Cumulative Pipeline Score: 0.6241150361734704\n",
      "[2023-05-12 12:51:45:441] - INFO - SAIL : Calling Partial_fit() on the pipeline.\n"
     ]
    },
    {
     "name": "stdout",
     "output_type": "stream",
     "text": [
      "[Pipeline] ........ (step 3 of 3) Processing classifier, total=   0.3s\n"
     ]
    },
    {
     "name": "stderr",
     "output_type": "stream",
     "text": [
      "[2023-05-12 12:51:45:850] - INFO - SAIL : Cumulative Pipeline Score: 0.6234827635678806\n",
      "[2023-05-12 12:51:45:851] - INFO - SAIL : Calling Partial_fit() on the pipeline.\n"
     ]
    },
    {
     "name": "stdout",
     "output_type": "stream",
     "text": [
      "[Pipeline] ........ (step 3 of 3) Processing classifier, total=   0.4s\n"
     ]
    },
    {
     "name": "stderr",
     "output_type": "stream",
     "text": [
      "[2023-05-12 12:51:46:158] - INFO - SAIL : Cumulative Pipeline Score: 0.6237628738188719\n",
      "[2023-05-12 12:51:46:159] - INFO - SAIL : Calling Partial_fit() on the pipeline.\n"
     ]
    },
    {
     "name": "stdout",
     "output_type": "stream",
     "text": [
      "[Pipeline] ........ (step 3 of 3) Processing classifier, total=   0.3s\n"
     ]
    },
    {
     "name": "stderr",
     "output_type": "stream",
     "text": [
      "[2023-05-12 12:51:46:469] - INFO - SAIL : Cumulative Pipeline Score: 0.6241588717150687\n",
      "[2023-05-12 12:51:46:470] - INFO - SAIL : Calling Partial_fit() on the pipeline.\n"
     ]
    },
    {
     "name": "stdout",
     "output_type": "stream",
     "text": [
      "[Pipeline] ........ (step 3 of 3) Processing classifier, total=   0.3s\n"
     ]
    },
    {
     "name": "stderr",
     "output_type": "stream",
     "text": [
      "[2023-05-12 12:51:46:861] - INFO - SAIL : Cumulative Pipeline Score: 0.6247575224700234\n",
      "[2023-05-12 12:51:46:862] - INFO - SAIL : Calling Partial_fit() on the pipeline.\n"
     ]
    },
    {
     "name": "stdout",
     "output_type": "stream",
     "text": [
      "[Pipeline] ........ (step 3 of 3) Processing classifier, total=   0.4s\n"
     ]
    },
    {
     "name": "stderr",
     "output_type": "stream",
     "text": [
      "[2023-05-12 12:51:47:302] - INFO - SAIL : Cumulative Pipeline Score: 0.624194380434646\n",
      "[2023-05-12 12:51:47:303] - INFO - SAIL : Calling Partial_fit() on the pipeline.\n"
     ]
    },
    {
     "name": "stdout",
     "output_type": "stream",
     "text": [
      "[Pipeline] ........ (step 3 of 3) Processing classifier, total=   0.4s\n"
     ]
    },
    {
     "name": "stderr",
     "output_type": "stream",
     "text": [
      "[2023-05-12 12:51:47:655] - INFO - SAIL : Cumulative Pipeline Score: 0.6223448151339994\n",
      "[2023-05-12 12:51:47:656] - INFO - SAIL : Calling Partial_fit() on the pipeline.\n"
     ]
    },
    {
     "name": "stdout",
     "output_type": "stream",
     "text": [
      "[Pipeline] ........ (step 3 of 3) Processing classifier, total=   0.3s\n"
     ]
    },
    {
     "name": "stderr",
     "output_type": "stream",
     "text": [
      "[2023-05-12 12:51:47:995] - INFO - SAIL : Cumulative Pipeline Score: 0.6248874566917366\n",
      "[2023-05-12 12:51:47:995] - INFO - SAIL : Calling Partial_fit() on the pipeline.\n"
     ]
    },
    {
     "name": "stdout",
     "output_type": "stream",
     "text": [
      "[Pipeline] ........ (step 3 of 3) Processing classifier, total=   0.3s\n"
     ]
    },
    {
     "name": "stderr",
     "output_type": "stream",
     "text": [
      "[2023-05-12 12:51:48:368] - INFO - SAIL : Cumulative Pipeline Score: 0.6259522696862609\n",
      "[2023-05-12 12:51:48:374] - INFO - SAIL : Calling Partial_fit() on the pipeline.\n"
     ]
    },
    {
     "name": "stdout",
     "output_type": "stream",
     "text": [
      "[Pipeline] ........ (step 3 of 3) Processing classifier, total=   0.3s\n"
     ]
    },
    {
     "name": "stderr",
     "output_type": "stream",
     "text": [
      "[2023-05-12 12:51:48:764] - INFO - SAIL : Cumulative Pipeline Score: 0.6279800110354534\n",
      "[2023-05-12 12:51:48:765] - INFO - SAIL : Calling Partial_fit() on the pipeline.\n"
     ]
    },
    {
     "name": "stdout",
     "output_type": "stream",
     "text": [
      "[Pipeline] ........ (step 3 of 3) Processing classifier, total=   0.3s\n"
     ]
    },
    {
     "name": "stderr",
     "output_type": "stream",
     "text": [
      "[2023-05-12 12:51:49:160] - INFO - SAIL : Cumulative Pipeline Score: 0.6284835431039419\n",
      "[2023-05-12 12:51:49:161] - INFO - SAIL : Calling Partial_fit() on the pipeline.\n"
     ]
    },
    {
     "name": "stdout",
     "output_type": "stream",
     "text": [
      "[Pipeline] ........ (step 3 of 3) Processing classifier, total=   0.3s\n"
     ]
    },
    {
     "name": "stderr",
     "output_type": "stream",
     "text": [
      "[2023-05-12 12:51:49:683] - INFO - SAIL : Cumulative Pipeline Score: 0.6274935465190414\n",
      "[2023-05-12 12:51:49:684] - INFO - SAIL : Calling Partial_fit() on the pipeline.\n"
     ]
    },
    {
     "name": "stdout",
     "output_type": "stream",
     "text": [
      "[Pipeline] ........ (step 3 of 3) Processing classifier, total=   0.5s\n"
     ]
    },
    {
     "name": "stderr",
     "output_type": "stream",
     "text": [
      "[2023-05-12 12:51:50:13] - INFO - SAIL : Cumulative Pipeline Score: 0.6286351670111539\n",
      "[2023-05-12 12:51:50:14] - INFO - SAIL : Calling Partial_fit() on the pipeline.\n"
     ]
    },
    {
     "name": "stdout",
     "output_type": "stream",
     "text": [
      "[Pipeline] ........ (step 3 of 3) Processing classifier, total=   0.3s\n"
     ]
    },
    {
     "name": "stderr",
     "output_type": "stream",
     "text": [
      "[2023-05-12 12:51:50:361] - INFO - SAIL : Cumulative Pipeline Score: 0.6291634441308136\n",
      "[2023-05-12 12:51:50:362] - INFO - SAIL : Calling Partial_fit() on the pipeline.\n"
     ]
    },
    {
     "name": "stdout",
     "output_type": "stream",
     "text": [
      "[Pipeline] ........ (step 3 of 3) Processing classifier, total=   0.3s\n"
     ]
    },
    {
     "name": "stderr",
     "output_type": "stream",
     "text": [
      "[2023-05-12 12:51:50:689] - INFO - SAIL : Cumulative Pipeline Score: 0.6296543620421876\n",
      "[2023-05-12 12:51:50:691] - INFO - SAIL : Calling Partial_fit() on the pipeline.\n"
     ]
    },
    {
     "name": "stdout",
     "output_type": "stream",
     "text": [
      "[Pipeline] ........ (step 3 of 3) Processing classifier, total=   0.3s\n"
     ]
    },
    {
     "name": "stderr",
     "output_type": "stream",
     "text": [
      "[2023-05-12 12:51:51:225] - INFO - SAIL : Cumulative Pipeline Score: 0.6294939253890587\n",
      "[2023-05-12 12:51:51:226] - INFO - SAIL : Calling Partial_fit() on the pipeline.\n"
     ]
    },
    {
     "name": "stdout",
     "output_type": "stream",
     "text": [
      "[Pipeline] ........ (step 3 of 3) Processing classifier, total=   0.5s\n"
     ]
    },
    {
     "name": "stderr",
     "output_type": "stream",
     "text": [
      "[2023-05-12 12:51:51:612] - INFO - SAIL : Cumulative Pipeline Score: 0.6302115922463636\n",
      "[2023-05-12 12:51:51:613] - INFO - SAIL : Calling Partial_fit() on the pipeline.\n"
     ]
    },
    {
     "name": "stdout",
     "output_type": "stream",
     "text": [
      "[Pipeline] ........ (step 3 of 3) Processing classifier, total=   0.4s\n"
     ]
    },
    {
     "name": "stderr",
     "output_type": "stream",
     "text": [
      "[2023-05-12 12:51:51:962] - INFO - SAIL : Cumulative Pipeline Score: 0.6308603984577271\n",
      "[2023-05-12 12:51:51:963] - INFO - SAIL : Calling Partial_fit() on the pipeline.\n"
     ]
    },
    {
     "name": "stdout",
     "output_type": "stream",
     "text": [
      "[Pipeline] ........ (step 3 of 3) Processing classifier, total=   0.3s\n"
     ]
    },
    {
     "name": "stderr",
     "output_type": "stream",
     "text": [
      "[2023-05-12 12:51:52:360] - INFO - SAIL : Cumulative Pipeline Score: 0.6300241987963875\n",
      "[2023-05-12 12:51:52:361] - INFO - SAIL : Calling Partial_fit() on the pipeline.\n"
     ]
    },
    {
     "name": "stdout",
     "output_type": "stream",
     "text": [
      "[Pipeline] ........ (step 3 of 3) Processing classifier, total=   0.4s\n"
     ]
    },
    {
     "name": "stderr",
     "output_type": "stream",
     "text": [
      "[2023-05-12 12:51:52:940] - INFO - SAIL : Cumulative Pipeline Score: 0.6302032945373873\n",
      "[2023-05-12 12:51:52:941] - INFO - SAIL : Calling Partial_fit() on the pipeline.\n"
     ]
    },
    {
     "name": "stdout",
     "output_type": "stream",
     "text": [
      "[Pipeline] ........ (step 3 of 3) Processing classifier, total=   0.5s\n"
     ]
    },
    {
     "name": "stderr",
     "output_type": "stream",
     "text": [
      "[2023-05-12 12:51:53:292] - INFO - SAIL : Cumulative Pipeline Score: 0.6303751821364023\n",
      "[2023-05-12 12:51:53:293] - INFO - SAIL : Calling Partial_fit() on the pipeline.\n"
     ]
    },
    {
     "name": "stdout",
     "output_type": "stream",
     "text": [
      "[Pipeline] ........ (step 3 of 3) Processing classifier, total=   0.3s\n"
     ]
    },
    {
     "name": "stderr",
     "output_type": "stream",
     "text": [
      "[2023-05-12 12:51:53:672] - INFO - SAIL : Cumulative Pipeline Score: 0.6308429205403127\n",
      "[2023-05-12 12:51:53:673] - INFO - SAIL : Calling Partial_fit() on the pipeline.\n"
     ]
    },
    {
     "name": "stdout",
     "output_type": "stream",
     "text": [
      "[Pipeline] ........ (step 3 of 3) Processing classifier, total=   0.3s\n"
     ]
    },
    {
     "name": "stderr",
     "output_type": "stream",
     "text": [
      "[2023-05-12 12:51:54:84] - INFO - SAIL : Cumulative Pipeline Score: 0.6299938573767041\n",
      "[2023-05-12 12:51:54:85] - INFO - SAIL : Calling Partial_fit() on the pipeline.\n"
     ]
    },
    {
     "name": "stdout",
     "output_type": "stream",
     "text": [
      "[Pipeline] ........ (step 3 of 3) Processing classifier, total=   0.4s\n"
     ]
    },
    {
     "name": "stderr",
     "output_type": "stream",
     "text": [
      "[2023-05-12 12:51:54:475] - INFO - SAIL : Cumulative Pipeline Score: 0.6310445002100848\n",
      "[2023-05-12 12:51:54:476] - INFO - SAIL : Calling Partial_fit() on the pipeline.\n"
     ]
    },
    {
     "name": "stdout",
     "output_type": "stream",
     "text": [
      "[Pipeline] ........ (step 3 of 3) Processing classifier, total=   0.4s\n"
     ]
    },
    {
     "name": "stderr",
     "output_type": "stream",
     "text": [
      "[2023-05-12 12:51:54:831] - INFO - SAIL : Cumulative Pipeline Score: 0.6335929146980734\n",
      "[2023-05-12 12:51:54:832] - INFO - SAIL : Calling Partial_fit() on the pipeline.\n"
     ]
    },
    {
     "name": "stdout",
     "output_type": "stream",
     "text": [
      "[Pipeline] ........ (step 3 of 3) Processing classifier, total=   0.3s\n"
     ]
    },
    {
     "name": "stderr",
     "output_type": "stream",
     "text": [
      "[2023-05-12 12:51:55:231] - INFO - SAIL : Cumulative Pipeline Score: 0.6351160994896379\n",
      "[2023-05-12 12:51:55:232] - INFO - SAIL : Calling Partial_fit() on the pipeline.\n"
     ]
    },
    {
     "name": "stdout",
     "output_type": "stream",
     "text": [
      "[Pipeline] ........ (step 3 of 3) Processing classifier, total=   0.4s\n"
     ]
    },
    {
     "name": "stderr",
     "output_type": "stream",
     "text": [
      "[2023-05-12 12:51:55:601] - INFO - SAIL : Cumulative Pipeline Score: 0.6363507593076358\n",
      "[2023-05-12 12:51:55:602] - INFO - SAIL : Calling Partial_fit() on the pipeline.\n"
     ]
    },
    {
     "name": "stdout",
     "output_type": "stream",
     "text": [
      "[Pipeline] ........ (step 3 of 3) Processing classifier, total=   0.3s\n"
     ]
    },
    {
     "name": "stderr",
     "output_type": "stream",
     "text": [
      "[2023-05-12 12:51:56:39] - INFO - SAIL : Cumulative Pipeline Score: 0.6355156725354137\n",
      "[2023-05-12 12:51:56:40] - INFO - SAIL : Calling Partial_fit() on the pipeline.\n"
     ]
    },
    {
     "name": "stdout",
     "output_type": "stream",
     "text": [
      "[Pipeline] ........ (step 3 of 3) Processing classifier, total=   0.4s\n"
     ]
    },
    {
     "name": "stderr",
     "output_type": "stream",
     "text": [
      "[2023-05-12 12:51:56:402] - INFO - SAIL : Cumulative Pipeline Score: 0.6355759058232741\n",
      "[2023-05-12 12:51:56:403] - INFO - SAIL : Calling Partial_fit() on the pipeline.\n"
     ]
    },
    {
     "name": "stdout",
     "output_type": "stream",
     "text": [
      "[Pipeline] ........ (step 3 of 3) Processing classifier, total=   0.3s\n"
     ]
    },
    {
     "name": "stderr",
     "output_type": "stream",
     "text": [
      "[2023-05-12 12:51:56:777] - INFO - SAIL : Cumulative Pipeline Score: 0.6351525646772704\n",
      "[2023-05-12 12:51:56:778] - INFO - SAIL : Calling Partial_fit() on the pipeline.\n"
     ]
    },
    {
     "name": "stdout",
     "output_type": "stream",
     "text": [
      "[Pipeline] ........ (step 3 of 3) Processing classifier, total=   0.3s\n"
     ]
    },
    {
     "name": "stderr",
     "output_type": "stream",
     "text": [
      "[2023-05-12 12:51:57:207] - INFO - SAIL : Cumulative Pipeline Score: 0.6349232840131882\n",
      "[2023-05-12 12:51:57:208] - INFO - SAIL : Calling Partial_fit() on the pipeline.\n"
     ]
    },
    {
     "name": "stdout",
     "output_type": "stream",
     "text": [
      "[Pipeline] ........ (step 3 of 3) Processing classifier, total=   0.4s\n"
     ]
    },
    {
     "name": "stderr",
     "output_type": "stream",
     "text": [
      "[2023-05-12 12:51:57:574] - INFO - SAIL : Cumulative Pipeline Score: 0.6353769744443423\n",
      "[2023-05-12 12:51:57:575] - INFO - SAIL : Calling Partial_fit() on the pipeline.\n"
     ]
    },
    {
     "name": "stdout",
     "output_type": "stream",
     "text": [
      "[Pipeline] ........ (step 3 of 3) Processing classifier, total=   0.3s\n"
     ]
    },
    {
     "name": "stderr",
     "output_type": "stream",
     "text": [
      "[2023-05-12 12:51:57:905] - INFO - SAIL : Cumulative Pipeline Score: 0.6369093370399649\n",
      "[2023-05-12 12:51:57:906] - INFO - SAIL : Calling Partial_fit() on the pipeline.\n"
     ]
    },
    {
     "name": "stdout",
     "output_type": "stream",
     "text": [
      "[Pipeline] ........ (step 3 of 3) Processing classifier, total=   0.3s\n"
     ]
    },
    {
     "name": "stderr",
     "output_type": "stream",
     "text": [
      "[2023-05-12 12:51:58:233] - INFO - SAIL : Cumulative Pipeline Score: 0.636428135945346\n",
      "[2023-05-12 12:51:58:234] - INFO - SAIL : Calling Partial_fit() on the pipeline.\n"
     ]
    },
    {
     "name": "stdout",
     "output_type": "stream",
     "text": [
      "[Pipeline] ........ (step 3 of 3) Processing classifier, total=   0.3s\n"
     ]
    },
    {
     "name": "stderr",
     "output_type": "stream",
     "text": [
      "[2023-05-12 12:51:58:671] - INFO - SAIL : Cumulative Pipeline Score: 0.6373778112667101\n",
      "[2023-05-12 12:51:58:672] - INFO - SAIL : Calling Partial_fit() on the pipeline.\n"
     ]
    },
    {
     "name": "stdout",
     "output_type": "stream",
     "text": [
      "[Pipeline] ........ (step 3 of 3) Processing classifier, total=   0.4s\n"
     ]
    },
    {
     "name": "stderr",
     "output_type": "stream",
     "text": [
      "[2023-05-12 12:51:58:986] - INFO - SAIL : Cumulative Pipeline Score: 0.6353843900703338\n",
      "[2023-05-12 12:51:58:986] - INFO - SAIL : Calling Partial_fit() on the pipeline.\n"
     ]
    },
    {
     "name": "stdout",
     "output_type": "stream",
     "text": [
      "[Pipeline] ........ (step 3 of 3) Processing classifier, total=   0.3s\n"
     ]
    },
    {
     "name": "stderr",
     "output_type": "stream",
     "text": [
      "[2023-05-12 12:51:59:316] - INFO - SAIL : Cumulative Pipeline Score: 0.6357950950435662\n",
      "[2023-05-12 12:51:59:317] - INFO - SAIL : Calling Partial_fit() on the pipeline.\n"
     ]
    },
    {
     "name": "stdout",
     "output_type": "stream",
     "text": [
      "[Pipeline] ........ (step 3 of 3) Processing classifier, total=   0.3s\n"
     ]
    },
    {
     "name": "stderr",
     "output_type": "stream",
     "text": [
      "[2023-05-12 12:51:59:605] - INFO - SAIL : Cumulative Pipeline Score: 0.636312034931386\n",
      "[2023-05-12 12:51:59:606] - INFO - SAIL : Calling Partial_fit() on the pipeline.\n"
     ]
    },
    {
     "name": "stdout",
     "output_type": "stream",
     "text": [
      "[Pipeline] ........ (step 3 of 3) Processing classifier, total=   0.3s\n"
     ]
    },
    {
     "name": "stderr",
     "output_type": "stream",
     "text": [
      "[2023-05-12 12:51:59:964] - INFO - SAIL : Cumulative Pipeline Score: 0.6362564851177237\n",
      "[2023-05-12 12:51:59:964] - INFO - SAIL : Calling Partial_fit() on the pipeline.\n"
     ]
    },
    {
     "name": "stdout",
     "output_type": "stream",
     "text": [
      "[Pipeline] ........ (step 3 of 3) Processing classifier, total=   0.3s\n"
     ]
    },
    {
     "name": "stderr",
     "output_type": "stream",
     "text": [
      "[2023-05-12 12:52:00:328] - INFO - SAIL : Cumulative Pipeline Score: 0.6372644830783822\n",
      "[2023-05-12 12:52:00:329] - INFO - SAIL : Calling Partial_fit() on the pipeline.\n"
     ]
    },
    {
     "name": "stdout",
     "output_type": "stream",
     "text": [
      "[Pipeline] ........ (step 3 of 3) Processing classifier, total=   0.3s\n"
     ]
    },
    {
     "name": "stderr",
     "output_type": "stream",
     "text": [
      "[2023-05-12 12:52:00:631] - INFO - SAIL : Cumulative Pipeline Score: 0.6386540442124985\n",
      "[2023-05-12 12:52:00:632] - INFO - SAIL : Calling Partial_fit() on the pipeline.\n"
     ]
    },
    {
     "name": "stdout",
     "output_type": "stream",
     "text": [
      "[Pipeline] ........ (step 3 of 3) Processing classifier, total=   0.3s\n"
     ]
    },
    {
     "name": "stderr",
     "output_type": "stream",
     "text": [
      "[2023-05-12 12:52:01:45] - INFO - SAIL : Cumulative Pipeline Score: 0.6380176148078395\n",
      "[2023-05-12 12:52:01:46] - INFO - SAIL : Calling Partial_fit() on the pipeline.\n"
     ]
    },
    {
     "name": "stdout",
     "output_type": "stream",
     "text": [
      "[Pipeline] ........ (step 3 of 3) Processing classifier, total=   0.4s\n"
     ]
    },
    {
     "name": "stderr",
     "output_type": "stream",
     "text": [
      "[2023-05-12 12:52:01:513] - INFO - SAIL : Cumulative Pipeline Score: 0.6368814688168731\n",
      "[2023-05-12 12:52:01:514] - INFO - SAIL : Calling Partial_fit() on the pipeline.\n"
     ]
    },
    {
     "name": "stdout",
     "output_type": "stream",
     "text": [
      "[Pipeline] ........ (step 3 of 3) Processing classifier, total=   0.4s\n"
     ]
    },
    {
     "name": "stderr",
     "output_type": "stream",
     "text": [
      "[2023-05-12 12:52:01:835] - INFO - SAIL : Cumulative Pipeline Score: 0.6386463069673298\n",
      "[2023-05-12 12:52:01:836] - INFO - SAIL : Calling Partial_fit() on the pipeline.\n"
     ]
    },
    {
     "name": "stdout",
     "output_type": "stream",
     "text": [
      "[Pipeline] ........ (step 3 of 3) Processing classifier, total=   0.3s\n"
     ]
    },
    {
     "name": "stderr",
     "output_type": "stream",
     "text": [
      "[2023-05-12 12:52:02:164] - INFO - SAIL : Cumulative Pipeline Score: 0.6379711237652657\n",
      "[2023-05-12 12:52:02:165] - INFO - SAIL : Calling Partial_fit() on the pipeline.\n"
     ]
    },
    {
     "name": "stdout",
     "output_type": "stream",
     "text": [
      "[Pipeline] ........ (step 3 of 3) Processing classifier, total=   0.3s\n"
     ]
    },
    {
     "name": "stderr",
     "output_type": "stream",
     "text": [
      "[2023-05-12 12:52:02:474] - INFO - SAIL : Cumulative Pipeline Score: 0.6382355983624255\n",
      "[2023-05-12 12:52:02:476] - INFO - SAIL : Calling Partial_fit() on the pipeline.\n"
     ]
    },
    {
     "name": "stdout",
     "output_type": "stream",
     "text": [
      "[Pipeline] ........ (step 3 of 3) Processing classifier, total=   0.3s\n"
     ]
    },
    {
     "name": "stderr",
     "output_type": "stream",
     "text": [
      "[2023-05-12 12:52:02:824] - INFO - SAIL : Cumulative Pipeline Score: 0.6396996332120826\n",
      "[2023-05-12 12:52:02:825] - INFO - SAIL : Calling Partial_fit() on the pipeline.\n"
     ]
    },
    {
     "name": "stdout",
     "output_type": "stream",
     "text": [
      "[Pipeline] ........ (step 3 of 3) Processing classifier, total=   0.3s\n"
     ]
    },
    {
     "name": "stderr",
     "output_type": "stream",
     "text": [
      "[2023-05-12 12:52:03:174] - INFO - SAIL : Cumulative Pipeline Score: 0.6394910235131241\n",
      "[2023-05-12 12:52:03:175] - INFO - SAIL : Calling Partial_fit() on the pipeline.\n"
     ]
    },
    {
     "name": "stdout",
     "output_type": "stream",
     "text": [
      "[Pipeline] ........ (step 3 of 3) Processing classifier, total=   0.3s\n"
     ]
    },
    {
     "name": "stderr",
     "output_type": "stream",
     "text": [
      "[2023-05-12 12:52:03:460] - INFO - SAIL : Cumulative Pipeline Score: 0.6392037946144633\n",
      "[2023-05-12 12:52:03:460] - INFO - SAIL : Calling Partial_fit() on the pipeline.\n"
     ]
    },
    {
     "name": "stdout",
     "output_type": "stream",
     "text": [
      "[Pipeline] ........ (step 3 of 3) Processing classifier, total=   0.2s\n"
     ]
    },
    {
     "name": "stderr",
     "output_type": "stream",
     "text": [
      "[2023-05-12 12:52:03:861] - INFO - SAIL : Cumulative Pipeline Score: 0.6409535721067019\n",
      "[2023-05-12 12:52:03:862] - INFO - SAIL : Calling Partial_fit() on the pipeline.\n"
     ]
    },
    {
     "name": "stdout",
     "output_type": "stream",
     "text": [
      "[Pipeline] ........ (step 3 of 3) Processing classifier, total=   0.4s\n"
     ]
    },
    {
     "name": "stderr",
     "output_type": "stream",
     "text": [
      "[2023-05-12 12:52:04:225] - INFO - SAIL : Cumulative Pipeline Score: 0.6422609141018394\n",
      "[2023-05-12 12:52:04:226] - INFO - SAIL : Calling Partial_fit() on the pipeline.\n"
     ]
    },
    {
     "name": "stdout",
     "output_type": "stream",
     "text": [
      "[Pipeline] ........ (step 3 of 3) Processing classifier, total=   0.3s\n"
     ]
    },
    {
     "name": "stderr",
     "output_type": "stream",
     "text": [
      "[2023-05-12 12:52:04:570] - INFO - SAIL : Cumulative Pipeline Score: 0.6423333455101075\n",
      "[2023-05-12 12:52:04:571] - INFO - SAIL : Calling Partial_fit() on the pipeline.\n"
     ]
    },
    {
     "name": "stdout",
     "output_type": "stream",
     "text": [
      "[Pipeline] ........ (step 3 of 3) Processing classifier, total=   0.3s\n"
     ]
    },
    {
     "name": "stderr",
     "output_type": "stream",
     "text": [
      "[2023-05-12 12:52:04:897] - INFO - SAIL : Cumulative Pipeline Score: 0.6427941255086203\n",
      "[2023-05-12 12:52:04:898] - INFO - SAIL : Calling Partial_fit() on the pipeline.\n"
     ]
    },
    {
     "name": "stdout",
     "output_type": "stream",
     "text": [
      "[Pipeline] ........ (step 3 of 3) Processing classifier, total=   0.3s\n"
     ]
    },
    {
     "name": "stderr",
     "output_type": "stream",
     "text": [
      "[2023-05-12 12:52:05:242] - INFO - SAIL : Cumulative Pipeline Score: 0.6428467236933126\n",
      "[2023-05-12 12:52:05:243] - INFO - SAIL : Calling Partial_fit() on the pipeline.\n"
     ]
    },
    {
     "name": "stdout",
     "output_type": "stream",
     "text": [
      "[Pipeline] ........ (step 3 of 3) Processing classifier, total=   0.3s\n"
     ]
    },
    {
     "name": "stderr",
     "output_type": "stream",
     "text": [
      "[2023-05-12 12:52:05:584] - INFO - SAIL : Cumulative Pipeline Score: 0.643937424366748\n",
      "[2023-05-12 12:52:05:585] - INFO - SAIL : Calling Partial_fit() on the pipeline.\n"
     ]
    },
    {
     "name": "stdout",
     "output_type": "stream",
     "text": [
      "[Pipeline] ........ (step 3 of 3) Processing classifier, total=   0.3s\n"
     ]
    },
    {
     "name": "stderr",
     "output_type": "stream",
     "text": [
      "[2023-05-12 12:52:05:938] - INFO - SAIL : Cumulative Pipeline Score: 0.6438996486253236\n",
      "[2023-05-12 12:52:05:940] - INFO - SAIL : Calling Partial_fit() on the pipeline.\n"
     ]
    },
    {
     "name": "stdout",
     "output_type": "stream",
     "text": [
      "[Pipeline] ........ (step 3 of 3) Processing classifier, total=   0.3s\n"
     ]
    },
    {
     "name": "stderr",
     "output_type": "stream",
     "text": [
      "[2023-05-12 12:52:06:276] - INFO - SAIL : Cumulative Pipeline Score: 0.6431111513173839\n",
      "[2023-05-12 12:52:06:277] - INFO - SAIL : Calling Partial_fit() on the pipeline.\n"
     ]
    },
    {
     "name": "stdout",
     "output_type": "stream",
     "text": [
      "[Pipeline] ........ (step 3 of 3) Processing classifier, total=   0.3s\n"
     ]
    },
    {
     "name": "stderr",
     "output_type": "stream",
     "text": [
      "[2023-05-12 12:52:06:688] - INFO - SAIL : Cumulative Pipeline Score: 0.6431069822465707\n",
      "[2023-05-12 12:52:06:689] - INFO - SAIL : Calling Partial_fit() on the pipeline.\n"
     ]
    },
    {
     "name": "stdout",
     "output_type": "stream",
     "text": [
      "[Pipeline] ........ (step 3 of 3) Processing classifier, total=   0.4s\n"
     ]
    },
    {
     "name": "stderr",
     "output_type": "stream",
     "text": [
      "[2023-05-12 12:52:07:126] - INFO - SAIL : Cumulative Pipeline Score: 0.6437736115073882\n",
      "[2023-05-12 12:52:07:127] - INFO - SAIL : Calling Partial_fit() on the pipeline.\n"
     ]
    },
    {
     "name": "stdout",
     "output_type": "stream",
     "text": [
      "[Pipeline] ........ (step 3 of 3) Processing classifier, total=   0.4s\n"
     ]
    },
    {
     "name": "stderr",
     "output_type": "stream",
     "text": [
      "[2023-05-12 12:52:07:424] - INFO - SAIL : Cumulative Pipeline Score: 0.6445243245107266\n",
      "[2023-05-12 12:52:07:425] - INFO - SAIL : Calling Partial_fit() on the pipeline.\n"
     ]
    },
    {
     "name": "stdout",
     "output_type": "stream",
     "text": [
      "[Pipeline] ........ (step 3 of 3) Processing classifier, total=   0.3s\n"
     ]
    },
    {
     "name": "stderr",
     "output_type": "stream",
     "text": [
      "[2023-05-12 12:52:07:743] - INFO - SAIL : Cumulative Pipeline Score: 0.6450180679356992\n",
      "[2023-05-12 12:52:07:744] - INFO - SAIL : Calling Partial_fit() on the pipeline.\n"
     ]
    },
    {
     "name": "stdout",
     "output_type": "stream",
     "text": [
      "[Pipeline] ........ (step 3 of 3) Processing classifier, total=   0.3s\n"
     ]
    },
    {
     "name": "stderr",
     "output_type": "stream",
     "text": [
      "[2023-05-12 12:52:08:15] - INFO - SAIL : Cumulative Pipeline Score: 0.6463044284096962\n",
      "[2023-05-12 12:52:08:17] - INFO - SAIL : Calling Partial_fit() on the pipeline.\n"
     ]
    },
    {
     "name": "stdout",
     "output_type": "stream",
     "text": [
      "[Pipeline] ........ (step 3 of 3) Processing classifier, total=   0.2s\n"
     ]
    },
    {
     "name": "stderr",
     "output_type": "stream",
     "text": [
      "[2023-05-12 12:52:08:328] - INFO - SAIL : Cumulative Pipeline Score: 0.6466926449793964\n",
      "[2023-05-12 12:52:08:329] - INFO - SAIL : Calling Partial_fit() on the pipeline.\n"
     ]
    },
    {
     "name": "stdout",
     "output_type": "stream",
     "text": [
      "[Pipeline] ........ (step 3 of 3) Processing classifier, total=   0.3s\n",
      "[Pipeline] ........ (step 3 of 3) Processing classifier, total=   0.2s\n"
     ]
    },
    {
     "name": "stderr",
     "output_type": "stream",
     "text": [
      "[2023-05-12 12:52:08:608] - INFO - SAIL : Cumulative Pipeline Score: 0.64765223722197\n",
      "[2023-05-12 12:52:08:609] - INFO - SAIL : Calling Partial_fit() on the pipeline.\n",
      "[2023-05-12 12:52:08:936] - INFO - SAIL : Cumulative Pipeline Score: 0.6480857216909335\n",
      "[2023-05-12 12:52:08:937] - INFO - SAIL : Calling Partial_fit() on the pipeline.\n"
     ]
    },
    {
     "name": "stdout",
     "output_type": "stream",
     "text": [
      "[Pipeline] ........ (step 3 of 3) Processing classifier, total=   0.3s\n"
     ]
    },
    {
     "name": "stderr",
     "output_type": "stream",
     "text": [
      "[2023-05-12 12:52:09:267] - INFO - SAIL : Cumulative Pipeline Score: 0.6479302752158769\n",
      "[2023-05-12 12:52:09:268] - INFO - SAIL : Calling Partial_fit() on the pipeline.\n"
     ]
    },
    {
     "name": "stdout",
     "output_type": "stream",
     "text": [
      "[Pipeline] ........ (step 3 of 3) Processing classifier, total=   0.3s\n"
     ]
    },
    {
     "name": "stderr",
     "output_type": "stream",
     "text": [
      "[2023-05-12 12:52:09:624] - INFO - SAIL : Cumulative Pipeline Score: 0.6481568525204217\n",
      "[2023-05-12 12:52:09:624] - INFO - SAIL : Calling Partial_fit() on the pipeline.\n"
     ]
    },
    {
     "name": "stdout",
     "output_type": "stream",
     "text": [
      "[Pipeline] ........ (step 3 of 3) Processing classifier, total=   0.3s\n"
     ]
    },
    {
     "name": "stderr",
     "output_type": "stream",
     "text": [
      "[2023-05-12 12:52:09:930] - INFO - SAIL : Cumulative Pipeline Score: 0.649282432757061\n",
      "[2023-05-12 12:52:09:931] - INFO - SAIL : Calling Partial_fit() on the pipeline.\n"
     ]
    },
    {
     "name": "stdout",
     "output_type": "stream",
     "text": [
      "[Pipeline] ........ (step 3 of 3) Processing classifier, total=   0.3s\n"
     ]
    },
    {
     "name": "stderr",
     "output_type": "stream",
     "text": [
      "[2023-05-12 12:52:10:556] - INFO - SAIL : Cumulative Pipeline Score: 0.6502504363418202\n",
      "[2023-05-12 12:52:10:557] - INFO - SAIL : Calling Partial_fit() on the pipeline.\n"
     ]
    },
    {
     "name": "stdout",
     "output_type": "stream",
     "text": [
      "[Pipeline] ........ (step 3 of 3) Processing classifier, total=   0.6s\n"
     ]
    },
    {
     "name": "stderr",
     "output_type": "stream",
     "text": [
      "[2023-05-12 12:52:10:873] - INFO - SAIL : Cumulative Pipeline Score: 0.6515569746817775\n",
      "[2023-05-12 12:52:10:874] - INFO - SAIL : Calling Partial_fit() on the pipeline.\n"
     ]
    },
    {
     "name": "stdout",
     "output_type": "stream",
     "text": [
      "[Pipeline] ........ (step 3 of 3) Processing classifier, total=   0.3s\n"
     ]
    },
    {
     "name": "stderr",
     "output_type": "stream",
     "text": [
      "[2023-05-12 12:52:11:188] - INFO - SAIL : Cumulative Pipeline Score: 0.6512766559812777\n",
      "[2023-05-12 12:52:11:188] - INFO - SAIL : Calling Partial_fit() on the pipeline.\n"
     ]
    },
    {
     "name": "stdout",
     "output_type": "stream",
     "text": [
      "[Pipeline] ........ (step 3 of 3) Processing classifier, total=   0.3s\n"
     ]
    },
    {
     "name": "stderr",
     "output_type": "stream",
     "text": [
      "[2023-05-12 12:52:11:531] - INFO - SAIL : Cumulative Pipeline Score: 0.6516331666729631\n",
      "[2023-05-12 12:52:11:534] - INFO - SAIL : Calling Partial_fit() on the pipeline.\n"
     ]
    },
    {
     "name": "stdout",
     "output_type": "stream",
     "text": [
      "[Pipeline] ........ (step 3 of 3) Processing classifier, total=   0.3s\n"
     ]
    },
    {
     "name": "stderr",
     "output_type": "stream",
     "text": [
      "[2023-05-12 12:52:11:846] - INFO - SAIL : Cumulative Pipeline Score: 0.6516473636797304\n",
      "[2023-05-12 12:52:11:847] - INFO - SAIL : Calling Partial_fit() on the pipeline.\n"
     ]
    },
    {
     "name": "stdout",
     "output_type": "stream",
     "text": [
      "[Pipeline] ........ (step 3 of 3) Processing classifier, total=   0.3s\n"
     ]
    },
    {
     "name": "stderr",
     "output_type": "stream",
     "text": [
      "[2023-05-12 12:52:12:222] - INFO - SAIL : Cumulative Pipeline Score: 0.6526573526264965\n",
      "[2023-05-12 12:52:12:223] - INFO - SAIL : Calling Partial_fit() on the pipeline.\n"
     ]
    },
    {
     "name": "stdout",
     "output_type": "stream",
     "text": [
      "[Pipeline] ........ (step 3 of 3) Processing classifier, total=   0.3s\n"
     ]
    },
    {
     "name": "stderr",
     "output_type": "stream",
     "text": [
      "[2023-05-12 12:52:12:554] - INFO - SAIL : Cumulative Pipeline Score: 0.6536938395564772\n",
      "[2023-05-12 12:52:12:555] - INFO - SAIL : Calling Partial_fit() on the pipeline.\n"
     ]
    },
    {
     "name": "stdout",
     "output_type": "stream",
     "text": [
      "[Pipeline] ........ (step 3 of 3) Processing classifier, total=   0.3s\n"
     ]
    },
    {
     "name": "stderr",
     "output_type": "stream",
     "text": [
      "[2023-05-12 12:52:12:885] - INFO - SAIL : Cumulative Pipeline Score: 0.6544489218411147\n",
      "[2023-05-12 12:52:12:886] - INFO - SAIL : Calling Partial_fit() on the pipeline.\n"
     ]
    },
    {
     "name": "stdout",
     "output_type": "stream",
     "text": [
      "[Pipeline] ........ (step 3 of 3) Processing classifier, total=   0.3s\n"
     ]
    },
    {
     "name": "stderr",
     "output_type": "stream",
     "text": [
      "[2023-05-12 12:52:13:331] - INFO - SAIL : Cumulative Pipeline Score: 0.6550828294177965\n",
      "[2023-05-12 12:52:13:332] - INFO - SAIL : Calling Partial_fit() on the pipeline.\n"
     ]
    },
    {
     "name": "stdout",
     "output_type": "stream",
     "text": [
      "[Pipeline] ........ (step 3 of 3) Processing classifier, total=   0.4s\n"
     ]
    },
    {
     "name": "stderr",
     "output_type": "stream",
     "text": [
      "[2023-05-12 12:52:13:651] - INFO - SAIL : Cumulative Pipeline Score: 0.6548618387143477\n",
      "[2023-05-12 12:52:13:652] - INFO - SAIL : Calling Partial_fit() on the pipeline.\n"
     ]
    },
    {
     "name": "stdout",
     "output_type": "stream",
     "text": [
      "[Pipeline] ........ (step 3 of 3) Processing classifier, total=   0.3s\n"
     ]
    },
    {
     "name": "stderr",
     "output_type": "stream",
     "text": [
      "[2023-05-12 12:52:13:963] - INFO - SAIL : Cumulative Pipeline Score: 0.6544128040100254\n",
      "[2023-05-12 12:52:13:964] - INFO - SAIL : Calling Partial_fit() on the pipeline.\n"
     ]
    },
    {
     "name": "stdout",
     "output_type": "stream",
     "text": [
      "[Pipeline] ........ (step 3 of 3) Processing classifier, total=   0.3s\n"
     ]
    },
    {
     "name": "stderr",
     "output_type": "stream",
     "text": [
      "[2023-05-12 12:52:14:333] - INFO - SAIL : Cumulative Pipeline Score: 0.6546929310795416\n",
      "[2023-05-12 12:52:14:334] - INFO - SAIL : Calling Partial_fit() on the pipeline.\n"
     ]
    },
    {
     "name": "stdout",
     "output_type": "stream",
     "text": [
      "[Pipeline] ........ (step 3 of 3) Processing classifier, total=   0.3s\n"
     ]
    },
    {
     "name": "stderr",
     "output_type": "stream",
     "text": [
      "[2023-05-12 12:52:14:697] - INFO - SAIL : Cumulative Pipeline Score: 0.6551169826174891\n",
      "[2023-05-12 12:52:14:698] - INFO - SAIL : Calling Partial_fit() on the pipeline.\n"
     ]
    },
    {
     "name": "stdout",
     "output_type": "stream",
     "text": [
      "[Pipeline] ........ (step 3 of 3) Processing classifier, total=   0.3s\n"
     ]
    },
    {
     "name": "stderr",
     "output_type": "stream",
     "text": [
      "[2023-05-12 12:52:15:46] - INFO - SAIL : Cumulative Pipeline Score: 0.6553679687227982\n",
      "[2023-05-12 12:52:15:47] - INFO - SAIL : Calling Partial_fit() on the pipeline.\n"
     ]
    },
    {
     "name": "stdout",
     "output_type": "stream",
     "text": [
      "[Pipeline] ........ (step 3 of 3) Processing classifier, total=   0.3s\n"
     ]
    },
    {
     "name": "stderr",
     "output_type": "stream",
     "text": [
      "[2023-05-12 12:52:15:445] - INFO - SAIL : Cumulative Pipeline Score: 0.6558698277353205\n",
      "[2023-05-12 12:52:15:446] - INFO - SAIL : Calling Partial_fit() on the pipeline.\n"
     ]
    },
    {
     "name": "stdout",
     "output_type": "stream",
     "text": [
      "[Pipeline] ........ (step 3 of 3) Processing classifier, total=   0.4s\n"
     ]
    },
    {
     "name": "stderr",
     "output_type": "stream",
     "text": [
      "[2023-05-12 12:52:15:811] - INFO - SAIL : Cumulative Pipeline Score: 0.656087399203187\n",
      "[2023-05-12 12:52:15:812] - INFO - SAIL : Calling Partial_fit() on the pipeline.\n"
     ]
    },
    {
     "name": "stdout",
     "output_type": "stream",
     "text": [
      "[Pipeline] ........ (step 3 of 3) Processing classifier, total=   0.3s\n"
     ]
    },
    {
     "name": "stderr",
     "output_type": "stream",
     "text": [
      "[2023-05-12 12:52:16:263] - INFO - SAIL : Cumulative Pipeline Score: 0.6565444996378025\n",
      "[2023-05-12 12:52:16:264] - INFO - SAIL : Calling Partial_fit() on the pipeline.\n"
     ]
    },
    {
     "name": "stdout",
     "output_type": "stream",
     "text": [
      "[Pipeline] ........ (step 3 of 3) Processing classifier, total=   0.4s\n"
     ]
    },
    {
     "name": "stderr",
     "output_type": "stream",
     "text": [
      "[2023-05-12 12:52:16:634] - INFO - SAIL : Cumulative Pipeline Score: 0.6570283896777727\n",
      "[2023-05-12 12:52:16:635] - INFO - SAIL : Calling Partial_fit() on the pipeline.\n"
     ]
    },
    {
     "name": "stdout",
     "output_type": "stream",
     "text": [
      "[Pipeline] ........ (step 3 of 3) Processing classifier, total=   0.3s\n"
     ]
    },
    {
     "name": "stderr",
     "output_type": "stream",
     "text": [
      "[2023-05-12 12:52:17:23] - INFO - SAIL : Cumulative Pipeline Score: 0.6571990793307032\n",
      "[2023-05-12 12:52:17:24] - INFO - SAIL : Calling Partial_fit() on the pipeline.\n"
     ]
    },
    {
     "name": "stdout",
     "output_type": "stream",
     "text": [
      "[Pipeline] ........ (step 3 of 3) Processing classifier, total=   0.4s\n"
     ]
    },
    {
     "name": "stderr",
     "output_type": "stream",
     "text": [
      "[2023-05-12 12:52:17:421] - INFO - SAIL : Cumulative Pipeline Score: 0.657225584891308\n",
      "[2023-05-12 12:52:17:421] - INFO - SAIL : Calling Partial_fit() on the pipeline.\n"
     ]
    },
    {
     "name": "stdout",
     "output_type": "stream",
     "text": [
      "[Pipeline] ........ (step 3 of 3) Processing classifier, total=   0.4s\n"
     ]
    },
    {
     "name": "stderr",
     "output_type": "stream",
     "text": [
      "[2023-05-12 12:52:17:841] - INFO - SAIL : Cumulative Pipeline Score: 0.6563321489221401\n",
      "[2023-05-12 12:52:17:843] - INFO - SAIL : Calling Partial_fit() on the pipeline.\n"
     ]
    },
    {
     "name": "stdout",
     "output_type": "stream",
     "text": [
      "[Pipeline] ........ (step 3 of 3) Processing classifier, total=   0.4s\n"
     ]
    },
    {
     "name": "stderr",
     "output_type": "stream",
     "text": [
      "[2023-05-12 12:52:18:290] - INFO - SAIL : Cumulative Pipeline Score: 0.6560634165446184\n",
      "[2023-05-12 12:52:18:290] - INFO - SAIL : Calling Partial_fit() on the pipeline.\n"
     ]
    },
    {
     "name": "stdout",
     "output_type": "stream",
     "text": [
      "[Pipeline] ........ (step 3 of 3) Processing classifier, total=   0.4s\n"
     ]
    },
    {
     "name": "stderr",
     "output_type": "stream",
     "text": [
      "[2023-05-12 12:52:18:765] - INFO - SAIL : Cumulative Pipeline Score: 0.655360800096816\n",
      "[2023-05-12 12:52:18:766] - INFO - SAIL : Calling Partial_fit() on the pipeline.\n"
     ]
    },
    {
     "name": "stdout",
     "output_type": "stream",
     "text": [
      "[Pipeline] ........ (step 3 of 3) Processing classifier, total=   0.4s\n"
     ]
    },
    {
     "name": "stderr",
     "output_type": "stream",
     "text": [
      "[2023-05-12 12:52:19:118] - INFO - SAIL : Cumulative Pipeline Score: 0.6546029314356756\n",
      "[2023-05-12 12:52:19:119] - INFO - SAIL : Calling Partial_fit() on the pipeline.\n"
     ]
    },
    {
     "name": "stdout",
     "output_type": "stream",
     "text": [
      "[Pipeline] ........ (step 3 of 3) Processing classifier, total=   0.3s\n"
     ]
    },
    {
     "name": "stderr",
     "output_type": "stream",
     "text": [
      "[2023-05-12 12:52:19:579] - INFO - SAIL : Cumulative Pipeline Score: 0.6541385297644084\n",
      "[2023-05-12 12:52:19:580] - INFO - SAIL : Calling Partial_fit() on the pipeline.\n"
     ]
    },
    {
     "name": "stdout",
     "output_type": "stream",
     "text": [
      "[Pipeline] ........ (step 3 of 3) Processing classifier, total=   0.4s\n"
     ]
    },
    {
     "name": "stderr",
     "output_type": "stream",
     "text": [
      "[2023-05-12 12:52:20:199] - INFO - SAIL : Cumulative Pipeline Score: 0.6546283389528353\n",
      "[2023-05-12 12:52:20:200] - INFO - SAIL : Calling Partial_fit() on the pipeline.\n"
     ]
    },
    {
     "name": "stdout",
     "output_type": "stream",
     "text": [
      "[Pipeline] ........ (step 3 of 3) Processing classifier, total=   0.6s\n"
     ]
    },
    {
     "name": "stderr",
     "output_type": "stream",
     "text": [
      "[2023-05-12 12:52:20:550] - INFO - SAIL : Cumulative Pipeline Score: 0.6548032398265762\n",
      "[2023-05-12 12:52:20:551] - INFO - SAIL : Calling Partial_fit() on the pipeline.\n"
     ]
    },
    {
     "name": "stdout",
     "output_type": "stream",
     "text": [
      "[Pipeline] ........ (step 3 of 3) Processing classifier, total=   0.3s\n"
     ]
    },
    {
     "name": "stderr",
     "output_type": "stream",
     "text": [
      "[2023-05-12 12:52:20:925] - INFO - SAIL : Cumulative Pipeline Score: 0.6530262372212203\n",
      "[2023-05-12 12:52:20:925] - INFO - SAIL : Calling Partial_fit() on the pipeline.\n"
     ]
    },
    {
     "name": "stdout",
     "output_type": "stream",
     "text": [
      "[Pipeline] ........ (step 3 of 3) Processing classifier, total=   0.3s\n"
     ]
    },
    {
     "name": "stderr",
     "output_type": "stream",
     "text": [
      "[2023-05-12 12:52:21:279] - INFO - SAIL : Cumulative Pipeline Score: 0.6532923834877068\n",
      "[2023-05-12 12:52:21:280] - INFO - SAIL : Calling Partial_fit() on the pipeline.\n"
     ]
    },
    {
     "name": "stdout",
     "output_type": "stream",
     "text": [
      "[Pipeline] ........ (step 3 of 3) Processing classifier, total=   0.3s\n"
     ]
    },
    {
     "name": "stderr",
     "output_type": "stream",
     "text": [
      "[2023-05-12 12:52:21:746] - INFO - SAIL : Cumulative Pipeline Score: 0.6538672485821084\n",
      "[2023-05-12 12:52:21:747] - INFO - SAIL : Calling Partial_fit() on the pipeline.\n"
     ]
    },
    {
     "name": "stdout",
     "output_type": "stream",
     "text": [
      "[Pipeline] ........ (step 3 of 3) Processing classifier, total=   0.4s\n"
     ]
    },
    {
     "name": "stderr",
     "output_type": "stream",
     "text": [
      "[2023-05-12 12:52:22:87] - INFO - SAIL : Cumulative Pipeline Score: 0.6535376845717256\n",
      "[2023-05-12 12:52:22:88] - INFO - SAIL : Calling Partial_fit() on the pipeline.\n"
     ]
    },
    {
     "name": "stdout",
     "output_type": "stream",
     "text": [
      "[Pipeline] ........ (step 3 of 3) Processing classifier, total=   0.3s\n"
     ]
    },
    {
     "name": "stderr",
     "output_type": "stream",
     "text": [
      "[2023-05-12 12:52:22:482] - INFO - SAIL : Cumulative Pipeline Score: 0.6516263476956006\n",
      "[2023-05-12 12:52:22:483] - INFO - SAIL : Calling Partial_fit() on the pipeline.\n"
     ]
    },
    {
     "name": "stdout",
     "output_type": "stream",
     "text": [
      "[Pipeline] ........ (step 3 of 3) Processing classifier, total=   0.4s\n"
     ]
    },
    {
     "name": "stderr",
     "output_type": "stream",
     "text": [
      "[2023-05-12 12:52:22:887] - INFO - SAIL : Cumulative Pipeline Score: 0.6517703719033413\n",
      "[2023-05-12 12:52:22:888] - INFO - SAIL : Calling Partial_fit() on the pipeline.\n"
     ]
    },
    {
     "name": "stdout",
     "output_type": "stream",
     "text": [
      "[Pipeline] ........ (step 3 of 3) Processing classifier, total=   0.4s\n"
     ]
    },
    {
     "name": "stderr",
     "output_type": "stream",
     "text": [
      "[2023-05-12 12:52:23:319] - INFO - SAIL : Cumulative Pipeline Score: 0.6516135903061157\n",
      "[2023-05-12 12:52:23:319] - INFO - SAIL : Calling Partial_fit() on the pipeline.\n"
     ]
    },
    {
     "name": "stdout",
     "output_type": "stream",
     "text": [
      "[Pipeline] ........ (step 3 of 3) Processing classifier, total=   0.4s\n"
     ]
    },
    {
     "name": "stderr",
     "output_type": "stream",
     "text": [
      "[2023-05-12 12:52:23:704] - INFO - SAIL : Cumulative Pipeline Score: 0.6517742055363428\n",
      "[2023-05-12 12:52:23:705] - INFO - SAIL : Calling Partial_fit() on the pipeline.\n"
     ]
    },
    {
     "name": "stdout",
     "output_type": "stream",
     "text": [
      "[Pipeline] ........ (step 3 of 3) Processing classifier, total=   0.4s\n"
     ]
    },
    {
     "name": "stderr",
     "output_type": "stream",
     "text": [
      "[2023-05-12 12:52:24:82] - INFO - SAIL : Cumulative Pipeline Score: 0.6517503034855845\n",
      "[2023-05-12 12:52:24:83] - INFO - SAIL : Calling Partial_fit() on the pipeline.\n"
     ]
    },
    {
     "name": "stdout",
     "output_type": "stream",
     "text": [
      "[Pipeline] ........ (step 3 of 3) Processing classifier, total=   0.3s\n"
     ]
    },
    {
     "name": "stderr",
     "output_type": "stream",
     "text": [
      "[2023-05-12 12:52:24:444] - INFO - SAIL : Cumulative Pipeline Score: 0.6524689421259176\n",
      "[2023-05-12 12:52:24:445] - INFO - SAIL : Calling Partial_fit() on the pipeline.\n"
     ]
    },
    {
     "name": "stdout",
     "output_type": "stream",
     "text": [
      "[Pipeline] ........ (step 3 of 3) Processing classifier, total=   0.3s\n"
     ]
    },
    {
     "name": "stderr",
     "output_type": "stream",
     "text": [
      "[2023-05-12 12:52:24:786] - INFO - SAIL : Cumulative Pipeline Score: 0.6532442029321337\n",
      "[2023-05-12 12:52:24:786] - INFO - SAIL : Calling Partial_fit() on the pipeline.\n"
     ]
    },
    {
     "name": "stdout",
     "output_type": "stream",
     "text": [
      "[Pipeline] ........ (step 3 of 3) Processing classifier, total=   0.3s\n"
     ]
    },
    {
     "name": "stderr",
     "output_type": "stream",
     "text": [
      "[2023-05-12 12:52:25:105] - INFO - SAIL : Cumulative Pipeline Score: 0.6536982168336847\n",
      "[2023-05-12 12:52:25:106] - INFO - SAIL : Calling Partial_fit() on the pipeline.\n"
     ]
    },
    {
     "name": "stdout",
     "output_type": "stream",
     "text": [
      "[Pipeline] ........ (step 3 of 3) Processing classifier, total=   0.3s\n"
     ]
    },
    {
     "name": "stderr",
     "output_type": "stream",
     "text": [
      "[2023-05-12 12:52:25:399] - INFO - SAIL : Cumulative Pipeline Score: 0.6531677605906017\n",
      "[2023-05-12 12:52:25:400] - INFO - SAIL : Calling Partial_fit() on the pipeline.\n"
     ]
    },
    {
     "name": "stdout",
     "output_type": "stream",
     "text": [
      "[Pipeline] ........ (step 3 of 3) Processing classifier, total=   0.3s\n"
     ]
    },
    {
     "name": "stderr",
     "output_type": "stream",
     "text": [
      "[2023-05-12 12:52:25:782] - INFO - SAIL : Cumulative Pipeline Score: 0.6529091172473969\n",
      "[2023-05-12 12:52:25:782] - INFO - SAIL : Calling Partial_fit() on the pipeline.\n"
     ]
    },
    {
     "name": "stdout",
     "output_type": "stream",
     "text": [
      "[Pipeline] ........ (step 3 of 3) Processing classifier, total=   0.4s\n"
     ]
    },
    {
     "name": "stderr",
     "output_type": "stream",
     "text": [
      "[2023-05-12 12:52:26:133] - INFO - SAIL : Cumulative Pipeline Score: 0.652155981093224\n",
      "[2023-05-12 12:52:26:134] - INFO - SAIL : Calling Partial_fit() on the pipeline.\n"
     ]
    },
    {
     "name": "stdout",
     "output_type": "stream",
     "text": [
      "[Pipeline] ........ (step 3 of 3) Processing classifier, total=   0.3s\n"
     ]
    },
    {
     "name": "stderr",
     "output_type": "stream",
     "text": [
      "[2023-05-12 12:52:26:480] - INFO - SAIL : Cumulative Pipeline Score: 0.6521129722491199\n",
      "[2023-05-12 12:52:26:481] - INFO - SAIL : Calling Partial_fit() on the pipeline.\n"
     ]
    },
    {
     "name": "stdout",
     "output_type": "stream",
     "text": [
      "[Pipeline] ........ (step 3 of 3) Processing classifier, total=   0.3s\n"
     ]
    },
    {
     "name": "stderr",
     "output_type": "stream",
     "text": [
      "[2023-05-12 12:52:26:859] - INFO - SAIL : Cumulative Pipeline Score: 0.6519122395621995\n",
      "[2023-05-12 12:52:26:860] - INFO - SAIL : Calling Partial_fit() on the pipeline.\n"
     ]
    },
    {
     "name": "stdout",
     "output_type": "stream",
     "text": [
      "[Pipeline] ........ (step 3 of 3) Processing classifier, total=   0.3s\n"
     ]
    },
    {
     "name": "stderr",
     "output_type": "stream",
     "text": [
      "[2023-05-12 12:52:27:182] - INFO - SAIL : Cumulative Pipeline Score: 0.6512973369844126\n",
      "[2023-05-12 12:52:27:183] - INFO - SAIL : Calling Partial_fit() on the pipeline.\n"
     ]
    },
    {
     "name": "stdout",
     "output_type": "stream",
     "text": [
      "[Pipeline] ........ (step 3 of 3) Processing classifier, total=   0.3s\n"
     ]
    },
    {
     "name": "stderr",
     "output_type": "stream",
     "text": [
      "[2023-05-12 12:52:27:675] - INFO - SAIL : Cumulative Pipeline Score: 0.6510275275847353\n",
      "[2023-05-12 12:52:27:676] - INFO - SAIL : Calling Partial_fit() on the pipeline.\n"
     ]
    },
    {
     "name": "stdout",
     "output_type": "stream",
     "text": [
      "[Pipeline] ........ (step 3 of 3) Processing classifier, total=   0.4s\n"
     ]
    },
    {
     "name": "stderr",
     "output_type": "stream",
     "text": [
      "[2023-05-12 12:52:28:36] - INFO - SAIL : Cumulative Pipeline Score: 0.6513758766332666\n",
      "[2023-05-12 12:52:28:37] - INFO - SAIL : Calling Partial_fit() on the pipeline.\n"
     ]
    },
    {
     "name": "stdout",
     "output_type": "stream",
     "text": [
      "[Pipeline] ........ (step 3 of 3) Processing classifier, total=   0.3s\n"
     ]
    },
    {
     "name": "stderr",
     "output_type": "stream",
     "text": [
      "[2023-05-12 12:52:28:427] - INFO - SAIL : Cumulative Pipeline Score: 0.6512504462782863\n",
      "[2023-05-12 12:52:28:428] - INFO - SAIL : Calling Partial_fit() on the pipeline.\n"
     ]
    },
    {
     "name": "stdout",
     "output_type": "stream",
     "text": [
      "[Pipeline] ........ (step 3 of 3) Processing classifier, total=   0.3s\n"
     ]
    },
    {
     "name": "stderr",
     "output_type": "stream",
     "text": [
      "[2023-05-12 12:52:28:799] - INFO - SAIL : Cumulative Pipeline Score: 0.6520932119223064\n",
      "[2023-05-12 12:52:28:801] - INFO - SAIL : Calling Partial_fit() on the pipeline.\n"
     ]
    },
    {
     "name": "stdout",
     "output_type": "stream",
     "text": [
      "[Pipeline] ........ (step 3 of 3) Processing classifier, total=   0.3s\n"
     ]
    },
    {
     "name": "stderr",
     "output_type": "stream",
     "text": [
      "[2023-05-12 12:52:29:157] - INFO - SAIL : Cumulative Pipeline Score: 0.6520811335368208\n",
      "[2023-05-12 12:52:29:158] - INFO - SAIL : Calling Partial_fit() on the pipeline.\n"
     ]
    },
    {
     "name": "stdout",
     "output_type": "stream",
     "text": [
      "[Pipeline] ........ (step 3 of 3) Processing classifier, total=   0.3s\n"
     ]
    },
    {
     "name": "stderr",
     "output_type": "stream",
     "text": [
      "[2023-05-12 12:52:29:496] - INFO - SAIL : Cumulative Pipeline Score: 0.6524198913445496\n",
      "[2023-05-12 12:52:29:497] - INFO - SAIL : Calling Partial_fit() on the pipeline.\n"
     ]
    },
    {
     "name": "stdout",
     "output_type": "stream",
     "text": [
      "[Pipeline] ........ (step 3 of 3) Processing classifier, total=   0.3s\n"
     ]
    },
    {
     "name": "stderr",
     "output_type": "stream",
     "text": [
      "[2023-05-12 12:52:29:919] - INFO - SAIL : Cumulative Pipeline Score: 0.6527421177868622\n",
      "[2023-05-12 12:52:29:920] - INFO - SAIL : Calling Partial_fit() on the pipeline.\n"
     ]
    },
    {
     "name": "stdout",
     "output_type": "stream",
     "text": [
      "[Pipeline] ........ (step 3 of 3) Processing classifier, total=   0.4s\n"
     ]
    },
    {
     "name": "stderr",
     "output_type": "stream",
     "text": [
      "[2023-05-12 12:52:30:491] - INFO - SAIL : Cumulative Pipeline Score: 0.6529373880962522\n",
      "[2023-05-12 12:52:30:492] - INFO - SAIL : Calling Partial_fit() on the pipeline.\n"
     ]
    },
    {
     "name": "stdout",
     "output_type": "stream",
     "text": [
      "[Pipeline] ........ (step 3 of 3) Processing classifier, total=   0.5s\n"
     ]
    },
    {
     "name": "stderr",
     "output_type": "stream",
     "text": [
      "[2023-05-12 12:52:30:843] - INFO - SAIL : Cumulative Pipeline Score: 0.6529736351813291\n",
      "[2023-05-12 12:52:30:844] - INFO - SAIL : Calling Partial_fit() on the pipeline.\n"
     ]
    },
    {
     "name": "stdout",
     "output_type": "stream",
     "text": [
      "[Pipeline] ........ (step 3 of 3) Processing classifier, total=   0.3s\n"
     ]
    },
    {
     "name": "stderr",
     "output_type": "stream",
     "text": [
      "[2023-05-12 12:52:31:169] - INFO - SAIL : Cumulative Pipeline Score: 0.6530362002319489\n",
      "[2023-05-12 12:52:31:170] - INFO - SAIL : Calling Partial_fit() on the pipeline.\n"
     ]
    },
    {
     "name": "stdout",
     "output_type": "stream",
     "text": [
      "[Pipeline] ........ (step 3 of 3) Processing classifier, total=   0.3s\n"
     ]
    },
    {
     "name": "stderr",
     "output_type": "stream",
     "text": [
      "[2023-05-12 12:52:31:485] - INFO - SAIL : Cumulative Pipeline Score: 0.6527450711493962\n",
      "[2023-05-12 12:52:31:486] - INFO - SAIL : Calling Partial_fit() on the pipeline.\n"
     ]
    },
    {
     "name": "stdout",
     "output_type": "stream",
     "text": [
      "[Pipeline] ........ (step 3 of 3) Processing classifier, total=   0.3s\n"
     ]
    },
    {
     "name": "stderr",
     "output_type": "stream",
     "text": [
      "[2023-05-12 12:52:31:792] - INFO - SAIL : Cumulative Pipeline Score: 0.6532531157577731\n",
      "[2023-05-12 12:52:31:793] - INFO - SAIL : Calling Partial_fit() on the pipeline.\n"
     ]
    },
    {
     "name": "stdout",
     "output_type": "stream",
     "text": [
      "[Pipeline] ........ (step 3 of 3) Processing classifier, total=   0.3s\n"
     ]
    },
    {
     "name": "stderr",
     "output_type": "stream",
     "text": [
      "[2023-05-12 12:52:32:163] - INFO - SAIL : Cumulative Pipeline Score: 0.6530683468130598\n",
      "[2023-05-12 12:52:32:164] - INFO - SAIL : Calling Partial_fit() on the pipeline.\n"
     ]
    },
    {
     "name": "stdout",
     "output_type": "stream",
     "text": [
      "[Pipeline] ........ (step 3 of 3) Processing classifier, total=   0.3s\n"
     ]
    },
    {
     "name": "stderr",
     "output_type": "stream",
     "text": [
      "[2023-05-12 12:52:32:533] - INFO - SAIL : Cumulative Pipeline Score: 0.6533308334352042\n",
      "[2023-05-12 12:52:32:533] - INFO - SAIL : Calling Partial_fit() on the pipeline.\n"
     ]
    },
    {
     "name": "stdout",
     "output_type": "stream",
     "text": [
      "[Pipeline] ........ (step 3 of 3) Processing classifier, total=   0.3s\n"
     ]
    },
    {
     "name": "stderr",
     "output_type": "stream",
     "text": [
      "[2023-05-12 12:52:32:873] - INFO - SAIL : Cumulative Pipeline Score: 0.6534986790251119\n",
      "[2023-05-12 12:52:32:874] - INFO - SAIL : Calling Partial_fit() on the pipeline.\n"
     ]
    },
    {
     "name": "stdout",
     "output_type": "stream",
     "text": [
      "[Pipeline] ........ (step 3 of 3) Processing classifier, total=   0.3s\n"
     ]
    },
    {
     "name": "stderr",
     "output_type": "stream",
     "text": [
      "[2023-05-12 12:52:33:208] - INFO - SAIL : Cumulative Pipeline Score: 0.653448388014102\n",
      "[2023-05-12 12:52:33:209] - INFO - SAIL : Calling Partial_fit() on the pipeline.\n"
     ]
    },
    {
     "name": "stdout",
     "output_type": "stream",
     "text": [
      "[Pipeline] ........ (step 3 of 3) Processing classifier, total=   0.3s\n"
     ]
    },
    {
     "name": "stderr",
     "output_type": "stream",
     "text": [
      "[2023-05-12 12:52:33:532] - INFO - SAIL : Cumulative Pipeline Score: 0.6533801965575892\n",
      "[2023-05-12 12:52:33:533] - INFO - SAIL : Calling Partial_fit() on the pipeline.\n"
     ]
    },
    {
     "name": "stdout",
     "output_type": "stream",
     "text": [
      "[Pipeline] ........ (step 3 of 3) Processing classifier, total=   0.3s\n"
     ]
    },
    {
     "name": "stderr",
     "output_type": "stream",
     "text": [
      "[2023-05-12 12:52:33:910] - INFO - SAIL : Cumulative Pipeline Score: 0.6536308272577811\n",
      "[2023-05-12 12:52:33:914] - INFO - SAIL : Calling Partial_fit() on the pipeline.\n"
     ]
    },
    {
     "name": "stdout",
     "output_type": "stream",
     "text": [
      "[Pipeline] ........ (step 3 of 3) Processing classifier, total=   0.3s\n"
     ]
    },
    {
     "name": "stderr",
     "output_type": "stream",
     "text": [
      "[2023-05-12 12:52:34:406] - INFO - SAIL : Cumulative Pipeline Score: 0.653727811263483\n",
      "[2023-05-12 12:52:34:407] - INFO - SAIL : Calling Partial_fit() on the pipeline.\n"
     ]
    },
    {
     "name": "stdout",
     "output_type": "stream",
     "text": [
      "[Pipeline] ........ (step 3 of 3) Processing classifier, total=   0.5s\n"
     ]
    },
    {
     "name": "stderr",
     "output_type": "stream",
     "text": [
      "[2023-05-12 12:52:34:862] - INFO - SAIL : Cumulative Pipeline Score: 0.6539224307122322\n",
      "[2023-05-12 12:52:34:862] - INFO - SAIL : Calling Partial_fit() on the pipeline.\n"
     ]
    },
    {
     "name": "stdout",
     "output_type": "stream",
     "text": [
      "[Pipeline] ........ (step 3 of 3) Processing classifier, total=   0.4s\n"
     ]
    },
    {
     "name": "stderr",
     "output_type": "stream",
     "text": [
      "[2023-05-12 12:52:35:295] - INFO - SAIL : Cumulative Pipeline Score: 0.6545831302192384\n",
      "[2023-05-12 12:52:35:296] - INFO - SAIL : Calling Partial_fit() on the pipeline.\n"
     ]
    },
    {
     "name": "stdout",
     "output_type": "stream",
     "text": [
      "[Pipeline] ........ (step 3 of 3) Processing classifier, total=   0.4s\n"
     ]
    },
    {
     "name": "stderr",
     "output_type": "stream",
     "text": [
      "[2023-05-12 12:52:35:749] - INFO - SAIL : Cumulative Pipeline Score: 0.654735302467252\n",
      "[2023-05-12 12:52:35:750] - INFO - SAIL : Calling Partial_fit() on the pipeline.\n"
     ]
    },
    {
     "name": "stdout",
     "output_type": "stream",
     "text": [
      "[Pipeline] ........ (step 3 of 3) Processing classifier, total=   0.4s\n"
     ]
    },
    {
     "name": "stderr",
     "output_type": "stream",
     "text": [
      "[2023-05-12 12:52:36:52] - INFO - SAIL : Cumulative Pipeline Score: 0.654327381682971\n",
      "[2023-05-12 12:52:36:53] - INFO - SAIL : Calling Partial_fit() on the pipeline.\n"
     ]
    },
    {
     "name": "stdout",
     "output_type": "stream",
     "text": [
      "[Pipeline] ........ (step 3 of 3) Processing classifier, total=   0.3s\n"
     ]
    },
    {
     "name": "stderr",
     "output_type": "stream",
     "text": [
      "[2023-05-12 12:52:36:401] - INFO - SAIL : Cumulative Pipeline Score: 0.6543356719464379\n",
      "[2023-05-12 12:52:36:402] - INFO - SAIL : Calling Partial_fit() on the pipeline.\n"
     ]
    },
    {
     "name": "stdout",
     "output_type": "stream",
     "text": [
      "[Pipeline] ........ (step 3 of 3) Processing classifier, total=   0.3s\n",
      "[Pipeline] ........ (step 3 of 3) Processing classifier, total=   0.3s\n"
     ]
    }
   ],
   "source": [
    "y_preds = []\n",
    "y_true = []\n",
    "batch_size = 50\n",
    "\n",
    "start = 0\n",
    "for end in range(50, 15351, batch_size):\n",
    "\n",
    "    X_train = X.iloc[start:end]\n",
    "    y_train = y.iloc[start:end]\n",
    "\n",
    "    if end > 1000: # search_data_size is 1000\n",
    "        preds = pipeline_selection.predict(X_train)\n",
    "        y_preds.extend(list(preds))\n",
    "        y_true.extend(list(y_train))\n",
    "\n",
    "    pipeline_selection.partial_fit(X_train, y_train)\n",
    "    start = end"
   ]
  },
  {
   "attachments": {},
   "cell_type": "markdown",
   "metadata": {},
   "source": [
    "#### Final Score"
   ]
  },
  {
   "cell_type": "code",
   "execution_count": 9,
   "metadata": {},
   "outputs": [
    {
     "data": {
      "text/plain": [
       "0.6543356719464379"
      ]
     },
     "execution_count": 9,
     "metadata": {},
     "output_type": "execute_result"
    }
   ],
   "source": [
    "pipeline_selection.cumulative_score"
   ]
  },
  {
   "cell_type": "code",
   "execution_count": 11,
   "metadata": {},
   "outputs": [
    {
     "data": {
      "application/vnd.plotly.v1+json": {
       "config": {
        "plotlyServerURL": "https://plot.ly"
       },
       "data": [
        {
         "hovertemplate": "variable=y_true<br>index=%{x}<br>value=%{y}<extra></extra>",
         "legendgroup": "y_true",
         "line": {
          "color": "#636efa",
          "dash": "solid"
         },
         "marker": {
          "symbol": "circle"
         },
         "mode": "lines",
         "name": "y_true",
         "orientation": "v",
         "showlegend": true,
         "type": "scatter",
         "x": [
          0,
          1,
          2,
          3,
          4,
          5,
          6,
          7,
          8,
          9,
          10,
          11,
          12,
          13,
          14,
          15,
          16,
          17,
          18,
          19,
          20,
          21,
          22,
          23,
          24,
          25,
          26,
          27,
          28,
          29,
          30,
          31,
          32,
          33,
          34,
          35,
          36,
          37,
          38,
          39,
          40,
          41,
          42,
          43,
          44,
          45,
          46,
          47,
          48,
          49,
          50,
          51,
          52,
          53,
          54,
          55,
          56,
          57,
          58,
          59,
          60,
          61,
          62,
          63,
          64,
          65,
          66,
          67,
          68,
          69,
          70,
          71,
          72,
          73,
          74,
          75,
          76,
          77,
          78,
          79,
          80,
          81,
          82,
          83,
          84,
          85,
          86,
          87,
          88,
          89,
          90,
          91,
          92,
          93,
          94,
          95,
          96,
          97,
          98,
          99,
          100,
          101,
          102,
          103,
          104,
          105,
          106,
          107,
          108,
          109,
          110,
          111,
          112,
          113,
          114,
          115,
          116,
          117,
          118,
          119,
          120,
          121,
          122,
          123,
          124,
          125,
          126,
          127,
          128,
          129,
          130,
          131,
          132,
          133,
          134,
          135,
          136,
          137,
          138,
          139,
          140,
          141,
          142,
          143,
          144,
          145,
          146,
          147,
          148,
          149,
          150,
          151,
          152,
          153,
          154,
          155,
          156,
          157,
          158,
          159,
          160,
          161,
          162,
          163,
          164,
          165,
          166,
          167,
          168,
          169,
          170,
          171,
          172,
          173,
          174,
          175,
          176,
          177,
          178,
          179,
          180,
          181,
          182,
          183,
          184,
          185,
          186,
          187,
          188,
          189,
          190,
          191,
          192,
          193,
          194,
          195,
          196,
          197,
          198,
          199,
          200,
          201,
          202,
          203,
          204,
          205,
          206,
          207,
          208,
          209,
          210,
          211,
          212,
          213,
          214,
          215,
          216,
          217,
          218,
          219,
          220,
          221,
          222,
          223,
          224,
          225,
          226,
          227,
          228,
          229,
          230,
          231,
          232,
          233,
          234,
          235,
          236,
          237,
          238,
          239,
          240,
          241,
          242,
          243,
          244,
          245,
          246,
          247,
          248,
          249,
          250,
          251,
          252,
          253,
          254,
          255,
          256,
          257,
          258,
          259,
          260,
          261,
          262,
          263,
          264,
          265,
          266,
          267,
          268,
          269,
          270,
          271,
          272,
          273,
          274,
          275,
          276,
          277,
          278,
          279,
          280,
          281,
          282,
          283,
          284,
          285,
          286,
          287,
          288,
          289,
          290,
          291,
          292,
          293,
          294,
          295,
          296,
          297,
          298,
          299,
          300,
          301,
          302,
          303,
          304,
          305,
          306,
          307,
          308,
          309,
          310,
          311,
          312,
          313,
          314,
          315,
          316,
          317,
          318,
          319,
          320,
          321,
          322,
          323,
          324,
          325,
          326,
          327,
          328,
          329,
          330,
          331,
          332,
          333,
          334,
          335,
          336,
          337,
          338,
          339,
          340,
          341,
          342,
          343,
          344,
          345,
          346,
          347,
          348,
          349,
          350,
          351,
          352,
          353,
          354,
          355,
          356,
          357,
          358,
          359,
          360,
          361,
          362,
          363,
          364,
          365,
          366,
          367,
          368,
          369,
          370,
          371,
          372,
          373,
          374,
          375,
          376,
          377,
          378,
          379,
          380,
          381,
          382,
          383,
          384,
          385,
          386,
          387,
          388,
          389,
          390,
          391,
          392,
          393,
          394,
          395,
          396,
          397,
          398,
          399,
          400,
          401,
          402,
          403,
          404,
          405,
          406,
          407,
          408,
          409,
          410,
          411,
          412,
          413,
          414,
          415,
          416,
          417,
          418,
          419,
          420,
          421,
          422,
          423,
          424,
          425,
          426,
          427,
          428,
          429,
          430,
          431,
          432,
          433,
          434,
          435,
          436,
          437,
          438,
          439,
          440,
          441,
          442,
          443,
          444,
          445,
          446,
          447,
          448,
          449,
          450,
          451,
          452,
          453,
          454,
          455,
          456,
          457,
          458,
          459,
          460,
          461,
          462,
          463,
          464,
          465,
          466,
          467,
          468,
          469,
          470,
          471,
          472,
          473,
          474,
          475,
          476,
          477,
          478,
          479,
          480,
          481,
          482,
          483,
          484,
          485,
          486,
          487,
          488,
          489,
          490,
          491,
          492,
          493,
          494,
          495,
          496,
          497,
          498,
          499
         ],
         "xaxis": "x",
         "y": [
          80.19166667,
          78.95833333,
          97.98333333,
          99.15833333,
          90.75,
          83.75833333,
          64.98333333,
          61.30833333,
          47.68333333,
          32.95833333,
          26.83333333,
          20.71666667,
          14.44166667,
          16.08333333,
          19.51666667,
          25.64166667,
          19.16666667,
          24.54166667,
          21.61666667,
          21.2,
          45.30833333,
          47.50833333,
          52.85833333,
          67.78333333,
          73.68333333,
          63.375,
          27.23333333,
          21.58333333,
          23.50833333,
          26.35833333,
          46.33333333,
          44.76666667,
          41.08333333,
          38.925,
          45.90833333,
          63.16666667,
          47.2,
          48.13333333,
          41.69166667,
          33.35833333,
          24.575,
          19.125,
          12.73333333,
          7.216666667,
          5.575,
          2.441666667,
          1.75,
          1.966666667,
          1.475,
          1.133333333,
          0,
          0.808333333,
          0,
          0,
          0,
          0,
          2.175,
          2.1583333330000003,
          1.308333333,
          10.49166667,
          18.41666667,
          29.24166667,
          47.09166667,
          48.70833333,
          54.675,
          51.89166667,
          50.9,
          70.925,
          76.21666667,
          78.64166667,
          72.21666667,
          71.86666667,
          73.29166667,
          75.95833333,
          78.35833333,
          73.71666667,
          77.875,
          75.35,
          75.44166667,
          77.26666667,
          73.8,
          72.64166667,
          77.45,
          75.64166667,
          79.76666667,
          85.11666667,
          88.625,
          78.40833333,
          72.88333333,
          75.55,
          74.075,
          58.91666667,
          50.50833333,
          36.51666667,
          42.35833333,
          59.64166667,
          73.45833333,
          77.16666667,
          62.575,
          86.30833333,
          40.93333333,
          60.625,
          49.10833333,
          42.96666667,
          55.81666667,
          38.65833333,
          26.1,
          29.25833333,
          23.775,
          17.55833333,
          10.95833333,
          4.691666667,
          2.925,
          1.7416666669999998,
          0.75,
          2.558333333,
          5.791666667,
          8.033333333,
          10.91666667,
          13.73333333,
          17.875,
          17.19166667,
          0.941666667,
          0,
          0,
          0,
          0,
          0,
          0,
          0.291666667,
          3.483333333,
          5.366666667,
          12.64166667,
          13.775,
          7.158333333,
          14,
          15.54166667,
          16.6,
          13.08333333,
          24.025,
          35.425,
          66.1,
          63.26666667,
          61.40833333,
          70.55833333,
          74.01666667,
          80.29166667,
          76.1,
          76.025,
          84.79166667,
          81.68333333,
          69.05,
          73.65,
          68.34166667,
          68.9,
          40.05833333,
          60.125,
          74.93333333,
          79.11666667,
          72.08333333,
          73.85,
          71.425,
          74.35,
          78.925,
          78.63333333,
          84,
          83.15,
          79.74166667,
          80.08333333,
          79.40833333,
          77.45833333,
          77.65,
          77.65833333,
          77.25833333,
          76.34166667,
          74.65833333,
          71.66666667,
          67.925,
          60.875,
          51.29166667,
          55.71666667,
          72.55,
          70.14166667,
          66.05833333,
          65.69166667,
          60.775,
          63.10833333,
          73.88333333,
          71.90833333,
          66.85,
          57.675,
          48.46666667,
          50.925,
          37.3,
          29.05833333,
          28.61666667,
          24.01666667,
          13.15833333,
          7.883333332999999,
          1.016666667,
          0.191666667,
          0.216666667,
          1.6833333330000002,
          5.583333333,
          7.15,
          3.675,
          2.383333333,
          4.7,
          7.933333332999999,
          2.75,
          0,
          0,
          0.45,
          2.2833333330000003,
          5.441666667000001,
          13.49166667,
          11.65,
          4.041666667,
          0,
          0,
          0,
          0,
          0,
          0,
          0.141666667,
          0,
          0,
          0,
          0,
          0,
          0,
          0,
          0,
          0.6416666670000001,
          1.425,
          11.95,
          22.79166667,
          16.91666667,
          14.79166667,
          13.89166667,
          11.16666667,
          4.791666667,
          1.45,
          0,
          0.016666667,
          5.883333333,
          8.808333333,
          22.54166667,
          24.01666667,
          25.75,
          27.89166667,
          31.60833333,
          46.14166667,
          57.28333333,
          65.575,
          69.80833333,
          76.41666667,
          73.69166667,
          64.525,
          54.1,
          71.58333333,
          60.76666667,
          43.8,
          34.54166667,
          33.075,
          30.2,
          30.025,
          50.3,
          82.73333333,
          98.44166667,
          99.825,
          99.65833333,
          99.81666667,
          99.78333333,
          99.725,
          99.1,
          99.26666667,
          99.81666667,
          99.825,
          99.83333333,
          99.45,
          99.65,
          97.99166667,
          95.2,
          88.70833333,
          49.89166667,
          14.98333333,
          56.54166667,
          98.1,
          95.075,
          89.91666667,
          56.90833333,
          61.925,
          77.03333333,
          60.225,
          89.99166667,
          88.325,
          85.89166667,
          47.00833333,
          33.50833333,
          43.025,
          71.31666667,
          91.375,
          94.91666667,
          98.94166667,
          91.38333333,
          69.61666667,
          73.03333333,
          79.40833333,
          87.49166667,
          86.125,
          84.85833333,
          78.56666667,
          78.21666667,
          56.725,
          83.375,
          89.66666667,
          81.64166667,
          86.825,
          97.225,
          95.68333333,
          92.25,
          86.40833333,
          93.775,
          91.29166667,
          93.15,
          84.325,
          62.83333333,
          37.975,
          38.01666667,
          34.64166667,
          51.55833333,
          42.36666667,
          19.95833333,
          3.666666667,
          2.716666667,
          1.808333333,
          3.333333333,
          10.575,
          12.16666667,
          12.925,
          9.433333333,
          10.18333333,
          16.81666667,
          21.8,
          18.975,
          23.025,
          13.89166667,
          3.8,
          0,
          0,
          0,
          0,
          0,
          0.008333333,
          3.016666667,
          7.033333333,
          13.375,
          22.85,
          12.375,
          16.80833333,
          24.45,
          21.26666667,
          13.14166667,
          4.05,
          7.966666667,
          25.8,
          25.3,
          16.3,
          6.725,
          9.058333333,
          15.38333333,
          14.19166667,
          20.59166667,
          44.075,
          61.23333333,
          74.04166667,
          75.56666667,
          65.975,
          45.23333333,
          29.60833333,
          19.18333333,
          9.3,
          3.475,
          0.8,
          0.7,
          2.383333333,
          17.025,
          46.625,
          52.79166667,
          60.39166667,
          66.96666667,
          76.54166667,
          84.53333333,
          93.275,
          92.03333333,
          94.15833333,
          86.33333333,
          91.025,
          85.875,
          75.36666667,
          63.58333333,
          48.29166667,
          26.91666667,
          12.775,
          6.15,
          5.008333333,
          3.491666667,
          4.541666667,
          6.291666667,
          10.90833333,
          27.58333333,
          51.25833333,
          67.26666667,
          81.00833333,
          84.55,
          89.525,
          90.8,
          95.8,
          99.75833333,
          99.79166667,
          96.35833333,
          92.125,
          99.775,
          99.81666667,
          99.825,
          99.825,
          99.71666667,
          98.7,
          98.85,
          99.84166667,
          98.51666667,
          99.75833333,
          99.73333333,
          94.45833333,
          88.95833333,
          82.85,
          82.50833333,
          80.175,
          78.83333333,
          73.48333333,
          78.83333333,
          79.03333333,
          83.65,
          80.75,
          74.26666667,
          74.06666667,
          79.96666667,
          77.90833333,
          88.05833333,
          90.15833333,
          98.23333333,
          98.64166667,
          87.025,
          86.59166667,
          93.13333333,
          91.825,
          86.34166667,
          39.53333333,
          19.46666667,
          11.06666667,
          20.85,
          28.41666667,
          30.875,
          29.38333333,
          38.58333333,
          60.51666667,
          76.05,
          84.54166667,
          76.33333333,
          91.175,
          95.075,
          92.71666667,
          94.90833333,
          98.86666667,
          93.50833333,
          90.71666667,
          86.65833333,
          82.025,
          82.55833333,
          83.78333333,
          83.45833333,
          83.875,
          81.09166667,
          80.5,
          84.20833333,
          83.68333333,
          79.59166667,
          74.99166667,
          74.71666667,
          52.59166667,
          61.51666667,
          48.075,
          18.25,
          7.966666667,
          6.583333333,
          3.5,
          3.941666667,
          9.208333333,
          17.89166667
         ],
         "yaxis": "y"
        },
        {
         "hovertemplate": "variable=y_preds<br>index=%{x}<br>value=%{y}<extra></extra>",
         "legendgroup": "y_preds",
         "line": {
          "color": "#EF553B",
          "dash": "solid"
         },
         "marker": {
          "symbol": "circle"
         },
         "mode": "lines",
         "name": "y_preds",
         "orientation": "v",
         "showlegend": true,
         "type": "scatter",
         "x": [
          0,
          1,
          2,
          3,
          4,
          5,
          6,
          7,
          8,
          9,
          10,
          11,
          12,
          13,
          14,
          15,
          16,
          17,
          18,
          19,
          20,
          21,
          22,
          23,
          24,
          25,
          26,
          27,
          28,
          29,
          30,
          31,
          32,
          33,
          34,
          35,
          36,
          37,
          38,
          39,
          40,
          41,
          42,
          43,
          44,
          45,
          46,
          47,
          48,
          49,
          50,
          51,
          52,
          53,
          54,
          55,
          56,
          57,
          58,
          59,
          60,
          61,
          62,
          63,
          64,
          65,
          66,
          67,
          68,
          69,
          70,
          71,
          72,
          73,
          74,
          75,
          76,
          77,
          78,
          79,
          80,
          81,
          82,
          83,
          84,
          85,
          86,
          87,
          88,
          89,
          90,
          91,
          92,
          93,
          94,
          95,
          96,
          97,
          98,
          99,
          100,
          101,
          102,
          103,
          104,
          105,
          106,
          107,
          108,
          109,
          110,
          111,
          112,
          113,
          114,
          115,
          116,
          117,
          118,
          119,
          120,
          121,
          122,
          123,
          124,
          125,
          126,
          127,
          128,
          129,
          130,
          131,
          132,
          133,
          134,
          135,
          136,
          137,
          138,
          139,
          140,
          141,
          142,
          143,
          144,
          145,
          146,
          147,
          148,
          149,
          150,
          151,
          152,
          153,
          154,
          155,
          156,
          157,
          158,
          159,
          160,
          161,
          162,
          163,
          164,
          165,
          166,
          167,
          168,
          169,
          170,
          171,
          172,
          173,
          174,
          175,
          176,
          177,
          178,
          179,
          180,
          181,
          182,
          183,
          184,
          185,
          186,
          187,
          188,
          189,
          190,
          191,
          192,
          193,
          194,
          195,
          196,
          197,
          198,
          199,
          200,
          201,
          202,
          203,
          204,
          205,
          206,
          207,
          208,
          209,
          210,
          211,
          212,
          213,
          214,
          215,
          216,
          217,
          218,
          219,
          220,
          221,
          222,
          223,
          224,
          225,
          226,
          227,
          228,
          229,
          230,
          231,
          232,
          233,
          234,
          235,
          236,
          237,
          238,
          239,
          240,
          241,
          242,
          243,
          244,
          245,
          246,
          247,
          248,
          249,
          250,
          251,
          252,
          253,
          254,
          255,
          256,
          257,
          258,
          259,
          260,
          261,
          262,
          263,
          264,
          265,
          266,
          267,
          268,
          269,
          270,
          271,
          272,
          273,
          274,
          275,
          276,
          277,
          278,
          279,
          280,
          281,
          282,
          283,
          284,
          285,
          286,
          287,
          288,
          289,
          290,
          291,
          292,
          293,
          294,
          295,
          296,
          297,
          298,
          299,
          300,
          301,
          302,
          303,
          304,
          305,
          306,
          307,
          308,
          309,
          310,
          311,
          312,
          313,
          314,
          315,
          316,
          317,
          318,
          319,
          320,
          321,
          322,
          323,
          324,
          325,
          326,
          327,
          328,
          329,
          330,
          331,
          332,
          333,
          334,
          335,
          336,
          337,
          338,
          339,
          340,
          341,
          342,
          343,
          344,
          345,
          346,
          347,
          348,
          349,
          350,
          351,
          352,
          353,
          354,
          355,
          356,
          357,
          358,
          359,
          360,
          361,
          362,
          363,
          364,
          365,
          366,
          367,
          368,
          369,
          370,
          371,
          372,
          373,
          374,
          375,
          376,
          377,
          378,
          379,
          380,
          381,
          382,
          383,
          384,
          385,
          386,
          387,
          388,
          389,
          390,
          391,
          392,
          393,
          394,
          395,
          396,
          397,
          398,
          399,
          400,
          401,
          402,
          403,
          404,
          405,
          406,
          407,
          408,
          409,
          410,
          411,
          412,
          413,
          414,
          415,
          416,
          417,
          418,
          419,
          420,
          421,
          422,
          423,
          424,
          425,
          426,
          427,
          428,
          429,
          430,
          431,
          432,
          433,
          434,
          435,
          436,
          437,
          438,
          439,
          440,
          441,
          442,
          443,
          444,
          445,
          446,
          447,
          448,
          449,
          450,
          451,
          452,
          453,
          454,
          455,
          456,
          457,
          458,
          459,
          460,
          461,
          462,
          463,
          464,
          465,
          466,
          467,
          468,
          469,
          470,
          471,
          472,
          473,
          474,
          475,
          476,
          477,
          478,
          479,
          480,
          481,
          482,
          483,
          484,
          485,
          486,
          487,
          488,
          489,
          490,
          491,
          492,
          493,
          494,
          495,
          496,
          497,
          498,
          499
         ],
         "xaxis": "x",
         "y": [
          87.59418587412765,
          78.55745457642668,
          78.55745457642668,
          79.43420845159528,
          70.2208785043243,
          48.21753706863847,
          42.998282759903944,
          50.473107639124954,
          57.49687839906993,
          54.12216030994209,
          52.04464067399256,
          39.97550290501472,
          37.54076342800259,
          27.721779304195053,
          25.243640476016378,
          27.470284739917993,
          28.674875187524307,
          25.845482439456326,
          20.902759009390614,
          17.693083983129434,
          20.902759009390614,
          28.575825281975852,
          35.67474194957269,
          37.494885047078554,
          38.27042092934399,
          32.671278967040074,
          26.34835227292776,
          17.693083983129434,
          16.586554511106158,
          16.586554511106158,
          15.971627892311147,
          16.586554511106158,
          19.85987613103583,
          22.635807413195145,
          22.635807413195145,
          21.934686931656195,
          22.52245662146767,
          22.5082423702624,
          22.635807413195145,
          22.635807413195145,
          25.845482439456326,
          25.845482439456326,
          16.57540801408804,
          16.489036993806234,
          19.990819658607013,
          22.821870455039637,
          22.118803114985138,
          21.067780596244315,
          16.669923246103068,
          16.979338768746377,
          5.981410256152682,
          3.9039512401786367,
          2.180649221350169,
          2.328519396196527,
          3.9039512401786367,
          4.895174728825339,
          17.181172653664213,
          15.245768235432065,
          15.245768235432065,
          21.63870630929522,
          23.408642097336312,
          23.408642097336312,
          23.408642097336312,
          28.06836981078274,
          65.69010808458307,
          61.82749477598732,
          68.8897661234909,
          69.09667129603972,
          76.05569534669641,
          78.62563861307535,
          78.62563861307535,
          78.62563861307535,
          78.62563861307535,
          77.2787761548631,
          76.8472862555146,
          78.62563861307535,
          78.62563861307535,
          78.62563861307535,
          82.67619937072806,
          83.34615335422782,
          83.34615335422782,
          82.67619937072806,
          82.67619937072806,
          81.39397270094398,
          79.6781539527005,
          79.6781539527005,
          80.26657662592635,
          81.39397270094398,
          80.26657662592635,
          81.25364247501491,
          77.76167277575365,
          77.15837512993886,
          77.14898604015916,
          62.43104166495455,
          72.9657291137149,
          72.40267442676802,
          74.25751023432369,
          74.7712602255165,
          74.23537010641633,
          73.35552653929267,
          70.44173983625959,
          67.533030202877,
          66.7622336785013,
          66.15797423989318,
          64.69292661284814,
          45.37214031194017,
          35.19123983205283,
          37.23713208739626,
          35.19123983205283,
          30.189869853058273,
          18.85303556461427,
          21.760799436073576,
          24.062512837144723,
          21.760799436073576,
          27.792432519285512,
          27.286240675598663,
          23.16993243182754,
          17.941247247197992,
          24.91056910509812,
          24.91056910509812,
          29.854280155310818,
          37.81936868737576,
          38.75684865829147,
          19.906289981497615,
          5.465823002563977,
          2.9673941799523806,
          4.991415369384073,
          4.583708756647835,
          4.54934447402535,
          5.778762437537828,
          11.819939648962462,
          22.448103721674254,
          20.78679936045853,
          26.37148870785176,
          26.320940352194555,
          25.964084952807028,
          23.577774538088676,
          23.190159575474027,
          38.21142960128867,
          51.66658011593914,
          56.15572767055674,
          56.03952882009317,
          65.30316426957836,
          65.61756633721478,
          69.71352640645229,
          70.69772845188348,
          73.30624423478744,
          74.16202201272075,
          78.23050766218171,
          81.11164348303836,
          78.75908577181696,
          75.0299907887754,
          71.35634259276983,
          67.50849792138969,
          72.73888556304462,
          72.73888556304462,
          65.64139333575983,
          64.60169910413661,
          75.22593241070773,
          74.38422121085017,
          75.04982257283834,
          66.47195795364563,
          75.04982257283834,
          78.99246603863907,
          78.99246603863907,
          76.19277677337834,
          72.25148333593741,
          77.04139136931695,
          82.18983343313693,
          73.79909567973817,
          68.42787728299325,
          64.64278557632353,
          67.85960647197177,
          56.56803951056121,
          51.964220852657235,
          58.638536049636045,
          55.77366222923844,
          62.792626153432266,
          58.638536049636045,
          55.5485581446098,
          46.973203962164234,
          43.98875718358113,
          39.01428825844624,
          39.35449259676246,
          38.74181130352149,
          53.5950231470486,
          45.62910680090876,
          47.54004926163793,
          46.35573691327514,
          47.19938694421754,
          39.673457995657856,
          56.18920386968749,
          42.42796471374718,
          22.41325545853227,
          27.688288702044492,
          26.22602618107031,
          29.000870056672348,
          26.66226086929029,
          26.66226086929029,
          19.543011696874853,
          15.362376543732879,
          14.609666666635473,
          14.609666666635473,
          14.609666666635473,
          15.362376543732879,
          12.477500000200472,
          8.988874062530208,
          12.801211340851243,
          14.609666666635473,
          15.362376543732879,
          10.515992412616407,
          8.332708690989023,
          17.35273359824614,
          12.449676070993611,
          12.449676070993611,
          14.339232035793264,
          23.795652933232766,
          21.39173329867769,
          17.488762111332356,
          12.80442243750667,
          7.158401416145144,
          4.03399943301906,
          4.03399943301906,
          7.375071884852302,
          12.801211340851243,
          12.801211340851243,
          15.362376543732879,
          15.362376543732879,
          15.362376543732879,
          15.362376543732879,
          15.362376543732879,
          15.362376543732879,
          14.609666666635473,
          15.362376543732879,
          12.098513265083145,
          12.368788741700653,
          30.376034766672184,
          60.6849410212329,
          45.12754794498491,
          45.12754794498491,
          34.92652178133452,
          34.640022863100754,
          15.106159910379528,
          2.89727610155819,
          2.5762945636267873,
          13.019929194278088,
          17.268930413137326,
          17.268930413137326,
          31.366864916976024,
          31.366864916976024,
          18.55473678613248,
          34.65324959993987,
          72.39733165107828,
          73.67429780955945,
          73.67429780955945,
          73.67429780955945,
          73.67429780955945,
          73.67429780955945,
          75.72733692661029,
          77.70387298262115,
          71.81166283566463,
          79.1679571398218,
          79.1679571398218,
          79.1679571398218,
          79.1679571398218,
          79.1679571398218,
          75.72733692661029,
          67.42997782841707,
          75.72733692661029,
          77.85576285405473,
          76.09984567897436,
          76.87104063136243,
          76.87104063136243,
          78.05087053032814,
          75.72446688954545,
          74.42911218754884,
          76.09984567897436,
          76.57366408572139,
          76.57366408572139,
          75.75480983498926,
          76.87104063136243,
          78.45435762338806,
          75.75480983498926,
          79.24646557339892,
          79.24646557339892,
          76.34377197049994,
          76.34377197049994,
          76.34377197049994,
          58.01141476745104,
          51.35668574656538,
          47.681962714056525,
          25.05413375639351,
          24.15655787418535,
          22.80477840381122,
          24.29265949191219,
          24.29265949191219,
          27.971894479073843,
          42.98736192373799,
          56.63569593795464,
          61.979331590087746,
          74.42111997384221,
          77.65428961733562,
          79.03362692800187,
          80.28669791529805,
          80.28669791529805,
          80.03333884391458,
          80.03333884391458,
          81.96562172522917,
          78.74074933777223,
          78.74074933777223,
          77.75417628446294,
          78.32947941587753,
          69.03923994144766,
          69.03923994144766,
          76.62819804518016,
          74.0113729502599,
          71.99330601140743,
          71.99330601140743,
          71.99330601140743,
          70.7694581956689,
          76.95621031751126,
          76.91669179866508,
          71.58307539621427,
          64.6276091376269,
          59.519599609598544,
          61.0004236261742,
          40.9691096510255,
          29.66069196766957,
          28.365493184316648,
          29.663406339962286,
          31.48207367912919,
          37.01132127992392,
          26.62189842479085,
          18.48987268611323,
          17.938958716483413,
          17.938958716483413,
          11.931687776113325,
          14.713247945008462,
          12.726628167756914,
          12.726628167756914,
          11.01267222158344,
          4.547630431889495,
          3.34722990776884,
          3.523600971741212,
          3.2078491601531685,
          3.2078491601531685,
          3.2078491601531685,
          2.8408441556402604,
          2.5053576134067193,
          2.5053576134067193,
          3.1536815231758606,
          2.606517651694655,
          2.1602071921197328,
          7.743632099100704,
          5.627824735501111,
          3.413903770071428,
          9.096331789385074,
          27.833996991480404,
          28.983933801553132,
          27.713078963682264,
          39.43788795335094,
          32.472078134888775,
          23.052874973803117,
          15.401635165020664,
          9.69241804543256,
          12.47529792581315,
          12.868260431052931,
          8.643754734688825,
          8.643754734688825,
          8.643754734688825,
          8.872543231623306,
          22.328291412712197,
          22.328291412712197,
          25.384531250033337,
          25.384531250033337,
          25.384531250033337,
          24.34979597510837,
          28.55740291981741,
          21.361028606895605,
          22.89947339241518,
          18.957258136795257,
          18.957258136795257,
          18.957258136795257,
          32.72683475443073,
          32.72683475443073,
          8.15062946753829,
          8.15062946753829,
          9.14443367386093,
          17.84938024707541,
          16.00710646971301,
          34.32934151596832,
          34.01988809749551,
          42.19991079229406,
          39.276331422214064,
          40.01151749881743,
          41.72163996655873,
          44.64456286652745,
          42.14744509230157,
          48.56948960341473,
          41.05911125403337,
          67.95123050280228,
          63.36874396054998,
          43.09946946171323,
          43.2943789752715,
          33.66223101572535,
          26.454871220618944,
          29.883719194847256,
          29.883719194847256,
          33.60175924887819,
          34.36375045597285,
          34.36375045597285,
          25.382558850416146,
          49.86890935663556,
          69.19863591279761,
          71.3668761975431,
          71.3668761975431,
          71.3668761975431,
          76.17848838157089,
          79.5634335223687,
          79.5634335223687,
          80.36736994970758,
          81.11698369577172,
          81.97385828503107,
          81.11698369577172,
          81.11698369577172,
          80.8119369785793,
          83.64062771451648,
          82.54257165867728,
          81.29406820246666,
          81.29406820246666,
          81.29406820246666,
          83.97262962964126,
          87.41895866803623,
          87.30064612816389,
          83.97262962964126,
          83.97262962964126,
          83.97262962964126,
          83.97262962964126,
          83.97262962964126,
          83.97262962964126,
          82.98430408448638,
          82.98430408448638,
          82.09795983223461,
          80.9193544830672,
          82.09795983223461,
          80.9193544830672,
          80.9193544830672,
          80.9193544830672,
          80.9193544830672,
          82.09795983223461,
          79.88547857724473,
          77.98310977074561,
          77.98310977074561,
          78.46197055040548,
          78.00620349102249,
          77.60754161815602,
          77.98310977074561,
          69.99648527749838,
          47.965811120484446,
          34.85591975319519,
          35.50941001321954,
          42.77536275976741,
          42.77536275976741,
          38.953893444891115,
          42.77536275976741,
          29.71198593030303,
          36.57258153384495,
          50.83893024998824,
          71.75782421040321,
          78.12374841102124,
          80.24526149539548,
          83.7312256546711,
          80.86164143153007,
          78.03219067702615,
          78.03219067702615,
          74.37686191268527,
          58.088053929905875,
          73.19204663120867,
          73.19204663120867,
          73.19204663120867,
          80.85568890873189,
          73.19204663120867,
          73.19204663120867,
          70.14499290402637,
          67.90794560795591,
          53.6481884058144,
          53.6481884058144,
          61.82538768102968,
          61.71255434729635,
          61.59790607966541,
          62.33459086287269,
          46.37471077164117,
          44.391078058892795,
          41.24406008516488,
          41.24406008516488,
          41.24406008516488,
          41.24406008516488,
          27.56920234834915,
          25.377854151461385,
          25.377854151461385
         ],
         "yaxis": "y"
        }
       ],
       "layout": {
        "legend": {
         "title": {
          "text": "variable"
         },
         "tracegroupgap": 0
        },
        "margin": {
         "t": 60
        },
        "template": {
         "data": {
          "bar": [
           {
            "error_x": {
             "color": "#2a3f5f"
            },
            "error_y": {
             "color": "#2a3f5f"
            },
            "marker": {
             "line": {
              "color": "#E5ECF6",
              "width": 0.5
             },
             "pattern": {
              "fillmode": "overlay",
              "size": 10,
              "solidity": 0.2
             }
            },
            "type": "bar"
           }
          ],
          "barpolar": [
           {
            "marker": {
             "line": {
              "color": "#E5ECF6",
              "width": 0.5
             },
             "pattern": {
              "fillmode": "overlay",
              "size": 10,
              "solidity": 0.2
             }
            },
            "type": "barpolar"
           }
          ],
          "carpet": [
           {
            "aaxis": {
             "endlinecolor": "#2a3f5f",
             "gridcolor": "white",
             "linecolor": "white",
             "minorgridcolor": "white",
             "startlinecolor": "#2a3f5f"
            },
            "baxis": {
             "endlinecolor": "#2a3f5f",
             "gridcolor": "white",
             "linecolor": "white",
             "minorgridcolor": "white",
             "startlinecolor": "#2a3f5f"
            },
            "type": "carpet"
           }
          ],
          "choropleth": [
           {
            "colorbar": {
             "outlinewidth": 0,
             "ticks": ""
            },
            "type": "choropleth"
           }
          ],
          "contour": [
           {
            "colorbar": {
             "outlinewidth": 0,
             "ticks": ""
            },
            "colorscale": [
             [
              0,
              "#0d0887"
             ],
             [
              0.1111111111111111,
              "#46039f"
             ],
             [
              0.2222222222222222,
              "#7201a8"
             ],
             [
              0.3333333333333333,
              "#9c179e"
             ],
             [
              0.4444444444444444,
              "#bd3786"
             ],
             [
              0.5555555555555556,
              "#d8576b"
             ],
             [
              0.6666666666666666,
              "#ed7953"
             ],
             [
              0.7777777777777778,
              "#fb9f3a"
             ],
             [
              0.8888888888888888,
              "#fdca26"
             ],
             [
              1,
              "#f0f921"
             ]
            ],
            "type": "contour"
           }
          ],
          "contourcarpet": [
           {
            "colorbar": {
             "outlinewidth": 0,
             "ticks": ""
            },
            "type": "contourcarpet"
           }
          ],
          "heatmap": [
           {
            "colorbar": {
             "outlinewidth": 0,
             "ticks": ""
            },
            "colorscale": [
             [
              0,
              "#0d0887"
             ],
             [
              0.1111111111111111,
              "#46039f"
             ],
             [
              0.2222222222222222,
              "#7201a8"
             ],
             [
              0.3333333333333333,
              "#9c179e"
             ],
             [
              0.4444444444444444,
              "#bd3786"
             ],
             [
              0.5555555555555556,
              "#d8576b"
             ],
             [
              0.6666666666666666,
              "#ed7953"
             ],
             [
              0.7777777777777778,
              "#fb9f3a"
             ],
             [
              0.8888888888888888,
              "#fdca26"
             ],
             [
              1,
              "#f0f921"
             ]
            ],
            "type": "heatmap"
           }
          ],
          "heatmapgl": [
           {
            "colorbar": {
             "outlinewidth": 0,
             "ticks": ""
            },
            "colorscale": [
             [
              0,
              "#0d0887"
             ],
             [
              0.1111111111111111,
              "#46039f"
             ],
             [
              0.2222222222222222,
              "#7201a8"
             ],
             [
              0.3333333333333333,
              "#9c179e"
             ],
             [
              0.4444444444444444,
              "#bd3786"
             ],
             [
              0.5555555555555556,
              "#d8576b"
             ],
             [
              0.6666666666666666,
              "#ed7953"
             ],
             [
              0.7777777777777778,
              "#fb9f3a"
             ],
             [
              0.8888888888888888,
              "#fdca26"
             ],
             [
              1,
              "#f0f921"
             ]
            ],
            "type": "heatmapgl"
           }
          ],
          "histogram": [
           {
            "marker": {
             "pattern": {
              "fillmode": "overlay",
              "size": 10,
              "solidity": 0.2
             }
            },
            "type": "histogram"
           }
          ],
          "histogram2d": [
           {
            "colorbar": {
             "outlinewidth": 0,
             "ticks": ""
            },
            "colorscale": [
             [
              0,
              "#0d0887"
             ],
             [
              0.1111111111111111,
              "#46039f"
             ],
             [
              0.2222222222222222,
              "#7201a8"
             ],
             [
              0.3333333333333333,
              "#9c179e"
             ],
             [
              0.4444444444444444,
              "#bd3786"
             ],
             [
              0.5555555555555556,
              "#d8576b"
             ],
             [
              0.6666666666666666,
              "#ed7953"
             ],
             [
              0.7777777777777778,
              "#fb9f3a"
             ],
             [
              0.8888888888888888,
              "#fdca26"
             ],
             [
              1,
              "#f0f921"
             ]
            ],
            "type": "histogram2d"
           }
          ],
          "histogram2dcontour": [
           {
            "colorbar": {
             "outlinewidth": 0,
             "ticks": ""
            },
            "colorscale": [
             [
              0,
              "#0d0887"
             ],
             [
              0.1111111111111111,
              "#46039f"
             ],
             [
              0.2222222222222222,
              "#7201a8"
             ],
             [
              0.3333333333333333,
              "#9c179e"
             ],
             [
              0.4444444444444444,
              "#bd3786"
             ],
             [
              0.5555555555555556,
              "#d8576b"
             ],
             [
              0.6666666666666666,
              "#ed7953"
             ],
             [
              0.7777777777777778,
              "#fb9f3a"
             ],
             [
              0.8888888888888888,
              "#fdca26"
             ],
             [
              1,
              "#f0f921"
             ]
            ],
            "type": "histogram2dcontour"
           }
          ],
          "mesh3d": [
           {
            "colorbar": {
             "outlinewidth": 0,
             "ticks": ""
            },
            "type": "mesh3d"
           }
          ],
          "parcoords": [
           {
            "line": {
             "colorbar": {
              "outlinewidth": 0,
              "ticks": ""
             }
            },
            "type": "parcoords"
           }
          ],
          "pie": [
           {
            "automargin": true,
            "type": "pie"
           }
          ],
          "scatter": [
           {
            "fillpattern": {
             "fillmode": "overlay",
             "size": 10,
             "solidity": 0.2
            },
            "type": "scatter"
           }
          ],
          "scatter3d": [
           {
            "line": {
             "colorbar": {
              "outlinewidth": 0,
              "ticks": ""
             }
            },
            "marker": {
             "colorbar": {
              "outlinewidth": 0,
              "ticks": ""
             }
            },
            "type": "scatter3d"
           }
          ],
          "scattercarpet": [
           {
            "marker": {
             "colorbar": {
              "outlinewidth": 0,
              "ticks": ""
             }
            },
            "type": "scattercarpet"
           }
          ],
          "scattergeo": [
           {
            "marker": {
             "colorbar": {
              "outlinewidth": 0,
              "ticks": ""
             }
            },
            "type": "scattergeo"
           }
          ],
          "scattergl": [
           {
            "marker": {
             "colorbar": {
              "outlinewidth": 0,
              "ticks": ""
             }
            },
            "type": "scattergl"
           }
          ],
          "scattermapbox": [
           {
            "marker": {
             "colorbar": {
              "outlinewidth": 0,
              "ticks": ""
             }
            },
            "type": "scattermapbox"
           }
          ],
          "scatterpolar": [
           {
            "marker": {
             "colorbar": {
              "outlinewidth": 0,
              "ticks": ""
             }
            },
            "type": "scatterpolar"
           }
          ],
          "scatterpolargl": [
           {
            "marker": {
             "colorbar": {
              "outlinewidth": 0,
              "ticks": ""
             }
            },
            "type": "scatterpolargl"
           }
          ],
          "scatterternary": [
           {
            "marker": {
             "colorbar": {
              "outlinewidth": 0,
              "ticks": ""
             }
            },
            "type": "scatterternary"
           }
          ],
          "surface": [
           {
            "colorbar": {
             "outlinewidth": 0,
             "ticks": ""
            },
            "colorscale": [
             [
              0,
              "#0d0887"
             ],
             [
              0.1111111111111111,
              "#46039f"
             ],
             [
              0.2222222222222222,
              "#7201a8"
             ],
             [
              0.3333333333333333,
              "#9c179e"
             ],
             [
              0.4444444444444444,
              "#bd3786"
             ],
             [
              0.5555555555555556,
              "#d8576b"
             ],
             [
              0.6666666666666666,
              "#ed7953"
             ],
             [
              0.7777777777777778,
              "#fb9f3a"
             ],
             [
              0.8888888888888888,
              "#fdca26"
             ],
             [
              1,
              "#f0f921"
             ]
            ],
            "type": "surface"
           }
          ],
          "table": [
           {
            "cells": {
             "fill": {
              "color": "#EBF0F8"
             },
             "line": {
              "color": "white"
             }
            },
            "header": {
             "fill": {
              "color": "#C8D4E3"
             },
             "line": {
              "color": "white"
             }
            },
            "type": "table"
           }
          ]
         },
         "layout": {
          "annotationdefaults": {
           "arrowcolor": "#2a3f5f",
           "arrowhead": 0,
           "arrowwidth": 1
          },
          "autotypenumbers": "strict",
          "coloraxis": {
           "colorbar": {
            "outlinewidth": 0,
            "ticks": ""
           }
          },
          "colorscale": {
           "diverging": [
            [
             0,
             "#8e0152"
            ],
            [
             0.1,
             "#c51b7d"
            ],
            [
             0.2,
             "#de77ae"
            ],
            [
             0.3,
             "#f1b6da"
            ],
            [
             0.4,
             "#fde0ef"
            ],
            [
             0.5,
             "#f7f7f7"
            ],
            [
             0.6,
             "#e6f5d0"
            ],
            [
             0.7,
             "#b8e186"
            ],
            [
             0.8,
             "#7fbc41"
            ],
            [
             0.9,
             "#4d9221"
            ],
            [
             1,
             "#276419"
            ]
           ],
           "sequential": [
            [
             0,
             "#0d0887"
            ],
            [
             0.1111111111111111,
             "#46039f"
            ],
            [
             0.2222222222222222,
             "#7201a8"
            ],
            [
             0.3333333333333333,
             "#9c179e"
            ],
            [
             0.4444444444444444,
             "#bd3786"
            ],
            [
             0.5555555555555556,
             "#d8576b"
            ],
            [
             0.6666666666666666,
             "#ed7953"
            ],
            [
             0.7777777777777778,
             "#fb9f3a"
            ],
            [
             0.8888888888888888,
             "#fdca26"
            ],
            [
             1,
             "#f0f921"
            ]
           ],
           "sequentialminus": [
            [
             0,
             "#0d0887"
            ],
            [
             0.1111111111111111,
             "#46039f"
            ],
            [
             0.2222222222222222,
             "#7201a8"
            ],
            [
             0.3333333333333333,
             "#9c179e"
            ],
            [
             0.4444444444444444,
             "#bd3786"
            ],
            [
             0.5555555555555556,
             "#d8576b"
            ],
            [
             0.6666666666666666,
             "#ed7953"
            ],
            [
             0.7777777777777778,
             "#fb9f3a"
            ],
            [
             0.8888888888888888,
             "#fdca26"
            ],
            [
             1,
             "#f0f921"
            ]
           ]
          },
          "colorway": [
           "#636efa",
           "#EF553B",
           "#00cc96",
           "#ab63fa",
           "#FFA15A",
           "#19d3f3",
           "#FF6692",
           "#B6E880",
           "#FF97FF",
           "#FECB52"
          ],
          "font": {
           "color": "#2a3f5f"
          },
          "geo": {
           "bgcolor": "white",
           "lakecolor": "white",
           "landcolor": "#E5ECF6",
           "showlakes": true,
           "showland": true,
           "subunitcolor": "white"
          },
          "hoverlabel": {
           "align": "left"
          },
          "hovermode": "closest",
          "mapbox": {
           "style": "light"
          },
          "paper_bgcolor": "white",
          "plot_bgcolor": "#E5ECF6",
          "polar": {
           "angularaxis": {
            "gridcolor": "white",
            "linecolor": "white",
            "ticks": ""
           },
           "bgcolor": "#E5ECF6",
           "radialaxis": {
            "gridcolor": "white",
            "linecolor": "white",
            "ticks": ""
           }
          },
          "scene": {
           "xaxis": {
            "backgroundcolor": "#E5ECF6",
            "gridcolor": "white",
            "gridwidth": 2,
            "linecolor": "white",
            "showbackground": true,
            "ticks": "",
            "zerolinecolor": "white"
           },
           "yaxis": {
            "backgroundcolor": "#E5ECF6",
            "gridcolor": "white",
            "gridwidth": 2,
            "linecolor": "white",
            "showbackground": true,
            "ticks": "",
            "zerolinecolor": "white"
           },
           "zaxis": {
            "backgroundcolor": "#E5ECF6",
            "gridcolor": "white",
            "gridwidth": 2,
            "linecolor": "white",
            "showbackground": true,
            "ticks": "",
            "zerolinecolor": "white"
           }
          },
          "shapedefaults": {
           "line": {
            "color": "#2a3f5f"
           }
          },
          "ternary": {
           "aaxis": {
            "gridcolor": "white",
            "linecolor": "white",
            "ticks": ""
           },
           "baxis": {
            "gridcolor": "white",
            "linecolor": "white",
            "ticks": ""
           },
           "bgcolor": "#E5ECF6",
           "caxis": {
            "gridcolor": "white",
            "linecolor": "white",
            "ticks": ""
           }
          },
          "title": {
           "x": 0.05
          },
          "xaxis": {
           "automargin": true,
           "gridcolor": "white",
           "linecolor": "white",
           "ticks": "",
           "title": {
            "standoff": 15
           },
           "zerolinecolor": "white",
           "zerolinewidth": 2
          },
          "yaxis": {
           "automargin": true,
           "gridcolor": "white",
           "linecolor": "white",
           "ticks": "",
           "title": {
            "standoff": 15
           },
           "zerolinecolor": "white",
           "zerolinewidth": 2
          }
         }
        },
        "xaxis": {
         "anchor": "y",
         "domain": [
          0,
          1
         ],
         "title": {
          "text": "index"
         }
        },
        "yaxis": {
         "anchor": "x",
         "domain": [
          0,
          1
         ],
         "title": {
          "text": "value"
         }
        }
       }
      }
     },
     "metadata": {},
     "output_type": "display_data"
    }
   ],
   "source": [
    "import plotly.express as px\n",
    "\n",
    "df = pd.DataFrame({\"y_true\": y_true, \"y_preds\": y_preds}).head(500)\n",
    "fig = px.line(df, y=[\"y_true\", \"y_preds\"], title='')\n",
    "fig.show()"
   ]
  }
 ],
 "metadata": {
  "interpreter": {
   "hash": "b80c0023fefa806f5881563925dd94c43248ee76b7e4f6ec8aa64a4c530437bf"
  },
  "kernelspec": {
   "display_name": "Python 3.8.12 ('sail3.8_v2')",
   "language": "python",
   "name": "python3"
  },
  "language_info": {
   "codemirror_mode": {
    "name": "ipython",
    "version": 3
   },
   "file_extension": ".py",
   "mimetype": "text/x-python",
   "name": "python",
   "nbconvert_exporter": "python",
   "pygments_lexer": "ipython3",
   "version": "3.10.9"
  },
  "orig_nbformat": 4
 },
 "nbformat": 4,
 "nbformat_minor": 2
}
