{
 "cells": [
  {
   "cell_type": "code",
   "execution_count": 1,
   "metadata": {},
   "outputs": [],
   "source": [
    "import numpy as np\n",
    "import pandas as pd\n",
    "import river\n",
    "import sys\n",
    "from river import optim\n",
    "from river import metrics\n",
    "from river.drift import ADWIN\n",
    "from ray.tune.search import BasicVariantGenerator\n",
    "from sail.models.auto_ml.tune import SAILTuneGridSearchCV\n",
    "from sail.models.river.forest import AdaptiveRandomForestClassifier\n",
    "from sail.models.river.linear_model import LogisticRegression\n",
    "from sail.models.auto_ml.auto_pipeline import SAILAutoPipeline\n",
    "from sail.pipeline import SAILPipeline\n",
    "from sklearn.impute import SimpleImputer\n",
    "import ray.cloudpickle as cpickle\n",
    "from sail.transfomers.river.preprocessing import StandardScaler"
   ]
  },
  {
   "attachments": {},
   "cell_type": "markdown",
   "metadata": {},
   "source": [
    "#### Load Data\n"
   ]
  },
  {
   "cell_type": "code",
   "execution_count": 2,
   "metadata": {},
   "outputs": [],
   "source": [
    "X = pd.read_csv(\"../../datasets/agrawal.csv\").head(50000)\n",
    "\n",
    "y = X[\"class\"]\n",
    "X.drop(\"class\", axis=1, inplace=True)"
   ]
  },
  {
   "attachments": {},
   "cell_type": "markdown",
   "metadata": {},
   "source": [
    "#### Model Definition\n"
   ]
  },
  {
   "cell_type": "code",
   "execution_count": 3,
   "metadata": {},
   "outputs": [],
   "source": [
    "logistic_reg = LogisticRegression(optimizer=optim.SGD(0.1))\n",
    "random_forest = AdaptiveRandomForestClassifier(n_models=10)"
   ]
  },
  {
   "attachments": {},
   "cell_type": "markdown",
   "metadata": {},
   "source": [
    "#### Create SAIL Pipeline\n"
   ]
  },
  {
   "cell_type": "code",
   "execution_count": 4,
   "metadata": {},
   "outputs": [
    {
     "name": "stderr",
     "output_type": "stream",
     "text": [
      "[2023-06-25 22:17:10:837] - INFO - SAIL : created SAILPipeline object with ID 4a80d1a6-8eb0-45c7-aec2-05acc9e3596a\n"
     ]
    }
   ],
   "source": [
    "steps = [\n",
    "    (\"Imputer\", SimpleImputer(missing_values=np.nan, strategy=\"mean\")),\n",
    "    (\"standard_scalar\", StandardScaler()),\n",
    "    (\"classifier\", \"passthrough\"),\n",
    "]\n",
    "sail_pipeline = SAILPipeline(steps=steps)"
   ]
  },
  {
   "attachments": {},
   "cell_type": "markdown",
   "metadata": {},
   "source": [
    "#### HPO Params\n"
   ]
  },
  {
   "cell_type": "code",
   "execution_count": 5,
   "metadata": {},
   "outputs": [],
   "source": [
    "params_grid = [\n",
    "    {\n",
    "        \"classifier\": [logistic_reg],\n",
    "        \"classifier__l2\": [0.1, 0.9],\n",
    "        \"classifier__intercept_init\": [0.2, 0.5],\n",
    "    },\n",
    "    {\n",
    "        \"classifier\": [random_forest],\n",
    "        \"classifier__n_models\": [5, 10],\n",
    "        \"Imputer\": [\"passthrough\"],\n",
    "    },\n",
    "]\n",
    "\n",
    "# params_grid = {\n",
    "#     \"classifier__l2\": [0.1, 0.9],\n",
    "#     \"classifier__intercept_init\": [0.2, 0.5],\n",
    "# }\n"
   ]
  },
  {
   "attachments": {},
   "cell_type": "markdown",
   "metadata": {},
   "source": [
    "#### Create Model Instance\n"
   ]
  },
  {
   "cell_type": "code",
   "execution_count": 6,
   "metadata": {},
   "outputs": [
    {
     "name": "stderr",
     "output_type": "stream",
     "text": [
      "[2023-06-25 22:17:10:846] - INFO - SAIL : Pipeline Strategy [DetectAndIncrement] created with actions: ['DATA_COLLECTION', 'FIND_BEST_PIPELINE', 'SCORE_AND_DETECT_DRIFT', 'PARTIAL_FIT_MODEL']\n"
     ]
    }
   ],
   "source": [
    "auto_pipeline = SAILAutoPipeline(\n",
    "    pipeline=sail_pipeline,\n",
    "    pipeline_params_grid=params_grid,\n",
    "    search_method=SAILTuneGridSearchCV,\n",
    "    search_method_params={\n",
    "        \"max_iters\": 1,\n",
    "        \"early_stopping\": False,\n",
    "        \"mode\": \"max\",\n",
    "        \"scoring\": \"accuracy\",\n",
    "        \"pipeline_auto_early_stop\": False,\n",
    "        \"keep_best_configurations\": 2\n",
    "    },\n",
    "    search_data_size=1000,\n",
    "    incremental_training=True,\n",
    "    scoring=metrics.Accuracy,\n",
    "    drift_detector=ADWIN(delta=0.001),\n",
    "    pipeline_strategy=\"DetectAndIncrement\",\n",
    ")"
   ]
  },
  {
   "attachments": {},
   "cell_type": "markdown",
   "metadata": {},
   "source": [
    "#### Start Training\n"
   ]
  },
  {
   "cell_type": "code",
   "execution_count": 7,
   "metadata": {},
   "outputs": [
    {
     "data": {
      "text/html": [],
      "text/plain": [
       "<IPython.core.display.HTML object>"
      ]
     },
     "metadata": {},
     "output_type": "display_data"
    },
    {
     "name": "stderr",
     "output_type": "stream",
     "text": [
      "\u001b[2m\u001b[36m(_Trainable pid=84403)\u001b[0m [2023-06-25 22:17:16:211] - INFO - SAIL : created SAILPipeline object with ID 0b9e1f4f-e215-4f11-9aa9-0f45eea19754\n",
      "\u001b[2m\u001b[36m(_Trainable pid=84403)\u001b[0m [2023-06-25 22:17:16:211] - INFO - SAIL : created SAILPipeline object with ID eb02a64e-c71f-4cb4-a0a2-bafe6f5bb50e\n",
      "\u001b[2m\u001b[36m(_Trainable pid=84403)\u001b[0m [2023-06-25 22:17:16:211] - INFO - SAIL : created SAILPipeline object with ID 6663e8cc-4b98-45d6-bee0-08ac753214ff\n",
      "\u001b[2m\u001b[36m(_Trainable pid=84403)\u001b[0m [2023-06-25 22:17:16:211] - INFO - SAIL : created SAILPipeline object with ID d3f3aa0f-8f20-461e-8f72-11f495340b7e\n",
      "\u001b[2m\u001b[36m(_Trainable pid=84403)\u001b[0m [2023-06-25 22:17:16:212] - INFO - SAIL : created SAILPipeline object with ID 8a56de75-b597-4e86-a621-05dc194378e2\n",
      "\u001b[2m\u001b[36m(_Trainable pid=84403)\u001b[0m [2023-06-25 22:17:16:235] - INFO - SAIL : created SAILPipeline object with ID 51c7bac8-d9e2-409f-9130-02d8a1ccc00f\n",
      "\u001b[2m\u001b[36m(_Trainable pid=84403)\u001b[0m [2023-06-25 22:17:16:260] - INFO - SAIL : created SAILPipeline object with ID 95695f3b-eec9-412f-b75c-b878315f469b\n",
      "2023-06-25 22:17:16,363\tINFO tensorboardx.py:269 -- Removed the following hyperparameter values when logging to tensorboard: {'classifier': LogisticRegression(initializer=Zeros (),\n",
      "                   intercept_lr=Constant({'learning_rate': 0.01}),\n",
      "                   loss=Log({'weight_pos': 1.0, 'weight_neg': 1.0}),\n",
      "                   optimizer=SGD({'lr': Constant({'learning_rate': 0.1}), 'n_iterations': 0}))}\n",
      "2023-06-25 22:17:16,399\tINFO tensorboardx.py:269 -- Removed the following hyperparameter values when logging to tensorboard: {'classifier': LogisticRegression(initializer=Zeros (),\n",
      "                   intercept_lr=Constant({'learning_rate': 0.01}),\n",
      "                   loss=Log({'weight_pos': 1.0, 'weight_neg': 1.0}),\n",
      "                   optimizer=SGD({'lr': Constant({'learning_rate': 0.1}), 'n_iterations': 0}))}\n",
      "2023-06-25 22:17:16,406\tINFO tensorboardx.py:269 -- Removed the following hyperparameter values when logging to tensorboard: {'classifier': LogisticRegression(initializer=Zeros (),\n",
      "                   intercept_lr=Constant({'learning_rate': 0.01}),\n",
      "                   loss=Log({'weight_pos': 1.0, 'weight_neg': 1.0}),\n",
      "                   optimizer=SGD({'lr': Constant({'learning_rate': 0.1}), 'n_iterations': 0}))}\n",
      "2023-06-25 22:17:16,430\tINFO tensorboardx.py:269 -- Removed the following hyperparameter values when logging to tensorboard: {'classifier': LogisticRegression(initializer=Zeros (),\n",
      "                   intercept_lr=Constant({'learning_rate': 0.01}),\n",
      "                   loss=Log({'weight_pos': 1.0, 'weight_neg': 1.0}),\n",
      "                   optimizer=SGD({'lr': Constant({'learning_rate': 0.1}), 'n_iterations': 0}))}\n"
     ]
    },
    {
     "name": "stdout",
     "output_type": "stream",
     "text": [
      "\u001b[2m\u001b[36m(_Trainable pid=84402)\u001b[0m [Pipeline] ........ (step 3 of 3) Processing classifier, total=   0.0s\n"
     ]
    },
    {
     "name": "stderr",
     "output_type": "stream",
     "text": [
      "2023-06-25 22:17:17,931\tINFO tensorboardx.py:269 -- Removed the following hyperparameter values when logging to tensorboard: {'classifier': AdaptiveRandomForestClassifier()}\n",
      "2023-06-25 22:17:19,207\tINFO tensorboardx.py:269 -- Removed the following hyperparameter values when logging to tensorboard: {'classifier': AdaptiveRandomForestClassifier()}\n",
      "[2023-06-25 22:17:19:251] - INFO - SAIL : created SAILPipeline object with ID 024b47bd-c4d9-4ede-9717-61fa873c9fa3\n",
      "[2023-06-25 22:17:19:252] - INFO - SAIL : created SAILPipeline object with ID a498075e-48d6-40c6-92a9-0d5f38c5eef0\n",
      "[2023-06-25 22:17:20:16] - INFO - SAIL : Cumulative Pipeline Score: 0.88\n",
      "[2023-06-25 22:17:20:16] - INFO - SAIL : Partially fitting best pipeline.\n",
      "[2023-06-25 22:17:20:16] - INFO - SAIL : Calling Partial_fit() on the pipeline.\n",
      "[2023-06-25 22:17:20:79] - INFO - SAIL : Cumulative Pipeline Score: 0.9\n",
      "[2023-06-25 22:17:20:79] - INFO - SAIL : Partially fitting best pipeline.\n",
      "[2023-06-25 22:17:20:80] - INFO - SAIL : Calling Partial_fit() on the pipeline.\n",
      "[2023-06-25 22:17:20:136] - INFO - SAIL : Cumulative Pipeline Score: 0.88\n",
      "[2023-06-25 22:17:20:136] - INFO - SAIL : Partially fitting best pipeline.\n",
      "[2023-06-25 22:17:20:136] - INFO - SAIL : Calling Partial_fit() on the pipeline.\n",
      "[2023-06-25 22:17:20:199] - INFO - SAIL : Cumulative Pipeline Score: 0.905\n",
      "[2023-06-25 22:17:20:199] - INFO - SAIL : Partially fitting best pipeline.\n",
      "[2023-06-25 22:17:20:200] - INFO - SAIL : Calling Partial_fit() on the pipeline.\n"
     ]
    },
    {
     "name": "stdout",
     "output_type": "stream",
     "text": [
      "[Pipeline] ........ (step 3 of 3) Processing classifier, total=   0.7s\n",
      "[Pipeline] ........ (step 3 of 3) Processing classifier, total=   0.0s\n",
      "[Pipeline] ........ (step 3 of 3) Processing classifier, total=   0.0s\n",
      "[Pipeline] ........ (step 3 of 3) Processing classifier, total=   0.0s\n"
     ]
    },
    {
     "name": "stderr",
     "output_type": "stream",
     "text": [
      "[2023-06-25 22:17:20:260] - INFO - SAIL : Cumulative Pipeline Score: 0.888\n",
      "[2023-06-25 22:17:20:261] - INFO - SAIL : Partially fitting best pipeline.\n",
      "[2023-06-25 22:17:20:261] - INFO - SAIL : Calling Partial_fit() on the pipeline.\n",
      "[2023-06-25 22:17:20:323] - INFO - SAIL : Cumulative Pipeline Score: 0.8833333333333333\n",
      "[2023-06-25 22:17:20:324] - INFO - SAIL : Partially fitting best pipeline.\n",
      "[2023-06-25 22:17:20:324] - INFO - SAIL : Calling Partial_fit() on the pipeline.\n",
      "[2023-06-25 22:17:20:384] - INFO - SAIL : Cumulative Pipeline Score: 0.8942857142857142\n",
      "[2023-06-25 22:17:20:385] - INFO - SAIL : Partially fitting best pipeline.\n",
      "[2023-06-25 22:17:20:385] - INFO - SAIL : Calling Partial_fit() on the pipeline.\n",
      "[2023-06-25 22:17:20:441] - INFO - SAIL : Cumulative Pipeline Score: 0.895\n",
      "[2023-06-25 22:17:20:441] - INFO - SAIL : Partially fitting best pipeline.\n",
      "[2023-06-25 22:17:20:441] - INFO - SAIL : Calling Partial_fit() on the pipeline.\n"
     ]
    },
    {
     "name": "stdout",
     "output_type": "stream",
     "text": [
      "[Pipeline] ........ (step 3 of 3) Processing classifier, total=   0.0s\n",
      "[Pipeline] ........ (step 3 of 3) Processing classifier, total=   0.0s\n",
      "[Pipeline] ........ (step 3 of 3) Processing classifier, total=   0.0s\n",
      "[Pipeline] ........ (step 3 of 3) Processing classifier, total=   0.0s\n"
     ]
    },
    {
     "name": "stderr",
     "output_type": "stream",
     "text": [
      "[2023-06-25 22:17:20:504] - INFO - SAIL : Cumulative Pipeline Score: 0.8933333333333333\n",
      "[2023-06-25 22:17:20:505] - INFO - SAIL : Partially fitting best pipeline.\n",
      "[2023-06-25 22:17:20:505] - INFO - SAIL : Calling Partial_fit() on the pipeline.\n",
      "[2023-06-25 22:17:20:569] - INFO - SAIL : Cumulative Pipeline Score: 0.886\n",
      "[2023-06-25 22:17:20:569] - INFO - SAIL : Partially fitting best pipeline.\n",
      "[2023-06-25 22:17:20:570] - INFO - SAIL : Calling Partial_fit() on the pipeline.\n",
      "[2023-06-25 22:17:20:630] - INFO - SAIL : Cumulative Pipeline Score: 0.889090909090909\n",
      "[2023-06-25 22:17:20:630] - INFO - SAIL : Partially fitting best pipeline.\n",
      "[2023-06-25 22:17:20:630] - INFO - SAIL : Calling Partial_fit() on the pipeline.\n",
      "[2023-06-25 22:17:20:688] - INFO - SAIL : Cumulative Pipeline Score: 0.8916666666666667\n",
      "[2023-06-25 22:17:20:689] - INFO - SAIL : Partially fitting best pipeline.\n",
      "[2023-06-25 22:17:20:689] - INFO - SAIL : Calling Partial_fit() on the pipeline.\n"
     ]
    },
    {
     "name": "stdout",
     "output_type": "stream",
     "text": [
      "[Pipeline] ........ (step 3 of 3) Processing classifier, total=   0.0s\n",
      "[Pipeline] ........ (step 3 of 3) Processing classifier, total=   0.0s\n",
      "[Pipeline] ........ (step 3 of 3) Processing classifier, total=   0.0s\n",
      "[Pipeline] ........ (step 3 of 3) Processing classifier, total=   0.0s\n"
     ]
    },
    {
     "name": "stderr",
     "output_type": "stream",
     "text": [
      "[2023-06-25 22:17:20:748] - INFO - SAIL : Cumulative Pipeline Score: 0.8923076923076924\n",
      "[2023-06-25 22:17:20:749] - INFO - SAIL : Partially fitting best pipeline.\n",
      "[2023-06-25 22:17:20:749] - INFO - SAIL : Calling Partial_fit() on the pipeline.\n",
      "[2023-06-25 22:17:20:807] - INFO - SAIL : Cumulative Pipeline Score: 0.8957142857142857\n",
      "[2023-06-25 22:17:20:807] - INFO - SAIL : Partially fitting best pipeline.\n",
      "[2023-06-25 22:17:20:808] - INFO - SAIL : Calling Partial_fit() on the pipeline.\n",
      "[2023-06-25 22:17:20:866] - INFO - SAIL : Cumulative Pipeline Score: 0.8973333333333333\n",
      "[2023-06-25 22:17:20:866] - INFO - SAIL : Partially fitting best pipeline.\n",
      "[2023-06-25 22:17:20:866] - INFO - SAIL : Calling Partial_fit() on the pipeline.\n",
      "[2023-06-25 22:17:20:927] - INFO - SAIL : Cumulative Pipeline Score: 0.89375\n",
      "[2023-06-25 22:17:20:927] - INFO - SAIL : Partially fitting best pipeline.\n",
      "[2023-06-25 22:17:20:928] - INFO - SAIL : Calling Partial_fit() on the pipeline.\n"
     ]
    },
    {
     "name": "stdout",
     "output_type": "stream",
     "text": [
      "[Pipeline] ........ (step 3 of 3) Processing classifier, total=   0.0s\n",
      "[Pipeline] ........ (step 3 of 3) Processing classifier, total=   0.0s\n",
      "[Pipeline] ........ (step 3 of 3) Processing classifier, total=   0.0s\n",
      "[Pipeline] ........ (step 3 of 3) Processing classifier, total=   0.0s\n"
     ]
    },
    {
     "name": "stderr",
     "output_type": "stream",
     "text": [
      "[2023-06-25 22:17:20:989] - INFO - SAIL : Cumulative Pipeline Score: 0.8929411764705882\n",
      "[2023-06-25 22:17:20:990] - INFO - SAIL : Partially fitting best pipeline.\n",
      "[2023-06-25 22:17:20:990] - INFO - SAIL : Calling Partial_fit() on the pipeline.\n",
      "[2023-06-25 22:17:21:51] - INFO - SAIL : Cumulative Pipeline Score: 0.8911111111111111\n",
      "[2023-06-25 22:17:21:51] - INFO - SAIL : Partially fitting best pipeline.\n",
      "[2023-06-25 22:17:21:52] - INFO - SAIL : Calling Partial_fit() on the pipeline.\n",
      "[2023-06-25 22:17:21:114] - INFO - SAIL : Cumulative Pipeline Score: 0.8905263157894737\n",
      "[2023-06-25 22:17:21:114] - INFO - SAIL : Partially fitting best pipeline.\n",
      "[2023-06-25 22:17:21:114] - INFO - SAIL : Calling Partial_fit() on the pipeline.\n"
     ]
    },
    {
     "name": "stdout",
     "output_type": "stream",
     "text": [
      "[Pipeline] ........ (step 3 of 3) Processing classifier, total=   0.0s\n",
      "[Pipeline] ........ (step 3 of 3) Processing classifier, total=   0.0s\n",
      "[Pipeline] ........ (step 3 of 3) Processing classifier, total=   0.0s\n",
      "[Pipeline] ........ (step 3 of 3) Processing classifier, total=   0.0s\n"
     ]
    },
    {
     "name": "stderr",
     "output_type": "stream",
     "text": [
      "[2023-06-25 22:17:21:178] - INFO - SAIL : Cumulative Pipeline Score: 0.889\n",
      "[2023-06-25 22:17:21:178] - INFO - SAIL : Partially fitting best pipeline.\n",
      "[2023-06-25 22:17:21:178] - INFO - SAIL : Calling Partial_fit() on the pipeline.\n",
      "[2023-06-25 22:17:21:246] - INFO - SAIL : Cumulative Pipeline Score: 0.8914285714285715\n",
      "[2023-06-25 22:17:21:247] - INFO - SAIL : Partially fitting best pipeline.\n",
      "[2023-06-25 22:17:21:247] - INFO - SAIL : Calling Partial_fit() on the pipeline.\n",
      "[2023-06-25 22:17:21:307] - INFO - SAIL : Cumulative Pipeline Score: 0.8927272727272727\n",
      "[2023-06-25 22:17:21:308] - INFO - SAIL : Partially fitting best pipeline.\n",
      "[2023-06-25 22:17:21:308] - INFO - SAIL : Calling Partial_fit() on the pipeline.\n",
      "[2023-06-25 22:17:21:367] - INFO - SAIL : Cumulative Pipeline Score: 0.8921739130434783\n",
      "[2023-06-25 22:17:21:368] - INFO - SAIL : Partially fitting best pipeline.\n",
      "[2023-06-25 22:17:21:368] - INFO - SAIL : Calling Partial_fit() on the pipeline.\n",
      "[2023-06-25 22:17:21:427] - INFO - SAIL : Cumulative Pipeline Score: 0.8941666666666667\n",
      "[2023-06-25 22:17:21:427] - INFO - SAIL : Partially fitting best pipeline.\n",
      "[2023-06-25 22:17:21:427] - INFO - SAIL : Calling Partial_fit() on the pipeline.\n"
     ]
    },
    {
     "name": "stdout",
     "output_type": "stream",
     "text": [
      "[Pipeline] ........ (step 3 of 3) Processing classifier, total=   0.1s\n",
      "[Pipeline] ........ (step 3 of 3) Processing classifier, total=   0.0s\n",
      "[Pipeline] ........ (step 3 of 3) Processing classifier, total=   0.0s\n",
      "[Pipeline] ........ (step 3 of 3) Processing classifier, total=   0.0s\n"
     ]
    },
    {
     "name": "stderr",
     "output_type": "stream",
     "text": [
      "[2023-06-25 22:17:21:483] - INFO - SAIL : Cumulative Pipeline Score: 0.8912\n",
      "[2023-06-25 22:17:21:483] - INFO - SAIL : Partially fitting best pipeline.\n",
      "[2023-06-25 22:17:21:483] - INFO - SAIL : Calling Partial_fit() on the pipeline.\n",
      "[2023-06-25 22:17:21:542] - INFO - SAIL : Cumulative Pipeline Score: 0.8892307692307693\n",
      "[2023-06-25 22:17:21:543] - INFO - SAIL : Partially fitting best pipeline.\n",
      "[2023-06-25 22:17:21:543] - INFO - SAIL : Calling Partial_fit() on the pipeline.\n",
      "[2023-06-25 22:17:21:601] - INFO - SAIL : Cumulative Pipeline Score: 0.8888888888888888\n",
      "[2023-06-25 22:17:21:602] - INFO - SAIL : Partially fitting best pipeline.\n",
      "[2023-06-25 22:17:21:602] - INFO - SAIL : Calling Partial_fit() on the pipeline.\n",
      "[2023-06-25 22:17:21:665] - INFO - SAIL : Cumulative Pipeline Score: 0.8871428571428571\n",
      "[2023-06-25 22:17:21:665] - INFO - SAIL : Partially fitting best pipeline.\n",
      "[2023-06-25 22:17:21:666] - INFO - SAIL : Calling Partial_fit() on the pipeline.\n"
     ]
    },
    {
     "name": "stdout",
     "output_type": "stream",
     "text": [
      "[Pipeline] ........ (step 3 of 3) Processing classifier, total=   0.0s\n",
      "[Pipeline] ........ (step 3 of 3) Processing classifier, total=   0.0s\n",
      "[Pipeline] ........ (step 3 of 3) Processing classifier, total=   0.0s\n",
      "[Pipeline] ........ (step 3 of 3) Processing classifier, total=   0.0s\n"
     ]
    },
    {
     "name": "stderr",
     "output_type": "stream",
     "text": [
      "[2023-06-25 22:17:21:725] - INFO - SAIL : Cumulative Pipeline Score: 0.883448275862069\n",
      "[2023-06-25 22:17:21:725] - INFO - SAIL : Partially fitting best pipeline.\n",
      "[2023-06-25 22:17:21:725] - INFO - SAIL : Calling Partial_fit() on the pipeline.\n",
      "[2023-06-25 22:17:21:791] - INFO - SAIL : Cumulative Pipeline Score: 0.8813333333333333\n",
      "[2023-06-25 22:17:21:792] - INFO - SAIL : Partially fitting best pipeline.\n",
      "[2023-06-25 22:17:21:792] - INFO - SAIL : Calling Partial_fit() on the pipeline.\n",
      "[2023-06-25 22:17:21:850] - INFO - SAIL : Cumulative Pipeline Score: 0.8825806451612903\n",
      "[2023-06-25 22:17:21:850] - INFO - SAIL : Partially fitting best pipeline.\n",
      "[2023-06-25 22:17:21:850] - INFO - SAIL : Calling Partial_fit() on the pipeline.\n",
      "[2023-06-25 22:17:21:911] - INFO - SAIL : Cumulative Pipeline Score: 0.88\n",
      "[2023-06-25 22:17:21:911] - INFO - SAIL : Partially fitting best pipeline.\n",
      "[2023-06-25 22:17:21:912] - INFO - SAIL : Calling Partial_fit() on the pipeline.\n"
     ]
    },
    {
     "name": "stdout",
     "output_type": "stream",
     "text": [
      "[Pipeline] ........ (step 3 of 3) Processing classifier, total=   0.0s\n",
      "[Pipeline] ........ (step 3 of 3) Processing classifier, total=   0.0s\n",
      "[Pipeline] ........ (step 3 of 3) Processing classifier, total=   0.0s\n",
      "[Pipeline] ........ (step 3 of 3) Processing classifier, total=   0.0s\n"
     ]
    },
    {
     "name": "stderr",
     "output_type": "stream",
     "text": [
      "[2023-06-25 22:17:21:977] - INFO - SAIL : Cumulative Pipeline Score: 0.8787878787878788\n",
      "[2023-06-25 22:17:21:977] - INFO - SAIL : Partially fitting best pipeline.\n",
      "[2023-06-25 22:17:21:978] - INFO - SAIL : Calling Partial_fit() on the pipeline.\n",
      "[2023-06-25 22:17:22:35] - INFO - SAIL : Cumulative Pipeline Score: 0.8794117647058823\n",
      "[2023-06-25 22:17:22:35] - INFO - SAIL : Partially fitting best pipeline.\n",
      "[2023-06-25 22:17:22:35] - INFO - SAIL : Calling Partial_fit() on the pipeline.\n",
      "[2023-06-25 22:17:22:97] - INFO - SAIL : Cumulative Pipeline Score: 0.8794285714285714\n",
      "[2023-06-25 22:17:22:97] - INFO - SAIL : Partially fitting best pipeline.\n",
      "[2023-06-25 22:17:22:97] - INFO - SAIL : Calling Partial_fit() on the pipeline.\n",
      "[2023-06-25 22:17:22:159] - INFO - SAIL : Cumulative Pipeline Score: 0.8794444444444445\n",
      "[2023-06-25 22:17:22:159] - INFO - SAIL : Partially fitting best pipeline.\n",
      "[2023-06-25 22:17:22:160] - INFO - SAIL : Calling Partial_fit() on the pipeline.\n"
     ]
    },
    {
     "name": "stdout",
     "output_type": "stream",
     "text": [
      "[Pipeline] ........ (step 3 of 3) Processing classifier, total=   0.0s\n",
      "[Pipeline] ........ (step 3 of 3) Processing classifier, total=   0.0s\n",
      "[Pipeline] ........ (step 3 of 3) Processing classifier, total=   0.0s\n",
      "[Pipeline] ........ (step 3 of 3) Processing classifier, total=   0.0s\n"
     ]
    },
    {
     "name": "stderr",
     "output_type": "stream",
     "text": [
      "[2023-06-25 22:17:22:226] - INFO - SAIL : Cumulative Pipeline Score: 0.8805405405405405\n",
      "[2023-06-25 22:17:22:227] - INFO - SAIL : Partially fitting best pipeline.\n",
      "[2023-06-25 22:17:22:227] - INFO - SAIL : Calling Partial_fit() on the pipeline.\n",
      "[2023-06-25 22:17:22:288] - INFO - SAIL : Cumulative Pipeline Score: 0.881578947368421\n",
      "[2023-06-25 22:17:22:289] - INFO - SAIL : Partially fitting best pipeline.\n",
      "[2023-06-25 22:17:22:289] - INFO - SAIL : Calling Partial_fit() on the pipeline.\n",
      "[2023-06-25 22:17:22:349] - INFO - SAIL : Cumulative Pipeline Score: 0.882051282051282\n",
      "[2023-06-25 22:17:22:350] - INFO - SAIL : Partially fitting best pipeline.\n",
      "[2023-06-25 22:17:22:351] - INFO - SAIL : Calling Partial_fit() on the pipeline.\n",
      "[2023-06-25 22:17:22:419] - INFO - SAIL : Cumulative Pipeline Score: 0.8795\n",
      "[2023-06-25 22:17:22:419] - INFO - SAIL : Partially fitting best pipeline.\n"
     ]
    },
    {
     "name": "stdout",
     "output_type": "stream",
     "text": [
      "[Pipeline] ........ (step 3 of 3) Processing classifier, total=   0.0s\n",
      "[Pipeline] ........ (step 3 of 3) Processing classifier, total=   0.0s\n",
      "[Pipeline] ........ (step 3 of 3) Processing classifier, total=   0.0s\n",
      "[Pipeline] ........ (step 3 of 3) Processing classifier, total=   0.0s\n"
     ]
    },
    {
     "name": "stderr",
     "output_type": "stream",
     "text": [
      "[2023-06-25 22:17:22:419] - INFO - SAIL : Calling Partial_fit() on the pipeline.\n",
      "[2023-06-25 22:17:22:481] - INFO - SAIL : Cumulative Pipeline Score: 0.88\n",
      "[2023-06-25 22:17:22:482] - INFO - SAIL : Partially fitting best pipeline.\n",
      "[2023-06-25 22:17:22:482] - INFO - SAIL : Calling Partial_fit() on the pipeline.\n",
      "[2023-06-25 22:17:22:545] - INFO - SAIL : Cumulative Pipeline Score: 0.8819047619047619\n",
      "[2023-06-25 22:17:22:545] - INFO - SAIL : Partially fitting best pipeline.\n",
      "[2023-06-25 22:17:22:546] - INFO - SAIL : Calling Partial_fit() on the pipeline.\n",
      "[2023-06-25 22:17:22:606] - INFO - SAIL : Cumulative Pipeline Score: 0.8809302325581395\n",
      "[2023-06-25 22:17:22:606] - INFO - SAIL : Partially fitting best pipeline.\n",
      "[2023-06-25 22:17:22:607] - INFO - SAIL : Calling Partial_fit() on the pipeline.\n"
     ]
    },
    {
     "name": "stdout",
     "output_type": "stream",
     "text": [
      "[Pipeline] ........ (step 3 of 3) Processing classifier, total=   0.0s\n",
      "[Pipeline] ........ (step 3 of 3) Processing classifier, total=   0.0s\n",
      "[Pipeline] ........ (step 3 of 3) Processing classifier, total=   0.0s\n",
      "[Pipeline] ........ (step 3 of 3) Processing classifier, total=   0.0s\n"
     ]
    },
    {
     "name": "stderr",
     "output_type": "stream",
     "text": [
      "[2023-06-25 22:17:22:667] - INFO - SAIL : Cumulative Pipeline Score: 0.8804545454545455\n",
      "[2023-06-25 22:17:22:668] - INFO - SAIL : Partially fitting best pipeline.\n",
      "[2023-06-25 22:17:22:668] - INFO - SAIL : Calling Partial_fit() on the pipeline.\n",
      "[2023-06-25 22:17:22:727] - INFO - SAIL : Cumulative Pipeline Score: 0.8808888888888889\n",
      "[2023-06-25 22:17:22:728] - INFO - SAIL : Partially fitting best pipeline.\n",
      "[2023-06-25 22:17:22:728] - INFO - SAIL : Calling Partial_fit() on the pipeline.\n",
      "[2023-06-25 22:17:22:788] - INFO - SAIL : Cumulative Pipeline Score: 0.8804347826086957\n",
      "[2023-06-25 22:17:22:788] - INFO - SAIL : Partially fitting best pipeline.\n",
      "[2023-06-25 22:17:22:789] - INFO - SAIL : Calling Partial_fit() on the pipeline.\n",
      "[2023-06-25 22:17:22:851] - INFO - SAIL : Cumulative Pipeline Score: 0.8817021276595745\n",
      "[2023-06-25 22:17:22:851] - INFO - SAIL : Partially fitting best pipeline.\n",
      "[2023-06-25 22:17:22:851] - INFO - SAIL : Calling Partial_fit() on the pipeline.\n",
      "[2023-06-25 22:17:22:912] - INFO - SAIL : Cumulative Pipeline Score: 0.8816666666666667\n",
      "[2023-06-25 22:17:22:913] - INFO - SAIL : Partially fitting best pipeline.\n",
      "[2023-06-25 22:17:22:913] - INFO - SAIL : Calling Partial_fit() on the pipeline.\n"
     ]
    },
    {
     "name": "stdout",
     "output_type": "stream",
     "text": [
      "[Pipeline] ........ (step 3 of 3) Processing classifier, total=   0.0s\n",
      "[Pipeline] ........ (step 3 of 3) Processing classifier, total=   0.0s\n",
      "[Pipeline] ........ (step 3 of 3) Processing classifier, total=   0.0s\n",
      "[Pipeline] ........ (step 3 of 3) Processing classifier, total=   0.0s\n"
     ]
    },
    {
     "name": "stderr",
     "output_type": "stream",
     "text": [
      "[2023-06-25 22:17:22:972] - INFO - SAIL : Cumulative Pipeline Score: 0.883265306122449\n",
      "[2023-06-25 22:17:22:973] - INFO - SAIL : Partially fitting best pipeline.\n",
      "[2023-06-25 22:17:22:973] - INFO - SAIL : Calling Partial_fit() on the pipeline.\n",
      "[2023-06-25 22:17:23:35] - INFO - SAIL : Cumulative Pipeline Score: 0.8828\n",
      "[2023-06-25 22:17:23:35] - INFO - SAIL : Partially fitting best pipeline.\n",
      "[2023-06-25 22:17:23:35] - INFO - SAIL : Calling Partial_fit() on the pipeline.\n",
      "[2023-06-25 22:17:23:96] - INFO - SAIL : Cumulative Pipeline Score: 0.884313725490196\n",
      "[2023-06-25 22:17:23:97] - INFO - SAIL : Partially fitting best pipeline.\n",
      "[2023-06-25 22:17:23:97] - INFO - SAIL : Calling Partial_fit() on the pipeline.\n",
      "[2023-06-25 22:17:23:156] - INFO - SAIL : Cumulative Pipeline Score: 0.8838461538461538\n",
      "[2023-06-25 22:17:23:156] - INFO - SAIL : Partially fitting best pipeline.\n",
      "[2023-06-25 22:17:23:156] - INFO - SAIL : Calling Partial_fit() on the pipeline.\n"
     ]
    },
    {
     "name": "stdout",
     "output_type": "stream",
     "text": [
      "[Pipeline] ........ (step 3 of 3) Processing classifier, total=   0.0s\n",
      "[Pipeline] ........ (step 3 of 3) Processing classifier, total=   0.0s\n",
      "[Pipeline] ........ (step 3 of 3) Processing classifier, total=   0.0s\n",
      "[Pipeline] ........ (step 3 of 3) Processing classifier, total=   0.0s\n"
     ]
    },
    {
     "name": "stderr",
     "output_type": "stream",
     "text": [
      "[2023-06-25 22:17:23:220] - INFO - SAIL : Cumulative Pipeline Score: 0.8852830188679245\n",
      "[2023-06-25 22:17:23:221] - INFO - SAIL : Partially fitting best pipeline.\n",
      "[2023-06-25 22:17:23:221] - INFO - SAIL : Calling Partial_fit() on the pipeline.\n",
      "[2023-06-25 22:17:23:284] - INFO - SAIL : Cumulative Pipeline Score: 0.8866666666666667\n",
      "[2023-06-25 22:17:23:285] - INFO - SAIL : Partially fitting best pipeline.\n",
      "[2023-06-25 22:17:23:285] - INFO - SAIL : Calling Partial_fit() on the pipeline.\n",
      "[2023-06-25 22:17:23:346] - INFO - SAIL : Cumulative Pipeline Score: 0.8858181818181818\n",
      "[2023-06-25 22:17:23:346] - INFO - SAIL : Partially fitting best pipeline.\n",
      "[2023-06-25 22:17:23:346] - INFO - SAIL : Calling Partial_fit() on the pipeline.\n",
      "[2023-06-25 22:17:23:410] - INFO - SAIL : Cumulative Pipeline Score: 0.8875\n",
      "[2023-06-25 22:17:23:410] - INFO - SAIL : Partially fitting best pipeline.\n",
      "[2023-06-25 22:17:23:411] - INFO - SAIL : Calling Partial_fit() on the pipeline.\n"
     ]
    },
    {
     "name": "stdout",
     "output_type": "stream",
     "text": [
      "[Pipeline] ........ (step 3 of 3) Processing classifier, total=   0.0s\n",
      "[Pipeline] ........ (step 3 of 3) Processing classifier, total=   0.0s\n",
      "[Pipeline] ........ (step 3 of 3) Processing classifier, total=   0.0s\n",
      "[Pipeline] ........ (step 3 of 3) Processing classifier, total=   0.0s\n"
     ]
    },
    {
     "name": "stderr",
     "output_type": "stream",
     "text": [
      "[2023-06-25 22:17:23:474] - INFO - SAIL : Cumulative Pipeline Score: 0.8880701754385965\n",
      "[2023-06-25 22:17:23:474] - INFO - SAIL : Partially fitting best pipeline.\n",
      "[2023-06-25 22:17:23:474] - INFO - SAIL : Calling Partial_fit() on the pipeline.\n",
      "[2023-06-25 22:17:23:535] - INFO - SAIL : Cumulative Pipeline Score: 0.8896551724137931\n",
      "[2023-06-25 22:17:23:535] - INFO - SAIL : Partially fitting best pipeline.\n",
      "[2023-06-25 22:17:23:536] - INFO - SAIL : Calling Partial_fit() on the pipeline.\n",
      "[2023-06-25 22:17:23:601] - INFO - SAIL : Cumulative Pipeline Score: 0.8915254237288136\n",
      "[2023-06-25 22:17:23:601] - INFO - SAIL : Partially fitting best pipeline.\n",
      "[2023-06-25 22:17:23:601] - INFO - SAIL : Calling Partial_fit() on the pipeline.\n"
     ]
    },
    {
     "name": "stdout",
     "output_type": "stream",
     "text": [
      "[Pipeline] ........ (step 3 of 3) Processing classifier, total=   0.0s\n",
      "[Pipeline] ........ (step 3 of 3) Processing classifier, total=   0.0s\n",
      "[Pipeline] ........ (step 3 of 3) Processing classifier, total=   0.0s\n",
      "[Pipeline] ........ (step 3 of 3) Processing classifier, total=   0.1s\n"
     ]
    },
    {
     "name": "stderr",
     "output_type": "stream",
     "text": [
      "[2023-06-25 22:17:23:673] - INFO - SAIL : Cumulative Pipeline Score: 0.8916666666666667\n",
      "[2023-06-25 22:17:23:674] - INFO - SAIL : Partially fitting best pipeline.\n",
      "[2023-06-25 22:17:23:674] - INFO - SAIL : Calling Partial_fit() on the pipeline.\n",
      "[2023-06-25 22:17:23:739] - INFO - SAIL : Cumulative Pipeline Score: 0.8904918032786885\n",
      "[2023-06-25 22:17:23:739] - INFO - SAIL : Partially fitting best pipeline.\n",
      "[2023-06-25 22:17:23:739] - INFO - SAIL : Calling Partial_fit() on the pipeline.\n",
      "[2023-06-25 22:17:23:806] - INFO - SAIL : Cumulative Pipeline Score: 0.8916129032258064\n",
      "[2023-06-25 22:17:23:806] - INFO - SAIL : Partially fitting best pipeline.\n",
      "[2023-06-25 22:17:23:806] - INFO - SAIL : Calling Partial_fit() on the pipeline.\n",
      "[2023-06-25 22:17:23:868] - INFO - SAIL : Cumulative Pipeline Score: 0.8926984126984127\n",
      "[2023-06-25 22:17:23:868] - INFO - SAIL : Partially fitting best pipeline.\n",
      "[2023-06-25 22:17:23:869] - INFO - SAIL : Calling Partial_fit() on the pipeline.\n"
     ]
    },
    {
     "name": "stdout",
     "output_type": "stream",
     "text": [
      "[Pipeline] ........ (step 3 of 3) Processing classifier, total=   0.0s\n",
      "[Pipeline] ........ (step 3 of 3) Processing classifier, total=   0.0s\n",
      "[Pipeline] ........ (step 3 of 3) Processing classifier, total=   0.0s\n",
      "[Pipeline] ........ (step 3 of 3) Processing classifier, total=   0.0s\n"
     ]
    },
    {
     "name": "stderr",
     "output_type": "stream",
     "text": [
      "[2023-06-25 22:17:23:935] - INFO - SAIL : Cumulative Pipeline Score: 0.89375\n",
      "[2023-06-25 22:17:23:936] - INFO - SAIL : Partially fitting best pipeline.\n",
      "[2023-06-25 22:17:23:936] - INFO - SAIL : Calling Partial_fit() on the pipeline.\n",
      "[2023-06-25 22:17:23:999] - INFO - SAIL : Cumulative Pipeline Score: 0.8941538461538462\n",
      "[2023-06-25 22:17:23:999] - INFO - SAIL : Partially fitting best pipeline.\n",
      "[2023-06-25 22:17:23:999] - INFO - SAIL : Calling Partial_fit() on the pipeline.\n",
      "[2023-06-25 22:17:24:59] - INFO - SAIL : Cumulative Pipeline Score: 0.8948484848484849\n",
      "[2023-06-25 22:17:24:60] - INFO - SAIL : Partially fitting best pipeline.\n",
      "[2023-06-25 22:17:24:60] - INFO - SAIL : Calling Partial_fit() on the pipeline.\n",
      "[2023-06-25 22:17:24:124] - INFO - SAIL : Cumulative Pipeline Score: 0.8946268656716417\n",
      "[2023-06-25 22:17:24:124] - INFO - SAIL : Partially fitting best pipeline.\n",
      "[2023-06-25 22:17:24:124] - INFO - SAIL : Calling Partial_fit() on the pipeline.\n"
     ]
    },
    {
     "name": "stdout",
     "output_type": "stream",
     "text": [
      "[Pipeline] ........ (step 3 of 3) Processing classifier, total=   0.0s\n",
      "[Pipeline] ........ (step 3 of 3) Processing classifier, total=   0.0s\n",
      "[Pipeline] ........ (step 3 of 3) Processing classifier, total=   0.0s\n",
      "[Pipeline] ........ (step 3 of 3) Processing classifier, total=   0.0s\n"
     ]
    },
    {
     "name": "stderr",
     "output_type": "stream",
     "text": [
      "[2023-06-25 22:17:24:189] - INFO - SAIL : Cumulative Pipeline Score: 0.8958823529411765\n",
      "[2023-06-25 22:17:24:190] - INFO - SAIL : Partially fitting best pipeline.\n",
      "[2023-06-25 22:17:24:190] - INFO - SAIL : Calling Partial_fit() on the pipeline.\n",
      "[2023-06-25 22:17:24:259] - INFO - SAIL : Cumulative Pipeline Score: 0.8965217391304348\n",
      "[2023-06-25 22:17:24:259] - INFO - SAIL : Partially fitting best pipeline.\n",
      "[2023-06-25 22:17:24:259] - INFO - SAIL : Calling Partial_fit() on the pipeline.\n",
      "[2023-06-25 22:17:24:321] - INFO - SAIL : Cumulative Pipeline Score: 0.896\n",
      "[2023-06-25 22:17:24:322] - INFO - SAIL : Partially fitting best pipeline.\n",
      "[2023-06-25 22:17:24:322] - INFO - SAIL : Calling Partial_fit() on the pipeline.\n",
      "[2023-06-25 22:17:24:387] - INFO - SAIL : Cumulative Pipeline Score: 0.896056338028169\n",
      "[2023-06-25 22:17:24:388] - INFO - SAIL : Partially fitting best pipeline.\n",
      "[2023-06-25 22:17:24:388] - INFO - SAIL : Calling Partial_fit() on the pipeline.\n",
      "[2023-06-25 22:17:24:455] - INFO - SAIL : Cumulative Pipeline Score: 0.8972222222222223\n",
      "[2023-06-25 22:17:24:455] - INFO - SAIL : Partially fitting best pipeline.\n",
      "[2023-06-25 22:17:24:455] - INFO - SAIL : Calling Partial_fit() on the pipeline.\n"
     ]
    },
    {
     "name": "stdout",
     "output_type": "stream",
     "text": [
      "[Pipeline] ........ (step 3 of 3) Processing classifier, total=   0.1s\n",
      "[Pipeline] ........ (step 3 of 3) Processing classifier, total=   0.0s\n",
      "[Pipeline] ........ (step 3 of 3) Processing classifier, total=   0.0s\n",
      "[Pipeline] ........ (step 3 of 3) Processing classifier, total=   0.1s\n"
     ]
    },
    {
     "name": "stderr",
     "output_type": "stream",
     "text": [
      "[2023-06-25 22:17:24:528] - INFO - SAIL : Cumulative Pipeline Score: 0.8975342465753424\n",
      "[2023-06-25 22:17:24:528] - INFO - SAIL : Partially fitting best pipeline.\n",
      "[2023-06-25 22:17:24:529] - INFO - SAIL : Calling Partial_fit() on the pipeline.\n",
      "[2023-06-25 22:17:24:599] - INFO - SAIL : Cumulative Pipeline Score: 0.8978378378378379\n",
      "[2023-06-25 22:17:24:600] - INFO - SAIL : Partially fitting best pipeline.\n",
      "[2023-06-25 22:17:24:600] - INFO - SAIL : Calling Partial_fit() on the pipeline.\n",
      "[2023-06-25 22:17:24:670] - INFO - SAIL : Cumulative Pipeline Score: 0.8986666666666666\n",
      "[2023-06-25 22:17:24:671] - INFO - SAIL : Partially fitting best pipeline.\n",
      "[2023-06-25 22:17:24:671] - INFO - SAIL : Calling Partial_fit() on the pipeline.\n"
     ]
    },
    {
     "name": "stdout",
     "output_type": "stream",
     "text": [
      "[Pipeline] ........ (step 3 of 3) Processing classifier, total=   0.1s\n",
      "[Pipeline] ........ (step 3 of 3) Processing classifier, total=   0.1s\n",
      "[Pipeline] ........ (step 3 of 3) Processing classifier, total=   0.1s\n"
     ]
    },
    {
     "name": "stderr",
     "output_type": "stream",
     "text": [
      "[2023-06-25 22:17:24:740] - INFO - SAIL : Cumulative Pipeline Score: 0.8989473684210526\n",
      "[2023-06-25 22:17:24:740] - INFO - SAIL : Partially fitting best pipeline.\n",
      "[2023-06-25 22:17:24:741] - INFO - SAIL : Calling Partial_fit() on the pipeline.\n",
      "[2023-06-25 22:17:24:812] - INFO - SAIL : Cumulative Pipeline Score: 0.8992207792207793\n",
      "[2023-06-25 22:17:24:812] - INFO - SAIL : Partially fitting best pipeline.\n",
      "[2023-06-25 22:17:24:812] - INFO - SAIL : Calling Partial_fit() on the pipeline.\n",
      "[2023-06-25 22:17:24:881] - INFO - SAIL : Cumulative Pipeline Score: 0.8994871794871795\n",
      "[2023-06-25 22:17:24:881] - INFO - SAIL : Partially fitting best pipeline.\n",
      "[2023-06-25 22:17:24:882] - INFO - SAIL : Calling Partial_fit() on the pipeline.\n"
     ]
    },
    {
     "name": "stdout",
     "output_type": "stream",
     "text": [
      "[Pipeline] ........ (step 3 of 3) Processing classifier, total=   0.1s\n",
      "[Pipeline] ........ (step 3 of 3) Processing classifier, total=   0.1s\n",
      "[Pipeline] ........ (step 3 of 3) Processing classifier, total=   0.1s\n"
     ]
    },
    {
     "name": "stderr",
     "output_type": "stream",
     "text": [
      "[2023-06-25 22:17:24:954] - INFO - SAIL : Cumulative Pipeline Score: 0.900506329113924\n",
      "[2023-06-25 22:17:24:954] - INFO - SAIL : Partially fitting best pipeline.\n",
      "[2023-06-25 22:17:24:954] - INFO - SAIL : Calling Partial_fit() on the pipeline.\n",
      "[2023-06-25 22:17:25:24] - INFO - SAIL : Cumulative Pipeline Score: 0.90125\n",
      "[2023-06-25 22:17:25:24] - INFO - SAIL : Partially fitting best pipeline.\n",
      "[2023-06-25 22:17:25:25] - INFO - SAIL : Calling Partial_fit() on the pipeline.\n"
     ]
    },
    {
     "name": "stdout",
     "output_type": "stream",
     "text": [
      "[Pipeline] ........ (step 3 of 3) Processing classifier, total=   0.1s\n",
      "[Pipeline] ........ (step 3 of 3) Processing classifier, total=   0.1s\n",
      "[Pipeline] ........ (step 3 of 3) Processing classifier, total=   0.1s\n"
     ]
    }
   ],
   "source": [
    "y_preds = []\n",
    "y_true = []\n",
    "batch_size = 50\n",
    "\n",
    "start = 0\n",
    "for end in range(50, 2001, batch_size):\n",
    "\n",
    "    X_train = X.iloc[start:end]\n",
    "    y_train = y.iloc[start:end]\n",
    "\n",
    "    if end > 1000: # search_data_size is 1000\n",
    "        preds = auto_pipeline.predict(X_train)\n",
    "        y_preds.extend(list(preds))\n",
    "        y_true.extend(list(y_train))\n",
    "\n",
    "    auto_pipeline.train(X_train, y_train, classifier__classes=[1, 0])\n",
    "    start = end\n"
   ]
  },
  {
   "attachments": {},
   "cell_type": "markdown",
   "metadata": {},
   "source": [
    "#### Classification Report\n"
   ]
  },
  {
   "cell_type": "code",
   "execution_count": 8,
   "metadata": {},
   "outputs": [
    {
     "name": "stdout",
     "output_type": "stream",
     "text": [
      "              precision    recall  f1-score   support\n",
      "\n",
      "           0       0.93      0.95      0.94      2674\n",
      "           1       0.90      0.85      0.87      1326\n",
      "\n",
      "    accuracy                           0.92      4000\n",
      "   macro avg       0.91      0.90      0.91      4000\n",
      "weighted avg       0.92      0.92      0.92      4000\n",
      "\n"
     ]
    }
   ],
   "source": [
    "from sklearn.metrics import confusion_matrix, classification_report\n",
    "\n",
    "print(classification_report(y_true, y_preds))"
   ]
  },
  {
   "attachments": {},
   "cell_type": "markdown",
   "metadata": {},
   "source": [
    "#### Plot confusion matrix\n"
   ]
  },
  {
   "cell_type": "code",
   "execution_count": 9,
   "metadata": {},
   "outputs": [
    {
     "data": {
      "text/plain": [
       "<Axes: >"
      ]
     },
     "execution_count": 9,
     "metadata": {},
     "output_type": "execute_result"
    },
    {
     "data": {
      "image/png": "[encoded data removed]",
      "text/plain": [
       "<Figure size 640x480 with 2 Axes>"
      ]
     },
     "metadata": {},
     "output_type": "display_data"
    }
   ],
   "source": [
    "import seaborn as sns\n",
    "\n",
    "cf_matrix = confusion_matrix(y_true, y_preds)\n",
    "sns.heatmap(cf_matrix/np.sum(cf_matrix), annot=True, fmt='.2%', cmap='Blues')"
   ]
  }
 ],
 "metadata": {
  "kernelspec": {
   "display_name": "venv-sail",
   "language": "python",
   "name": "python3"
  },
  "language_info": {
   "codemirror_mode": {
    "name": "ipython",
    "version": 3
   },
   "file_extension": ".py",
   "mimetype": "text/x-python",
   "name": "python",
   "nbconvert_exporter": "python",
   "pygments_lexer": "ipython3",
   "version": "3.8.12"
  },
  "orig_nbformat": 4
 },
 "nbformat": 4,
 "nbformat_minor": 2
}
