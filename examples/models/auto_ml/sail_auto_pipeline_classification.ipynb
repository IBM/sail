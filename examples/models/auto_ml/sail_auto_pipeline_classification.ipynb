{
 "cells": [
  {
   "cell_type": "code",
   "execution_count": 1,
   "metadata": {},
   "outputs": [],
   "source": [
    "import numpy as np\n",
    "import pandas as pd\n",
    "from river import optim\n",
    "from river import metrics\n",
    "from river.drift.binary import EDDM\n",
    "from sail.telemetry import TracingClient\n",
    "from sail.models.auto_ml.tune import SAILTuneGridSearchCV\n",
    "from sail.models.river.forest import AdaptiveRandomForestClassifier\n",
    "from sail.models.river.linear_model import LogisticRegression\n",
    "from sail.models.auto_ml.auto_pipeline import SAILAutoPipeline\n",
    "from sail.pipeline import SAILPipeline\n",
    "from sklearn.impute import SimpleImputer\n",
    "from sail.drift_detection.drift_detector import SAILDriftDetector\n",
    "from sail.transformers.river.preprocessing import StandardScaler"
   ]
  },
  {
   "attachments": {},
   "cell_type": "markdown",
   "metadata": {},
   "source": [
    "#### Load Data\n"
   ]
  },
  {
   "cell_type": "code",
   "execution_count": 2,
   "metadata": {},
   "outputs": [],
   "source": [
    "X = pd.read_csv(\"../../datasets/agrawal.csv\").head(50000)\n",
    "\n",
    "y = X[\"class\"]\n",
    "X.drop(\"class\", axis=1, inplace=True)"
   ]
  },
  {
   "attachments": {},
   "cell_type": "markdown",
   "metadata": {},
   "source": [
    "#### Model Definition\n"
   ]
  },
  {
   "cell_type": "code",
   "execution_count": 3,
   "metadata": {},
   "outputs": [],
   "source": [
    "logistic_reg = LogisticRegression(optimizer=optim.SGD(0.1))\n",
    "random_forest = AdaptiveRandomForestClassifier(n_models=10)"
   ]
  },
  {
   "attachments": {},
   "cell_type": "markdown",
   "metadata": {},
   "source": [
    "#### Create SAIL Pipeline\n"
   ]
  },
  {
   "cell_type": "code",
   "execution_count": 4,
   "metadata": {},
   "outputs": [],
   "source": [
    "steps = [\n",
    "    (\"Imputer\", SimpleImputer(missing_values=np.nan, strategy=\"mean\")),\n",
    "    (\"standard_scalar\", StandardScaler()),\n",
    "    (\"classifier\", \"passthrough\"),\n",
    "]\n",
    "sail_pipeline = SAILPipeline(steps=steps, scoring=metrics.Accuracy, verbosity_level=1, verbosity_interval=1)"
   ]
  },
  {
   "attachments": {},
   "cell_type": "markdown",
   "metadata": {},
   "source": [
    "#### HPO Params\n"
   ]
  },
  {
   "cell_type": "code",
   "execution_count": 5,
   "metadata": {},
   "outputs": [],
   "source": [
    "params_grid = [\n",
    "    {\n",
    "        \"classifier\": [logistic_reg],\n",
    "        \"classifier__l2\": [0.1, 0.9],\n",
    "        \"classifier__intercept_init\": [0.2, 0.5],\n",
    "    },\n",
    "    {\n",
    "        \"classifier\": [random_forest],\n",
    "        \"classifier__n_models\": [5, 10],\n",
    "        \"Imputer\": [\"passthrough\"],\n",
    "    },\n",
    "]\n",
    "\n",
    "# params_grid = {\n",
    "#     \"classifier__l2\": [0.1, 0.9],\n",
    "#     \"classifier__intercept_init\": [0.2, 0.5],\n",
    "# }\n"
   ]
  },
  {
   "attachments": {},
   "cell_type": "markdown",
   "metadata": {},
   "source": [
    "#### Create Model Instance\n"
   ]
  },
  {
   "cell_type": "code",
   "execution_count": 6,
   "metadata": {},
   "outputs": [],
   "source": [
    "# tracer = TracingClient(service_name=\"SAIL_Testing\", otlp_endpoint=\"http://localhost:4318\")"
   ]
  },
  {
   "cell_type": "code",
   "execution_count": 7,
   "metadata": {},
   "outputs": [
    {
     "name": "stderr",
     "output_type": "stream",
     "text": [
      "[2023-10-02 01:55:07:579] - INFO - SAIL (PipelineStrategy) - Pipeline Strategy [DetectAndIncrement] created with actions: ['DATA_COLLECTION', 'FIND_BEST_PIPELINE', 'SCORE_AND_DETECT_DRIFT', 'PARTIAL_FIT_MODEL']\n"
     ]
    }
   ],
   "source": [
    "auto_pipeline = SAILAutoPipeline(\n",
    "    pipeline=sail_pipeline,\n",
    "    pipeline_params_grid=params_grid,\n",
    "    search_method=SAILTuneGridSearchCV,\n",
    "    search_method_params={\n",
    "        \"num_cpus_per_trial\": 1,\n",
    "        \"max_iters\": 1,\n",
    "        \"early_stopping\": False,\n",
    "        \"mode\": \"max\",\n",
    "        \"scoring\": \"accuracy\",\n",
    "        \"pipeline_auto_early_stop\": False,\n",
    "        \"keep_best_configurations\": 2\n",
    "    },\n",
    "    search_data_size=1000,\n",
    "    incremental_training=True,\n",
    "    drift_detector=SAILDriftDetector(model=EDDM(), drift_param=\"score\"),\n",
    "    pipeline_strategy=\"DetectAndIncrement\",\n",
    "    verbosity_level=1, \n",
    "    verbosity_interval=1,\n",
    "    tensorboard_log_dir=None,\n",
    "    tracer=None # tracer\n",
    ")"
   ]
  },
  {
   "attachments": {},
   "cell_type": "markdown",
   "metadata": {},
   "source": [
    "#### Start Training\n"
   ]
  },
  {
   "cell_type": "code",
   "execution_count": 8,
   "metadata": {},
   "outputs": [
    {
     "data": {
      "text/html": [
       "<div class=\"tuneStatus\">\n",
       "  <div style=\"display: flex;flex-direction: row\">\n",
       "    <div style=\"display: flex;flex-direction: column;\">\n",
       "      <h3>Tune Status</h3>\n",
       "      <table>\n",
       "<tbody>\n",
       "<tr><td>Current time:</td><td>2023-10-02 01:55:19</td></tr>\n",
       "<tr><td>Running for: </td><td>00:00:07.68        </td></tr>\n",
       "<tr><td>Memory:      </td><td>25.6/64.0 GiB      </td></tr>\n",
       "</tbody>\n",
       "</table>\n",
       "    </div>\n",
       "    <div class=\"vDivider\"></div>\n",
       "    <div class=\"systemInfo\">\n",
       "      <h3>System Info</h3>\n",
       "      Using FIFO scheduling algorithm.<br>Logical resource usage: 1.0/10 CPUs, 0/0 GPUs\n",
       "    </div>\n",
       "    \n",
       "  </div>\n",
       "  <div class=\"hDivider\"></div>\n",
       "  <div class=\"trialStatus\">\n",
       "    <h3>Trial Status</h3>\n",
       "    <table>\n",
       "<thead>\n",
       "<tr><th>Trial name         </th><th>status    </th><th>loc            </th><th>Imputer    </th><th>classifier          </th><th style=\"text-align: right;\">    classifier__intercep\n",
       "t_init</th><th style=\"text-align: right;\">  classifier__l2</th><th style=\"text-align: right;\">  classifier__n_models</th><th style=\"text-align: right;\">  iter</th><th style=\"text-align: right;\">  total time (s)</th><th style=\"text-align: right;\">  split0_test_score</th><th style=\"text-align: right;\">  split1_test_score</th><th style=\"text-align: right;\">  split2_test_score</th></tr>\n",
       "</thead>\n",
       "<tbody>\n",
       "<tr><td>_Trainable_8df0bd45</td><td>TERMINATED</td><td>127.0.0.1:69852</td><td>           </td><td>LogisticRegress_9ed0</td><td style=\"text-align: right;\">0.2</td><td style=\"text-align: right;\">             0.1</td><td style=\"text-align: right;\">                      </td><td style=\"text-align: right;\">     1</td><td style=\"text-align: right;\">        0.118111</td><td style=\"text-align: right;\">              0.59 </td><td style=\"text-align: right;\">              0.655</td><td style=\"text-align: right;\">              0.545</td></tr>\n",
       "<tr><td>_Trainable_b62f50cd</td><td>TERMINATED</td><td>127.0.0.1:69852</td><td>           </td><td>LogisticRegress_6740</td><td style=\"text-align: right;\">0.2</td><td style=\"text-align: right;\">             0.9</td><td style=\"text-align: right;\">                      </td><td style=\"text-align: right;\">     1</td><td style=\"text-align: right;\">        0.111357</td><td style=\"text-align: right;\">              0.67 </td><td style=\"text-align: right;\">              0.68 </td><td style=\"text-align: right;\">              0.63 </td></tr>\n",
       "<tr><td>_Trainable_8d02601f</td><td>TERMINATED</td><td>127.0.0.1:69852</td><td>           </td><td>LogisticRegress_6170</td><td style=\"text-align: right;\">0.5</td><td style=\"text-align: right;\">             0.1</td><td style=\"text-align: right;\">                      </td><td style=\"text-align: right;\">     1</td><td style=\"text-align: right;\">        0.138101</td><td style=\"text-align: right;\">              0.585</td><td style=\"text-align: right;\">              0.65 </td><td style=\"text-align: right;\">              0.55 </td></tr>\n",
       "<tr><td>_Trainable_c87e991f</td><td>TERMINATED</td><td>127.0.0.1:69852</td><td>           </td><td>LogisticRegress_4700</td><td style=\"text-align: right;\">0.5</td><td style=\"text-align: right;\">             0.9</td><td style=\"text-align: right;\">                      </td><td style=\"text-align: right;\">     1</td><td style=\"text-align: right;\">        0.135883</td><td style=\"text-align: right;\">              0.665</td><td style=\"text-align: right;\">              0.68 </td><td style=\"text-align: right;\">              0.63 </td></tr>\n",
       "<tr><td>_Trainable_647e264b</td><td>TERMINATED</td><td>127.0.0.1:69852</td><td>passthrough</td><td>AdaptiveRandomF_45e0</td><td style=\"text-align: right;\">   </td><td style=\"text-align: right;\">                </td><td style=\"text-align: right;\">                     5</td><td style=\"text-align: right;\">     1</td><td style=\"text-align: right;\">        1.71264 </td><td style=\"text-align: right;\">              0.8  </td><td style=\"text-align: right;\">              0.93 </td><td style=\"text-align: right;\">              0.805</td></tr>\n",
       "<tr><td>_Trainable_ef4d2417</td><td>TERMINATED</td><td>127.0.0.1:69852</td><td>passthrough</td><td>AdaptiveRandomF_7bb0</td><td style=\"text-align: right;\">   </td><td style=\"text-align: right;\">                </td><td style=\"text-align: right;\">                    10</td><td style=\"text-align: right;\">     1</td><td style=\"text-align: right;\">        2.95077 </td><td style=\"text-align: right;\">              0.955</td><td style=\"text-align: right;\">              0.92 </td><td style=\"text-align: right;\">              0.89 </td></tr>\n",
       "</tbody>\n",
       "</table>\n",
       "  </div>\n",
       "</div>\n",
       "<style>\n",
       ".tuneStatus {\n",
       "  color: var(--jp-ui-font-color1);\n",
       "}\n",
       ".tuneStatus .systemInfo {\n",
       "  display: flex;\n",
       "  flex-direction: column;\n",
       "}\n",
       ".tuneStatus td {\n",
       "  white-space: nowrap;\n",
       "}\n",
       ".tuneStatus .trialStatus {\n",
       "  display: flex;\n",
       "  flex-direction: column;\n",
       "}\n",
       ".tuneStatus h3 {\n",
       "  font-weight: bold;\n",
       "}\n",
       ".tuneStatus .hDivider {\n",
       "  border-bottom-width: var(--jp-border-width);\n",
       "  border-bottom-color: var(--jp-border-color0);\n",
       "  border-bottom-style: solid;\n",
       "}\n",
       ".tuneStatus .vDivider {\n",
       "  border-left-width: var(--jp-border-width);\n",
       "  border-left-color: var(--jp-border-color0);\n",
       "  border-left-style: solid;\n",
       "  margin: 0.5em 1em 0.5em 1em;\n",
       "}\n",
       "</style>\n"
      ],
      "text/plain": [
       "<IPython.core.display.HTML object>"
      ]
     },
     "metadata": {},
     "output_type": "display_data"
    },
    {
     "name": "stderr",
     "output_type": "stream",
     "text": [
      "[2023-10-02 01:55:21:913] - INFO - SAIL (PipelineStrategy) - Pipeline tuning completed. Disconnecting Ray cluster...\n",
      "[2023-10-02 01:55:21:914] - INFO - SAIL (PipelineStrategy) - Found best params: {'Imputer': 'passthrough', 'classifier': AdaptiveRandomForestClassifier(drift_detector=ADWIN (\n",
      "      delta=0.001\n",
      "      clock=32\n",
      "      max_buckets=5\n",
      "      min_window_length=5\n",
      "      grace_period=10\n",
      "    ),\n",
      "                                   metric=Accuracy: 0.00%,\n",
      "                                   warning_detector=ADWIN (\n",
      "      delta=0.01\n",
      "      clock=32\n",
      "      max_buckets=5\n",
      "      min_window_length=5\n",
      "      grace_period=10\n",
      "    )), 'classifier__n_models': 10}\n",
      "\n",
      "    \n",
      ">> Epoch: 21 | Samples Seen: 1000 -------------------------------------------------------------------------------------\n",
      "SAIL Pipeline Progressive Score: 100%========== [Points: 50/50, Elapsed:0.0016s, Metric=Accuracy, Batch Size=50, P_Score=0.94]\n",
      "SAIL Drift detection: 100%========== [Points: 50/50, Elapsed:0.0013s, Detector=EDDM, Batch Size=50, Param=differene, Drift=No]\n",
      "[2023-10-02 01:55:21:979] - INFO - SAIL (TensorboardWriter) - Sending training output to Tensorboard logs. Please run `tensorboard --logdir /Users/dhaval/Projects/SAIL/sail/LOGS/Training_Logs` in terminal to start tensorboard server and track training progress.\n",
      "SAIL Pipeline Partial fit: 100%========== [Steps: 2/2, ETA: 00:00<00:00, Elapsed:0.068s, Batch Size=50, P_Score=0.94]             \n",
      "\n",
      "    \n",
      ">> Epoch: 22 | Samples Seen: 1050 -------------------------------------------------------------------------------------\n",
      "SAIL Pipeline Progressive Score: 100%========== [Points: 50/50, Elapsed:0.0013s, Metric=Accuracy, Batch Size=50, P_Score=0.95]\n",
      "SAIL Drift detection: 100%========== [Points: 50/50, Elapsed:0.0012s, Detector=EDDM, Batch Size=50, Param=differene, Drift=No]\n",
      "SAIL Pipeline Partial fit: 100%========== [Steps: 2/2, ETA: 00:00<00:00, Elapsed:0.045s, Batch Size=50, P_Score=0.95]             \n",
      "\n",
      "    \n",
      ">> Epoch: 23 | Samples Seen: 1100 -------------------------------------------------------------------------------------\n",
      "SAIL Pipeline Progressive Score: 100%========== [Points: 50/50, Elapsed:0.0024s, Metric=Accuracy, Batch Size=50, P_Score=0.947]\n",
      "SAIL Drift detection: 100%========== [Points: 50/50, Elapsed:0.0012s, Detector=EDDM, Batch Size=50, Param=differene, Drift=No]\n",
      "SAIL Pipeline Partial fit: 100%========== [Steps: 2/2, ETA: 00:00<00:00, Elapsed:0.046s, Batch Size=50, P_Score=0.947]             \n",
      "\n",
      "    \n",
      ">> Epoch: 24 | Samples Seen: 1150 -------------------------------------------------------------------------------------\n",
      "SAIL Pipeline Progressive Score: 100%========== [Points: 50/50, Elapsed:0.0015s, Metric=Accuracy, Batch Size=50, P_Score=0.945]\n",
      "SAIL Drift detection: 100%========== [Points: 50/50, Elapsed:0.0009s, Detector=EDDM, Batch Size=50, Param=differene, Drift=No]\n",
      "SAIL Pipeline Partial fit: 100%========== [Steps: 2/2, ETA: 00:00<00:00, Elapsed:0.043s, Batch Size=50, P_Score=0.945]             \n",
      "\n",
      "    \n",
      ">> Epoch: 25 | Samples Seen: 1200 -------------------------------------------------------------------------------------\n",
      "SAIL Pipeline Progressive Score: 100%========== [Points: 50/50, Elapsed:0.0012s, Metric=Accuracy, Batch Size=50, P_Score=0.932]\n",
      "SAIL Drift detection: 100%========== [Points: 50/50, Elapsed:0.0016s, Detector=EDDM, Batch Size=50, Param=differene, Drift=No]\n",
      "SAIL Pipeline Partial fit: 100%========== [Steps: 2/2, ETA: 00:00<00:00, Elapsed:0.049s, Batch Size=50, P_Score=0.932]             \n",
      "\n",
      "    \n",
      ">> Epoch: 26 | Samples Seen: 1250 -------------------------------------------------------------------------------------\n",
      "SAIL Pipeline Progressive Score: 100%========== [Points: 50/50, Elapsed:0.0016s, Metric=Accuracy, Batch Size=50, P_Score=0.933]\n",
      "SAIL Drift detection: 100%========== [Points: 50/50, Elapsed:0.0015s, Detector=EDDM, Batch Size=50, Param=differene, Drift=No]\n",
      "SAIL Pipeline Partial fit: 100%========== [Steps: 2/2, ETA: 00:00<00:00, Elapsed:0.050s, Batch Size=50, P_Score=0.933]             \n",
      "\n",
      "    \n",
      ">> Epoch: 27 | Samples Seen: 1300 -------------------------------------------------------------------------------------\n",
      "SAIL Pipeline Progressive Score: 100%========== [Points: 50/50, Elapsed:0.0019s, Metric=Accuracy, Batch Size=50, P_Score=0.937]\n",
      "SAIL Drift detection: 100%========== [Points: 50/50, Elapsed:0.0010s, Detector=EDDM, Batch Size=50, Param=differene, Drift=No]\n",
      "SAIL Pipeline Partial fit: 100%========== [Steps: 2/2, ETA: 00:00<00:00, Elapsed:0.045s, Batch Size=50, P_Score=0.937]             \n",
      "\n",
      "    \n",
      ">> Epoch: 28 | Samples Seen: 1350 -------------------------------------------------------------------------------------\n",
      "SAIL Pipeline Progressive Score: 100%========== [Points: 50/50, Elapsed:0.0016s, Metric=Accuracy, Batch Size=50, P_Score=0.94]\n",
      "SAIL Drift detection: 100%========== [Points: 50/50, Elapsed:0.0020s, Detector=EDDM, Batch Size=50, Param=differene, Drift=No]\n",
      "SAIL Pipeline Partial fit: 100%========== [Steps: 2/2, ETA: 00:00<00:00, Elapsed:0.055s, Batch Size=50, P_Score=0.94]             \n",
      "\n",
      "    \n",
      ">> Epoch: 29 | Samples Seen: 1400 -------------------------------------------------------------------------------------\n",
      "SAIL Pipeline Progressive Score: 100%========== [Points: 50/50, Elapsed:0.0015s, Metric=Accuracy, Batch Size=50, P_Score=0.936]\n",
      "SAIL Drift detection: 100%========== [Points: 50/50, Elapsed:0.0012s, Detector=EDDM, Batch Size=50, Param=differene, Drift=No]\n",
      "SAIL Pipeline Partial fit: 100%========== [Steps: 2/2, ETA: 00:00<00:00, Elapsed:0.044s, Batch Size=50, P_Score=0.936]             \n",
      "\n",
      "    \n",
      ">> Epoch: 30 | Samples Seen: 1450 -------------------------------------------------------------------------------------\n",
      "SAIL Pipeline Progressive Score: 100%========== [Points: 50/50, Elapsed:0.0015s, Metric=Accuracy, Batch Size=50, P_Score=0.938]\n",
      "SAIL Drift detection: 100%========== [Points: 50/50, Elapsed:0.0013s, Detector=EDDM, Batch Size=50, Param=differene, Drift=No]\n",
      "SAIL Pipeline Partial fit: 100%========== [Steps: 2/2, ETA: 00:00<00:00, Elapsed:0.047s, Batch Size=50, P_Score=0.938]             \n",
      "\n",
      "    \n",
      ">> Epoch: 31 | Samples Seen: 1500 -------------------------------------------------------------------------------------\n",
      "SAIL Pipeline Progressive Score: 100%========== [Points: 50/50, Elapsed:0.0018s, Metric=Accuracy, Batch Size=50, P_Score=0.94]\n",
      "SAIL Drift detection: 100%========== [Points: 50/50, Elapsed:0.0011s, Detector=EDDM, Batch Size=50, Param=differene, Drift=No]\n",
      "SAIL Pipeline Partial fit: 100%========== [Steps: 2/2, ETA: 00:00<00:00, Elapsed:0.043s, Batch Size=50, P_Score=0.94]             \n",
      "\n",
      "    \n",
      ">> Epoch: 32 | Samples Seen: 1550 -------------------------------------------------------------------------------------\n",
      "SAIL Pipeline Progressive Score: 100%========== [Points: 50/50, Elapsed:0.0014s, Metric=Accuracy, Batch Size=50, P_Score=0.937]\n",
      "SAIL Drift detection: 100%========== [Points: 50/50, Elapsed:0.0015s, Detector=EDDM, Batch Size=50, Param=differene, Drift=No]\n",
      "SAIL Pipeline Partial fit: 100%========== [Steps: 2/2, ETA: 00:00<00:00, Elapsed:0.044s, Batch Size=50, P_Score=0.937]             \n",
      "\n",
      "    \n",
      ">> Epoch: 33 | Samples Seen: 1600 -------------------------------------------------------------------------------------\n",
      "SAIL Pipeline Progressive Score: 100%========== [Points: 50/50, Elapsed:0.0019s, Metric=Accuracy, Batch Size=50, P_Score=0.929]\n",
      "SAIL Drift detection:  40%====       [Points: 20/50, Elapsed:0.0027s, Detector=EDDM, Batch Size=50, Param=differene, Drift=Yes]\n",
      "[2023-10-02 01:55:25:290] - INFO - SAIL (PipelineStrategy) - Drift Detected in the data. Final Estimator will be incrementally trained on the next train()\n",
      "[2023-10-02 01:55:25:457] - WARNING - SAIL (SAILAutoPipeline) - The current best pipeline is STALE. Pipeline becomes stale when data drift occurs. You can call 'train' with fresh data to get the best pipeline.\n",
      "\n",
      "    \n",
      ">> Epoch: 34 | Samples Seen: 1650 -------------------------------------------------------------------------------------\n",
      "SAIL Model Partial fit: 100%========== [ETA: 00:00<00:00, Elapsed:0.048s, Model=AdaptiveRandomForestClassifier, Batch Size=50, P_Score=0.937]\n",
      "\n",
      "    \n",
      ">> Epoch: 35 | Samples Seen: 1700 -------------------------------------------------------------------------------------\n",
      "SAIL Pipeline Progressive Score: 100%========== [Points: 50/50, Elapsed:0.0015s, Metric=Accuracy, Batch Size=50, P_Score=0.932]\n",
      "SAIL Drift detection: 100%========== [Points: 50/50, Elapsed:0.0010s, Detector=EDDM, Batch Size=50, Param=differene, Drift=No]\n",
      "SAIL Pipeline Partial fit: 100%========== [Steps: 2/2, ETA: 00:00<00:00, Elapsed:0.048s, Batch Size=50, P_Score=0.932]             \n",
      "\n",
      "    \n",
      ">> Epoch: 36 | Samples Seen: 1750 -------------------------------------------------------------------------------------\n",
      "SAIL Pipeline Progressive Score: 100%========== [Points: 50/50, Elapsed:0.0021s, Metric=Accuracy, Batch Size=50, P_Score=0.931]\n",
      "SAIL Drift detection: 100%========== [Points: 50/50, Elapsed:0.0010s, Detector=EDDM, Batch Size=50, Param=differene, Drift=No]\n",
      "SAIL Pipeline Partial fit: 100%========== [Steps: 2/2, ETA: 00:00<00:00, Elapsed:0.047s, Batch Size=50, P_Score=0.931]             \n",
      "\n",
      "    \n",
      ">> Epoch: 37 | Samples Seen: 1800 -------------------------------------------------------------------------------------\n",
      "SAIL Pipeline Progressive Score: 100%========== [Points: 50/50, Elapsed:0.0029s, Metric=Accuracy, Batch Size=50, P_Score=0.933]\n",
      "SAIL Drift detection: 100%========== [Points: 50/50, Elapsed:0.0014s, Detector=EDDM, Batch Size=50, Param=differene, Drift=No]\n",
      "SAIL Pipeline Partial fit: 100%========== [Steps: 2/2, ETA: 00:00<00:00, Elapsed:0.045s, Batch Size=50, P_Score=0.933]             \n",
      "\n",
      "    \n",
      ">> Epoch: 38 | Samples Seen: 1850 -------------------------------------------------------------------------------------\n",
      "SAIL Pipeline Progressive Score: 100%========== [Points: 50/50, Elapsed:0.0014s, Metric=Accuracy, Batch Size=50, P_Score=0.936]\n",
      "SAIL Drift detection: 100%========== [Points: 50/50, Elapsed:0.0010s, Detector=EDDM, Batch Size=50, Param=differene, Drift=No]\n",
      "SAIL Pipeline Partial fit: 100%========== [Steps: 2/2, ETA: 00:00<00:00, Elapsed:0.043s, Batch Size=50, P_Score=0.936]             \n",
      "\n",
      "    \n",
      ">> Epoch: 39 | Samples Seen: 1900 -------------------------------------------------------------------------------------\n",
      "SAIL Pipeline Progressive Score: 100%========== [Points: 50/50, Elapsed:0.0012s, Metric=Accuracy, Batch Size=50, P_Score=0.936]\n",
      "SAIL Drift detection: 100%========== [Points: 50/50, Elapsed:0.0008s, Detector=EDDM, Batch Size=50, Param=differene, Drift=No]\n",
      "SAIL Pipeline Partial fit: 100%========== [Steps: 2/2, ETA: 00:00<00:00, Elapsed:0.046s, Batch Size=50, P_Score=0.936]             \n",
      "\n",
      "    \n",
      ">> Epoch: 40 | Samples Seen: 1950 -------------------------------------------------------------------------------------\n",
      "SAIL Pipeline Progressive Score: 100%========== [Points: 50/50, Elapsed:0.0014s, Metric=Accuracy, Batch Size=50, P_Score=0.939]\n",
      "SAIL Drift detection: 100%========== [Points: 50/50, Elapsed:0.0009s, Detector=EDDM, Batch Size=50, Param=differene, Drift=No]\n",
      "SAIL Pipeline Partial fit: 100%========== [Steps: 2/2, ETA: 00:00<00:00, Elapsed:0.043s, Batch Size=50, P_Score=0.939]             \n"
     ]
    }
   ],
   "source": [
    "y_preds = []\n",
    "y_true = []\n",
    "batch_size = 50\n",
    "\n",
    "with tracer.trace_as_current_span(span_name=\"Pipeline-Train\"):\n",
    "    for start in range(0, 2000, batch_size):\n",
    "\n",
    "        end = start + batch_size\n",
    "\n",
    "        X_train = X.iloc[start:end]\n",
    "        y_train = y.iloc[start:end]\n",
    "\n",
    "        if end > 1000: # search_data_size is 1000\n",
    "            preds = auto_pipeline.predict(X_train)\n",
    "            if preds is not None:\n",
    "                y_preds.extend(list(preds))\n",
    "                y_true.extend(list(y_train))\n",
    "\n",
    "        auto_pipeline.train(X_train, y_train, classifier__classes=[1, 0])\n"
   ]
  },
  {
   "attachments": {},
   "cell_type": "markdown",
   "metadata": {},
   "source": [
    "#### Save model\n"
   ]
  },
  {
   "cell_type": "code",
   "execution_count": 9,
   "metadata": {},
   "outputs": [
    {
     "name": "stderr",
     "output_type": "stream",
     "text": [
      "[2023-10-02 01:55:28:589] - INFO - SAIL (SAILModel) - Model saved successfully.\n"
     ]
    },
    {
     "data": {
      "text/plain": [
       "'./sail_auto_pipeline'"
      ]
     },
     "execution_count": 9,
     "metadata": {},
     "output_type": "execute_result"
    }
   ],
   "source": [
    "auto_pipeline.save_model(\".\")"
   ]
  },
  {
   "attachments": {},
   "cell_type": "markdown",
   "metadata": {},
   "source": [
    "#### Load model\n"
   ]
  },
  {
   "cell_type": "code",
   "execution_count": 10,
   "metadata": {},
   "outputs": [
    {
     "name": "stderr",
     "output_type": "stream",
     "text": [
      "[2023-10-02 01:55:28:604] - INFO - SAIL (PipelineStrategy) - Pipeline Strategy [DetectAndIncrement] created with actions: ['DATA_COLLECTION', 'FIND_BEST_PIPELINE', 'SCORE_AND_DETECT_DRIFT', 'PARTIAL_FIT_MODEL']\n",
      "[2023-10-02 01:55:28:605] - INFO - SAIL (TensorboardWriter) - Sending training output to Tensorboard logs. Please run `tensorboard --logdir /Users/dhaval/Projects/SAIL/sail/LOGS/Training_Logs` in terminal to start tensorboard server and track training progress.\n",
      "[2023-10-02 01:55:28:681] - INFO - SAIL (SAILModel) - Model loaded successfully.\n",
      "SAIL Pipeline Progressive Score: 100%========== [Points: 1850/1850, Elapsed:0.0033s, Metric=Accuracy, Batch Size=1850, P_Score=0.936]\n"
     ]
    }
   ],
   "source": [
    "new_auto_pipeline = SAILAutoPipeline.load_model(\".\")"
   ]
  },
  {
   "attachments": {},
   "cell_type": "markdown",
   "metadata": {},
   "source": [
    "#### Continue training using the load model\n"
   ]
  },
  {
   "cell_type": "code",
   "execution_count": 11,
   "metadata": {},
   "outputs": [
    {
     "name": "stderr",
     "output_type": "stream",
     "text": [
      "\n",
      "    \n",
      ">> Epoch: 41 | Samples Seen: 2000 -------------------------------------------------------------------------------------\n",
      "SAIL Pipeline Progressive Score: 100%========== [Points: 50/50, Elapsed:0.0022s, Metric=Accuracy, Batch Size=50, P_Score=0.936]\n",
      "SAIL Drift detection: 100%========== [Points: 50/50, Elapsed:0.0010s, Detector=EDDM, Batch Size=50, Param=differene, Drift=No]\n",
      "SAIL Pipeline Partial fit: 100%========== [Steps: 2/2, ETA: 00:00<00:00, Elapsed:0.043s, Batch Size=50, P_Score=0.936]             \n",
      "\n",
      "    \n",
      ">> Epoch: 42 | Samples Seen: 2050 -------------------------------------------------------------------------------------\n",
      "SAIL Pipeline Progressive Score: 100%========== [Points: 50/50, Elapsed:0.0018s, Metric=Accuracy, Batch Size=50, P_Score=0.937]\n",
      "SAIL Drift detection: 100%========== [Points: 50/50, Elapsed:0.0009s, Detector=EDDM, Batch Size=50, Param=differene, Drift=No]\n",
      "SAIL Pipeline Partial fit: 100%========== [Steps: 2/2, ETA: 00:00<00:00, Elapsed:0.039s, Batch Size=50, P_Score=0.937]             \n",
      "\n",
      "    \n",
      ">> Epoch: 43 | Samples Seen: 2100 -------------------------------------------------------------------------------------\n",
      "SAIL Pipeline Progressive Score: 100%========== [Points: 50/50, Elapsed:0.0015s, Metric=Accuracy, Batch Size=50, P_Score=0.936]\n",
      "SAIL Drift detection: 100%========== [Points: 50/50, Elapsed:0.0011s, Detector=EDDM, Batch Size=50, Param=differene, Drift=No]\n",
      "SAIL Pipeline Partial fit: 100%========== [Steps: 2/2, ETA: 00:00<00:00, Elapsed:0.048s, Batch Size=50, P_Score=0.936]             \n",
      "\n",
      "    \n",
      ">> Epoch: 44 | Samples Seen: 2150 -------------------------------------------------------------------------------------\n",
      "SAIL Pipeline Progressive Score: 100%========== [Points: 50/50, Elapsed:0.0019s, Metric=Accuracy, Batch Size=50, P_Score=0.936]\n",
      "SAIL Drift detection: 100%========== [Points: 50/50, Elapsed:0.0009s, Detector=EDDM, Batch Size=50, Param=differene, Drift=No]\n",
      "SAIL Pipeline Partial fit: 100%========== [Steps: 2/2, ETA: 00:00<00:00, Elapsed:0.046s, Batch Size=50, P_Score=0.936]             \n",
      "\n",
      "    \n",
      ">> Epoch: 45 | Samples Seen: 2200 -------------------------------------------------------------------------------------\n",
      "SAIL Pipeline Progressive Score: 100%========== [Points: 50/50, Elapsed:0.0017s, Metric=Accuracy, Batch Size=50, P_Score=0.936]\n",
      "SAIL Drift detection: 100%========== [Points: 50/50, Elapsed:0.0010s, Detector=EDDM, Batch Size=50, Param=differene, Drift=No]\n",
      "SAIL Pipeline Partial fit: 100%========== [Steps: 2/2, ETA: 00:00<00:00, Elapsed:0.042s, Batch Size=50, P_Score=0.936]             \n",
      "\n",
      "    \n",
      ">> Epoch: 46 | Samples Seen: 2250 -------------------------------------------------------------------------------------\n",
      "SAIL Pipeline Progressive Score: 100%========== [Points: 50/50, Elapsed:0.0015s, Metric=Accuracy, Batch Size=50, P_Score=0.936]\n",
      "SAIL Drift detection: 100%========== [Points: 50/50, Elapsed:0.0014s, Detector=EDDM, Batch Size=50, Param=differene, Drift=No]\n",
      "SAIL Pipeline Partial fit: 100%========== [Steps: 2/2, ETA: 00:00<00:00, Elapsed:0.044s, Batch Size=50, P_Score=0.936]             \n",
      "\n",
      "    \n",
      ">> Epoch: 47 | Samples Seen: 2300 -------------------------------------------------------------------------------------\n",
      "SAIL Pipeline Progressive Score: 100%========== [Points: 50/50, Elapsed:0.0014s, Metric=Accuracy, Batch Size=50, P_Score=0.937]\n",
      "SAIL Drift detection: 100%========== [Points: 50/50, Elapsed:0.0009s, Detector=EDDM, Batch Size=50, Param=differene, Drift=No]\n",
      "SAIL Pipeline Partial fit: 100%========== [Steps: 2/2, ETA: 00:00<00:00, Elapsed:0.042s, Batch Size=50, P_Score=0.937]             \n",
      "\n",
      "    \n",
      ">> Epoch: 48 | Samples Seen: 2350 -------------------------------------------------------------------------------------\n",
      "SAIL Pipeline Progressive Score: 100%========== [Points: 50/50, Elapsed:0.0013s, Metric=Accuracy, Batch Size=50, P_Score=0.938]\n",
      "SAIL Drift detection: 100%========== [Points: 50/50, Elapsed:0.0008s, Detector=EDDM, Batch Size=50, Param=differene, Drift=No]\n",
      "SAIL Pipeline Partial fit: 100%========== [Steps: 2/2, ETA: 00:00<00:00, Elapsed:0.041s, Batch Size=50, P_Score=0.938]             \n",
      "\n",
      "    \n",
      ">> Epoch: 49 | Samples Seen: 2400 -------------------------------------------------------------------------------------\n",
      "SAIL Pipeline Progressive Score: 100%========== [Points: 50/50, Elapsed:0.0017s, Metric=Accuracy, Batch Size=50, P_Score=0.938]\n",
      "SAIL Drift detection: 100%========== [Points: 50/50, Elapsed:0.0090s, Detector=EDDM, Batch Size=50, Param=differene, Drift=No]\n",
      "SAIL Pipeline Partial fit: 100%========== [Steps: 2/2, ETA: 00:00<00:00, Elapsed:0.043s, Batch Size=50, P_Score=0.938]             \n",
      "\n",
      "    \n",
      ">> Epoch: 50 | Samples Seen: 2450 -------------------------------------------------------------------------------------\n",
      "SAIL Pipeline Progressive Score: 100%========== [Points: 50/50, Elapsed:0.0014s, Metric=Accuracy, Batch Size=50, P_Score=0.939]\n",
      "SAIL Drift detection: 100%========== [Points: 50/50, Elapsed:0.0011s, Detector=EDDM, Batch Size=50, Param=differene, Drift=No]\n",
      "SAIL Pipeline Partial fit: 100%========== [Steps: 2/2, ETA: 00:00<00:00, Elapsed:0.041s, Batch Size=50, P_Score=0.939]             \n",
      "\n",
      "    \n",
      ">> Epoch: 51 | Samples Seen: 2500 -------------------------------------------------------------------------------------\n",
      "SAIL Pipeline Progressive Score: 100%========== [Points: 50/50, Elapsed:0.0016s, Metric=Accuracy, Batch Size=50, P_Score=0.938]\n",
      "SAIL Drift detection: 100%========== [Points: 50/50, Elapsed:0.0011s, Detector=EDDM, Batch Size=50, Param=differene, Drift=No]\n",
      "SAIL Pipeline Partial fit: 100%========== [Steps: 2/2, ETA: 00:00<00:00, Elapsed:0.043s, Batch Size=50, P_Score=0.938]             \n",
      "\n",
      "    \n",
      ">> Epoch: 52 | Samples Seen: 2550 -------------------------------------------------------------------------------------\n",
      "SAIL Pipeline Progressive Score: 100%========== [Points: 50/50, Elapsed:0.0017s, Metric=Accuracy, Batch Size=50, P_Score=0.938]\n",
      "SAIL Drift detection: 100%========== [Points: 50/50, Elapsed:0.0012s, Detector=EDDM, Batch Size=50, Param=differene, Drift=No]\n",
      "SAIL Pipeline Partial fit: 100%========== [Steps: 2/2, ETA: 00:00<00:00, Elapsed:0.056s, Batch Size=50, P_Score=0.938]             \n",
      "\n",
      "    \n",
      ">> Epoch: 53 | Samples Seen: 2600 -------------------------------------------------------------------------------------\n",
      "SAIL Pipeline Progressive Score: 100%========== [Points: 50/50, Elapsed:0.0016s, Metric=Accuracy, Batch Size=50, P_Score=0.937]\n",
      "SAIL Drift detection:  34%===        [Points: 17/50, Elapsed:0.0012s, Detector=EDDM, Batch Size=50, Param=differene, Drift=Yes]\n",
      "[2023-10-02 01:55:31:829] - INFO - SAIL (PipelineStrategy) - Drift Detected in the data. Final Estimator will be incrementally trained on the next train()\n",
      "[2023-10-02 01:55:32:199] - WARNING - SAIL (SAILAutoPipeline) - The current best pipeline is STALE. Pipeline becomes stale when data drift occurs. You can call 'train' with fresh data to get the best pipeline.\n",
      "\n",
      "    \n",
      ">> Epoch: 54 | Samples Seen: 2650 -------------------------------------------------------------------------------------\n",
      "SAIL Model Partial fit: 100%========== [ETA: 00:00<00:00, Elapsed:0.045s, Model=AdaptiveRandomForestClassifier, Batch Size=50, P_Score=0.938]\n",
      "\n",
      "    \n",
      ">> Epoch: 55 | Samples Seen: 2700 -------------------------------------------------------------------------------------\n",
      "SAIL Pipeline Progressive Score: 100%========== [Points: 50/50, Elapsed:0.0014s, Metric=Accuracy, Batch Size=50, P_Score=0.938]\n",
      "SAIL Drift detection: 100%========== [Points: 50/50, Elapsed:0.0009s, Detector=EDDM, Batch Size=50, Param=differene, Drift=No]\n",
      "SAIL Pipeline Partial fit: 100%========== [Steps: 2/2, ETA: 00:00<00:00, Elapsed:0.050s, Batch Size=50, P_Score=0.938]             \n",
      "\n",
      "    \n",
      ">> Epoch: 56 | Samples Seen: 2750 -------------------------------------------------------------------------------------\n",
      "SAIL Pipeline Progressive Score: 100%========== [Points: 50/50, Elapsed:0.0018s, Metric=Accuracy, Batch Size=50, P_Score=0.937]\n",
      "SAIL Drift detection: 100%========== [Points: 50/50, Elapsed:0.0036s, Detector=EDDM, Batch Size=50, Param=differene, Drift=No]\n",
      "SAIL Pipeline Partial fit: 100%========== [Steps: 2/2, ETA: 00:00<00:00, Elapsed:0.043s, Batch Size=50, P_Score=0.937]             \n",
      "\n",
      "    \n",
      ">> Epoch: 57 | Samples Seen: 2800 -------------------------------------------------------------------------------------\n",
      "SAIL Pipeline Progressive Score: 100%========== [Points: 50/50, Elapsed:0.0015s, Metric=Accuracy, Batch Size=50, P_Score=0.936]\n",
      "SAIL Drift detection: 100%========== [Points: 50/50, Elapsed:0.0021s, Detector=EDDM, Batch Size=50, Param=differene, Drift=No]\n",
      "SAIL Pipeline Partial fit: 100%========== [Steps: 2/2, ETA: 00:00<00:00, Elapsed:0.043s, Batch Size=50, P_Score=0.936]             \n",
      "\n",
      "    \n",
      ">> Epoch: 58 | Samples Seen: 2850 -------------------------------------------------------------------------------------\n",
      "SAIL Pipeline Progressive Score: 100%========== [Points: 50/50, Elapsed:0.0013s, Metric=Accuracy, Batch Size=50, P_Score=0.934]\n",
      "SAIL Drift detection: 100%========== [Points: 50/50, Elapsed:0.0009s, Detector=EDDM, Batch Size=50, Param=differene, Drift=No]\n",
      "SAIL Pipeline Partial fit: 100%========== [Steps: 2/2, ETA: 00:00<00:00, Elapsed:0.043s, Batch Size=50, P_Score=0.934]             \n",
      "\n",
      "    \n",
      ">> Epoch: 59 | Samples Seen: 2900 -------------------------------------------------------------------------------------\n",
      "SAIL Pipeline Progressive Score: 100%========== [Points: 50/50, Elapsed:0.0014s, Metric=Accuracy, Batch Size=50, P_Score=0.934]\n",
      "SAIL Drift detection: 100%========== [Points: 50/50, Elapsed:0.0010s, Detector=EDDM, Batch Size=50, Param=differene, Drift=No]\n",
      "SAIL Pipeline Partial fit: 100%========== [Steps: 2/2, ETA: 00:00<00:00, Elapsed:0.045s, Batch Size=50, P_Score=0.934]             \n",
      "\n",
      "    \n",
      ">> Epoch: 60 | Samples Seen: 2950 -------------------------------------------------------------------------------------\n",
      "SAIL Pipeline Progressive Score: 100%========== [Points: 50/50, Elapsed:0.0045s, Metric=Accuracy, Batch Size=50, P_Score=0.935]\n",
      "SAIL Drift detection: 100%========== [Points: 50/50, Elapsed:0.0010s, Detector=EDDM, Batch Size=50, Param=differene, Drift=No]\n",
      "SAIL Pipeline Partial fit: 100%========== [Steps: 2/2, ETA: 00:00<00:00, Elapsed:0.047s, Batch Size=50, P_Score=0.935]             \n",
      "\n",
      "    \n",
      ">> Epoch: 61 | Samples Seen: 3000 -------------------------------------------------------------------------------------\n",
      "SAIL Pipeline Progressive Score: 100%========== [Points: 50/50, Elapsed:0.0014s, Metric=Accuracy, Batch Size=50, P_Score=0.936]\n",
      "SAIL Drift detection: 100%========== [Points: 50/50, Elapsed:0.0008s, Detector=EDDM, Batch Size=50, Param=differene, Drift=No]\n",
      "SAIL Pipeline Partial fit: 100%========== [Steps: 2/2, ETA: 00:00<00:00, Elapsed:0.045s, Batch Size=50, P_Score=0.936]             \n",
      "\n",
      "    \n",
      ">> Epoch: 62 | Samples Seen: 3050 -------------------------------------------------------------------------------------\n",
      "SAIL Pipeline Progressive Score: 100%========== [Points: 50/50, Elapsed:0.0013s, Metric=Accuracy, Batch Size=50, P_Score=0.934]\n",
      "SAIL Drift detection: 100%========== [Points: 50/50, Elapsed:0.0010s, Detector=EDDM, Batch Size=50, Param=differene, Drift=No]\n",
      "SAIL Pipeline Partial fit: 100%========== [Steps: 2/2, ETA: 00:00<00:00, Elapsed:0.045s, Batch Size=50, P_Score=0.934]             \n",
      "\n",
      "    \n",
      ">> Epoch: 63 | Samples Seen: 3100 -------------------------------------------------------------------------------------\n",
      "SAIL Pipeline Progressive Score: 100%========== [Points: 50/50, Elapsed:0.0013s, Metric=Accuracy, Batch Size=50, P_Score=0.934]\n",
      "SAIL Drift detection: 100%========== [Points: 50/50, Elapsed:0.0009s, Detector=EDDM, Batch Size=50, Param=differene, Drift=No]\n",
      "SAIL Pipeline Partial fit: 100%========== [Steps: 2/2, ETA: 00:00<00:00, Elapsed:0.049s, Batch Size=50, P_Score=0.934]             \n",
      "\n",
      "    \n",
      ">> Epoch: 64 | Samples Seen: 3150 -------------------------------------------------------------------------------------\n",
      "SAIL Pipeline Progressive Score: 100%========== [Points: 50/50, Elapsed:0.0017s, Metric=Accuracy, Batch Size=50, P_Score=0.934]\n",
      "SAIL Drift detection: 100%========== [Points: 50/50, Elapsed:0.0010s, Detector=EDDM, Batch Size=50, Param=differene, Drift=No]\n",
      "SAIL Pipeline Partial fit: 100%========== [Steps: 2/2, ETA: 00:00<00:00, Elapsed:0.045s, Batch Size=50, P_Score=0.934]             \n",
      "\n",
      "    \n",
      ">> Epoch: 65 | Samples Seen: 3200 -------------------------------------------------------------------------------------\n",
      "SAIL Pipeline Progressive Score: 100%========== [Points: 50/50, Elapsed:0.0013s, Metric=Accuracy, Batch Size=50, P_Score=0.932]\n",
      "SAIL Drift detection: 100%========== [Points: 50/50, Elapsed:0.0011s, Detector=EDDM, Batch Size=50, Param=differene, Drift=Yes]\n",
      "[2023-10-02 01:55:34:901] - INFO - SAIL (PipelineStrategy) - Drift Detected in the data. Final Estimator will be incrementally trained on the next train()\n",
      "[2023-10-02 01:55:35:58] - WARNING - SAIL (SAILAutoPipeline) - The current best pipeline is STALE. Pipeline becomes stale when data drift occurs. You can call 'train' with fresh data to get the best pipeline.\n",
      "\n",
      "    \n",
      ">> Epoch: 66 | Samples Seen: 3250 -------------------------------------------------------------------------------------\n",
      "SAIL Model Partial fit: 100%========== [ETA: 00:00<00:00, Elapsed:0.050s, Model=AdaptiveRandomForestClassifier, Batch Size=50, P_Score=0.934]\n",
      "\n",
      "    \n",
      ">> Epoch: 67 | Samples Seen: 3300 -------------------------------------------------------------------------------------\n",
      "SAIL Pipeline Progressive Score: 100%========== [Points: 50/50, Elapsed:0.0013s, Metric=Accuracy, Batch Size=50, P_Score=0.934]\n",
      "SAIL Drift detection: 100%========== [Points: 50/50, Elapsed:0.0009s, Detector=EDDM, Batch Size=50, Param=differene, Drift=No]\n",
      "SAIL Pipeline Partial fit: 100%========== [Steps: 2/2, ETA: 00:00<00:00, Elapsed:0.049s, Batch Size=50, P_Score=0.934]             \n",
      "\n",
      "    \n",
      ">> Epoch: 68 | Samples Seen: 3350 -------------------------------------------------------------------------------------\n",
      "SAIL Pipeline Progressive Score: 100%========== [Points: 50/50, Elapsed:0.0014s, Metric=Accuracy, Batch Size=50, P_Score=0.933]\n",
      "SAIL Drift detection: 100%========== [Points: 50/50, Elapsed:0.0008s, Detector=EDDM, Batch Size=50, Param=differene, Drift=No]\n",
      "SAIL Pipeline Partial fit: 100%========== [Steps: 2/2, ETA: 00:00<00:00, Elapsed:0.047s, Batch Size=50, P_Score=0.933]             \n",
      "\n",
      "    \n",
      ">> Epoch: 69 | Samples Seen: 3400 -------------------------------------------------------------------------------------\n",
      "SAIL Pipeline Progressive Score: 100%========== [Points: 50/50, Elapsed:0.0016s, Metric=Accuracy, Batch Size=50, P_Score=0.931]\n",
      "SAIL Drift detection: 100%========== [Points: 50/50, Elapsed:0.0010s, Detector=EDDM, Batch Size=50, Param=differene, Drift=No]\n",
      "SAIL Pipeline Partial fit: 100%========== [Steps: 2/2, ETA: 00:00<00:00, Elapsed:0.052s, Batch Size=50, P_Score=0.931]             \n",
      "\n",
      "    \n",
      ">> Epoch: 70 | Samples Seen: 3450 -------------------------------------------------------------------------------------\n",
      "SAIL Pipeline Progressive Score: 100%========== [Points: 50/50, Elapsed:0.0013s, Metric=Accuracy, Batch Size=50, P_Score=0.93]\n",
      "SAIL Drift detection: 100%========== [Points: 50/50, Elapsed:0.0009s, Detector=EDDM, Batch Size=50, Param=differene, Drift=No]\n",
      "SAIL Pipeline Partial fit: 100%========== [Steps: 2/2, ETA: 00:00<00:00, Elapsed:0.048s, Batch Size=50, P_Score=0.93]             \n"
     ]
    }
   ],
   "source": [
    "for start in range(1501, 3001, batch_size):\n",
    "\n",
    "    end = start + batch_size\n",
    "\n",
    "    X_train = X.iloc[start:end]\n",
    "    y_train = y.iloc[start:end]\n",
    "\n",
    "    if end > 1000: # search_data_size is 1000\n",
    "        preds = new_auto_pipeline.predict(X_train)\n",
    "        if preds is not None:\n",
    "            y_preds.extend(list(preds))\n",
    "            y_true.extend(list(y_train))\n",
    "\n",
    "    new_auto_pipeline.train(X_train, y_train, classifier__classes=[1, 0])\n"
   ]
  },
  {
   "attachments": {},
   "cell_type": "markdown",
   "metadata": {},
   "source": [
    "#### Classification Report\n"
   ]
  },
  {
   "cell_type": "code",
   "execution_count": 12,
   "metadata": {},
   "outputs": [
    {
     "name": "stdout",
     "output_type": "stream",
     "text": [
      "              precision    recall  f1-score   support\n",
      "\n",
      "           0       0.92      0.96      0.94      1654\n",
      "           1       0.91      0.85      0.88       846\n",
      "\n",
      "    accuracy                           0.92      2500\n",
      "   macro avg       0.92      0.90      0.91      2500\n",
      "weighted avg       0.92      0.92      0.92      2500\n",
      "\n"
     ]
    }
   ],
   "source": [
    "from sklearn.metrics import confusion_matrix, classification_report\n",
    "\n",
    "print(classification_report(y_true, y_preds))"
   ]
  },
  {
   "attachments": {},
   "cell_type": "markdown",
   "metadata": {},
   "source": [
    "#### Plot confusion matrix\n"
   ]
  },
  {
   "cell_type": "code",
   "execution_count": 13,
   "metadata": {},
   "outputs": [
    {
     "data": {
      "text/plain": [
       "<Axes: >"
      ]
     },
     "execution_count": 13,
     "metadata": {},
     "output_type": "execute_result"
    },
    {
     "data": {
      "image/png": "[encoded data removed]",
      "text/plain": [
       "<Figure size 640x480 with 2 Axes>"
      ]
     },
     "metadata": {},
     "output_type": "display_data"
    }
   ],
   "source": [
    "import seaborn as sns\n",
    "\n",
    "cf_matrix = confusion_matrix(y_true, y_preds)\n",
    "sns.heatmap(cf_matrix/np.sum(cf_matrix), annot=True, fmt='.2%', cmap='Blues')"
   ]
  }
 ],
 "metadata": {
  "kernelspec": {
   "display_name": "venv-sail",
   "language": "python",
   "name": "python3"
  },
  "language_info": {
   "codemirror_mode": {
    "name": "ipython",
    "version": 3
   },
   "file_extension": ".py",
   "mimetype": "text/x-python",
   "name": "python",
   "nbconvert_exporter": "python",
   "pygments_lexer": "ipython3",
   "version": "3.10.10"
  },
  "orig_nbformat": 4
 },
 "nbformat": 4,
 "nbformat_minor": 2
}
