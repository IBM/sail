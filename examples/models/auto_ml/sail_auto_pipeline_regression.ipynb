{
 "cells": [
  {
   "cell_type": "code",
   "execution_count": 1,
   "metadata": {},
   "outputs": [],
   "source": [
    "import numpy as np\n",
    "import pandas as pd\n",
    "from river import optim\n",
    "from river import metrics\n",
    "from river.drift import EDDM\n",
    "from sail.models.auto_ml.tune import SAILTuneGridSearchCV\n",
    "from sail.models.river.forest import AdaptiveRandomForestRegressor\n",
    "from sail.models.river.linear_model import LinearRegression\n",
    "from sail.models.auto_ml.auto_pipeline import SAILAutoPipeline\n",
    "from sail.pipeline import SAILPipeline\n",
    "from sklearn.impute import SimpleImputer\n",
    "from sail.drift_detection.drift_detector import SAILDriftDetector\n",
    "from sail.transfomers.river.preprocessing import StandardScaler"
   ]
  },
  {
   "attachments": {},
   "cell_type": "markdown",
   "metadata": {},
   "source": [
    "#### Load Data\n"
   ]
  },
  {
   "cell_type": "code",
   "execution_count": 2,
   "metadata": {},
   "outputs": [],
   "source": [
    "X = pd.read_csv(\"../../datasets/HDWF2.csv\")\n",
    "\n",
    "y = X[\"power\"]\n",
    "X.drop([\"power\", \"time\"], axis=1, inplace=True)"
   ]
  },
  {
   "attachments": {},
   "cell_type": "markdown",
   "metadata": {},
   "source": [
    "#### Model Definition\n"
   ]
  },
  {
   "cell_type": "code",
   "execution_count": 3,
   "metadata": {},
   "outputs": [],
   "source": [
    "linear_reg = LinearRegression(optimizer=optim.SGD(0.1))\n",
    "random_forest = AdaptiveRandomForestRegressor()"
   ]
  },
  {
   "attachments": {},
   "cell_type": "markdown",
   "metadata": {},
   "source": [
    "#### Create SAIL Pipeline\n"
   ]
  },
  {
   "cell_type": "code",
   "execution_count": 4,
   "metadata": {},
   "outputs": [],
   "source": [
    "steps = [\n",
    "    (\"Imputer\", SimpleImputer(missing_values=np.nan, strategy=\"mean\")),\n",
    "    (\"standard_scalar\", StandardScaler()),\n",
    "    (\"regressor\", \"passthrough\"),\n",
    "]\n",
    "sail_pipeline = SAILPipeline(steps=steps, scoring=metrics.R2)"
   ]
  },
  {
   "attachments": {},
   "cell_type": "markdown",
   "metadata": {},
   "source": [
    "#### HPO Params\n"
   ]
  },
  {
   "cell_type": "code",
   "execution_count": 5,
   "metadata": {},
   "outputs": [],
   "source": [
    "params_grid = [\n",
    "    {\n",
    "        \"regressor\": [linear_reg],\n",
    "        \"regressor__l2\": [0.1, 0.9],\n",
    "        \"regressor__intercept_init\": [0.2, 0.5],\n",
    "    },\n",
    "    {\n",
    "        \"regressor\": [random_forest],\n",
    "        \"regressor__n_models\": [10, 15, 20]\n",
    "    },\n",
    "]"
   ]
  },
  {
   "attachments": {},
   "cell_type": "markdown",
   "metadata": {},
   "source": [
    "#### Create Model Instance\n"
   ]
  },
  {
   "cell_type": "code",
   "execution_count": 6,
   "metadata": {},
   "outputs": [
    {
     "name": "stderr",
     "output_type": "stream",
     "text": [
      "[2023-07-09 22:49:16:952] - INFO - SAIL : Pipeline Strategy [DetectAndIncrement] created with actions: ['DATA_COLLECTION', 'FIND_BEST_PIPELINE', 'SCORE_AND_DETECT_DRIFT', 'PARTIAL_FIT_MODEL']\n"
     ]
    }
   ],
   "source": [
    "auto_pipeline = SAILAutoPipeline(\n",
    "    pipeline=sail_pipeline,\n",
    "    pipeline_params_grid=params_grid,\n",
    "    search_method=SAILTuneGridSearchCV,\n",
    "    search_method_params={\n",
    "        \"num_cpus_per_trial\": 1,\n",
    "        \"max_iters\": 1,\n",
    "        \"early_stopping\": False,\n",
    "        \"mode\": \"max\",\n",
    "        \"scoring\": \"r2\",\n",
    "        \"pipeline_auto_early_stop\": False,\n",
    "        \"keep_best_configurations\": 2\n",
    "    },\n",
    "    search_data_size=1000,\n",
    "    incremental_training=True,\n",
    "    drift_detector=SAILDriftDetector(model=EDDM(), drift_param=\"difference\"),\n",
    "    pipeline_strategy=\"DetectAndIncrement\",\n",
    ")"
   ]
  },
  {
   "attachments": {},
   "cell_type": "markdown",
   "metadata": {},
   "source": [
    "#### Start Training\n"
   ]
  },
  {
   "cell_type": "code",
   "execution_count": 7,
   "metadata": {},
   "outputs": [
    {
     "data": {
      "text/html": [
       "<div class=\"tuneStatus\">\n",
       "  <div style=\"display: flex;flex-direction: row\">\n",
       "    <div style=\"display: flex;flex-direction: column;\">\n",
       "      <h3>Tune Status</h3>\n",
       "      <table>\n",
       "<tbody>\n",
       "<tr><td>Current time:</td><td>2023-07-09 22:49:36</td></tr>\n",
       "<tr><td>Running for: </td><td>00:00:16.42        </td></tr>\n",
       "<tr><td>Memory:      </td><td>26.6/64.0 GiB      </td></tr>\n",
       "</tbody>\n",
       "</table>\n",
       "    </div>\n",
       "    <div class=\"vDivider\"></div>\n",
       "    <div class=\"systemInfo\">\n",
       "      <h3>System Info</h3>\n",
       "      Using FIFO scheduling algorithm.<br>Logical resource usage: 0/10 CPUs, 0/0 GPUs\n",
       "    </div>\n",
       "    \n",
       "  </div>\n",
       "  <div class=\"hDivider\"></div>\n",
       "  <div class=\"trialStatus\">\n",
       "    <h3>Trial Status</h3>\n",
       "    <table>\n",
       "<thead>\n",
       "<tr><th>Trial name         </th><th>status    </th><th>loc            </th><th>regressor           </th><th style=\"text-align: right;\">    regressor__intercept\n",
       "_init</th><th style=\"text-align: right;\">  regressor__l2</th><th style=\"text-align: right;\">  regressor__n_models</th><th style=\"text-align: right;\">  iter</th><th style=\"text-align: right;\">  total time (s)</th><th style=\"text-align: right;\">  split0_test_score</th><th style=\"text-align: right;\">  split1_test_score</th><th style=\"text-align: right;\">  split2_test_score</th></tr>\n",
       "</thead>\n",
       "<tbody>\n",
       "<tr><td>_Trainable_ccf46a58</td><td>TERMINATED</td><td>127.0.0.1:13384</td><td>LinearRegressio_ce50</td><td style=\"text-align: right;\">0.2</td><td style=\"text-align: right;\">            0.1</td><td style=\"text-align: right;\">                     </td><td style=\"text-align: right;\">     1</td><td style=\"text-align: right;\">        0.222301</td><td style=\"text-align: right;\">       -2.22877e+19</td><td style=\"text-align: right;\">       -2.31076e+19</td><td style=\"text-align: right;\">       -6.51966e+19</td></tr>\n",
       "<tr><td>_Trainable_60578885</td><td>TERMINATED</td><td>127.0.0.1:13392</td><td>LinearRegressio_3f40</td><td style=\"text-align: right;\">0.2</td><td style=\"text-align: right;\">            0.9</td><td style=\"text-align: right;\">                     </td><td style=\"text-align: right;\">     1</td><td style=\"text-align: right;\">        0.194737</td><td style=\"text-align: right;\">       -6.82354e+17</td><td style=\"text-align: right;\">       -6.05753e+17</td><td style=\"text-align: right;\">       -5.67513e+18</td></tr>\n",
       "<tr><td>_Trainable_6a504d95</td><td>TERMINATED</td><td>127.0.0.1:13393</td><td>LinearRegressio_0a60</td><td style=\"text-align: right;\">0.5</td><td style=\"text-align: right;\">            0.1</td><td style=\"text-align: right;\">                     </td><td style=\"text-align: right;\">     1</td><td style=\"text-align: right;\">        0.207956</td><td style=\"text-align: right;\">       -3.12752e+19</td><td style=\"text-align: right;\">       -2.58568e+19</td><td style=\"text-align: right;\">       -6.76019e+19</td></tr>\n",
       "<tr><td>_Trainable_9417c75e</td><td>TERMINATED</td><td>127.0.0.1:13394</td><td>LinearRegressio_98e0</td><td style=\"text-align: right;\">0.5</td><td style=\"text-align: right;\">            0.9</td><td style=\"text-align: right;\">                     </td><td style=\"text-align: right;\">     1</td><td style=\"text-align: right;\">        0.197202</td><td style=\"text-align: right;\">       -6.31941e+17</td><td style=\"text-align: right;\">       -5.45171e+17</td><td style=\"text-align: right;\">       -5.7334e+18 </td></tr>\n",
       "<tr><td>_Trainable_104b90f3</td><td>TERMINATED</td><td>127.0.0.1:13395</td><td>AdaptiveRandomF_c880</td><td style=\"text-align: right;\">   </td><td style=\"text-align: right;\">               </td><td style=\"text-align: right;\">                   10</td><td style=\"text-align: right;\">     1</td><td style=\"text-align: right;\">        6.19506 </td><td style=\"text-align: right;\">        0.597671   </td><td style=\"text-align: right;\">        0.78356    </td><td style=\"text-align: right;\">        0.762079   </td></tr>\n",
       "<tr><td>_Trainable_7906ec7c</td><td>TERMINATED</td><td>127.0.0.1:13397</td><td>AdaptiveRandomF_43a0</td><td style=\"text-align: right;\">   </td><td style=\"text-align: right;\">               </td><td style=\"text-align: right;\">                   15</td><td style=\"text-align: right;\">     1</td><td style=\"text-align: right;\">        9.32979 </td><td style=\"text-align: right;\">        0.592126   </td><td style=\"text-align: right;\">        0.750726   </td><td style=\"text-align: right;\">        0.772577   </td></tr>\n",
       "<tr><td>_Trainable_5a2dd135</td><td>TERMINATED</td><td>127.0.0.1:13399</td><td>AdaptiveRandomF_d7c0</td><td style=\"text-align: right;\">   </td><td style=\"text-align: right;\">               </td><td style=\"text-align: right;\">                   20</td><td style=\"text-align: right;\">     1</td><td style=\"text-align: right;\">       12.2546  </td><td style=\"text-align: right;\">        0.645612   </td><td style=\"text-align: right;\">        0.758665   </td><td style=\"text-align: right;\">        0.741192   </td></tr>\n",
       "</tbody>\n",
       "</table>\n",
       "  </div>\n",
       "</div>\n",
       "<style>\n",
       ".tuneStatus {\n",
       "  color: var(--jp-ui-font-color1);\n",
       "}\n",
       ".tuneStatus .systemInfo {\n",
       "  display: flex;\n",
       "  flex-direction: column;\n",
       "}\n",
       ".tuneStatus td {\n",
       "  white-space: nowrap;\n",
       "}\n",
       ".tuneStatus .trialStatus {\n",
       "  display: flex;\n",
       "  flex-direction: column;\n",
       "}\n",
       ".tuneStatus h3 {\n",
       "  font-weight: bold;\n",
       "}\n",
       ".tuneStatus .hDivider {\n",
       "  border-bottom-width: var(--jp-border-width);\n",
       "  border-bottom-color: var(--jp-border-color0);\n",
       "  border-bottom-style: solid;\n",
       "}\n",
       ".tuneStatus .vDivider {\n",
       "  border-left-width: var(--jp-border-width);\n",
       "  border-left-color: var(--jp-border-color0);\n",
       "  border-left-style: solid;\n",
       "  margin: 0.5em 1em 0.5em 1em;\n",
       "}\n",
       "</style>\n"
      ],
      "text/plain": [
       "<IPython.core.display.HTML object>"
      ]
     },
     "metadata": {},
     "output_type": "display_data"
    },
    {
     "name": "stderr",
     "output_type": "stream",
     "text": [
      "2023-07-09 22:49:36,609\tINFO tune.py:945 -- Total run time: 16.43 seconds (16.41 seconds for the tuning loop).\n",
      "[2023-07-09 22:49:42:136] - INFO - SAIL : Pipeline tuning completed. Disconnecting Ray cluster...\n",
      "[2023-07-09 22:49:42:137] - INFO - SAIL : Found best params: {'regressor': AdaptiveRandomForestRegressor(n_models=20), 'regressor__n_models': 20}\n"
     ]
    },
    {
     "name": "stdout",
     "output_type": "stream",
     "text": [
      ">>>--------------------------------------------------------------------------------------------\n"
     ]
    },
    {
     "name": "stderr",
     "output_type": "stream",
     "text": [
      "SAIL Pipeline Progressive Score: 100%========== [Points: 50/50, Elapsed:0.0016s, Metric=R2, Batch Size=50, P_Score=0.654]\n",
      "SAIL Drift detection: 100%========== [Points: 50/50, Elapsed:0.0010s, Detector=EDDM, Batch Size=50, Param=differene, Drift=No]\n",
      "SAIL Pipeline Partial fit: 100%========== [Steps: 3/3, ETA: 00:00<00:00, Elapsed:0.191s, Batch Size=50, P_Score=0.654]            \n"
     ]
    },
    {
     "name": "stdout",
     "output_type": "stream",
     "text": [
      ">>>--------------------------------------------------------------------------------------------\n"
     ]
    },
    {
     "name": "stderr",
     "output_type": "stream",
     "text": [
      "SAIL Pipeline Progressive Score: 100%========== [Points: 50/50, Elapsed:0.0016s, Metric=R2, Batch Size=50, P_Score=0.759]\n",
      "SAIL Drift detection: 100%========== [Points: 50/50, Elapsed:0.0012s, Detector=EDDM, Batch Size=50, Param=differene, Drift=No]\n",
      "SAIL Pipeline Partial fit: 100%========== [Steps: 3/3, ETA: 00:00<00:00, Elapsed:0.181s, Batch Size=50, P_Score=0.759]            \n"
     ]
    },
    {
     "name": "stdout",
     "output_type": "stream",
     "text": [
      ">>>--------------------------------------------------------------------------------------------\n"
     ]
    },
    {
     "name": "stderr",
     "output_type": "stream",
     "text": [
      "SAIL Pipeline Progressive Score: 100%========== [Points: 50/50, Elapsed:0.0017s, Metric=R2, Batch Size=50, P_Score=0.723]\n",
      "SAIL Drift detection: 100%========== [Points: 50/50, Elapsed:0.0016s, Detector=EDDM, Batch Size=50, Param=differene, Drift=No]\n",
      "SAIL Pipeline Partial fit: 100%========== [Steps: 3/3, ETA: 00:00<00:00, Elapsed:0.215s, Batch Size=50, P_Score=0.723]            \n"
     ]
    },
    {
     "name": "stdout",
     "output_type": "stream",
     "text": [
      ">>>--------------------------------------------------------------------------------------------\n"
     ]
    },
    {
     "name": "stderr",
     "output_type": "stream",
     "text": [
      "SAIL Pipeline Progressive Score: 100%========== [Points: 50/50, Elapsed:0.0015s, Metric=R2, Batch Size=50, P_Score=0.73]\n",
      "SAIL Drift detection: 100%========== [Points: 50/50, Elapsed:0.0010s, Detector=EDDM, Batch Size=50, Param=differene, Drift=No]\n",
      "SAIL Pipeline Partial fit: 100%========== [Steps: 3/3, ETA: 00:00<00:00, Elapsed:0.263s, Batch Size=50, P_Score=0.73]            \n"
     ]
    },
    {
     "name": "stdout",
     "output_type": "stream",
     "text": [
      ">>>--------------------------------------------------------------------------------------------\n"
     ]
    },
    {
     "name": "stderr",
     "output_type": "stream",
     "text": [
      "SAIL Pipeline Progressive Score: 100%========== [Points: 50/50, Elapsed:0.0013s, Metric=R2, Batch Size=50, P_Score=0.763]\n",
      "SAIL Drift detection: 100%========== [Points: 50/50, Elapsed:0.0010s, Detector=EDDM, Batch Size=50, Param=differene, Drift=No]\n",
      "SAIL Pipeline Partial fit: 100%========== [Steps: 3/3, ETA: 00:00<00:00, Elapsed:0.181s, Batch Size=50, P_Score=0.763]            \n"
     ]
    },
    {
     "name": "stdout",
     "output_type": "stream",
     "text": [
      ">>>--------------------------------------------------------------------------------------------\n"
     ]
    },
    {
     "name": "stderr",
     "output_type": "stream",
     "text": [
      "SAIL Pipeline Progressive Score: 100%========== [Points: 50/50, Elapsed:0.0015s, Metric=R2, Batch Size=50, P_Score=0.707]\n",
      "SAIL Drift detection: 100%========== [Points: 50/50, Elapsed:0.0010s, Detector=EDDM, Batch Size=50, Param=differene, Drift=No]\n",
      "SAIL Pipeline Partial fit: 100%========== [Steps: 3/3, ETA: 00:00<00:00, Elapsed:0.204s, Batch Size=50, P_Score=0.707]            \n"
     ]
    },
    {
     "name": "stdout",
     "output_type": "stream",
     "text": [
      ">>>--------------------------------------------------------------------------------------------\n"
     ]
    },
    {
     "name": "stderr",
     "output_type": "stream",
     "text": [
      "SAIL Pipeline Progressive Score: 100%========== [Points: 50/50, Elapsed:0.0019s, Metric=R2, Batch Size=50, P_Score=0.696]\n",
      "SAIL Drift detection: 100%========== [Points: 50/50, Elapsed:0.0016s, Detector=EDDM, Batch Size=50, Param=differene, Drift=No]\n",
      "SAIL Pipeline Partial fit: 100%========== [Steps: 3/3, ETA: 00:00<00:00, Elapsed:0.229s, Batch Size=50, P_Score=0.696]            \n"
     ]
    },
    {
     "name": "stdout",
     "output_type": "stream",
     "text": [
      ">>>--------------------------------------------------------------------------------------------\n"
     ]
    },
    {
     "name": "stderr",
     "output_type": "stream",
     "text": [
      "SAIL Pipeline Progressive Score: 100%========== [Points: 50/50, Elapsed:0.0017s, Metric=R2, Batch Size=50, P_Score=0.657]\n",
      "SAIL Drift detection: 100%========== [Points: 50/50, Elapsed:0.0012s, Detector=EDDM, Batch Size=50, Param=differene, Drift=No]\n",
      "SAIL Pipeline Partial fit: 100%========== [Steps: 3/3, ETA: 00:00<00:00, Elapsed:0.188s, Batch Size=50, P_Score=0.657]            \n"
     ]
    },
    {
     "name": "stdout",
     "output_type": "stream",
     "text": [
      ">>>--------------------------------------------------------------------------------------------\n"
     ]
    },
    {
     "name": "stderr",
     "output_type": "stream",
     "text": [
      "SAIL Pipeline Progressive Score: 100%========== [Points: 50/50, Elapsed:0.0033s, Metric=R2, Batch Size=50, P_Score=0.676]\n",
      "SAIL Drift detection: 100%========== [Points: 50/50, Elapsed:0.0016s, Detector=EDDM, Batch Size=50, Param=differene, Drift=No]\n",
      "SAIL Pipeline Partial fit: 100%========== [Steps: 3/3, ETA: 00:00<00:00, Elapsed:0.198s, Batch Size=50, P_Score=0.676]            \n"
     ]
    },
    {
     "name": "stdout",
     "output_type": "stream",
     "text": [
      ">>>--------------------------------------------------------------------------------------------\n"
     ]
    },
    {
     "name": "stderr",
     "output_type": "stream",
     "text": [
      "SAIL Pipeline Progressive Score: 100%========== [Points: 50/50, Elapsed:0.0024s, Metric=R2, Batch Size=50, P_Score=0.675]\n",
      "SAIL Drift detection: 100%========== [Points: 50/50, Elapsed:0.0010s, Detector=EDDM, Batch Size=50, Param=differene, Drift=No]\n",
      "SAIL Pipeline Partial fit: 100%========== [Steps: 3/3, ETA: 00:00<00:00, Elapsed:0.204s, Batch Size=50, P_Score=0.675]            \n"
     ]
    }
   ],
   "source": [
    "y_preds = []\n",
    "y_true = []\n",
    "batch_size = 50\n",
    "\n",
    "start = 0\n",
    "for end in range(50, 1501, batch_size):\n",
    "\n",
    "    X_train = X.iloc[start:end]\n",
    "    y_train = y.iloc[start:end]\n",
    "\n",
    "    if end > 1000: # search_data_size is 1000\n",
    "        preds = auto_pipeline.predict(X_train)\n",
    "        y_preds.extend(list(preds))\n",
    "        y_true.extend(list(y_train))\n",
    "\n",
    "    auto_pipeline.train(X_train, y_train)\n",
    "    start = end\n"
   ]
  },
  {
   "attachments": {},
   "cell_type": "markdown",
   "metadata": {},
   "source": [
    "#### Final Score\n"
   ]
  },
  {
   "cell_type": "code",
   "execution_count": 8,
   "metadata": {},
   "outputs": [
    {
     "data": {
      "text/plain": [
       "0.6745046015646516"
      ]
     },
     "execution_count": 8,
     "metadata": {},
     "output_type": "execute_result"
    }
   ],
   "source": [
    "auto_pipeline.progressive_score"
   ]
  },
  {
   "attachments": {},
   "cell_type": "markdown",
   "metadata": {},
   "source": [
    "### Plot predictions\n"
   ]
  },
  {
   "cell_type": "code",
   "execution_count": 9,
   "metadata": {},
   "outputs": [
    {
     "data": {
      "application/vnd.plotly.v1+json": {
       "config": {
        "plotlyServerURL": "https://plot.ly"
       },
       "data": [
        {
         "hovertemplate": "variable=y_true<br>index=%{x}<br>value=%{y}<extra></extra>",
         "legendgroup": "y_true",
         "line": {
          "color": "#636efa",
          "dash": "solid"
         },
         "marker": {
          "symbol": "circle"
         },
         "mode": "lines",
         "name": "y_true",
         "orientation": "v",
         "showlegend": true,
         "type": "scatter",
         "x": [
          0,
          1,
          2,
          3,
          4,
          5,
          6,
          7,
          8,
          9,
          10,
          11,
          12,
          13,
          14,
          15,
          16,
          17,
          18,
          19,
          20,
          21,
          22,
          23,
          24,
          25,
          26,
          27,
          28,
          29,
          30,
          31,
          32,
          33,
          34,
          35,
          36,
          37,
          38,
          39,
          40,
          41,
          42,
          43,
          44,
          45,
          46,
          47,
          48,
          49,
          50,
          51,
          52,
          53,
          54,
          55,
          56,
          57,
          58,
          59,
          60,
          61,
          62,
          63,
          64,
          65,
          66,
          67,
          68,
          69,
          70,
          71,
          72,
          73,
          74,
          75,
          76,
          77,
          78,
          79,
          80,
          81,
          82,
          83,
          84,
          85,
          86,
          87,
          88,
          89,
          90,
          91,
          92,
          93,
          94,
          95,
          96,
          97,
          98,
          99,
          100,
          101,
          102,
          103,
          104,
          105,
          106,
          107,
          108,
          109,
          110,
          111,
          112,
          113,
          114,
          115,
          116,
          117,
          118,
          119,
          120,
          121,
          122,
          123,
          124,
          125,
          126,
          127,
          128,
          129,
          130,
          131,
          132,
          133,
          134,
          135,
          136,
          137,
          138,
          139,
          140,
          141,
          142,
          143,
          144,
          145,
          146,
          147,
          148,
          149,
          150,
          151,
          152,
          153,
          154,
          155,
          156,
          157,
          158,
          159,
          160,
          161,
          162,
          163,
          164,
          165,
          166,
          167,
          168,
          169,
          170,
          171,
          172,
          173,
          174,
          175,
          176,
          177,
          178,
          179,
          180,
          181,
          182,
          183,
          184,
          185,
          186,
          187,
          188,
          189,
          190,
          191,
          192,
          193,
          194,
          195,
          196,
          197,
          198,
          199,
          200,
          201,
          202,
          203,
          204,
          205,
          206,
          207,
          208,
          209,
          210,
          211,
          212,
          213,
          214,
          215,
          216,
          217,
          218,
          219,
          220,
          221,
          222,
          223,
          224,
          225,
          226,
          227,
          228,
          229,
          230,
          231,
          232,
          233,
          234,
          235,
          236,
          237,
          238,
          239,
          240,
          241,
          242,
          243,
          244,
          245,
          246,
          247,
          248,
          249,
          250,
          251,
          252,
          253,
          254,
          255,
          256,
          257,
          258,
          259,
          260,
          261,
          262,
          263,
          264,
          265,
          266,
          267,
          268,
          269,
          270,
          271,
          272,
          273,
          274,
          275,
          276,
          277,
          278,
          279,
          280,
          281,
          282,
          283,
          284,
          285,
          286,
          287,
          288,
          289,
          290,
          291,
          292,
          293,
          294,
          295,
          296,
          297,
          298,
          299,
          300,
          301,
          302,
          303,
          304,
          305,
          306,
          307,
          308,
          309,
          310,
          311,
          312,
          313,
          314,
          315,
          316,
          317,
          318,
          319,
          320,
          321,
          322,
          323,
          324,
          325,
          326,
          327,
          328,
          329,
          330,
          331,
          332,
          333,
          334,
          335,
          336,
          337,
          338,
          339,
          340,
          341,
          342,
          343,
          344,
          345,
          346,
          347,
          348,
          349,
          350,
          351,
          352,
          353,
          354,
          355,
          356,
          357,
          358,
          359,
          360,
          361,
          362,
          363,
          364,
          365,
          366,
          367,
          368,
          369,
          370,
          371,
          372,
          373,
          374,
          375,
          376,
          377,
          378,
          379,
          380,
          381,
          382,
          383,
          384,
          385,
          386,
          387,
          388,
          389,
          390,
          391,
          392,
          393,
          394,
          395,
          396,
          397,
          398,
          399,
          400,
          401,
          402,
          403,
          404,
          405,
          406,
          407,
          408,
          409,
          410,
          411,
          412,
          413,
          414,
          415,
          416,
          417,
          418,
          419,
          420,
          421,
          422,
          423,
          424,
          425,
          426,
          427,
          428,
          429,
          430,
          431,
          432,
          433,
          434,
          435,
          436,
          437,
          438,
          439,
          440,
          441,
          442,
          443,
          444,
          445,
          446,
          447,
          448,
          449,
          450,
          451,
          452,
          453,
          454,
          455,
          456,
          457,
          458,
          459,
          460,
          461,
          462,
          463,
          464,
          465,
          466,
          467,
          468,
          469,
          470,
          471,
          472,
          473,
          474,
          475,
          476,
          477,
          478,
          479,
          480,
          481,
          482,
          483,
          484,
          485,
          486,
          487,
          488,
          489,
          490,
          491,
          492,
          493,
          494,
          495,
          496,
          497,
          498,
          499
         ],
         "xaxis": "x",
         "y": [
          80.19166667,
          78.95833333,
          97.98333333,
          99.15833333,
          90.75,
          83.75833333,
          64.98333333,
          61.30833333,
          47.68333333,
          32.95833333,
          26.83333333,
          20.71666667,
          14.44166667,
          16.08333333,
          19.51666667,
          25.64166667,
          19.16666667,
          24.54166667,
          21.61666667,
          21.2,
          45.30833333,
          47.50833333,
          52.85833333,
          67.78333333,
          73.68333333,
          63.375,
          27.23333333,
          21.58333333,
          23.50833333,
          26.35833333,
          46.33333333,
          44.76666667,
          41.08333333,
          38.925,
          45.90833333,
          63.16666667,
          47.2,
          48.13333333,
          41.69166667,
          33.35833333,
          24.575,
          19.125,
          12.73333333,
          7.216666667,
          5.575,
          2.441666667,
          1.75,
          1.966666667,
          1.475,
          1.133333333,
          0,
          0.808333333,
          0,
          0,
          0,
          0,
          2.175,
          2.1583333330000003,
          1.308333333,
          10.49166667,
          18.41666667,
          29.24166667,
          47.09166667,
          48.70833333,
          54.675,
          51.89166667,
          50.9,
          70.925,
          76.21666667,
          78.64166667,
          72.21666667,
          71.86666667,
          73.29166667,
          75.95833333,
          78.35833333,
          73.71666667,
          77.875,
          75.35,
          75.44166667,
          77.26666667,
          73.8,
          72.64166667,
          77.45,
          75.64166667,
          79.76666667,
          85.11666667,
          88.625,
          78.40833333,
          72.88333333,
          75.55,
          74.075,
          58.91666667,
          50.50833333,
          36.51666667,
          42.35833333,
          59.64166667,
          73.45833333,
          77.16666667,
          62.575,
          86.30833333,
          40.93333333,
          60.625,
          49.10833333,
          42.96666667,
          55.81666667,
          38.65833333,
          26.1,
          29.25833333,
          23.775,
          17.55833333,
          10.95833333,
          4.691666667,
          2.925,
          1.7416666669999998,
          0.75,
          2.558333333,
          5.791666667,
          8.033333333,
          10.91666667,
          13.73333333,
          17.875,
          17.19166667,
          0.941666667,
          0,
          0,
          0,
          0,
          0,
          0,
          0.291666667,
          3.483333333,
          5.366666667,
          12.64166667,
          13.775,
          7.158333333,
          14,
          15.54166667,
          16.6,
          13.08333333,
          24.025,
          35.425,
          66.1,
          63.26666667,
          61.40833333,
          70.55833333,
          74.01666667,
          80.29166667,
          76.1,
          76.025,
          84.79166667,
          81.68333333,
          69.05,
          73.65,
          68.34166667,
          68.9,
          40.05833333,
          60.125,
          74.93333333,
          79.11666667,
          72.08333333,
          73.85,
          71.425,
          74.35,
          78.925,
          78.63333333,
          84,
          83.15,
          79.74166667,
          80.08333333,
          79.40833333,
          77.45833333,
          77.65,
          77.65833333,
          77.25833333,
          76.34166667,
          74.65833333,
          71.66666667,
          67.925,
          60.875,
          51.29166667,
          55.71666667,
          72.55,
          70.14166667,
          66.05833333,
          65.69166667,
          60.775,
          63.10833333,
          73.88333333,
          71.90833333,
          66.85,
          57.675,
          48.46666667,
          50.925,
          37.3,
          29.05833333,
          28.61666667,
          24.01666667,
          13.15833333,
          7.883333332999999,
          1.016666667,
          0.191666667,
          0.216666667,
          1.6833333330000002,
          5.583333333,
          7.15,
          3.675,
          2.383333333,
          4.7,
          7.933333332999999,
          2.75,
          0,
          0,
          0.45,
          2.2833333330000003,
          5.441666667000001,
          13.49166667,
          11.65,
          4.041666667,
          0,
          0,
          0,
          0,
          0,
          0,
          0.141666667,
          0,
          0,
          0,
          0,
          0,
          0,
          0,
          0,
          0.6416666670000001,
          1.425,
          11.95,
          22.79166667,
          16.91666667,
          14.79166667,
          13.89166667,
          11.16666667,
          4.791666667,
          1.45,
          0,
          0.016666667,
          5.883333333,
          8.808333333,
          22.54166667,
          24.01666667,
          25.75,
          27.89166667,
          31.60833333,
          46.14166667,
          57.28333333,
          65.575,
          69.80833333,
          76.41666667,
          73.69166667,
          64.525,
          54.1,
          71.58333333,
          60.76666667,
          43.8,
          34.54166667,
          33.075,
          30.2,
          30.025,
          50.3,
          82.73333333,
          98.44166667,
          99.825,
          99.65833333,
          99.81666667,
          99.78333333,
          99.725,
          99.1,
          99.26666667,
          99.81666667,
          99.825,
          99.83333333,
          99.45,
          99.65,
          97.99166667,
          95.2,
          88.70833333,
          49.89166667,
          14.98333333,
          56.54166667,
          98.1,
          95.075,
          89.91666667,
          56.90833333,
          61.925,
          77.03333333,
          60.225,
          89.99166667,
          88.325,
          85.89166667,
          47.00833333,
          33.50833333,
          43.025,
          71.31666667,
          91.375,
          94.91666667,
          98.94166667,
          91.38333333,
          69.61666667,
          73.03333333,
          79.40833333,
          87.49166667,
          86.125,
          84.85833333,
          78.56666667,
          78.21666667,
          56.725,
          83.375,
          89.66666667,
          81.64166667,
          86.825,
          97.225,
          95.68333333,
          92.25,
          86.40833333,
          93.775,
          91.29166667,
          93.15,
          84.325,
          62.83333333,
          37.975,
          38.01666667,
          34.64166667,
          51.55833333,
          42.36666667,
          19.95833333,
          3.666666667,
          2.716666667,
          1.808333333,
          3.333333333,
          10.575,
          12.16666667,
          12.925,
          9.433333333,
          10.18333333,
          16.81666667,
          21.8,
          18.975,
          23.025,
          13.89166667,
          3.8,
          0,
          0,
          0,
          0,
          0,
          0.008333333,
          3.016666667,
          7.033333333,
          13.375,
          22.85,
          12.375,
          16.80833333,
          24.45,
          21.26666667,
          13.14166667,
          4.05,
          7.966666667,
          25.8,
          25.3,
          16.3,
          6.725,
          9.058333333,
          15.38333333,
          14.19166667,
          20.59166667,
          44.075,
          61.23333333,
          74.04166667,
          75.56666667,
          65.975,
          45.23333333,
          29.60833333,
          19.18333333,
          9.3,
          3.475,
          0.8,
          0.7,
          2.383333333,
          17.025,
          46.625,
          52.79166667,
          60.39166667,
          66.96666667,
          76.54166667,
          84.53333333,
          93.275,
          92.03333333,
          94.15833333,
          86.33333333,
          91.025,
          85.875,
          75.36666667,
          63.58333333,
          48.29166667,
          26.91666667,
          12.775,
          6.15,
          5.008333333,
          3.491666667,
          4.541666667,
          6.291666667,
          10.90833333,
          27.58333333,
          51.25833333,
          67.26666667,
          81.00833333,
          84.55,
          89.525,
          90.8,
          95.8,
          99.75833333,
          99.79166667,
          96.35833333,
          92.125,
          99.775,
          99.81666667,
          99.825,
          99.825,
          99.71666667,
          98.7,
          98.85,
          99.84166667,
          98.51666667,
          99.75833333,
          99.73333333,
          94.45833333,
          88.95833333,
          82.85,
          82.50833333,
          80.175,
          78.83333333,
          73.48333333,
          78.83333333,
          79.03333333,
          83.65,
          80.75,
          74.26666667,
          74.06666667,
          79.96666667,
          77.90833333,
          88.05833333,
          90.15833333,
          98.23333333,
          98.64166667,
          87.025,
          86.59166667,
          93.13333333,
          91.825,
          86.34166667,
          39.53333333,
          19.46666667,
          11.06666667,
          20.85,
          28.41666667,
          30.875,
          29.38333333,
          38.58333333,
          60.51666667,
          76.05,
          84.54166667,
          76.33333333,
          91.175,
          95.075,
          92.71666667,
          94.90833333,
          98.86666667,
          93.50833333,
          90.71666667,
          86.65833333,
          82.025,
          82.55833333,
          83.78333333,
          83.45833333,
          83.875,
          81.09166667,
          80.5,
          84.20833333,
          83.68333333,
          79.59166667,
          74.99166667,
          74.71666667,
          52.59166667,
          61.51666667,
          48.075,
          18.25,
          7.966666667,
          6.583333333,
          3.5,
          3.941666667,
          9.208333333,
          17.89166667
         ],
         "yaxis": "y"
        },
        {
         "hovertemplate": "variable=y_preds<br>index=%{x}<br>value=%{y}<extra></extra>",
         "legendgroup": "y_preds",
         "line": {
          "color": "#EF553B",
          "dash": "solid"
         },
         "marker": {
          "symbol": "circle"
         },
         "mode": "lines",
         "name": "y_preds",
         "orientation": "v",
         "showlegend": true,
         "type": "scatter",
         "x": [
          0,
          1,
          2,
          3,
          4,
          5,
          6,
          7,
          8,
          9,
          10,
          11,
          12,
          13,
          14,
          15,
          16,
          17,
          18,
          19,
          20,
          21,
          22,
          23,
          24,
          25,
          26,
          27,
          28,
          29,
          30,
          31,
          32,
          33,
          34,
          35,
          36,
          37,
          38,
          39,
          40,
          41,
          42,
          43,
          44,
          45,
          46,
          47,
          48,
          49,
          50,
          51,
          52,
          53,
          54,
          55,
          56,
          57,
          58,
          59,
          60,
          61,
          62,
          63,
          64,
          65,
          66,
          67,
          68,
          69,
          70,
          71,
          72,
          73,
          74,
          75,
          76,
          77,
          78,
          79,
          80,
          81,
          82,
          83,
          84,
          85,
          86,
          87,
          88,
          89,
          90,
          91,
          92,
          93,
          94,
          95,
          96,
          97,
          98,
          99,
          100,
          101,
          102,
          103,
          104,
          105,
          106,
          107,
          108,
          109,
          110,
          111,
          112,
          113,
          114,
          115,
          116,
          117,
          118,
          119,
          120,
          121,
          122,
          123,
          124,
          125,
          126,
          127,
          128,
          129,
          130,
          131,
          132,
          133,
          134,
          135,
          136,
          137,
          138,
          139,
          140,
          141,
          142,
          143,
          144,
          145,
          146,
          147,
          148,
          149,
          150,
          151,
          152,
          153,
          154,
          155,
          156,
          157,
          158,
          159,
          160,
          161,
          162,
          163,
          164,
          165,
          166,
          167,
          168,
          169,
          170,
          171,
          172,
          173,
          174,
          175,
          176,
          177,
          178,
          179,
          180,
          181,
          182,
          183,
          184,
          185,
          186,
          187,
          188,
          189,
          190,
          191,
          192,
          193,
          194,
          195,
          196,
          197,
          198,
          199,
          200,
          201,
          202,
          203,
          204,
          205,
          206,
          207,
          208,
          209,
          210,
          211,
          212,
          213,
          214,
          215,
          216,
          217,
          218,
          219,
          220,
          221,
          222,
          223,
          224,
          225,
          226,
          227,
          228,
          229,
          230,
          231,
          232,
          233,
          234,
          235,
          236,
          237,
          238,
          239,
          240,
          241,
          242,
          243,
          244,
          245,
          246,
          247,
          248,
          249,
          250,
          251,
          252,
          253,
          254,
          255,
          256,
          257,
          258,
          259,
          260,
          261,
          262,
          263,
          264,
          265,
          266,
          267,
          268,
          269,
          270,
          271,
          272,
          273,
          274,
          275,
          276,
          277,
          278,
          279,
          280,
          281,
          282,
          283,
          284,
          285,
          286,
          287,
          288,
          289,
          290,
          291,
          292,
          293,
          294,
          295,
          296,
          297,
          298,
          299,
          300,
          301,
          302,
          303,
          304,
          305,
          306,
          307,
          308,
          309,
          310,
          311,
          312,
          313,
          314,
          315,
          316,
          317,
          318,
          319,
          320,
          321,
          322,
          323,
          324,
          325,
          326,
          327,
          328,
          329,
          330,
          331,
          332,
          333,
          334,
          335,
          336,
          337,
          338,
          339,
          340,
          341,
          342,
          343,
          344,
          345,
          346,
          347,
          348,
          349,
          350,
          351,
          352,
          353,
          354,
          355,
          356,
          357,
          358,
          359,
          360,
          361,
          362,
          363,
          364,
          365,
          366,
          367,
          368,
          369,
          370,
          371,
          372,
          373,
          374,
          375,
          376,
          377,
          378,
          379,
          380,
          381,
          382,
          383,
          384,
          385,
          386,
          387,
          388,
          389,
          390,
          391,
          392,
          393,
          394,
          395,
          396,
          397,
          398,
          399,
          400,
          401,
          402,
          403,
          404,
          405,
          406,
          407,
          408,
          409,
          410,
          411,
          412,
          413,
          414,
          415,
          416,
          417,
          418,
          419,
          420,
          421,
          422,
          423,
          424,
          425,
          426,
          427,
          428,
          429,
          430,
          431,
          432,
          433,
          434,
          435,
          436,
          437,
          438,
          439,
          440,
          441,
          442,
          443,
          444,
          445,
          446,
          447,
          448,
          449,
          450,
          451,
          452,
          453,
          454,
          455,
          456,
          457,
          458,
          459,
          460,
          461,
          462,
          463,
          464,
          465,
          466,
          467,
          468,
          469,
          470,
          471,
          472,
          473,
          474,
          475,
          476,
          477,
          478,
          479,
          480,
          481,
          482,
          483,
          484,
          485,
          486,
          487,
          488,
          489,
          490,
          491,
          492,
          493,
          494,
          495,
          496,
          497,
          498,
          499
         ],
         "xaxis": "x",
         "y": [
          84.04586308396904,
          83.4651748358209,
          78.91883106980882,
          72.58729446718324,
          59.53823653431047,
          59.53823653431047,
          56.283624879511116,
          53.6216517854389,
          49.12361459911314,
          44.8749595405952,
          40.975849145302234,
          38.00753259455293,
          32.695835161311095,
          28.263711243973006,
          30.832483971197696,
          29.44681797310967,
          27.476572037914742,
          32.01517771118466,
          47.69464424917506,
          36.60118477141086,
          39.03199195268368,
          48.339693309104945,
          48.339693309104945,
          53.42618127148151,
          48.45857258270797,
          49.490558697631045,
          34.036675082729545,
          33.476759719410055,
          20.65261135057349,
          20.98667769015285,
          21.648822497165163,
          27.64951360987287,
          32.37759175467575,
          36.83260151550339,
          38.32290032470996,
          36.38338764290502,
          36.40124725830921,
          39.748014322859376,
          39.748014322859376,
          39.984983953100205,
          33.93514671320379,
          29.607749302373012,
          29.607749302373012,
          21.63187530975694,
          28.811866731463546,
          28.652476350184685,
          26.869752153418936,
          26.586070499039028,
          15.376272596987718,
          17.016960370739202,
          10.552497530451827,
          7.433156108528732,
          9.25319251278873,
          13.990503882539356,
          10.483016980447385,
          14.75007140911413,
          19.206081312023564,
          22.527226031777182,
          24.571109077660793,
          29.96123609027904,
          31.271203675632176,
          36.13336106372572,
          35.65865174317153,
          49.11938348590306,
          56.66041883539571,
          70.21533251687191,
          71.22743363938255,
          70.45708261123477,
          74.49030035958218,
          72.4571169596575,
          75.24062619706115,
          76.75914118939909,
          76.75914118939909,
          75.10467462118773,
          74.74696830623668,
          76.36652166687117,
          76.00881535192012,
          79.3965957902295,
          81.43399391217488,
          83.0952879556387,
          82.30092473345546,
          83.337148117982,
          83.337148117982,
          83.337148117982,
          83.337148117982,
          82.30092473345546,
          82.30092473345546,
          82.30092473345546,
          82.83005866701191,
          81.09662085280408,
          75.34835262113788,
          70.62000594831044,
          75.77571212194776,
          75.92289781780002,
          76.36368779467568,
          77.48704648505442,
          70.83912487704747,
          79.93917546895744,
          80.39191253771261,
          72.8401950937826,
          66.6772771631002,
          64.77092829541111,
          62.04503484836448,
          59.547121597957045,
          56.8545511970423,
          49.96074284534849,
          42.70465777279165,
          42.70465777279165,
          28.79627581125221,
          28.79627581125221,
          26.309602943465443,
          22.663559203661613,
          22.663559203661613,
          23.96615628980031,
          28.287525527543227,
          36.24760413185059,
          37.577453008662644,
          43.324059607065976,
          48.67937858220971,
          55.80842846198273,
          53.54156240179025,
          40.74671238287107,
          36.22786473201023,
          11.600285884296522,
          8.210337704679539,
          5.434327512622765,
          6.940209472106102,
          6.940209472106102,
          6.486447132544802,
          11.140219205113773,
          9.57429687603125,
          12.620604916824064,
          11.9027843086919,
          11.9027843086919,
          11.9027843086919,
          11.9027843086919,
          17.113423453738854,
          29.18292403445276,
          43.32944112383713,
          42.417412687625664,
          50.609530626512836,
          71.25633087832225,
          74.19277844731494,
          74.19277844731494,
          73.90390694939563,
          73.90390694939563,
          75.51433992142866,
          72.73913043435972,
          72.73913043435972,
          71.41847068937389,
          75.60298673931644,
          77.38160225435499,
          75.08578540279453,
          70.48617865323287,
          67.21938058747125,
          67.25510567942872,
          58.190692851614166,
          70.23802941717906,
          68.58370915444591,
          73.74097964938227,
          77.80444691079461,
          83.46969797223545,
          83.9374048603353,
          83.36651641238558,
          76.26299665948312,
          68.87338600235763,
          71.17765602575113,
          72.15144558624394,
          73.32865684293252,
          70.64915557521857,
          68.43239277141996,
          67.58694418572017,
          68.80320220639545,
          67.58694418572017,
          54.81614367860155,
          57.220107654612725,
          55.55564470233563,
          55.65668313136577,
          52.98366688048941,
          51.567190656573246,
          52.98366688048941,
          52.98366688048941,
          49.44724079911832,
          42.838674253293284,
          51.45087389714705,
          49.35907056029585,
          42.6896178459518,
          37.04993615008666,
          35.39501582217288,
          32.72763684685739,
          46.00492216057519,
          37.81942712744912,
          38.55351709889165,
          28.49480237069,
          28.10376088567391,
          24.45222720429913,
          19.814830563170855,
          16.734060830464543,
          16.868703509358447,
          16.734060830464543,
          8.996226557227688,
          9.343504775178832,
          12.553993509421407,
          15.217975277681841,
          14.651382595873443,
          11.384239184808422,
          8.272219864139561,
          11.083627879655728,
          14.89175926592422,
          13.156164059816499,
          11.155322424004705,
          11.155322424004705,
          15.690271233152295,
          19.02394407474773,
          15.898493201607067,
          15.822392733365326,
          17.764210366682853,
          18.929713039290164,
          18.28953339712404,
          10.588729742196307,
          5.327803651889623,
          3.246407204110435,
          5.588165474254302,
          6.129529045997594,
          10.723183631776706,
          10.346925748435321,
          10.245214458546915,
          10.146365268577895,
          10.147622282667623,
          11.880475694954992,
          9.336283943071438,
          14.151678535692012,
          13.512100750794605,
          15.691349226814179,
          18.637387332563833,
          23.042677295129216,
          31.841029249965658,
          36.06177844038692,
          45.686615311399365,
          52.22894214718447,
          52.56348241926402,
          25.24823695098779,
          12.808274368866591,
          3.133836196217736,
          2.9038581632925657,
          4.363459602201987,
          26.714582357323188,
          33.70683045307932,
          34.11403841193929,
          34.406631582630496,
          30.685232870207834,
          38.82405520234331,
          65.62187711985541,
          70.33519643406864,
          68.70387872918866,
          67.9991456684375,
          64.06398315998086,
          70.41430172881942,
          72.99098447806864,
          75.1128093439417,
          75.1128093439417,
          74.4569752858642,
          76.71678822100544,
          78.08658783294126,
          78.77774216600068,
          79.2576842148271,
          75.1128093439417,
          69.54325428986607,
          75.1128093439417,
          76.75527146380534,
          78.56652988176768,
          83.20958994757936,
          83.20958994757936,
          82.33513007123678,
          78.56652988176768,
          79.31649161202128,
          78.41530263798089,
          78.41530263798089,
          78.41530263798089,
          79.31649161202128,
          78.77400123134939,
          77.3743856201157,
          77.48838940807934,
          77.00873168482966,
          77.00873168482966,
          72.65138643015098,
          74.17019029719538,
          67.97612461006908,
          58.21055541223855,
          53.41889763746457,
          50.73241765948673,
          49.20433445919397,
          24.411204496208978,
          22.679180259872645,
          30.22851153943456,
          49.20433445919397,
          51.45829996518052,
          55.07261361310039,
          69.59437718163517,
          70.82443263951325,
          76.62612147339479,
          77.85176414967358,
          80.20685594694714,
          72.8543632721377,
          75.72038396582516,
          76.7203652475134,
          76.7203652475134,
          74.6642523825131,
          76.54330830761276,
          76.25303548983746,
          76.25303548983746,
          74.6642523825131,
          75.14059189236312,
          64.98941143595869,
          66.31598651916421,
          78.05129428236117,
          75.14059189236312,
          74.8907468217929,
          78.71445524235116,
          78.71445524235116,
          78.71445524235116,
          73.60645220584374,
          64.09219575021947,
          54.91790095848289,
          31.883572495734107,
          25.880384490944444,
          24.78805625835142,
          24.78805625835142,
          22.89791396203344,
          17.948252864883532,
          27.397528571770202,
          23.753185227624044,
          17.86426820720063,
          14.459142811308286,
          13.309861201871499,
          20.408700397586905,
          13.216238576967886,
          15.231777192406494,
          17.249431770722914,
          6.292373520502338,
          4.954551213604027,
          4.954551213604027,
          4.954551213604027,
          4.954551213604027,
          4.954551213604027,
          4.954551213604027,
          4.607604240924982,
          2.5661642425873215,
          1.4160778985235511,
          1.4160778985235511,
          3.7020438395052424,
          4.622470317927691,
          5.075302343765305,
          4.883280423667855,
          6.95945805228463,
          11.923207802097654,
          13.02801754416992,
          22.74549641069636,
          28.369513327152497,
          31.781471046907917,
          34.139360729244295,
          26.55209686183401,
          27.483266077557936,
          14.566541101098295,
          12.235956100571428,
          11.565176223240467,
          13.764179493443887,
          14.733000061140952,
          15.938433289481473,
          13.635299516008665,
          13.517037671233753,
          13.39251346558609,
          12.238260988238187,
          16.273418144467804,
          12.335712024537926,
          12.335712024537926,
          24.17495894959756,
          22.464325037867418,
          29.18292817992286,
          34.03920158386332,
          22.02755606725278,
          25.18584440320437,
          9.710531139113437,
          28.723483817809438,
          23.128996339337874,
          23.128996339337874,
          20.725054512017845,
          21.536326222960245,
          20.61979713504568,
          24.95687320389677,
          36.6271274004899,
          48.12449302147283,
          40.1787998953055,
          37.677410345016696,
          40.77516943557504,
          40.77516943557504,
          41.261245431233704,
          40.98192270340475,
          41.544492131502054,
          36.61515457025058,
          78.10108605880703,
          54.59449951892904,
          46.09066861425516,
          55.42174462998521,
          52.45030761644222,
          43.25834899816162,
          39.973693279757356,
          50.14416588611909,
          50.415550538148985,
          41.11702506110352,
          45.01914564216604,
          31.820161706028063,
          33.29136556710735,
          63.05597993238065,
          77.31085727877453,
          80.62117724889947,
          81.67152215510038,
          80.66156784201925,
          80.66156784201925,
          80.17991852275371,
          84.10033170813654,
          82.56391264595614,
          85.52318885104725,
          80.80389227273042,
          80.11172792066654,
          79.75753865714469,
          80.10324004032941,
          78.6637185606607,
          74.51681017271922,
          73.78307544197278,
          70.22934609252792,
          71.20738592496089,
          76.85345157100222,
          76.85345157100222,
          81.40589268819053,
          82.59605929758226,
          82.76060185168055,
          82.76060185168055,
          82.89595928173708,
          82.89595928173708,
          82.88636272089977,
          82.88636272089977,
          82.89595928173708,
          82.89595928173708,
          82.89595928173708,
          82.88636272089977,
          82.97835778241414,
          82.97835778241414,
          82.97835778241414,
          82.76060185168055,
          81.26066570136793,
          81.0137019215545,
          81.0137019215545,
          80.97375829413934,
          78.25482424789891,
          77.1692772760644,
          76.8708062575261,
          51.508827755309326,
          40.53481246591079,
          37.99849083151892,
          40.19304606710571,
          42.697343826852304,
          43.14652256381753,
          43.14652256381753,
          45.21378063824159,
          45.21378063824159,
          51.76436410631874,
          51.76436410631874,
          59.06243988324628,
          64.52454364223523,
          68.23033043879622,
          64.23206481466858,
          76.54735853220382,
          70.05505296394888,
          61.852436388252244,
          57.56467354516275,
          57.16980463623245,
          58.38747059462049,
          62.462049001575735,
          65.68721908889637,
          71.59293649183991,
          62.00164770109754,
          66.82166622960646,
          71.79863011895682,
          75.1928921206958,
          71.79863011895682,
          71.79863011895682,
          68.49359953978345,
          71.79863011895682,
          62.87615028363105,
          58.12333379695279,
          56.57104368287537,
          51.47657284024557,
          39.22784426124765,
          39.22784426124765,
          39.22784426124765,
          38.003189393472724,
          38.003189393472724,
          36.29587037003333,
          34.66175623987862
         ],
         "yaxis": "y"
        }
       ],
       "layout": {
        "legend": {
         "title": {
          "text": "variable"
         },
         "tracegroupgap": 0
        },
        "margin": {
         "t": 60
        },
        "template": {
         "data": {
          "bar": [
           {
            "error_x": {
             "color": "#2a3f5f"
            },
            "error_y": {
             "color": "#2a3f5f"
            },
            "marker": {
             "line": {
              "color": "#E5ECF6",
              "width": 0.5
             },
             "pattern": {
              "fillmode": "overlay",
              "size": 10,
              "solidity": 0.2
             }
            },
            "type": "bar"
           }
          ],
          "barpolar": [
           {
            "marker": {
             "line": {
              "color": "#E5ECF6",
              "width": 0.5
             },
             "pattern": {
              "fillmode": "overlay",
              "size": 10,
              "solidity": 0.2
             }
            },
            "type": "barpolar"
           }
          ],
          "carpet": [
           {
            "aaxis": {
             "endlinecolor": "#2a3f5f",
             "gridcolor": "white",
             "linecolor": "white",
             "minorgridcolor": "white",
             "startlinecolor": "#2a3f5f"
            },
            "baxis": {
             "endlinecolor": "#2a3f5f",
             "gridcolor": "white",
             "linecolor": "white",
             "minorgridcolor": "white",
             "startlinecolor": "#2a3f5f"
            },
            "type": "carpet"
           }
          ],
          "choropleth": [
           {
            "colorbar": {
             "outlinewidth": 0,
             "ticks": ""
            },
            "type": "choropleth"
           }
          ],
          "contour": [
           {
            "colorbar": {
             "outlinewidth": 0,
             "ticks": ""
            },
            "colorscale": [
             [
              0,
              "#0d0887"
             ],
             [
              0.1111111111111111,
              "#46039f"
             ],
             [
              0.2222222222222222,
              "#7201a8"
             ],
             [
              0.3333333333333333,
              "#9c179e"
             ],
             [
              0.4444444444444444,
              "#bd3786"
             ],
             [
              0.5555555555555556,
              "#d8576b"
             ],
             [
              0.6666666666666666,
              "#ed7953"
             ],
             [
              0.7777777777777778,
              "#fb9f3a"
             ],
             [
              0.8888888888888888,
              "#fdca26"
             ],
             [
              1,
              "#f0f921"
             ]
            ],
            "type": "contour"
           }
          ],
          "contourcarpet": [
           {
            "colorbar": {
             "outlinewidth": 0,
             "ticks": ""
            },
            "type": "contourcarpet"
           }
          ],
          "heatmap": [
           {
            "colorbar": {
             "outlinewidth": 0,
             "ticks": ""
            },
            "colorscale": [
             [
              0,
              "#0d0887"
             ],
             [
              0.1111111111111111,
              "#46039f"
             ],
             [
              0.2222222222222222,
              "#7201a8"
             ],
             [
              0.3333333333333333,
              "#9c179e"
             ],
             [
              0.4444444444444444,
              "#bd3786"
             ],
             [
              0.5555555555555556,
              "#d8576b"
             ],
             [
              0.6666666666666666,
              "#ed7953"
             ],
             [
              0.7777777777777778,
              "#fb9f3a"
             ],
             [
              0.8888888888888888,
              "#fdca26"
             ],
             [
              1,
              "#f0f921"
             ]
            ],
            "type": "heatmap"
           }
          ],
          "heatmapgl": [
           {
            "colorbar": {
             "outlinewidth": 0,
             "ticks": ""
            },
            "colorscale": [
             [
              0,
              "#0d0887"
             ],
             [
              0.1111111111111111,
              "#46039f"
             ],
             [
              0.2222222222222222,
              "#7201a8"
             ],
             [
              0.3333333333333333,
              "#9c179e"
             ],
             [
              0.4444444444444444,
              "#bd3786"
             ],
             [
              0.5555555555555556,
              "#d8576b"
             ],
             [
              0.6666666666666666,
              "#ed7953"
             ],
             [
              0.7777777777777778,
              "#fb9f3a"
             ],
             [
              0.8888888888888888,
              "#fdca26"
             ],
             [
              1,
              "#f0f921"
             ]
            ],
            "type": "heatmapgl"
           }
          ],
          "histogram": [
           {
            "marker": {
             "pattern": {
              "fillmode": "overlay",
              "size": 10,
              "solidity": 0.2
             }
            },
            "type": "histogram"
           }
          ],
          "histogram2d": [
           {
            "colorbar": {
             "outlinewidth": 0,
             "ticks": ""
            },
            "colorscale": [
             [
              0,
              "#0d0887"
             ],
             [
              0.1111111111111111,
              "#46039f"
             ],
             [
              0.2222222222222222,
              "#7201a8"
             ],
             [
              0.3333333333333333,
              "#9c179e"
             ],
             [
              0.4444444444444444,
              "#bd3786"
             ],
             [
              0.5555555555555556,
              "#d8576b"
             ],
             [
              0.6666666666666666,
              "#ed7953"
             ],
             [
              0.7777777777777778,
              "#fb9f3a"
             ],
             [
              0.8888888888888888,
              "#fdca26"
             ],
             [
              1,
              "#f0f921"
             ]
            ],
            "type": "histogram2d"
           }
          ],
          "histogram2dcontour": [
           {
            "colorbar": {
             "outlinewidth": 0,
             "ticks": ""
            },
            "colorscale": [
             [
              0,
              "#0d0887"
             ],
             [
              0.1111111111111111,
              "#46039f"
             ],
             [
              0.2222222222222222,
              "#7201a8"
             ],
             [
              0.3333333333333333,
              "#9c179e"
             ],
             [
              0.4444444444444444,
              "#bd3786"
             ],
             [
              0.5555555555555556,
              "#d8576b"
             ],
             [
              0.6666666666666666,
              "#ed7953"
             ],
             [
              0.7777777777777778,
              "#fb9f3a"
             ],
             [
              0.8888888888888888,
              "#fdca26"
             ],
             [
              1,
              "#f0f921"
             ]
            ],
            "type": "histogram2dcontour"
           }
          ],
          "mesh3d": [
           {
            "colorbar": {
             "outlinewidth": 0,
             "ticks": ""
            },
            "type": "mesh3d"
           }
          ],
          "parcoords": [
           {
            "line": {
             "colorbar": {
              "outlinewidth": 0,
              "ticks": ""
             }
            },
            "type": "parcoords"
           }
          ],
          "pie": [
           {
            "automargin": true,
            "type": "pie"
           }
          ],
          "scatter": [
           {
            "fillpattern": {
             "fillmode": "overlay",
             "size": 10,
             "solidity": 0.2
            },
            "type": "scatter"
           }
          ],
          "scatter3d": [
           {
            "line": {
             "colorbar": {
              "outlinewidth": 0,
              "ticks": ""
             }
            },
            "marker": {
             "colorbar": {
              "outlinewidth": 0,
              "ticks": ""
             }
            },
            "type": "scatter3d"
           }
          ],
          "scattercarpet": [
           {
            "marker": {
             "colorbar": {
              "outlinewidth": 0,
              "ticks": ""
             }
            },
            "type": "scattercarpet"
           }
          ],
          "scattergeo": [
           {
            "marker": {
             "colorbar": {
              "outlinewidth": 0,
              "ticks": ""
             }
            },
            "type": "scattergeo"
           }
          ],
          "scattergl": [
           {
            "marker": {
             "colorbar": {
              "outlinewidth": 0,
              "ticks": ""
             }
            },
            "type": "scattergl"
           }
          ],
          "scattermapbox": [
           {
            "marker": {
             "colorbar": {
              "outlinewidth": 0,
              "ticks": ""
             }
            },
            "type": "scattermapbox"
           }
          ],
          "scatterpolar": [
           {
            "marker": {
             "colorbar": {
              "outlinewidth": 0,
              "ticks": ""
             }
            },
            "type": "scatterpolar"
           }
          ],
          "scatterpolargl": [
           {
            "marker": {
             "colorbar": {
              "outlinewidth": 0,
              "ticks": ""
             }
            },
            "type": "scatterpolargl"
           }
          ],
          "scatterternary": [
           {
            "marker": {
             "colorbar": {
              "outlinewidth": 0,
              "ticks": ""
             }
            },
            "type": "scatterternary"
           }
          ],
          "surface": [
           {
            "colorbar": {
             "outlinewidth": 0,
             "ticks": ""
            },
            "colorscale": [
             [
              0,
              "#0d0887"
             ],
             [
              0.1111111111111111,
              "#46039f"
             ],
             [
              0.2222222222222222,
              "#7201a8"
             ],
             [
              0.3333333333333333,
              "#9c179e"
             ],
             [
              0.4444444444444444,
              "#bd3786"
             ],
             [
              0.5555555555555556,
              "#d8576b"
             ],
             [
              0.6666666666666666,
              "#ed7953"
             ],
             [
              0.7777777777777778,
              "#fb9f3a"
             ],
             [
              0.8888888888888888,
              "#fdca26"
             ],
             [
              1,
              "#f0f921"
             ]
            ],
            "type": "surface"
           }
          ],
          "table": [
           {
            "cells": {
             "fill": {
              "color": "#EBF0F8"
             },
             "line": {
              "color": "white"
             }
            },
            "header": {
             "fill": {
              "color": "#C8D4E3"
             },
             "line": {
              "color": "white"
             }
            },
            "type": "table"
           }
          ]
         },
         "layout": {
          "annotationdefaults": {
           "arrowcolor": "#2a3f5f",
           "arrowhead": 0,
           "arrowwidth": 1
          },
          "autotypenumbers": "strict",
          "coloraxis": {
           "colorbar": {
            "outlinewidth": 0,
            "ticks": ""
           }
          },
          "colorscale": {
           "diverging": [
            [
             0,
             "#8e0152"
            ],
            [
             0.1,
             "#c51b7d"
            ],
            [
             0.2,
             "#de77ae"
            ],
            [
             0.3,
             "#f1b6da"
            ],
            [
             0.4,
             "#fde0ef"
            ],
            [
             0.5,
             "#f7f7f7"
            ],
            [
             0.6,
             "#e6f5d0"
            ],
            [
             0.7,
             "#b8e186"
            ],
            [
             0.8,
             "#7fbc41"
            ],
            [
             0.9,
             "#4d9221"
            ],
            [
             1,
             "#276419"
            ]
           ],
           "sequential": [
            [
             0,
             "#0d0887"
            ],
            [
             0.1111111111111111,
             "#46039f"
            ],
            [
             0.2222222222222222,
             "#7201a8"
            ],
            [
             0.3333333333333333,
             "#9c179e"
            ],
            [
             0.4444444444444444,
             "#bd3786"
            ],
            [
             0.5555555555555556,
             "#d8576b"
            ],
            [
             0.6666666666666666,
             "#ed7953"
            ],
            [
             0.7777777777777778,
             "#fb9f3a"
            ],
            [
             0.8888888888888888,
             "#fdca26"
            ],
            [
             1,
             "#f0f921"
            ]
           ],
           "sequentialminus": [
            [
             0,
             "#0d0887"
            ],
            [
             0.1111111111111111,
             "#46039f"
            ],
            [
             0.2222222222222222,
             "#7201a8"
            ],
            [
             0.3333333333333333,
             "#9c179e"
            ],
            [
             0.4444444444444444,
             "#bd3786"
            ],
            [
             0.5555555555555556,
             "#d8576b"
            ],
            [
             0.6666666666666666,
             "#ed7953"
            ],
            [
             0.7777777777777778,
             "#fb9f3a"
            ],
            [
             0.8888888888888888,
             "#fdca26"
            ],
            [
             1,
             "#f0f921"
            ]
           ]
          },
          "colorway": [
           "#636efa",
           "#EF553B",
           "#00cc96",
           "#ab63fa",
           "#FFA15A",
           "#19d3f3",
           "#FF6692",
           "#B6E880",
           "#FF97FF",
           "#FECB52"
          ],
          "font": {
           "color": "#2a3f5f"
          },
          "geo": {
           "bgcolor": "white",
           "lakecolor": "white",
           "landcolor": "#E5ECF6",
           "showlakes": true,
           "showland": true,
           "subunitcolor": "white"
          },
          "hoverlabel": {
           "align": "left"
          },
          "hovermode": "closest",
          "mapbox": {
           "style": "light"
          },
          "paper_bgcolor": "white",
          "plot_bgcolor": "#E5ECF6",
          "polar": {
           "angularaxis": {
            "gridcolor": "white",
            "linecolor": "white",
            "ticks": ""
           },
           "bgcolor": "#E5ECF6",
           "radialaxis": {
            "gridcolor": "white",
            "linecolor": "white",
            "ticks": ""
           }
          },
          "scene": {
           "xaxis": {
            "backgroundcolor": "#E5ECF6",
            "gridcolor": "white",
            "gridwidth": 2,
            "linecolor": "white",
            "showbackground": true,
            "ticks": "",
            "zerolinecolor": "white"
           },
           "yaxis": {
            "backgroundcolor": "#E5ECF6",
            "gridcolor": "white",
            "gridwidth": 2,
            "linecolor": "white",
            "showbackground": true,
            "ticks": "",
            "zerolinecolor": "white"
           },
           "zaxis": {
            "backgroundcolor": "#E5ECF6",
            "gridcolor": "white",
            "gridwidth": 2,
            "linecolor": "white",
            "showbackground": true,
            "ticks": "",
            "zerolinecolor": "white"
           }
          },
          "shapedefaults": {
           "line": {
            "color": "#2a3f5f"
           }
          },
          "ternary": {
           "aaxis": {
            "gridcolor": "white",
            "linecolor": "white",
            "ticks": ""
           },
           "baxis": {
            "gridcolor": "white",
            "linecolor": "white",
            "ticks": ""
           },
           "bgcolor": "#E5ECF6",
           "caxis": {
            "gridcolor": "white",
            "linecolor": "white",
            "ticks": ""
           }
          },
          "title": {
           "x": 0.05
          },
          "xaxis": {
           "automargin": true,
           "gridcolor": "white",
           "linecolor": "white",
           "ticks": "",
           "title": {
            "standoff": 15
           },
           "zerolinecolor": "white",
           "zerolinewidth": 2
          },
          "yaxis": {
           "automargin": true,
           "gridcolor": "white",
           "linecolor": "white",
           "ticks": "",
           "title": {
            "standoff": 15
           },
           "zerolinecolor": "white",
           "zerolinewidth": 2
          }
         }
        },
        "xaxis": {
         "anchor": "y",
         "domain": [
          0,
          1
         ],
         "title": {
          "text": "index"
         }
        },
        "yaxis": {
         "anchor": "x",
         "domain": [
          0,
          1
         ],
         "title": {
          "text": "value"
         }
        }
       }
      }
     },
     "metadata": {},
     "output_type": "display_data"
    }
   ],
   "source": [
    "import plotly.express as px\n",
    "\n",
    "df = pd.DataFrame({\"y_true\": y_true, \"y_preds\": y_preds}).head(500)\n",
    "fig = px.line(df, y=[\"y_true\", \"y_preds\"], title='')\n",
    "fig.show()"
   ]
  }
 ],
 "metadata": {
  "kernelspec": {
   "display_name": "venv-sail",
   "language": "python",
   "name": "python3"
  },
  "language_info": {
   "codemirror_mode": {
    "name": "ipython",
    "version": 3
   },
   "file_extension": ".py",
   "mimetype": "text/x-python",
   "name": "python",
   "nbconvert_exporter": "python",
   "pygments_lexer": "ipython3",
   "version": "3.8.12"
  },
  "orig_nbformat": 4
 },
 "nbformat": 4,
 "nbformat_minor": 2
}
