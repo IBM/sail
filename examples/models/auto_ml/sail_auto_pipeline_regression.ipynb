{
 "cells": [
  {
   "cell_type": "code",
   "execution_count": 1,
   "metadata": {},
   "outputs": [],
   "source": [
    "import numpy as np\n",
    "import pandas as pd\n",
    "import river\n",
    "import sys\n",
    "from river import optim\n",
    "from river import metrics\n",
    "from river.drift import ADWIN\n",
    "from ray.tune.search import BasicVariantGenerator\n",
    "from sail.models.auto_ml.tune import SAILTuneGridSearchCV\n",
    "from sail.models.river.forest import AdaptiveRandomForestRegressor\n",
    "from sail.models.river.linear_model import LinearRegression\n",
    "from sail.models.auto_ml.auto_pipeline import SAILAutoPipeline\n",
    "from sail.pipeline import SAILPipeline\n",
    "from sklearn.impute import SimpleImputer\n",
    "import ray.cloudpickle as cpickle\n",
    "from sail.transfomers.river.preprocessing import StandardScaler"
   ]
  },
  {
   "attachments": {},
   "cell_type": "markdown",
   "metadata": {},
   "source": [
    "#### Load Data\n"
   ]
  },
  {
   "cell_type": "code",
   "execution_count": 2,
   "metadata": {},
   "outputs": [],
   "source": [
    "X = pd.read_csv(\"../../datasets/HDWF2.csv\")\n",
    "\n",
    "y = X[\"power\"]\n",
    "X.drop([\"power\", \"time\"], axis=1, inplace=True)"
   ]
  },
  {
   "attachments": {},
   "cell_type": "markdown",
   "metadata": {},
   "source": [
    "#### Model Definition\n"
   ]
  },
  {
   "cell_type": "code",
   "execution_count": 3,
   "metadata": {},
   "outputs": [],
   "source": [
    "linear_reg = LinearRegression(optimizer=optim.SGD(0.1))\n",
    "random_forest = AdaptiveRandomForestRegressor()"
   ]
  },
  {
   "attachments": {},
   "cell_type": "markdown",
   "metadata": {},
   "source": [
    "#### Create SAIL Pipeline\n"
   ]
  },
  {
   "cell_type": "code",
   "execution_count": 4,
   "metadata": {},
   "outputs": [
    {
     "name": "stderr",
     "output_type": "stream",
     "text": [
      "[2023-06-26 16:49:58:346] - INFO - SAIL : created SAILPipeline object with ID 611751a6-63de-4a2f-a2a9-dc66431ea043\n"
     ]
    }
   ],
   "source": [
    "steps = [\n",
    "    (\"Imputer\", SimpleImputer(missing_values=np.nan, strategy=\"mean\")),\n",
    "    (\"standard_scalar\", StandardScaler()),\n",
    "    (\"regressor\", \"passthrough\"),\n",
    "]\n",
    "sail_pipeline = SAILPipeline(steps=steps)"
   ]
  },
  {
   "attachments": {},
   "cell_type": "markdown",
   "metadata": {},
   "source": [
    "#### HPO Params\n"
   ]
  },
  {
   "cell_type": "code",
   "execution_count": 5,
   "metadata": {},
   "outputs": [],
   "source": [
    "params_grid = [\n",
    "    {\n",
    "        \"regressor\": [linear_reg],\n",
    "        \"regressor__l2\": [0.1, 0.9],\n",
    "        \"regressor__intercept_init\": [0.2, 0.5],\n",
    "    },\n",
    "    {\n",
    "        \"regressor\": [random_forest],\n",
    "        \"regressor__n_models\": [10, 15, 20]\n",
    "    },\n",
    "]"
   ]
  },
  {
   "attachments": {},
   "cell_type": "markdown",
   "metadata": {},
   "source": [
    "#### Create Model Instance\n"
   ]
  },
  {
   "cell_type": "code",
   "execution_count": 6,
   "metadata": {},
   "outputs": [
    {
     "name": "stderr",
     "output_type": "stream",
     "text": [
      "[2023-06-26 16:49:58:377] - INFO - SAIL : Pipeline Strategy [DetectAndIncrement] created with actions: ['DATA_COLLECTION', 'FIND_BEST_PIPELINE', 'SCORE_AND_DETECT_DRIFT', 'PARTIAL_FIT_MODEL']\n"
     ]
    }
   ],
   "source": [
    "auto_pipeline = SAILAutoPipeline(\n",
    "    pipeline=sail_pipeline,\n",
    "    pipeline_params_grid=params_grid,\n",
    "    search_method=SAILTuneGridSearchCV,\n",
    "    search_method_params={\n",
    "        \"max_iters\": 1,\n",
    "        \"early_stopping\": False,\n",
    "        \"mode\": \"max\",\n",
    "        \"scoring\": \"r2\",\n",
    "        \"pipeline_auto_early_stop\": False,\n",
    "        \"keep_best_configurations\": 2\n",
    "    },\n",
    "    search_data_size=1000,\n",
    "    incremental_training=True,\n",
    "    scoring=metrics.R2,\n",
    "    drift_detector=ADWIN(delta=0.001),\n",
    "    pipeline_strategy=\"DetectAndIncrement\",\n",
    ")"
   ]
  },
  {
   "attachments": {},
   "cell_type": "markdown",
   "metadata": {},
   "source": [
    "#### Start Training\n"
   ]
  },
  {
   "cell_type": "code",
   "execution_count": 7,
   "metadata": {},
   "outputs": [
    {
     "data": {
      "text/html": [],
      "text/plain": [
       "<IPython.core.display.HTML object>"
      ]
     },
     "metadata": {},
     "output_type": "display_data"
    },
    {
     "name": "stderr",
     "output_type": "stream",
     "text": [
      "\u001b[2m\u001b[36m(_Trainable pid=22299)\u001b[0m [2023-06-26 16:50:04:259] - INFO - SAIL : created SAILPipeline object with ID 880f9efd-502d-4979-aef4-f087c4c8ea32\n",
      "\u001b[2m\u001b[36m(_Trainable pid=22299)\u001b[0m [2023-06-26 16:50:04:259] - INFO - SAIL : created SAILPipeline object with ID 1e1d2196-fce1-4a8b-be50-c3c7e0ba6b8c\n",
      "\u001b[2m\u001b[36m(_Trainable pid=22299)\u001b[0m [2023-06-26 16:50:04:259] - INFO - SAIL : created SAILPipeline object with ID b462f5c8-5387-4aae-858f-7c320d00a884\n",
      "\u001b[2m\u001b[36m(_Trainable pid=22299)\u001b[0m [2023-06-26 16:50:04:259] - INFO - SAIL : created SAILPipeline object with ID 6ad0806e-f7ff-453d-9424-0baedeb3e4a6\n",
      "\u001b[2m\u001b[36m(_Trainable pid=22299)\u001b[0m [2023-06-26 16:50:04:260] - INFO - SAIL : created SAILPipeline object with ID 4aad5f87-9a1c-400b-9ab7-c2b7a6b3c708\n",
      "\u001b[2m\u001b[36m(_Trainable pid=22299)\u001b[0m [2023-06-26 16:50:04:270] - INFO - SAIL : created SAILPipeline object with ID 704d2143-1058-4b3e-b091-26a7bbba5a84\n",
      "\u001b[2m\u001b[36m(_Trainable pid=22299)\u001b[0m [2023-06-26 16:50:04:300] - INFO - SAIL : created SAILPipeline object with ID 496f848d-f4b8-497b-b47b-64fea8bdb56a\n",
      "2023-06-26 16:50:04,462\tINFO tensorboardx.py:269 -- Removed the following hyperparameter values when logging to tensorboard: {'regressor': LinearRegression(initializer=Zeros (),\n",
      "                 intercept_lr=Constant({'learning_rate': 0.01}),\n",
      "                 loss=Squared({}),\n",
      "                 optimizer=SGD({'lr': Constant({'learning_rate': 0.1}), 'n_iterations': 0}))}\n",
      "2023-06-26 16:50:04,473\tINFO tensorboardx.py:269 -- Removed the following hyperparameter values when logging to tensorboard: {'regressor': LinearRegression(initializer=Zeros (),\n",
      "                 intercept_lr=Constant({'learning_rate': 0.01}),\n",
      "                 loss=Squared({}),\n",
      "                 optimizer=SGD({'lr': Constant({'learning_rate': 0.1}), 'n_iterations': 0}))}\n"
     ]
    },
    {
     "name": "stdout",
     "output_type": "stream",
     "text": [
      "\u001b[2m\u001b[36m(_Trainable pid=22299)\u001b[0m [Pipeline] ......... (step 3 of 3) Processing regressor, total=   0.0s\n"
     ]
    },
    {
     "name": "stderr",
     "output_type": "stream",
     "text": [
      "2023-06-26 16:50:04,612\tINFO tensorboardx.py:269 -- Removed the following hyperparameter values when logging to tensorboard: {'regressor': LinearRegression(initializer=Zeros (),\n",
      "                 intercept_lr=Constant({'learning_rate': 0.01}),\n",
      "                 loss=Squared({}),\n",
      "                 optimizer=SGD({'lr': Constant({'learning_rate': 0.1}), 'n_iterations': 0}))}\n",
      "2023-06-26 16:50:04,627\tINFO tensorboardx.py:269 -- Removed the following hyperparameter values when logging to tensorboard: {'regressor': LinearRegression(initializer=Zeros (),\n",
      "                 intercept_lr=Constant({'learning_rate': 0.01}),\n",
      "                 loss=Squared({}),\n",
      "                 optimizer=SGD({'lr': Constant({'learning_rate': 0.1}), 'n_iterations': 0}))}\n",
      "\u001b[2m\u001b[36m(_Trainable pid=22304)\u001b[0m [2023-06-26 16:50:09:654] - INFO - SAIL : created SAILPipeline object with ID 834342a9-6c57-401b-a95a-311441e77ed9\u001b[32m [repeated 60x across cluster] (Ray deduplicates logs by default. Set RAY_DEDUP_LOGS=0 to disable log deduplication, or see https://docs.ray.io/en/master/ray-observability/ray-logging.html#log-deduplication for more options.)\u001b[0m\n"
     ]
    },
    {
     "name": "stdout",
     "output_type": "stream",
     "text": [
      "\u001b[2m\u001b[36m(_Trainable pid=22304)\u001b[0m [Pipeline] ......... (step 3 of 3) Processing regressor, total=   1.7s\u001b[32m [repeated 28x across cluster]\u001b[0m\n"
     ]
    },
    {
     "name": "stderr",
     "output_type": "stream",
     "text": [
      "2023-06-26 16:50:10,305\tINFO tensorboardx.py:269 -- Removed the following hyperparameter values when logging to tensorboard: {'regressor': AdaptiveRandomForestRegressor()}\n",
      "2023-06-26 16:50:13,125\tINFO tensorboardx.py:269 -- Removed the following hyperparameter values when logging to tensorboard: {'regressor': AdaptiveRandomForestRegressor()}\n",
      "2023-06-26 16:50:16,348\tINFO tensorboardx.py:269 -- Removed the following hyperparameter values when logging to tensorboard: {'regressor': AdaptiveRandomForestRegressor()}\n",
      "[2023-06-26 16:50:16:380] - INFO - SAIL : created SAILPipeline object with ID 03719cee-db6e-4a25-b1f5-a1d1df17d193\n",
      "[2023-06-26 16:50:16:381] - INFO - SAIL : created SAILPipeline object with ID 9122d076-aff1-45eb-9c96-c0a524e9236e\n"
     ]
    },
    {
     "name": "stdout",
     "output_type": "stream",
     "text": [
      "\u001b[2m\u001b[36m(_Trainable pid=22308)\u001b[0m [Pipeline] ......... (step 3 of 3) Processing regressor, total=   2.3s\u001b[32m [repeated 6x across cluster]\u001b[0m\n"
     ]
    },
    {
     "name": "stderr",
     "output_type": "stream",
     "text": [
      "[2023-06-26 16:50:18:658] - INFO - SAIL : Cumulative Pipeline Score: 0.6661212935827295\n",
      "[2023-06-26 16:50:18:658] - INFO - SAIL : Partially fitting best pipeline.\n",
      "[2023-06-26 16:50:18:659] - INFO - SAIL : Calling Partial_fit() on the pipeline.\n",
      "[2023-06-26 16:50:18:797] - INFO - SAIL : Cumulative Pipeline Score: 0.7813449073461386\n",
      "[2023-06-26 16:50:18:798] - INFO - SAIL : Partially fitting best pipeline.\n",
      "[2023-06-26 16:50:18:798] - INFO - SAIL : Calling Partial_fit() on the pipeline.\n"
     ]
    },
    {
     "name": "stdout",
     "output_type": "stream",
     "text": [
      "[Pipeline] ......... (step 3 of 3) Processing regressor, total=   2.2s\n",
      "[Pipeline] ......... (step 3 of 3) Processing regressor, total=   0.1s\n"
     ]
    },
    {
     "name": "stderr",
     "output_type": "stream",
     "text": [
      "[2023-06-26 16:50:18:937] - INFO - SAIL : Cumulative Pipeline Score: 0.6977189933339706\n",
      "[2023-06-26 16:50:18:938] - INFO - SAIL : Partially fitting best pipeline.\n",
      "[2023-06-26 16:50:18:938] - INFO - SAIL : Calling Partial_fit() on the pipeline.\n"
     ]
    },
    {
     "name": "stdout",
     "output_type": "stream",
     "text": [
      "[Pipeline] ......... (step 3 of 3) Processing regressor, total=   0.1s\n",
      "[Pipeline] ......... (step 3 of 3) Processing regressor, total=   0.2s\n"
     ]
    },
    {
     "name": "stderr",
     "output_type": "stream",
     "text": [
      "[2023-06-26 16:50:19:163] - INFO - SAIL : Cumulative Pipeline Score: 0.7161222105301392\n",
      "[2023-06-26 16:50:19:163] - INFO - SAIL : Partially fitting best pipeline.\n",
      "[2023-06-26 16:50:19:164] - INFO - SAIL : Calling Partial_fit() on the pipeline.\n",
      "[2023-06-26 16:50:19:308] - INFO - SAIL : Cumulative Pipeline Score: 0.7611145580642918\n",
      "[2023-06-26 16:50:19:309] - INFO - SAIL : Partially fitting best pipeline.\n",
      "[2023-06-26 16:50:19:309] - INFO - SAIL : Calling Partial_fit() on the pipeline.\n",
      "[2023-06-26 16:50:19:452] - INFO - SAIL : Cumulative Pipeline Score: 0.6826223109793498\n",
      "[2023-06-26 16:50:19:453] - INFO - SAIL : Partially fitting best pipeline.\n",
      "[2023-06-26 16:50:19:453] - INFO - SAIL : Calling Partial_fit() on the pipeline.\n"
     ]
    },
    {
     "name": "stdout",
     "output_type": "stream",
     "text": [
      "[Pipeline] ......... (step 3 of 3) Processing regressor, total=   0.1s\n",
      "[Pipeline] ......... (step 3 of 3) Processing regressor, total=   0.1s\n"
     ]
    },
    {
     "name": "stderr",
     "output_type": "stream",
     "text": [
      "[2023-06-26 16:50:19:594] - INFO - SAIL : Cumulative Pipeline Score: 0.6803113522683415\n",
      "[2023-06-26 16:50:19:594] - INFO - SAIL : Partially fitting best pipeline.\n",
      "[2023-06-26 16:50:19:595] - INFO - SAIL : Calling Partial_fit() on the pipeline.\n",
      "[2023-06-26 16:50:19:737] - INFO - SAIL : Cumulative Pipeline Score: 0.655107327496291\n",
      "[2023-06-26 16:50:19:737] - INFO - SAIL : Partially fitting best pipeline.\n",
      "[2023-06-26 16:50:19:737] - INFO - SAIL : Calling Partial_fit() on the pipeline.\n"
     ]
    },
    {
     "name": "stdout",
     "output_type": "stream",
     "text": [
      "[Pipeline] ......... (step 3 of 3) Processing regressor, total=   0.1s\n",
      "[Pipeline] ......... (step 3 of 3) Processing regressor, total=   0.1s\n"
     ]
    },
    {
     "name": "stderr",
     "output_type": "stream",
     "text": [
      "[2023-06-26 16:50:19:882] - INFO - SAIL : Cumulative Pipeline Score: 0.689400530911422\n",
      "[2023-06-26 16:50:19:883] - INFO - SAIL : Partially fitting best pipeline.\n",
      "[2023-06-26 16:50:19:883] - INFO - SAIL : Calling Partial_fit() on the pipeline.\n",
      "[2023-06-26 16:50:20:26] - INFO - SAIL : Cumulative Pipeline Score: 0.6986844269368895\n",
      "[2023-06-26 16:50:20:26] - INFO - SAIL : Partially fitting best pipeline.\n",
      "[2023-06-26 16:50:20:27] - INFO - SAIL : Calling Partial_fit() on the pipeline.\n"
     ]
    },
    {
     "name": "stdout",
     "output_type": "stream",
     "text": [
      "[Pipeline] ......... (step 3 of 3) Processing regressor, total=   0.1s\n",
      "[Pipeline] ......... (step 3 of 3) Processing regressor, total=   0.1s\n",
      "[Pipeline] ......... (step 3 of 3) Processing regressor, total=   0.1s\n"
     ]
    }
   ],
   "source": [
    "y_preds = []\n",
    "y_true = []\n",
    "batch_size = 50\n",
    "\n",
    "start = 0\n",
    "for end in range(50, 1501, batch_size):\n",
    "\n",
    "    X_train = X.iloc[start:end]\n",
    "    y_train = y.iloc[start:end]\n",
    "\n",
    "    if end > 1000: # search_data_size is 1000\n",
    "        preds = auto_pipeline.predict(X_train)\n",
    "        y_preds.extend(list(preds))\n",
    "        y_true.extend(list(y_train))\n",
    "\n",
    "    auto_pipeline.train(X_train, y_train)\n",
    "    start = end\n"
   ]
  },
  {
   "attachments": {},
   "cell_type": "markdown",
   "metadata": {},
   "source": [
    "#### Final Score\n"
   ]
  },
  {
   "cell_type": "code",
   "execution_count": 8,
   "metadata": {},
   "outputs": [
    {
     "data": {
      "text/plain": [
       "0.6986844269368895"
      ]
     },
     "execution_count": 8,
     "metadata": {},
     "output_type": "execute_result"
    }
   ],
   "source": [
    "auto_pipeline.cumulative_score"
   ]
  },
  {
   "attachments": {},
   "cell_type": "markdown",
   "metadata": {},
   "source": [
    "### Plot predictions\n"
   ]
  },
  {
   "cell_type": "code",
   "execution_count": 12,
   "metadata": {},
   "outputs": [
    {
     "data": {
      "application/vnd.plotly.v1+json": {
       "config": {
        "plotlyServerURL": "https://plot.ly"
       },
       "data": [
        {
         "hovertemplate": "variable=y_true<br>index=%{x}<br>value=%{y}<extra></extra>",
         "legendgroup": "y_true",
         "line": {
          "color": "#636efa",
          "dash": "solid"
         },
         "marker": {
          "symbol": "circle"
         },
         "mode": "lines",
         "name": "y_true",
         "orientation": "v",
         "showlegend": true,
         "type": "scatter",
         "x": [
          0,
          1,
          2,
          3,
          4,
          5,
          6,
          7,
          8,
          9,
          10,
          11,
          12,
          13,
          14,
          15,
          16,
          17,
          18,
          19,
          20,
          21,
          22,
          23,
          24,
          25,
          26,
          27,
          28,
          29,
          30,
          31,
          32,
          33,
          34,
          35,
          36,
          37,
          38,
          39,
          40,
          41,
          42,
          43,
          44,
          45,
          46,
          47,
          48,
          49,
          50,
          51,
          52,
          53,
          54,
          55,
          56,
          57,
          58,
          59,
          60,
          61,
          62,
          63,
          64,
          65,
          66,
          67,
          68,
          69,
          70,
          71,
          72,
          73,
          74,
          75,
          76,
          77,
          78,
          79,
          80,
          81,
          82,
          83,
          84,
          85,
          86,
          87,
          88,
          89,
          90,
          91,
          92,
          93,
          94,
          95,
          96,
          97,
          98,
          99,
          100,
          101,
          102,
          103,
          104,
          105,
          106,
          107,
          108,
          109,
          110,
          111,
          112,
          113,
          114,
          115,
          116,
          117,
          118,
          119,
          120,
          121,
          122,
          123,
          124,
          125,
          126,
          127,
          128,
          129,
          130,
          131,
          132,
          133,
          134,
          135,
          136,
          137,
          138,
          139,
          140,
          141,
          142,
          143,
          144,
          145,
          146,
          147,
          148,
          149,
          150,
          151,
          152,
          153,
          154,
          155,
          156,
          157,
          158,
          159,
          160,
          161,
          162,
          163,
          164,
          165,
          166,
          167,
          168,
          169,
          170,
          171,
          172,
          173,
          174,
          175,
          176,
          177,
          178,
          179,
          180,
          181,
          182,
          183,
          184,
          185,
          186,
          187,
          188,
          189,
          190,
          191,
          192,
          193,
          194,
          195,
          196,
          197,
          198,
          199,
          200,
          201,
          202,
          203,
          204,
          205,
          206,
          207,
          208,
          209,
          210,
          211,
          212,
          213,
          214,
          215,
          216,
          217,
          218,
          219,
          220,
          221,
          222,
          223,
          224,
          225,
          226,
          227,
          228,
          229,
          230,
          231,
          232,
          233,
          234,
          235,
          236,
          237,
          238,
          239,
          240,
          241,
          242,
          243,
          244,
          245,
          246,
          247,
          248,
          249,
          250,
          251,
          252,
          253,
          254,
          255,
          256,
          257,
          258,
          259,
          260,
          261,
          262,
          263,
          264,
          265,
          266,
          267,
          268,
          269,
          270,
          271,
          272,
          273,
          274,
          275,
          276,
          277,
          278,
          279,
          280,
          281,
          282,
          283,
          284,
          285,
          286,
          287,
          288,
          289,
          290,
          291,
          292,
          293,
          294,
          295,
          296,
          297,
          298,
          299,
          300,
          301,
          302,
          303,
          304,
          305,
          306,
          307,
          308,
          309,
          310,
          311,
          312,
          313,
          314,
          315,
          316,
          317,
          318,
          319,
          320,
          321,
          322,
          323,
          324,
          325,
          326,
          327,
          328,
          329,
          330,
          331,
          332,
          333,
          334,
          335,
          336,
          337,
          338,
          339,
          340,
          341,
          342,
          343,
          344,
          345,
          346,
          347,
          348,
          349,
          350,
          351,
          352,
          353,
          354,
          355,
          356,
          357,
          358,
          359,
          360,
          361,
          362,
          363,
          364,
          365,
          366,
          367,
          368,
          369,
          370,
          371,
          372,
          373,
          374,
          375,
          376,
          377,
          378,
          379,
          380,
          381,
          382,
          383,
          384,
          385,
          386,
          387,
          388,
          389,
          390,
          391,
          392,
          393,
          394,
          395,
          396,
          397,
          398,
          399,
          400,
          401,
          402,
          403,
          404,
          405,
          406,
          407,
          408,
          409,
          410,
          411,
          412,
          413,
          414,
          415,
          416,
          417,
          418,
          419,
          420,
          421,
          422,
          423,
          424,
          425,
          426,
          427,
          428,
          429,
          430,
          431,
          432,
          433,
          434,
          435,
          436,
          437,
          438,
          439,
          440,
          441,
          442,
          443,
          444,
          445,
          446,
          447,
          448,
          449,
          450,
          451,
          452,
          453,
          454,
          455,
          456,
          457,
          458,
          459,
          460,
          461,
          462,
          463,
          464,
          465,
          466,
          467,
          468,
          469,
          470,
          471,
          472,
          473,
          474,
          475,
          476,
          477,
          478,
          479,
          480,
          481,
          482,
          483,
          484,
          485,
          486,
          487,
          488,
          489,
          490,
          491,
          492,
          493,
          494,
          495,
          496,
          497,
          498,
          499
         ],
         "xaxis": "x",
         "y": [
          80.19166667,
          78.95833333,
          97.98333333,
          99.15833333,
          90.75,
          83.75833333,
          64.98333333,
          61.30833333,
          47.68333333,
          32.95833333,
          26.83333333,
          20.71666667,
          14.44166667,
          16.08333333,
          19.51666667,
          25.64166667,
          19.16666667,
          24.54166667,
          21.61666667,
          21.2,
          45.30833333,
          47.50833333,
          52.85833333,
          67.78333333,
          73.68333333,
          63.375,
          27.23333333,
          21.58333333,
          23.50833333,
          26.35833333,
          46.33333333,
          44.76666667,
          41.08333333,
          38.925,
          45.90833333,
          63.16666667,
          47.2,
          48.13333333,
          41.69166667,
          33.35833333,
          24.575,
          19.125,
          12.73333333,
          7.216666667,
          5.575,
          2.441666667,
          1.75,
          1.966666667,
          1.475,
          1.133333333,
          0,
          0.808333333,
          0,
          0,
          0,
          0,
          2.175,
          2.1583333330000003,
          1.308333333,
          10.49166667,
          18.41666667,
          29.24166667,
          47.09166667,
          48.70833333,
          54.675,
          51.89166667,
          50.9,
          70.925,
          76.21666667,
          78.64166667,
          72.21666667,
          71.86666667,
          73.29166667,
          75.95833333,
          78.35833333,
          73.71666667,
          77.875,
          75.35,
          75.44166667,
          77.26666667,
          73.8,
          72.64166667,
          77.45,
          75.64166667,
          79.76666667,
          85.11666667,
          88.625,
          78.40833333,
          72.88333333,
          75.55,
          74.075,
          58.91666667,
          50.50833333,
          36.51666667,
          42.35833333,
          59.64166667,
          73.45833333,
          77.16666667,
          62.575,
          86.30833333,
          40.93333333,
          60.625,
          49.10833333,
          42.96666667,
          55.81666667,
          38.65833333,
          26.1,
          29.25833333,
          23.775,
          17.55833333,
          10.95833333,
          4.691666667,
          2.925,
          1.7416666669999998,
          0.75,
          2.558333333,
          5.791666667,
          8.033333333,
          10.91666667,
          13.73333333,
          17.875,
          17.19166667,
          0.941666667,
          0,
          0,
          0,
          0,
          0,
          0,
          0.291666667,
          3.483333333,
          5.366666667,
          12.64166667,
          13.775,
          7.158333333,
          14,
          15.54166667,
          16.6,
          13.08333333,
          24.025,
          35.425,
          66.1,
          63.26666667,
          61.40833333,
          70.55833333,
          74.01666667,
          80.29166667,
          76.1,
          76.025,
          84.79166667,
          81.68333333,
          69.05,
          73.65,
          68.34166667,
          68.9,
          40.05833333,
          60.125,
          74.93333333,
          79.11666667,
          72.08333333,
          73.85,
          71.425,
          74.35,
          78.925,
          78.63333333,
          84,
          83.15,
          79.74166667,
          80.08333333,
          79.40833333,
          77.45833333,
          77.65,
          77.65833333,
          77.25833333,
          76.34166667,
          74.65833333,
          71.66666667,
          67.925,
          60.875,
          51.29166667,
          55.71666667,
          72.55,
          70.14166667,
          66.05833333,
          65.69166667,
          60.775,
          63.10833333,
          73.88333333,
          71.90833333,
          66.85,
          57.675,
          48.46666667,
          50.925,
          37.3,
          29.05833333,
          28.61666667,
          24.01666667,
          13.15833333,
          7.883333332999999,
          1.016666667,
          0.191666667,
          0.216666667,
          1.6833333330000002,
          5.583333333,
          7.15,
          3.675,
          2.383333333,
          4.7,
          7.933333332999999,
          2.75,
          0,
          0,
          0.45,
          2.2833333330000003,
          5.441666667000001,
          13.49166667,
          11.65,
          4.041666667,
          0,
          0,
          0,
          0,
          0,
          0,
          0.141666667,
          0,
          0,
          0,
          0,
          0,
          0,
          0,
          0,
          0.6416666670000001,
          1.425,
          11.95,
          22.79166667,
          16.91666667,
          14.79166667,
          13.89166667,
          11.16666667,
          4.791666667,
          1.45,
          0,
          0.016666667,
          5.883333333,
          8.808333333,
          22.54166667,
          24.01666667,
          25.75,
          27.89166667,
          31.60833333,
          46.14166667,
          57.28333333,
          65.575,
          69.80833333,
          76.41666667,
          73.69166667,
          64.525,
          54.1,
          71.58333333,
          60.76666667,
          43.8,
          34.54166667,
          33.075,
          30.2,
          30.025,
          50.3,
          82.73333333,
          98.44166667,
          99.825,
          99.65833333,
          99.81666667,
          99.78333333,
          99.725,
          99.1,
          99.26666667,
          99.81666667,
          99.825,
          99.83333333,
          99.45,
          99.65,
          97.99166667,
          95.2,
          88.70833333,
          49.89166667,
          14.98333333,
          56.54166667,
          98.1,
          95.075,
          89.91666667,
          56.90833333,
          61.925,
          77.03333333,
          60.225,
          89.99166667,
          88.325,
          85.89166667,
          47.00833333,
          33.50833333,
          43.025,
          71.31666667,
          91.375,
          94.91666667,
          98.94166667,
          91.38333333,
          69.61666667,
          73.03333333,
          79.40833333,
          87.49166667,
          86.125,
          84.85833333,
          78.56666667,
          78.21666667,
          56.725,
          83.375,
          89.66666667,
          81.64166667,
          86.825,
          97.225,
          95.68333333,
          92.25,
          86.40833333,
          93.775,
          91.29166667,
          93.15,
          84.325,
          62.83333333,
          37.975,
          38.01666667,
          34.64166667,
          51.55833333,
          42.36666667,
          19.95833333,
          3.666666667,
          2.716666667,
          1.808333333,
          3.333333333,
          10.575,
          12.16666667,
          12.925,
          9.433333333,
          10.18333333,
          16.81666667,
          21.8,
          18.975,
          23.025,
          13.89166667,
          3.8,
          0,
          0,
          0,
          0,
          0,
          0.008333333,
          3.016666667,
          7.033333333,
          13.375,
          22.85,
          12.375,
          16.80833333,
          24.45,
          21.26666667,
          13.14166667,
          4.05,
          7.966666667,
          25.8,
          25.3,
          16.3,
          6.725,
          9.058333333,
          15.38333333,
          14.19166667,
          20.59166667,
          44.075,
          61.23333333,
          74.04166667,
          75.56666667,
          65.975,
          45.23333333,
          29.60833333,
          19.18333333,
          9.3,
          3.475,
          0.8,
          0.7,
          2.383333333,
          17.025,
          46.625,
          52.79166667,
          60.39166667,
          66.96666667,
          76.54166667,
          84.53333333,
          93.275,
          92.03333333,
          94.15833333,
          86.33333333,
          91.025,
          85.875,
          75.36666667,
          63.58333333,
          48.29166667,
          26.91666667,
          12.775,
          6.15,
          5.008333333,
          3.491666667,
          4.541666667,
          6.291666667,
          10.90833333,
          27.58333333,
          51.25833333,
          67.26666667,
          81.00833333,
          84.55,
          89.525,
          90.8,
          95.8,
          99.75833333,
          99.79166667,
          96.35833333,
          92.125,
          99.775,
          99.81666667,
          99.825,
          99.825,
          99.71666667,
          98.7,
          98.85,
          99.84166667,
          98.51666667,
          99.75833333,
          99.73333333,
          94.45833333,
          88.95833333,
          82.85,
          82.50833333,
          80.175,
          78.83333333,
          73.48333333,
          78.83333333,
          79.03333333,
          83.65,
          80.75,
          74.26666667,
          74.06666667,
          79.96666667,
          77.90833333,
          88.05833333,
          90.15833333,
          98.23333333,
          98.64166667,
          87.025,
          86.59166667,
          93.13333333,
          91.825,
          86.34166667,
          39.53333333,
          19.46666667,
          11.06666667,
          20.85,
          28.41666667,
          30.875,
          29.38333333,
          38.58333333,
          60.51666667,
          76.05,
          84.54166667,
          76.33333333,
          91.175,
          95.075,
          92.71666667,
          94.90833333,
          98.86666667,
          93.50833333,
          90.71666667,
          86.65833333,
          82.025,
          82.55833333,
          83.78333333,
          83.45833333,
          83.875,
          81.09166667,
          80.5,
          84.20833333,
          83.68333333,
          79.59166667,
          74.99166667,
          74.71666667,
          52.59166667,
          61.51666667,
          48.075,
          18.25,
          7.966666667,
          6.583333333,
          3.5,
          3.941666667,
          9.208333333,
          17.89166667
         ],
         "yaxis": "y"
        },
        {
         "hovertemplate": "variable=y_preds<br>index=%{x}<br>value=%{y}<extra></extra>",
         "legendgroup": "y_preds",
         "line": {
          "color": "#EF553B",
          "dash": "solid"
         },
         "marker": {
          "symbol": "circle"
         },
         "mode": "lines",
         "name": "y_preds",
         "orientation": "v",
         "showlegend": true,
         "type": "scatter",
         "x": [
          0,
          1,
          2,
          3,
          4,
          5,
          6,
          7,
          8,
          9,
          10,
          11,
          12,
          13,
          14,
          15,
          16,
          17,
          18,
          19,
          20,
          21,
          22,
          23,
          24,
          25,
          26,
          27,
          28,
          29,
          30,
          31,
          32,
          33,
          34,
          35,
          36,
          37,
          38,
          39,
          40,
          41,
          42,
          43,
          44,
          45,
          46,
          47,
          48,
          49,
          50,
          51,
          52,
          53,
          54,
          55,
          56,
          57,
          58,
          59,
          60,
          61,
          62,
          63,
          64,
          65,
          66,
          67,
          68,
          69,
          70,
          71,
          72,
          73,
          74,
          75,
          76,
          77,
          78,
          79,
          80,
          81,
          82,
          83,
          84,
          85,
          86,
          87,
          88,
          89,
          90,
          91,
          92,
          93,
          94,
          95,
          96,
          97,
          98,
          99,
          100,
          101,
          102,
          103,
          104,
          105,
          106,
          107,
          108,
          109,
          110,
          111,
          112,
          113,
          114,
          115,
          116,
          117,
          118,
          119,
          120,
          121,
          122,
          123,
          124,
          125,
          126,
          127,
          128,
          129,
          130,
          131,
          132,
          133,
          134,
          135,
          136,
          137,
          138,
          139,
          140,
          141,
          142,
          143,
          144,
          145,
          146,
          147,
          148,
          149,
          150,
          151,
          152,
          153,
          154,
          155,
          156,
          157,
          158,
          159,
          160,
          161,
          162,
          163,
          164,
          165,
          166,
          167,
          168,
          169,
          170,
          171,
          172,
          173,
          174,
          175,
          176,
          177,
          178,
          179,
          180,
          181,
          182,
          183,
          184,
          185,
          186,
          187,
          188,
          189,
          190,
          191,
          192,
          193,
          194,
          195,
          196,
          197,
          198,
          199,
          200,
          201,
          202,
          203,
          204,
          205,
          206,
          207,
          208,
          209,
          210,
          211,
          212,
          213,
          214,
          215,
          216,
          217,
          218,
          219,
          220,
          221,
          222,
          223,
          224,
          225,
          226,
          227,
          228,
          229,
          230,
          231,
          232,
          233,
          234,
          235,
          236,
          237,
          238,
          239,
          240,
          241,
          242,
          243,
          244,
          245,
          246,
          247,
          248,
          249,
          250,
          251,
          252,
          253,
          254,
          255,
          256,
          257,
          258,
          259,
          260,
          261,
          262,
          263,
          264,
          265,
          266,
          267,
          268,
          269,
          270,
          271,
          272,
          273,
          274,
          275,
          276,
          277,
          278,
          279,
          280,
          281,
          282,
          283,
          284,
          285,
          286,
          287,
          288,
          289,
          290,
          291,
          292,
          293,
          294,
          295,
          296,
          297,
          298,
          299,
          300,
          301,
          302,
          303,
          304,
          305,
          306,
          307,
          308,
          309,
          310,
          311,
          312,
          313,
          314,
          315,
          316,
          317,
          318,
          319,
          320,
          321,
          322,
          323,
          324,
          325,
          326,
          327,
          328,
          329,
          330,
          331,
          332,
          333,
          334,
          335,
          336,
          337,
          338,
          339,
          340,
          341,
          342,
          343,
          344,
          345,
          346,
          347,
          348,
          349,
          350,
          351,
          352,
          353,
          354,
          355,
          356,
          357,
          358,
          359,
          360,
          361,
          362,
          363,
          364,
          365,
          366,
          367,
          368,
          369,
          370,
          371,
          372,
          373,
          374,
          375,
          376,
          377,
          378,
          379,
          380,
          381,
          382,
          383,
          384,
          385,
          386,
          387,
          388,
          389,
          390,
          391,
          392,
          393,
          394,
          395,
          396,
          397,
          398,
          399,
          400,
          401,
          402,
          403,
          404,
          405,
          406,
          407,
          408,
          409,
          410,
          411,
          412,
          413,
          414,
          415,
          416,
          417,
          418,
          419,
          420,
          421,
          422,
          423,
          424,
          425,
          426,
          427,
          428,
          429,
          430,
          431,
          432,
          433,
          434,
          435,
          436,
          437,
          438,
          439,
          440,
          441,
          442,
          443,
          444,
          445,
          446,
          447,
          448,
          449,
          450,
          451,
          452,
          453,
          454,
          455,
          456,
          457,
          458,
          459,
          460,
          461,
          462,
          463,
          464,
          465,
          466,
          467,
          468,
          469,
          470,
          471,
          472,
          473,
          474,
          475,
          476,
          477,
          478,
          479,
          480,
          481,
          482,
          483,
          484,
          485,
          486,
          487,
          488,
          489,
          490,
          491,
          492,
          493,
          494,
          495,
          496,
          497,
          498,
          499
         ],
         "xaxis": "x",
         "y": [
          70.50522552172829,
          79.7768518515873,
          71.91196661650699,
          68.02228738987391,
          66.83669996310653,
          59.21271929947369,
          56.80246478816902,
          57.042033308702074,
          58.51774712372185,
          50.84944903636363,
          53.33385416697914,
          43.20747549116176,
          45.10426829195122,
          33.671660787083866,
          24.249862132410662,
          17.58849693310429,
          20.449581240005017,
          28.125089604903224,
          37.26751069516733,
          21.97345444486333,
          26.704235688878615,
          51.27345617783524,
          52.585362853988904,
          53.67985611575537,
          51.401980941668796,
          48.36503623184783,
          25.40157295840964,
          20.449581240005017,
          20.449581240005017,
          23.892862199211777,
          24.474375888935285,
          24.294392334104153,
          24.56209945092602,
          42.33245218636803,
          43.20747549116176,
          46.18641139391982,
          40.9187500006125,
          40.9187500006125,
          25.990070921851043,
          35.81267543867365,
          28.949051490934984,
          22.532042772770577,
          25.40157295840964,
          17.58849693310429,
          21.97345444486333,
          21.97345444486333,
          22.46603682186628,
          17.65360457542157,
          20.14206081934072,
          17.58849693310429,
          4.597272771676444,
          6.854487178615386,
          6.854487178615386,
          6.854487178615386,
          10.9852891152551,
          10.9852891152551,
          11.440579711130436,
          11.463309745902023,
          13.494688954847295,
          20.68133865262234,
          27.606696429750002,
          32.49809027633332,
          34.965581396306966,
          38.117810457843134,
          32.94942528612069,
          35.89496742105122,
          61.35423280404762,
          70.16249999915095,
          70.58948972393001,
          72.00012919984493,
          72.12257575738182,
          70.58948972393001,
          74.19426229450823,
          75.32313034121793,
          75.32313034121793,
          76.79185185148148,
          76.79185185148148,
          77.86617515686325,
          77.86617515686325,
          77.86617515686325,
          77.86617515686325,
          77.86617515686325,
          79.93334683912481,
          79.93334683912481,
          80.18823529647058,
          80.18823529647058,
          79.93334683912481,
          79.94029441080838,
          79.94029441080838,
          79.94029441080838,
          79.07502853863011,
          74.669062500375,
          73.93550223188194,
          78.45773809357144,
          75.32313034121793,
          81.15985576951923,
          81.15985576951923,
          81.15985576951923,
          81.15985576951923,
          78.45773809357144,
          79.55346953039589,
          68.967357001716,
          67.57035301148899,
          52.116858677271885,
          51.183030302909096,
          51.183030302909096,
          46.10938228433568,
          51.183030302909096,
          51.183030302909096,
          52.116858677271885,
          34.54621507082879,
          34.34619047704763,
          40.71810958976339,
          36.88630643772838,
          40.88870370466667,
          34.34619047704763,
          33.44302720959184,
          34.62152777694444,
          40.77876618841778,
          41.6518348626789,
          41.58790783977348,
          38.96894841190476,
          33.44302720959184,
          29.74431217028571,
          7.56788888896444,
          2.475812369147799,
          10.038063063459461,
          2.440029761821428,
          2.475812369147799,
          10.038063063459461,
          19.37392906235409,
          27.34675253944698,
          28.20139455796599,
          28.20139455796599,
          28.20139455796599,
          25.96577408781297,
          28.42804232778571,
          31.939059829256415,
          34.34619047704763,
          39.998159509552146,
          58.72573033710109,
          67.69092775026112,
          65.83947144041427,
          68.967357001716,
          72.77123070002723,
          72.53162313414178,
          72.53162313414178,
          71.59193205955414,
          71.59193205955414,
          71.59193205955414,
          71.4536038612472,
          67.68382615146349,
          70.78521505387097,
          64.7372060853942,
          69.7192338070616,
          70.99962121136363,
          77.77254224202765,
          75.71942857194287,
          60.523084291034465,
          60.523084291034465,
          59.06124083990488,
          64.10555555704401,
          82.16864583287499,
          82.16864583287499,
          72.83412408773722,
          77.41891417006654,
          73.68348484990902,
          80.61555829140394,
          80.18613902778891,
          79.56326601650417,
          80.61555829140394,
          69.10239899072869,
          75.50791139050632,
          60.523084291034465,
          62.069733795694454,
          61.61619891629664,
          53.18069444397776,
          53.18069444397776,
          53.18069444397776,
          50.10109221403005,
          52.98887396550036,
          47.750824899629244,
          46.67982456,
          44.108811188881134,
          44.108811188881134,
          42.5981594771896,
          44.108811188881134,
          52.22411453413503,
          42.068900390294495,
          55.67380920129922,
          38.14274467033433,
          38.14274467033433,
          38.14274467033433,
          36.917451131425935,
          36.917451131425935,
          34.68963254496064,
          24.598390053227057,
          19.93869564958183,
          17.494223485113633,
          15.873153470076494,
          8.825886524404254,
          3.9949530517183103,
          3.9949530517183103,
          3.9949530517183103,
          8.825886524404254,
          8.825886524404254,
          8.825886524404254,
          8.825886524404254,
          7.847549019647058,
          12.747993827509259,
          10.036904761761903,
          8.825886524404254,
          10.036904761761903,
          14.974431375633296,
          23.956748891447624,
          24.738134920223835,
          21.847067900722223,
          20.49109554396867,
          12.701818182381821,
          10.036904761761903,
          1.6056818181704544,
          1.6245934960487802,
          1.6245934960487802,
          3.9949530517183103,
          3.9949530517183103,
          7.847549019647058,
          3.9949530517183103,
          2.1141990291262136,
          7.847549019647058,
          7.847549019647058,
          7.847549019647058,
          7.847549019647058,
          18.74632352989706,
          12.747993827509259,
          27.348637821682686,
          13.82524790916663,
          33.76200142549572,
          40.93282828257575,
          42.34940555050815,
          33.04850909569632,
          32.244936708303804,
          40.93282828257575,
          26.026273148999998,
          1.6056818181704544,
          1.6056818181704544,
          4.42214506174074,
          12.747993827509259,
          21.52803030243182,
          41.87622611700888,
          41.706364238235025,
          30.261777778160003,
          30.261777778160003,
          33.18999582330826,
          45.61428571494285,
          52.135761447018936,
          36.04588744687013,
          54.07346938744899,
          54.07346938744899,
          71.64372852082474,
          70.77869003659777,
          66.46717171757575,
          66.46717171757575,
          65.61569898545659,
          66.46717171757575,
          66.46717171757575,
          66.46717171757575,
          46.59445483164327,
          42.29200917803808,
          70.77869003659777,
          79.73207547377358,
          82.90583623752607,
          80.71676136329546,
          80.71676136329546,
          82.90583623752607,
          83.59807098814815,
          82.90583623752607,
          82.90583623752607,
          82.90583623752607,
          82.90583623752607,
          82.90583623752607,
          82.90583623752607,
          82.90583623752607,
          82.38846153846154,
          82.90583623752607,
          81.9378802280418,
          79.29447115391027,
          78.52065972416666,
          61.71882332653208,
          55.057333333733325,
          50.364380081707324,
          41.55054744480292,
          29.19804421764286,
          17.56524024078378,
          14.439779874528304,
          14.799084076658062,
          19.495576719785713,
          19.495576719785713,
          26.061177732823463,
          33.18999582330826,
          48.13885750910798,
          77.12344124717028,
          69.06499999933334,
          72.8925523857274,
          65.14390381763684,
          71.25224637530434,
          67.42593425837525,
          64.68826701546263,
          67.8959635425,
          67.8959635425,
          67.8959635425,
          70.5412885774035,
          65.87016877789006,
          76.19761904655171,
          67.24525912809186,
          72.50956072224807,
          72.50956072224807,
          70.0448710065359,
          68.49842949598823,
          74.44716981188681,
          76.19761904655171,
          77.12344124717028,
          72.50956072224807,
          61.97890625083333,
          74.47093495975611,
          40.08990740776665,
          38.95407196943182,
          32.44217431710719,
          30.6512269941227,
          28.607003205140106,
          32.336492374901965,
          27.837429197246074,
          30.47422027243275,
          30.47422027243275,
          27.829380341564104,
          27.829380341564104,
          25.072112788594193,
          29.58358768991819,
          27.842292755227003,
          27.68100527854231,
          24.23377703369737,
          8.621743295413792,
          5.763813813792793,
          5.355952380904761,
          10.181237672647935,
          5.355952380904761,
          8.543640351336842,
          5.355952380904761,
          3.7512820513076925,
          3.7512820513076925,
          3.7512820513076925,
          6.510080645354838,
          6.510080645354838,
          6.830156403029323,
          6.830156403029323,
          7.494765406201677,
          8.82724359096154,
          23.881192043690618,
          36.638175674432425,
          36.97318513745235,
          36.97318513745235,
          36.97318513745235,
          33.6731273403483,
          25.06730324054861,
          16.14270833380769,
          13.890143718486117,
          8.118529411117647,
          8.118529411117647,
          8.118529411117647,
          18.333520447693132,
          26.57000019547172,
          28.541869570375766,
          30.915644807125958,
          30.966350158795095,
          33.03178074435382,
          26.19784776816458,
          29.17953007095217,
          37.31396917173411,
          33.37527881065428,
          39.47225140096638,
          37.31824810276255,
          35.85388545472921,
          33.47942890438813,
          34.598903509375006,
          28.55434272395774,
          25.06730324054861,
          8.825896624911387,
          8.825896624911387,
          8.825896624911387,
          30.56501341213647,
          28.730648147144443,
          42.277335561764616,
          46.648280422857134,
          40.26634615442307,
          46.49066473994221,
          44.810745615789486,
          44.810745615789486,
          46.49066473994221,
          44.810745615789486,
          44.291453480383495,
          41.54231945584661,
          72.32157320859814,
          49.58103130665193,
          47.86787878890909,
          37.78162692808415,
          28.301722756706738,
          25.518650794309526,
          25.518650794309526,
          25.518650794309526,
          26.414509803529413,
          26.414509803529413,
          27.939759035879522,
          27.939759035879522,
          27.939759035879522,
          65.36486110983334,
          67.3908854165625,
          68.25048543660195,
          75.18269230871795,
          78.27956790207408,
          78.03091882817331,
          78.04913847907332,
          80.51899093,
          82.58715986489796,
          80.17862007158065,
          80.17862007158065,
          80.17862007158065,
          80.17862007158065,
          80.17862007158065,
          80.17862007158065,
          77.59866954393738,
          75.02052845648781,
          75.02052845648781,
          75.02052845648781,
          76.98034909986485,
          76.98034909986485,
          83.18495762796611,
          83.25565476124999,
          85.62160256446153,
          85.62160256446153,
          85.62160256446153,
          86.25361111158335,
          85.62160256446153,
          85.62160256446153,
          85.62160256446153,
          85.62160256446153,
          85.62160256446153,
          85.62160256446153,
          81.37967479707316,
          81.37967479707316,
          81.37967479707316,
          81.37967479707316,
          83.7122053861616,
          81.47537036988888,
          81.47537036988888,
          83.7122053861616,
          80.98601776764774,
          77.8702380955102,
          80.06586921834929,
          71.56108906555562,
          54.27500000073685,
          50.43272727272727,
          45.22665130479263,
          45.22665130479263,
          50.43272727272727,
          55.178070175052625,
          55.231453634203,
          55.178070175052625,
          55.178070175052625,
          67.99714285661429,
          75.77722816424244,
          76.70416666671429,
          78.90181818266666,
          78.90181818266666,
          80.06586921834929,
          76.34661458331249,
          76.34661458331249,
          75.77722816424244,
          68.04843749833333,
          75.97073170646337,
          76.70416666671429,
          77.8702380955102,
          80.98571428444444,
          77.8702380955102,
          75.77722816424244,
          75.77722816424244,
          75.77722816424244,
          75.12641242822036,
          75.12641242822036,
          75.77722816424244,
          75.12641242822036,
          75.12641242822036,
          68.0010752683871,
          54.27500000073685,
          49.1010526311579,
          50.43272727272727,
          46.37661566267108,
          28.887064676985073,
          28.887064676985073,
          28.887064676985073,
          28.887064676985073,
          32.239426523913984
         ],
         "yaxis": "y"
        }
       ],
       "layout": {
        "legend": {
         "title": {
          "text": "variable"
         },
         "tracegroupgap": 0
        },
        "margin": {
         "t": 60
        },
        "template": {
         "data": {
          "bar": [
           {
            "error_x": {
             "color": "#2a3f5f"
            },
            "error_y": {
             "color": "#2a3f5f"
            },
            "marker": {
             "line": {
              "color": "#E5ECF6",
              "width": 0.5
             },
             "pattern": {
              "fillmode": "overlay",
              "size": 10,
              "solidity": 0.2
             }
            },
            "type": "bar"
           }
          ],
          "barpolar": [
           {
            "marker": {
             "line": {
              "color": "#E5ECF6",
              "width": 0.5
             },
             "pattern": {
              "fillmode": "overlay",
              "size": 10,
              "solidity": 0.2
             }
            },
            "type": "barpolar"
           }
          ],
          "carpet": [
           {
            "aaxis": {
             "endlinecolor": "#2a3f5f",
             "gridcolor": "white",
             "linecolor": "white",
             "minorgridcolor": "white",
             "startlinecolor": "#2a3f5f"
            },
            "baxis": {
             "endlinecolor": "#2a3f5f",
             "gridcolor": "white",
             "linecolor": "white",
             "minorgridcolor": "white",
             "startlinecolor": "#2a3f5f"
            },
            "type": "carpet"
           }
          ],
          "choropleth": [
           {
            "colorbar": {
             "outlinewidth": 0,
             "ticks": ""
            },
            "type": "choropleth"
           }
          ],
          "contour": [
           {
            "colorbar": {
             "outlinewidth": 0,
             "ticks": ""
            },
            "colorscale": [
             [
              0,
              "#0d0887"
             ],
             [
              0.1111111111111111,
              "#46039f"
             ],
             [
              0.2222222222222222,
              "#7201a8"
             ],
             [
              0.3333333333333333,
              "#9c179e"
             ],
             [
              0.4444444444444444,
              "#bd3786"
             ],
             [
              0.5555555555555556,
              "#d8576b"
             ],
             [
              0.6666666666666666,
              "#ed7953"
             ],
             [
              0.7777777777777778,
              "#fb9f3a"
             ],
             [
              0.8888888888888888,
              "#fdca26"
             ],
             [
              1,
              "#f0f921"
             ]
            ],
            "type": "contour"
           }
          ],
          "contourcarpet": [
           {
            "colorbar": {
             "outlinewidth": 0,
             "ticks": ""
            },
            "type": "contourcarpet"
           }
          ],
          "heatmap": [
           {
            "colorbar": {
             "outlinewidth": 0,
             "ticks": ""
            },
            "colorscale": [
             [
              0,
              "#0d0887"
             ],
             [
              0.1111111111111111,
              "#46039f"
             ],
             [
              0.2222222222222222,
              "#7201a8"
             ],
             [
              0.3333333333333333,
              "#9c179e"
             ],
             [
              0.4444444444444444,
              "#bd3786"
             ],
             [
              0.5555555555555556,
              "#d8576b"
             ],
             [
              0.6666666666666666,
              "#ed7953"
             ],
             [
              0.7777777777777778,
              "#fb9f3a"
             ],
             [
              0.8888888888888888,
              "#fdca26"
             ],
             [
              1,
              "#f0f921"
             ]
            ],
            "type": "heatmap"
           }
          ],
          "heatmapgl": [
           {
            "colorbar": {
             "outlinewidth": 0,
             "ticks": ""
            },
            "colorscale": [
             [
              0,
              "#0d0887"
             ],
             [
              0.1111111111111111,
              "#46039f"
             ],
             [
              0.2222222222222222,
              "#7201a8"
             ],
             [
              0.3333333333333333,
              "#9c179e"
             ],
             [
              0.4444444444444444,
              "#bd3786"
             ],
             [
              0.5555555555555556,
              "#d8576b"
             ],
             [
              0.6666666666666666,
              "#ed7953"
             ],
             [
              0.7777777777777778,
              "#fb9f3a"
             ],
             [
              0.8888888888888888,
              "#fdca26"
             ],
             [
              1,
              "#f0f921"
             ]
            ],
            "type": "heatmapgl"
           }
          ],
          "histogram": [
           {
            "marker": {
             "pattern": {
              "fillmode": "overlay",
              "size": 10,
              "solidity": 0.2
             }
            },
            "type": "histogram"
           }
          ],
          "histogram2d": [
           {
            "colorbar": {
             "outlinewidth": 0,
             "ticks": ""
            },
            "colorscale": [
             [
              0,
              "#0d0887"
             ],
             [
              0.1111111111111111,
              "#46039f"
             ],
             [
              0.2222222222222222,
              "#7201a8"
             ],
             [
              0.3333333333333333,
              "#9c179e"
             ],
             [
              0.4444444444444444,
              "#bd3786"
             ],
             [
              0.5555555555555556,
              "#d8576b"
             ],
             [
              0.6666666666666666,
              "#ed7953"
             ],
             [
              0.7777777777777778,
              "#fb9f3a"
             ],
             [
              0.8888888888888888,
              "#fdca26"
             ],
             [
              1,
              "#f0f921"
             ]
            ],
            "type": "histogram2d"
           }
          ],
          "histogram2dcontour": [
           {
            "colorbar": {
             "outlinewidth": 0,
             "ticks": ""
            },
            "colorscale": [
             [
              0,
              "#0d0887"
             ],
             [
              0.1111111111111111,
              "#46039f"
             ],
             [
              0.2222222222222222,
              "#7201a8"
             ],
             [
              0.3333333333333333,
              "#9c179e"
             ],
             [
              0.4444444444444444,
              "#bd3786"
             ],
             [
              0.5555555555555556,
              "#d8576b"
             ],
             [
              0.6666666666666666,
              "#ed7953"
             ],
             [
              0.7777777777777778,
              "#fb9f3a"
             ],
             [
              0.8888888888888888,
              "#fdca26"
             ],
             [
              1,
              "#f0f921"
             ]
            ],
            "type": "histogram2dcontour"
           }
          ],
          "mesh3d": [
           {
            "colorbar": {
             "outlinewidth": 0,
             "ticks": ""
            },
            "type": "mesh3d"
           }
          ],
          "parcoords": [
           {
            "line": {
             "colorbar": {
              "outlinewidth": 0,
              "ticks": ""
             }
            },
            "type": "parcoords"
           }
          ],
          "pie": [
           {
            "automargin": true,
            "type": "pie"
           }
          ],
          "scatter": [
           {
            "fillpattern": {
             "fillmode": "overlay",
             "size": 10,
             "solidity": 0.2
            },
            "type": "scatter"
           }
          ],
          "scatter3d": [
           {
            "line": {
             "colorbar": {
              "outlinewidth": 0,
              "ticks": ""
             }
            },
            "marker": {
             "colorbar": {
              "outlinewidth": 0,
              "ticks": ""
             }
            },
            "type": "scatter3d"
           }
          ],
          "scattercarpet": [
           {
            "marker": {
             "colorbar": {
              "outlinewidth": 0,
              "ticks": ""
             }
            },
            "type": "scattercarpet"
           }
          ],
          "scattergeo": [
           {
            "marker": {
             "colorbar": {
              "outlinewidth": 0,
              "ticks": ""
             }
            },
            "type": "scattergeo"
           }
          ],
          "scattergl": [
           {
            "marker": {
             "colorbar": {
              "outlinewidth": 0,
              "ticks": ""
             }
            },
            "type": "scattergl"
           }
          ],
          "scattermapbox": [
           {
            "marker": {
             "colorbar": {
              "outlinewidth": 0,
              "ticks": ""
             }
            },
            "type": "scattermapbox"
           }
          ],
          "scatterpolar": [
           {
            "marker": {
             "colorbar": {
              "outlinewidth": 0,
              "ticks": ""
             }
            },
            "type": "scatterpolar"
           }
          ],
          "scatterpolargl": [
           {
            "marker": {
             "colorbar": {
              "outlinewidth": 0,
              "ticks": ""
             }
            },
            "type": "scatterpolargl"
           }
          ],
          "scatterternary": [
           {
            "marker": {
             "colorbar": {
              "outlinewidth": 0,
              "ticks": ""
             }
            },
            "type": "scatterternary"
           }
          ],
          "surface": [
           {
            "colorbar": {
             "outlinewidth": 0,
             "ticks": ""
            },
            "colorscale": [
             [
              0,
              "#0d0887"
             ],
             [
              0.1111111111111111,
              "#46039f"
             ],
             [
              0.2222222222222222,
              "#7201a8"
             ],
             [
              0.3333333333333333,
              "#9c179e"
             ],
             [
              0.4444444444444444,
              "#bd3786"
             ],
             [
              0.5555555555555556,
              "#d8576b"
             ],
             [
              0.6666666666666666,
              "#ed7953"
             ],
             [
              0.7777777777777778,
              "#fb9f3a"
             ],
             [
              0.8888888888888888,
              "#fdca26"
             ],
             [
              1,
              "#f0f921"
             ]
            ],
            "type": "surface"
           }
          ],
          "table": [
           {
            "cells": {
             "fill": {
              "color": "#EBF0F8"
             },
             "line": {
              "color": "white"
             }
            },
            "header": {
             "fill": {
              "color": "#C8D4E3"
             },
             "line": {
              "color": "white"
             }
            },
            "type": "table"
           }
          ]
         },
         "layout": {
          "annotationdefaults": {
           "arrowcolor": "#2a3f5f",
           "arrowhead": 0,
           "arrowwidth": 1
          },
          "autotypenumbers": "strict",
          "coloraxis": {
           "colorbar": {
            "outlinewidth": 0,
            "ticks": ""
           }
          },
          "colorscale": {
           "diverging": [
            [
             0,
             "#8e0152"
            ],
            [
             0.1,
             "#c51b7d"
            ],
            [
             0.2,
             "#de77ae"
            ],
            [
             0.3,
             "#f1b6da"
            ],
            [
             0.4,
             "#fde0ef"
            ],
            [
             0.5,
             "#f7f7f7"
            ],
            [
             0.6,
             "#e6f5d0"
            ],
            [
             0.7,
             "#b8e186"
            ],
            [
             0.8,
             "#7fbc41"
            ],
            [
             0.9,
             "#4d9221"
            ],
            [
             1,
             "#276419"
            ]
           ],
           "sequential": [
            [
             0,
             "#0d0887"
            ],
            [
             0.1111111111111111,
             "#46039f"
            ],
            [
             0.2222222222222222,
             "#7201a8"
            ],
            [
             0.3333333333333333,
             "#9c179e"
            ],
            [
             0.4444444444444444,
             "#bd3786"
            ],
            [
             0.5555555555555556,
             "#d8576b"
            ],
            [
             0.6666666666666666,
             "#ed7953"
            ],
            [
             0.7777777777777778,
             "#fb9f3a"
            ],
            [
             0.8888888888888888,
             "#fdca26"
            ],
            [
             1,
             "#f0f921"
            ]
           ],
           "sequentialminus": [
            [
             0,
             "#0d0887"
            ],
            [
             0.1111111111111111,
             "#46039f"
            ],
            [
             0.2222222222222222,
             "#7201a8"
            ],
            [
             0.3333333333333333,
             "#9c179e"
            ],
            [
             0.4444444444444444,
             "#bd3786"
            ],
            [
             0.5555555555555556,
             "#d8576b"
            ],
            [
             0.6666666666666666,
             "#ed7953"
            ],
            [
             0.7777777777777778,
             "#fb9f3a"
            ],
            [
             0.8888888888888888,
             "#fdca26"
            ],
            [
             1,
             "#f0f921"
            ]
           ]
          },
          "colorway": [
           "#636efa",
           "#EF553B",
           "#00cc96",
           "#ab63fa",
           "#FFA15A",
           "#19d3f3",
           "#FF6692",
           "#B6E880",
           "#FF97FF",
           "#FECB52"
          ],
          "font": {
           "color": "#2a3f5f"
          },
          "geo": {
           "bgcolor": "white",
           "lakecolor": "white",
           "landcolor": "#E5ECF6",
           "showlakes": true,
           "showland": true,
           "subunitcolor": "white"
          },
          "hoverlabel": {
           "align": "left"
          },
          "hovermode": "closest",
          "mapbox": {
           "style": "light"
          },
          "paper_bgcolor": "white",
          "plot_bgcolor": "#E5ECF6",
          "polar": {
           "angularaxis": {
            "gridcolor": "white",
            "linecolor": "white",
            "ticks": ""
           },
           "bgcolor": "#E5ECF6",
           "radialaxis": {
            "gridcolor": "white",
            "linecolor": "white",
            "ticks": ""
           }
          },
          "scene": {
           "xaxis": {
            "backgroundcolor": "#E5ECF6",
            "gridcolor": "white",
            "gridwidth": 2,
            "linecolor": "white",
            "showbackground": true,
            "ticks": "",
            "zerolinecolor": "white"
           },
           "yaxis": {
            "backgroundcolor": "#E5ECF6",
            "gridcolor": "white",
            "gridwidth": 2,
            "linecolor": "white",
            "showbackground": true,
            "ticks": "",
            "zerolinecolor": "white"
           },
           "zaxis": {
            "backgroundcolor": "#E5ECF6",
            "gridcolor": "white",
            "gridwidth": 2,
            "linecolor": "white",
            "showbackground": true,
            "ticks": "",
            "zerolinecolor": "white"
           }
          },
          "shapedefaults": {
           "line": {
            "color": "#2a3f5f"
           }
          },
          "ternary": {
           "aaxis": {
            "gridcolor": "white",
            "linecolor": "white",
            "ticks": ""
           },
           "baxis": {
            "gridcolor": "white",
            "linecolor": "white",
            "ticks": ""
           },
           "bgcolor": "#E5ECF6",
           "caxis": {
            "gridcolor": "white",
            "linecolor": "white",
            "ticks": ""
           }
          },
          "title": {
           "x": 0.05
          },
          "xaxis": {
           "automargin": true,
           "gridcolor": "white",
           "linecolor": "white",
           "ticks": "",
           "title": {
            "standoff": 15
           },
           "zerolinecolor": "white",
           "zerolinewidth": 2
          },
          "yaxis": {
           "automargin": true,
           "gridcolor": "white",
           "linecolor": "white",
           "ticks": "",
           "title": {
            "standoff": 15
           },
           "zerolinecolor": "white",
           "zerolinewidth": 2
          }
         }
        },
        "xaxis": {
         "anchor": "y",
         "domain": [
          0,
          1
         ],
         "title": {
          "text": "index"
         }
        },
        "yaxis": {
         "anchor": "x",
         "domain": [
          0,
          1
         ],
         "title": {
          "text": "value"
         }
        }
       }
      }
     },
     "metadata": {},
     "output_type": "display_data"
    }
   ],
   "source": [
    "import plotly.express as px\n",
    "\n",
    "df = pd.DataFrame({\"y_true\": y_true, \"y_preds\": y_preds}).head(500)\n",
    "fig = px.line(df, y=[\"y_true\", \"y_preds\"], title='')\n",
    "fig.show()"
   ]
  }
 ],
 "metadata": {
  "kernelspec": {
   "display_name": "venv-sail",
   "language": "python",
   "name": "python3"
  },
  "language_info": {
   "codemirror_mode": {
    "name": "ipython",
    "version": 3
   },
   "file_extension": ".py",
   "mimetype": "text/x-python",
   "name": "python",
   "nbconvert_exporter": "python",
   "pygments_lexer": "ipython3",
   "version": "3.8.12"
  },
  "orig_nbformat": 4
 },
 "nbformat": 4,
 "nbformat_minor": 2
}
