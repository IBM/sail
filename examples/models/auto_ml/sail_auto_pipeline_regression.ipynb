{
 "cells": [
  {
   "cell_type": "code",
   "execution_count": 1,
   "metadata": {},
   "outputs": [],
   "source": [
    "import numpy as np\n",
    "import pandas as pd\n",
    "from river import optim\n",
    "from river import metrics\n",
    "from river.drift.binary import EDDM\n",
    "from sail.models.auto_ml.tune import SAILTuneGridSearchCV\n",
    "from sail.models.river.forest import AdaptiveRandomForestRegressor\n",
    "from sail.models.river.linear_model import LinearRegression\n",
    "from sail.models.auto_ml.auto_pipeline import SAILAutoPipeline\n",
    "from sail.pipeline import SAILPipeline\n",
    "from sklearn.impute import SimpleImputer\n",
    "from sail.drift_detection.drift_detector import SAILDriftDetector\n",
    "from sail.transformers.river.preprocessing import StandardScaler"
   ]
  },
  {
   "attachments": {},
   "cell_type": "markdown",
   "metadata": {},
   "source": [
    "#### Load Data\n"
   ]
  },
  {
   "cell_type": "code",
   "execution_count": 2,
   "metadata": {},
   "outputs": [],
   "source": [
    "X = pd.read_csv(\"../../datasets/HDWF2.csv\")\n",
    "\n",
    "y = X[\"power\"]\n",
    "X.drop([\"power\", \"time\"], axis=1, inplace=True)"
   ]
  },
  {
   "attachments": {},
   "cell_type": "markdown",
   "metadata": {},
   "source": [
    "#### Model Definition\n"
   ]
  },
  {
   "cell_type": "code",
   "execution_count": 3,
   "metadata": {},
   "outputs": [],
   "source": [
    "linear_reg = LinearRegression(optimizer=optim.SGD(0.1))\n",
    "random_forest = AdaptiveRandomForestRegressor()"
   ]
  },
  {
   "attachments": {},
   "cell_type": "markdown",
   "metadata": {},
   "source": [
    "#### Create SAIL Pipeline\n"
   ]
  },
  {
   "cell_type": "code",
   "execution_count": 4,
   "metadata": {},
   "outputs": [],
   "source": [
    "steps = [\n",
    "    (\"Imputer\", SimpleImputer(missing_values=np.nan, strategy=\"mean\")),\n",
    "    (\"standard_scalar\", StandardScaler()),\n",
    "    (\"regressor\", \"passthrough\"),\n",
    "]\n",
    "sail_pipeline = SAILPipeline(steps=steps, scoring=metrics.R2, verbosity_level=1, verbosity_interval=2)"
   ]
  },
  {
   "attachments": {},
   "cell_type": "markdown",
   "metadata": {},
   "source": [
    "#### HPO Params\n"
   ]
  },
  {
   "cell_type": "code",
   "execution_count": 5,
   "metadata": {},
   "outputs": [],
   "source": [
    "params_grid = [\n",
    "    {\n",
    "        \"regressor\": [linear_reg],\n",
    "        \"regressor__l2\": [0.1, 0.9],\n",
    "        \"regressor__intercept_init\": [0.2, 0.5],\n",
    "    },\n",
    "    {\n",
    "        \"regressor\": [random_forest],\n",
    "        \"regressor__n_models\": [10, 15, 20]\n",
    "    },\n",
    "]"
   ]
  },
  {
   "attachments": {},
   "cell_type": "markdown",
   "metadata": {},
   "source": [
    "#### Create Model Instance\n"
   ]
  },
  {
   "cell_type": "code",
   "execution_count": 6,
   "metadata": {},
   "outputs": [
    {
     "name": "stderr",
     "output_type": "stream",
     "text": [
      "[2023-09-11 14:56:22:395] - INFO - SAIL (PipelineStrategy) - Pipeline Strategy [DetectAndIncrement] created with actions: ['DATA_COLLECTION', 'FIND_BEST_PIPELINE', 'SCORE_AND_DETECT_DRIFT', 'PARTIAL_FIT_MODEL']\n"
     ]
    }
   ],
   "source": [
    "auto_pipeline = SAILAutoPipeline(\n",
    "    pipeline=sail_pipeline,\n",
    "    pipeline_params_grid=params_grid,\n",
    "    search_method=SAILTuneGridSearchCV,\n",
    "    search_method_params={\n",
    "        \"num_cpus_per_trial\": 1,\n",
    "        \"max_iters\": 1,\n",
    "        \"early_stopping\": False,\n",
    "        \"mode\": \"max\",\n",
    "        \"scoring\": \"r2\",\n",
    "        \"pipeline_auto_early_stop\": False,\n",
    "        \"keep_best_configurations\": 2,\n",
    "        # \"runtime_env\": {\n",
    "        #     \"py_modules\": [sail],\n",
    "        #     \"pip\": [\n",
    "        #         \"scikit-learn>=1.2\",\n",
    "        #         \"logzero\",\n",
    "        #         \"numpy>=1.23\",\n",
    "        #         \"river==0.14.*\",\n",
    "        #         \"ray>=2.5\",\n",
    "        #         \"tune_sklearn\",\n",
    "        #         \"dill\",\n",
    "        #         \"ipython\",\n",
    "        #     ],\n",
    "        # },\n",
    "        # \"namespace\": \"sail-tune\",\n",
    "        # \"cluster_address\": \"ray://localhost:10001\"\n",
    "    },\n",
    "    search_data_size=500,\n",
    "    incremental_training=True,\n",
    "    drift_detector=SAILDriftDetector(model=EDDM(), drift_param=\"difference\"),\n",
    "    pipeline_strategy=\"DetectAndIncrement\",\n",
    "    verbosity_level=1, \n",
    "    verbosity_interval=4\n",
    ")"
   ]
  },
  {
   "attachments": {},
   "cell_type": "markdown",
   "metadata": {},
   "source": [
    "#### Start Training\n"
   ]
  },
  {
   "cell_type": "code",
   "execution_count": 7,
   "metadata": {},
   "outputs": [],
   "source": [
    "y_preds = []\n",
    "y_true = []\n",
    "batch_size = 50"
   ]
  },
  {
   "cell_type": "code",
   "execution_count": 8,
   "metadata": {},
   "outputs": [
    {
     "data": {
      "text/html": [
       "<div class=\"tuneStatus\">\n",
       "  <div style=\"display: flex;flex-direction: row\">\n",
       "    <div style=\"display: flex;flex-direction: column;\">\n",
       "      <h3>Tune Status</h3>\n",
       "      <table>\n",
       "<tbody>\n",
       "<tr><td>Current time:</td><td>2023-09-11 14:56:50</td></tr>\n",
       "<tr><td>Running for: </td><td>00:00:12.82        </td></tr>\n",
       "<tr><td>Memory:      </td><td>40.8/64.0 GiB      </td></tr>\n",
       "</tbody>\n",
       "</table>\n",
       "    </div>\n",
       "    <div class=\"vDivider\"></div>\n",
       "    <div class=\"systemInfo\">\n",
       "      <h3>System Info</h3>\n",
       "      Using FIFO scheduling algorithm.<br>Logical resource usage: 1.0/10 CPUs, 0/0 GPUs\n",
       "    </div>\n",
       "    \n",
       "  </div>\n",
       "  <div class=\"hDivider\"></div>\n",
       "  <div class=\"trialStatus\">\n",
       "    <h3>Trial Status</h3>\n",
       "    <table>\n",
       "<thead>\n",
       "<tr><th>Trial name         </th><th>status    </th><th>loc            </th><th>regressor           </th><th style=\"text-align: right;\">    regressor__intercept\n",
       "_init</th><th style=\"text-align: right;\">  regressor__l2</th><th style=\"text-align: right;\">  regressor__n_models</th><th style=\"text-align: right;\">  iter</th><th style=\"text-align: right;\">  total time (s)</th><th style=\"text-align: right;\">  split0_test_score</th><th style=\"text-align: right;\">  split1_test_score</th><th style=\"text-align: right;\">  split2_test_score</th></tr>\n",
       "</thead>\n",
       "<tbody>\n",
       "<tr><td>_Trainable_6fdbff9a</td><td>TERMINATED</td><td>127.0.0.1:98917</td><td>LinearRegressio_63b0</td><td style=\"text-align: right;\">0.2</td><td style=\"text-align: right;\">            0.1</td><td style=\"text-align: right;\">                     </td><td style=\"text-align: right;\">     1</td><td style=\"text-align: right;\">       0.078562 </td><td style=\"text-align: right;\">       -4.62577e+19</td><td style=\"text-align: right;\">       -3.78536e+19</td><td style=\"text-align: right;\">       -3.36403e+19</td></tr>\n",
       "<tr><td>_Trainable_bca2a139</td><td>TERMINATED</td><td>127.0.0.1:98917</td><td>LinearRegressio_9330</td><td style=\"text-align: right;\">0.2</td><td style=\"text-align: right;\">            0.9</td><td style=\"text-align: right;\">                     </td><td style=\"text-align: right;\">     1</td><td style=\"text-align: right;\">       0.0774598</td><td style=\"text-align: right;\">       -1.49113e+19</td><td style=\"text-align: right;\">       -3.12472e+16</td><td style=\"text-align: right;\">       -3.01217e+19</td></tr>\n",
       "<tr><td>_Trainable_6a2ff3ea</td><td>TERMINATED</td><td>127.0.0.1:98917</td><td>LinearRegressio_80a0</td><td style=\"text-align: right;\">0.5</td><td style=\"text-align: right;\">            0.1</td><td style=\"text-align: right;\">                     </td><td style=\"text-align: right;\">     1</td><td style=\"text-align: right;\">       0.0882339</td><td style=\"text-align: right;\">       -8.73394e+19</td><td style=\"text-align: right;\">       -4.91866e+18</td><td style=\"text-align: right;\">       -2.5045e+19 </td></tr>\n",
       "<tr><td>_Trainable_b305bc0f</td><td>TERMINATED</td><td>127.0.0.1:98917</td><td>LinearRegressio_8910</td><td style=\"text-align: right;\">0.5</td><td style=\"text-align: right;\">            0.9</td><td style=\"text-align: right;\">                     </td><td style=\"text-align: right;\">     1</td><td style=\"text-align: right;\">       0.150361 </td><td style=\"text-align: right;\">       -1.50236e+19</td><td style=\"text-align: right;\">       -1.17498e+17</td><td style=\"text-align: right;\">       -4.56942e+19</td></tr>\n",
       "<tr><td>_Trainable_fca6d005</td><td>TERMINATED</td><td>127.0.0.1:98917</td><td>AdaptiveRandomF_a3e0</td><td style=\"text-align: right;\">   </td><td style=\"text-align: right;\">               </td><td style=\"text-align: right;\">                   10</td><td style=\"text-align: right;\">     1</td><td style=\"text-align: right;\">       3.46008  </td><td style=\"text-align: right;\">        0.0856413  </td><td style=\"text-align: right;\">        0.148563   </td><td style=\"text-align: right;\">       -0.590251   </td></tr>\n",
       "<tr><td>_Trainable_954fc477</td><td>TERMINATED</td><td>127.0.0.1:98939</td><td>AdaptiveRandomF_ae90</td><td style=\"text-align: right;\">   </td><td style=\"text-align: right;\">               </td><td style=\"text-align: right;\">                   15</td><td style=\"text-align: right;\">     1</td><td style=\"text-align: right;\">       4.22878  </td><td style=\"text-align: right;\">        0.621406   </td><td style=\"text-align: right;\">       -0.296426   </td><td style=\"text-align: right;\">       -0.665793   </td></tr>\n",
       "<tr><td>_Trainable_709bbdd0</td><td>TERMINATED</td><td>127.0.0.1:98917</td><td>AdaptiveRandomF_b5e0</td><td style=\"text-align: right;\">   </td><td style=\"text-align: right;\">               </td><td style=\"text-align: right;\">                   20</td><td style=\"text-align: right;\">     1</td><td style=\"text-align: right;\">       5.68296  </td><td style=\"text-align: right;\">        0.655508   </td><td style=\"text-align: right;\">       -0.0422506  </td><td style=\"text-align: right;\">       -0.952888   </td></tr>\n",
       "</tbody>\n",
       "</table>\n",
       "  </div>\n",
       "</div>\n",
       "<style>\n",
       ".tuneStatus {\n",
       "  color: var(--jp-ui-font-color1);\n",
       "}\n",
       ".tuneStatus .systemInfo {\n",
       "  display: flex;\n",
       "  flex-direction: column;\n",
       "}\n",
       ".tuneStatus td {\n",
       "  white-space: nowrap;\n",
       "}\n",
       ".tuneStatus .trialStatus {\n",
       "  display: flex;\n",
       "  flex-direction: column;\n",
       "}\n",
       ".tuneStatus h3 {\n",
       "  font-weight: bold;\n",
       "}\n",
       ".tuneStatus .hDivider {\n",
       "  border-bottom-width: var(--jp-border-width);\n",
       "  border-bottom-color: var(--jp-border-color0);\n",
       "  border-bottom-style: solid;\n",
       "}\n",
       ".tuneStatus .vDivider {\n",
       "  border-left-width: var(--jp-border-width);\n",
       "  border-left-color: var(--jp-border-color0);\n",
       "  border-left-style: solid;\n",
       "  margin: 0.5em 1em 0.5em 1em;\n",
       "}\n",
       "</style>\n"
      ],
      "text/plain": [
       "<IPython.core.display.HTML object>"
      ]
     },
     "metadata": {},
     "output_type": "display_data"
    },
    {
     "name": "stderr",
     "output_type": "stream",
     "text": [
      "2023-09-11 14:56:50,831\tINFO tune.py:1148 -- Total run time: 12.83 seconds (12.81 seconds for the tuning loop).\n"
     ]
    },
    {
     "name": "stdout",
     "output_type": "stream",
     "text": [
      "\n",
      ">>> Epoch: 1 | Samples Seen: 0 -------------------------------------------------------------------------------------\n"
     ]
    },
    {
     "name": "stderr",
     "output_type": "stream",
     "text": [
      "SAIL Pipeline fit: 100%========== [Steps: 3/3, ETA: 00:01<00:00, Elapsed:1.604s, Batch Size=500, Score=0.813]            \n",
      "[2023-09-11 14:56:53:932] - INFO - SAIL (PipelineStrategy) - Pipeline tuning completed. Disconnecting Ray cluster...\n",
      "[2023-09-11 14:56:53:933] - INFO - SAIL (PipelineStrategy) - Found best params: {'regressor': AdaptiveRandomForestRegressor(drift_detector=ADWIN (\n",
      "      delta=0.001\n",
      "      clock=32\n",
      "      max_buckets=5\n",
      "      min_window_length=5\n",
      "      grace_period=10\n",
      "    ),\n",
      "                                  metric=MSE: 0., n_models=20,\n",
      "                                  warning_detector=ADWIN (\n",
      "      delta=0.01\n",
      "      clock=32\n",
      "      max_buckets=5\n",
      "      min_window_length=5\n",
      "      grace_period=10\n",
      "    )), 'regressor__n_models': 20}\n"
     ]
    },
    {
     "name": "stdout",
     "output_type": "stream",
     "text": [
      "\n",
      ">>> Epoch: 12 | Samples Seen: 550 -------------------------------------------------------------------------------------\n"
     ]
    },
    {
     "name": "stderr",
     "output_type": "stream",
     "text": [
      "SAIL Pipeline Progressive Score: 100%========== [Points: 50/50, Elapsed:0.0016s, Metric=R2, Batch Size=50, P_Score=0.742]\n",
      "SAIL Drift detection: 100%========== [Points: 50/50, Elapsed:0.0009s, Detector=EDDM, Batch Size=50, Param=differene, Drift=No]\n",
      "SAIL Pipeline Partial fit: 100%========== [Steps: 3/3, ETA: 00:00<00:00, Elapsed:0.238s, Batch Size=50, P_Score=0.742]            \n"
     ]
    },
    {
     "name": "stdout",
     "output_type": "stream",
     "text": [
      "\n",
      ">>> Epoch: 16 | Samples Seen: 750 -------------------------------------------------------------------------------------\n"
     ]
    },
    {
     "name": "stderr",
     "output_type": "stream",
     "text": [
      "SAIL Pipeline Progressive Score: 100%========== [Points: 50/50, Elapsed:0.0015s, Metric=R2, Batch Size=50, P_Score=0.674]\n",
      "SAIL Drift detection: 100%========== [Points: 50/50, Elapsed:0.0009s, Detector=EDDM, Batch Size=50, Param=differene, Drift=No]\n",
      "SAIL Pipeline Partial fit: 100%========== [Steps: 3/3, ETA: 00:00<00:00, Elapsed:0.185s, Batch Size=50, P_Score=0.674]            \n"
     ]
    },
    {
     "name": "stdout",
     "output_type": "stream",
     "text": [
      "\n",
      ">>> Epoch: 20 | Samples Seen: 950 -------------------------------------------------------------------------------------\n"
     ]
    },
    {
     "name": "stderr",
     "output_type": "stream",
     "text": [
      "SAIL Pipeline Progressive Score: 100%========== [Points: 50/50, Elapsed:0.0014s, Metric=R2, Batch Size=50, P_Score=0.71]\n",
      "SAIL Drift detection: 100%========== [Points: 50/50, Elapsed:0.0007s, Detector=EDDM, Batch Size=50, Param=differene, Drift=No]\n",
      "SAIL Pipeline Partial fit: 100%========== [Steps: 3/3, ETA: 00:00<00:00, Elapsed:0.182s, Batch Size=50, P_Score=0.71]            \n"
     ]
    },
    {
     "name": "stdout",
     "output_type": "stream",
     "text": [
      "\n",
      ">>> Epoch: 24 | Samples Seen: 1150 -------------------------------------------------------------------------------------\n"
     ]
    },
    {
     "name": "stderr",
     "output_type": "stream",
     "text": [
      "SAIL Pipeline Progressive Score: 100%========== [Points: 50/50, Elapsed:0.0017s, Metric=R2, Batch Size=50, P_Score=0.717]\n",
      "SAIL Drift detection: 100%========== [Points: 50/50, Elapsed:0.0011s, Detector=EDDM, Batch Size=50, Param=differene, Drift=No]\n",
      "SAIL Pipeline Partial fit: 100%========== [Steps: 3/3, ETA: 00:00<00:00, Elapsed:0.194s, Batch Size=50, P_Score=0.717]            \n"
     ]
    },
    {
     "name": "stdout",
     "output_type": "stream",
     "text": [
      "\n",
      ">>> Epoch: 28 | Samples Seen: 1350 -------------------------------------------------------------------------------------\n"
     ]
    },
    {
     "name": "stderr",
     "output_type": "stream",
     "text": [
      "SAIL Pipeline Progressive Score: 100%========== [Points: 50/50, Elapsed:0.0013s, Metric=R2, Batch Size=50, P_Score=0.695]\n",
      "SAIL Drift detection: 100%========== [Points: 50/50, Elapsed:0.0009s, Detector=EDDM, Batch Size=50, Param=differene, Drift=No]\n",
      "SAIL Pipeline Partial fit: 100%========== [Steps: 3/3, ETA: 00:00<00:00, Elapsed:0.178s, Batch Size=50, P_Score=0.695]            \n"
     ]
    }
   ],
   "source": [
    "batch_size = 50\n",
    "for start in range(0, 1500, batch_size):\n",
    "\n",
    "    end = start + batch_size\n",
    "\n",
    "    X_train = X.iloc[start:end]\n",
    "    y_train = y.iloc[start:end]\n",
    "\n",
    "    if end > 500: # search_data_size is 500\n",
    "        preds = auto_pipeline.predict(X_train)\n",
    "        y_preds.extend(list(preds))\n",
    "        y_true.extend(list(y_train))\n",
    "\n",
    "    auto_pipeline.train(X_train, y_train)"
   ]
  },
  {
   "cell_type": "code",
   "execution_count": 9,
   "metadata": {},
   "outputs": [],
   "source": [
    "auto_pipeline.train(X_train, y_train)"
   ]
  },
  {
   "attachments": {},
   "cell_type": "markdown",
   "metadata": {},
   "source": [
    "#### Save Model\n"
   ]
  },
  {
   "cell_type": "code",
   "execution_count": 10,
   "metadata": {},
   "outputs": [
    {
     "data": {
      "text/plain": [
       "'./sail_auto_pipeline'"
      ]
     },
     "execution_count": 10,
     "metadata": {},
     "output_type": "execute_result"
    }
   ],
   "source": [
    "auto_pipeline.save_model(\".\")"
   ]
  },
  {
   "attachments": {},
   "cell_type": "markdown",
   "metadata": {},
   "source": [
    "#### Load Model\n"
   ]
  },
  {
   "cell_type": "code",
   "execution_count": 11,
   "metadata": {},
   "outputs": [
    {
     "name": "stderr",
     "output_type": "stream",
     "text": [
      "[2023-09-11 14:57:00:341] - INFO - SAIL (PipelineStrategy) - Pipeline Strategy [DetectAndIncrement] created with actions: ['DATA_COLLECTION', 'FIND_BEST_PIPELINE', 'SCORE_AND_DETECT_DRIFT', 'PARTIAL_FIT_MODEL']\n",
      "SAIL Pipeline Progressive Score: 100%========== [Points: 2100/2100, Elapsed:0.0046s, Metric=R2, Batch Size=2100, P_Score=0.704]\n"
     ]
    }
   ],
   "source": [
    "new_auto_pipeline = SAILAutoPipeline.load_model(\".\")"
   ]
  },
  {
   "attachments": {},
   "cell_type": "markdown",
   "metadata": {},
   "source": [
    "#### Continue training using the load model\n"
   ]
  },
  {
   "cell_type": "code",
   "execution_count": 12,
   "metadata": {},
   "outputs": [
    {
     "name": "stdout",
     "output_type": "stream",
     "text": [
      "\n",
      ">>> Epoch: 32 | Samples Seen: 1550 -------------------------------------------------------------------------------------\n"
     ]
    },
    {
     "name": "stderr",
     "output_type": "stream",
     "text": [
      "SAIL Pipeline Progressive Score: 100%========== [Points: 50/50, Elapsed:0.0015s, Metric=R2, Batch Size=50, P_Score=0.711]\n",
      "SAIL Drift detection: 100%========== [Points: 50/50, Elapsed:0.0013s, Detector=EDDM, Batch Size=50, Param=differene, Drift=No]\n",
      "SAIL Pipeline Partial fit: 100%========== [Steps: 3/3, ETA: 00:00<00:00, Elapsed:0.194s, Batch Size=50, P_Score=0.711]            \n"
     ]
    },
    {
     "name": "stdout",
     "output_type": "stream",
     "text": [
      "\n",
      ">>> Epoch: 36 | Samples Seen: 1750 -------------------------------------------------------------------------------------\n"
     ]
    },
    {
     "name": "stderr",
     "output_type": "stream",
     "text": [
      "SAIL Pipeline Progressive Score: 100%========== [Points: 50/50, Elapsed:0.0012s, Metric=R2, Batch Size=50, P_Score=0.72]\n",
      "SAIL Drift detection: 100%========== [Points: 50/50, Elapsed:0.0012s, Detector=EDDM, Batch Size=50, Param=differene, Drift=No]\n",
      "SAIL Pipeline Partial fit: 100%========== [Steps: 3/3, ETA: 00:00<00:00, Elapsed:0.190s, Batch Size=50, P_Score=0.72]            \n"
     ]
    },
    {
     "name": "stdout",
     "output_type": "stream",
     "text": [
      "\n",
      ">>> Epoch: 40 | Samples Seen: 1950 -------------------------------------------------------------------------------------\n"
     ]
    },
    {
     "name": "stderr",
     "output_type": "stream",
     "text": [
      "SAIL Pipeline Progressive Score: 100%========== [Points: 50/50, Elapsed:0.0015s, Metric=R2, Batch Size=50, P_Score=0.727]\n",
      "SAIL Drift detection: 100%========== [Points: 50/50, Elapsed:0.0011s, Detector=EDDM, Batch Size=50, Param=differene, Drift=No]\n",
      "SAIL Pipeline Partial fit: 100%========== [Steps: 3/3, ETA: 00:00<00:00, Elapsed:0.234s, Batch Size=50, P_Score=0.727]            \n"
     ]
    }
   ],
   "source": [
    "for start in range(1501, 2001, batch_size):\n",
    "\n",
    "    end = start + batch_size\n",
    "\n",
    "    X_train = X.iloc[start:end]\n",
    "    y_train = y.iloc[start:end]\n",
    "\n",
    "    preds = new_auto_pipeline.predict(X_train)\n",
    "    y_preds.extend(list(preds))\n",
    "    y_true.extend(list(y_train))\n",
    "\n",
    "    new_auto_pipeline.train(X_train, y_train)"
   ]
  },
  {
   "attachments": {},
   "cell_type": "markdown",
   "metadata": {},
   "source": [
    "#### Final Score\n"
   ]
  },
  {
   "cell_type": "code",
   "execution_count": 13,
   "metadata": {},
   "outputs": [
    {
     "data": {
      "text/plain": [
       "0.7342392933044125"
      ]
     },
     "execution_count": 13,
     "metadata": {},
     "output_type": "execute_result"
    }
   ],
   "source": [
    "new_auto_pipeline.progressive_score"
   ]
  },
  {
   "attachments": {},
   "cell_type": "markdown",
   "metadata": {},
   "source": [
    "### Plot predictions\n"
   ]
  },
  {
   "cell_type": "code",
   "execution_count": 14,
   "metadata": {},
   "outputs": [
    {
     "data": {
      "application/vnd.plotly.v1+json": {
       "config": {
        "plotlyServerURL": "https://plot.ly"
       },
       "data": [
        {
         "hovertemplate": "variable=y_true<br>index=%{x}<br>value=%{y}<extra></extra>",
         "legendgroup": "y_true",
         "line": {
          "color": "#636efa",
          "dash": "solid"
         },
         "marker": {
          "symbol": "circle"
         },
         "mode": "lines",
         "name": "y_true",
         "orientation": "v",
         "showlegend": true,
         "type": "scatter",
         "x": [
          0,
          1,
          2,
          3,
          4,
          5,
          6,
          7,
          8,
          9,
          10,
          11,
          12,
          13,
          14,
          15,
          16,
          17,
          18,
          19,
          20,
          21,
          22,
          23,
          24,
          25,
          26,
          27,
          28,
          29,
          30,
          31,
          32,
          33,
          34,
          35,
          36,
          37,
          38,
          39,
          40,
          41,
          42,
          43,
          44,
          45,
          46,
          47,
          48,
          49,
          50,
          51,
          52,
          53,
          54,
          55,
          56,
          57,
          58,
          59,
          60,
          61,
          62,
          63,
          64,
          65,
          66,
          67,
          68,
          69,
          70,
          71,
          72,
          73,
          74,
          75,
          76,
          77,
          78,
          79,
          80,
          81,
          82,
          83,
          84,
          85,
          86,
          87,
          88,
          89,
          90,
          91,
          92,
          93,
          94,
          95,
          96,
          97,
          98,
          99,
          100,
          101,
          102,
          103,
          104,
          105,
          106,
          107,
          108,
          109,
          110,
          111,
          112,
          113,
          114,
          115,
          116,
          117,
          118,
          119,
          120,
          121,
          122,
          123,
          124,
          125,
          126,
          127,
          128,
          129,
          130,
          131,
          132,
          133,
          134,
          135,
          136,
          137,
          138,
          139,
          140,
          141,
          142,
          143,
          144,
          145,
          146,
          147,
          148,
          149,
          150,
          151,
          152,
          153,
          154,
          155,
          156,
          157,
          158,
          159,
          160,
          161,
          162,
          163,
          164,
          165,
          166,
          167,
          168,
          169,
          170,
          171,
          172,
          173,
          174,
          175,
          176,
          177,
          178,
          179,
          180,
          181,
          182,
          183,
          184,
          185,
          186,
          187,
          188,
          189,
          190,
          191,
          192,
          193,
          194,
          195,
          196,
          197,
          198,
          199,
          200,
          201,
          202,
          203,
          204,
          205,
          206,
          207,
          208,
          209,
          210,
          211,
          212,
          213,
          214,
          215,
          216,
          217,
          218,
          219,
          220,
          221,
          222,
          223,
          224,
          225,
          226,
          227,
          228,
          229,
          230,
          231,
          232,
          233,
          234,
          235,
          236,
          237,
          238,
          239,
          240,
          241,
          242,
          243,
          244,
          245,
          246,
          247,
          248,
          249,
          250,
          251,
          252,
          253,
          254,
          255,
          256,
          257,
          258,
          259,
          260,
          261,
          262,
          263,
          264,
          265,
          266,
          267,
          268,
          269,
          270,
          271,
          272,
          273,
          274,
          275,
          276,
          277,
          278,
          279,
          280,
          281,
          282,
          283,
          284,
          285,
          286,
          287,
          288,
          289,
          290,
          291,
          292,
          293,
          294,
          295,
          296,
          297,
          298,
          299,
          300,
          301,
          302,
          303,
          304,
          305,
          306,
          307,
          308,
          309,
          310,
          311,
          312,
          313,
          314,
          315,
          316,
          317,
          318,
          319,
          320,
          321,
          322,
          323,
          324,
          325,
          326,
          327,
          328,
          329,
          330,
          331,
          332,
          333,
          334,
          335,
          336,
          337,
          338,
          339,
          340,
          341,
          342,
          343,
          344,
          345,
          346,
          347,
          348,
          349,
          350,
          351,
          352,
          353,
          354,
          355,
          356,
          357,
          358,
          359,
          360,
          361,
          362,
          363,
          364,
          365,
          366,
          367,
          368,
          369,
          370,
          371,
          372,
          373,
          374,
          375,
          376,
          377,
          378,
          379,
          380,
          381,
          382,
          383,
          384,
          385,
          386,
          387,
          388,
          389,
          390,
          391,
          392,
          393,
          394,
          395,
          396,
          397,
          398,
          399,
          400,
          401,
          402,
          403,
          404,
          405,
          406,
          407,
          408,
          409,
          410,
          411,
          412,
          413,
          414,
          415,
          416,
          417,
          418,
          419,
          420,
          421,
          422,
          423,
          424,
          425,
          426,
          427,
          428,
          429,
          430,
          431,
          432,
          433,
          434,
          435,
          436,
          437,
          438,
          439,
          440,
          441,
          442,
          443,
          444,
          445,
          446,
          447,
          448,
          449,
          450,
          451,
          452,
          453,
          454,
          455,
          456,
          457,
          458,
          459,
          460,
          461,
          462,
          463,
          464,
          465,
          466,
          467,
          468,
          469,
          470,
          471,
          472,
          473,
          474,
          475,
          476,
          477,
          478,
          479,
          480,
          481,
          482,
          483,
          484,
          485,
          486,
          487,
          488,
          489,
          490,
          491,
          492,
          493,
          494,
          495,
          496,
          497,
          498,
          499
         ],
         "xaxis": "x",
         "y": [
          40.56666667,
          38.4,
          47.15,
          62.83333333,
          80.00833333,
          82.93333333,
          71.83333333,
          85.31666667,
          87.625,
          87.53333333,
          87.88333333,
          84.35833333,
          83.05,
          84.88333333,
          81.89166667,
          76.68333333,
          25.40833333,
          48.54166667,
          65.80833333,
          95.33333333,
          95.175,
          80.99166667,
          89.56666667,
          82.78333333,
          82.95,
          84.43333333,
          86.175,
          87.025,
          75.83333333,
          63.68333333,
          86.275,
          77.36666667,
          77.93333333,
          88.23333333,
          88.84166667,
          87.85,
          82.76666667,
          81.925,
          83.49166667,
          85.76666667,
          83.99166667,
          86.7,
          84.98333333,
          82.875,
          87.90833333,
          84.75,
          80.90833333,
          80.95,
          80.2,
          81.675,
          74.14166667,
          79.19166667,
          82.65,
          80.35,
          84.075,
          83.21666667,
          66.28333333,
          51.475,
          57.81666667,
          72.50833333,
          79.91666667,
          85.225,
          74.4,
          74.33333333,
          77.29166667,
          83.175,
          78.06666667,
          82.7,
          79.74166667,
          79.00833333,
          56.68333333,
          39.725,
          36.125,
          32.41666667,
          26,
          19.46666667,
          12.83333333,
          6.558333332999999,
          6.108333332999999,
          3.666666667,
          3.0333333330000003,
          3.6,
          2.366666667,
          1.408333333,
          0,
          0,
          0,
          0,
          0,
          0.216666667,
          2.65,
          7.916666667,
          13.075,
          10.93333333,
          5.458333333,
          0.358333333,
          0.7,
          0,
          0,
          0,
          0,
          0.5083333329999999,
          1.025,
          4.158333333,
          12.35,
          31.225,
          43.25,
          59.45833333,
          51.06666667,
          54.425,
          33,
          24.69166667,
          20.73333333,
          35.78333333,
          31.94166667,
          23.025,
          12.43333333,
          34.91666667,
          54.75,
          47.71666667,
          35.725,
          40.95833333,
          60.625,
          79.35,
          84.75,
          78.36666667,
          65.00833333,
          40.76666667,
          39.3,
          7.816666667000001,
          13.85833333,
          22.6,
          0.091666667,
          24.26666667,
          17.63333333,
          39.7,
          50.875,
          58.04166667,
          39.29166667,
          8.125,
          4.825,
          12.25833333,
          28.33333333,
          55.375,
          68.80833333,
          69.24166667,
          90.80833333,
          91.09166667,
          92.54166667,
          91.5,
          85.99166667,
          62.375,
          19.24166667,
          5.05,
          0,
          0,
          0,
          0,
          0,
          2.141666667,
          14.65,
          21.225,
          29.78333333,
          46.95,
          48.45833333,
          21.16666667,
          11.725,
          9.95,
          6.166666667,
          23.18333333,
          69.50833333,
          84.925,
          99.00833333,
          90.75,
          91.31666667,
          87.26666667,
          86.44166667,
          81.26666667,
          80.71666667,
          85.46666667,
          89.40833333,
          85.64166667,
          86.875,
          86.66666667,
          85.75833333,
          85.56666667,
          99.71666667,
          99.79166667,
          92.65833333,
          76.5,
          44.74166667,
          26.95,
          20.94166667,
          17.78333333,
          15.53333333,
          20.70833333,
          36.525,
          42.41666667,
          39.625,
          32.61666667,
          28.9,
          15.73333333,
          17.00833333,
          22.39166667,
          36.73333333,
          57.4,
          55.26666667,
          53.3,
          71.425,
          72.29166667,
          70.59166667,
          78.79166667,
          82.35,
          86.08333333,
          82.73333333,
          79.11666667,
          86.5,
          89.51666667,
          90.75,
          91.13333333,
          93.10833333,
          99.06666667,
          96.20833333,
          84.03333333,
          61.85,
          60.60833333,
          56.94166667,
          47.68333333,
          41.89166667,
          44.66666667,
          48.29166667,
          64.13333333,
          69.55833333,
          65.45,
          54.31666667,
          48.325,
          54.18333333,
          41.60833333,
          22.71666667,
          14.86666667,
          7.508333332999999,
          9.166666667,
          8.808333333,
          4.591666667,
          6.575,
          9.8,
          10.80833333,
          7.133333333,
          13.96666667,
          18.58333333,
          10.925,
          2.55,
          0,
          0,
          0,
          1.2,
          2.833333333,
          5.6,
          9.183333333,
          17.275,
          14.01666667,
          10.69166667,
          6.3,
          5.95,
          36.075,
          76.64166667,
          98.14166667,
          99.80833333,
          98.64166667,
          85.85,
          86.33333333,
          87.13333333,
          82.46666667,
          82.95833333,
          85.4,
          79.50833333,
          72.19166667,
          75.80833333,
          77.86666667,
          78.13333333,
          82.36666667,
          79.60833333,
          78.75833333,
          83.14166667,
          87.2,
          85.625,
          85.725,
          80.075,
          88.8,
          81.65,
          78.94166667,
          72.7,
          58.225,
          15.41666667,
          16.69166667,
          31.925,
          42.95833333,
          42.63333333,
          39.43333333,
          44.175,
          65.05833333,
          43.36666667,
          66.28333333,
          88,
          87.16666667,
          88.825,
          85.93333333,
          92.38333333,
          84.625,
          71.775,
          80.575,
          77.39166667,
          73.88333333,
          50.58333333,
          57.69166667,
          77.83333333,
          86.50833333,
          84.825,
          83.525,
          79.3,
          78.84166667,
          81.825,
          81.09166667,
          79.725,
          78.59166667,
          72.38333333,
          71.83333333,
          73.53333333,
          81.61666667,
          87.11666667,
          84.375,
          83.95833333,
          75.99166667,
          80.39166667,
          86.225,
          86.48333333,
          88.175,
          81.24166667,
          78.325,
          78.04166667,
          78.55,
          81.60833333,
          80.68333333,
          83.96666667,
          81.61666667,
          86.825,
          80.36666667,
          82.70833333,
          80.05833333,
          77.44166667,
          75.1,
          73.20833333,
          78.3,
          78.85833333,
          79.25833333,
          84.71666667,
          85.06666667,
          88.475,
          92.775,
          95.50833333,
          98.96666667,
          92.675,
          96.11666667,
          90.125,
          87.59166667,
          85.35,
          88.44166667,
          91.08333333,
          87.51666667,
          86.66666667,
          85.00833333,
          87.05,
          78.95,
          74.99166667,
          85.25833333,
          74.275,
          93.55833333,
          99.5,
          99.84166667,
          97.8,
          98.11666667,
          83.99166667,
          92.05,
          73.825,
          79.28333333,
          94.81666667,
          90.38333333,
          95.10833333,
          91.5,
          76.25,
          76.91666667,
          68.10833333,
          67.575,
          54.86666667,
          44.18333333,
          36.53333333,
          40.98333333,
          29.66666667,
          30.725,
          31.73333333,
          40.14166667,
          61.075,
          73.91666667,
          86.89166667,
          97.35833333,
          92.01666667,
          79.425,
          69.625,
          74.10833333,
          84.35833333,
          91.46666667,
          85.00833333,
          90.14166667,
          87.50833333,
          89.50833333,
          85.55,
          82.19166667,
          85.35,
          84.14166667,
          83.55,
          78.48333333,
          71.35833333,
          70.025,
          69.78333333,
          59.96666667,
          58.15,
          72.74166667,
          61.725,
          47.65,
          16.275,
          9.95,
          8.025,
          4.291666667,
          0.308333333,
          0,
          0,
          0.5166666670000001,
          0.8583333329999999,
          4.508333333,
          10.54166667,
          14.08333333,
          19.49166667,
          26.61666667,
          31.125,
          30.19166667,
          46.625,
          48,
          60.15833333,
          64.65,
          73.36666667,
          89.275,
          87.475,
          89.8,
          80.38333333,
          79.05833333,
          76.35,
          78.64166667,
          77.14166667,
          81.875,
          84.05,
          82.84166667,
          87.475,
          87.49166667,
          86.18333333,
          84.10833333,
          80.475,
          85.45,
          90.74166667,
          87.175,
          90.50833333,
          99.775,
          99.81666667,
          99.14166667,
          99.79166667,
          99.74166667,
          99.70833333,
          98.24166667,
          96.61666667,
          85.20833333,
          83.55,
          75.01666667,
          87.675,
          85.575,
          84.475,
          52.60833333,
          48.91666667,
          47.24166667,
          48.48333333,
          55.08333333,
          54.80833333,
          74.96666667,
          73.3,
          69.19166667,
          83.98333333,
          77.15833333,
          84.04166667,
          80.55833333,
          81.68333333,
          94.975,
          80.93333333
         ],
         "yaxis": "y"
        },
        {
         "hovertemplate": "variable=y_preds<br>index=%{x}<br>value=%{y}<extra></extra>",
         "legendgroup": "y_preds",
         "line": {
          "color": "#EF553B",
          "dash": "solid"
         },
         "marker": {
          "symbol": "circle"
         },
         "mode": "lines",
         "name": "y_preds",
         "orientation": "v",
         "showlegend": true,
         "type": "scatter",
         "x": [
          0,
          1,
          2,
          3,
          4,
          5,
          6,
          7,
          8,
          9,
          10,
          11,
          12,
          13,
          14,
          15,
          16,
          17,
          18,
          19,
          20,
          21,
          22,
          23,
          24,
          25,
          26,
          27,
          28,
          29,
          30,
          31,
          32,
          33,
          34,
          35,
          36,
          37,
          38,
          39,
          40,
          41,
          42,
          43,
          44,
          45,
          46,
          47,
          48,
          49,
          50,
          51,
          52,
          53,
          54,
          55,
          56,
          57,
          58,
          59,
          60,
          61,
          62,
          63,
          64,
          65,
          66,
          67,
          68,
          69,
          70,
          71,
          72,
          73,
          74,
          75,
          76,
          77,
          78,
          79,
          80,
          81,
          82,
          83,
          84,
          85,
          86,
          87,
          88,
          89,
          90,
          91,
          92,
          93,
          94,
          95,
          96,
          97,
          98,
          99,
          100,
          101,
          102,
          103,
          104,
          105,
          106,
          107,
          108,
          109,
          110,
          111,
          112,
          113,
          114,
          115,
          116,
          117,
          118,
          119,
          120,
          121,
          122,
          123,
          124,
          125,
          126,
          127,
          128,
          129,
          130,
          131,
          132,
          133,
          134,
          135,
          136,
          137,
          138,
          139,
          140,
          141,
          142,
          143,
          144,
          145,
          146,
          147,
          148,
          149,
          150,
          151,
          152,
          153,
          154,
          155,
          156,
          157,
          158,
          159,
          160,
          161,
          162,
          163,
          164,
          165,
          166,
          167,
          168,
          169,
          170,
          171,
          172,
          173,
          174,
          175,
          176,
          177,
          178,
          179,
          180,
          181,
          182,
          183,
          184,
          185,
          186,
          187,
          188,
          189,
          190,
          191,
          192,
          193,
          194,
          195,
          196,
          197,
          198,
          199,
          200,
          201,
          202,
          203,
          204,
          205,
          206,
          207,
          208,
          209,
          210,
          211,
          212,
          213,
          214,
          215,
          216,
          217,
          218,
          219,
          220,
          221,
          222,
          223,
          224,
          225,
          226,
          227,
          228,
          229,
          230,
          231,
          232,
          233,
          234,
          235,
          236,
          237,
          238,
          239,
          240,
          241,
          242,
          243,
          244,
          245,
          246,
          247,
          248,
          249,
          250,
          251,
          252,
          253,
          254,
          255,
          256,
          257,
          258,
          259,
          260,
          261,
          262,
          263,
          264,
          265,
          266,
          267,
          268,
          269,
          270,
          271,
          272,
          273,
          274,
          275,
          276,
          277,
          278,
          279,
          280,
          281,
          282,
          283,
          284,
          285,
          286,
          287,
          288,
          289,
          290,
          291,
          292,
          293,
          294,
          295,
          296,
          297,
          298,
          299,
          300,
          301,
          302,
          303,
          304,
          305,
          306,
          307,
          308,
          309,
          310,
          311,
          312,
          313,
          314,
          315,
          316,
          317,
          318,
          319,
          320,
          321,
          322,
          323,
          324,
          325,
          326,
          327,
          328,
          329,
          330,
          331,
          332,
          333,
          334,
          335,
          336,
          337,
          338,
          339,
          340,
          341,
          342,
          343,
          344,
          345,
          346,
          347,
          348,
          349,
          350,
          351,
          352,
          353,
          354,
          355,
          356,
          357,
          358,
          359,
          360,
          361,
          362,
          363,
          364,
          365,
          366,
          367,
          368,
          369,
          370,
          371,
          372,
          373,
          374,
          375,
          376,
          377,
          378,
          379,
          380,
          381,
          382,
          383,
          384,
          385,
          386,
          387,
          388,
          389,
          390,
          391,
          392,
          393,
          394,
          395,
          396,
          397,
          398,
          399,
          400,
          401,
          402,
          403,
          404,
          405,
          406,
          407,
          408,
          409,
          410,
          411,
          412,
          413,
          414,
          415,
          416,
          417,
          418,
          419,
          420,
          421,
          422,
          423,
          424,
          425,
          426,
          427,
          428,
          429,
          430,
          431,
          432,
          433,
          434,
          435,
          436,
          437,
          438,
          439,
          440,
          441,
          442,
          443,
          444,
          445,
          446,
          447,
          448,
          449,
          450,
          451,
          452,
          453,
          454,
          455,
          456,
          457,
          458,
          459,
          460,
          461,
          462,
          463,
          464,
          465,
          466,
          467,
          468,
          469,
          470,
          471,
          472,
          473,
          474,
          475,
          476,
          477,
          478,
          479,
          480,
          481,
          482,
          483,
          484,
          485,
          486,
          487,
          488,
          489,
          490,
          491,
          492,
          493,
          494,
          495,
          496,
          497,
          498,
          499
         ],
         "xaxis": "x",
         "y": [
          22.24334528350584,
          24.008536613323983,
          40.57836761651856,
          47.94068151734184,
          50.392890085099836,
          50.392890085099836,
          43.665007627886894,
          45.912020360406025,
          50.46646536195443,
          52.95060312540037,
          65.46119721243198,
          67.68737443493106,
          64.68360623256308,
          61.07065481962408,
          68.70822103888653,
          71.78626659513824,
          70.19701536549644,
          72.50170853140912,
          73.42797643834874,
          75.59982746803541,
          71.1081105646792,
          71.03318160375906,
          72.65080453345776,
          71.03318160375906,
          72.50170853140912,
          72.50170853140912,
          80.7313952516021,
          80.7313952516021,
          79.76470959638807,
          76.02328098526615,
          79.15153301851915,
          80.348371876002,
          80.348371876002,
          80.348371876002,
          80.89044443594608,
          81.1748333582782,
          81.1748333582782,
          78.33619968519622,
          77.23849180368524,
          77.23849180368524,
          75.43394920704952,
          73.42932190440857,
          73.42932190440857,
          71.78626659513824,
          74.8313227433373,
          77.86102884559807,
          74.05322120807503,
          71.34532745239599,
          72.37901050966951,
          66.17531207094238,
          68.16323508450691,
          68.78614350735738,
          67.43829387622233,
          67.43829387622233,
          64.88091864361247,
          64.90215760980395,
          48.7529057627785,
          48.7529057627785,
          54.53691618053891,
          47.49486869712811,
          48.33398284727849,
          44.65107917121838,
          55.17235582706045,
          62.53123453257179,
          58.55265403350266,
          65.311083441129,
          65.311083441129,
          68.96064275133958,
          62.71023665555312,
          61.69190974931383,
          61.69190974931383,
          49.863567840106455,
          44.61450721899219,
          44.61450721899219,
          27.81456459396997,
          25.9429616848617,
          28.4320992940755,
          19.249802343251638,
          13.801111270851191,
          12.403941509863747,
          11.87367917393262,
          12.10347363185073,
          12.485324212260826,
          18.810632741429863,
          14.015781802052647,
          20.477682713195044,
          17.855456144356424,
          23.54808281020019,
          23.376776975395302,
          19.480940434301488,
          21.5249168853529,
          24.332556484632207,
          27.64448599224003,
          24.332556484632207,
          24.332556484632207,
          12.733401090766947,
          17.577193185550016,
          20.77478520997622,
          22.6737440506197,
          21.696222720157785,
          3.5160279885580996,
          4.307119621433835,
          8.83841937702277,
          17.00073524515205,
          18.179724360087306,
          18.620254087969407,
          18.855066746573478,
          22.17432140700482,
          32.4411857323365,
          41.05200994785274,
          32.021990739888885,
          30.213556818584912,
          20.285965308729565,
          24.06738224353602,
          31.37539006199446,
          39.4280767767013,
          42.9833117358782,
          25.51161896675673,
          25.51161896675673,
          39.77214407965068,
          41.51683884753189,
          60.63357734482473,
          62.319647092079805,
          64.58247007980839,
          66.26152133453283,
          66.3300290174782,
          66.15759952740353,
          48.652289839210525,
          41.51683884753189,
          32.98470394572368,
          26.742111353112573,
          26.254502937873227,
          26.276930845584104,
          25.713998793063258,
          29.10656892054445,
          26.742111353112573,
          30.466047112828598,
          30.466047112828598,
          25.316649428000595,
          33.30393678849292,
          44.19408582747385,
          32.942673796826064,
          32.942673796826064,
          22.17432140700482,
          32.913600420144135,
          39.353841990777596,
          56.32841499839624,
          57.87646975127997,
          54.311351972497334,
          49.691925548765745,
          68.06943132213298,
          43.94470807542824,
          30.82968356559758,
          31.441328102234394,
          8.162873726788941,
          20.884376715918393,
          19.11977841378986,
          40.99811049279955,
          34.80153736607195,
          16.17922273206828,
          27.588150845487405,
          40.63652356304709,
          57.66016259322201,
          59.603291294648756,
          57.66016259322201,
          56.882365997326346,
          50.51141990305593,
          49.762779208667524,
          49.51694587569878,
          47.160873550670885,
          50.6821980709076,
          58.49947771999157,
          55.94586434652577,
          58.99968605105671,
          56.279219062291475,
          55.56854679791132,
          58.62859004169134,
          58.62859004169134,
          57.51274447900852,
          57.51274447900852,
          50.10430276401169,
          52.718179890803036,
          56.50504844871189,
          45.303760425646175,
          51.75406131797168,
          54.85009233278318,
          58.68049709343725,
          57.94196907936889,
          51.75406131797168,
          48.62912536731858,
          51.75406131797168,
          47.48318633986605,
          41.28714753947467,
          39.25916779850068,
          20.657777470296082,
          18.908216971139616,
          24.290010299576224,
          19.850107547539086,
          29.785903679605845,
          17.788126437839544,
          27.19033752852424,
          25.69434794246626,
          22.7135195436377,
          22.44774438671566,
          21.738790448881286,
          41.43550245635605,
          39.49063271904938,
          45.15482608737054,
          61.08611428618943,
          70.87806959539682,
          74.72597408287703,
          75.48937959264396,
          76.38510127946398,
          78.14239103201487,
          77.55559072963601,
          72.16917157247039,
          71.36261690491548,
          70.74513887182951,
          63.44000382478324,
          64.71963429911568,
          68.87175293611665,
          68.87175293611665,
          67.95610060522546,
          65.32610807193603,
          61.0535203859838,
          56.183648221156176,
          50.31045321937488,
          46.94656509064767,
          51.31881852709012,
          45.110402212735295,
          48.49287100760435,
          65.40080580927761,
          52.65029252257977,
          59.89233004333488,
          68.30370354730152,
          64.71963429911568,
          63.44000382478324,
          39.109275267458045,
          23.734343018570996,
          22.525837231626895,
          21.436948342677336,
          22.525837231626895,
          22.525837231626895,
          20.6082631320684,
          22.525837231626895,
          22.525837231626895,
          22.525837231626895,
          26.56821526697125,
          22.525837231626895,
          8.090678361268395,
          4.0657761434761905,
          1.0840730319110519,
          1.4475967461129033,
          2.211820323381499,
          3.0058738340444533,
          4.4210856243223695,
          16.71537737228455,
          15.209662060025053,
          16.62764849995346,
          18.604340422888352,
          21.33388063319016,
          23.7937568670547,
          21.716307556382866,
          27.08007863667389,
          40.896085271878526,
          48.31948920162522,
          60.30425311820395,
          67.2765602229342,
          72.54650578300249,
          74.80718620796118,
          77.56626337988504,
          77.56626337988504,
          77.56626337988504,
          77.56626337988504,
          77.56626337988504,
          77.56626337988504,
          77.56626337988504,
          76.95318446614033,
          76.36598727259867,
          74.87772848849689,
          76.30643155474536,
          77.43074380062899,
          77.43074380062899,
          77.0836259721336,
          78.93159673662123,
          78.97686510048842,
          78.97686510048842,
          77.67082316567527,
          76.98340011595863,
          79.54505913914254,
          68.6809976689295,
          64.58747353339993,
          65.73039965795918,
          54.89304232642834,
          48.5896376817913,
          42.482109358986364,
          38.510215861903816,
          47.003825661205624,
          49.403555303444065,
          52.73454036124368,
          49.80243464617416,
          47.94853543444445,
          48.40783519427016,
          59.33374309836128,
          59.33374309836128,
          62.67602436057442,
          68.42560921844384,
          68.42560921844384,
          73.73715811298104,
          72.7283961516182,
          72.29943654171515,
          74.0069739302777,
          72.29943654171515,
          70.85076121012642,
          68.60499894936191,
          68.95736942051781,
          72.55829859868895,
          65.64180309457181,
          67.29558759908238,
          70.85076121012642,
          70.33177903955774,
          68.95736942051781,
          66.95121444485136,
          65.38605625351214,
          65.38605625351214,
          75.17535372903697,
          75.17535372903697,
          77.73402738534305,
          79.17466054933907,
          79.64611021511152,
          77.37554733807929,
          77.3570779920093,
          76.85735276711834,
          77.2543150681947,
          76.52550908795385,
          72.7283961516182,
          61.7464148610253,
          64.07664490323259,
          76.21575931138688,
          80.80016693397064,
          79.11107934322249,
          80.80016693397064,
          80.80016693397064,
          79.90894194214034,
          80.80016693397064,
          79.90894194214034,
          79.90894194214034,
          78.57286167106611,
          78.57286167106611,
          79.90894194214034,
          79.80525293462823,
          79.80525293462823,
          81.12131917467539,
          80.48288485520115,
          79.52836023039632,
          78.56250975920007,
          79.09713030662093,
          79.65371269295622,
          81.05895080533023,
          80.31747085036625,
          78.35868832736466,
          73.5369676828287,
          69.48143195627665,
          73.5369676828287,
          68.91681865907547,
          68.91681865907547,
          65.3578270925367,
          68.91681865907547,
          68.91681865907547,
          73.5369676828287,
          71.15314560685192,
          71.15314560685192,
          74.07049062047187,
          78.41980637355587,
          79.12767505972126,
          81.25326923138462,
          80.05453347610684,
          78.01521649701374,
          80.17753268902193,
          82.09861260378523,
          82.24305567623581,
          78.01521649701374,
          78.01521649701374,
          76.2958785980439,
          72.28381790618201,
          74.52264278346556,
          74.41184953853579,
          77.32919455215573,
          79.34666478994146,
          77.32919455215573,
          65.15463680961437,
          65.98092244762776,
          65.38807662578587,
          71.73293001343671,
          63.89558734508559,
          50.97287326734265,
          56.14600338882867,
          55.00658379082049,
          57.415453404414734,
          55.464744151569626,
          50.735075029688986,
          63.519881223590815,
          69.01414415559623,
          75.4794032217292,
          75.4794032217292,
          78.77764797747818,
          78.77764797747818,
          77.6591868217882,
          76.56101344740928,
          78.80560341888665,
          73.54162129867646,
          73.54162129867646,
          74.36358724540568,
          70.83703070466453,
          73.11891327005955,
          76.56101344740928,
          77.67947460309927,
          79.64264059345626,
          67.37654322149655,
          64.94273133095301,
          60.137738603884614,
          57.55780263370674,
          61.30237349823412,
          64.02546229206604,
          54.25162135260478,
          43.157478649861424,
          39.782626327381564,
          46.12148478839286,
          52.58395347017067,
          24.994901465744068,
          22.650457025286677,
          18.752919801904017,
          12.963305322614847,
          6.688045053259691,
          6.4137173822358005,
          7.890412923850958,
          11.277685209454635,
          10.703307215283772,
          16.518798693656553,
          27.63284478801053,
          35.94765361928346,
          38.536903022455874,
          55.39178921639706,
          57.487381698230486,
          50.66396231065427,
          52.14336353539177,
          74.15006315173116,
          63.85425019550708,
          71.15745592889601,
          65.53427930951614,
          67.72218047368719,
          67.72218047368719,
          71.9557157588516,
          73.96439780075616,
          74.39714339285584,
          74.39714339285584,
          78.15147726334249,
          78.6646221381325,
          79.30008867637721,
          81.23754546301419,
          82.07958246717949,
          82.07958246717949,
          82.07958246717949,
          82.37399764096945,
          82.37399764096945,
          82.37399764096945,
          82.37399764096945,
          81.89633825045662,
          81.89633825045662,
          81.06915712292411,
          81.06915712292411,
          80.90679705490992,
          79.94899721748256,
          79.15674437540719,
          79.74627800547367,
          78.72235880325468,
          79.15674437540719,
          76.2271866922219,
          76.97700453896837,
          74.53454008681757,
          79.1640437033408,
          72.4263447958327,
          77.0601612776291,
          71.51936832697409,
          58.74289201276558,
          66.16587733488205,
          54.51028226933971,
          51.76075898801902,
          56.12709019913689,
          64.06995456088052,
          56.12709019913689,
          55.751752000326675,
          59.82150898361069,
          67.39004910864935,
          66.33824138797492,
          69.0610142874188,
          69.0610142874188,
          72.99169871668589,
          74.74801466432137,
          76.66168631835771
         ],
         "yaxis": "y"
        }
       ],
       "layout": {
        "legend": {
         "title": {
          "text": "variable"
         },
         "tracegroupgap": 0
        },
        "margin": {
         "t": 60
        },
        "template": {
         "data": {
          "bar": [
           {
            "error_x": {
             "color": "#2a3f5f"
            },
            "error_y": {
             "color": "#2a3f5f"
            },
            "marker": {
             "line": {
              "color": "#E5ECF6",
              "width": 0.5
             },
             "pattern": {
              "fillmode": "overlay",
              "size": 10,
              "solidity": 0.2
             }
            },
            "type": "bar"
           }
          ],
          "barpolar": [
           {
            "marker": {
             "line": {
              "color": "#E5ECF6",
              "width": 0.5
             },
             "pattern": {
              "fillmode": "overlay",
              "size": 10,
              "solidity": 0.2
             }
            },
            "type": "barpolar"
           }
          ],
          "carpet": [
           {
            "aaxis": {
             "endlinecolor": "#2a3f5f",
             "gridcolor": "white",
             "linecolor": "white",
             "minorgridcolor": "white",
             "startlinecolor": "#2a3f5f"
            },
            "baxis": {
             "endlinecolor": "#2a3f5f",
             "gridcolor": "white",
             "linecolor": "white",
             "minorgridcolor": "white",
             "startlinecolor": "#2a3f5f"
            },
            "type": "carpet"
           }
          ],
          "choropleth": [
           {
            "colorbar": {
             "outlinewidth": 0,
             "ticks": ""
            },
            "type": "choropleth"
           }
          ],
          "contour": [
           {
            "colorbar": {
             "outlinewidth": 0,
             "ticks": ""
            },
            "colorscale": [
             [
              0,
              "#0d0887"
             ],
             [
              0.1111111111111111,
              "#46039f"
             ],
             [
              0.2222222222222222,
              "#7201a8"
             ],
             [
              0.3333333333333333,
              "#9c179e"
             ],
             [
              0.4444444444444444,
              "#bd3786"
             ],
             [
              0.5555555555555556,
              "#d8576b"
             ],
             [
              0.6666666666666666,
              "#ed7953"
             ],
             [
              0.7777777777777778,
              "#fb9f3a"
             ],
             [
              0.8888888888888888,
              "#fdca26"
             ],
             [
              1,
              "#f0f921"
             ]
            ],
            "type": "contour"
           }
          ],
          "contourcarpet": [
           {
            "colorbar": {
             "outlinewidth": 0,
             "ticks": ""
            },
            "type": "contourcarpet"
           }
          ],
          "heatmap": [
           {
            "colorbar": {
             "outlinewidth": 0,
             "ticks": ""
            },
            "colorscale": [
             [
              0,
              "#0d0887"
             ],
             [
              0.1111111111111111,
              "#46039f"
             ],
             [
              0.2222222222222222,
              "#7201a8"
             ],
             [
              0.3333333333333333,
              "#9c179e"
             ],
             [
              0.4444444444444444,
              "#bd3786"
             ],
             [
              0.5555555555555556,
              "#d8576b"
             ],
             [
              0.6666666666666666,
              "#ed7953"
             ],
             [
              0.7777777777777778,
              "#fb9f3a"
             ],
             [
              0.8888888888888888,
              "#fdca26"
             ],
             [
              1,
              "#f0f921"
             ]
            ],
            "type": "heatmap"
           }
          ],
          "heatmapgl": [
           {
            "colorbar": {
             "outlinewidth": 0,
             "ticks": ""
            },
            "colorscale": [
             [
              0,
              "#0d0887"
             ],
             [
              0.1111111111111111,
              "#46039f"
             ],
             [
              0.2222222222222222,
              "#7201a8"
             ],
             [
              0.3333333333333333,
              "#9c179e"
             ],
             [
              0.4444444444444444,
              "#bd3786"
             ],
             [
              0.5555555555555556,
              "#d8576b"
             ],
             [
              0.6666666666666666,
              "#ed7953"
             ],
             [
              0.7777777777777778,
              "#fb9f3a"
             ],
             [
              0.8888888888888888,
              "#fdca26"
             ],
             [
              1,
              "#f0f921"
             ]
            ],
            "type": "heatmapgl"
           }
          ],
          "histogram": [
           {
            "marker": {
             "pattern": {
              "fillmode": "overlay",
              "size": 10,
              "solidity": 0.2
             }
            },
            "type": "histogram"
           }
          ],
          "histogram2d": [
           {
            "colorbar": {
             "outlinewidth": 0,
             "ticks": ""
            },
            "colorscale": [
             [
              0,
              "#0d0887"
             ],
             [
              0.1111111111111111,
              "#46039f"
             ],
             [
              0.2222222222222222,
              "#7201a8"
             ],
             [
              0.3333333333333333,
              "#9c179e"
             ],
             [
              0.4444444444444444,
              "#bd3786"
             ],
             [
              0.5555555555555556,
              "#d8576b"
             ],
             [
              0.6666666666666666,
              "#ed7953"
             ],
             [
              0.7777777777777778,
              "#fb9f3a"
             ],
             [
              0.8888888888888888,
              "#fdca26"
             ],
             [
              1,
              "#f0f921"
             ]
            ],
            "type": "histogram2d"
           }
          ],
          "histogram2dcontour": [
           {
            "colorbar": {
             "outlinewidth": 0,
             "ticks": ""
            },
            "colorscale": [
             [
              0,
              "#0d0887"
             ],
             [
              0.1111111111111111,
              "#46039f"
             ],
             [
              0.2222222222222222,
              "#7201a8"
             ],
             [
              0.3333333333333333,
              "#9c179e"
             ],
             [
              0.4444444444444444,
              "#bd3786"
             ],
             [
              0.5555555555555556,
              "#d8576b"
             ],
             [
              0.6666666666666666,
              "#ed7953"
             ],
             [
              0.7777777777777778,
              "#fb9f3a"
             ],
             [
              0.8888888888888888,
              "#fdca26"
             ],
             [
              1,
              "#f0f921"
             ]
            ],
            "type": "histogram2dcontour"
           }
          ],
          "mesh3d": [
           {
            "colorbar": {
             "outlinewidth": 0,
             "ticks": ""
            },
            "type": "mesh3d"
           }
          ],
          "parcoords": [
           {
            "line": {
             "colorbar": {
              "outlinewidth": 0,
              "ticks": ""
             }
            },
            "type": "parcoords"
           }
          ],
          "pie": [
           {
            "automargin": true,
            "type": "pie"
           }
          ],
          "scatter": [
           {
            "fillpattern": {
             "fillmode": "overlay",
             "size": 10,
             "solidity": 0.2
            },
            "type": "scatter"
           }
          ],
          "scatter3d": [
           {
            "line": {
             "colorbar": {
              "outlinewidth": 0,
              "ticks": ""
             }
            },
            "marker": {
             "colorbar": {
              "outlinewidth": 0,
              "ticks": ""
             }
            },
            "type": "scatter3d"
           }
          ],
          "scattercarpet": [
           {
            "marker": {
             "colorbar": {
              "outlinewidth": 0,
              "ticks": ""
             }
            },
            "type": "scattercarpet"
           }
          ],
          "scattergeo": [
           {
            "marker": {
             "colorbar": {
              "outlinewidth": 0,
              "ticks": ""
             }
            },
            "type": "scattergeo"
           }
          ],
          "scattergl": [
           {
            "marker": {
             "colorbar": {
              "outlinewidth": 0,
              "ticks": ""
             }
            },
            "type": "scattergl"
           }
          ],
          "scattermapbox": [
           {
            "marker": {
             "colorbar": {
              "outlinewidth": 0,
              "ticks": ""
             }
            },
            "type": "scattermapbox"
           }
          ],
          "scatterpolar": [
           {
            "marker": {
             "colorbar": {
              "outlinewidth": 0,
              "ticks": ""
             }
            },
            "type": "scatterpolar"
           }
          ],
          "scatterpolargl": [
           {
            "marker": {
             "colorbar": {
              "outlinewidth": 0,
              "ticks": ""
             }
            },
            "type": "scatterpolargl"
           }
          ],
          "scatterternary": [
           {
            "marker": {
             "colorbar": {
              "outlinewidth": 0,
              "ticks": ""
             }
            },
            "type": "scatterternary"
           }
          ],
          "surface": [
           {
            "colorbar": {
             "outlinewidth": 0,
             "ticks": ""
            },
            "colorscale": [
             [
              0,
              "#0d0887"
             ],
             [
              0.1111111111111111,
              "#46039f"
             ],
             [
              0.2222222222222222,
              "#7201a8"
             ],
             [
              0.3333333333333333,
              "#9c179e"
             ],
             [
              0.4444444444444444,
              "#bd3786"
             ],
             [
              0.5555555555555556,
              "#d8576b"
             ],
             [
              0.6666666666666666,
              "#ed7953"
             ],
             [
              0.7777777777777778,
              "#fb9f3a"
             ],
             [
              0.8888888888888888,
              "#fdca26"
             ],
             [
              1,
              "#f0f921"
             ]
            ],
            "type": "surface"
           }
          ],
          "table": [
           {
            "cells": {
             "fill": {
              "color": "#EBF0F8"
             },
             "line": {
              "color": "white"
             }
            },
            "header": {
             "fill": {
              "color": "#C8D4E3"
             },
             "line": {
              "color": "white"
             }
            },
            "type": "table"
           }
          ]
         },
         "layout": {
          "annotationdefaults": {
           "arrowcolor": "#2a3f5f",
           "arrowhead": 0,
           "arrowwidth": 1
          },
          "autotypenumbers": "strict",
          "coloraxis": {
           "colorbar": {
            "outlinewidth": 0,
            "ticks": ""
           }
          },
          "colorscale": {
           "diverging": [
            [
             0,
             "#8e0152"
            ],
            [
             0.1,
             "#c51b7d"
            ],
            [
             0.2,
             "#de77ae"
            ],
            [
             0.3,
             "#f1b6da"
            ],
            [
             0.4,
             "#fde0ef"
            ],
            [
             0.5,
             "#f7f7f7"
            ],
            [
             0.6,
             "#e6f5d0"
            ],
            [
             0.7,
             "#b8e186"
            ],
            [
             0.8,
             "#7fbc41"
            ],
            [
             0.9,
             "#4d9221"
            ],
            [
             1,
             "#276419"
            ]
           ],
           "sequential": [
            [
             0,
             "#0d0887"
            ],
            [
             0.1111111111111111,
             "#46039f"
            ],
            [
             0.2222222222222222,
             "#7201a8"
            ],
            [
             0.3333333333333333,
             "#9c179e"
            ],
            [
             0.4444444444444444,
             "#bd3786"
            ],
            [
             0.5555555555555556,
             "#d8576b"
            ],
            [
             0.6666666666666666,
             "#ed7953"
            ],
            [
             0.7777777777777778,
             "#fb9f3a"
            ],
            [
             0.8888888888888888,
             "#fdca26"
            ],
            [
             1,
             "#f0f921"
            ]
           ],
           "sequentialminus": [
            [
             0,
             "#0d0887"
            ],
            [
             0.1111111111111111,
             "#46039f"
            ],
            [
             0.2222222222222222,
             "#7201a8"
            ],
            [
             0.3333333333333333,
             "#9c179e"
            ],
            [
             0.4444444444444444,
             "#bd3786"
            ],
            [
             0.5555555555555556,
             "#d8576b"
            ],
            [
             0.6666666666666666,
             "#ed7953"
            ],
            [
             0.7777777777777778,
             "#fb9f3a"
            ],
            [
             0.8888888888888888,
             "#fdca26"
            ],
            [
             1,
             "#f0f921"
            ]
           ]
          },
          "colorway": [
           "#636efa",
           "#EF553B",
           "#00cc96",
           "#ab63fa",
           "#FFA15A",
           "#19d3f3",
           "#FF6692",
           "#B6E880",
           "#FF97FF",
           "#FECB52"
          ],
          "font": {
           "color": "#2a3f5f"
          },
          "geo": {
           "bgcolor": "white",
           "lakecolor": "white",
           "landcolor": "#E5ECF6",
           "showlakes": true,
           "showland": true,
           "subunitcolor": "white"
          },
          "hoverlabel": {
           "align": "left"
          },
          "hovermode": "closest",
          "mapbox": {
           "style": "light"
          },
          "paper_bgcolor": "white",
          "plot_bgcolor": "#E5ECF6",
          "polar": {
           "angularaxis": {
            "gridcolor": "white",
            "linecolor": "white",
            "ticks": ""
           },
           "bgcolor": "#E5ECF6",
           "radialaxis": {
            "gridcolor": "white",
            "linecolor": "white",
            "ticks": ""
           }
          },
          "scene": {
           "xaxis": {
            "backgroundcolor": "#E5ECF6",
            "gridcolor": "white",
            "gridwidth": 2,
            "linecolor": "white",
            "showbackground": true,
            "ticks": "",
            "zerolinecolor": "white"
           },
           "yaxis": {
            "backgroundcolor": "#E5ECF6",
            "gridcolor": "white",
            "gridwidth": 2,
            "linecolor": "white",
            "showbackground": true,
            "ticks": "",
            "zerolinecolor": "white"
           },
           "zaxis": {
            "backgroundcolor": "#E5ECF6",
            "gridcolor": "white",
            "gridwidth": 2,
            "linecolor": "white",
            "showbackground": true,
            "ticks": "",
            "zerolinecolor": "white"
           }
          },
          "shapedefaults": {
           "line": {
            "color": "#2a3f5f"
           }
          },
          "ternary": {
           "aaxis": {
            "gridcolor": "white",
            "linecolor": "white",
            "ticks": ""
           },
           "baxis": {
            "gridcolor": "white",
            "linecolor": "white",
            "ticks": ""
           },
           "bgcolor": "#E5ECF6",
           "caxis": {
            "gridcolor": "white",
            "linecolor": "white",
            "ticks": ""
           }
          },
          "title": {
           "x": 0.05
          },
          "xaxis": {
           "automargin": true,
           "gridcolor": "white",
           "linecolor": "white",
           "ticks": "",
           "title": {
            "standoff": 15
           },
           "zerolinecolor": "white",
           "zerolinewidth": 2
          },
          "yaxis": {
           "automargin": true,
           "gridcolor": "white",
           "linecolor": "white",
           "ticks": "",
           "title": {
            "standoff": 15
           },
           "zerolinecolor": "white",
           "zerolinewidth": 2
          }
         }
        },
        "xaxis": {
         "anchor": "y",
         "domain": [
          0,
          1
         ],
         "title": {
          "text": "index"
         }
        },
        "yaxis": {
         "anchor": "x",
         "domain": [
          0,
          1
         ],
         "title": {
          "text": "value"
         }
        }
       }
      }
     },
     "metadata": {},
     "output_type": "display_data"
    }
   ],
   "source": [
    "import plotly.express as px\n",
    "\n",
    "df = pd.DataFrame({\"y_true\": y_true, \"y_preds\": y_preds}).head(500)\n",
    "fig = px.line(df, y=[\"y_true\", \"y_preds\"], title='')\n",
    "fig.show()"
   ]
  }
 ],
 "metadata": {
  "kernelspec": {
   "display_name": "venv-sail",
   "language": "python",
   "name": "python3"
  },
  "language_info": {
   "codemirror_mode": {
    "name": "ipython",
    "version": 3
   },
   "file_extension": ".py",
   "mimetype": "text/x-python",
   "name": "python",
   "nbconvert_exporter": "python",
   "pygments_lexer": "ipython3",
   "version": "3.10.10"
  },
  "orig_nbformat": 4
 },
 "nbformat": 4,
 "nbformat_minor": 2
}
