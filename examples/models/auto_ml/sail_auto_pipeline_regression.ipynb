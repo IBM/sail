{
 "cells": [
  {
   "cell_type": "code",
   "execution_count": 1,
   "metadata": {},
   "outputs": [],
   "source": [
    "import numpy as np\n",
    "import pandas as pd\n",
    "from river import optim\n",
    "from river import metrics\n",
    "from river.drift.binary import EDDM\n",
    "from sail.models.auto_ml.tune import SAILTuneGridSearchCV\n",
    "from sail.models.river.forest import AdaptiveRandomForestRegressor\n",
    "from sail.models.river.linear_model import LinearRegression\n",
    "from sail.models.auto_ml.auto_pipeline import SAILAutoPipeline\n",
    "from sail.pipeline import SAILPipeline\n",
    "from sklearn.impute import SimpleImputer\n",
    "from sail.drift_detection.drift_detector import SAILDriftDetector\n",
    "from sail.transformers.river.preprocessing import StandardScaler"
   ]
  },
  {
   "attachments": {},
   "cell_type": "markdown",
   "metadata": {},
   "source": [
    "#### Load Data\n"
   ]
  },
  {
   "cell_type": "code",
   "execution_count": 2,
   "metadata": {},
   "outputs": [],
   "source": [
    "X = pd.read_csv(\"../../datasets/HDWF2.csv\")\n",
    "\n",
    "y = X[\"power\"]\n",
    "X.drop([\"power\", \"time\"], axis=1, inplace=True)"
   ]
  },
  {
   "attachments": {},
   "cell_type": "markdown",
   "metadata": {},
   "source": [
    "#### Model Definition\n"
   ]
  },
  {
   "cell_type": "code",
   "execution_count": 3,
   "metadata": {},
   "outputs": [],
   "source": [
    "linear_reg = LinearRegression(optimizer=optim.SGD(0.1))\n",
    "random_forest = AdaptiveRandomForestRegressor()"
   ]
  },
  {
   "attachments": {},
   "cell_type": "markdown",
   "metadata": {},
   "source": [
    "#### Create SAIL Pipeline\n"
   ]
  },
  {
   "cell_type": "code",
   "execution_count": 4,
   "metadata": {},
   "outputs": [],
   "source": [
    "steps = [\n",
    "    (\"Imputer\", SimpleImputer(missing_values=np.nan, strategy=\"mean\")),\n",
    "    (\"standard_scalar\", StandardScaler()),\n",
    "    (\"regressor\", \"passthrough\"),\n",
    "]\n",
    "sail_pipeline = SAILPipeline(steps=steps, scoring=metrics.R2, verbosity_level=1, verbosity_interval=2)"
   ]
  },
  {
   "attachments": {},
   "cell_type": "markdown",
   "metadata": {},
   "source": [
    "#### HPO Params\n"
   ]
  },
  {
   "cell_type": "code",
   "execution_count": 5,
   "metadata": {},
   "outputs": [],
   "source": [
    "params_grid = [\n",
    "    {\n",
    "        \"regressor\": [linear_reg],\n",
    "        \"regressor__l2\": [0.1, 0.9],\n",
    "        \"regressor__intercept_init\": [0.2, 0.5],\n",
    "    },\n",
    "    {\n",
    "        \"regressor\": [random_forest],\n",
    "        \"regressor__n_models\": [10, 15, 20]\n",
    "    },\n",
    "]"
   ]
  },
  {
   "attachments": {},
   "cell_type": "markdown",
   "metadata": {},
   "source": [
    "#### Create Model Instance\n"
   ]
  },
  {
   "cell_type": "code",
   "execution_count": 6,
   "metadata": {},
   "outputs": [
    {
     "name": "stderr",
     "output_type": "stream",
     "text": [
      "/var/folders/gd/k9gshwns6mbb7q8c7yldbl9m0000gn/T/ipykernel_82657/3845660701.py:7: DeprecationWarning: Call to deprecated method __init__. (Since v1.35, the Jaeger supports OTLP natively. Please use the OTLP exporter instead. Support for this exporter will end July 2023.) -- Deprecated since version 1.16.0.\n",
      "  exporter = JaegerExporter(\n"
     ]
    }
   ],
   "source": [
    "from opentelemetry.exporter.otlp.proto.http.trace_exporter import OTLPSpanExporter\n",
    "from opentelemetry.exporter.jaeger.thrift import JaegerExporter\n",
    "from sail.telemetry import TracingClient\n",
    "# exporter = OTLPSpanExporter(\n",
    "#     endpoint=\"http://localhost:4318/\"\n",
    "# )\n",
    "exporter = JaegerExporter(\n",
    "    agent_host_name=\"localhost\",\n",
    "    agent_port=6831,\n",
    ")\n",
    "\n",
    "tracer = TracingClient(service_name=\"SAIL_Testing\", span_exporter=exporter)"
   ]
  },
  {
   "cell_type": "code",
   "execution_count": 7,
   "metadata": {},
   "outputs": [
    {
     "name": "stderr",
     "output_type": "stream",
     "text": [
      "[2023-09-20 01:27:02:55] - INFO - SAIL (PipelineStrategy) - Pipeline Strategy [DetectAndIncrement] created with actions: ['DATA_COLLECTION', 'FIND_BEST_PIPELINE', 'SCORE_AND_DETECT_DRIFT', 'PARTIAL_FIT_MODEL']\n"
     ]
    }
   ],
   "source": [
    "auto_pipeline = SAILAutoPipeline(\n",
    "    pipeline=sail_pipeline,\n",
    "    pipeline_params_grid=params_grid,\n",
    "    search_method=SAILTuneGridSearchCV,\n",
    "    search_method_params={\n",
    "        \"num_cpus_per_trial\": 1,\n",
    "        \"max_iters\": 1,\n",
    "        \"early_stopping\": False,\n",
    "        \"mode\": \"max\",\n",
    "        \"scoring\": \"r2\",\n",
    "        \"pipeline_auto_early_stop\": False,\n",
    "        \"keep_best_configurations\": 2,\n",
    "        # \"runtime_env\": {\n",
    "        #     \"py_modules\": [sail],\n",
    "        #     \"pip\": [\n",
    "        #         \"scikit-learn>=1.2\",\n",
    "        #         \"logzero\",\n",
    "        #         \"numpy>=1.23\",\n",
    "        #         \"river==0.14.*\",\n",
    "        #         \"ray>=2.5\",\n",
    "        #         \"tune_sklearn\",\n",
    "        #         \"dill\",\n",
    "        #         \"ipython\",\n",
    "        #     ],\n",
    "        # },\n",
    "        # \"namespace\": \"sail-tune\",\n",
    "        # \"cluster_address\": \"ray://localhost:10001\"\n",
    "    },\n",
    "    search_data_size=500,\n",
    "    incremental_training=True,\n",
    "    drift_detector=SAILDriftDetector(model=EDDM(), drift_param=\"difference\"),\n",
    "    pipeline_strategy=\"DetectAndIncrement\",\n",
    "    verbosity_level=1, \n",
    "    verbosity_interval=2,\n",
    "    tensorboard_log_dir=None,\n",
    "    tracer=tracer\n",
    ")"
   ]
  },
  {
   "attachments": {},
   "cell_type": "markdown",
   "metadata": {},
   "source": [
    "#### Start Training\n"
   ]
  },
  {
   "cell_type": "code",
   "execution_count": 8,
   "metadata": {},
   "outputs": [],
   "source": [
    "y_preds = []\n",
    "y_true = []\n",
    "batch_size = 50"
   ]
  },
  {
   "cell_type": "code",
   "execution_count": 9,
   "metadata": {},
   "outputs": [
    {
     "data": {
      "text/html": [
       "<div class=\"tuneStatus\">\n",
       "  <div style=\"display: flex;flex-direction: row\">\n",
       "    <div style=\"display: flex;flex-direction: column;\">\n",
       "      <h3>Tune Status</h3>\n",
       "      <table>\n",
       "<tbody>\n",
       "<tr><td>Current time:</td><td>2023-09-20 01:27:16</td></tr>\n",
       "<tr><td>Running for: </td><td>00:00:11.18        </td></tr>\n",
       "<tr><td>Memory:      </td><td>34.1/64.0 GiB      </td></tr>\n",
       "</tbody>\n",
       "</table>\n",
       "    </div>\n",
       "    <div class=\"vDivider\"></div>\n",
       "    <div class=\"systemInfo\">\n",
       "      <h3>System Info</h3>\n",
       "      Using FIFO scheduling algorithm.<br>Logical resource usage: 1.0/10 CPUs, 0/0 GPUs\n",
       "    </div>\n",
       "    \n",
       "  </div>\n",
       "  <div class=\"hDivider\"></div>\n",
       "  <div class=\"trialStatus\">\n",
       "    <h3>Trial Status</h3>\n",
       "    <table>\n",
       "<thead>\n",
       "<tr><th>Trial name         </th><th>status    </th><th>loc            </th><th>regressor           </th><th style=\"text-align: right;\">    regressor__intercept\n",
       "_init</th><th style=\"text-align: right;\">  regressor__l2</th><th style=\"text-align: right;\">  regressor__n_models</th><th style=\"text-align: right;\">  iter</th><th style=\"text-align: right;\">  total time (s)</th><th style=\"text-align: right;\">  split0_test_score</th><th style=\"text-align: right;\">  split1_test_score</th><th style=\"text-align: right;\">  split2_test_score</th></tr>\n",
       "</thead>\n",
       "<tbody>\n",
       "<tr><td>_Trainable_cda70e58</td><td>TERMINATED</td><td>127.0.0.1:82709</td><td>LinearRegressio_d030</td><td style=\"text-align: right;\">0.2</td><td style=\"text-align: right;\">            0.1</td><td style=\"text-align: right;\">                     </td><td style=\"text-align: right;\">     1</td><td style=\"text-align: right;\">       0.075779 </td><td style=\"text-align: right;\">       -4.62577e+19</td><td style=\"text-align: right;\">       -3.78536e+19</td><td style=\"text-align: right;\">       -3.36403e+19</td></tr>\n",
       "<tr><td>_Trainable_4644cab5</td><td>TERMINATED</td><td>127.0.0.1:82709</td><td>LinearRegressio_bc70</td><td style=\"text-align: right;\">0.2</td><td style=\"text-align: right;\">            0.9</td><td style=\"text-align: right;\">                     </td><td style=\"text-align: right;\">     1</td><td style=\"text-align: right;\">       0.0787027</td><td style=\"text-align: right;\">       -1.49113e+19</td><td style=\"text-align: right;\">       -3.12472e+16</td><td style=\"text-align: right;\">       -3.01217e+19</td></tr>\n",
       "<tr><td>_Trainable_c8a1f06c</td><td>TERMINATED</td><td>127.0.0.1:82709</td><td>LinearRegressio_6b90</td><td style=\"text-align: right;\">0.5</td><td style=\"text-align: right;\">            0.1</td><td style=\"text-align: right;\">                     </td><td style=\"text-align: right;\">     1</td><td style=\"text-align: right;\">       0.0877259</td><td style=\"text-align: right;\">       -8.73394e+19</td><td style=\"text-align: right;\">       -4.91866e+18</td><td style=\"text-align: right;\">       -2.5045e+19 </td></tr>\n",
       "<tr><td>_Trainable_8ddb8116</td><td>TERMINATED</td><td>127.0.0.1:82709</td><td>LinearRegressio_7460</td><td style=\"text-align: right;\">0.5</td><td style=\"text-align: right;\">            0.9</td><td style=\"text-align: right;\">                     </td><td style=\"text-align: right;\">     1</td><td style=\"text-align: right;\">       0.0921948</td><td style=\"text-align: right;\">       -1.50236e+19</td><td style=\"text-align: right;\">       -1.17498e+17</td><td style=\"text-align: right;\">       -4.56942e+19</td></tr>\n",
       "<tr><td>_Trainable_a32d0081</td><td>TERMINATED</td><td>127.0.0.1:82709</td><td>AdaptiveRandomF_2dd0</td><td style=\"text-align: right;\">   </td><td style=\"text-align: right;\">               </td><td style=\"text-align: right;\">                   10</td><td style=\"text-align: right;\">     1</td><td style=\"text-align: right;\">       3.03984  </td><td style=\"text-align: right;\">        0.651683   </td><td style=\"text-align: right;\">       -0.360044   </td><td style=\"text-align: right;\">       -0.316892   </td></tr>\n",
       "<tr><td>_Trainable_b163b24f</td><td>TERMINATED</td><td>127.0.0.1:82726</td><td>AdaptiveRandomF_5510</td><td style=\"text-align: right;\">   </td><td style=\"text-align: right;\">               </td><td style=\"text-align: right;\">                   15</td><td style=\"text-align: right;\">     1</td><td style=\"text-align: right;\">       4.0805   </td><td style=\"text-align: right;\">        0.565945   </td><td style=\"text-align: right;\">       -0.222326   </td><td style=\"text-align: right;\">       -0.277681   </td></tr>\n",
       "<tr><td>_Trainable_6e179f53</td><td>TERMINATED</td><td>127.0.0.1:82709</td><td>AdaptiveRandomF_2bf0</td><td style=\"text-align: right;\">   </td><td style=\"text-align: right;\">               </td><td style=\"text-align: right;\">                   20</td><td style=\"text-align: right;\">     1</td><td style=\"text-align: right;\">       5.3829   </td><td style=\"text-align: right;\">        0.590186   </td><td style=\"text-align: right;\">       -0.384593   </td><td style=\"text-align: right;\">       -0.373371   </td></tr>\n",
       "</tbody>\n",
       "</table>\n",
       "  </div>\n",
       "</div>\n",
       "<style>\n",
       ".tuneStatus {\n",
       "  color: var(--jp-ui-font-color1);\n",
       "}\n",
       ".tuneStatus .systemInfo {\n",
       "  display: flex;\n",
       "  flex-direction: column;\n",
       "}\n",
       ".tuneStatus td {\n",
       "  white-space: nowrap;\n",
       "}\n",
       ".tuneStatus .trialStatus {\n",
       "  display: flex;\n",
       "  flex-direction: column;\n",
       "}\n",
       ".tuneStatus h3 {\n",
       "  font-weight: bold;\n",
       "}\n",
       ".tuneStatus .hDivider {\n",
       "  border-bottom-width: var(--jp-border-width);\n",
       "  border-bottom-color: var(--jp-border-color0);\n",
       "  border-bottom-style: solid;\n",
       "}\n",
       ".tuneStatus .vDivider {\n",
       "  border-left-width: var(--jp-border-width);\n",
       "  border-left-color: var(--jp-border-color0);\n",
       "  border-left-style: solid;\n",
       "  margin: 0.5em 1em 0.5em 1em;\n",
       "}\n",
       "</style>\n"
      ],
      "text/plain": [
       "<IPython.core.display.HTML object>"
      ]
     },
     "metadata": {},
     "output_type": "display_data"
    },
    {
     "name": "stderr",
     "output_type": "stream",
     "text": [
      "2023-09-20 01:27:16,259\tINFO tune.py:1148 -- Total run time: 11.19 seconds (11.18 seconds for the tuning loop).\n"
     ]
    },
    {
     "name": "stdout",
     "output_type": "stream",
     "text": [
      "\n",
      ">>> Epoch: 1 | Samples Seen: 0 -------------------------------------------------------------------------------------\n"
     ]
    },
    {
     "name": "stderr",
     "output_type": "stream",
     "text": [
      "SAIL Pipeline fit: 100%========== [Steps: 3/3, ETA: 00:01<00:00, Elapsed:1.440s, Batch Size=500, Score=0.726]            \n",
      "[2023-09-20 01:27:19:309] - INFO - SAIL (PipelineStrategy) - Pipeline tuning completed. Disconnecting Ray cluster...\n",
      "[2023-09-20 01:27:19:310] - INFO - SAIL (PipelineStrategy) - Found best params: {'regressor': AdaptiveRandomForestRegressor(drift_detector=ADWIN (\n",
      "      delta=0.001\n",
      "      clock=32\n",
      "      max_buckets=5\n",
      "      min_window_length=5\n",
      "      grace_period=10\n",
      "    ),\n",
      "                                  metric=MSE: 0., n_models=20,\n",
      "                                  warning_detector=ADWIN (\n",
      "      delta=0.01\n",
      "      clock=32\n",
      "      max_buckets=5\n",
      "      min_window_length=5\n",
      "      grace_period=10\n",
      "    )), 'regressor__n_models': 20}\n"
     ]
    },
    {
     "name": "stdout",
     "output_type": "stream",
     "text": [
      "\n",
      ">>> Epoch: 12 | Samples Seen: 550 -------------------------------------------------------------------------------------\n"
     ]
    },
    {
     "name": "stderr",
     "output_type": "stream",
     "text": [
      "SAIL Pipeline Progressive Score: 100%========== [Points: 50/50, Elapsed:0.0014s, Metric=R2, Batch Size=50, P_Score=0.586]\n",
      "SAIL Drift detection: 100%========== [Points: 50/50, Elapsed:0.0011s, Detector=EDDM, Batch Size=50, Param=differene, Drift=No]\n",
      "SAIL Pipeline Partial fit: 100%========== [Steps: 3/3, ETA: 00:00<00:00, Elapsed:0.177s, Batch Size=50, P_Score=0.586]            \n"
     ]
    },
    {
     "name": "stdout",
     "output_type": "stream",
     "text": [
      "\n",
      ">>> Epoch: 14 | Samples Seen: 650 -------------------------------------------------------------------------------------\n"
     ]
    },
    {
     "name": "stderr",
     "output_type": "stream",
     "text": [
      "SAIL Pipeline Progressive Score: 100%========== [Points: 50/50, Elapsed:0.0016s, Metric=R2, Batch Size=50, P_Score=0.516]\n",
      "SAIL Drift detection: 100%========== [Points: 50/50, Elapsed:0.0009s, Detector=EDDM, Batch Size=50, Param=differene, Drift=No]\n",
      "SAIL Pipeline Partial fit: 100%========== [Steps: 3/3, ETA: 00:00<00:00, Elapsed:0.188s, Batch Size=50, P_Score=0.516]            \n"
     ]
    },
    {
     "name": "stdout",
     "output_type": "stream",
     "text": [
      "\n",
      ">>> Epoch: 16 | Samples Seen: 750 -------------------------------------------------------------------------------------\n"
     ]
    },
    {
     "name": "stderr",
     "output_type": "stream",
     "text": [
      "SAIL Pipeline Progressive Score: 100%========== [Points: 50/50, Elapsed:0.0012s, Metric=R2, Batch Size=50, P_Score=0.604]\n",
      "SAIL Drift detection: 100%========== [Points: 50/50, Elapsed:0.0008s, Detector=EDDM, Batch Size=50, Param=differene, Drift=No]\n",
      "SAIL Pipeline Partial fit: 100%========== [Steps: 3/3, ETA: 00:00<00:00, Elapsed:0.178s, Batch Size=50, P_Score=0.604]            \n"
     ]
    },
    {
     "name": "stdout",
     "output_type": "stream",
     "text": [
      "\n",
      ">>> Epoch: 18 | Samples Seen: 850 -------------------------------------------------------------------------------------\n"
     ]
    },
    {
     "name": "stderr",
     "output_type": "stream",
     "text": [
      "SAIL Pipeline Progressive Score: 100%========== [Points: 50/50, Elapsed:0.0013s, Metric=R2, Batch Size=50, P_Score=0.612]\n",
      "SAIL Drift detection: 100%========== [Points: 50/50, Elapsed:0.0008s, Detector=EDDM, Batch Size=50, Param=differene, Drift=No]\n",
      "SAIL Pipeline Partial fit: 100%========== [Steps: 3/3, ETA: 00:00<00:00, Elapsed:0.208s, Batch Size=50, P_Score=0.612]            \n"
     ]
    },
    {
     "name": "stdout",
     "output_type": "stream",
     "text": [
      "\n",
      ">>> Epoch: 20 | Samples Seen: 950 -------------------------------------------------------------------------------------\n"
     ]
    },
    {
     "name": "stderr",
     "output_type": "stream",
     "text": [
      "SAIL Pipeline Progressive Score: 100%========== [Points: 50/50, Elapsed:0.0013s, Metric=R2, Batch Size=50, P_Score=0.636]\n",
      "SAIL Drift detection: 100%========== [Points: 50/50, Elapsed:0.0009s, Detector=EDDM, Batch Size=50, Param=differene, Drift=No]\n",
      "SAIL Pipeline Partial fit: 100%========== [Steps: 3/3, ETA: 00:00<00:00, Elapsed:0.194s, Batch Size=50, P_Score=0.636]            \n"
     ]
    }
   ],
   "source": [
    "batch_size = 50\n",
    "with tracer.trace_as_current_span(span_name=\"Pipeline-Train\"):\n",
    "    for start in range(0, 1000, batch_size):\n",
    "\n",
    "        end = start + batch_size\n",
    "\n",
    "        X_train = X.iloc[start:end]\n",
    "        y_train = y.iloc[start:end]\n",
    "\n",
    "        if end > 500: # search_data_size is 500\n",
    "            preds = auto_pipeline.predict(X_train)\n",
    "            y_preds.extend(list(preds))\n",
    "            y_true.extend(list(y_train))\n",
    "\n",
    "        auto_pipeline.train(X_train, y_train)"
   ]
  },
  {
   "attachments": {},
   "cell_type": "markdown",
   "metadata": {},
   "source": [
    "#### Save Model\n"
   ]
  },
  {
   "cell_type": "code",
   "execution_count": 9,
   "metadata": {},
   "outputs": [
    {
     "data": {
      "text/plain": [
       "'./sail_auto_pipeline'"
      ]
     },
     "execution_count": 9,
     "metadata": {},
     "output_type": "execute_result"
    }
   ],
   "source": [
    "auto_pipeline.save_model(\".\")"
   ]
  },
  {
   "attachments": {},
   "cell_type": "markdown",
   "metadata": {},
   "source": [
    "#### Load Model\n"
   ]
  },
  {
   "cell_type": "code",
   "execution_count": 10,
   "metadata": {},
   "outputs": [
    {
     "name": "stderr",
     "output_type": "stream",
     "text": [
      "[2023-09-12 00:47:55:862] - INFO - SAIL (PipelineStrategy) - Sending training output to Tensorboard logs. Please run `tensorboard --logdir /Users/dhaval/Projects/SAIL/sail/LOGS` in terminal to check training progress.\n",
      "[2023-09-12 00:47:55:863] - INFO - SAIL (PipelineStrategy) - Pipeline Strategy [DetectAndIncrement] created with actions: ['DATA_COLLECTION', 'FIND_BEST_PIPELINE', 'SCORE_AND_DETECT_DRIFT', 'PARTIAL_FIT_MODEL']\n",
      "SAIL Pipeline Progressive Score: 100%========== [Points: 2000/2000, Elapsed:0.0042s, Metric=R2, Batch Size=2000, P_Score=0.671]\n"
     ]
    }
   ],
   "source": [
    "new_auto_pipeline = SAILAutoPipeline.load_model(\".\")"
   ]
  },
  {
   "attachments": {},
   "cell_type": "markdown",
   "metadata": {},
   "source": [
    "#### Continue training using the load model\n"
   ]
  },
  {
   "cell_type": "code",
   "execution_count": 11,
   "metadata": {},
   "outputs": [
    {
     "name": "stdout",
     "output_type": "stream",
     "text": [
      "\n",
      ">>> Epoch: 32 | Samples Seen: 1550 -------------------------------------------------------------------------------------\n"
     ]
    },
    {
     "name": "stderr",
     "output_type": "stream",
     "text": [
      "SAIL Pipeline Progressive Score: 100%========== [Points: 50/50, Elapsed:0.0089s, Metric=R2, Batch Size=50, P_Score=0.677]\n",
      "SAIL Drift detection: 100%========== [Points: 50/50, Elapsed:0.0020s, Detector=EDDM, Batch Size=50, Param=differene, Drift=No]\n",
      "SAIL Pipeline Partial fit: 100%========== [Steps: 3/3, ETA: 00:00<00:00, Elapsed:0.127s, Batch Size=50, P_Score=0.677]            \n"
     ]
    },
    {
     "name": "stdout",
     "output_type": "stream",
     "text": [
      "\n",
      ">>> Epoch: 36 | Samples Seen: 1750 -------------------------------------------------------------------------------------\n"
     ]
    },
    {
     "name": "stderr",
     "output_type": "stream",
     "text": [
      "SAIL Pipeline Progressive Score: 100%========== [Points: 50/50, Elapsed:0.0017s, Metric=R2, Batch Size=50, P_Score=0.693]\n",
      "SAIL Drift detection: 100%========== [Points: 50/50, Elapsed:0.0010s, Detector=EDDM, Batch Size=50, Param=differene, Drift=No]\n",
      "SAIL Pipeline Partial fit: 100%========== [Steps: 3/3, ETA: 00:00<00:00, Elapsed:0.138s, Batch Size=50, P_Score=0.693]            \n"
     ]
    },
    {
     "name": "stdout",
     "output_type": "stream",
     "text": [
      "\n",
      ">>> Epoch: 40 | Samples Seen: 1950 -------------------------------------------------------------------------------------\n"
     ]
    },
    {
     "name": "stderr",
     "output_type": "stream",
     "text": [
      "SAIL Pipeline Progressive Score: 100%========== [Points: 50/50, Elapsed:0.0015s, Metric=R2, Batch Size=50, P_Score=0.705]\n",
      "SAIL Drift detection: 100%========== [Points: 50/50, Elapsed:0.0011s, Detector=EDDM, Batch Size=50, Param=differene, Drift=No]\n",
      "SAIL Pipeline Partial fit: 100%========== [Steps: 3/3, ETA: 00:00<00:00, Elapsed:0.131s, Batch Size=50, P_Score=0.705]            \n"
     ]
    }
   ],
   "source": [
    "for start in range(1501, 2001, batch_size):\n",
    "\n",
    "    end = start + batch_size\n",
    "\n",
    "    X_train = X.iloc[start:end]\n",
    "    y_train = y.iloc[start:end]\n",
    "\n",
    "    preds = new_auto_pipeline.predict(X_train)\n",
    "    y_preds.extend(list(preds))\n",
    "    y_true.extend(list(y_train))\n",
    "\n",
    "    new_auto_pipeline.train(X_train, y_train)"
   ]
  },
  {
   "attachments": {},
   "cell_type": "markdown",
   "metadata": {},
   "source": [
    "#### Final Score\n"
   ]
  },
  {
   "cell_type": "code",
   "execution_count": 12,
   "metadata": {},
   "outputs": [
    {
     "data": {
      "text/plain": [
       "0.7048665323702248"
      ]
     },
     "execution_count": 12,
     "metadata": {},
     "output_type": "execute_result"
    }
   ],
   "source": [
    "new_auto_pipeline.progressive_score"
   ]
  },
  {
   "attachments": {},
   "cell_type": "markdown",
   "metadata": {},
   "source": [
    "### Plot predictions\n"
   ]
  },
  {
   "cell_type": "code",
   "execution_count": 13,
   "metadata": {},
   "outputs": [
    {
     "data": {
      "application/vnd.plotly.v1+json": {
       "config": {
        "plotlyServerURL": "https://plot.ly"
       },
       "data": [
        {
         "hovertemplate": "variable=y_true<br>index=%{x}<br>value=%{y}<extra></extra>",
         "legendgroup": "y_true",
         "line": {
          "color": "#636efa",
          "dash": "solid"
         },
         "marker": {
          "symbol": "circle"
         },
         "mode": "lines",
         "name": "y_true",
         "orientation": "v",
         "showlegend": true,
         "type": "scatter",
         "x": [
          0,
          1,
          2,
          3,
          4,
          5,
          6,
          7,
          8,
          9,
          10,
          11,
          12,
          13,
          14,
          15,
          16,
          17,
          18,
          19,
          20,
          21,
          22,
          23,
          24,
          25,
          26,
          27,
          28,
          29,
          30,
          31,
          32,
          33,
          34,
          35,
          36,
          37,
          38,
          39,
          40,
          41,
          42,
          43,
          44,
          45,
          46,
          47,
          48,
          49,
          50,
          51,
          52,
          53,
          54,
          55,
          56,
          57,
          58,
          59,
          60,
          61,
          62,
          63,
          64,
          65,
          66,
          67,
          68,
          69,
          70,
          71,
          72,
          73,
          74,
          75,
          76,
          77,
          78,
          79,
          80,
          81,
          82,
          83,
          84,
          85,
          86,
          87,
          88,
          89,
          90,
          91,
          92,
          93,
          94,
          95,
          96,
          97,
          98,
          99,
          100,
          101,
          102,
          103,
          104,
          105,
          106,
          107,
          108,
          109,
          110,
          111,
          112,
          113,
          114,
          115,
          116,
          117,
          118,
          119,
          120,
          121,
          122,
          123,
          124,
          125,
          126,
          127,
          128,
          129,
          130,
          131,
          132,
          133,
          134,
          135,
          136,
          137,
          138,
          139,
          140,
          141,
          142,
          143,
          144,
          145,
          146,
          147,
          148,
          149,
          150,
          151,
          152,
          153,
          154,
          155,
          156,
          157,
          158,
          159,
          160,
          161,
          162,
          163,
          164,
          165,
          166,
          167,
          168,
          169,
          170,
          171,
          172,
          173,
          174,
          175,
          176,
          177,
          178,
          179,
          180,
          181,
          182,
          183,
          184,
          185,
          186,
          187,
          188,
          189,
          190,
          191,
          192,
          193,
          194,
          195,
          196,
          197,
          198,
          199,
          200,
          201,
          202,
          203,
          204,
          205,
          206,
          207,
          208,
          209,
          210,
          211,
          212,
          213,
          214,
          215,
          216,
          217,
          218,
          219,
          220,
          221,
          222,
          223,
          224,
          225,
          226,
          227,
          228,
          229,
          230,
          231,
          232,
          233,
          234,
          235,
          236,
          237,
          238,
          239,
          240,
          241,
          242,
          243,
          244,
          245,
          246,
          247,
          248,
          249,
          250,
          251,
          252,
          253,
          254,
          255,
          256,
          257,
          258,
          259,
          260,
          261,
          262,
          263,
          264,
          265,
          266,
          267,
          268,
          269,
          270,
          271,
          272,
          273,
          274,
          275,
          276,
          277,
          278,
          279,
          280,
          281,
          282,
          283,
          284,
          285,
          286,
          287,
          288,
          289,
          290,
          291,
          292,
          293,
          294,
          295,
          296,
          297,
          298,
          299,
          300,
          301,
          302,
          303,
          304,
          305,
          306,
          307,
          308,
          309,
          310,
          311,
          312,
          313,
          314,
          315,
          316,
          317,
          318,
          319,
          320,
          321,
          322,
          323,
          324,
          325,
          326,
          327,
          328,
          329,
          330,
          331,
          332,
          333,
          334,
          335,
          336,
          337,
          338,
          339,
          340,
          341,
          342,
          343,
          344,
          345,
          346,
          347,
          348,
          349,
          350,
          351,
          352,
          353,
          354,
          355,
          356,
          357,
          358,
          359,
          360,
          361,
          362,
          363,
          364,
          365,
          366,
          367,
          368,
          369,
          370,
          371,
          372,
          373,
          374,
          375,
          376,
          377,
          378,
          379,
          380,
          381,
          382,
          383,
          384,
          385,
          386,
          387,
          388,
          389,
          390,
          391,
          392,
          393,
          394,
          395,
          396,
          397,
          398,
          399,
          400,
          401,
          402,
          403,
          404,
          405,
          406,
          407,
          408,
          409,
          410,
          411,
          412,
          413,
          414,
          415,
          416,
          417,
          418,
          419,
          420,
          421,
          422,
          423,
          424,
          425,
          426,
          427,
          428,
          429,
          430,
          431,
          432,
          433,
          434,
          435,
          436,
          437,
          438,
          439,
          440,
          441,
          442,
          443,
          444,
          445,
          446,
          447,
          448,
          449,
          450,
          451,
          452,
          453,
          454,
          455,
          456,
          457,
          458,
          459,
          460,
          461,
          462,
          463,
          464,
          465,
          466,
          467,
          468,
          469,
          470,
          471,
          472,
          473,
          474,
          475,
          476,
          477,
          478,
          479,
          480,
          481,
          482,
          483,
          484,
          485,
          486,
          487,
          488,
          489,
          490,
          491,
          492,
          493,
          494,
          495,
          496,
          497,
          498,
          499
         ],
         "xaxis": "x",
         "y": [
          40.56666667,
          38.4,
          47.15,
          62.83333333,
          80.00833333,
          82.93333333,
          71.83333333,
          85.31666667,
          87.625,
          87.53333333,
          87.88333333,
          84.35833333,
          83.05,
          84.88333333,
          81.89166667,
          76.68333333,
          25.40833333,
          48.54166667,
          65.80833333,
          95.33333333,
          95.175,
          80.99166667,
          89.56666667,
          82.78333333,
          82.95,
          84.43333333,
          86.175,
          87.025,
          75.83333333,
          63.68333333,
          86.275,
          77.36666667,
          77.93333333,
          88.23333333,
          88.84166667,
          87.85,
          82.76666667,
          81.925,
          83.49166667,
          85.76666667,
          83.99166667,
          86.7,
          84.98333333,
          82.875,
          87.90833333,
          84.75,
          80.90833333,
          80.95,
          80.2,
          81.675,
          74.14166667,
          79.19166667,
          82.65,
          80.35,
          84.075,
          83.21666667,
          66.28333333,
          51.475,
          57.81666667,
          72.50833333,
          79.91666667,
          85.225,
          74.4,
          74.33333333,
          77.29166667,
          83.175,
          78.06666667,
          82.7,
          79.74166667,
          79.00833333,
          56.68333333,
          39.725,
          36.125,
          32.41666667,
          26,
          19.46666667,
          12.83333333,
          6.558333332999999,
          6.108333332999999,
          3.666666667,
          3.0333333330000003,
          3.6,
          2.366666667,
          1.408333333,
          0,
          0,
          0,
          0,
          0,
          0.216666667,
          2.65,
          7.916666667,
          13.075,
          10.93333333,
          5.458333333,
          0.358333333,
          0.7,
          0,
          0,
          0,
          0,
          0.5083333329999999,
          1.025,
          4.158333333,
          12.35,
          31.225,
          43.25,
          59.45833333,
          51.06666667,
          54.425,
          33,
          24.69166667,
          20.73333333,
          35.78333333,
          31.94166667,
          23.025,
          12.43333333,
          34.91666667,
          54.75,
          47.71666667,
          35.725,
          40.95833333,
          60.625,
          79.35,
          84.75,
          78.36666667,
          65.00833333,
          40.76666667,
          39.3,
          7.816666667000001,
          13.85833333,
          22.6,
          0.091666667,
          24.26666667,
          17.63333333,
          39.7,
          50.875,
          58.04166667,
          39.29166667,
          8.125,
          4.825,
          12.25833333,
          28.33333333,
          55.375,
          68.80833333,
          69.24166667,
          90.80833333,
          91.09166667,
          92.54166667,
          91.5,
          85.99166667,
          62.375,
          19.24166667,
          5.05,
          0,
          0,
          0,
          0,
          0,
          2.141666667,
          14.65,
          21.225,
          29.78333333,
          46.95,
          48.45833333,
          21.16666667,
          11.725,
          9.95,
          6.166666667,
          23.18333333,
          69.50833333,
          84.925,
          99.00833333,
          90.75,
          91.31666667,
          87.26666667,
          86.44166667,
          81.26666667,
          80.71666667,
          85.46666667,
          89.40833333,
          85.64166667,
          86.875,
          86.66666667,
          85.75833333,
          85.56666667,
          99.71666667,
          99.79166667,
          92.65833333,
          76.5,
          44.74166667,
          26.95,
          20.94166667,
          17.78333333,
          15.53333333,
          20.70833333,
          36.525,
          42.41666667,
          39.625,
          32.61666667,
          28.9,
          15.73333333,
          17.00833333,
          22.39166667,
          36.73333333,
          57.4,
          55.26666667,
          53.3,
          71.425,
          72.29166667,
          70.59166667,
          78.79166667,
          82.35,
          86.08333333,
          82.73333333,
          79.11666667,
          86.5,
          89.51666667,
          90.75,
          91.13333333,
          93.10833333,
          99.06666667,
          96.20833333,
          84.03333333,
          61.85,
          60.60833333,
          56.94166667,
          47.68333333,
          41.89166667,
          44.66666667,
          48.29166667,
          64.13333333,
          69.55833333,
          65.45,
          54.31666667,
          48.325,
          54.18333333,
          41.60833333,
          22.71666667,
          14.86666667,
          7.508333332999999,
          9.166666667,
          8.808333333,
          4.591666667,
          6.575,
          9.8,
          10.80833333,
          7.133333333,
          13.96666667,
          18.58333333,
          10.925,
          2.55,
          0,
          0,
          0,
          1.2,
          2.833333333,
          5.6,
          9.183333333,
          17.275,
          14.01666667,
          10.69166667,
          6.3,
          5.95,
          36.075,
          76.64166667,
          98.14166667,
          99.80833333,
          98.64166667,
          85.85,
          86.33333333,
          87.13333333,
          82.46666667,
          82.95833333,
          85.4,
          79.50833333,
          72.19166667,
          75.80833333,
          77.86666667,
          78.13333333,
          82.36666667,
          79.60833333,
          78.75833333,
          83.14166667,
          87.2,
          85.625,
          85.725,
          80.075,
          88.8,
          81.65,
          78.94166667,
          72.7,
          58.225,
          15.41666667,
          16.69166667,
          31.925,
          42.95833333,
          42.63333333,
          39.43333333,
          44.175,
          65.05833333,
          43.36666667,
          66.28333333,
          88,
          87.16666667,
          88.825,
          85.93333333,
          92.38333333,
          84.625,
          71.775,
          80.575,
          77.39166667,
          73.88333333,
          50.58333333,
          57.69166667,
          77.83333333,
          86.50833333,
          84.825,
          83.525,
          79.3,
          78.84166667,
          81.825,
          81.09166667,
          79.725,
          78.59166667,
          72.38333333,
          71.83333333,
          73.53333333,
          81.61666667,
          87.11666667,
          84.375,
          83.95833333,
          75.99166667,
          80.39166667,
          86.225,
          86.48333333,
          88.175,
          81.24166667,
          78.325,
          78.04166667,
          78.55,
          81.60833333,
          80.68333333,
          83.96666667,
          81.61666667,
          86.825,
          80.36666667,
          82.70833333,
          80.05833333,
          77.44166667,
          75.1,
          73.20833333,
          78.3,
          78.85833333,
          79.25833333,
          84.71666667,
          85.06666667,
          88.475,
          92.775,
          95.50833333,
          98.96666667,
          92.675,
          96.11666667,
          90.125,
          87.59166667,
          85.35,
          88.44166667,
          91.08333333,
          87.51666667,
          86.66666667,
          85.00833333,
          87.05,
          78.95,
          74.99166667,
          85.25833333,
          74.275,
          93.55833333,
          99.5,
          99.84166667,
          97.8,
          98.11666667,
          83.99166667,
          92.05,
          73.825,
          79.28333333,
          94.81666667,
          90.38333333,
          95.10833333,
          91.5,
          76.25,
          76.91666667,
          68.10833333,
          67.575,
          54.86666667,
          44.18333333,
          36.53333333,
          40.98333333,
          29.66666667,
          30.725,
          31.73333333,
          40.14166667,
          61.075,
          73.91666667,
          86.89166667,
          97.35833333,
          92.01666667,
          79.425,
          69.625,
          74.10833333,
          84.35833333,
          91.46666667,
          85.00833333,
          90.14166667,
          87.50833333,
          89.50833333,
          85.55,
          82.19166667,
          85.35,
          84.14166667,
          83.55,
          78.48333333,
          71.35833333,
          70.025,
          69.78333333,
          59.96666667,
          58.15,
          72.74166667,
          61.725,
          47.65,
          16.275,
          9.95,
          8.025,
          4.291666667,
          0.308333333,
          0,
          0,
          0.5166666670000001,
          0.8583333329999999,
          4.508333333,
          10.54166667,
          14.08333333,
          19.49166667,
          26.61666667,
          31.125,
          30.19166667,
          46.625,
          48,
          60.15833333,
          64.65,
          73.36666667,
          89.275,
          87.475,
          89.8,
          80.38333333,
          79.05833333,
          76.35,
          78.64166667,
          77.14166667,
          81.875,
          84.05,
          82.84166667,
          87.475,
          87.49166667,
          86.18333333,
          84.10833333,
          80.475,
          85.45,
          90.74166667,
          87.175,
          90.50833333,
          99.775,
          99.81666667,
          99.14166667,
          99.79166667,
          99.74166667,
          99.70833333,
          98.24166667,
          96.61666667,
          85.20833333,
          83.55,
          75.01666667,
          87.675,
          85.575,
          84.475,
          52.60833333,
          48.91666667,
          47.24166667,
          48.48333333,
          55.08333333,
          54.80833333,
          74.96666667,
          73.3,
          69.19166667,
          83.98333333,
          77.15833333,
          84.04166667,
          80.55833333,
          81.68333333,
          94.975,
          80.93333333
         ],
         "yaxis": "y"
        },
        {
         "hovertemplate": "variable=y_preds<br>index=%{x}<br>value=%{y}<extra></extra>",
         "legendgroup": "y_preds",
         "line": {
          "color": "#EF553B",
          "dash": "solid"
         },
         "marker": {
          "symbol": "circle"
         },
         "mode": "lines",
         "name": "y_preds",
         "orientation": "v",
         "showlegend": true,
         "type": "scatter",
         "x": [
          0,
          1,
          2,
          3,
          4,
          5,
          6,
          7,
          8,
          9,
          10,
          11,
          12,
          13,
          14,
          15,
          16,
          17,
          18,
          19,
          20,
          21,
          22,
          23,
          24,
          25,
          26,
          27,
          28,
          29,
          30,
          31,
          32,
          33,
          34,
          35,
          36,
          37,
          38,
          39,
          40,
          41,
          42,
          43,
          44,
          45,
          46,
          47,
          48,
          49,
          50,
          51,
          52,
          53,
          54,
          55,
          56,
          57,
          58,
          59,
          60,
          61,
          62,
          63,
          64,
          65,
          66,
          67,
          68,
          69,
          70,
          71,
          72,
          73,
          74,
          75,
          76,
          77,
          78,
          79,
          80,
          81,
          82,
          83,
          84,
          85,
          86,
          87,
          88,
          89,
          90,
          91,
          92,
          93,
          94,
          95,
          96,
          97,
          98,
          99,
          100,
          101,
          102,
          103,
          104,
          105,
          106,
          107,
          108,
          109,
          110,
          111,
          112,
          113,
          114,
          115,
          116,
          117,
          118,
          119,
          120,
          121,
          122,
          123,
          124,
          125,
          126,
          127,
          128,
          129,
          130,
          131,
          132,
          133,
          134,
          135,
          136,
          137,
          138,
          139,
          140,
          141,
          142,
          143,
          144,
          145,
          146,
          147,
          148,
          149,
          150,
          151,
          152,
          153,
          154,
          155,
          156,
          157,
          158,
          159,
          160,
          161,
          162,
          163,
          164,
          165,
          166,
          167,
          168,
          169,
          170,
          171,
          172,
          173,
          174,
          175,
          176,
          177,
          178,
          179,
          180,
          181,
          182,
          183,
          184,
          185,
          186,
          187,
          188,
          189,
          190,
          191,
          192,
          193,
          194,
          195,
          196,
          197,
          198,
          199,
          200,
          201,
          202,
          203,
          204,
          205,
          206,
          207,
          208,
          209,
          210,
          211,
          212,
          213,
          214,
          215,
          216,
          217,
          218,
          219,
          220,
          221,
          222,
          223,
          224,
          225,
          226,
          227,
          228,
          229,
          230,
          231,
          232,
          233,
          234,
          235,
          236,
          237,
          238,
          239,
          240,
          241,
          242,
          243,
          244,
          245,
          246,
          247,
          248,
          249,
          250,
          251,
          252,
          253,
          254,
          255,
          256,
          257,
          258,
          259,
          260,
          261,
          262,
          263,
          264,
          265,
          266,
          267,
          268,
          269,
          270,
          271,
          272,
          273,
          274,
          275,
          276,
          277,
          278,
          279,
          280,
          281,
          282,
          283,
          284,
          285,
          286,
          287,
          288,
          289,
          290,
          291,
          292,
          293,
          294,
          295,
          296,
          297,
          298,
          299,
          300,
          301,
          302,
          303,
          304,
          305,
          306,
          307,
          308,
          309,
          310,
          311,
          312,
          313,
          314,
          315,
          316,
          317,
          318,
          319,
          320,
          321,
          322,
          323,
          324,
          325,
          326,
          327,
          328,
          329,
          330,
          331,
          332,
          333,
          334,
          335,
          336,
          337,
          338,
          339,
          340,
          341,
          342,
          343,
          344,
          345,
          346,
          347,
          348,
          349,
          350,
          351,
          352,
          353,
          354,
          355,
          356,
          357,
          358,
          359,
          360,
          361,
          362,
          363,
          364,
          365,
          366,
          367,
          368,
          369,
          370,
          371,
          372,
          373,
          374,
          375,
          376,
          377,
          378,
          379,
          380,
          381,
          382,
          383,
          384,
          385,
          386,
          387,
          388,
          389,
          390,
          391,
          392,
          393,
          394,
          395,
          396,
          397,
          398,
          399,
          400,
          401,
          402,
          403,
          404,
          405,
          406,
          407,
          408,
          409,
          410,
          411,
          412,
          413,
          414,
          415,
          416,
          417,
          418,
          419,
          420,
          421,
          422,
          423,
          424,
          425,
          426,
          427,
          428,
          429,
          430,
          431,
          432,
          433,
          434,
          435,
          436,
          437,
          438,
          439,
          440,
          441,
          442,
          443,
          444,
          445,
          446,
          447,
          448,
          449,
          450,
          451,
          452,
          453,
          454,
          455,
          456,
          457,
          458,
          459,
          460,
          461,
          462,
          463,
          464,
          465,
          466,
          467,
          468,
          469,
          470,
          471,
          472,
          473,
          474,
          475,
          476,
          477,
          478,
          479,
          480,
          481,
          482,
          483,
          484,
          485,
          486,
          487,
          488,
          489,
          490,
          491,
          492,
          493,
          494,
          495,
          496,
          497,
          498,
          499
         ],
         "xaxis": "x",
         "y": [
          20.085280254453387,
          21.924013164602073,
          37.867680608152085,
          47.83911398548749,
          47.034125000554994,
          38.61000345134566,
          37.98355916273197,
          36.560081081891894,
          37.867680608152085,
          47.034125000554994,
          47.034125000554994,
          47.034125000554994,
          55.62000000034895,
          55.7182835816418,
          60.777363184626864,
          67.31423611,
          67.61534436732116,
          75.08851224073443,
          76.03748211742486,
          76.36064257144578,
          76.36064257144578,
          83.73173363035716,
          70.95440938388352,
          71.50768733860465,
          71.50768733860465,
          69.03360745598684,
          71.50768733860465,
          71.50768733860465,
          71.50768733860465,
          71.50768733860465,
          71.50768733860465,
          71.50768733860465,
          71.50768733860465,
          71.50768733860465,
          71.50768733860465,
          71.50768733860465,
          73.38824906424718,
          71.50768733860465,
          76.03748211742486,
          77.62489743630005,
          79.23641975185186,
          74.1063020834687,
          71.0485507241806,
          71.0485507241806,
          68.99094202795031,
          71.42356035444737,
          73.28584341017122,
          70.95440938388352,
          67.63533950550931,
          67.31423611,
          66.33353994341321,
          66.33353994341321,
          66.33353994341321,
          64.11621731924019,
          55.96096906579547,
          55.37127170712605,
          54.89595323705035,
          54.89595323705035,
          55.44860481837304,
          55.52900681971355,
          55.52900681971355,
          55.52900681971355,
          55.63191945196948,
          54.18790202695495,
          53.46612554077921,
          50.896806853925256,
          56.630625000875,
          56.630625000875,
          56.630625000875,
          56.630625000875,
          56.85459259248887,
          53.46612554077921,
          53.46612554077921,
          43.634502923157896,
          34.802333334,
          30.657323370294318,
          23.963831018319443,
          20.978174602698413,
          20.978174602698413,
          18.91879032283549,
          18.91879032283549,
          20.978174602698413,
          20.978174602698413,
          20.978174602698413,
          20.978174602698413,
          20.978174602698413,
          18.91879032283549,
          22.56939716325532,
          22.56939716325532,
          23.963831018319443,
          23.963831018319443,
          27.097916666523883,
          27.097916666523883,
          33.47875000004164,
          33.47875000004164,
          22.56939716325532,
          23.963831018319443,
          23.963831018319443,
          22.56939716325532,
          22.56939716325532,
          5.611967871375903,
          6.378594771013071,
          6.378594771013071,
          15.423387096602156,
          15.423387096602156,
          15.533516483164842,
          20.602249794906065,
          25.584327085221368,
          42.66243445700897,
          47.079129129837845,
          38.279704300024186,
          41.310107170260736,
          37.42946716162698,
          22.615945512778843,
          27.454717513949152,
          22.615945512778843,
          27.86863185540718,
          42.66243445700897,
          22.615945512778843,
          22.615945512778843,
          37.89490315987157,
          58.67894581841695,
          58.67894581841695,
          66.32883771881579,
          66.32883771881579,
          71.92785185182224,
          58.67894581841695,
          58.67894581841695,
          44.78887762663959,
          37.89490315987157,
          37.89490315987157,
          36.33856589093023,
          37.89490315987157,
          22.615945512778843,
          33.09902599733543,
          37.89490315987157,
          50.456321838620696,
          50.456321838620696,
          50.32971747196406,
          47.86482456167632,
          37.68610471425371,
          36.834769108140634,
          42.66243445700897,
          42.66243445700897,
          42.29895248518836,
          38.10954935546353,
          57.5747093022093,
          57.5747093022093,
          57.5747093022093,
          42.66243445700897,
          59.20734126904762,
          48.182118927798996,
          35.52988505767241,
          33.21013513351351,
          35.36680107543548,
          30.226914661249992,
          35.4119771087343,
          30.971858672846654,
          21.2479357802156,
          33.21013513351351,
          33.21013513351351,
          29.164043208685182,
          39.45610867969144,
          39.45610867969144,
          39.45610867969144,
          54.56296296312154,
          63.97250000072727,
          69.47618858518669,
          48.182118927798996,
          36.74513889083333,
          42.37483660090196,
          69.86262254904409,
          64.11741551364055,
          66.8000428673457,
          56.601136364166685,
          73.0310185186111,
          74.8619047647619,
          73.0310185186111,
          71.32603324462154,
          70.49447659651699,
          55.43122783654254,
          56.92853535424243,
          55.43122783654254,
          56.601136364166685,
          56.601136364166685,
          56.92853535424243,
          54.20535190604105,
          54.20535190604105,
          52.71633886907,
          52.968923611197916,
          52.94051837367753,
          48.182118927798996,
          44.215276598518706,
          38.37180916956877,
          29.164043208685182,
          30.120016958722108,
          33.73150252573485,
          35.085451692026325,
          35.52988505767241,
          35.59200680285715,
          34.470700505909846,
          25.42444444562222,
          25.42444444562222,
          26.28401626438803,
          39.22182577706512,
          36.35366161681818,
          38.23109891417132,
          53.401182673434754,
          57.118809524571425,
          55.117639720419156,
          55.117639720419156,
          63.94294871791208,
          71.8755847946667,
          71.8755847946667,
          71.6956325557426,
          75.37145238074285,
          75.37145238074285,
          75.37145238074285,
          72.6058997040708,
          76.0498062011163,
          72.6058997040708,
          69.44776688354901,
          76.0498062011163,
          63.293758434595134,
          53.83932170980428,
          50.30936468662872,
          63.293758434595134,
          63.293758434595134,
          45.1588347661662,
          45.1588347661662,
          51.91602564137362,
          53.74278640402587,
          53.83932170980428,
          59.484166666499995,
          43.66761143411047,
          44.192057291756704,
          39.36417703995641,
          36.24250963363874,
          22.640547264164173,
          18.22177230047183,
          18.22177230047183,
          20.29739364004888,
          24.268008474491527,
          24.268008474491527,
          28.27749918981744,
          30.491341991298697,
          24.268008474491527,
          25.42444444562222,
          24.14744094509449,
          7.96157396946537,
          12.473618307274611,
          12.231298237155537,
          12.473618307274611,
          12.473618307274611,
          11.905508475084744,
          18.504794078167674,
          8.475401257980806,
          15.47812499904687,
          16.579438406,
          19.228914988597314,
          37.30130178655872,
          16.75568783093651,
          16.75568783093651,
          20.048989497414137,
          25.128346948313887,
          33.62420728320687,
          57.396399176666684,
          75.26196966792385,
          79.34692700065196,
          77.66057125982336,
          77.66057125982336,
          77.66057125982336,
          77.66057125982336,
          77.66057125982336,
          77.66057125982336,
          77.66057125982336,
          82.50047892643678,
          82.50047892643678,
          85.37509363280905,
          83.553373015,
          83.50571161168541,
          82.50047892643678,
          83.50571161168541,
          82.50047892643678,
          82.50047892643678,
          83.50571161168541,
          80.1000706211017,
          80.25383064483866,
          80.25383064483866,
          77.95965227798565,
          73.03968253714285,
          75.60180751171828,
          73.03968253714285,
          66.01196236548385,
          58.62625786075472,
          58.62625786075472,
          58.24023631858209,
          52.38055555595238,
          58.62625786075472,
          58.62625786075472,
          55.239583332916666,
          59.89043715737705,
          56.84810606022727,
          57.08601139195694,
          59.89043715737705,
          61.608913044434786,
          75.50851302787058,
          70.33119266082569,
          78.38857323303027,
          70.33119266082569,
          66.62005736790753,
          72.67603244876109,
          64.4714800614376,
          65.11151515118182,
          56.48048242388619,
          65.11151515118182,
          65.11151515118182,
          65.11151515118182,
          65.11151515118182,
          65.11151515118182,
          65.11151515118182,
          73.24018017945941,
          73.24018017945941,
          73.85300526083094,
          77.000500002,
          78.62546948366197,
          79.68287037055556,
          78.62546948366197,
          76.86703539769913,
          78.62546948366197,
          78.62546948366197,
          78.62546948366197,
          78.62546948366197,
          79.68287037055556,
          79.68287037055556,
          78.62546948366197,
          79.75324923481652,
          79.68287037055556,
          80.83117816103449,
          81.23742138339622,
          81.23742138339622,
          81.36545346114556,
          82.77098577378051,
          82.77098577378051,
          83.05416666824321,
          83.05416666824321,
          80.83117816103449,
          81.23742138339622,
          80.83117816103449,
          79.75324923481652,
          79.9530465951613,
          80.89543821870687,
          80.89543821870687,
          81.28152557317459,
          80.89543821870687,
          79.82284946268817,
          81.28152557317459,
          80.082291666372,
          82.51764706016804,
          81.03658940390729,
          81.03658940390729,
          78.96379385926316,
          60.42086805587501,
          58.225,
          58.225,
          58.225,
          58.225,
          58.225,
          70.17540650375611,
          76.14469501708759,
          76.14469501708759,
          77.54978903063292,
          77.54978903063292,
          77.54978903063292,
          77.54978903063292,
          76.14469501708759,
          79.37617845222223,
          81.28152557317459,
          81.28152557317459,
          81.28152557317459,
          80.19211601289214,
          79.37617845222223,
          77.54978903063292,
          60.42086805587501,
          65.73547619042857,
          55.16687499999167,
          55.16687499999167,
          55.16687499999167,
          57.61858353484261,
          74.6741655681215,
          73.48155488045415,
          57.61858353484261,
          60.42086805587501,
          64.44139023000922,
          54.37283950703704,
          57.61858353484261,
          38.697870176961956,
          53.45128205153845,
          54.37283950703704,
          45.65504587183486,
          48.96837121272728,
          57.069696969406706,
          58.58611111179487,
          58.58611111179487,
          58.58611111179487,
          58.58611111179487,
          69.55858085742574,
          73.86850811483147,
          73.86850811483147,
          76.75405198733945,
          69.55858085742574,
          69.55858085742574,
          73.86850811483147,
          72.09667665477343,
          73.6007692301538,
          73.86850811483147,
          78.24194604968051,
          81.36805555631581,
          70.06769970841529,
          68.71695075852273,
          68.0254155127424,
          59.889508393165464,
          62.684658792990554,
          56.38045404208971,
          50.82666666885715,
          53.43968855240406,
          53.110981535364424,
          44.47766025650193,
          38.20351128993341,
          38.20351128993341,
          20.62824675222078,
          21.406128084139574,
          7.8386842108421035,
          4.246771690654413,
          6.479710144991305,
          6.479710144991305,
          6.479710144991305,
          6.479710144991305,
          14.336398840900545,
          17.4834739383854,
          19.25104166675,
          32.66260683564103,
          44.5726388895,
          48.14756097634146,
          68.86502197778437,
          60.91149122831581,
          63.6751322747619,
          60.91149122831581,
          58.58611111179487,
          62.02177177125526,
          67.11378788027274,
          69.45507042259156,
          68.57569786453203,
          72.06412601646342,
          72.06412601646342,
          72.06412601646342,
          74.61339662493671,
          74.61339662493671,
          78.59481074465201,
          78.59481074465201,
          78.59481074465201,
          79.89159420304348,
          79.89159420304348,
          79.89159420304348,
          79.89159420304348,
          79.89159420304348,
          79.89159420304348,
          79.89159420304348,
          78.59481074465201,
          79.53306845924206,
          79.53306845924206,
          79.70823643627912,
          79.70823643627912,
          79.70823643627912,
          79.70823643627912,
          79.70823643627912,
          79.53306845924206,
          78.59481074465201,
          78.59481074465201,
          67.16655263193687,
          64.07701048896855,
          64.07701048896855,
          76.66317204217741,
          76.66317204217741,
          67.82550505036363,
          66.37412280697369,
          67.82550505036363,
          67.82550505036363,
          60.04386446829672,
          76.7902298837931,
          81.7375000008594,
          77.19631410365385,
          75.72019867496692,
          72.05552609916654,
          74.45547808698404,
          72.4131288770498,
          81.35071484006224,
          81.51419141910893,
          78.775,
          81.77240368628141
         ],
         "yaxis": "y"
        }
       ],
       "layout": {
        "legend": {
         "title": {
          "text": "variable"
         },
         "tracegroupgap": 0
        },
        "margin": {
         "t": 60
        },
        "template": {
         "data": {
          "bar": [
           {
            "error_x": {
             "color": "#2a3f5f"
            },
            "error_y": {
             "color": "#2a3f5f"
            },
            "marker": {
             "line": {
              "color": "#E5ECF6",
              "width": 0.5
             },
             "pattern": {
              "fillmode": "overlay",
              "size": 10,
              "solidity": 0.2
             }
            },
            "type": "bar"
           }
          ],
          "barpolar": [
           {
            "marker": {
             "line": {
              "color": "#E5ECF6",
              "width": 0.5
             },
             "pattern": {
              "fillmode": "overlay",
              "size": 10,
              "solidity": 0.2
             }
            },
            "type": "barpolar"
           }
          ],
          "carpet": [
           {
            "aaxis": {
             "endlinecolor": "#2a3f5f",
             "gridcolor": "white",
             "linecolor": "white",
             "minorgridcolor": "white",
             "startlinecolor": "#2a3f5f"
            },
            "baxis": {
             "endlinecolor": "#2a3f5f",
             "gridcolor": "white",
             "linecolor": "white",
             "minorgridcolor": "white",
             "startlinecolor": "#2a3f5f"
            },
            "type": "carpet"
           }
          ],
          "choropleth": [
           {
            "colorbar": {
             "outlinewidth": 0,
             "ticks": ""
            },
            "type": "choropleth"
           }
          ],
          "contour": [
           {
            "colorbar": {
             "outlinewidth": 0,
             "ticks": ""
            },
            "colorscale": [
             [
              0,
              "#0d0887"
             ],
             [
              0.1111111111111111,
              "#46039f"
             ],
             [
              0.2222222222222222,
              "#7201a8"
             ],
             [
              0.3333333333333333,
              "#9c179e"
             ],
             [
              0.4444444444444444,
              "#bd3786"
             ],
             [
              0.5555555555555556,
              "#d8576b"
             ],
             [
              0.6666666666666666,
              "#ed7953"
             ],
             [
              0.7777777777777778,
              "#fb9f3a"
             ],
             [
              0.8888888888888888,
              "#fdca26"
             ],
             [
              1,
              "#f0f921"
             ]
            ],
            "type": "contour"
           }
          ],
          "contourcarpet": [
           {
            "colorbar": {
             "outlinewidth": 0,
             "ticks": ""
            },
            "type": "contourcarpet"
           }
          ],
          "heatmap": [
           {
            "colorbar": {
             "outlinewidth": 0,
             "ticks": ""
            },
            "colorscale": [
             [
              0,
              "#0d0887"
             ],
             [
              0.1111111111111111,
              "#46039f"
             ],
             [
              0.2222222222222222,
              "#7201a8"
             ],
             [
              0.3333333333333333,
              "#9c179e"
             ],
             [
              0.4444444444444444,
              "#bd3786"
             ],
             [
              0.5555555555555556,
              "#d8576b"
             ],
             [
              0.6666666666666666,
              "#ed7953"
             ],
             [
              0.7777777777777778,
              "#fb9f3a"
             ],
             [
              0.8888888888888888,
              "#fdca26"
             ],
             [
              1,
              "#f0f921"
             ]
            ],
            "type": "heatmap"
           }
          ],
          "heatmapgl": [
           {
            "colorbar": {
             "outlinewidth": 0,
             "ticks": ""
            },
            "colorscale": [
             [
              0,
              "#0d0887"
             ],
             [
              0.1111111111111111,
              "#46039f"
             ],
             [
              0.2222222222222222,
              "#7201a8"
             ],
             [
              0.3333333333333333,
              "#9c179e"
             ],
             [
              0.4444444444444444,
              "#bd3786"
             ],
             [
              0.5555555555555556,
              "#d8576b"
             ],
             [
              0.6666666666666666,
              "#ed7953"
             ],
             [
              0.7777777777777778,
              "#fb9f3a"
             ],
             [
              0.8888888888888888,
              "#fdca26"
             ],
             [
              1,
              "#f0f921"
             ]
            ],
            "type": "heatmapgl"
           }
          ],
          "histogram": [
           {
            "marker": {
             "pattern": {
              "fillmode": "overlay",
              "size": 10,
              "solidity": 0.2
             }
            },
            "type": "histogram"
           }
          ],
          "histogram2d": [
           {
            "colorbar": {
             "outlinewidth": 0,
             "ticks": ""
            },
            "colorscale": [
             [
              0,
              "#0d0887"
             ],
             [
              0.1111111111111111,
              "#46039f"
             ],
             [
              0.2222222222222222,
              "#7201a8"
             ],
             [
              0.3333333333333333,
              "#9c179e"
             ],
             [
              0.4444444444444444,
              "#bd3786"
             ],
             [
              0.5555555555555556,
              "#d8576b"
             ],
             [
              0.6666666666666666,
              "#ed7953"
             ],
             [
              0.7777777777777778,
              "#fb9f3a"
             ],
             [
              0.8888888888888888,
              "#fdca26"
             ],
             [
              1,
              "#f0f921"
             ]
            ],
            "type": "histogram2d"
           }
          ],
          "histogram2dcontour": [
           {
            "colorbar": {
             "outlinewidth": 0,
             "ticks": ""
            },
            "colorscale": [
             [
              0,
              "#0d0887"
             ],
             [
              0.1111111111111111,
              "#46039f"
             ],
             [
              0.2222222222222222,
              "#7201a8"
             ],
             [
              0.3333333333333333,
              "#9c179e"
             ],
             [
              0.4444444444444444,
              "#bd3786"
             ],
             [
              0.5555555555555556,
              "#d8576b"
             ],
             [
              0.6666666666666666,
              "#ed7953"
             ],
             [
              0.7777777777777778,
              "#fb9f3a"
             ],
             [
              0.8888888888888888,
              "#fdca26"
             ],
             [
              1,
              "#f0f921"
             ]
            ],
            "type": "histogram2dcontour"
           }
          ],
          "mesh3d": [
           {
            "colorbar": {
             "outlinewidth": 0,
             "ticks": ""
            },
            "type": "mesh3d"
           }
          ],
          "parcoords": [
           {
            "line": {
             "colorbar": {
              "outlinewidth": 0,
              "ticks": ""
             }
            },
            "type": "parcoords"
           }
          ],
          "pie": [
           {
            "automargin": true,
            "type": "pie"
           }
          ],
          "scatter": [
           {
            "fillpattern": {
             "fillmode": "overlay",
             "size": 10,
             "solidity": 0.2
            },
            "type": "scatter"
           }
          ],
          "scatter3d": [
           {
            "line": {
             "colorbar": {
              "outlinewidth": 0,
              "ticks": ""
             }
            },
            "marker": {
             "colorbar": {
              "outlinewidth": 0,
              "ticks": ""
             }
            },
            "type": "scatter3d"
           }
          ],
          "scattercarpet": [
           {
            "marker": {
             "colorbar": {
              "outlinewidth": 0,
              "ticks": ""
             }
            },
            "type": "scattercarpet"
           }
          ],
          "scattergeo": [
           {
            "marker": {
             "colorbar": {
              "outlinewidth": 0,
              "ticks": ""
             }
            },
            "type": "scattergeo"
           }
          ],
          "scattergl": [
           {
            "marker": {
             "colorbar": {
              "outlinewidth": 0,
              "ticks": ""
             }
            },
            "type": "scattergl"
           }
          ],
          "scattermapbox": [
           {
            "marker": {
             "colorbar": {
              "outlinewidth": 0,
              "ticks": ""
             }
            },
            "type": "scattermapbox"
           }
          ],
          "scatterpolar": [
           {
            "marker": {
             "colorbar": {
              "outlinewidth": 0,
              "ticks": ""
             }
            },
            "type": "scatterpolar"
           }
          ],
          "scatterpolargl": [
           {
            "marker": {
             "colorbar": {
              "outlinewidth": 0,
              "ticks": ""
             }
            },
            "type": "scatterpolargl"
           }
          ],
          "scatterternary": [
           {
            "marker": {
             "colorbar": {
              "outlinewidth": 0,
              "ticks": ""
             }
            },
            "type": "scatterternary"
           }
          ],
          "surface": [
           {
            "colorbar": {
             "outlinewidth": 0,
             "ticks": ""
            },
            "colorscale": [
             [
              0,
              "#0d0887"
             ],
             [
              0.1111111111111111,
              "#46039f"
             ],
             [
              0.2222222222222222,
              "#7201a8"
             ],
             [
              0.3333333333333333,
              "#9c179e"
             ],
             [
              0.4444444444444444,
              "#bd3786"
             ],
             [
              0.5555555555555556,
              "#d8576b"
             ],
             [
              0.6666666666666666,
              "#ed7953"
             ],
             [
              0.7777777777777778,
              "#fb9f3a"
             ],
             [
              0.8888888888888888,
              "#fdca26"
             ],
             [
              1,
              "#f0f921"
             ]
            ],
            "type": "surface"
           }
          ],
          "table": [
           {
            "cells": {
             "fill": {
              "color": "#EBF0F8"
             },
             "line": {
              "color": "white"
             }
            },
            "header": {
             "fill": {
              "color": "#C8D4E3"
             },
             "line": {
              "color": "white"
             }
            },
            "type": "table"
           }
          ]
         },
         "layout": {
          "annotationdefaults": {
           "arrowcolor": "#2a3f5f",
           "arrowhead": 0,
           "arrowwidth": 1
          },
          "autotypenumbers": "strict",
          "coloraxis": {
           "colorbar": {
            "outlinewidth": 0,
            "ticks": ""
           }
          },
          "colorscale": {
           "diverging": [
            [
             0,
             "#8e0152"
            ],
            [
             0.1,
             "#c51b7d"
            ],
            [
             0.2,
             "#de77ae"
            ],
            [
             0.3,
             "#f1b6da"
            ],
            [
             0.4,
             "#fde0ef"
            ],
            [
             0.5,
             "#f7f7f7"
            ],
            [
             0.6,
             "#e6f5d0"
            ],
            [
             0.7,
             "#b8e186"
            ],
            [
             0.8,
             "#7fbc41"
            ],
            [
             0.9,
             "#4d9221"
            ],
            [
             1,
             "#276419"
            ]
           ],
           "sequential": [
            [
             0,
             "#0d0887"
            ],
            [
             0.1111111111111111,
             "#46039f"
            ],
            [
             0.2222222222222222,
             "#7201a8"
            ],
            [
             0.3333333333333333,
             "#9c179e"
            ],
            [
             0.4444444444444444,
             "#bd3786"
            ],
            [
             0.5555555555555556,
             "#d8576b"
            ],
            [
             0.6666666666666666,
             "#ed7953"
            ],
            [
             0.7777777777777778,
             "#fb9f3a"
            ],
            [
             0.8888888888888888,
             "#fdca26"
            ],
            [
             1,
             "#f0f921"
            ]
           ],
           "sequentialminus": [
            [
             0,
             "#0d0887"
            ],
            [
             0.1111111111111111,
             "#46039f"
            ],
            [
             0.2222222222222222,
             "#7201a8"
            ],
            [
             0.3333333333333333,
             "#9c179e"
            ],
            [
             0.4444444444444444,
             "#bd3786"
            ],
            [
             0.5555555555555556,
             "#d8576b"
            ],
            [
             0.6666666666666666,
             "#ed7953"
            ],
            [
             0.7777777777777778,
             "#fb9f3a"
            ],
            [
             0.8888888888888888,
             "#fdca26"
            ],
            [
             1,
             "#f0f921"
            ]
           ]
          },
          "colorway": [
           "#636efa",
           "#EF553B",
           "#00cc96",
           "#ab63fa",
           "#FFA15A",
           "#19d3f3",
           "#FF6692",
           "#B6E880",
           "#FF97FF",
           "#FECB52"
          ],
          "font": {
           "color": "#2a3f5f"
          },
          "geo": {
           "bgcolor": "white",
           "lakecolor": "white",
           "landcolor": "#E5ECF6",
           "showlakes": true,
           "showland": true,
           "subunitcolor": "white"
          },
          "hoverlabel": {
           "align": "left"
          },
          "hovermode": "closest",
          "mapbox": {
           "style": "light"
          },
          "paper_bgcolor": "white",
          "plot_bgcolor": "#E5ECF6",
          "polar": {
           "angularaxis": {
            "gridcolor": "white",
            "linecolor": "white",
            "ticks": ""
           },
           "bgcolor": "#E5ECF6",
           "radialaxis": {
            "gridcolor": "white",
            "linecolor": "white",
            "ticks": ""
           }
          },
          "scene": {
           "xaxis": {
            "backgroundcolor": "#E5ECF6",
            "gridcolor": "white",
            "gridwidth": 2,
            "linecolor": "white",
            "showbackground": true,
            "ticks": "",
            "zerolinecolor": "white"
           },
           "yaxis": {
            "backgroundcolor": "#E5ECF6",
            "gridcolor": "white",
            "gridwidth": 2,
            "linecolor": "white",
            "showbackground": true,
            "ticks": "",
            "zerolinecolor": "white"
           },
           "zaxis": {
            "backgroundcolor": "#E5ECF6",
            "gridcolor": "white",
            "gridwidth": 2,
            "linecolor": "white",
            "showbackground": true,
            "ticks": "",
            "zerolinecolor": "white"
           }
          },
          "shapedefaults": {
           "line": {
            "color": "#2a3f5f"
           }
          },
          "ternary": {
           "aaxis": {
            "gridcolor": "white",
            "linecolor": "white",
            "ticks": ""
           },
           "baxis": {
            "gridcolor": "white",
            "linecolor": "white",
            "ticks": ""
           },
           "bgcolor": "#E5ECF6",
           "caxis": {
            "gridcolor": "white",
            "linecolor": "white",
            "ticks": ""
           }
          },
          "title": {
           "x": 0.05
          },
          "xaxis": {
           "automargin": true,
           "gridcolor": "white",
           "linecolor": "white",
           "ticks": "",
           "title": {
            "standoff": 15
           },
           "zerolinecolor": "white",
           "zerolinewidth": 2
          },
          "yaxis": {
           "automargin": true,
           "gridcolor": "white",
           "linecolor": "white",
           "ticks": "",
           "title": {
            "standoff": 15
           },
           "zerolinecolor": "white",
           "zerolinewidth": 2
          }
         }
        },
        "xaxis": {
         "anchor": "y",
         "domain": [
          0,
          1
         ],
         "title": {
          "text": "index"
         }
        },
        "yaxis": {
         "anchor": "x",
         "domain": [
          0,
          1
         ],
         "title": {
          "text": "value"
         }
        }
       }
      }
     },
     "metadata": {},
     "output_type": "display_data"
    }
   ],
   "source": [
    "import plotly.express as px\n",
    "\n",
    "df = pd.DataFrame({\"y_true\": y_true, \"y_preds\": y_preds}).head(500)\n",
    "fig = px.line(df, y=[\"y_true\", \"y_preds\"], title='')\n",
    "fig.show()"
   ]
  }
 ],
 "metadata": {
  "kernelspec": {
   "display_name": "venv-sail",
   "language": "python",
   "name": "python3"
  },
  "language_info": {
   "codemirror_mode": {
    "name": "ipython",
    "version": 3
   },
   "file_extension": ".py",
   "mimetype": "text/x-python",
   "name": "python",
   "nbconvert_exporter": "python",
   "pygments_lexer": "ipython3",
   "version": "3.10.10"
  },
  "orig_nbformat": 4
 },
 "nbformat": 4,
 "nbformat_minor": 2
}
