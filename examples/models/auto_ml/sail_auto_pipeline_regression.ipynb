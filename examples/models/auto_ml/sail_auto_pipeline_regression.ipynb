{
 "cells": [
  {
   "cell_type": "code",
   "execution_count": 1,
   "metadata": {},
   "outputs": [],
   "source": [
    "import numpy as np\n",
    "import pandas as pd\n",
    "from river import optim\n",
    "from river import metrics\n",
    "from river.drift import EDDM\n",
    "from sail.models.auto_ml.tune import SAILTuneGridSearchCV\n",
    "from sail.models.river.forest import AdaptiveRandomForestRegressor\n",
    "from sail.models.river.linear_model import LinearRegression\n",
    "from sail.models.auto_ml.auto_pipeline import SAILAutoPipeline\n",
    "from sail.pipeline import SAILPipeline\n",
    "from sklearn.impute import SimpleImputer\n",
    "from sail.drift_detection.drift_detector import SAILDriftDetector\n",
    "from sail.transfomers.river.preprocessing import StandardScaler"
   ]
  },
  {
   "attachments": {},
   "cell_type": "markdown",
   "metadata": {},
   "source": [
    "#### Load Data\n"
   ]
  },
  {
   "cell_type": "code",
   "execution_count": 2,
   "metadata": {},
   "outputs": [],
   "source": [
    "X = pd.read_csv(\"../../datasets/HDWF2.csv\")\n",
    "\n",
    "y = X[\"power\"]\n",
    "X.drop([\"power\", \"time\"], axis=1, inplace=True)"
   ]
  },
  {
   "attachments": {},
   "cell_type": "markdown",
   "metadata": {},
   "source": [
    "#### Model Definition\n"
   ]
  },
  {
   "cell_type": "code",
   "execution_count": 3,
   "metadata": {},
   "outputs": [],
   "source": [
    "linear_reg = LinearRegression(optimizer=optim.SGD(0.1))\n",
    "random_forest = AdaptiveRandomForestRegressor()"
   ]
  },
  {
   "attachments": {},
   "cell_type": "markdown",
   "metadata": {},
   "source": [
    "#### Create SAIL Pipeline\n"
   ]
  },
  {
   "cell_type": "code",
   "execution_count": 4,
   "metadata": {},
   "outputs": [],
   "source": [
    "steps = [\n",
    "    (\"Imputer\", SimpleImputer(missing_values=np.nan, strategy=\"mean\")),\n",
    "    (\"standard_scalar\", StandardScaler()),\n",
    "    (\"regressor\", \"passthrough\"),\n",
    "]\n",
    "sail_pipeline = SAILPipeline(steps=steps, scoring=metrics.R2)"
   ]
  },
  {
   "attachments": {},
   "cell_type": "markdown",
   "metadata": {},
   "source": [
    "#### HPO Params\n"
   ]
  },
  {
   "cell_type": "code",
   "execution_count": 5,
   "metadata": {},
   "outputs": [],
   "source": [
    "params_grid = [\n",
    "    {\n",
    "        \"regressor\": [linear_reg],\n",
    "        \"regressor__l2\": [0.1, 0.9],\n",
    "        \"regressor__intercept_init\": [0.2, 0.5],\n",
    "    },\n",
    "    {\n",
    "        \"regressor\": [random_forest],\n",
    "        \"regressor__n_models\": [10, 15, 20]\n",
    "    },\n",
    "]"
   ]
  },
  {
   "attachments": {},
   "cell_type": "markdown",
   "metadata": {},
   "source": [
    "#### Create Model Instance\n"
   ]
  },
  {
   "cell_type": "code",
   "execution_count": 6,
   "metadata": {},
   "outputs": [
    {
     "name": "stderr",
     "output_type": "stream",
     "text": [
      "[2023-07-11 00:56:58:611] - INFO - SAIL : Pipeline Strategy [DetectAndIncrement] created with actions: ['DATA_COLLECTION', 'FIND_BEST_PIPELINE', 'SCORE_AND_DETECT_DRIFT', 'PARTIAL_FIT_MODEL']\n"
     ]
    }
   ],
   "source": [
    "auto_pipeline = SAILAutoPipeline(\n",
    "    pipeline=sail_pipeline,\n",
    "    pipeline_params_grid=params_grid,\n",
    "    search_method=SAILTuneGridSearchCV,\n",
    "    search_method_params={\n",
    "        \"num_cpus_per_trial\": 1,\n",
    "        \"max_iters\": 1,\n",
    "        \"early_stopping\": False,\n",
    "        \"mode\": \"max\",\n",
    "        \"scoring\": \"r2\",\n",
    "        \"pipeline_auto_early_stop\": False,\n",
    "        \"keep_best_configurations\": 2\n",
    "    },\n",
    "    search_data_size=1000,\n",
    "    incremental_training=True,\n",
    "    drift_detector=SAILDriftDetector(model=EDDM(), drift_param=\"difference\"),\n",
    "    pipeline_strategy=\"DetectAndIncrement\",\n",
    ")"
   ]
  },
  {
   "attachments": {},
   "cell_type": "markdown",
   "metadata": {},
   "source": [
    "#### Start Training\n"
   ]
  },
  {
   "cell_type": "code",
   "execution_count": 7,
   "metadata": {},
   "outputs": [
    {
     "data": {
      "text/html": [
       "<div class=\"tuneStatus\">\n",
       "  <div style=\"display: flex;flex-direction: row\">\n",
       "    <div style=\"display: flex;flex-direction: column;\">\n",
       "      <h3>Tune Status</h3>\n",
       "      <table>\n",
       "<tbody>\n",
       "<tr><td>Current time:</td><td>2023-07-11 00:57:19</td></tr>\n",
       "<tr><td>Running for: </td><td>00:00:17.21        </td></tr>\n",
       "<tr><td>Memory:      </td><td>29.2/64.0 GiB      </td></tr>\n",
       "</tbody>\n",
       "</table>\n",
       "    </div>\n",
       "    <div class=\"vDivider\"></div>\n",
       "    <div class=\"systemInfo\">\n",
       "      <h3>System Info</h3>\n",
       "      Using FIFO scheduling algorithm.<br>Logical resource usage: 0/10 CPUs, 0/0 GPUs\n",
       "    </div>\n",
       "    \n",
       "  </div>\n",
       "  <div class=\"hDivider\"></div>\n",
       "  <div class=\"trialStatus\">\n",
       "    <h3>Trial Status</h3>\n",
       "    <table>\n",
       "<thead>\n",
       "<tr><th>Trial name         </th><th>status    </th><th>loc           </th><th>regressor           </th><th style=\"text-align: right;\">    regressor__intercept\n",
       "_init</th><th style=\"text-align: right;\">  regressor__l2</th><th style=\"text-align: right;\">  regressor__n_models</th><th style=\"text-align: right;\">  iter</th><th style=\"text-align: right;\">  total time (s)</th><th style=\"text-align: right;\">  split0_test_score</th><th style=\"text-align: right;\">  split1_test_score</th><th style=\"text-align: right;\">  split2_test_score</th></tr>\n",
       "</thead>\n",
       "<tbody>\n",
       "<tr><td>_Trainable_9315f813</td><td>TERMINATED</td><td>127.0.0.1:7630</td><td>LinearRegressio_72b0</td><td style=\"text-align: right;\">0.2</td><td style=\"text-align: right;\">            0.1</td><td style=\"text-align: right;\">                     </td><td style=\"text-align: right;\">     1</td><td style=\"text-align: right;\">        0.205562</td><td style=\"text-align: right;\">       -2.22877e+19</td><td style=\"text-align: right;\">       -2.31076e+19</td><td style=\"text-align: right;\">       -6.51966e+19</td></tr>\n",
       "<tr><td>_Trainable_a5961589</td><td>TERMINATED</td><td>127.0.0.1:7639</td><td>LinearRegressio_fc10</td><td style=\"text-align: right;\">0.2</td><td style=\"text-align: right;\">            0.9</td><td style=\"text-align: right;\">                     </td><td style=\"text-align: right;\">     1</td><td style=\"text-align: right;\">        0.203111</td><td style=\"text-align: right;\">       -6.82354e+17</td><td style=\"text-align: right;\">       -6.05753e+17</td><td style=\"text-align: right;\">       -5.67513e+18</td></tr>\n",
       "<tr><td>_Trainable_97519164</td><td>TERMINATED</td><td>127.0.0.1:7640</td><td>LinearRegressio_d550</td><td style=\"text-align: right;\">0.5</td><td style=\"text-align: right;\">            0.1</td><td style=\"text-align: right;\">                     </td><td style=\"text-align: right;\">     1</td><td style=\"text-align: right;\">        0.225746</td><td style=\"text-align: right;\">       -3.12752e+19</td><td style=\"text-align: right;\">       -2.58568e+19</td><td style=\"text-align: right;\">       -6.76019e+19</td></tr>\n",
       "<tr><td>_Trainable_b65c4439</td><td>TERMINATED</td><td>127.0.0.1:7641</td><td>LinearRegressio_f700</td><td style=\"text-align: right;\">0.5</td><td style=\"text-align: right;\">            0.9</td><td style=\"text-align: right;\">                     </td><td style=\"text-align: right;\">     1</td><td style=\"text-align: right;\">        0.211687</td><td style=\"text-align: right;\">       -6.31941e+17</td><td style=\"text-align: right;\">       -5.45171e+17</td><td style=\"text-align: right;\">       -5.7334e+18 </td></tr>\n",
       "<tr><td>_Trainable_3632f39d</td><td>TERMINATED</td><td>127.0.0.1:7642</td><td>AdaptiveRandomF_a2b0</td><td style=\"text-align: right;\">   </td><td style=\"text-align: right;\">               </td><td style=\"text-align: right;\">                   10</td><td style=\"text-align: right;\">     1</td><td style=\"text-align: right;\">        6.44011 </td><td style=\"text-align: right;\">        0.638848   </td><td style=\"text-align: right;\">        0.742289   </td><td style=\"text-align: right;\">        0.712798   </td></tr>\n",
       "<tr><td>_Trainable_60c5e0e6</td><td>TERMINATED</td><td>127.0.0.1:7643</td><td>AdaptiveRandomF_c640</td><td style=\"text-align: right;\">   </td><td style=\"text-align: right;\">               </td><td style=\"text-align: right;\">                   15</td><td style=\"text-align: right;\">     1</td><td style=\"text-align: right;\">        9.60771 </td><td style=\"text-align: right;\">        0.604011   </td><td style=\"text-align: right;\">        0.714279   </td><td style=\"text-align: right;\">        0.74356    </td></tr>\n",
       "<tr><td>_Trainable_2fc52a5f</td><td>TERMINATED</td><td>127.0.0.1:7646</td><td>AdaptiveRandomF_e460</td><td style=\"text-align: right;\">   </td><td style=\"text-align: right;\">               </td><td style=\"text-align: right;\">                   20</td><td style=\"text-align: right;\">     1</td><td style=\"text-align: right;\">       12.6825  </td><td style=\"text-align: right;\">        0.705768   </td><td style=\"text-align: right;\">        0.793103   </td><td style=\"text-align: right;\">        0.755374   </td></tr>\n",
       "</tbody>\n",
       "</table>\n",
       "  </div>\n",
       "</div>\n",
       "<style>\n",
       ".tuneStatus {\n",
       "  color: var(--jp-ui-font-color1);\n",
       "}\n",
       ".tuneStatus .systemInfo {\n",
       "  display: flex;\n",
       "  flex-direction: column;\n",
       "}\n",
       ".tuneStatus td {\n",
       "  white-space: nowrap;\n",
       "}\n",
       ".tuneStatus .trialStatus {\n",
       "  display: flex;\n",
       "  flex-direction: column;\n",
       "}\n",
       ".tuneStatus h3 {\n",
       "  font-weight: bold;\n",
       "}\n",
       ".tuneStatus .hDivider {\n",
       "  border-bottom-width: var(--jp-border-width);\n",
       "  border-bottom-color: var(--jp-border-color0);\n",
       "  border-bottom-style: solid;\n",
       "}\n",
       ".tuneStatus .vDivider {\n",
       "  border-left-width: var(--jp-border-width);\n",
       "  border-left-color: var(--jp-border-color0);\n",
       "  border-left-style: solid;\n",
       "  margin: 0.5em 1em 0.5em 1em;\n",
       "}\n",
       "</style>\n"
      ],
      "text/plain": [
       "<IPython.core.display.HTML object>"
      ]
     },
     "metadata": {},
     "output_type": "display_data"
    },
    {
     "name": "stderr",
     "output_type": "stream",
     "text": [
      "2023-07-11 00:57:19,621\tINFO tune.py:945 -- Total run time: 17.22 seconds (17.21 seconds for the tuning loop).\n",
      "[2023-07-11 00:57:24:971] - INFO - SAIL : Pipeline tuning completed. Disconnecting Ray cluster...\n",
      "[2023-07-11 00:57:24:972] - INFO - SAIL : Found best params: {'regressor': AdaptiveRandomForestRegressor(n_models=20), 'regressor__n_models': 20}\n"
     ]
    }
   ],
   "source": [
    "y_preds = []\n",
    "y_true = []\n",
    "batch_size = 50\n",
    "\n",
    "for start in range(0, 1000, batch_size):\n",
    "\n",
    "    end = start + batch_size\n",
    "\n",
    "    X_train = X.iloc[start:end]\n",
    "    y_train = y.iloc[start:end]\n",
    "\n",
    "    if end > 1000: # search_data_size is 1000\n",
    "        preds = auto_pipeline.predict(X_train)\n",
    "        y_preds.extend(list(preds))\n",
    "        y_true.extend(list(y_train))\n",
    "\n",
    "    auto_pipeline.train(X_train, y_train)"
   ]
  },
  {
   "attachments": {},
   "cell_type": "markdown",
   "metadata": {},
   "source": [
    "#### Save Model"
   ]
  },
  {
   "cell_type": "code",
   "execution_count": 8,
   "metadata": {},
   "outputs": [
    {
     "name": "stderr",
     "output_type": "stream",
     "text": [
      "[2023-07-11 00:57:24:986] - INFO - SAIL (SAILAutoPipeline) : making directory tree ./sail_auto_pipeline\n",
      "[2023-07-11 00:57:24:986] - INFO - SAIL : making directory tree ./sail_auto_pipeline/sail_pipeline\n"
     ]
    },
    {
     "data": {
      "text/plain": [
       "'./sail_auto_pipeline'"
      ]
     },
     "execution_count": 8,
     "metadata": {},
     "output_type": "execute_result"
    }
   ],
   "source": [
    "auto_pipeline.save_model(\".\")"
   ]
  },
  {
   "attachments": {},
   "cell_type": "markdown",
   "metadata": {},
   "source": [
    "#### Load Model"
   ]
  },
  {
   "cell_type": "code",
   "execution_count": 9,
   "metadata": {},
   "outputs": [
    {
     "name": "stderr",
     "output_type": "stream",
     "text": [
      "[2023-07-11 00:57:26:377] - INFO - SAIL : Pipeline Strategy [DetectAndIncrement] created with actions: ['DATA_COLLECTION', 'FIND_BEST_PIPELINE', 'SCORE_AND_DETECT_DRIFT', 'PARTIAL_FIT_MODEL']\n"
     ]
    }
   ],
   "source": [
    "new_auto_pipeline = SAILAutoPipeline.load_model(\".\")"
   ]
  },
  {
   "attachments": {},
   "cell_type": "markdown",
   "metadata": {},
   "source": [
    "#### Continue training using the load model"
   ]
  },
  {
   "cell_type": "code",
   "execution_count": 10,
   "metadata": {},
   "outputs": [
    {
     "name": "stdout",
     "output_type": "stream",
     "text": [
      ">>>--------------------------------------------------------------------------------------------\n"
     ]
    },
    {
     "name": "stderr",
     "output_type": "stream",
     "text": [
      "SAIL Pipeline Progressive Score: 100%========== [Points: 50/50, Elapsed:0.0025s, Metric=R2, Batch Size=50, P_Score=0.374]\n",
      "SAIL Drift detection: 100%========== [Points: 50/50, Elapsed:0.0011s, Detector=EDDM, Batch Size=50, Param=differene, Drift=No]\n",
      "SAIL Pipeline Partial fit: 100%========== [Steps: 3/3, ETA: 00:00<00:00, Elapsed:0.192s, Batch Size=50, P_Score=0.374]            \n"
     ]
    },
    {
     "name": "stdout",
     "output_type": "stream",
     "text": [
      ">>>--------------------------------------------------------------------------------------------\n"
     ]
    },
    {
     "name": "stderr",
     "output_type": "stream",
     "text": [
      "SAIL Pipeline Progressive Score: 100%========== [Points: 50/50, Elapsed:0.0012s, Metric=R2, Batch Size=50, P_Score=0.909]\n",
      "SAIL Drift detection: 100%========== [Points: 50/50, Elapsed:0.0014s, Detector=EDDM, Batch Size=50, Param=differene, Drift=No]\n",
      "SAIL Pipeline Partial fit: 100%========== [Steps: 3/3, ETA: 00:00<00:00, Elapsed:0.189s, Batch Size=50, P_Score=0.909]            \n"
     ]
    },
    {
     "name": "stdout",
     "output_type": "stream",
     "text": [
      ">>>--------------------------------------------------------------------------------------------\n"
     ]
    },
    {
     "name": "stderr",
     "output_type": "stream",
     "text": [
      "SAIL Pipeline Progressive Score: 100%========== [Points: 50/50, Elapsed:0.0017s, Metric=R2, Batch Size=50, P_Score=0.835]\n",
      "SAIL Drift detection: 100%========== [Points: 50/50, Elapsed:0.0021s, Detector=EDDM, Batch Size=50, Param=differene, Drift=No]\n",
      "SAIL Pipeline Partial fit: 100%========== [Steps: 3/3, ETA: 00:00<00:00, Elapsed:0.292s, Batch Size=50, P_Score=0.835]            \n"
     ]
    },
    {
     "name": "stdout",
     "output_type": "stream",
     "text": [
      ">>>--------------------------------------------------------------------------------------------\n"
     ]
    },
    {
     "name": "stderr",
     "output_type": "stream",
     "text": [
      "SAIL Pipeline Progressive Score: 100%========== [Points: 50/50, Elapsed:0.0016s, Metric=R2, Batch Size=50, P_Score=0.841]\n",
      "SAIL Drift detection: 100%========== [Points: 50/50, Elapsed:0.0014s, Detector=EDDM, Batch Size=50, Param=differene, Drift=No]\n",
      "SAIL Pipeline Partial fit: 100%========== [Steps: 3/3, ETA: 00:00<00:00, Elapsed:0.192s, Batch Size=50, P_Score=0.841]            \n"
     ]
    },
    {
     "name": "stdout",
     "output_type": "stream",
     "text": [
      ">>>--------------------------------------------------------------------------------------------\n"
     ]
    },
    {
     "name": "stderr",
     "output_type": "stream",
     "text": [
      "SAIL Pipeline Progressive Score: 100%========== [Points: 50/50, Elapsed:0.0018s, Metric=R2, Batch Size=50, P_Score=0.853]\n",
      "SAIL Drift detection: 100%========== [Points: 50/50, Elapsed:0.0026s, Detector=EDDM, Batch Size=50, Param=differene, Drift=No]\n",
      "SAIL Pipeline Partial fit: 100%========== [Steps: 3/3, ETA: 00:00<00:00, Elapsed:0.176s, Batch Size=50, P_Score=0.853]            \n"
     ]
    },
    {
     "name": "stdout",
     "output_type": "stream",
     "text": [
      ">>>--------------------------------------------------------------------------------------------\n"
     ]
    },
    {
     "name": "stderr",
     "output_type": "stream",
     "text": [
      "SAIL Pipeline Progressive Score: 100%========== [Points: 50/50, Elapsed:0.0029s, Metric=R2, Batch Size=50, P_Score=0.852]\n",
      "SAIL Drift detection: 100%========== [Points: 50/50, Elapsed:0.0023s, Detector=EDDM, Batch Size=50, Param=differene, Drift=No]\n",
      "SAIL Pipeline Partial fit: 100%========== [Steps: 3/3, ETA: 00:00<00:00, Elapsed:0.180s, Batch Size=50, P_Score=0.852]            \n"
     ]
    },
    {
     "name": "stdout",
     "output_type": "stream",
     "text": [
      ">>>--------------------------------------------------------------------------------------------\n"
     ]
    },
    {
     "name": "stderr",
     "output_type": "stream",
     "text": [
      "SAIL Pipeline Progressive Score: 100%========== [Points: 50/50, Elapsed:0.0015s, Metric=R2, Batch Size=50, P_Score=0.861]\n",
      "SAIL Drift detection: 100%========== [Points: 50/50, Elapsed:0.0008s, Detector=EDDM, Batch Size=50, Param=differene, Drift=No]\n",
      "SAIL Pipeline Partial fit: 100%========== [Steps: 3/3, ETA: 00:00<00:00, Elapsed:0.203s, Batch Size=50, P_Score=0.861]            \n"
     ]
    },
    {
     "name": "stdout",
     "output_type": "stream",
     "text": [
      ">>>--------------------------------------------------------------------------------------------\n"
     ]
    },
    {
     "name": "stderr",
     "output_type": "stream",
     "text": [
      "SAIL Pipeline Progressive Score: 100%========== [Points: 50/50, Elapsed:0.0030s, Metric=R2, Batch Size=50, P_Score=0.861]\n",
      "SAIL Drift detection: 100%========== [Points: 50/50, Elapsed:0.0020s, Detector=EDDM, Batch Size=50, Param=differene, Drift=No]\n",
      "SAIL Pipeline Partial fit: 100%========== [Steps: 3/3, ETA: 00:00<00:00, Elapsed:0.183s, Batch Size=50, P_Score=0.861]            \n"
     ]
    },
    {
     "name": "stdout",
     "output_type": "stream",
     "text": [
      ">>>--------------------------------------------------------------------------------------------\n"
     ]
    },
    {
     "name": "stderr",
     "output_type": "stream",
     "text": [
      "SAIL Pipeline Progressive Score: 100%========== [Points: 50/50, Elapsed:0.0073s, Metric=R2, Batch Size=50, P_Score=0.862]\n",
      "SAIL Drift detection: 100%========== [Points: 50/50, Elapsed:0.0075s, Detector=EDDM, Batch Size=50, Param=differene, Drift=No]\n",
      "SAIL Pipeline Partial fit: 100%========== [Steps: 3/3, ETA: 00:00<00:00, Elapsed:0.161s, Batch Size=50, P_Score=0.862]            \n"
     ]
    },
    {
     "name": "stdout",
     "output_type": "stream",
     "text": [
      ">>>--------------------------------------------------------------------------------------------\n"
     ]
    },
    {
     "name": "stderr",
     "output_type": "stream",
     "text": [
      "SAIL Pipeline Progressive Score: 100%========== [Points: 50/50, Elapsed:0.0015s, Metric=R2, Batch Size=50, P_Score=0.866]\n",
      "SAIL Drift detection: 100%========== [Points: 50/50, Elapsed:0.0011s, Detector=EDDM, Batch Size=50, Param=differene, Drift=No]\n",
      "SAIL Pipeline Partial fit: 100%========== [Steps: 3/3, ETA: 00:00<00:00, Elapsed:0.186s, Batch Size=50, P_Score=0.866]            \n"
     ]
    },
    {
     "name": "stdout",
     "output_type": "stream",
     "text": [
      ">>>--------------------------------------------------------------------------------------------\n"
     ]
    },
    {
     "name": "stderr",
     "output_type": "stream",
     "text": [
      "SAIL Pipeline Progressive Score: 100%========== [Points: 50/50, Elapsed:0.0015s, Metric=R2, Batch Size=50, P_Score=0.854]\n",
      "SAIL Drift detection: 100%========== [Points: 50/50, Elapsed:0.0010s, Detector=EDDM, Batch Size=50, Param=differene, Drift=No]\n",
      "SAIL Pipeline Partial fit: 100%========== [Steps: 3/3, ETA: 00:00<00:00, Elapsed:0.167s, Batch Size=50, P_Score=0.854]            \n"
     ]
    },
    {
     "name": "stdout",
     "output_type": "stream",
     "text": [
      ">>>--------------------------------------------------------------------------------------------\n"
     ]
    },
    {
     "name": "stderr",
     "output_type": "stream",
     "text": [
      "SAIL Pipeline Progressive Score: 100%========== [Points: 50/50, Elapsed:0.0078s, Metric=R2, Batch Size=50, P_Score=0.849]\n",
      "SAIL Drift detection: 100%========== [Points: 50/50, Elapsed:0.0040s, Detector=EDDM, Batch Size=50, Param=differene, Drift=No]\n",
      "SAIL Pipeline Partial fit: 100%========== [Steps: 3/3, ETA: 00:00<00:00, Elapsed:0.180s, Batch Size=50, P_Score=0.849]            \n"
     ]
    },
    {
     "name": "stdout",
     "output_type": "stream",
     "text": [
      ">>>--------------------------------------------------------------------------------------------\n"
     ]
    },
    {
     "name": "stderr",
     "output_type": "stream",
     "text": [
      "SAIL Pipeline Progressive Score: 100%========== [Points: 50/50, Elapsed:0.0020s, Metric=R2, Batch Size=50, P_Score=0.838]\n",
      "SAIL Drift detection: 100%========== [Points: 50/50, Elapsed:0.0014s, Detector=EDDM, Batch Size=50, Param=differene, Drift=No]\n",
      "SAIL Pipeline Partial fit: 100%========== [Steps: 3/3, ETA: 00:00<00:00, Elapsed:0.208s, Batch Size=50, P_Score=0.838]            \n"
     ]
    },
    {
     "name": "stdout",
     "output_type": "stream",
     "text": [
      ">>>--------------------------------------------------------------------------------------------\n"
     ]
    },
    {
     "name": "stderr",
     "output_type": "stream",
     "text": [
      "SAIL Pipeline Progressive Score: 100%========== [Points: 50/50, Elapsed:0.0026s, Metric=R2, Batch Size=50, P_Score=0.828]\n",
      "SAIL Drift detection: 100%========== [Points: 50/50, Elapsed:0.0015s, Detector=EDDM, Batch Size=50, Param=differene, Drift=No]\n",
      "SAIL Pipeline Partial fit: 100%========== [Steps: 3/3, ETA: 00:00<00:00, Elapsed:0.196s, Batch Size=50, P_Score=0.828]            \n"
     ]
    },
    {
     "name": "stdout",
     "output_type": "stream",
     "text": [
      ">>>--------------------------------------------------------------------------------------------\n"
     ]
    },
    {
     "name": "stderr",
     "output_type": "stream",
     "text": [
      "SAIL Pipeline Progressive Score: 100%========== [Points: 50/50, Elapsed:0.0028s, Metric=R2, Batch Size=50, P_Score=0.839]\n",
      "SAIL Drift detection: 100%========== [Points: 50/50, Elapsed:0.0015s, Detector=EDDM, Batch Size=50, Param=differene, Drift=No]\n",
      "SAIL Pipeline Partial fit: 100%========== [Steps: 3/3, ETA: 00:00<00:00, Elapsed:0.180s, Batch Size=50, P_Score=0.839]            \n"
     ]
    },
    {
     "name": "stdout",
     "output_type": "stream",
     "text": [
      ">>>--------------------------------------------------------------------------------------------\n"
     ]
    },
    {
     "name": "stderr",
     "output_type": "stream",
     "text": [
      "SAIL Pipeline Progressive Score: 100%========== [Points: 50/50, Elapsed:0.0027s, Metric=R2, Batch Size=50, P_Score=0.798]\n",
      "SAIL Drift detection: 100%========== [Points: 50/50, Elapsed:0.0019s, Detector=EDDM, Batch Size=50, Param=differene, Drift=No]\n",
      "SAIL Pipeline Partial fit: 100%========== [Steps: 3/3, ETA: 00:00<00:00, Elapsed:0.203s, Batch Size=50, P_Score=0.798]            \n"
     ]
    },
    {
     "name": "stdout",
     "output_type": "stream",
     "text": [
      ">>>--------------------------------------------------------------------------------------------\n"
     ]
    },
    {
     "name": "stderr",
     "output_type": "stream",
     "text": [
      "SAIL Pipeline Progressive Score: 100%========== [Points: 50/50, Elapsed:0.0045s, Metric=R2, Batch Size=50, P_Score=0.796]\n",
      "SAIL Drift detection: 100%========== [Points: 50/50, Elapsed:0.0014s, Detector=EDDM, Batch Size=50, Param=differene, Drift=No]\n",
      "SAIL Pipeline Partial fit: 100%========== [Steps: 3/3, ETA: 00:00<00:00, Elapsed:0.222s, Batch Size=50, P_Score=0.796]            \n"
     ]
    },
    {
     "name": "stdout",
     "output_type": "stream",
     "text": [
      ">>>--------------------------------------------------------------------------------------------\n"
     ]
    },
    {
     "name": "stderr",
     "output_type": "stream",
     "text": [
      "SAIL Pipeline Progressive Score: 100%========== [Points: 50/50, Elapsed:0.0091s, Metric=R2, Batch Size=50, P_Score=0.778]\n",
      "SAIL Drift detection: 100%========== [Points: 50/50, Elapsed:0.0021s, Detector=EDDM, Batch Size=50, Param=differene, Drift=No]\n",
      "SAIL Pipeline Partial fit: 100%========== [Steps: 3/3, ETA: 00:00<00:00, Elapsed:0.169s, Batch Size=50, P_Score=0.778]            \n"
     ]
    },
    {
     "name": "stdout",
     "output_type": "stream",
     "text": [
      ">>>--------------------------------------------------------------------------------------------\n"
     ]
    },
    {
     "name": "stderr",
     "output_type": "stream",
     "text": [
      "SAIL Pipeline Progressive Score: 100%========== [Points: 50/50, Elapsed:0.0017s, Metric=R2, Batch Size=50, P_Score=0.781]\n",
      "SAIL Drift detection: 100%========== [Points: 50/50, Elapsed:0.0012s, Detector=EDDM, Batch Size=50, Param=differene, Drift=No]\n",
      "SAIL Pipeline Partial fit: 100%========== [Steps: 3/3, ETA: 00:00<00:00, Elapsed:0.174s, Batch Size=50, P_Score=0.781]            \n"
     ]
    },
    {
     "name": "stdout",
     "output_type": "stream",
     "text": [
      ">>>--------------------------------------------------------------------------------------------\n"
     ]
    },
    {
     "name": "stderr",
     "output_type": "stream",
     "text": [
      "SAIL Pipeline Progressive Score: 100%========== [Points: 50/50, Elapsed:0.0146s, Metric=R2, Batch Size=50, P_Score=0.777]\n",
      "SAIL Drift detection: 100%========== [Points: 50/50, Elapsed:0.0010s, Detector=EDDM, Batch Size=50, Param=differene, Drift=No]\n",
      "SAIL Pipeline Partial fit: 100%========== [Steps: 3/3, ETA: 00:00<00:00, Elapsed:0.270s, Batch Size=50, P_Score=0.777]            \n"
     ]
    },
    {
     "name": "stdout",
     "output_type": "stream",
     "text": [
      ">>>--------------------------------------------------------------------------------------------\n"
     ]
    },
    {
     "name": "stderr",
     "output_type": "stream",
     "text": [
      "SAIL Pipeline Progressive Score: 100%========== [Points: 50/50, Elapsed:0.0017s, Metric=R2, Batch Size=50, P_Score=0.782]\n",
      "SAIL Drift detection: 100%========== [Points: 50/50, Elapsed:0.0021s, Detector=EDDM, Batch Size=50, Param=differene, Drift=No]\n",
      "SAIL Pipeline Partial fit: 100%========== [Steps: 3/3, ETA: 00:00<00:00, Elapsed:0.207s, Batch Size=50, P_Score=0.782]            \n"
     ]
    },
    {
     "name": "stdout",
     "output_type": "stream",
     "text": [
      ">>>--------------------------------------------------------------------------------------------\n"
     ]
    },
    {
     "name": "stderr",
     "output_type": "stream",
     "text": [
      "SAIL Pipeline Progressive Score: 100%========== [Points: 50/50, Elapsed:0.0018s, Metric=R2, Batch Size=50, P_Score=0.78]\n",
      "SAIL Drift detection: 100%========== [Points: 50/50, Elapsed:0.0016s, Detector=EDDM, Batch Size=50, Param=differene, Drift=No]\n",
      "SAIL Pipeline Partial fit: 100%========== [Steps: 3/3, ETA: 00:00<00:00, Elapsed:0.215s, Batch Size=50, P_Score=0.78]            \n"
     ]
    },
    {
     "name": "stdout",
     "output_type": "stream",
     "text": [
      ">>>--------------------------------------------------------------------------------------------\n"
     ]
    },
    {
     "name": "stderr",
     "output_type": "stream",
     "text": [
      "SAIL Pipeline Progressive Score: 100%========== [Points: 50/50, Elapsed:0.0016s, Metric=R2, Batch Size=50, P_Score=0.778]\n",
      "SAIL Drift detection: 100%========== [Points: 50/50, Elapsed:0.0009s, Detector=EDDM, Batch Size=50, Param=differene, Drift=No]\n",
      "SAIL Pipeline Partial fit: 100%========== [Steps: 3/3, ETA: 00:00<00:00, Elapsed:0.186s, Batch Size=50, P_Score=0.778]            \n"
     ]
    },
    {
     "name": "stdout",
     "output_type": "stream",
     "text": [
      ">>>--------------------------------------------------------------------------------------------\n"
     ]
    },
    {
     "name": "stderr",
     "output_type": "stream",
     "text": [
      "SAIL Pipeline Progressive Score: 100%========== [Points: 50/50, Elapsed:0.0122s, Metric=R2, Batch Size=50, P_Score=0.779]\n",
      "SAIL Drift detection: 100%========== [Points: 50/50, Elapsed:0.0014s, Detector=EDDM, Batch Size=50, Param=differene, Drift=No]\n",
      "SAIL Pipeline Partial fit: 100%========== [Steps: 3/3, ETA: 00:00<00:00, Elapsed:0.211s, Batch Size=50, P_Score=0.779]            \n"
     ]
    },
    {
     "name": "stdout",
     "output_type": "stream",
     "text": [
      ">>>--------------------------------------------------------------------------------------------\n"
     ]
    },
    {
     "name": "stderr",
     "output_type": "stream",
     "text": [
      "SAIL Pipeline Progressive Score: 100%========== [Points: 50/50, Elapsed:0.0013s, Metric=R2, Batch Size=50, P_Score=0.783]\n",
      "SAIL Drift detection: 100%========== [Points: 50/50, Elapsed:0.0012s, Detector=EDDM, Batch Size=50, Param=differene, Drift=No]\n",
      "SAIL Pipeline Partial fit: 100%========== [Steps: 3/3, ETA: 00:00<00:00, Elapsed:0.212s, Batch Size=50, P_Score=0.783]            \n"
     ]
    },
    {
     "name": "stdout",
     "output_type": "stream",
     "text": [
      ">>>--------------------------------------------------------------------------------------------\n"
     ]
    },
    {
     "name": "stderr",
     "output_type": "stream",
     "text": [
      "SAIL Pipeline Progressive Score: 100%========== [Points: 50/50, Elapsed:0.0014s, Metric=R2, Batch Size=50, P_Score=0.788]\n",
      "SAIL Drift detection: 100%========== [Points: 50/50, Elapsed:0.0010s, Detector=EDDM, Batch Size=50, Param=differene, Drift=No]\n",
      "SAIL Pipeline Partial fit: 100%========== [Steps: 3/3, ETA: 00:00<00:00, Elapsed:0.182s, Batch Size=50, P_Score=0.788]            \n"
     ]
    },
    {
     "name": "stdout",
     "output_type": "stream",
     "text": [
      ">>>--------------------------------------------------------------------------------------------\n"
     ]
    },
    {
     "name": "stderr",
     "output_type": "stream",
     "text": [
      "SAIL Pipeline Progressive Score: 100%========== [Points: 50/50, Elapsed:0.0024s, Metric=R2, Batch Size=50, P_Score=0.79]\n",
      "SAIL Drift detection: 100%========== [Points: 50/50, Elapsed:0.0015s, Detector=EDDM, Batch Size=50, Param=differene, Drift=No]\n",
      "SAIL Pipeline Partial fit: 100%========== [Steps: 3/3, ETA: 00:00<00:00, Elapsed:0.210s, Batch Size=50, P_Score=0.79]            \n"
     ]
    },
    {
     "name": "stdout",
     "output_type": "stream",
     "text": [
      ">>>--------------------------------------------------------------------------------------------\n"
     ]
    },
    {
     "name": "stderr",
     "output_type": "stream",
     "text": [
      "SAIL Pipeline Progressive Score: 100%========== [Points: 50/50, Elapsed:0.0019s, Metric=R2, Batch Size=50, P_Score=0.795]\n",
      "SAIL Drift detection: 100%========== [Points: 50/50, Elapsed:0.0017s, Detector=EDDM, Batch Size=50, Param=differene, Drift=No]\n",
      "SAIL Pipeline Partial fit: 100%========== [Steps: 3/3, ETA: 00:00<00:00, Elapsed:0.184s, Batch Size=50, P_Score=0.795]            \n"
     ]
    },
    {
     "name": "stdout",
     "output_type": "stream",
     "text": [
      ">>>--------------------------------------------------------------------------------------------\n"
     ]
    },
    {
     "name": "stderr",
     "output_type": "stream",
     "text": [
      "SAIL Pipeline Progressive Score: 100%========== [Points: 50/50, Elapsed:0.0014s, Metric=R2, Batch Size=50, P_Score=0.788]\n",
      "SAIL Drift detection: 100%========== [Points: 50/50, Elapsed:0.0008s, Detector=EDDM, Batch Size=50, Param=differene, Drift=No]\n",
      "SAIL Pipeline Partial fit: 100%========== [Steps: 3/3, ETA: 00:00<00:00, Elapsed:0.190s, Batch Size=50, P_Score=0.788]            \n"
     ]
    },
    {
     "name": "stdout",
     "output_type": "stream",
     "text": [
      ">>>--------------------------------------------------------------------------------------------\n"
     ]
    },
    {
     "name": "stderr",
     "output_type": "stream",
     "text": [
      "SAIL Pipeline Progressive Score: 100%========== [Points: 50/50, Elapsed:0.0097s, Metric=R2, Batch Size=50, P_Score=0.795]\n",
      "SAIL Drift detection: 100%========== [Points: 50/50, Elapsed:0.0028s, Detector=EDDM, Batch Size=50, Param=differene, Drift=No]\n",
      "SAIL Pipeline Partial fit: 100%========== [Steps: 3/3, ETA: 00:00<00:00, Elapsed:0.210s, Batch Size=50, P_Score=0.795]            \n"
     ]
    }
   ],
   "source": [
    "for start in range(501, 2001, batch_size):\n",
    "\n",
    "    end = start + batch_size\n",
    "\n",
    "    X_train = X.iloc[start:end]\n",
    "    y_train = y.iloc[start:end]\n",
    "\n",
    "    if end > 1000: # search_data_size is 1000\n",
    "        preds = new_auto_pipeline.predict(X_train)\n",
    "        if preds is not None:\n",
    "            y_preds.extend(list(preds))\n",
    "            y_true.extend(list(y_train))\n",
    "\n",
    "    new_auto_pipeline.train(X_train, y_train)"
   ]
  },
  {
   "attachments": {},
   "cell_type": "markdown",
   "metadata": {},
   "source": [
    "#### Final Score\n"
   ]
  },
  {
   "cell_type": "code",
   "execution_count": 11,
   "metadata": {},
   "outputs": [
    {
     "data": {
      "text/plain": [
       "0.7948577843349771"
      ]
     },
     "execution_count": 11,
     "metadata": {},
     "output_type": "execute_result"
    }
   ],
   "source": [
    "new_auto_pipeline.progressive_score"
   ]
  },
  {
   "attachments": {},
   "cell_type": "markdown",
   "metadata": {},
   "source": [
    "### Plot predictions\n"
   ]
  },
  {
   "cell_type": "code",
   "execution_count": 12,
   "metadata": {},
   "outputs": [
    {
     "data": {
      "application/vnd.plotly.v1+json": {
       "config": {
        "plotlyServerURL": "https://plot.ly"
       },
       "data": [
        {
         "hovertemplate": "variable=y_true<br>index=%{x}<br>value=%{y}<extra></extra>",
         "legendgroup": "y_true",
         "line": {
          "color": "#636efa",
          "dash": "solid"
         },
         "marker": {
          "symbol": "circle"
         },
         "mode": "lines",
         "name": "y_true",
         "orientation": "v",
         "showlegend": true,
         "type": "scatter",
         "x": [
          0,
          1,
          2,
          3,
          4,
          5,
          6,
          7,
          8,
          9,
          10,
          11,
          12,
          13,
          14,
          15,
          16,
          17,
          18,
          19,
          20,
          21,
          22,
          23,
          24,
          25,
          26,
          27,
          28,
          29,
          30,
          31,
          32,
          33,
          34,
          35,
          36,
          37,
          38,
          39,
          40,
          41,
          42,
          43,
          44,
          45,
          46,
          47,
          48,
          49,
          50,
          51,
          52,
          53,
          54,
          55,
          56,
          57,
          58,
          59,
          60,
          61,
          62,
          63,
          64,
          65,
          66,
          67,
          68,
          69,
          70,
          71,
          72,
          73,
          74,
          75,
          76,
          77,
          78,
          79,
          80,
          81,
          82,
          83,
          84,
          85,
          86,
          87,
          88,
          89,
          90,
          91,
          92,
          93,
          94,
          95,
          96,
          97,
          98,
          99,
          100,
          101,
          102,
          103,
          104,
          105,
          106,
          107,
          108,
          109,
          110,
          111,
          112,
          113,
          114,
          115,
          116,
          117,
          118,
          119,
          120,
          121,
          122,
          123,
          124,
          125,
          126,
          127,
          128,
          129,
          130,
          131,
          132,
          133,
          134,
          135,
          136,
          137,
          138,
          139,
          140,
          141,
          142,
          143,
          144,
          145,
          146,
          147,
          148,
          149,
          150,
          151,
          152,
          153,
          154,
          155,
          156,
          157,
          158,
          159,
          160,
          161,
          162,
          163,
          164,
          165,
          166,
          167,
          168,
          169,
          170,
          171,
          172,
          173,
          174,
          175,
          176,
          177,
          178,
          179,
          180,
          181,
          182,
          183,
          184,
          185,
          186,
          187,
          188,
          189,
          190,
          191,
          192,
          193,
          194,
          195,
          196,
          197,
          198,
          199,
          200,
          201,
          202,
          203,
          204,
          205,
          206,
          207,
          208,
          209,
          210,
          211,
          212,
          213,
          214,
          215,
          216,
          217,
          218,
          219,
          220,
          221,
          222,
          223,
          224,
          225,
          226,
          227,
          228,
          229,
          230,
          231,
          232,
          233,
          234,
          235,
          236,
          237,
          238,
          239,
          240,
          241,
          242,
          243,
          244,
          245,
          246,
          247,
          248,
          249,
          250,
          251,
          252,
          253,
          254,
          255,
          256,
          257,
          258,
          259,
          260,
          261,
          262,
          263,
          264,
          265,
          266,
          267,
          268,
          269,
          270,
          271,
          272,
          273,
          274,
          275,
          276,
          277,
          278,
          279,
          280,
          281,
          282,
          283,
          284,
          285,
          286,
          287,
          288,
          289,
          290,
          291,
          292,
          293,
          294,
          295,
          296,
          297,
          298,
          299,
          300,
          301,
          302,
          303,
          304,
          305,
          306,
          307,
          308,
          309,
          310,
          311,
          312,
          313,
          314,
          315,
          316,
          317,
          318,
          319,
          320,
          321,
          322,
          323,
          324,
          325,
          326,
          327,
          328,
          329,
          330,
          331,
          332,
          333,
          334,
          335,
          336,
          337,
          338,
          339,
          340,
          341,
          342,
          343,
          344,
          345,
          346,
          347,
          348,
          349,
          350,
          351,
          352,
          353,
          354,
          355,
          356,
          357,
          358,
          359,
          360,
          361,
          362,
          363,
          364,
          365,
          366,
          367,
          368,
          369,
          370,
          371,
          372,
          373,
          374,
          375,
          376,
          377,
          378,
          379,
          380,
          381,
          382,
          383,
          384,
          385,
          386,
          387,
          388,
          389,
          390,
          391,
          392,
          393,
          394,
          395,
          396,
          397,
          398,
          399,
          400,
          401,
          402,
          403,
          404,
          405,
          406,
          407,
          408,
          409,
          410,
          411,
          412,
          413,
          414,
          415,
          416,
          417,
          418,
          419,
          420,
          421,
          422,
          423,
          424,
          425,
          426,
          427,
          428,
          429,
          430,
          431,
          432,
          433,
          434,
          435,
          436,
          437,
          438,
          439,
          440,
          441,
          442,
          443,
          444,
          445,
          446,
          447,
          448,
          449,
          450,
          451,
          452,
          453,
          454,
          455,
          456,
          457,
          458,
          459,
          460,
          461,
          462,
          463,
          464,
          465,
          466,
          467,
          468,
          469,
          470,
          471,
          472,
          473,
          474,
          475,
          476,
          477,
          478,
          479,
          480,
          481,
          482,
          483,
          484,
          485,
          486,
          487,
          488,
          489,
          490,
          491,
          492,
          493,
          494,
          495,
          496,
          497,
          498,
          499
         ],
         "xaxis": "x",
         "y": [
          87.475,
          89.8,
          80.38333333,
          79.05833333,
          76.35,
          78.64166667,
          77.14166667,
          81.875,
          84.05,
          82.84166667,
          87.475,
          87.49166667,
          86.18333333,
          84.10833333,
          80.475,
          85.45,
          90.74166667,
          87.175,
          90.50833333,
          99.775,
          99.81666667,
          99.14166667,
          99.79166667,
          99.74166667,
          99.70833333,
          98.24166667,
          96.61666667,
          85.20833333,
          83.55,
          75.01666667,
          87.675,
          85.575,
          84.475,
          52.60833333,
          48.91666667,
          47.24166667,
          48.48333333,
          55.08333333,
          54.80833333,
          74.96666667,
          73.3,
          69.19166667,
          83.98333333,
          77.15833333,
          84.04166667,
          80.55833333,
          81.68333333,
          94.975,
          80.93333333,
          80.19166667,
          78.95833333,
          97.98333333,
          99.15833333,
          90.75,
          83.75833333,
          64.98333333,
          61.30833333,
          47.68333333,
          32.95833333,
          26.83333333,
          20.71666667,
          14.44166667,
          16.08333333,
          19.51666667,
          25.64166667,
          19.16666667,
          24.54166667,
          21.61666667,
          21.2,
          45.30833333,
          47.50833333,
          52.85833333,
          67.78333333,
          73.68333333,
          63.375,
          27.23333333,
          21.58333333,
          23.50833333,
          26.35833333,
          46.33333333,
          44.76666667,
          41.08333333,
          38.925,
          45.90833333,
          63.16666667,
          47.2,
          48.13333333,
          41.69166667,
          33.35833333,
          24.575,
          19.125,
          12.73333333,
          7.216666667,
          5.575,
          2.441666667,
          1.75,
          1.966666667,
          1.475,
          1.133333333,
          0,
          0.808333333,
          0,
          0,
          0,
          0,
          2.175,
          2.1583333330000003,
          1.308333333,
          10.49166667,
          18.41666667,
          29.24166667,
          47.09166667,
          48.70833333,
          54.675,
          51.89166667,
          50.9,
          70.925,
          76.21666667,
          78.64166667,
          72.21666667,
          71.86666667,
          73.29166667,
          75.95833333,
          78.35833333,
          73.71666667,
          77.875,
          75.35,
          75.44166667,
          77.26666667,
          73.8,
          72.64166667,
          77.45,
          75.64166667,
          79.76666667,
          85.11666667,
          88.625,
          78.40833333,
          72.88333333,
          75.55,
          74.075,
          58.91666667,
          50.50833333,
          36.51666667,
          42.35833333,
          59.64166667,
          73.45833333,
          77.16666667,
          62.575,
          86.30833333,
          40.93333333,
          60.625,
          49.10833333,
          42.96666667,
          55.81666667,
          38.65833333,
          26.1,
          29.25833333,
          23.775,
          17.55833333,
          10.95833333,
          4.691666667,
          2.925,
          1.7416666669999998,
          0.75,
          2.558333333,
          5.791666667,
          8.033333333,
          10.91666667,
          13.73333333,
          17.875,
          17.19166667,
          0.941666667,
          0,
          0,
          0,
          0,
          0,
          0,
          0.291666667,
          3.483333333,
          5.366666667,
          12.64166667,
          13.775,
          7.158333333,
          14,
          15.54166667,
          16.6,
          13.08333333,
          24.025,
          35.425,
          66.1,
          63.26666667,
          61.40833333,
          70.55833333,
          74.01666667,
          80.29166667,
          76.1,
          76.025,
          84.79166667,
          81.68333333,
          69.05,
          73.65,
          68.34166667,
          68.9,
          40.05833333,
          60.125,
          74.93333333,
          79.11666667,
          72.08333333,
          73.85,
          71.425,
          74.35,
          78.925,
          78.63333333,
          84,
          83.15,
          79.74166667,
          80.08333333,
          79.40833333,
          77.45833333,
          77.65,
          77.65833333,
          77.25833333,
          76.34166667,
          74.65833333,
          71.66666667,
          67.925,
          60.875,
          51.29166667,
          55.71666667,
          72.55,
          70.14166667,
          66.05833333,
          65.69166667,
          60.775,
          63.10833333,
          73.88333333,
          71.90833333,
          66.85,
          57.675,
          48.46666667,
          50.925,
          37.3,
          29.05833333,
          28.61666667,
          24.01666667,
          13.15833333,
          7.883333332999999,
          1.016666667,
          0.191666667,
          0.216666667,
          1.6833333330000002,
          5.583333333,
          7.15,
          3.675,
          2.383333333,
          4.7,
          7.933333332999999,
          2.75,
          0,
          0,
          0.45,
          2.2833333330000003,
          5.441666667000001,
          13.49166667,
          11.65,
          4.041666667,
          0,
          0,
          0,
          0,
          0,
          0,
          0.141666667,
          0,
          0,
          0,
          0,
          0,
          0,
          0,
          0,
          0.6416666670000001,
          1.425,
          11.95,
          22.79166667,
          16.91666667,
          14.79166667,
          13.89166667,
          11.16666667,
          4.791666667,
          1.45,
          0,
          0.016666667,
          5.883333333,
          8.808333333,
          22.54166667,
          24.01666667,
          25.75,
          27.89166667,
          31.60833333,
          46.14166667,
          57.28333333,
          65.575,
          69.80833333,
          76.41666667,
          73.69166667,
          64.525,
          54.1,
          71.58333333,
          60.76666667,
          43.8,
          34.54166667,
          33.075,
          30.2,
          30.025,
          50.3,
          82.73333333,
          98.44166667,
          99.825,
          99.65833333,
          99.81666667,
          99.78333333,
          99.725,
          99.1,
          99.26666667,
          99.81666667,
          99.825,
          99.83333333,
          99.45,
          99.65,
          97.99166667,
          95.2,
          88.70833333,
          49.89166667,
          14.98333333,
          56.54166667,
          98.1,
          95.075,
          89.91666667,
          56.90833333,
          61.925,
          77.03333333,
          60.225,
          89.99166667,
          88.325,
          85.89166667,
          47.00833333,
          33.50833333,
          43.025,
          71.31666667,
          91.375,
          94.91666667,
          98.94166667,
          91.38333333,
          69.61666667,
          73.03333333,
          79.40833333,
          87.49166667,
          86.125,
          84.85833333,
          78.56666667,
          78.21666667,
          56.725,
          83.375,
          89.66666667,
          81.64166667,
          86.825,
          97.225,
          95.68333333,
          92.25,
          86.40833333,
          93.775,
          91.29166667,
          93.15,
          84.325,
          62.83333333,
          37.975,
          38.01666667,
          34.64166667,
          51.55833333,
          42.36666667,
          19.95833333,
          3.666666667,
          2.716666667,
          1.808333333,
          3.333333333,
          10.575,
          12.16666667,
          12.925,
          9.433333333,
          10.18333333,
          16.81666667,
          21.8,
          18.975,
          23.025,
          13.89166667,
          3.8,
          0,
          0,
          0,
          0,
          0,
          0.008333333,
          3.016666667,
          7.033333333,
          13.375,
          22.85,
          12.375,
          16.80833333,
          24.45,
          21.26666667,
          13.14166667,
          4.05,
          7.966666667,
          25.8,
          25.3,
          16.3,
          6.725,
          9.058333333,
          15.38333333,
          14.19166667,
          20.59166667,
          44.075,
          61.23333333,
          74.04166667,
          75.56666667,
          65.975,
          45.23333333,
          29.60833333,
          19.18333333,
          9.3,
          3.475,
          0.8,
          0.7,
          2.383333333,
          17.025,
          46.625,
          52.79166667,
          60.39166667,
          66.96666667,
          76.54166667,
          84.53333333,
          93.275,
          92.03333333,
          94.15833333,
          86.33333333,
          91.025,
          85.875,
          75.36666667,
          63.58333333,
          48.29166667,
          26.91666667,
          12.775,
          6.15,
          5.008333333,
          3.491666667,
          4.541666667,
          6.291666667,
          10.90833333,
          27.58333333,
          51.25833333,
          67.26666667,
          81.00833333,
          84.55,
          89.525,
          90.8,
          95.8,
          99.75833333,
          99.79166667,
          96.35833333,
          92.125,
          99.775,
          99.81666667,
          99.825,
          99.825,
          99.71666667,
          98.7,
          98.85,
          99.84166667,
          98.51666667,
          99.75833333,
          99.73333333,
          94.45833333,
          88.95833333,
          82.85,
          82.50833333,
          80.175,
          78.83333333,
          73.48333333,
          78.83333333,
          79.03333333,
          83.65,
          80.75,
          74.26666667,
          74.06666667,
          79.96666667,
          77.90833333,
          88.05833333,
          90.15833333
         ],
         "yaxis": "y"
        },
        {
         "hovertemplate": "variable=y_preds<br>index=%{x}<br>value=%{y}<extra></extra>",
         "legendgroup": "y_preds",
         "line": {
          "color": "#EF553B",
          "dash": "solid"
         },
         "marker": {
          "symbol": "circle"
         },
         "mode": "lines",
         "name": "y_preds",
         "orientation": "v",
         "showlegend": true,
         "type": "scatter",
         "x": [
          0,
          1,
          2,
          3,
          4,
          5,
          6,
          7,
          8,
          9,
          10,
          11,
          12,
          13,
          14,
          15,
          16,
          17,
          18,
          19,
          20,
          21,
          22,
          23,
          24,
          25,
          26,
          27,
          28,
          29,
          30,
          31,
          32,
          33,
          34,
          35,
          36,
          37,
          38,
          39,
          40,
          41,
          42,
          43,
          44,
          45,
          46,
          47,
          48,
          49,
          50,
          51,
          52,
          53,
          54,
          55,
          56,
          57,
          58,
          59,
          60,
          61,
          62,
          63,
          64,
          65,
          66,
          67,
          68,
          69,
          70,
          71,
          72,
          73,
          74,
          75,
          76,
          77,
          78,
          79,
          80,
          81,
          82,
          83,
          84,
          85,
          86,
          87,
          88,
          89,
          90,
          91,
          92,
          93,
          94,
          95,
          96,
          97,
          98,
          99,
          100,
          101,
          102,
          103,
          104,
          105,
          106,
          107,
          108,
          109,
          110,
          111,
          112,
          113,
          114,
          115,
          116,
          117,
          118,
          119,
          120,
          121,
          122,
          123,
          124,
          125,
          126,
          127,
          128,
          129,
          130,
          131,
          132,
          133,
          134,
          135,
          136,
          137,
          138,
          139,
          140,
          141,
          142,
          143,
          144,
          145,
          146,
          147,
          148,
          149,
          150,
          151,
          152,
          153,
          154,
          155,
          156,
          157,
          158,
          159,
          160,
          161,
          162,
          163,
          164,
          165,
          166,
          167,
          168,
          169,
          170,
          171,
          172,
          173,
          174,
          175,
          176,
          177,
          178,
          179,
          180,
          181,
          182,
          183,
          184,
          185,
          186,
          187,
          188,
          189,
          190,
          191,
          192,
          193,
          194,
          195,
          196,
          197,
          198,
          199,
          200,
          201,
          202,
          203,
          204,
          205,
          206,
          207,
          208,
          209,
          210,
          211,
          212,
          213,
          214,
          215,
          216,
          217,
          218,
          219,
          220,
          221,
          222,
          223,
          224,
          225,
          226,
          227,
          228,
          229,
          230,
          231,
          232,
          233,
          234,
          235,
          236,
          237,
          238,
          239,
          240,
          241,
          242,
          243,
          244,
          245,
          246,
          247,
          248,
          249,
          250,
          251,
          252,
          253,
          254,
          255,
          256,
          257,
          258,
          259,
          260,
          261,
          262,
          263,
          264,
          265,
          266,
          267,
          268,
          269,
          270,
          271,
          272,
          273,
          274,
          275,
          276,
          277,
          278,
          279,
          280,
          281,
          282,
          283,
          284,
          285,
          286,
          287,
          288,
          289,
          290,
          291,
          292,
          293,
          294,
          295,
          296,
          297,
          298,
          299,
          300,
          301,
          302,
          303,
          304,
          305,
          306,
          307,
          308,
          309,
          310,
          311,
          312,
          313,
          314,
          315,
          316,
          317,
          318,
          319,
          320,
          321,
          322,
          323,
          324,
          325,
          326,
          327,
          328,
          329,
          330,
          331,
          332,
          333,
          334,
          335,
          336,
          337,
          338,
          339,
          340,
          341,
          342,
          343,
          344,
          345,
          346,
          347,
          348,
          349,
          350,
          351,
          352,
          353,
          354,
          355,
          356,
          357,
          358,
          359,
          360,
          361,
          362,
          363,
          364,
          365,
          366,
          367,
          368,
          369,
          370,
          371,
          372,
          373,
          374,
          375,
          376,
          377,
          378,
          379,
          380,
          381,
          382,
          383,
          384,
          385,
          386,
          387,
          388,
          389,
          390,
          391,
          392,
          393,
          394,
          395,
          396,
          397,
          398,
          399,
          400,
          401,
          402,
          403,
          404,
          405,
          406,
          407,
          408,
          409,
          410,
          411,
          412,
          413,
          414,
          415,
          416,
          417,
          418,
          419,
          420,
          421,
          422,
          423,
          424,
          425,
          426,
          427,
          428,
          429,
          430,
          431,
          432,
          433,
          434,
          435,
          436,
          437,
          438,
          439,
          440,
          441,
          442,
          443,
          444,
          445,
          446,
          447,
          448,
          449,
          450,
          451,
          452,
          453,
          454,
          455,
          456,
          457,
          458,
          459,
          460,
          461,
          462,
          463,
          464,
          465,
          466,
          467,
          468,
          469,
          470,
          471,
          472,
          473,
          474,
          475,
          476,
          477,
          478,
          479,
          480,
          481,
          482,
          483,
          484,
          485,
          486,
          487,
          488,
          489,
          490,
          491,
          492,
          493,
          494,
          495,
          496,
          497,
          498,
          499
         ],
         "xaxis": "x",
         "y": [
          74.57309193428944,
          77.11168647400957,
          77.68928533929585,
          78.08514917572302,
          76.03131450384686,
          77.48277090150827,
          79.00168640872869,
          79.96000753915968,
          81.21346698946154,
          83.25180658646221,
          83.42874790641957,
          84.64969563066325,
          84.64969563066325,
          84.64969563066325,
          84.64969563066325,
          85.51351819309626,
          85.51351819309626,
          85.51351819309626,
          85.40332420106274,
          85.82225637052429,
          88.02835257251272,
          88.32417520601808,
          88.32417520601808,
          87.90265570755054,
          87.90265570755054,
          86.7412847120744,
          83.90412644800193,
          81.11772577715143,
          81.11772577715143,
          78.36603151993992,
          81.43668919996901,
          77.23431712932867,
          77.23431712932867,
          73.26126323025655,
          55.99559208108564,
          52.771840254768094,
          52.742787690651475,
          60.54765602843902,
          69.66745180236396,
          76.04113392267224,
          75.19495655004354,
          77.03200644846726,
          78.58312582409826,
          82.20998880570319,
          83.18735466114545,
          83.18735466114545,
          82.81653632209235,
          83.29025158615393,
          84.08957746998706,
          83.08873511197325,
          82.19397587012458,
          80.0920853442963,
          77.2429416033427,
          74.49248058826632,
          71.30528361565248,
          63.509237187681514,
          56.554829053292536,
          54.59501440814999,
          49.91205419611937,
          36.92851768713522,
          31.042606837971796,
          31.987992496116327,
          31.484018136652224,
          31.484018136652224,
          33.60384663445978,
          33.60384663445978,
          41.90360119575996,
          32.47080180874924,
          30.586476623892633,
          31.563052711788444,
          35.63786295508733,
          44.74149256584684,
          46.58806246865988,
          45.65283601659131,
          37.74880711924324,
          32.391814954920584,
          30.185024944712552,
          15.027936271406695,
          15.665788333825025,
          17.098900711437608,
          19.042388444928392,
          24.67619976138667,
          27.517272641317845,
          29.59192956875298,
          24.278215913491657,
          29.359924481679663,
          28.37011273267468,
          28.15367849049767,
          29.016732257920268,
          33.161852036615464,
          39.24326010089453,
          21.432688096844437,
          19.530157270196014,
          28.487926533428297,
          27.115115753225997,
          29.50551940496488,
          23.737519796700358,
          16.710268068066547,
          23.46556326372156,
          20.17138215641908,
          4.949286138370971,
          11.552891156190633,
          15.253941604903844,
          15.253941604903844,
          10.641849489439117,
          10.641849489439117,
          18.713354851026686,
          18.713354851026686,
          21.878096311718068,
          27.0157102708187,
          28.36265319086855,
          34.80125487288743,
          34.80125487288743,
          35.91238091845642,
          39.82819392588391,
          43.5901113552815,
          56.82582096216498,
          65.48666185088634,
          76.27489952564075,
          78.12423154559494,
          78.12423154559494,
          79.71812116310699,
          79.71812116310699,
          79.04752801560124,
          80.11655230241573,
          81.56925663077088,
          80.80774806570403,
          80.31668046151137,
          80.80774806570403,
          80.52918817249054,
          80.52918817249054,
          80.0169769509458,
          80.52918817249054,
          80.52918817249054,
          80.50804455513847,
          81.95641127961335,
          84.21509837857639,
          85.11424800870198,
          81.07757233200826,
          80.13942729320513,
          74.72751055475916,
          79.66073924089599,
          73.90274504477708,
          78.7873237627989,
          75.8905874620383,
          76.59069714965909,
          77.57255036619088,
          77.05285790509616,
          78.70096892727176,
          72.50079261797922,
          67.63864503946374,
          68.50132190288149,
          57.05528537679838,
          51.0605244851339,
          45.539903618647024,
          51.64923097602622,
          53.87527135259434,
          58.790735799133884,
          52.09520336539301,
          41.81734563762275,
          36.61539982013318,
          35.63930392780266,
          37.497308675225426,
          31.141534392682544,
          30.653887086896106,
          36.58866116368346,
          35.85910879420883,
          35.59478542642716,
          45.15969853882961,
          40.252040269865034,
          44.23636517101836,
          36.49977981261172,
          26.09318876614937,
          4.593138888765695,
          4.236603535063068,
          4.236603535063068,
          4.236603535063068,
          2.9740692249855503,
          7.6325215159593975,
          12.312341917748904,
          10.652533668459327,
          10.652533668459327,
          12.708263944327932,
          23.94137720941133,
          24.18138329563871,
          31.872514174606586,
          36.37161707250122,
          37.9914955347582,
          50.539222612197676,
          56.865219330332636,
          58.384674429755094,
          60.67496562065567,
          69.81457583311345,
          74.39548929667035,
          73.62720520337444,
          73.89336379098154,
          77.43546677420531,
          77.90517355546767,
          75.70679860947499,
          78.49919802723088,
          77.10676440260617,
          71.80289870023418,
          71.97386428554933,
          69.81714253697861,
          64.28665856842133,
          63.04541198793659,
          64.57613305410854,
          64.57613305410854,
          63.19340578119946,
          66.63904430933583,
          75.48722558484545,
          78.35718300346971,
          83.62447716782907,
          83.83786348501755,
          81.72384082481736,
          81.78908450490869,
          82.28185077533081,
          82.21781114147225,
          84.3436857468426,
          82.14653599274601,
          75.07249618731653,
          73.7080757540395,
          72.08094109970847,
          70.03485057467014,
          71.94149747125245,
          70.03485057467014,
          57.77449348702896,
          56.57682916480748,
          48.073722395359226,
          48.5826770391271,
          44.51093845828787,
          36.65486176347099,
          33.760319531721066,
          33.40960933962952,
          36.65486176347099,
          42.4617823262402,
          41.411083540522334,
          36.30538283270801,
          36.30538283270801,
          37.37099987152516,
          37.983198924288224,
          43.905293598168356,
          35.51045771743843,
          32.74010396218348,
          28.596957672535755,
          21.61810296773981,
          18.948028273750246,
          13.222071396078793,
          16.236971529230857,
          13.153371466723549,
          3.412905053113671,
          3.412905053113671,
          3.220407087857736,
          4.9887359425735545,
          5.909472400941664,
          3.479744601542656,
          3.3634991803691863,
          3.220407087857736,
          3.56474008189106,
          4.351742351611409,
          12.211305030855096,
          18.32732399226102,
          26.895979450100107,
          25.89143457208647,
          28.706828497017252,
          25.085394430972006,
          28.59245029531761,
          28.880342103904205,
          4.5656080623845705,
          2.7441738670883935,
          2.4815901193349266,
          2.4815901193349266,
          3.087753265398476,
          3.5268672361692017,
          3.5268672361692017,
          3.087753265398476,
          3.087753265398476,
          2.9634766140610935,
          2.951354206010377,
          3.0550188511641405,
          3.0550188511641405,
          3.630810699645306,
          7.5285895662182645,
          27.173763564955934,
          30.06896516304214,
          36.74430365279998,
          36.598480392812064,
          38.43506913642952,
          41.19339221176744,
          37.339450712340856,
          38.36309153139166,
          22.864781211554885,
          9.112755820725377,
          5.98755830010748,
          7.619136886834061,
          40.90960070702013,
          43.571167501066824,
          44.482659708142855,
          52.67993029321774,
          48.907727466030764,
          43.752233153457844,
          47.4993069939743,
          55.168421184890974,
          50.97016250985827,
          54.644129871140635,
          53.491128173190035,
          60.735937500074996,
          78.25062966295644,
          72.64073653135499,
          66.47521889494931,
          54.463702072446665,
          55.630569690184984,
          54.463702072446665,
          55.630569690184984,
          61.427739281497644,
          53.042715419778915,
          52.225570843518796,
          53.042715419778915,
          72.34377883255999,
          78.04730729492165,
          80.02239824310948,
          80.02239824310948,
          78.47259952780061,
          78.70202677285633,
          79.74257040627072,
          78.42973426142416,
          75.71851906231839,
          79.74257040627072,
          80.93115539093422,
          79.74257040627072,
          77.83735115434271,
          77.83735115434271,
          77.83735115434271,
          78.42973426142416,
          74.98321907568365,
          74.98321907568365,
          74.57140590981066,
          66.40315774415592,
          65.6483650287399,
          43.51347474218866,
          22.550674256979345,
          16.59028439204762,
          7.109044221761284,
          18.7475328556082,
          21.894351853,
          18.7475328556082,
          34.527163175267376,
          33.095090026354605,
          48.656865373606536,
          66.03848039205883,
          81.71685605993505,
          81.71685605993505,
          81.16320857111819,
          81.54602311865423,
          82.45945377991598,
          79.40216045592888,
          79.25834533778753,
          79.25834533778753,
          79.80597271760709,
          79.25834533778753,
          79.25834533778753,
          79.80597271760709,
          73.94651694608507,
          73.94651694608507,
          75.16483055098084,
          79.25834533778753,
          79.25834533778753,
          76.94345761803645,
          76.94345761803645,
          76.94345761803645,
          74.81818404856676,
          71.92409388289266,
          64.89326276220886,
          54.063210143661735,
          36.16847222087037,
          32.75489627277543,
          32.75489627277543,
          27.776231904740634,
          21.729298197755504,
          33.030146433713455,
          30.652261757665947,
          30.897046704524442,
          28.85735625824195,
          18.774629631208338,
          17.69056950828939,
          16.970190185140908,
          16.970190185140908,
          16.16298962412556,
          9.551960076679052,
          7.725895207921158,
          3.622702767303562,
          2.0621862848461037,
          3.9600382024506855,
          3.934012257489944,
          2.6320402651465686,
          2.2874440990095417,
          2.2874440990095417,
          2.042055006000031,
          2.042055006000031,
          2.181949942529115,
          2.9588299100680966,
          4.67999695099703,
          3.034505299760296,
          5.358951677546289,
          8.615479776057933,
          10.335870271696121,
          26.595730469181817,
          29.733630231807624,
          36.78144583354296,
          37.68849958825995,
          29.70478588925255,
          23.536604458082948,
          12.596347931922512,
          9.74550356073214,
          10.15541629493315,
          10.772388840496337,
          8.488012510359232,
          8.488012510359232,
          9.703210818302539,
          9.590713417210544,
          8.640149934851362,
          8.488012510359232,
          10.181097972527024,
          10.181097972527024,
          12.262434443240346,
          24.607942193696147,
          22.29502138393959,
          23.967241681094308,
          34.24021836021363,
          20.998826951979623,
          12.357867148031366,
          12.281231182810146,
          7.547171153937988,
          7.544114279320679,
          5.35488325307198,
          5.35488325307198,
          7.766701773925609,
          14.003292061329432,
          16.27352124266997,
          34.904368441173716,
          37.56087399569772,
          37.56087399569772,
          46.931427448121866,
          48.51361781884033,
          50.62301922472254,
          52.341559828666675,
          49.429869873504686,
          45.22011703737331,
          44.993403515626326,
          45.727460794757164,
          54.37296874978219,
          45.57478422668137,
          34.4448328887216,
          29.403767361627082,
          34.268270841427864,
          31.202781445839406,
          29.27947933562199,
          34.554898313612796,
          39.12402693370327,
          39.12402693370327,
          29.27947933562199,
          29.27947933562199,
          68.52557002394659,
          75.73591631310103,
          74.74252986908245,
          76.97153143826965,
          75.11350976579612,
          75.11350976579612,
          82.07392570174983,
          82.07392570174983,
          85.12618921248836,
          85.07246329191753,
          85.07246329191753,
          83.92150895897458,
          79.12696915793356,
          82.81254182120003,
          81.81226004586927,
          80.49915695419867,
          80.49915695419867,
          79.57863437261804,
          80.49915695419867,
          81.45230024415358,
          80.60672921542624,
          80.60672921542624,
          80.85712655225615,
          80.85712655225615,
          82.19473801242009,
          83.08923264470107,
          82.19473801242009,
          82.19473801242009,
          83.02358926596271,
          83.02358926596271,
          83.02358926596271,
          83.91678461566153,
          83.91678461566153,
          83.91678461566153,
          83.91678461566153,
          83.91678461566153,
          83.91678461566153,
          83.02358926596271
         ],
         "yaxis": "y"
        }
       ],
       "layout": {
        "legend": {
         "title": {
          "text": "variable"
         },
         "tracegroupgap": 0
        },
        "margin": {
         "t": 60
        },
        "template": {
         "data": {
          "bar": [
           {
            "error_x": {
             "color": "#2a3f5f"
            },
            "error_y": {
             "color": "#2a3f5f"
            },
            "marker": {
             "line": {
              "color": "#E5ECF6",
              "width": 0.5
             },
             "pattern": {
              "fillmode": "overlay",
              "size": 10,
              "solidity": 0.2
             }
            },
            "type": "bar"
           }
          ],
          "barpolar": [
           {
            "marker": {
             "line": {
              "color": "#E5ECF6",
              "width": 0.5
             },
             "pattern": {
              "fillmode": "overlay",
              "size": 10,
              "solidity": 0.2
             }
            },
            "type": "barpolar"
           }
          ],
          "carpet": [
           {
            "aaxis": {
             "endlinecolor": "#2a3f5f",
             "gridcolor": "white",
             "linecolor": "white",
             "minorgridcolor": "white",
             "startlinecolor": "#2a3f5f"
            },
            "baxis": {
             "endlinecolor": "#2a3f5f",
             "gridcolor": "white",
             "linecolor": "white",
             "minorgridcolor": "white",
             "startlinecolor": "#2a3f5f"
            },
            "type": "carpet"
           }
          ],
          "choropleth": [
           {
            "colorbar": {
             "outlinewidth": 0,
             "ticks": ""
            },
            "type": "choropleth"
           }
          ],
          "contour": [
           {
            "colorbar": {
             "outlinewidth": 0,
             "ticks": ""
            },
            "colorscale": [
             [
              0,
              "#0d0887"
             ],
             [
              0.1111111111111111,
              "#46039f"
             ],
             [
              0.2222222222222222,
              "#7201a8"
             ],
             [
              0.3333333333333333,
              "#9c179e"
             ],
             [
              0.4444444444444444,
              "#bd3786"
             ],
             [
              0.5555555555555556,
              "#d8576b"
             ],
             [
              0.6666666666666666,
              "#ed7953"
             ],
             [
              0.7777777777777778,
              "#fb9f3a"
             ],
             [
              0.8888888888888888,
              "#fdca26"
             ],
             [
              1,
              "#f0f921"
             ]
            ],
            "type": "contour"
           }
          ],
          "contourcarpet": [
           {
            "colorbar": {
             "outlinewidth": 0,
             "ticks": ""
            },
            "type": "contourcarpet"
           }
          ],
          "heatmap": [
           {
            "colorbar": {
             "outlinewidth": 0,
             "ticks": ""
            },
            "colorscale": [
             [
              0,
              "#0d0887"
             ],
             [
              0.1111111111111111,
              "#46039f"
             ],
             [
              0.2222222222222222,
              "#7201a8"
             ],
             [
              0.3333333333333333,
              "#9c179e"
             ],
             [
              0.4444444444444444,
              "#bd3786"
             ],
             [
              0.5555555555555556,
              "#d8576b"
             ],
             [
              0.6666666666666666,
              "#ed7953"
             ],
             [
              0.7777777777777778,
              "#fb9f3a"
             ],
             [
              0.8888888888888888,
              "#fdca26"
             ],
             [
              1,
              "#f0f921"
             ]
            ],
            "type": "heatmap"
           }
          ],
          "heatmapgl": [
           {
            "colorbar": {
             "outlinewidth": 0,
             "ticks": ""
            },
            "colorscale": [
             [
              0,
              "#0d0887"
             ],
             [
              0.1111111111111111,
              "#46039f"
             ],
             [
              0.2222222222222222,
              "#7201a8"
             ],
             [
              0.3333333333333333,
              "#9c179e"
             ],
             [
              0.4444444444444444,
              "#bd3786"
             ],
             [
              0.5555555555555556,
              "#d8576b"
             ],
             [
              0.6666666666666666,
              "#ed7953"
             ],
             [
              0.7777777777777778,
              "#fb9f3a"
             ],
             [
              0.8888888888888888,
              "#fdca26"
             ],
             [
              1,
              "#f0f921"
             ]
            ],
            "type": "heatmapgl"
           }
          ],
          "histogram": [
           {
            "marker": {
             "pattern": {
              "fillmode": "overlay",
              "size": 10,
              "solidity": 0.2
             }
            },
            "type": "histogram"
           }
          ],
          "histogram2d": [
           {
            "colorbar": {
             "outlinewidth": 0,
             "ticks": ""
            },
            "colorscale": [
             [
              0,
              "#0d0887"
             ],
             [
              0.1111111111111111,
              "#46039f"
             ],
             [
              0.2222222222222222,
              "#7201a8"
             ],
             [
              0.3333333333333333,
              "#9c179e"
             ],
             [
              0.4444444444444444,
              "#bd3786"
             ],
             [
              0.5555555555555556,
              "#d8576b"
             ],
             [
              0.6666666666666666,
              "#ed7953"
             ],
             [
              0.7777777777777778,
              "#fb9f3a"
             ],
             [
              0.8888888888888888,
              "#fdca26"
             ],
             [
              1,
              "#f0f921"
             ]
            ],
            "type": "histogram2d"
           }
          ],
          "histogram2dcontour": [
           {
            "colorbar": {
             "outlinewidth": 0,
             "ticks": ""
            },
            "colorscale": [
             [
              0,
              "#0d0887"
             ],
             [
              0.1111111111111111,
              "#46039f"
             ],
             [
              0.2222222222222222,
              "#7201a8"
             ],
             [
              0.3333333333333333,
              "#9c179e"
             ],
             [
              0.4444444444444444,
              "#bd3786"
             ],
             [
              0.5555555555555556,
              "#d8576b"
             ],
             [
              0.6666666666666666,
              "#ed7953"
             ],
             [
              0.7777777777777778,
              "#fb9f3a"
             ],
             [
              0.8888888888888888,
              "#fdca26"
             ],
             [
              1,
              "#f0f921"
             ]
            ],
            "type": "histogram2dcontour"
           }
          ],
          "mesh3d": [
           {
            "colorbar": {
             "outlinewidth": 0,
             "ticks": ""
            },
            "type": "mesh3d"
           }
          ],
          "parcoords": [
           {
            "line": {
             "colorbar": {
              "outlinewidth": 0,
              "ticks": ""
             }
            },
            "type": "parcoords"
           }
          ],
          "pie": [
           {
            "automargin": true,
            "type": "pie"
           }
          ],
          "scatter": [
           {
            "fillpattern": {
             "fillmode": "overlay",
             "size": 10,
             "solidity": 0.2
            },
            "type": "scatter"
           }
          ],
          "scatter3d": [
           {
            "line": {
             "colorbar": {
              "outlinewidth": 0,
              "ticks": ""
             }
            },
            "marker": {
             "colorbar": {
              "outlinewidth": 0,
              "ticks": ""
             }
            },
            "type": "scatter3d"
           }
          ],
          "scattercarpet": [
           {
            "marker": {
             "colorbar": {
              "outlinewidth": 0,
              "ticks": ""
             }
            },
            "type": "scattercarpet"
           }
          ],
          "scattergeo": [
           {
            "marker": {
             "colorbar": {
              "outlinewidth": 0,
              "ticks": ""
             }
            },
            "type": "scattergeo"
           }
          ],
          "scattergl": [
           {
            "marker": {
             "colorbar": {
              "outlinewidth": 0,
              "ticks": ""
             }
            },
            "type": "scattergl"
           }
          ],
          "scattermapbox": [
           {
            "marker": {
             "colorbar": {
              "outlinewidth": 0,
              "ticks": ""
             }
            },
            "type": "scattermapbox"
           }
          ],
          "scatterpolar": [
           {
            "marker": {
             "colorbar": {
              "outlinewidth": 0,
              "ticks": ""
             }
            },
            "type": "scatterpolar"
           }
          ],
          "scatterpolargl": [
           {
            "marker": {
             "colorbar": {
              "outlinewidth": 0,
              "ticks": ""
             }
            },
            "type": "scatterpolargl"
           }
          ],
          "scatterternary": [
           {
            "marker": {
             "colorbar": {
              "outlinewidth": 0,
              "ticks": ""
             }
            },
            "type": "scatterternary"
           }
          ],
          "surface": [
           {
            "colorbar": {
             "outlinewidth": 0,
             "ticks": ""
            },
            "colorscale": [
             [
              0,
              "#0d0887"
             ],
             [
              0.1111111111111111,
              "#46039f"
             ],
             [
              0.2222222222222222,
              "#7201a8"
             ],
             [
              0.3333333333333333,
              "#9c179e"
             ],
             [
              0.4444444444444444,
              "#bd3786"
             ],
             [
              0.5555555555555556,
              "#d8576b"
             ],
             [
              0.6666666666666666,
              "#ed7953"
             ],
             [
              0.7777777777777778,
              "#fb9f3a"
             ],
             [
              0.8888888888888888,
              "#fdca26"
             ],
             [
              1,
              "#f0f921"
             ]
            ],
            "type": "surface"
           }
          ],
          "table": [
           {
            "cells": {
             "fill": {
              "color": "#EBF0F8"
             },
             "line": {
              "color": "white"
             }
            },
            "header": {
             "fill": {
              "color": "#C8D4E3"
             },
             "line": {
              "color": "white"
             }
            },
            "type": "table"
           }
          ]
         },
         "layout": {
          "annotationdefaults": {
           "arrowcolor": "#2a3f5f",
           "arrowhead": 0,
           "arrowwidth": 1
          },
          "autotypenumbers": "strict",
          "coloraxis": {
           "colorbar": {
            "outlinewidth": 0,
            "ticks": ""
           }
          },
          "colorscale": {
           "diverging": [
            [
             0,
             "#8e0152"
            ],
            [
             0.1,
             "#c51b7d"
            ],
            [
             0.2,
             "#de77ae"
            ],
            [
             0.3,
             "#f1b6da"
            ],
            [
             0.4,
             "#fde0ef"
            ],
            [
             0.5,
             "#f7f7f7"
            ],
            [
             0.6,
             "#e6f5d0"
            ],
            [
             0.7,
             "#b8e186"
            ],
            [
             0.8,
             "#7fbc41"
            ],
            [
             0.9,
             "#4d9221"
            ],
            [
             1,
             "#276419"
            ]
           ],
           "sequential": [
            [
             0,
             "#0d0887"
            ],
            [
             0.1111111111111111,
             "#46039f"
            ],
            [
             0.2222222222222222,
             "#7201a8"
            ],
            [
             0.3333333333333333,
             "#9c179e"
            ],
            [
             0.4444444444444444,
             "#bd3786"
            ],
            [
             0.5555555555555556,
             "#d8576b"
            ],
            [
             0.6666666666666666,
             "#ed7953"
            ],
            [
             0.7777777777777778,
             "#fb9f3a"
            ],
            [
             0.8888888888888888,
             "#fdca26"
            ],
            [
             1,
             "#f0f921"
            ]
           ],
           "sequentialminus": [
            [
             0,
             "#0d0887"
            ],
            [
             0.1111111111111111,
             "#46039f"
            ],
            [
             0.2222222222222222,
             "#7201a8"
            ],
            [
             0.3333333333333333,
             "#9c179e"
            ],
            [
             0.4444444444444444,
             "#bd3786"
            ],
            [
             0.5555555555555556,
             "#d8576b"
            ],
            [
             0.6666666666666666,
             "#ed7953"
            ],
            [
             0.7777777777777778,
             "#fb9f3a"
            ],
            [
             0.8888888888888888,
             "#fdca26"
            ],
            [
             1,
             "#f0f921"
            ]
           ]
          },
          "colorway": [
           "#636efa",
           "#EF553B",
           "#00cc96",
           "#ab63fa",
           "#FFA15A",
           "#19d3f3",
           "#FF6692",
           "#B6E880",
           "#FF97FF",
           "#FECB52"
          ],
          "font": {
           "color": "#2a3f5f"
          },
          "geo": {
           "bgcolor": "white",
           "lakecolor": "white",
           "landcolor": "#E5ECF6",
           "showlakes": true,
           "showland": true,
           "subunitcolor": "white"
          },
          "hoverlabel": {
           "align": "left"
          },
          "hovermode": "closest",
          "mapbox": {
           "style": "light"
          },
          "paper_bgcolor": "white",
          "plot_bgcolor": "#E5ECF6",
          "polar": {
           "angularaxis": {
            "gridcolor": "white",
            "linecolor": "white",
            "ticks": ""
           },
           "bgcolor": "#E5ECF6",
           "radialaxis": {
            "gridcolor": "white",
            "linecolor": "white",
            "ticks": ""
           }
          },
          "scene": {
           "xaxis": {
            "backgroundcolor": "#E5ECF6",
            "gridcolor": "white",
            "gridwidth": 2,
            "linecolor": "white",
            "showbackground": true,
            "ticks": "",
            "zerolinecolor": "white"
           },
           "yaxis": {
            "backgroundcolor": "#E5ECF6",
            "gridcolor": "white",
            "gridwidth": 2,
            "linecolor": "white",
            "showbackground": true,
            "ticks": "",
            "zerolinecolor": "white"
           },
           "zaxis": {
            "backgroundcolor": "#E5ECF6",
            "gridcolor": "white",
            "gridwidth": 2,
            "linecolor": "white",
            "showbackground": true,
            "ticks": "",
            "zerolinecolor": "white"
           }
          },
          "shapedefaults": {
           "line": {
            "color": "#2a3f5f"
           }
          },
          "ternary": {
           "aaxis": {
            "gridcolor": "white",
            "linecolor": "white",
            "ticks": ""
           },
           "baxis": {
            "gridcolor": "white",
            "linecolor": "white",
            "ticks": ""
           },
           "bgcolor": "#E5ECF6",
           "caxis": {
            "gridcolor": "white",
            "linecolor": "white",
            "ticks": ""
           }
          },
          "title": {
           "x": 0.05
          },
          "xaxis": {
           "automargin": true,
           "gridcolor": "white",
           "linecolor": "white",
           "ticks": "",
           "title": {
            "standoff": 15
           },
           "zerolinecolor": "white",
           "zerolinewidth": 2
          },
          "yaxis": {
           "automargin": true,
           "gridcolor": "white",
           "linecolor": "white",
           "ticks": "",
           "title": {
            "standoff": 15
           },
           "zerolinecolor": "white",
           "zerolinewidth": 2
          }
         }
        },
        "xaxis": {
         "anchor": "y",
         "domain": [
          0,
          1
         ],
         "title": {
          "text": "index"
         }
        },
        "yaxis": {
         "anchor": "x",
         "domain": [
          0,
          1
         ],
         "title": {
          "text": "value"
         }
        }
       }
      }
     },
     "metadata": {},
     "output_type": "display_data"
    }
   ],
   "source": [
    "import plotly.express as px\n",
    "\n",
    "df = pd.DataFrame({\"y_true\": y_true, \"y_preds\": y_preds}).head(500)\n",
    "fig = px.line(df, y=[\"y_true\", \"y_preds\"], title='')\n",
    "fig.show()"
   ]
  }
 ],
 "metadata": {
  "kernelspec": {
   "display_name": "venv-sail",
   "language": "python",
   "name": "python3"
  },
  "language_info": {
   "codemirror_mode": {
    "name": "ipython",
    "version": 3
   },
   "file_extension": ".py",
   "mimetype": "text/x-python",
   "name": "python",
   "nbconvert_exporter": "python",
   "pygments_lexer": "ipython3",
   "version": "3.8.12"
  },
  "orig_nbformat": 4
 },
 "nbformat": 4,
 "nbformat_minor": 2
}
