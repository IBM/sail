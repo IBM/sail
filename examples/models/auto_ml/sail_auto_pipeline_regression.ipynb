{
 "cells": [
  {
   "cell_type": "code",
   "execution_count": 1,
   "metadata": {},
   "outputs": [],
   "source": [
    "import numpy as np\n",
    "import pandas as pd\n",
    "from river import optim\n",
    "from river import metrics\n",
    "from river.drift import EDDM\n",
    "from sail.models.auto_ml.tune import SAILTuneGridSearchCV\n",
    "from sail.models.river.forest import AdaptiveRandomForestRegressor\n",
    "from sail.models.river.linear_model import LinearRegression\n",
    "from sail.models.auto_ml.auto_pipeline import SAILAutoPipeline\n",
    "from sail.pipeline import SAILPipeline\n",
    "from sklearn.impute import SimpleImputer\n",
    "from sail.drift_detection.drift_detector import SAILDriftDetector\n",
    "from sail.transfomers.river.preprocessing import StandardScaler"
   ]
  },
  {
   "attachments": {},
   "cell_type": "markdown",
   "metadata": {},
   "source": [
    "#### Load Data\n"
   ]
  },
  {
   "cell_type": "code",
   "execution_count": 2,
   "metadata": {},
   "outputs": [],
   "source": [
    "X = pd.read_csv(\"../../datasets/HDWF2.csv\")\n",
    "\n",
    "y = X[\"power\"]\n",
    "X.drop([\"power\", \"time\"], axis=1, inplace=True)"
   ]
  },
  {
   "attachments": {},
   "cell_type": "markdown",
   "metadata": {},
   "source": [
    "#### Model Definition\n"
   ]
  },
  {
   "cell_type": "code",
   "execution_count": 3,
   "metadata": {},
   "outputs": [],
   "source": [
    "linear_reg = LinearRegression(optimizer=optim.SGD(0.1))\n",
    "random_forest = AdaptiveRandomForestRegressor()"
   ]
  },
  {
   "attachments": {},
   "cell_type": "markdown",
   "metadata": {},
   "source": [
    "#### Create SAIL Pipeline\n"
   ]
  },
  {
   "cell_type": "code",
   "execution_count": 4,
   "metadata": {},
   "outputs": [],
   "source": [
    "steps = [\n",
    "    (\"Imputer\", SimpleImputer(missing_values=np.nan, strategy=\"mean\")),\n",
    "    (\"standard_scalar\", StandardScaler()),\n",
    "    (\"regressor\", \"passthrough\"),\n",
    "]\n",
    "sail_pipeline = SAILPipeline(steps=steps, scoring=metrics.R2)"
   ]
  },
  {
   "attachments": {},
   "cell_type": "markdown",
   "metadata": {},
   "source": [
    "#### HPO Params\n"
   ]
  },
  {
   "cell_type": "code",
   "execution_count": 5,
   "metadata": {},
   "outputs": [],
   "source": [
    "params_grid = [\n",
    "    {\n",
    "        \"regressor\": [linear_reg],\n",
    "        \"regressor__l2\": [0.1, 0.9],\n",
    "        \"regressor__intercept_init\": [0.2, 0.5],\n",
    "    },\n",
    "    {\n",
    "        \"regressor\": [random_forest],\n",
    "        \"regressor__n_models\": [10, 15, 20]\n",
    "    },\n",
    "]"
   ]
  },
  {
   "attachments": {},
   "cell_type": "markdown",
   "metadata": {},
   "source": [
    "#### Create Model Instance\n"
   ]
  },
  {
   "cell_type": "code",
   "execution_count": 6,
   "metadata": {},
   "outputs": [
    {
     "name": "stderr",
     "output_type": "stream",
     "text": [
      "[2023-07-11 21:17:43:175] - INFO - SAIL : Pipeline Strategy [DetectAndIncrement] created with actions: ['DATA_COLLECTION', 'FIND_BEST_PIPELINE', 'SCORE_AND_DETECT_DRIFT', 'PARTIAL_FIT_MODEL']\n"
     ]
    }
   ],
   "source": [
    "auto_pipeline = SAILAutoPipeline(\n",
    "    pipeline=sail_pipeline,\n",
    "    pipeline_params_grid=params_grid,\n",
    "    search_method=SAILTuneGridSearchCV,\n",
    "    search_method_params={\n",
    "        \"num_cpus_per_trial\": 1,\n",
    "        \"max_iters\": 1,\n",
    "        \"early_stopping\": False,\n",
    "        \"mode\": \"max\",\n",
    "        \"scoring\": \"r2\",\n",
    "        \"pipeline_auto_early_stop\": False,\n",
    "        \"keep_best_configurations\": 2\n",
    "    },\n",
    "    search_data_size=1000,\n",
    "    incremental_training=True,\n",
    "    drift_detector=SAILDriftDetector(model=EDDM(), drift_param=\"difference\"),\n",
    "    pipeline_strategy=\"DetectAndIncrement\",\n",
    ")"
   ]
  },
  {
   "attachments": {},
   "cell_type": "markdown",
   "metadata": {},
   "source": [
    "#### Start Training\n"
   ]
  },
  {
   "cell_type": "code",
   "execution_count": 7,
   "metadata": {},
   "outputs": [
    {
     "data": {
      "text/html": [
       "<div class=\"tuneStatus\">\n",
       "  <div style=\"display: flex;flex-direction: row\">\n",
       "    <div style=\"display: flex;flex-direction: column;\">\n",
       "      <h3>Tune Status</h3>\n",
       "      <table>\n",
       "<tbody>\n",
       "<tr><td>Current time:</td><td>2023-07-11 21:18:03</td></tr>\n",
       "<tr><td>Running for: </td><td>00:00:17.10        </td></tr>\n",
       "<tr><td>Memory:      </td><td>30.3/64.0 GiB      </td></tr>\n",
       "</tbody>\n",
       "</table>\n",
       "    </div>\n",
       "    <div class=\"vDivider\"></div>\n",
       "    <div class=\"systemInfo\">\n",
       "      <h3>System Info</h3>\n",
       "      Using FIFO scheduling algorithm.<br>Logical resource usage: 0/10 CPUs, 0/0 GPUs\n",
       "    </div>\n",
       "    \n",
       "  </div>\n",
       "  <div class=\"hDivider\"></div>\n",
       "  <div class=\"trialStatus\">\n",
       "    <h3>Trial Status</h3>\n",
       "    <table>\n",
       "<thead>\n",
       "<tr><th>Trial name         </th><th>status    </th><th>loc            </th><th>regressor           </th><th style=\"text-align: right;\">    regressor__intercept\n",
       "_init</th><th style=\"text-align: right;\">  regressor__l2</th><th style=\"text-align: right;\">  regressor__n_models</th><th style=\"text-align: right;\">  iter</th><th style=\"text-align: right;\">  total time (s)</th><th style=\"text-align: right;\">  split0_test_score</th><th style=\"text-align: right;\">  split1_test_score</th><th style=\"text-align: right;\">  split2_test_score</th></tr>\n",
       "</thead>\n",
       "<tbody>\n",
       "<tr><td>_Trainable_cc7f5ee8</td><td>TERMINATED</td><td>127.0.0.1:91202</td><td>LinearRegressio_e820</td><td style=\"text-align: right;\">0.2</td><td style=\"text-align: right;\">            0.1</td><td style=\"text-align: right;\">                     </td><td style=\"text-align: right;\">     1</td><td style=\"text-align: right;\">        0.212071</td><td style=\"text-align: right;\">       -2.22877e+19</td><td style=\"text-align: right;\">       -2.31076e+19</td><td style=\"text-align: right;\">       -6.51966e+19</td></tr>\n",
       "<tr><td>_Trainable_71042eb8</td><td>TERMINATED</td><td>127.0.0.1:91207</td><td>LinearRegressio_2dc0</td><td style=\"text-align: right;\">0.2</td><td style=\"text-align: right;\">            0.9</td><td style=\"text-align: right;\">                     </td><td style=\"text-align: right;\">     1</td><td style=\"text-align: right;\">        0.216173</td><td style=\"text-align: right;\">       -6.82354e+17</td><td style=\"text-align: right;\">       -6.05753e+17</td><td style=\"text-align: right;\">       -5.67513e+18</td></tr>\n",
       "<tr><td>_Trainable_07a349c6</td><td>TERMINATED</td><td>127.0.0.1:91208</td><td>LinearRegressio_e550</td><td style=\"text-align: right;\">0.5</td><td style=\"text-align: right;\">            0.1</td><td style=\"text-align: right;\">                     </td><td style=\"text-align: right;\">     1</td><td style=\"text-align: right;\">        0.21712 </td><td style=\"text-align: right;\">       -3.12752e+19</td><td style=\"text-align: right;\">       -2.58568e+19</td><td style=\"text-align: right;\">       -6.76019e+19</td></tr>\n",
       "<tr><td>_Trainable_6b7b20e4</td><td>TERMINATED</td><td>127.0.0.1:91209</td><td>LinearRegressio_2d90</td><td style=\"text-align: right;\">0.5</td><td style=\"text-align: right;\">            0.9</td><td style=\"text-align: right;\">                     </td><td style=\"text-align: right;\">     1</td><td style=\"text-align: right;\">        0.224975</td><td style=\"text-align: right;\">       -6.31941e+17</td><td style=\"text-align: right;\">       -5.45171e+17</td><td style=\"text-align: right;\">       -5.7334e+18 </td></tr>\n",
       "<tr><td>_Trainable_60c04d0b</td><td>TERMINATED</td><td>127.0.0.1:91212</td><td>AdaptiveRandomF_a2b0</td><td style=\"text-align: right;\">   </td><td style=\"text-align: right;\">               </td><td style=\"text-align: right;\">                   10</td><td style=\"text-align: right;\">     1</td><td style=\"text-align: right;\">        6.42824 </td><td style=\"text-align: right;\">        0.559515   </td><td style=\"text-align: right;\">        0.778552   </td><td style=\"text-align: right;\">        0.739899   </td></tr>\n",
       "<tr><td>_Trainable_3d25d4ac</td><td>TERMINATED</td><td>127.0.0.1:91214</td><td>AdaptiveRandomF_d640</td><td style=\"text-align: right;\">   </td><td style=\"text-align: right;\">               </td><td style=\"text-align: right;\">                   15</td><td style=\"text-align: right;\">     1</td><td style=\"text-align: right;\">        9.57633 </td><td style=\"text-align: right;\">        0.549131   </td><td style=\"text-align: right;\">        0.7548     </td><td style=\"text-align: right;\">        0.738289   </td></tr>\n",
       "<tr><td>_Trainable_3631b5d7</td><td>TERMINATED</td><td>127.0.0.1:91215</td><td>AdaptiveRandomF_6460</td><td style=\"text-align: right;\">   </td><td style=\"text-align: right;\">               </td><td style=\"text-align: right;\">                   20</td><td style=\"text-align: right;\">     1</td><td style=\"text-align: right;\">       12.2194  </td><td style=\"text-align: right;\">        0.529517   </td><td style=\"text-align: right;\">        0.743925   </td><td style=\"text-align: right;\">        0.723326   </td></tr>\n",
       "</tbody>\n",
       "</table>\n",
       "  </div>\n",
       "</div>\n",
       "<style>\n",
       ".tuneStatus {\n",
       "  color: var(--jp-ui-font-color1);\n",
       "}\n",
       ".tuneStatus .systemInfo {\n",
       "  display: flex;\n",
       "  flex-direction: column;\n",
       "}\n",
       ".tuneStatus td {\n",
       "  white-space: nowrap;\n",
       "}\n",
       ".tuneStatus .trialStatus {\n",
       "  display: flex;\n",
       "  flex-direction: column;\n",
       "}\n",
       ".tuneStatus h3 {\n",
       "  font-weight: bold;\n",
       "}\n",
       ".tuneStatus .hDivider {\n",
       "  border-bottom-width: var(--jp-border-width);\n",
       "  border-bottom-color: var(--jp-border-color0);\n",
       "  border-bottom-style: solid;\n",
       "}\n",
       ".tuneStatus .vDivider {\n",
       "  border-left-width: var(--jp-border-width);\n",
       "  border-left-color: var(--jp-border-color0);\n",
       "  border-left-style: solid;\n",
       "  margin: 0.5em 1em 0.5em 1em;\n",
       "}\n",
       "</style>\n"
      ],
      "text/plain": [
       "<IPython.core.display.HTML object>"
      ]
     },
     "metadata": {},
     "output_type": "display_data"
    },
    {
     "name": "stderr",
     "output_type": "stream",
     "text": [
      "2023-07-11 21:18:03,973\tINFO tune.py:945 -- Total run time: 17.11 seconds (17.10 seconds for the tuning loop).\n",
      "SAIL Pipeline Score: 100%========== [Points: 1000/1000, Elapsed:0.0051s, Metric=R2, Batch Size=1000, Score=-1.84]  \n",
      "SAIL Pipeline Score: 100%========== [Points: 1000/1000, Elapsed:0.0048s, Metric=R2, Batch Size=1000, Score=0.843]\n",
      "SAIL Pipeline fit: 100%========== [Steps: 3/3, ETA: 00:03<00:00, Elapsed:3.018s, Batch Size=1000, Score=0.843]            \n",
      "[2023-07-11 21:18:09:282] - INFO - SAIL : Pipeline tuning completed. Disconnecting Ray cluster...\n",
      "[2023-07-11 21:18:09:282] - INFO - SAIL : Found best params: {'regressor': AdaptiveRandomForestRegressor(n_models=20), 'regressor__n_models': 20}\n"
     ]
    },
    {
     "name": "stdout",
     "output_type": "stream",
     "text": [
      ">>>--------------------------------------------------------------------------------------------\n"
     ]
    },
    {
     "name": "stderr",
     "output_type": "stream",
     "text": [
      "SAIL Pipeline Progressive Score: 100%========== [Points: 50/50, Elapsed:0.0014s, Metric=R2, Batch Size=50, P_Score=0.595]\n",
      "SAIL Drift detection: 100%========== [Points: 50/50, Elapsed:0.0010s, Detector=EDDM, Batch Size=50, Param=differene, Drift=No]\n",
      "SAIL Pipeline Partial fit: 100%========== [Steps: 3/3, ETA: 00:00<00:00, Elapsed:0.161s, Batch Size=50, P_Score=0.595]            \n"
     ]
    },
    {
     "name": "stdout",
     "output_type": "stream",
     "text": [
      ">>>--------------------------------------------------------------------------------------------\n"
     ]
    },
    {
     "name": "stderr",
     "output_type": "stream",
     "text": [
      "SAIL Pipeline Progressive Score: 100%========== [Points: 50/50, Elapsed:0.0012s, Metric=R2, Batch Size=50, P_Score=0.751]\n",
      "SAIL Drift detection: 100%========== [Points: 50/50, Elapsed:0.0009s, Detector=EDDM, Batch Size=50, Param=differene, Drift=No]\n",
      "SAIL Pipeline Partial fit: 100%========== [Steps: 3/3, ETA: 00:00<00:00, Elapsed:0.159s, Batch Size=50, P_Score=0.751]            \n"
     ]
    },
    {
     "name": "stdout",
     "output_type": "stream",
     "text": [
      ">>>--------------------------------------------------------------------------------------------\n"
     ]
    },
    {
     "name": "stderr",
     "output_type": "stream",
     "text": [
      "SAIL Pipeline Progressive Score: 100%========== [Points: 50/50, Elapsed:0.0013s, Metric=R2, Batch Size=50, P_Score=0.719]\n",
      "SAIL Drift detection: 100%========== [Points: 50/50, Elapsed:0.0008s, Detector=EDDM, Batch Size=50, Param=differene, Drift=No]\n",
      "SAIL Pipeline Partial fit: 100%========== [Steps: 3/3, ETA: 00:00<00:00, Elapsed:0.160s, Batch Size=50, P_Score=0.719]            \n"
     ]
    },
    {
     "name": "stdout",
     "output_type": "stream",
     "text": [
      ">>>--------------------------------------------------------------------------------------------\n"
     ]
    },
    {
     "name": "stderr",
     "output_type": "stream",
     "text": [
      "SAIL Pipeline Progressive Score: 100%========== [Points: 50/50, Elapsed:0.0015s, Metric=R2, Batch Size=50, P_Score=0.736]\n",
      "SAIL Drift detection: 100%========== [Points: 50/50, Elapsed:0.0013s, Detector=EDDM, Batch Size=50, Param=differene, Drift=No]\n",
      "SAIL Pipeline Partial fit: 100%========== [Steps: 3/3, ETA: 00:00<00:00, Elapsed:0.163s, Batch Size=50, P_Score=0.736]            \n"
     ]
    },
    {
     "name": "stdout",
     "output_type": "stream",
     "text": [
      ">>>--------------------------------------------------------------------------------------------\n"
     ]
    },
    {
     "name": "stderr",
     "output_type": "stream",
     "text": [
      "SAIL Pipeline Progressive Score: 100%========== [Points: 50/50, Elapsed:0.0021s, Metric=R2, Batch Size=50, P_Score=0.758]\n",
      "SAIL Drift detection: 100%========== [Points: 50/50, Elapsed:0.0011s, Detector=EDDM, Batch Size=50, Param=differene, Drift=No]\n",
      "SAIL Pipeline Partial fit: 100%========== [Steps: 3/3, ETA: 00:00<00:00, Elapsed:0.176s, Batch Size=50, P_Score=0.758]            \n"
     ]
    },
    {
     "name": "stdout",
     "output_type": "stream",
     "text": [
      ">>>--------------------------------------------------------------------------------------------\n"
     ]
    },
    {
     "name": "stderr",
     "output_type": "stream",
     "text": [
      "SAIL Pipeline Progressive Score: 100%========== [Points: 50/50, Elapsed:0.0019s, Metric=R2, Batch Size=50, P_Score=0.691]\n",
      "SAIL Drift detection: 100%========== [Points: 50/50, Elapsed:0.0021s, Detector=EDDM, Batch Size=50, Param=differene, Drift=No]\n",
      "SAIL Pipeline Partial fit: 100%========== [Steps: 3/3, ETA: 00:00<00:00, Elapsed:0.160s, Batch Size=50, P_Score=0.691]            \n"
     ]
    },
    {
     "name": "stdout",
     "output_type": "stream",
     "text": [
      ">>>--------------------------------------------------------------------------------------------\n"
     ]
    },
    {
     "name": "stderr",
     "output_type": "stream",
     "text": [
      "SAIL Pipeline Progressive Score: 100%========== [Points: 50/50, Elapsed:0.0013s, Metric=R2, Batch Size=50, P_Score=0.675]\n",
      "SAIL Drift detection: 100%========== [Points: 50/50, Elapsed:0.0008s, Detector=EDDM, Batch Size=50, Param=differene, Drift=No]\n",
      "SAIL Pipeline Partial fit: 100%========== [Steps: 3/3, ETA: 00:00<00:00, Elapsed:0.169s, Batch Size=50, P_Score=0.675]            \n"
     ]
    },
    {
     "name": "stdout",
     "output_type": "stream",
     "text": [
      ">>>--------------------------------------------------------------------------------------------\n"
     ]
    },
    {
     "name": "stderr",
     "output_type": "stream",
     "text": [
      "SAIL Pipeline Progressive Score: 100%========== [Points: 50/50, Elapsed:0.0012s, Metric=R2, Batch Size=50, P_Score=0.655]\n",
      "SAIL Drift detection: 100%========== [Points: 50/50, Elapsed:0.0007s, Detector=EDDM, Batch Size=50, Param=differene, Drift=No]\n",
      "SAIL Pipeline Partial fit: 100%========== [Steps: 3/3, ETA: 00:00<00:00, Elapsed:0.163s, Batch Size=50, P_Score=0.655]            \n"
     ]
    },
    {
     "name": "stdout",
     "output_type": "stream",
     "text": [
      ">>>--------------------------------------------------------------------------------------------\n"
     ]
    },
    {
     "name": "stderr",
     "output_type": "stream",
     "text": [
      "SAIL Pipeline Progressive Score: 100%========== [Points: 50/50, Elapsed:0.0013s, Metric=R2, Batch Size=50, P_Score=0.681]\n",
      "SAIL Drift detection: 100%========== [Points: 50/50, Elapsed:0.0010s, Detector=EDDM, Batch Size=50, Param=differene, Drift=No]\n",
      "SAIL Pipeline Partial fit: 100%========== [Steps: 3/3, ETA: 00:00<00:00, Elapsed:0.162s, Batch Size=50, P_Score=0.681]            \n"
     ]
    },
    {
     "name": "stdout",
     "output_type": "stream",
     "text": [
      ">>>--------------------------------------------------------------------------------------------\n"
     ]
    },
    {
     "name": "stderr",
     "output_type": "stream",
     "text": [
      "SAIL Pipeline Progressive Score: 100%========== [Points: 50/50, Elapsed:0.0027s, Metric=R2, Batch Size=50, P_Score=0.682]\n",
      "SAIL Drift detection: 100%========== [Points: 50/50, Elapsed:0.0011s, Detector=EDDM, Batch Size=50, Param=differene, Drift=No]\n",
      "SAIL Pipeline Partial fit: 100%========== [Steps: 3/3, ETA: 00:00<00:00, Elapsed:0.180s, Batch Size=50, P_Score=0.682]            \n"
     ]
    }
   ],
   "source": [
    "y_preds = []\n",
    "y_true = []\n",
    "batch_size = 50\n",
    "\n",
    "for start in range(0, 1500, batch_size):\n",
    "\n",
    "    end = start + batch_size\n",
    "\n",
    "    X_train = X.iloc[start:end]\n",
    "    y_train = y.iloc[start:end]\n",
    "\n",
    "    if end > 1000: # search_data_size is 1000\n",
    "        preds = auto_pipeline.predict(X_train)\n",
    "        y_preds.extend(list(preds))\n",
    "        y_true.extend(list(y_train))\n",
    "\n",
    "    auto_pipeline.train(X_train, y_train)"
   ]
  },
  {
   "attachments": {},
   "cell_type": "markdown",
   "metadata": {},
   "source": [
    "#### Save Model\n"
   ]
  },
  {
   "cell_type": "code",
   "execution_count": 8,
   "metadata": {},
   "outputs": [
    {
     "name": "stderr",
     "output_type": "stream",
     "text": [
      "[2023-07-11 21:18:11:282] - INFO - SAIL (SAILAutoPipeline) : making directory tree ./sail_auto_pipeline\n",
      "[2023-07-11 21:18:13:109] - INFO - SAIL (SAILPipeline) : making directory tree ./sail_auto_pipeline/pipeline_strategy/best_pipeline\n"
     ]
    },
    {
     "data": {
      "text/plain": [
       "'./sail_auto_pipeline'"
      ]
     },
     "execution_count": 8,
     "metadata": {},
     "output_type": "execute_result"
    }
   ],
   "source": [
    "auto_pipeline.save_model(\".\")"
   ]
  },
  {
   "attachments": {},
   "cell_type": "markdown",
   "metadata": {},
   "source": [
    "#### Load Model\n"
   ]
  },
  {
   "cell_type": "code",
   "execution_count": 9,
   "metadata": {},
   "outputs": [
    {
     "name": "stderr",
     "output_type": "stream",
     "text": [
      "[2023-07-11 21:18:14:888] - INFO - SAIL : Pipeline Strategy [DetectAndIncrement] created with actions: ['DATA_COLLECTION', 'FIND_BEST_PIPELINE', 'SCORE_AND_DETECT_DRIFT', 'PARTIAL_FIT_MODEL']\n",
      "SAIL Pipeline Progressive Score: 100%========== [Points: 1000/1000, Elapsed:0.0028s, Metric=R2, Batch Size=1000, P_Score=0.682]\n"
     ]
    }
   ],
   "source": [
    "new_auto_pipeline = SAILAutoPipeline.load_model(\".\")"
   ]
  },
  {
   "attachments": {},
   "cell_type": "markdown",
   "metadata": {},
   "source": [
    "#### Continue training using the load model\n"
   ]
  },
  {
   "cell_type": "code",
   "execution_count": 10,
   "metadata": {},
   "outputs": [
    {
     "name": "stdout",
     "output_type": "stream",
     "text": [
      ">>>--------------------------------------------------------------------------------------------\n"
     ]
    },
    {
     "name": "stderr",
     "output_type": "stream",
     "text": [
      "SAIL Pipeline Progressive Score: 100%========== [Points: 50/50, Elapsed:0.0047s, Metric=R2, Batch Size=50, P_Score=0.689]\n",
      "SAIL Drift detection: 100%========== [Points: 50/50, Elapsed:0.0040s, Detector=EDDM, Batch Size=50, Param=differene, Drift=No]\n",
      "SAIL Pipeline Partial fit: 100%========== [Steps: 3/3, ETA: 00:00<00:00, Elapsed:0.151s, Batch Size=50, P_Score=0.689]            \n"
     ]
    },
    {
     "name": "stdout",
     "output_type": "stream",
     "text": [
      ">>>--------------------------------------------------------------------------------------------\n"
     ]
    },
    {
     "name": "stderr",
     "output_type": "stream",
     "text": [
      "SAIL Pipeline Progressive Score: 100%========== [Points: 50/50, Elapsed:0.0011s, Metric=R2, Batch Size=50, P_Score=0.687]\n",
      "SAIL Drift detection: 100%========== [Points: 50/50, Elapsed:0.0008s, Detector=EDDM, Batch Size=50, Param=differene, Drift=No]\n",
      "SAIL Pipeline Partial fit: 100%========== [Steps: 3/3, ETA: 00:00<00:00, Elapsed:0.147s, Batch Size=50, P_Score=0.687]            \n"
     ]
    },
    {
     "name": "stdout",
     "output_type": "stream",
     "text": [
      ">>>--------------------------------------------------------------------------------------------\n"
     ]
    },
    {
     "name": "stderr",
     "output_type": "stream",
     "text": [
      "SAIL Pipeline Progressive Score: 100%========== [Points: 50/50, Elapsed:0.0013s, Metric=R2, Batch Size=50, P_Score=0.691]\n",
      "SAIL Drift detection: 100%========== [Points: 50/50, Elapsed:0.0011s, Detector=EDDM, Batch Size=50, Param=differene, Drift=No]\n",
      "SAIL Pipeline Partial fit: 100%========== [Steps: 3/3, ETA: 00:00<00:00, Elapsed:0.172s, Batch Size=50, P_Score=0.691]            "
     ]
    },
    {
     "name": "stdout",
     "output_type": "stream",
     "text": [
      ">>>--------------------------------------------------------------------------------------------"
     ]
    },
    {
     "name": "stderr",
     "output_type": "stream",
     "text": [
      "\n"
     ]
    },
    {
     "name": "stdout",
     "output_type": "stream",
     "text": [
      "\n"
     ]
    },
    {
     "name": "stderr",
     "output_type": "stream",
     "text": [
      "SAIL Pipeline Progressive Score: 100%========== [Points: 50/50, Elapsed:0.0017s, Metric=R2, Batch Size=50, P_Score=0.691]\n",
      "SAIL Drift detection: 100%========== [Points: 50/50, Elapsed:0.0011s, Detector=EDDM, Batch Size=50, Param=differene, Drift=No]\n",
      "SAIL Pipeline Partial fit: 100%========== [Steps: 3/3, ETA: 00:00<00:00, Elapsed:0.180s, Batch Size=50, P_Score=0.691]            "
     ]
    },
    {
     "name": "stdout",
     "output_type": "stream",
     "text": [
      ">>>--------------------------------------------------------------------------------------------"
     ]
    },
    {
     "name": "stderr",
     "output_type": "stream",
     "text": [
      "\n"
     ]
    },
    {
     "name": "stdout",
     "output_type": "stream",
     "text": [
      "\n"
     ]
    },
    {
     "name": "stderr",
     "output_type": "stream",
     "text": [
      "SAIL Pipeline Progressive Score: 100%========== [Points: 50/50, Elapsed:0.0017s, Metric=R2, Batch Size=50, P_Score=0.697]\n",
      "SAIL Drift detection: 100%========== [Points: 50/50, Elapsed:0.0010s, Detector=EDDM, Batch Size=50, Param=differene, Drift=No]\n",
      "SAIL Pipeline Partial fit: 100%========== [Steps: 3/3, ETA: 00:00<00:00, Elapsed:0.166s, Batch Size=50, P_Score=0.697]            \n"
     ]
    },
    {
     "name": "stdout",
     "output_type": "stream",
     "text": [
      ">>>--------------------------------------------------------------------------------------------\n"
     ]
    },
    {
     "name": "stderr",
     "output_type": "stream",
     "text": [
      "SAIL Pipeline Progressive Score: 100%========== [Points: 50/50, Elapsed:0.0013s, Metric=R2, Batch Size=50, P_Score=0.705]\n",
      "SAIL Drift detection: 100%========== [Points: 50/50, Elapsed:0.0009s, Detector=EDDM, Batch Size=50, Param=differene, Drift=No]\n",
      "SAIL Pipeline Partial fit: 100%========== [Steps: 3/3, ETA: 00:00<00:00, Elapsed:0.190s, Batch Size=50, P_Score=0.705]            \n"
     ]
    },
    {
     "name": "stdout",
     "output_type": "stream",
     "text": [
      ">>>--------------------------------------------------------------------------------------------\n"
     ]
    },
    {
     "name": "stderr",
     "output_type": "stream",
     "text": [
      "SAIL Pipeline Progressive Score: 100%========== [Points: 50/50, Elapsed:0.0017s, Metric=R2, Batch Size=50, P_Score=0.711]\n",
      "SAIL Drift detection: 100%========== [Points: 50/50, Elapsed:0.0009s, Detector=EDDM, Batch Size=50, Param=differene, Drift=No]\n",
      "SAIL Pipeline Partial fit: 100%========== [Steps: 3/3, ETA: 00:00<00:00, Elapsed:0.323s, Batch Size=50, P_Score=0.711]            \n"
     ]
    },
    {
     "name": "stdout",
     "output_type": "stream",
     "text": [
      ">>>--------------------------------------------------------------------------------------------\n"
     ]
    },
    {
     "name": "stderr",
     "output_type": "stream",
     "text": [
      "SAIL Pipeline Progressive Score: 100%========== [Points: 50/50, Elapsed:0.0014s, Metric=R2, Batch Size=50, P_Score=0.717]\n",
      "SAIL Drift detection: 100%========== [Points: 50/50, Elapsed:0.0010s, Detector=EDDM, Batch Size=50, Param=differene, Drift=No]\n",
      "SAIL Pipeline Partial fit: 100%========== [Steps: 3/3, ETA: 00:00<00:00, Elapsed:0.179s, Batch Size=50, P_Score=0.717]            \n"
     ]
    },
    {
     "name": "stdout",
     "output_type": "stream",
     "text": [
      ">>>--------------------------------------------------------------------------------------------\n"
     ]
    },
    {
     "name": "stderr",
     "output_type": "stream",
     "text": [
      "SAIL Pipeline Progressive Score: 100%========== [Points: 50/50, Elapsed:0.0015s, Metric=R2, Batch Size=50, P_Score=0.714]\n",
      "SAIL Drift detection: 100%========== [Points: 50/50, Elapsed:0.0013s, Detector=EDDM, Batch Size=50, Param=differene, Drift=No]\n",
      "SAIL Pipeline Partial fit: 100%========== [Steps: 3/3, ETA: 00:00<00:00, Elapsed:0.194s, Batch Size=50, P_Score=0.714]            \n"
     ]
    },
    {
     "name": "stdout",
     "output_type": "stream",
     "text": [
      ">>>--------------------------------------------------------------------------------------------\n"
     ]
    },
    {
     "name": "stderr",
     "output_type": "stream",
     "text": [
      "SAIL Pipeline Progressive Score: 100%========== [Points: 50/50, Elapsed:0.0021s, Metric=R2, Batch Size=50, P_Score=0.721]\n",
      "SAIL Drift detection: 100%========== [Points: 50/50, Elapsed:0.0017s, Detector=EDDM, Batch Size=50, Param=differene, Drift=No]\n",
      "SAIL Pipeline Partial fit: 100%========== [Steps: 3/3, ETA: 00:00<00:00, Elapsed:0.204s, Batch Size=50, P_Score=0.721]            \n"
     ]
    }
   ],
   "source": [
    "for start in range(1501, 2001, batch_size):\n",
    "\n",
    "    end = start + batch_size\n",
    "\n",
    "    X_train = X.iloc[start:end]\n",
    "    y_train = y.iloc[start:end]\n",
    "\n",
    "    if end > 1000: # search_data_size is 1000\n",
    "        preds = new_auto_pipeline.predict(X_train)\n",
    "        if preds is not None:\n",
    "            y_preds.extend(list(preds))\n",
    "            y_true.extend(list(y_train))\n",
    "\n",
    "    new_auto_pipeline.train(X_train, y_train)"
   ]
  },
  {
   "attachments": {},
   "cell_type": "markdown",
   "metadata": {},
   "source": [
    "#### Final Score\n"
   ]
  },
  {
   "cell_type": "code",
   "execution_count": 11,
   "metadata": {},
   "outputs": [
    {
     "data": {
      "text/plain": [
       "0.7211272266954489"
      ]
     },
     "execution_count": 11,
     "metadata": {},
     "output_type": "execute_result"
    }
   ],
   "source": [
    "new_auto_pipeline.progressive_score"
   ]
  },
  {
   "attachments": {},
   "cell_type": "markdown",
   "metadata": {},
   "source": [
    "### Plot predictions\n"
   ]
  },
  {
   "cell_type": "code",
   "execution_count": 12,
   "metadata": {},
   "outputs": [
    {
     "data": {
      "application/vnd.plotly.v1+json": {
       "config": {
        "plotlyServerURL": "https://plot.ly"
       },
       "data": [
        {
         "hovertemplate": "variable=y_true<br>index=%{x}<br>value=%{y}<extra></extra>",
         "legendgroup": "y_true",
         "line": {
          "color": "#636efa",
          "dash": "solid"
         },
         "marker": {
          "symbol": "circle"
         },
         "mode": "lines",
         "name": "y_true",
         "orientation": "v",
         "showlegend": true,
         "type": "scatter",
         "x": [
          0,
          1,
          2,
          3,
          4,
          5,
          6,
          7,
          8,
          9,
          10,
          11,
          12,
          13,
          14,
          15,
          16,
          17,
          18,
          19,
          20,
          21,
          22,
          23,
          24,
          25,
          26,
          27,
          28,
          29,
          30,
          31,
          32,
          33,
          34,
          35,
          36,
          37,
          38,
          39,
          40,
          41,
          42,
          43,
          44,
          45,
          46,
          47,
          48,
          49,
          50,
          51,
          52,
          53,
          54,
          55,
          56,
          57,
          58,
          59,
          60,
          61,
          62,
          63,
          64,
          65,
          66,
          67,
          68,
          69,
          70,
          71,
          72,
          73,
          74,
          75,
          76,
          77,
          78,
          79,
          80,
          81,
          82,
          83,
          84,
          85,
          86,
          87,
          88,
          89,
          90,
          91,
          92,
          93,
          94,
          95,
          96,
          97,
          98,
          99,
          100,
          101,
          102,
          103,
          104,
          105,
          106,
          107,
          108,
          109,
          110,
          111,
          112,
          113,
          114,
          115,
          116,
          117,
          118,
          119,
          120,
          121,
          122,
          123,
          124,
          125,
          126,
          127,
          128,
          129,
          130,
          131,
          132,
          133,
          134,
          135,
          136,
          137,
          138,
          139,
          140,
          141,
          142,
          143,
          144,
          145,
          146,
          147,
          148,
          149,
          150,
          151,
          152,
          153,
          154,
          155,
          156,
          157,
          158,
          159,
          160,
          161,
          162,
          163,
          164,
          165,
          166,
          167,
          168,
          169,
          170,
          171,
          172,
          173,
          174,
          175,
          176,
          177,
          178,
          179,
          180,
          181,
          182,
          183,
          184,
          185,
          186,
          187,
          188,
          189,
          190,
          191,
          192,
          193,
          194,
          195,
          196,
          197,
          198,
          199,
          200,
          201,
          202,
          203,
          204,
          205,
          206,
          207,
          208,
          209,
          210,
          211,
          212,
          213,
          214,
          215,
          216,
          217,
          218,
          219,
          220,
          221,
          222,
          223,
          224,
          225,
          226,
          227,
          228,
          229,
          230,
          231,
          232,
          233,
          234,
          235,
          236,
          237,
          238,
          239,
          240,
          241,
          242,
          243,
          244,
          245,
          246,
          247,
          248,
          249,
          250,
          251,
          252,
          253,
          254,
          255,
          256,
          257,
          258,
          259,
          260,
          261,
          262,
          263,
          264,
          265,
          266,
          267,
          268,
          269,
          270,
          271,
          272,
          273,
          274,
          275,
          276,
          277,
          278,
          279,
          280,
          281,
          282,
          283,
          284,
          285,
          286,
          287,
          288,
          289,
          290,
          291,
          292,
          293,
          294,
          295,
          296,
          297,
          298,
          299,
          300,
          301,
          302,
          303,
          304,
          305,
          306,
          307,
          308,
          309,
          310,
          311,
          312,
          313,
          314,
          315,
          316,
          317,
          318,
          319,
          320,
          321,
          322,
          323,
          324,
          325,
          326,
          327,
          328,
          329,
          330,
          331,
          332,
          333,
          334,
          335,
          336,
          337,
          338,
          339,
          340,
          341,
          342,
          343,
          344,
          345,
          346,
          347,
          348,
          349,
          350,
          351,
          352,
          353,
          354,
          355,
          356,
          357,
          358,
          359,
          360,
          361,
          362,
          363,
          364,
          365,
          366,
          367,
          368,
          369,
          370,
          371,
          372,
          373,
          374,
          375,
          376,
          377,
          378,
          379,
          380,
          381,
          382,
          383,
          384,
          385,
          386,
          387,
          388,
          389,
          390,
          391,
          392,
          393,
          394,
          395,
          396,
          397,
          398,
          399,
          400,
          401,
          402,
          403,
          404,
          405,
          406,
          407,
          408,
          409,
          410,
          411,
          412,
          413,
          414,
          415,
          416,
          417,
          418,
          419,
          420,
          421,
          422,
          423,
          424,
          425,
          426,
          427,
          428,
          429,
          430,
          431,
          432,
          433,
          434,
          435,
          436,
          437,
          438,
          439,
          440,
          441,
          442,
          443,
          444,
          445,
          446,
          447,
          448,
          449,
          450,
          451,
          452,
          453,
          454,
          455,
          456,
          457,
          458,
          459,
          460,
          461,
          462,
          463,
          464,
          465,
          466,
          467,
          468,
          469,
          470,
          471,
          472,
          473,
          474,
          475,
          476,
          477,
          478,
          479,
          480,
          481,
          482,
          483,
          484,
          485,
          486,
          487,
          488,
          489,
          490,
          491,
          492,
          493,
          494,
          495,
          496,
          497,
          498,
          499
         ],
         "xaxis": "x",
         "y": [
          80.19166667,
          78.95833333,
          97.98333333,
          99.15833333,
          90.75,
          83.75833333,
          64.98333333,
          61.30833333,
          47.68333333,
          32.95833333,
          26.83333333,
          20.71666667,
          14.44166667,
          16.08333333,
          19.51666667,
          25.64166667,
          19.16666667,
          24.54166667,
          21.61666667,
          21.2,
          45.30833333,
          47.50833333,
          52.85833333,
          67.78333333,
          73.68333333,
          63.375,
          27.23333333,
          21.58333333,
          23.50833333,
          26.35833333,
          46.33333333,
          44.76666667,
          41.08333333,
          38.925,
          45.90833333,
          63.16666667,
          47.2,
          48.13333333,
          41.69166667,
          33.35833333,
          24.575,
          19.125,
          12.73333333,
          7.216666667,
          5.575,
          2.441666667,
          1.75,
          1.966666667,
          1.475,
          1.133333333,
          0,
          0.808333333,
          0,
          0,
          0,
          0,
          2.175,
          2.1583333330000003,
          1.308333333,
          10.49166667,
          18.41666667,
          29.24166667,
          47.09166667,
          48.70833333,
          54.675,
          51.89166667,
          50.9,
          70.925,
          76.21666667,
          78.64166667,
          72.21666667,
          71.86666667,
          73.29166667,
          75.95833333,
          78.35833333,
          73.71666667,
          77.875,
          75.35,
          75.44166667,
          77.26666667,
          73.8,
          72.64166667,
          77.45,
          75.64166667,
          79.76666667,
          85.11666667,
          88.625,
          78.40833333,
          72.88333333,
          75.55,
          74.075,
          58.91666667,
          50.50833333,
          36.51666667,
          42.35833333,
          59.64166667,
          73.45833333,
          77.16666667,
          62.575,
          86.30833333,
          40.93333333,
          60.625,
          49.10833333,
          42.96666667,
          55.81666667,
          38.65833333,
          26.1,
          29.25833333,
          23.775,
          17.55833333,
          10.95833333,
          4.691666667,
          2.925,
          1.7416666669999998,
          0.75,
          2.558333333,
          5.791666667,
          8.033333333,
          10.91666667,
          13.73333333,
          17.875,
          17.19166667,
          0.941666667,
          0,
          0,
          0,
          0,
          0,
          0,
          0.291666667,
          3.483333333,
          5.366666667,
          12.64166667,
          13.775,
          7.158333333,
          14,
          15.54166667,
          16.6,
          13.08333333,
          24.025,
          35.425,
          66.1,
          63.26666667,
          61.40833333,
          70.55833333,
          74.01666667,
          80.29166667,
          76.1,
          76.025,
          84.79166667,
          81.68333333,
          69.05,
          73.65,
          68.34166667,
          68.9,
          40.05833333,
          60.125,
          74.93333333,
          79.11666667,
          72.08333333,
          73.85,
          71.425,
          74.35,
          78.925,
          78.63333333,
          84,
          83.15,
          79.74166667,
          80.08333333,
          79.40833333,
          77.45833333,
          77.65,
          77.65833333,
          77.25833333,
          76.34166667,
          74.65833333,
          71.66666667,
          67.925,
          60.875,
          51.29166667,
          55.71666667,
          72.55,
          70.14166667,
          66.05833333,
          65.69166667,
          60.775,
          63.10833333,
          73.88333333,
          71.90833333,
          66.85,
          57.675,
          48.46666667,
          50.925,
          37.3,
          29.05833333,
          28.61666667,
          24.01666667,
          13.15833333,
          7.883333332999999,
          1.016666667,
          0.191666667,
          0.216666667,
          1.6833333330000002,
          5.583333333,
          7.15,
          3.675,
          2.383333333,
          4.7,
          7.933333332999999,
          2.75,
          0,
          0,
          0.45,
          2.2833333330000003,
          5.441666667000001,
          13.49166667,
          11.65,
          4.041666667,
          0,
          0,
          0,
          0,
          0,
          0,
          0.141666667,
          0,
          0,
          0,
          0,
          0,
          0,
          0,
          0,
          0.6416666670000001,
          1.425,
          11.95,
          22.79166667,
          16.91666667,
          14.79166667,
          13.89166667,
          11.16666667,
          4.791666667,
          1.45,
          0,
          0.016666667,
          5.883333333,
          8.808333333,
          22.54166667,
          24.01666667,
          25.75,
          27.89166667,
          31.60833333,
          46.14166667,
          57.28333333,
          65.575,
          69.80833333,
          76.41666667,
          73.69166667,
          64.525,
          54.1,
          71.58333333,
          60.76666667,
          43.8,
          34.54166667,
          33.075,
          30.2,
          30.025,
          50.3,
          82.73333333,
          98.44166667,
          99.825,
          99.65833333,
          99.81666667,
          99.78333333,
          99.725,
          99.1,
          99.26666667,
          99.81666667,
          99.825,
          99.83333333,
          99.45,
          99.65,
          97.99166667,
          95.2,
          88.70833333,
          49.89166667,
          14.98333333,
          56.54166667,
          98.1,
          95.075,
          89.91666667,
          56.90833333,
          61.925,
          77.03333333,
          60.225,
          89.99166667,
          88.325,
          85.89166667,
          47.00833333,
          33.50833333,
          43.025,
          71.31666667,
          91.375,
          94.91666667,
          98.94166667,
          91.38333333,
          69.61666667,
          73.03333333,
          79.40833333,
          87.49166667,
          86.125,
          84.85833333,
          78.56666667,
          78.21666667,
          56.725,
          83.375,
          89.66666667,
          81.64166667,
          86.825,
          97.225,
          95.68333333,
          92.25,
          86.40833333,
          93.775,
          91.29166667,
          93.15,
          84.325,
          62.83333333,
          37.975,
          38.01666667,
          34.64166667,
          51.55833333,
          42.36666667,
          19.95833333,
          3.666666667,
          2.716666667,
          1.808333333,
          3.333333333,
          10.575,
          12.16666667,
          12.925,
          9.433333333,
          10.18333333,
          16.81666667,
          21.8,
          18.975,
          23.025,
          13.89166667,
          3.8,
          0,
          0,
          0,
          0,
          0,
          0.008333333,
          3.016666667,
          7.033333333,
          13.375,
          22.85,
          12.375,
          16.80833333,
          24.45,
          21.26666667,
          13.14166667,
          4.05,
          7.966666667,
          25.8,
          25.3,
          16.3,
          6.725,
          9.058333333,
          15.38333333,
          14.19166667,
          20.59166667,
          44.075,
          61.23333333,
          74.04166667,
          75.56666667,
          65.975,
          45.23333333,
          29.60833333,
          19.18333333,
          9.3,
          3.475,
          0.8,
          0.7,
          2.383333333,
          17.025,
          46.625,
          52.79166667,
          60.39166667,
          66.96666667,
          76.54166667,
          84.53333333,
          93.275,
          92.03333333,
          94.15833333,
          86.33333333,
          91.025,
          85.875,
          75.36666667,
          63.58333333,
          48.29166667,
          26.91666667,
          12.775,
          6.15,
          5.008333333,
          3.491666667,
          4.541666667,
          6.291666667,
          10.90833333,
          27.58333333,
          51.25833333,
          67.26666667,
          81.00833333,
          84.55,
          89.525,
          90.8,
          95.8,
          99.75833333,
          99.79166667,
          96.35833333,
          92.125,
          99.775,
          99.81666667,
          99.825,
          99.825,
          99.71666667,
          98.7,
          98.85,
          99.84166667,
          98.51666667,
          99.75833333,
          99.73333333,
          94.45833333,
          88.95833333,
          82.85,
          82.50833333,
          80.175,
          78.83333333,
          73.48333333,
          78.83333333,
          79.03333333,
          83.65,
          80.75,
          74.26666667,
          74.06666667,
          79.96666667,
          77.90833333,
          88.05833333,
          90.15833333,
          98.23333333,
          98.64166667,
          87.025,
          86.59166667,
          93.13333333,
          91.825,
          86.34166667,
          39.53333333,
          19.46666667,
          11.06666667,
          20.85,
          28.41666667,
          30.875,
          29.38333333,
          38.58333333,
          60.51666667,
          76.05,
          84.54166667,
          76.33333333,
          91.175,
          95.075,
          92.71666667,
          94.90833333,
          98.86666667,
          93.50833333,
          90.71666667,
          86.65833333,
          82.025,
          82.55833333,
          83.78333333,
          83.45833333,
          83.875,
          81.09166667,
          80.5,
          84.20833333,
          83.68333333,
          79.59166667,
          74.99166667,
          74.71666667,
          52.59166667,
          61.51666667,
          48.075,
          18.25,
          7.966666667,
          6.583333333,
          3.5,
          3.941666667,
          9.208333333,
          17.89166667
         ],
         "yaxis": "y"
        },
        {
         "hovertemplate": "variable=y_preds<br>index=%{x}<br>value=%{y}<extra></extra>",
         "legendgroup": "y_preds",
         "line": {
          "color": "#EF553B",
          "dash": "solid"
         },
         "marker": {
          "symbol": "circle"
         },
         "mode": "lines",
         "name": "y_preds",
         "orientation": "v",
         "showlegend": true,
         "type": "scatter",
         "x": [
          0,
          1,
          2,
          3,
          4,
          5,
          6,
          7,
          8,
          9,
          10,
          11,
          12,
          13,
          14,
          15,
          16,
          17,
          18,
          19,
          20,
          21,
          22,
          23,
          24,
          25,
          26,
          27,
          28,
          29,
          30,
          31,
          32,
          33,
          34,
          35,
          36,
          37,
          38,
          39,
          40,
          41,
          42,
          43,
          44,
          45,
          46,
          47,
          48,
          49,
          50,
          51,
          52,
          53,
          54,
          55,
          56,
          57,
          58,
          59,
          60,
          61,
          62,
          63,
          64,
          65,
          66,
          67,
          68,
          69,
          70,
          71,
          72,
          73,
          74,
          75,
          76,
          77,
          78,
          79,
          80,
          81,
          82,
          83,
          84,
          85,
          86,
          87,
          88,
          89,
          90,
          91,
          92,
          93,
          94,
          95,
          96,
          97,
          98,
          99,
          100,
          101,
          102,
          103,
          104,
          105,
          106,
          107,
          108,
          109,
          110,
          111,
          112,
          113,
          114,
          115,
          116,
          117,
          118,
          119,
          120,
          121,
          122,
          123,
          124,
          125,
          126,
          127,
          128,
          129,
          130,
          131,
          132,
          133,
          134,
          135,
          136,
          137,
          138,
          139,
          140,
          141,
          142,
          143,
          144,
          145,
          146,
          147,
          148,
          149,
          150,
          151,
          152,
          153,
          154,
          155,
          156,
          157,
          158,
          159,
          160,
          161,
          162,
          163,
          164,
          165,
          166,
          167,
          168,
          169,
          170,
          171,
          172,
          173,
          174,
          175,
          176,
          177,
          178,
          179,
          180,
          181,
          182,
          183,
          184,
          185,
          186,
          187,
          188,
          189,
          190,
          191,
          192,
          193,
          194,
          195,
          196,
          197,
          198,
          199,
          200,
          201,
          202,
          203,
          204,
          205,
          206,
          207,
          208,
          209,
          210,
          211,
          212,
          213,
          214,
          215,
          216,
          217,
          218,
          219,
          220,
          221,
          222,
          223,
          224,
          225,
          226,
          227,
          228,
          229,
          230,
          231,
          232,
          233,
          234,
          235,
          236,
          237,
          238,
          239,
          240,
          241,
          242,
          243,
          244,
          245,
          246,
          247,
          248,
          249,
          250,
          251,
          252,
          253,
          254,
          255,
          256,
          257,
          258,
          259,
          260,
          261,
          262,
          263,
          264,
          265,
          266,
          267,
          268,
          269,
          270,
          271,
          272,
          273,
          274,
          275,
          276,
          277,
          278,
          279,
          280,
          281,
          282,
          283,
          284,
          285,
          286,
          287,
          288,
          289,
          290,
          291,
          292,
          293,
          294,
          295,
          296,
          297,
          298,
          299,
          300,
          301,
          302,
          303,
          304,
          305,
          306,
          307,
          308,
          309,
          310,
          311,
          312,
          313,
          314,
          315,
          316,
          317,
          318,
          319,
          320,
          321,
          322,
          323,
          324,
          325,
          326,
          327,
          328,
          329,
          330,
          331,
          332,
          333,
          334,
          335,
          336,
          337,
          338,
          339,
          340,
          341,
          342,
          343,
          344,
          345,
          346,
          347,
          348,
          349,
          350,
          351,
          352,
          353,
          354,
          355,
          356,
          357,
          358,
          359,
          360,
          361,
          362,
          363,
          364,
          365,
          366,
          367,
          368,
          369,
          370,
          371,
          372,
          373,
          374,
          375,
          376,
          377,
          378,
          379,
          380,
          381,
          382,
          383,
          384,
          385,
          386,
          387,
          388,
          389,
          390,
          391,
          392,
          393,
          394,
          395,
          396,
          397,
          398,
          399,
          400,
          401,
          402,
          403,
          404,
          405,
          406,
          407,
          408,
          409,
          410,
          411,
          412,
          413,
          414,
          415,
          416,
          417,
          418,
          419,
          420,
          421,
          422,
          423,
          424,
          425,
          426,
          427,
          428,
          429,
          430,
          431,
          432,
          433,
          434,
          435,
          436,
          437,
          438,
          439,
          440,
          441,
          442,
          443,
          444,
          445,
          446,
          447,
          448,
          449,
          450,
          451,
          452,
          453,
          454,
          455,
          456,
          457,
          458,
          459,
          460,
          461,
          462,
          463,
          464,
          465,
          466,
          467,
          468,
          469,
          470,
          471,
          472,
          473,
          474,
          475,
          476,
          477,
          478,
          479,
          480,
          481,
          482,
          483,
          484,
          485,
          486,
          487,
          488,
          489,
          490,
          491,
          492,
          493,
          494,
          495,
          496,
          497,
          498,
          499
         ],
         "xaxis": "x",
         "y": [
          81.80535585056592,
          81.76809458441699,
          78.3076833161997,
          77.06422879897173,
          73.24043256196917,
          68.63842729256183,
          57.940835821656215,
          55.06888980116899,
          47.41927896875566,
          43.32549168732949,
          43.32549168732949,
          37.563643053799424,
          32.700949184202955,
          29.483734599620895,
          25.68708844529268,
          26.85195621928582,
          28.347941691289407,
          41.433989646575554,
          41.168053928623394,
          37.30412097869516,
          41.7665205354498,
          51.72945793625017,
          57.16004856649905,
          55.50024600688975,
          53.362952192269546,
          42.66742527441264,
          39.36833853377679,
          35.85243427005727,
          16.792917548626324,
          19.372260573704423,
          18.962135580334397,
          26.15059092445412,
          29.611392795392717,
          21.798042959228447,
          18.375152958532727,
          18.709586141544715,
          23.987481254847122,
          20.86515107260151,
          31.263789949618825,
          35.023473972735125,
          35.023473972735125,
          39.08913972687644,
          35.28742881129259,
          24.54122447361278,
          22.05223893855249,
          22.05223893855249,
          23.29257082893994,
          23.29257082893994,
          13.413071137251045,
          14.88171079094128,
          5.071404865885771,
          7.149440888797816,
          3.931129630765447,
          6.561858992531118,
          10.578163236133467,
          9.409407764540367,
          13.274352288405991,
          19.493372125776936,
          23.210509157090975,
          27.930195717035893,
          26.797076672578807,
          31.758967122411192,
          34.029319189531236,
          41.20270363262705,
          52.77817241099443,
          59.267424789820666,
          59.153963938366104,
          66.68725288636256,
          68.65895799988442,
          73.9028874944692,
          74.86686300818255,
          74.34104515011525,
          74.34104515011525,
          74.34104515011525,
          75.5797838031217,
          76.99246537446456,
          77.89914373544468,
          77.74375241025061,
          78.03526798224604,
          78.61688610211509,
          78.2797284565773,
          76.86835763784187,
          78.03526798224604,
          78.03526798224604,
          78.20130223787214,
          78.63373938282905,
          78.63373938282905,
          78.63373938282905,
          78.46261599291738,
          75.99306448678593,
          78.37242562778383,
          78.40601122097397,
          76.37007789434722,
          79.63683867935443,
          77.59702615709173,
          77.32137589110908,
          73.97813467748207,
          78.34973895920456,
          74.43878459488947,
          77.25880541874876,
          75.33165690020596,
          67.40033579989309,
          59.29044670062318,
          55.69082436842565,
          48.25664680608307,
          47.973584095706485,
          42.28395923246997,
          45.61750121805885,
          37.76029155653532,
          28.45809932607989,
          28.879600329495272,
          32.27036890876723,
          30.76488940681027,
          36.18958959233512,
          26.60822776169899,
          33.73860274790809,
          39.83774370421945,
          42.975206188343314,
          45.74208916935517,
          48.71763930202127,
          45.47242547316565,
          37.68496350494732,
          34.17114264306899,
          8.947765162628372,
          6.546844363148897,
          5.2322339442579,
          5.197640266274028,
          7.048868153917844,
          6.949093364120371,
          10.127564228026255,
          6.864920343279412,
          11.149272561476671,
          11.26294884849009,
          14.292303240538192,
          18.670795888157677,
          15.548857148716708,
          24.465736853355985,
          31.130954239852617,
          35.68271692362285,
          39.212974413521934,
          51.47935030416414,
          65.69018302426741,
          66.75102499223041,
          73.0347643844016,
          73.69439775912952,
          76.73323238531023,
          75.10310357816807,
          75.10310357816807,
          73.69439775912952,
          74.36820728282913,
          77.2769822020833,
          75.37585568683119,
          72.14931858051074,
          73.0341702870696,
          75.84305643416792,
          73.0341702870696,
          66.15901772195465,
          69.64688695144409,
          73.0341702870696,
          78.27425804762267,
          80.81517996570804,
          80.81517996570804,
          82.6520282880609,
          81.76167029517507,
          81.05496718108733,
          80.40527921134594,
          80.63165028447571,
          77.7130018111054,
          81.69716186464336,
          81.89258582658998,
          81.69716186464336,
          81.50324479764257,
          77.21053582300843,
          70.66998579948796,
          60.20449516583947,
          55.34976610567276,
          49.53687630797252,
          46.93706069870508,
          42.75827983364068,
          38.37698396278543,
          38.37698396278543,
          41.725521498275086,
          42.75827983364068,
          41.02784683851141,
          39.32495987053161,
          39.32495987053161,
          48.633992095194344,
          56.020617740448266,
          56.020617740448266,
          66.82562132161559,
          60.316101854814775,
          49.14879155272352,
          46.113579657626055,
          47.46704176377743,
          32.0449201802254,
          32.609574137070574,
          20.26843596861213,
          12.645906072133588,
          8.54889930800864,
          7.4611963397542596,
          6.53231831847919,
          4.944318317515716,
          4.6450213539649265,
          5.184153811243194,
          5.184153811243194,
          5.833843130553316,
          9.09802184316284,
          6.152199855938052,
          11.311349765507643,
          11.311349765507643,
          6.087905597794512,
          6.0439318659239625,
          9.463221159161721,
          12.725572023238279,
          25.97725317981626,
          36.23057993405905,
          35.057895198011884,
          35.057895198011884,
          16.70543575645415,
          8.390625074703934,
          2.5743135234923207,
          2.366372395839584,
          2.5743135234923207,
          2.5743135234923207,
          5.995063453378072,
          5.424018434026003,
          5.676706727993334,
          6.436088218043929,
          6.53231831847919,
          8.39720720716776,
          10.884266431893359,
          10.884266431893359,
          12.998691006267837,
          12.746520656224003,
          22.677787001619286,
          13.830914398238821,
          36.959040529880895,
          42.827964476636225,
          46.17535060450269,
          53.154126069154046,
          47.70907046416042,
          49.515136875617955,
          16.083193625728814,
          6.858234721487879,
          4.423523191554269,
          11.288120057521496,
          13.03553930202117,
          39.32226861148979,
          39.92625582821066,
          40.392605426980914,
          34.49316258172269,
          38.704043905285104,
          55.2573812549405,
          57.37863404608737,
          56.53825479756365,
          56.34546423282592,
          56.15820657421093,
          62.50025112083593,
          74.11966070963672,
          72.63723987396321,
          73.72895299085471,
          73.72895299085471,
          67.04059116915812,
          74.04313434758934,
          75.62013531041414,
          74.27809924979003,
          71.18916857259345,
          63.53128871256668,
          72.8722047761639,
          81.39206481485556,
          82.73811134110858,
          80.91380786968055,
          80.91380786968055,
          82.73811134110858,
          80.729298610425,
          80.729298610425,
          80.91380786968055,
          80.91380786968055,
          80.238229165375,
          80.238229165375,
          81.27178872023737,
          79.24752976144049,
          77.03072479029763,
          77.03072479029763,
          73.72895299085471,
          69.73453461730278,
          62.60793205384125,
          69.73453461730278,
          58.63644993932874,
          53.868329442942866,
          47.537014980555966,
          28.250234777626538,
          18.569774219705298,
          18.569774219705298,
          17.931795636043454,
          26.650790992432484,
          23.780362737336496,
          59.145511258597374,
          73.0253478259826,
          73.0253478259826,
          73.12613245282112,
          74.77137935045945,
          75.27063486524673,
          73.8330117681389,
          73.84404798183365,
          75.27063486524673,
          76.3544571312105,
          75.61176997955283,
          75.8487421980887,
          75.8487421980887,
          75.8487421980887,
          75.61176997955283,
          75.8487421980887,
          73.28893554964644,
          71.92890095902304,
          71.92890095902304,
          70.96327859272003,
          73.55883567481874,
          73.55883567481874,
          73.55883567481874,
          74.33554193838233,
          62.319369143163655,
          67.78832199560546,
          45.80693817577927,
          31.675121255390238,
          26.99047926486021,
          18.51623363602276,
          18.369506987689284,
          18.369506987689284,
          21.543062757606933,
          23.827870398616504,
          34.87917942252552,
          29.672739053455558,
          28.048048709453575,
          24.54825208435354,
          19.52426378001413,
          17.247987572648412,
          29.27593641626137,
          24.168764244933193,
          17.058707936345055,
          8.34023659892601,
          7.224942641057276,
          4.836281462810238,
          7.224942641057276,
          5.16416003345055,
          5.16416003345055,
          2.767566151020773,
          2.1522151637520928,
          1.4124290221723574,
          0.9195007959459979,
          1.4648706331228332,
          1.4648706331228332,
          1.4648706331228332,
          9.529767332731762,
          10.478931117480512,
          14.017677106457874,
          23.181243241438736,
          25.56310646158093,
          32.11453871969401,
          32.41532532893423,
          35.2359752678118,
          38.99482359695567,
          22.29676261119382,
          17.89306402512329,
          12.469925860051662,
          11.062313761606166,
          16.297594796364628,
          15.03457712187921,
          10.294916151928572,
          7.2178473402953784,
          9.27788803034585,
          11.029634353899159,
          11.342727638884764,
          21.397448502877644,
          28.682053802967786,
          26.298046906869352,
          29.198940517827968,
          31.167465707532727,
          39.30450576118939,
          43.93105542453048,
          35.976157096829795,
          27.115974037434277,
          17.430761241073533,
          19.534049814144325,
          17.131445158536266,
          17.914686695523244,
          18.28331553592622,
          17.282972185455503,
          17.914094435154524,
          20.420080706641325,
          41.67611070522173,
          43.70425460841718,
          43.70425460841718,
          42.79609590454799,
          44.19094441942609,
          48.18355920437287,
          48.18355920437287,
          51.05335634050567,
          44.85656139291676,
          39.40864110270174,
          79.07705896629534,
          77.2264592780263,
          51.22333278488178,
          48.44644258160214,
          42.578072131419034,
          35.56143164820792,
          35.56143164820792,
          35.575799758002404,
          35.58199152126498,
          36.977099415981726,
          34.91154513173976,
          19.678953592098956,
          34.91154513173976,
          67.61556249909998,
          74.18924924899099,
          74.27590457618726,
          75.05452319485394,
          76.44672150662294,
          76.44672150662294,
          78.4782155787645,
          83.6171791771867,
          83.38840079139766,
          81.40587588651488,
          80.12267479917938,
          81.62431098681094,
          76.99714816951646,
          74.3869701203729,
          74.3869701203729,
          72.8638213824241,
          71.05634135794628,
          71.05634135794628,
          75.51650475598197,
          81.57557377216652,
          77.38298461282139,
          79.44502146481784,
          86.42251931061497,
          86.42251931061497,
          86.42251931061497,
          85.5632474090595,
          85.5632474090595,
          85.5632474090595,
          85.5632474090595,
          83.44814020060193,
          83.44814020060193,
          85.5632474090595,
          85.5632474090595,
          85.5632474090595,
          85.5632474090595,
          85.5632474090595,
          84.4230513313289,
          82.25119415770993,
          83.06527903822689,
          83.06527903822689,
          83.60488014140012,
          82.13226932706377,
          71.76938697398401,
          74.58425469551126,
          57.25842368168074,
          51.95428022159928,
          48.882296444417975,
          46.22731033517192,
          33.05308522579876,
          40.835030665648375,
          40.97802591379421,
          40.97802591379421,
          40.97802591379421,
          42.43004927266201,
          59.059658579735796,
          67.56372179505068,
          76.93062791626267,
          77.39979482316288,
          77.39979482316288,
          78.37338160188014,
          70.9943926332687,
          70.9943926332687,
          59.44616098166993,
          55.84676050195773,
          59.44616098166993,
          67.49807665124169,
          64.09324820003405,
          71.90193533386632,
          61.55885479177988,
          61.55885479177988,
          69.77713945733036,
          74.48025143658964,
          71.06546563804878,
          71.06546563804878,
          69.5984127314768,
          69.5984127314768,
          66.4094074141615,
          57.89511758520382,
          52.409980680978634,
          54.54571153834308,
          43.303265344957225,
          42.090896089095324,
          40.06760813650223,
          39.396796416979164,
          39.396796416979164,
          31.91791854243769,
          20.346293898977123
         ],
         "yaxis": "y"
        }
       ],
       "layout": {
        "legend": {
         "title": {
          "text": "variable"
         },
         "tracegroupgap": 0
        },
        "margin": {
         "t": 60
        },
        "template": {
         "data": {
          "bar": [
           {
            "error_x": {
             "color": "#2a3f5f"
            },
            "error_y": {
             "color": "#2a3f5f"
            },
            "marker": {
             "line": {
              "color": "#E5ECF6",
              "width": 0.5
             },
             "pattern": {
              "fillmode": "overlay",
              "size": 10,
              "solidity": 0.2
             }
            },
            "type": "bar"
           }
          ],
          "barpolar": [
           {
            "marker": {
             "line": {
              "color": "#E5ECF6",
              "width": 0.5
             },
             "pattern": {
              "fillmode": "overlay",
              "size": 10,
              "solidity": 0.2
             }
            },
            "type": "barpolar"
           }
          ],
          "carpet": [
           {
            "aaxis": {
             "endlinecolor": "#2a3f5f",
             "gridcolor": "white",
             "linecolor": "white",
             "minorgridcolor": "white",
             "startlinecolor": "#2a3f5f"
            },
            "baxis": {
             "endlinecolor": "#2a3f5f",
             "gridcolor": "white",
             "linecolor": "white",
             "minorgridcolor": "white",
             "startlinecolor": "#2a3f5f"
            },
            "type": "carpet"
           }
          ],
          "choropleth": [
           {
            "colorbar": {
             "outlinewidth": 0,
             "ticks": ""
            },
            "type": "choropleth"
           }
          ],
          "contour": [
           {
            "colorbar": {
             "outlinewidth": 0,
             "ticks": ""
            },
            "colorscale": [
             [
              0,
              "#0d0887"
             ],
             [
              0.1111111111111111,
              "#46039f"
             ],
             [
              0.2222222222222222,
              "#7201a8"
             ],
             [
              0.3333333333333333,
              "#9c179e"
             ],
             [
              0.4444444444444444,
              "#bd3786"
             ],
             [
              0.5555555555555556,
              "#d8576b"
             ],
             [
              0.6666666666666666,
              "#ed7953"
             ],
             [
              0.7777777777777778,
              "#fb9f3a"
             ],
             [
              0.8888888888888888,
              "#fdca26"
             ],
             [
              1,
              "#f0f921"
             ]
            ],
            "type": "contour"
           }
          ],
          "contourcarpet": [
           {
            "colorbar": {
             "outlinewidth": 0,
             "ticks": ""
            },
            "type": "contourcarpet"
           }
          ],
          "heatmap": [
           {
            "colorbar": {
             "outlinewidth": 0,
             "ticks": ""
            },
            "colorscale": [
             [
              0,
              "#0d0887"
             ],
             [
              0.1111111111111111,
              "#46039f"
             ],
             [
              0.2222222222222222,
              "#7201a8"
             ],
             [
              0.3333333333333333,
              "#9c179e"
             ],
             [
              0.4444444444444444,
              "#bd3786"
             ],
             [
              0.5555555555555556,
              "#d8576b"
             ],
             [
              0.6666666666666666,
              "#ed7953"
             ],
             [
              0.7777777777777778,
              "#fb9f3a"
             ],
             [
              0.8888888888888888,
              "#fdca26"
             ],
             [
              1,
              "#f0f921"
             ]
            ],
            "type": "heatmap"
           }
          ],
          "heatmapgl": [
           {
            "colorbar": {
             "outlinewidth": 0,
             "ticks": ""
            },
            "colorscale": [
             [
              0,
              "#0d0887"
             ],
             [
              0.1111111111111111,
              "#46039f"
             ],
             [
              0.2222222222222222,
              "#7201a8"
             ],
             [
              0.3333333333333333,
              "#9c179e"
             ],
             [
              0.4444444444444444,
              "#bd3786"
             ],
             [
              0.5555555555555556,
              "#d8576b"
             ],
             [
              0.6666666666666666,
              "#ed7953"
             ],
             [
              0.7777777777777778,
              "#fb9f3a"
             ],
             [
              0.8888888888888888,
              "#fdca26"
             ],
             [
              1,
              "#f0f921"
             ]
            ],
            "type": "heatmapgl"
           }
          ],
          "histogram": [
           {
            "marker": {
             "pattern": {
              "fillmode": "overlay",
              "size": 10,
              "solidity": 0.2
             }
            },
            "type": "histogram"
           }
          ],
          "histogram2d": [
           {
            "colorbar": {
             "outlinewidth": 0,
             "ticks": ""
            },
            "colorscale": [
             [
              0,
              "#0d0887"
             ],
             [
              0.1111111111111111,
              "#46039f"
             ],
             [
              0.2222222222222222,
              "#7201a8"
             ],
             [
              0.3333333333333333,
              "#9c179e"
             ],
             [
              0.4444444444444444,
              "#bd3786"
             ],
             [
              0.5555555555555556,
              "#d8576b"
             ],
             [
              0.6666666666666666,
              "#ed7953"
             ],
             [
              0.7777777777777778,
              "#fb9f3a"
             ],
             [
              0.8888888888888888,
              "#fdca26"
             ],
             [
              1,
              "#f0f921"
             ]
            ],
            "type": "histogram2d"
           }
          ],
          "histogram2dcontour": [
           {
            "colorbar": {
             "outlinewidth": 0,
             "ticks": ""
            },
            "colorscale": [
             [
              0,
              "#0d0887"
             ],
             [
              0.1111111111111111,
              "#46039f"
             ],
             [
              0.2222222222222222,
              "#7201a8"
             ],
             [
              0.3333333333333333,
              "#9c179e"
             ],
             [
              0.4444444444444444,
              "#bd3786"
             ],
             [
              0.5555555555555556,
              "#d8576b"
             ],
             [
              0.6666666666666666,
              "#ed7953"
             ],
             [
              0.7777777777777778,
              "#fb9f3a"
             ],
             [
              0.8888888888888888,
              "#fdca26"
             ],
             [
              1,
              "#f0f921"
             ]
            ],
            "type": "histogram2dcontour"
           }
          ],
          "mesh3d": [
           {
            "colorbar": {
             "outlinewidth": 0,
             "ticks": ""
            },
            "type": "mesh3d"
           }
          ],
          "parcoords": [
           {
            "line": {
             "colorbar": {
              "outlinewidth": 0,
              "ticks": ""
             }
            },
            "type": "parcoords"
           }
          ],
          "pie": [
           {
            "automargin": true,
            "type": "pie"
           }
          ],
          "scatter": [
           {
            "fillpattern": {
             "fillmode": "overlay",
             "size": 10,
             "solidity": 0.2
            },
            "type": "scatter"
           }
          ],
          "scatter3d": [
           {
            "line": {
             "colorbar": {
              "outlinewidth": 0,
              "ticks": ""
             }
            },
            "marker": {
             "colorbar": {
              "outlinewidth": 0,
              "ticks": ""
             }
            },
            "type": "scatter3d"
           }
          ],
          "scattercarpet": [
           {
            "marker": {
             "colorbar": {
              "outlinewidth": 0,
              "ticks": ""
             }
            },
            "type": "scattercarpet"
           }
          ],
          "scattergeo": [
           {
            "marker": {
             "colorbar": {
              "outlinewidth": 0,
              "ticks": ""
             }
            },
            "type": "scattergeo"
           }
          ],
          "scattergl": [
           {
            "marker": {
             "colorbar": {
              "outlinewidth": 0,
              "ticks": ""
             }
            },
            "type": "scattergl"
           }
          ],
          "scattermapbox": [
           {
            "marker": {
             "colorbar": {
              "outlinewidth": 0,
              "ticks": ""
             }
            },
            "type": "scattermapbox"
           }
          ],
          "scatterpolar": [
           {
            "marker": {
             "colorbar": {
              "outlinewidth": 0,
              "ticks": ""
             }
            },
            "type": "scatterpolar"
           }
          ],
          "scatterpolargl": [
           {
            "marker": {
             "colorbar": {
              "outlinewidth": 0,
              "ticks": ""
             }
            },
            "type": "scatterpolargl"
           }
          ],
          "scatterternary": [
           {
            "marker": {
             "colorbar": {
              "outlinewidth": 0,
              "ticks": ""
             }
            },
            "type": "scatterternary"
           }
          ],
          "surface": [
           {
            "colorbar": {
             "outlinewidth": 0,
             "ticks": ""
            },
            "colorscale": [
             [
              0,
              "#0d0887"
             ],
             [
              0.1111111111111111,
              "#46039f"
             ],
             [
              0.2222222222222222,
              "#7201a8"
             ],
             [
              0.3333333333333333,
              "#9c179e"
             ],
             [
              0.4444444444444444,
              "#bd3786"
             ],
             [
              0.5555555555555556,
              "#d8576b"
             ],
             [
              0.6666666666666666,
              "#ed7953"
             ],
             [
              0.7777777777777778,
              "#fb9f3a"
             ],
             [
              0.8888888888888888,
              "#fdca26"
             ],
             [
              1,
              "#f0f921"
             ]
            ],
            "type": "surface"
           }
          ],
          "table": [
           {
            "cells": {
             "fill": {
              "color": "#EBF0F8"
             },
             "line": {
              "color": "white"
             }
            },
            "header": {
             "fill": {
              "color": "#C8D4E3"
             },
             "line": {
              "color": "white"
             }
            },
            "type": "table"
           }
          ]
         },
         "layout": {
          "annotationdefaults": {
           "arrowcolor": "#2a3f5f",
           "arrowhead": 0,
           "arrowwidth": 1
          },
          "autotypenumbers": "strict",
          "coloraxis": {
           "colorbar": {
            "outlinewidth": 0,
            "ticks": ""
           }
          },
          "colorscale": {
           "diverging": [
            [
             0,
             "#8e0152"
            ],
            [
             0.1,
             "#c51b7d"
            ],
            [
             0.2,
             "#de77ae"
            ],
            [
             0.3,
             "#f1b6da"
            ],
            [
             0.4,
             "#fde0ef"
            ],
            [
             0.5,
             "#f7f7f7"
            ],
            [
             0.6,
             "#e6f5d0"
            ],
            [
             0.7,
             "#b8e186"
            ],
            [
             0.8,
             "#7fbc41"
            ],
            [
             0.9,
             "#4d9221"
            ],
            [
             1,
             "#276419"
            ]
           ],
           "sequential": [
            [
             0,
             "#0d0887"
            ],
            [
             0.1111111111111111,
             "#46039f"
            ],
            [
             0.2222222222222222,
             "#7201a8"
            ],
            [
             0.3333333333333333,
             "#9c179e"
            ],
            [
             0.4444444444444444,
             "#bd3786"
            ],
            [
             0.5555555555555556,
             "#d8576b"
            ],
            [
             0.6666666666666666,
             "#ed7953"
            ],
            [
             0.7777777777777778,
             "#fb9f3a"
            ],
            [
             0.8888888888888888,
             "#fdca26"
            ],
            [
             1,
             "#f0f921"
            ]
           ],
           "sequentialminus": [
            [
             0,
             "#0d0887"
            ],
            [
             0.1111111111111111,
             "#46039f"
            ],
            [
             0.2222222222222222,
             "#7201a8"
            ],
            [
             0.3333333333333333,
             "#9c179e"
            ],
            [
             0.4444444444444444,
             "#bd3786"
            ],
            [
             0.5555555555555556,
             "#d8576b"
            ],
            [
             0.6666666666666666,
             "#ed7953"
            ],
            [
             0.7777777777777778,
             "#fb9f3a"
            ],
            [
             0.8888888888888888,
             "#fdca26"
            ],
            [
             1,
             "#f0f921"
            ]
           ]
          },
          "colorway": [
           "#636efa",
           "#EF553B",
           "#00cc96",
           "#ab63fa",
           "#FFA15A",
           "#19d3f3",
           "#FF6692",
           "#B6E880",
           "#FF97FF",
           "#FECB52"
          ],
          "font": {
           "color": "#2a3f5f"
          },
          "geo": {
           "bgcolor": "white",
           "lakecolor": "white",
           "landcolor": "#E5ECF6",
           "showlakes": true,
           "showland": true,
           "subunitcolor": "white"
          },
          "hoverlabel": {
           "align": "left"
          },
          "hovermode": "closest",
          "mapbox": {
           "style": "light"
          },
          "paper_bgcolor": "white",
          "plot_bgcolor": "#E5ECF6",
          "polar": {
           "angularaxis": {
            "gridcolor": "white",
            "linecolor": "white",
            "ticks": ""
           },
           "bgcolor": "#E5ECF6",
           "radialaxis": {
            "gridcolor": "white",
            "linecolor": "white",
            "ticks": ""
           }
          },
          "scene": {
           "xaxis": {
            "backgroundcolor": "#E5ECF6",
            "gridcolor": "white",
            "gridwidth": 2,
            "linecolor": "white",
            "showbackground": true,
            "ticks": "",
            "zerolinecolor": "white"
           },
           "yaxis": {
            "backgroundcolor": "#E5ECF6",
            "gridcolor": "white",
            "gridwidth": 2,
            "linecolor": "white",
            "showbackground": true,
            "ticks": "",
            "zerolinecolor": "white"
           },
           "zaxis": {
            "backgroundcolor": "#E5ECF6",
            "gridcolor": "white",
            "gridwidth": 2,
            "linecolor": "white",
            "showbackground": true,
            "ticks": "",
            "zerolinecolor": "white"
           }
          },
          "shapedefaults": {
           "line": {
            "color": "#2a3f5f"
           }
          },
          "ternary": {
           "aaxis": {
            "gridcolor": "white",
            "linecolor": "white",
            "ticks": ""
           },
           "baxis": {
            "gridcolor": "white",
            "linecolor": "white",
            "ticks": ""
           },
           "bgcolor": "#E5ECF6",
           "caxis": {
            "gridcolor": "white",
            "linecolor": "white",
            "ticks": ""
           }
          },
          "title": {
           "x": 0.05
          },
          "xaxis": {
           "automargin": true,
           "gridcolor": "white",
           "linecolor": "white",
           "ticks": "",
           "title": {
            "standoff": 15
           },
           "zerolinecolor": "white",
           "zerolinewidth": 2
          },
          "yaxis": {
           "automargin": true,
           "gridcolor": "white",
           "linecolor": "white",
           "ticks": "",
           "title": {
            "standoff": 15
           },
           "zerolinecolor": "white",
           "zerolinewidth": 2
          }
         }
        },
        "xaxis": {
         "anchor": "y",
         "domain": [
          0,
          1
         ],
         "title": {
          "text": "index"
         }
        },
        "yaxis": {
         "anchor": "x",
         "domain": [
          0,
          1
         ],
         "title": {
          "text": "value"
         }
        }
       }
      }
     },
     "metadata": {},
     "output_type": "display_data"
    }
   ],
   "source": [
    "import plotly.express as px\n",
    "\n",
    "df = pd.DataFrame({\"y_true\": y_true, \"y_preds\": y_preds}).head(500)\n",
    "fig = px.line(df, y=[\"y_true\", \"y_preds\"], title='')\n",
    "fig.show()"
   ]
  }
 ],
 "metadata": {
  "kernelspec": {
   "display_name": "venv-sail",
   "language": "python",
   "name": "python3"
  },
  "language_info": {
   "codemirror_mode": {
    "name": "ipython",
    "version": 3
   },
   "file_extension": ".py",
   "mimetype": "text/x-python",
   "name": "python",
   "nbconvert_exporter": "python",
   "pygments_lexer": "ipython3",
   "version": "3.8.12"
  },
  "orig_nbformat": 4
 },
 "nbformat": 4,
 "nbformat_minor": 2
}
