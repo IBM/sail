{
 "cells": [
  {
   "cell_type": "code",
   "execution_count": 1,
   "metadata": {},
   "outputs": [],
   "source": [
    "import numpy as np\n",
    "import pandas as pd\n",
    "from river import optim\n",
    "from river import metrics\n",
    "from river.drift.binary import EDDM\n",
    "from sail.telemetry import TracingClient\n",
    "from sail.models.auto_ml.tune import SAILTuneGridSearchCV\n",
    "from sail.models.river.forest import AdaptiveRandomForestRegressor\n",
    "from sail.models.river.linear_model import LinearRegression\n",
    "from sail.models.auto_ml.auto_pipeline import SAILAutoPipeline\n",
    "from sail.pipeline import SAILPipeline\n",
    "from sklearn.impute import SimpleImputer\n",
    "from sail.models.torch.rnn import RNNRegressor\n",
    "from sail.drift_detection.drift_detector import SAILDriftDetector\n",
    "from sail.transformers.river.preprocessing import StandardScaler"
   ]
  },
  {
   "attachments": {},
   "cell_type": "markdown",
   "metadata": {},
   "source": [
    "#### Load Data\n"
   ]
  },
  {
   "cell_type": "code",
   "execution_count": 2,
   "metadata": {},
   "outputs": [],
   "source": [
    "X = pd.read_csv(\"../../datasets/HDWF2.csv\")\n",
    "\n",
    "y = X[\"power\"]\n",
    "X.drop([\"power\", \"time\"], axis=1, inplace=True)"
   ]
  },
  {
   "attachments": {},
   "cell_type": "markdown",
   "metadata": {},
   "source": [
    "#### Model Definition\n"
   ]
  },
  {
   "cell_type": "code",
   "execution_count": 3,
   "metadata": {},
   "outputs": [],
   "source": [
    "linear_reg = LinearRegression(optimizer=optim.SGD(0.1))\n",
    "random_forest = AdaptiveRandomForestRegressor()\n",
    "learner_gru = RNNRegressor(\n",
    "    input_units=12,\n",
    "    output_units=1,\n",
    "    hidden_units=100,\n",
    "    n_hidden_layers=3,\n",
    "    lr=0.001,\n",
    "    cell_type=\"GRU\",\n",
    "    verbose=0,\n",
    ")"
   ]
  },
  {
   "attachments": {},
   "cell_type": "markdown",
   "metadata": {},
   "source": [
    "#### Create SAIL Pipeline\n"
   ]
  },
  {
   "cell_type": "code",
   "execution_count": 4,
   "metadata": {},
   "outputs": [],
   "source": [
    "steps = [\n",
    "    (\"Imputer\", SimpleImputer(missing_values=np.nan, strategy=\"mean\")),\n",
    "    (\"standard_scalar\", StandardScaler()),\n",
    "    (\"regressor\", \"passthrough\"),\n",
    "]\n",
    "sail_pipeline = SAILPipeline(\n",
    "    steps=steps, scoring=[metrics.R2], verbosity_level=1, verbosity_interval=2\n",
    ")"
   ]
  },
  {
   "attachments": {},
   "cell_type": "markdown",
   "metadata": {},
   "source": [
    "#### HPO Params\n"
   ]
  },
  {
   "cell_type": "code",
   "execution_count": 5,
   "metadata": {},
   "outputs": [],
   "source": [
    "params_grid = [\n",
    "    {\n",
    "        \"regressor\": [linear_reg],\n",
    "        \"regressor__l2\": [0.1, 0.9],\n",
    "        \"regressor__intercept_init\": [0.2, 0.5],\n",
    "    },\n",
    "    {\"regressor\": [random_forest], \"regressor__n_models\": [10, 15, 20]},\n",
    "    {\n",
    "        \"regressor\": [learner_gru],\n",
    "        \"regressor__input_units\": [12],\n",
    "        \"regressor__output_units\": [1],\n",
    "        \"regressor__hidden_units\": [50, 100],\n",
    "    },\n",
    "]"
   ]
  },
  {
   "attachments": {},
   "cell_type": "markdown",
   "metadata": {},
   "source": [
    "#### Create Model Instance\n"
   ]
  },
  {
   "cell_type": "code",
   "execution_count": 6,
   "metadata": {},
   "outputs": [
    {
     "name": "stderr",
     "output_type": "stream",
     "text": [
      "[2023-10-08 22:39:53:274] - INFO - SAIL (PipelineStrategy) - Pipeline Strategy [DetectAndIncrement] created with actions: ['DATA_COLLECTION', 'FIND_BEST_PIPELINE', 'SCORE_AND_DETECT_DRIFT', 'PARTIAL_FIT_MODEL']\n"
     ]
    }
   ],
   "source": [
    "# tracer = TracingClient(service_name=\"SAIL_Testing\", otlp_endpoint=\"http://localhost:4318\")\n",
    "\n",
    "auto_pipeline = SAILAutoPipeline(\n",
    "    pipeline=sail_pipeline,\n",
    "    pipeline_params_grid=params_grid,\n",
    "    search_method=SAILTuneGridSearchCV,\n",
    "    search_method_params={\n",
    "        \"num_cpus_per_trial\": 1,\n",
    "        \"max_iters\": 1,\n",
    "        \"early_stopping\": False,\n",
    "        \"mode\": \"max\",\n",
    "        \"scoring\": \"r2\",\n",
    "        \"pipeline_auto_early_stop\": False,\n",
    "        \"keep_best_configurations\": 2,\n",
    "        # \"runtime_env\": {\n",
    "        #     \"py_modules\": [sail],\n",
    "        #     \"pip\": [\n",
    "        #         \"scikit-learn>=1.2\",\n",
    "        #         \"logzero\",\n",
    "        #         \"numpy>=1.23\",\n",
    "        #         \"river==0.14.*\",\n",
    "        #         \"ray>=2.5\",\n",
    "        #         \"tune_sklearn\",\n",
    "        #         \"dill\",\n",
    "        #         \"ipython\",\n",
    "        #     ],\n",
    "        # },\n",
    "        # \"namespace\": \"sail-tune\",\n",
    "        # \"cluster_address\": \"ray://localhost:10001\"\n",
    "    },\n",
    "    search_data_size=500,\n",
    "    incremental_training=True,\n",
    "    drift_detector=SAILDriftDetector(model=EDDM(), drift_param=\"difference\"),\n",
    "    pipeline_strategy=\"DetectAndIncrement\",\n",
    "    verbosity_level=1,\n",
    "    verbosity_interval=2,\n",
    "    tensorboard_log_dir=None,\n",
    "    tracer=None,\n",
    ")"
   ]
  },
  {
   "attachments": {},
   "cell_type": "markdown",
   "metadata": {},
   "source": [
    "#### Start Training\n"
   ]
  },
  {
   "cell_type": "code",
   "execution_count": 7,
   "metadata": {},
   "outputs": [],
   "source": [
    "y_preds = []\n",
    "y_true = []\n",
    "batch_size = 50"
   ]
  },
  {
   "cell_type": "code",
   "execution_count": 8,
   "metadata": {},
   "outputs": [
    {
     "data": {
      "text/html": [
       "<div class=\"tuneStatus\">\n",
       "  <div style=\"display: flex;flex-direction: row\">\n",
       "    <div style=\"display: flex;flex-direction: column;\">\n",
       "      <h3>Tune Status</h3>\n",
       "      <table>\n",
       "<tbody>\n",
       "<tr><td>Current time:</td><td>2023-10-08 22:40:11</td></tr>\n",
       "<tr><td>Running for: </td><td>00:00:11.98        </td></tr>\n",
       "<tr><td>Memory:      </td><td>21.7/64.0 GiB      </td></tr>\n",
       "</tbody>\n",
       "</table>\n",
       "    </div>\n",
       "    <div class=\"vDivider\"></div>\n",
       "    <div class=\"systemInfo\">\n",
       "      <h3>System Info</h3>\n",
       "      Using FIFO scheduling algorithm.<br>Logical resource usage: 2.0/10 CPUs, 0/0 GPUs\n",
       "    </div>\n",
       "    \n",
       "  </div>\n",
       "  <div class=\"hDivider\"></div>\n",
       "  <div class=\"trialStatus\">\n",
       "    <h3>Trial Status</h3>\n",
       "    <table>\n",
       "<thead>\n",
       "<tr><th>Trial name         </th><th>status    </th><th>loc            </th><th>regressor           </th><th style=\"text-align: right;\">    regressor__hidden_un\n",
       "its</th><th style=\"text-align: right;\">   regressor__input_uni\n",
       "ts</th><th style=\"text-align: right;\">    regressor__intercept\n",
       "_init</th><th style=\"text-align: right;\">  regressor__l2</th><th style=\"text-align: right;\">  regressor__n_models</th><th style=\"text-align: right;\">  regressor__output_un\n",
       "its</th><th style=\"text-align: right;\">  iter</th><th style=\"text-align: right;\">  total time (s)</th><th style=\"text-align: right;\">  split0_test_score</th><th style=\"text-align: right;\">  split1_test_score</th><th style=\"text-align: right;\">  split2_test_score</th></tr>\n",
       "</thead>\n",
       "<tbody>\n",
       "<tr><td>_Trainable_e51f284f</td><td>TERMINATED</td><td>127.0.0.1:45670</td><td>LinearRegressio_8250</td><td style=\"text-align: right;\">   </td><td style=\"text-align: right;\">  </td><td style=\"text-align: right;\">0.2</td><td style=\"text-align: right;\">            0.1</td><td style=\"text-align: right;\">                     </td><td style=\"text-align: right;\"> </td><td style=\"text-align: right;\">     1</td><td style=\"text-align: right;\">       0.0755241</td><td style=\"text-align: right;\">       -4.62577e+19</td><td style=\"text-align: right;\">       -3.78536e+19</td><td style=\"text-align: right;\">       -3.36403e+19</td></tr>\n",
       "<tr><td>_Trainable_11cad363</td><td>TERMINATED</td><td>127.0.0.1:45670</td><td>LinearRegressio_70a0</td><td style=\"text-align: right;\">   </td><td style=\"text-align: right;\">  </td><td style=\"text-align: right;\">0.2</td><td style=\"text-align: right;\">            0.9</td><td style=\"text-align: right;\">                     </td><td style=\"text-align: right;\"> </td><td style=\"text-align: right;\">     1</td><td style=\"text-align: right;\">       0.0749912</td><td style=\"text-align: right;\">       -1.49113e+19</td><td style=\"text-align: right;\">       -3.12472e+16</td><td style=\"text-align: right;\">       -3.01217e+19</td></tr>\n",
       "<tr><td>_Trainable_ecdf7df2</td><td>TERMINATED</td><td>127.0.0.1:45670</td><td>LinearRegressio_1d80</td><td style=\"text-align: right;\">   </td><td style=\"text-align: right;\">  </td><td style=\"text-align: right;\">0.5</td><td style=\"text-align: right;\">            0.1</td><td style=\"text-align: right;\">                     </td><td style=\"text-align: right;\"> </td><td style=\"text-align: right;\">     1</td><td style=\"text-align: right;\">       0.0758247</td><td style=\"text-align: right;\">       -8.73394e+19</td><td style=\"text-align: right;\">       -4.91866e+18</td><td style=\"text-align: right;\">       -2.5045e+19 </td></tr>\n",
       "<tr><td>_Trainable_cb999f6e</td><td>TERMINATED</td><td>127.0.0.1:45670</td><td>LinearRegressio_0c10</td><td style=\"text-align: right;\">   </td><td style=\"text-align: right;\">  </td><td style=\"text-align: right;\">0.5</td><td style=\"text-align: right;\">            0.9</td><td style=\"text-align: right;\">                     </td><td style=\"text-align: right;\"> </td><td style=\"text-align: right;\">     1</td><td style=\"text-align: right;\">       0.0812669</td><td style=\"text-align: right;\">       -1.50236e+19</td><td style=\"text-align: right;\">       -1.17498e+17</td><td style=\"text-align: right;\">       -4.56942e+19</td></tr>\n",
       "<tr><td>_Trainable_65628954</td><td>TERMINATED</td><td>127.0.0.1:45670</td><td>AdaptiveRandomF_1030</td><td style=\"text-align: right;\">   </td><td style=\"text-align: right;\">  </td><td style=\"text-align: right;\">   </td><td style=\"text-align: right;\">               </td><td style=\"text-align: right;\">                   10</td><td style=\"text-align: right;\"> </td><td style=\"text-align: right;\">     1</td><td style=\"text-align: right;\">       3.47091  </td><td style=\"text-align: right;\">        0.642463   </td><td style=\"text-align: right;\">        0.0230324  </td><td style=\"text-align: right;\">       -0.216408   </td></tr>\n",
       "<tr><td>_Trainable_3b2f71c9</td><td>TERMINATED</td><td>127.0.0.1:45682</td><td>AdaptiveRandomF_4fd0</td><td style=\"text-align: right;\">   </td><td style=\"text-align: right;\">  </td><td style=\"text-align: right;\">   </td><td style=\"text-align: right;\">               </td><td style=\"text-align: right;\">                   15</td><td style=\"text-align: right;\"> </td><td style=\"text-align: right;\">     1</td><td style=\"text-align: right;\">       4.18859  </td><td style=\"text-align: right;\">        0.558198   </td><td style=\"text-align: right;\">       -0.371116   </td><td style=\"text-align: right;\">       -1.28376    </td></tr>\n",
       "<tr><td>_Trainable_ff8d0585</td><td>TERMINATED</td><td>127.0.0.1:45670</td><td>AdaptiveRandomF_3fa0</td><td style=\"text-align: right;\">   </td><td style=\"text-align: right;\">  </td><td style=\"text-align: right;\">   </td><td style=\"text-align: right;\">               </td><td style=\"text-align: right;\">                   20</td><td style=\"text-align: right;\"> </td><td style=\"text-align: right;\">     1</td><td style=\"text-align: right;\">       5.75815  </td><td style=\"text-align: right;\">        0.505694   </td><td style=\"text-align: right;\">       -0.315212   </td><td style=\"text-align: right;\">       -0.262942   </td></tr>\n",
       "<tr><td>_Trainable_53718db3</td><td>TERMINATED</td><td>127.0.0.1:45701</td><td>&lt;class &#x27;sail.mo_33a0</td><td style=\"text-align: right;\"> 50</td><td style=\"text-align: right;\">12</td><td style=\"text-align: right;\">   </td><td style=\"text-align: right;\">               </td><td style=\"text-align: right;\">                     </td><td style=\"text-align: right;\">1</td><td style=\"text-align: right;\">     1</td><td style=\"text-align: right;\">       0.0882928</td><td style=\"text-align: right;\">       -2.39591    </td><td style=\"text-align: right;\">       -7.31047    </td><td style=\"text-align: right;\">       -0.62591    </td></tr>\n",
       "<tr><td>_Trainable_acd176f5</td><td>TERMINATED</td><td>127.0.0.1:45701</td><td>&lt;class &#x27;sail.mo_22c0</td><td style=\"text-align: right;\">100</td><td style=\"text-align: right;\">12</td><td style=\"text-align: right;\">   </td><td style=\"text-align: right;\">               </td><td style=\"text-align: right;\">                     </td><td style=\"text-align: right;\">1</td><td style=\"text-align: right;\">     1</td><td style=\"text-align: right;\">       0.0868728</td><td style=\"text-align: right;\">       -2.39364    </td><td style=\"text-align: right;\">       -7.28983    </td><td style=\"text-align: right;\">       -0.62827    </td></tr>\n",
       "</tbody>\n",
       "</table>\n",
       "  </div>\n",
       "</div>\n",
       "<style>\n",
       ".tuneStatus {\n",
       "  color: var(--jp-ui-font-color1);\n",
       "}\n",
       ".tuneStatus .systemInfo {\n",
       "  display: flex;\n",
       "  flex-direction: column;\n",
       "}\n",
       ".tuneStatus td {\n",
       "  white-space: nowrap;\n",
       "}\n",
       ".tuneStatus .trialStatus {\n",
       "  display: flex;\n",
       "  flex-direction: column;\n",
       "}\n",
       ".tuneStatus h3 {\n",
       "  font-weight: bold;\n",
       "}\n",
       ".tuneStatus .hDivider {\n",
       "  border-bottom-width: var(--jp-border-width);\n",
       "  border-bottom-color: var(--jp-border-color0);\n",
       "  border-bottom-style: solid;\n",
       "}\n",
       ".tuneStatus .vDivider {\n",
       "  border-left-width: var(--jp-border-width);\n",
       "  border-left-color: var(--jp-border-color0);\n",
       "  border-left-style: solid;\n",
       "  margin: 0.5em 1em 0.5em 1em;\n",
       "}\n",
       "</style>\n"
      ],
      "text/plain": [
       "<IPython.core.display.HTML object>"
      ]
     },
     "metadata": {},
     "output_type": "display_data"
    },
    {
     "name": "stderr",
     "output_type": "stream",
     "text": [
      "[2023-10-08 22:40:13:882] - INFO - SAIL (PipelineStrategy) - Pipeline tuning completed. Disconnecting Ray cluster...\n",
      "[2023-10-08 22:40:13:883] - INFO - SAIL (PipelineStrategy) - Found best params: {'regressor': AdaptiveRandomForestRegressor(drift_detector=ADWIN (\n",
      "      delta=0.001\n",
      "      clock=32\n",
      "      max_buckets=5\n",
      "      min_window_length=5\n",
      "      grace_period=10\n",
      "    ),\n",
      "                                  metric=MSE: 0.,\n",
      "                                  warning_detector=ADWIN (\n",
      "      delta=0.01\n",
      "      clock=32\n",
      "      max_buckets=5\n",
      "      min_window_length=5\n",
      "      grace_period=10\n",
      "    )), 'regressor__n_models': 10}\n",
      "\n",
      "    \n",
      ">> Epoch: 12 | Samples Seen: 550 -------------------------------------------------------------------------------------\n",
      "SAIL Pipeline Progressive Score: 100%========== [Points: 50/50, Elapsed:0.0022s, Metric=R2, Batch Size=50, P_Score=0.647]\n",
      "SAIL Drift detection: 100%========== [Points: 50/50, Elapsed:0.0012s, Detector=EDDM, Batch Size=50, Param=differene, Drift=No]\n",
      "SAIL Pipeline Partial fit: 100%========== [Steps: 3/3, ETA: 00:00<00:00, Elapsed:0.084s, Batch Size=50, P_Score=0.647]            \n",
      "\n",
      "    \n",
      ">> Epoch: 14 | Samples Seen: 650 -------------------------------------------------------------------------------------\n",
      "SAIL Pipeline Progressive Score: 100%========== [Points: 50/50, Elapsed:0.0019s, Metric=R2, Batch Size=50, P_Score=0.573]\n",
      "SAIL Drift detection: 100%========== [Points: 50/50, Elapsed:0.0016s, Detector=EDDM, Batch Size=50, Param=differene, Drift=No]\n",
      "SAIL Pipeline Partial fit: 100%========== [Steps: 3/3, ETA: 00:00<00:00, Elapsed:0.213s, Batch Size=50, P_Score=0.573]            \n",
      "\n",
      "    \n",
      ">> Epoch: 16 | Samples Seen: 750 -------------------------------------------------------------------------------------\n",
      "SAIL Pipeline Progressive Score: 100%========== [Points: 50/50, Elapsed:0.0014s, Metric=R2, Batch Size=50, P_Score=0.654]\n",
      "SAIL Drift detection: 100%========== [Points: 50/50, Elapsed:0.0009s, Detector=EDDM, Batch Size=50, Param=differene, Drift=No]\n",
      "SAIL Pipeline Partial fit: 100%========== [Steps: 3/3, ETA: 00:00<00:00, Elapsed:0.083s, Batch Size=50, P_Score=0.654]            \n",
      "\n",
      "    \n",
      ">> Epoch: 18 | Samples Seen: 850 -------------------------------------------------------------------------------------\n",
      "SAIL Pipeline Progressive Score: 100%========== [Points: 50/50, Elapsed:0.0015s, Metric=R2, Batch Size=50, P_Score=0.665]\n",
      "SAIL Drift detection: 100%========== [Points: 50/50, Elapsed:0.0009s, Detector=EDDM, Batch Size=50, Param=differene, Drift=No]\n",
      "SAIL Pipeline Partial fit: 100%========== [Steps: 3/3, ETA: 00:00<00:00, Elapsed:0.128s, Batch Size=50, P_Score=0.665]            \n",
      "\n",
      "    \n",
      ">> Epoch: 20 | Samples Seen: 950 -------------------------------------------------------------------------------------\n",
      "SAIL Pipeline Progressive Score: 100%========== [Points: 50/50, Elapsed:0.0015s, Metric=R2, Batch Size=50, P_Score=0.674]\n",
      "SAIL Drift detection: 100%========== [Points: 50/50, Elapsed:0.0010s, Detector=EDDM, Batch Size=50, Param=differene, Drift=No]\n",
      "SAIL Pipeline Partial fit: 100%========== [Steps: 3/3, ETA: 00:00<00:00, Elapsed:0.091s, Batch Size=50, P_Score=0.674]            \n"
     ]
    }
   ],
   "source": [
    "batch_size = 50\n",
    "# with tracer.trace_as_current_span(span_name=\"PIPELINE_TRAIN\"):\n",
    "for start in range(0, 1000, batch_size):\n",
    "    end = start + batch_size\n",
    "\n",
    "    X_train = X.iloc[start:end]\n",
    "    y_train = y.iloc[start:end]\n",
    "\n",
    "    if end > 500:  # search_data_size is 500\n",
    "        preds = auto_pipeline.predict(X_train)\n",
    "        y_preds.extend(list(preds))\n",
    "        y_true.extend(list(y_train))\n",
    "\n",
    "    auto_pipeline.train(X_train, y_train)"
   ]
  },
  {
   "attachments": {},
   "cell_type": "markdown",
   "metadata": {},
   "source": [
    "#### Save Model\n"
   ]
  },
  {
   "cell_type": "code",
   "execution_count": 9,
   "metadata": {},
   "outputs": [
    {
     "name": "stderr",
     "output_type": "stream",
     "text": [
      "[2023-10-08 21:42:23:589] - INFO - SAIL (SAILModel) - Model saved successfully.\n"
     ]
    },
    {
     "data": {
      "text/plain": [
       "'./sail_auto_pipeline'"
      ]
     },
     "execution_count": 9,
     "metadata": {},
     "output_type": "execute_result"
    }
   ],
   "source": [
    "auto_pipeline.save_model(\".\")"
   ]
  },
  {
   "attachments": {},
   "cell_type": "markdown",
   "metadata": {},
   "source": [
    "#### Load Model\n"
   ]
  },
  {
   "cell_type": "code",
   "execution_count": 10,
   "metadata": {},
   "outputs": [
    {
     "name": "stderr",
     "output_type": "stream",
     "text": [
      "[2023-10-08 21:42:25:404] - INFO - SAIL (PipelineStrategy) - Pipeline Strategy [DetectAndIncrement] created with actions: ['DATA_COLLECTION', 'FIND_BEST_PIPELINE', 'SCORE_AND_DETECT_DRIFT', 'PARTIAL_FIT_MODEL']\n",
      "[2023-10-08 21:42:25:566] - INFO - SAIL (SAILModel) - Model loaded successfully.\n",
      "SAIL Pipeline Progressive Score: 100%========== [Points: 1000/1000, Elapsed:0.0032s, Metric=R2, Batch Size=1000, P_Score=0.704]\n"
     ]
    }
   ],
   "source": [
    "new_auto_pipeline = SAILAutoPipeline.load_model(\".\")"
   ]
  },
  {
   "attachments": {},
   "cell_type": "markdown",
   "metadata": {},
   "source": [
    "#### Continue training using the load model\n"
   ]
  },
  {
   "cell_type": "code",
   "execution_count": 11,
   "metadata": {},
   "outputs": [
    {
     "name": "stdout",
     "output_type": "stream",
     "text": [
      "\n",
      ">>> Epoch: 22 | Samples Seen: 1050 -------------------------------------------------------------------------------------\n"
     ]
    },
    {
     "name": "stderr",
     "output_type": "stream",
     "text": [
      "SAIL Pipeline Progressive Score: 100%========== [Points: 50/50, Elapsed:0.0017s, Metric=R2, Batch Size=50, P_Score=0.725]\n",
      "SAIL Drift detection: 100%========== [Points: 50/50, Elapsed:0.0011s, Detector=EDDM, Batch Size=50, Param=differene, Drift=No]\n",
      "SAIL Pipeline Partial fit: 100%========== [Steps: 3/3, ETA: 00:00<00:00, Elapsed:0.190s, Batch Size=50, P_Score=0.725]            \n"
     ]
    },
    {
     "name": "stdout",
     "output_type": "stream",
     "text": [
      "\n",
      ">>> Epoch: 24 | Samples Seen: 1150 -------------------------------------------------------------------------------------\n"
     ]
    },
    {
     "name": "stderr",
     "output_type": "stream",
     "text": [
      "SAIL Pipeline Progressive Score: 100%========== [Points: 50/50, Elapsed:0.0015s, Metric=R2, Batch Size=50, P_Score=0.739]\n",
      "SAIL Drift detection: 100%========== [Points: 50/50, Elapsed:0.0010s, Detector=EDDM, Batch Size=50, Param=differene, Drift=No]\n",
      "SAIL Pipeline Partial fit: 100%========== [Steps: 3/3, ETA: 00:00<00:00, Elapsed:0.217s, Batch Size=50, P_Score=0.739]            \n"
     ]
    },
    {
     "name": "stdout",
     "output_type": "stream",
     "text": [
      "\n",
      ">>> Epoch: 26 | Samples Seen: 1250 -------------------------------------------------------------------------------------\n"
     ]
    },
    {
     "name": "stderr",
     "output_type": "stream",
     "text": [
      "SAIL Pipeline Progressive Score: 100%========== [Points: 50/50, Elapsed:0.0020s, Metric=R2, Batch Size=50, P_Score=0.757]\n",
      "SAIL Drift detection: 100%========== [Points: 50/50, Elapsed:0.0012s, Detector=EDDM, Batch Size=50, Param=differene, Drift=No]\n",
      "SAIL Pipeline Partial fit: 100%========== [Steps: 3/3, ETA: 00:00<00:00, Elapsed:0.190s, Batch Size=50, P_Score=0.757]            \n"
     ]
    },
    {
     "name": "stdout",
     "output_type": "stream",
     "text": [
      "\n",
      ">>> Epoch: 28 | Samples Seen: 1350 -------------------------------------------------------------------------------------\n"
     ]
    },
    {
     "name": "stderr",
     "output_type": "stream",
     "text": [
      "SAIL Pipeline Progressive Score: 100%========== [Points: 50/50, Elapsed:0.0014s, Metric=R2, Batch Size=50, P_Score=0.766]\n",
      "SAIL Drift detection: 100%========== [Points: 50/50, Elapsed:0.0014s, Detector=EDDM, Batch Size=50, Param=differene, Drift=No]\n",
      "SAIL Pipeline Partial fit: 100%========== [Steps: 3/3, ETA: 00:00<00:00, Elapsed:0.182s, Batch Size=50, P_Score=0.766]            \n"
     ]
    },
    {
     "name": "stdout",
     "output_type": "stream",
     "text": [
      "\n",
      ">>> Epoch: 30 | Samples Seen: 1450 -------------------------------------------------------------------------------------\n"
     ]
    },
    {
     "name": "stderr",
     "output_type": "stream",
     "text": [
      "SAIL Pipeline Progressive Score: 100%========== [Points: 50/50, Elapsed:0.0026s, Metric=R2, Batch Size=50, P_Score=0.773]\n",
      "SAIL Drift detection: 100%========== [Points: 50/50, Elapsed:0.0028s, Detector=EDDM, Batch Size=50, Param=differene, Drift=No]\n",
      "SAIL Pipeline Partial fit: 100%========== [Steps: 3/3, ETA: 00:00<00:00, Elapsed:0.222s, Batch Size=50, P_Score=0.773]            \n"
     ]
    }
   ],
   "source": [
    "for start in range(1501, 2001, batch_size):\n",
    "    end = start + batch_size\n",
    "\n",
    "    X_train = X.iloc[start:end]\n",
    "    y_train = y.iloc[start:end]\n",
    "\n",
    "    preds = new_auto_pipeline.predict(X_train)\n",
    "    y_preds.extend(list(preds))\n",
    "    y_true.extend(list(y_train))\n",
    "\n",
    "    new_auto_pipeline.train(X_train, y_train)"
   ]
  },
  {
   "attachments": {},
   "cell_type": "markdown",
   "metadata": {},
   "source": [
    "#### Final Score\n"
   ]
  },
  {
   "cell_type": "code",
   "execution_count": 12,
   "metadata": {},
   "outputs": [
    {
     "data": {
      "text/plain": [
       "0.7730706991771359"
      ]
     },
     "execution_count": 12,
     "metadata": {},
     "output_type": "execute_result"
    }
   ],
   "source": [
    "new_auto_pipeline.progressive_score"
   ]
  },
  {
   "attachments": {},
   "cell_type": "markdown",
   "metadata": {},
   "source": [
    "### Plot predictions\n"
   ]
  },
  {
   "cell_type": "code",
   "execution_count": 13,
   "metadata": {},
   "outputs": [
    {
     "data": {
      "application/vnd.plotly.v1+json": {
       "config": {
        "plotlyServerURL": "https://plot.ly"
       },
       "data": [
        {
         "hovertemplate": "variable=y_true<br>index=%{x}<br>value=%{y}<extra></extra>",
         "legendgroup": "y_true",
         "line": {
          "color": "#636efa",
          "dash": "solid"
         },
         "marker": {
          "symbol": "circle"
         },
         "mode": "lines",
         "name": "y_true",
         "orientation": "v",
         "showlegend": true,
         "type": "scatter",
         "x": [
          0,
          1,
          2,
          3,
          4,
          5,
          6,
          7,
          8,
          9,
          10,
          11,
          12,
          13,
          14,
          15,
          16,
          17,
          18,
          19,
          20,
          21,
          22,
          23,
          24,
          25,
          26,
          27,
          28,
          29,
          30,
          31,
          32,
          33,
          34,
          35,
          36,
          37,
          38,
          39,
          40,
          41,
          42,
          43,
          44,
          45,
          46,
          47,
          48,
          49,
          50,
          51,
          52,
          53,
          54,
          55,
          56,
          57,
          58,
          59,
          60,
          61,
          62,
          63,
          64,
          65,
          66,
          67,
          68,
          69,
          70,
          71,
          72,
          73,
          74,
          75,
          76,
          77,
          78,
          79,
          80,
          81,
          82,
          83,
          84,
          85,
          86,
          87,
          88,
          89,
          90,
          91,
          92,
          93,
          94,
          95,
          96,
          97,
          98,
          99,
          100,
          101,
          102,
          103,
          104,
          105,
          106,
          107,
          108,
          109,
          110,
          111,
          112,
          113,
          114,
          115,
          116,
          117,
          118,
          119,
          120,
          121,
          122,
          123,
          124,
          125,
          126,
          127,
          128,
          129,
          130,
          131,
          132,
          133,
          134,
          135,
          136,
          137,
          138,
          139,
          140,
          141,
          142,
          143,
          144,
          145,
          146,
          147,
          148,
          149,
          150,
          151,
          152,
          153,
          154,
          155,
          156,
          157,
          158,
          159,
          160,
          161,
          162,
          163,
          164,
          165,
          166,
          167,
          168,
          169,
          170,
          171,
          172,
          173,
          174,
          175,
          176,
          177,
          178,
          179,
          180,
          181,
          182,
          183,
          184,
          185,
          186,
          187,
          188,
          189,
          190,
          191,
          192,
          193,
          194,
          195,
          196,
          197,
          198,
          199,
          200,
          201,
          202,
          203,
          204,
          205,
          206,
          207,
          208,
          209,
          210,
          211,
          212,
          213,
          214,
          215,
          216,
          217,
          218,
          219,
          220,
          221,
          222,
          223,
          224,
          225,
          226,
          227,
          228,
          229,
          230,
          231,
          232,
          233,
          234,
          235,
          236,
          237,
          238,
          239,
          240,
          241,
          242,
          243,
          244,
          245,
          246,
          247,
          248,
          249,
          250,
          251,
          252,
          253,
          254,
          255,
          256,
          257,
          258,
          259,
          260,
          261,
          262,
          263,
          264,
          265,
          266,
          267,
          268,
          269,
          270,
          271,
          272,
          273,
          274,
          275,
          276,
          277,
          278,
          279,
          280,
          281,
          282,
          283,
          284,
          285,
          286,
          287,
          288,
          289,
          290,
          291,
          292,
          293,
          294,
          295,
          296,
          297,
          298,
          299,
          300,
          301,
          302,
          303,
          304,
          305,
          306,
          307,
          308,
          309,
          310,
          311,
          312,
          313,
          314,
          315,
          316,
          317,
          318,
          319,
          320,
          321,
          322,
          323,
          324,
          325,
          326,
          327,
          328,
          329,
          330,
          331,
          332,
          333,
          334,
          335,
          336,
          337,
          338,
          339,
          340,
          341,
          342,
          343,
          344,
          345,
          346,
          347,
          348,
          349,
          350,
          351,
          352,
          353,
          354,
          355,
          356,
          357,
          358,
          359,
          360,
          361,
          362,
          363,
          364,
          365,
          366,
          367,
          368,
          369,
          370,
          371,
          372,
          373,
          374,
          375,
          376,
          377,
          378,
          379,
          380,
          381,
          382,
          383,
          384,
          385,
          386,
          387,
          388,
          389,
          390,
          391,
          392,
          393,
          394,
          395,
          396,
          397,
          398,
          399,
          400,
          401,
          402,
          403,
          404,
          405,
          406,
          407,
          408,
          409,
          410,
          411,
          412,
          413,
          414,
          415,
          416,
          417,
          418,
          419,
          420,
          421,
          422,
          423,
          424,
          425,
          426,
          427,
          428,
          429,
          430,
          431,
          432,
          433,
          434,
          435,
          436,
          437,
          438,
          439,
          440,
          441,
          442,
          443,
          444,
          445,
          446,
          447,
          448,
          449,
          450,
          451,
          452,
          453,
          454,
          455,
          456,
          457,
          458,
          459,
          460,
          461,
          462,
          463,
          464,
          465,
          466,
          467,
          468,
          469,
          470,
          471,
          472,
          473,
          474,
          475,
          476,
          477,
          478,
          479,
          480,
          481,
          482,
          483,
          484,
          485,
          486,
          487,
          488,
          489,
          490,
          491,
          492,
          493,
          494,
          495,
          496,
          497,
          498,
          499
         ],
         "xaxis": "x",
         "y": [
          40.56666667,
          38.4,
          47.15,
          62.83333333,
          80.00833333,
          82.93333333,
          71.83333333,
          85.31666667,
          87.625,
          87.53333333,
          87.88333333,
          84.35833333,
          83.05,
          84.88333333,
          81.89166667,
          76.68333333,
          25.40833333,
          48.54166667,
          65.80833333,
          95.33333333,
          95.175,
          80.99166667,
          89.56666667,
          82.78333333,
          82.95,
          84.43333333,
          86.175,
          87.025,
          75.83333333,
          63.68333333,
          86.275,
          77.36666667,
          77.93333333,
          88.23333333,
          88.84166667,
          87.85,
          82.76666667,
          81.925,
          83.49166667,
          85.76666667,
          83.99166667,
          86.7,
          84.98333333,
          82.875,
          87.90833333,
          84.75,
          80.90833333,
          80.95,
          80.2,
          81.675,
          74.14166667,
          79.19166667,
          82.65,
          80.35,
          84.075,
          83.21666667,
          66.28333333,
          51.475,
          57.81666667,
          72.50833333,
          79.91666667,
          85.225,
          74.4,
          74.33333333,
          77.29166667,
          83.175,
          78.06666667,
          82.7,
          79.74166667,
          79.00833333,
          56.68333333,
          39.725,
          36.125,
          32.41666667,
          26,
          19.46666667,
          12.83333333,
          6.558333332999999,
          6.108333332999999,
          3.666666667,
          3.0333333330000003,
          3.6,
          2.366666667,
          1.408333333,
          0,
          0,
          0,
          0,
          0,
          0.216666667,
          2.65,
          7.916666667,
          13.075,
          10.93333333,
          5.458333333,
          0.358333333,
          0.7,
          0,
          0,
          0,
          0,
          0.5083333329999999,
          1.025,
          4.158333333,
          12.35,
          31.225,
          43.25,
          59.45833333,
          51.06666667,
          54.425,
          33,
          24.69166667,
          20.73333333,
          35.78333333,
          31.94166667,
          23.025,
          12.43333333,
          34.91666667,
          54.75,
          47.71666667,
          35.725,
          40.95833333,
          60.625,
          79.35,
          84.75,
          78.36666667,
          65.00833333,
          40.76666667,
          39.3,
          7.816666667000001,
          13.85833333,
          22.6,
          0.091666667,
          24.26666667,
          17.63333333,
          39.7,
          50.875,
          58.04166667,
          39.29166667,
          8.125,
          4.825,
          12.25833333,
          28.33333333,
          55.375,
          68.80833333,
          69.24166667,
          90.80833333,
          91.09166667,
          92.54166667,
          91.5,
          85.99166667,
          62.375,
          19.24166667,
          5.05,
          0,
          0,
          0,
          0,
          0,
          2.141666667,
          14.65,
          21.225,
          29.78333333,
          46.95,
          48.45833333,
          21.16666667,
          11.725,
          9.95,
          6.166666667,
          23.18333333,
          69.50833333,
          84.925,
          99.00833333,
          90.75,
          91.31666667,
          87.26666667,
          86.44166667,
          81.26666667,
          80.71666667,
          85.46666667,
          89.40833333,
          85.64166667,
          86.875,
          86.66666667,
          85.75833333,
          85.56666667,
          99.71666667,
          99.79166667,
          92.65833333,
          76.5,
          44.74166667,
          26.95,
          20.94166667,
          17.78333333,
          15.53333333,
          20.70833333,
          36.525,
          42.41666667,
          39.625,
          32.61666667,
          28.9,
          15.73333333,
          17.00833333,
          22.39166667,
          36.73333333,
          57.4,
          55.26666667,
          53.3,
          71.425,
          72.29166667,
          70.59166667,
          78.79166667,
          82.35,
          86.08333333,
          82.73333333,
          79.11666667,
          86.5,
          89.51666667,
          90.75,
          91.13333333,
          93.10833333,
          99.06666667,
          96.20833333,
          84.03333333,
          61.85,
          60.60833333,
          56.94166667,
          47.68333333,
          41.89166667,
          44.66666667,
          48.29166667,
          64.13333333,
          69.55833333,
          65.45,
          54.31666667,
          48.325,
          54.18333333,
          41.60833333,
          22.71666667,
          14.86666667,
          7.508333332999999,
          9.166666667,
          8.808333333,
          4.591666667,
          6.575,
          9.8,
          10.80833333,
          7.133333333,
          13.96666667,
          18.58333333,
          10.925,
          2.55,
          0,
          0,
          0,
          1.2,
          2.833333333,
          5.6,
          9.183333333,
          17.275,
          14.01666667,
          10.69166667,
          6.3,
          5.95,
          36.075,
          76.64166667,
          98.14166667,
          99.80833333,
          98.64166667,
          85.85,
          86.33333333,
          87.13333333,
          82.46666667,
          82.95833333,
          85.4,
          79.50833333,
          72.19166667,
          75.80833333,
          77.86666667,
          78.13333333,
          82.36666667,
          79.60833333,
          78.75833333,
          83.14166667,
          87.2,
          85.625,
          85.725,
          80.075,
          88.8,
          81.65,
          78.94166667,
          72.7,
          58.225,
          15.41666667,
          16.69166667,
          31.925,
          42.95833333,
          42.63333333,
          39.43333333,
          44.175,
          65.05833333,
          43.36666667,
          66.28333333,
          88,
          87.16666667,
          88.825,
          85.93333333,
          92.38333333,
          84.625,
          71.775,
          80.575,
          77.39166667,
          73.88333333,
          50.58333333,
          57.69166667,
          77.83333333,
          86.50833333,
          84.825,
          83.525,
          79.3,
          78.84166667,
          81.825,
          81.09166667,
          79.725,
          78.59166667,
          72.38333333,
          71.83333333,
          73.53333333,
          81.61666667,
          87.11666667,
          84.375,
          83.95833333,
          75.99166667,
          80.39166667,
          86.225,
          86.48333333,
          88.175,
          81.24166667,
          78.325,
          78.04166667,
          78.55,
          81.60833333,
          80.68333333,
          83.96666667,
          81.61666667,
          86.825,
          80.36666667,
          82.70833333,
          80.05833333,
          77.44166667,
          75.1,
          73.20833333,
          78.3,
          78.85833333,
          79.25833333,
          84.71666667,
          85.06666667,
          88.475,
          92.775,
          95.50833333,
          98.96666667,
          92.675,
          96.11666667,
          90.125,
          87.59166667,
          85.35,
          88.44166667,
          91.08333333,
          87.51666667,
          86.66666667,
          85.00833333,
          87.05,
          78.95,
          74.99166667,
          85.25833333,
          74.275,
          93.55833333,
          99.5,
          99.84166667,
          97.8,
          98.11666667,
          83.99166667,
          92.05,
          73.825,
          79.28333333,
          94.81666667,
          90.38333333,
          95.10833333,
          91.5,
          76.25,
          76.91666667,
          68.10833333,
          67.575,
          54.86666667,
          44.18333333,
          36.53333333,
          40.98333333,
          29.66666667,
          30.725,
          31.73333333,
          40.14166667,
          61.075,
          73.91666667,
          86.89166667,
          97.35833333,
          92.01666667,
          79.425,
          69.625,
          74.10833333,
          84.35833333,
          91.46666667,
          85.00833333,
          90.14166667,
          87.50833333,
          89.50833333,
          85.55,
          82.19166667,
          85.35,
          84.14166667,
          83.55,
          78.48333333,
          71.35833333,
          70.025,
          69.78333333,
          59.96666667,
          58.15,
          72.74166667,
          61.725,
          47.65,
          16.275,
          9.95,
          8.025,
          4.291666667,
          0.308333333,
          0,
          0,
          0.5166666670000001,
          0.8583333329999999,
          4.508333333,
          10.54166667,
          14.08333333,
          19.49166667,
          26.61666667,
          31.125,
          30.19166667,
          46.625,
          48,
          60.15833333,
          64.65,
          73.36666667,
          89.275,
          87.475,
          89.8,
          80.38333333,
          79.05833333,
          76.35,
          78.64166667,
          77.14166667,
          81.875,
          84.05,
          82.84166667,
          87.475,
          87.49166667,
          86.18333333,
          84.10833333,
          80.475,
          85.45,
          90.74166667,
          87.175,
          90.50833333,
          99.775,
          99.81666667,
          99.14166667,
          99.79166667,
          99.74166667,
          99.70833333,
          98.24166667,
          96.61666667,
          85.20833333,
          83.55,
          75.01666667,
          87.675,
          85.575,
          84.475,
          52.60833333,
          48.91666667,
          47.24166667,
          48.48333333,
          55.08333333,
          54.80833333,
          74.96666667,
          73.3,
          69.19166667,
          83.98333333,
          77.15833333,
          84.04166667,
          80.55833333,
          81.68333333,
          94.975,
          80.93333333
         ],
         "yaxis": "y"
        },
        {
         "hovertemplate": "variable=y_preds<br>index=%{x}<br>value=%{y}<extra></extra>",
         "legendgroup": "y_preds",
         "line": {
          "color": "#EF553B",
          "dash": "solid"
         },
         "marker": {
          "symbol": "circle"
         },
         "mode": "lines",
         "name": "y_preds",
         "orientation": "v",
         "showlegend": true,
         "type": "scatter",
         "x": [
          0,
          1,
          2,
          3,
          4,
          5,
          6,
          7,
          8,
          9,
          10,
          11,
          12,
          13,
          14,
          15,
          16,
          17,
          18,
          19,
          20,
          21,
          22,
          23,
          24,
          25,
          26,
          27,
          28,
          29,
          30,
          31,
          32,
          33,
          34,
          35,
          36,
          37,
          38,
          39,
          40,
          41,
          42,
          43,
          44,
          45,
          46,
          47,
          48,
          49,
          50,
          51,
          52,
          53,
          54,
          55,
          56,
          57,
          58,
          59,
          60,
          61,
          62,
          63,
          64,
          65,
          66,
          67,
          68,
          69,
          70,
          71,
          72,
          73,
          74,
          75,
          76,
          77,
          78,
          79,
          80,
          81,
          82,
          83,
          84,
          85,
          86,
          87,
          88,
          89,
          90,
          91,
          92,
          93,
          94,
          95,
          96,
          97,
          98,
          99,
          100,
          101,
          102,
          103,
          104,
          105,
          106,
          107,
          108,
          109,
          110,
          111,
          112,
          113,
          114,
          115,
          116,
          117,
          118,
          119,
          120,
          121,
          122,
          123,
          124,
          125,
          126,
          127,
          128,
          129,
          130,
          131,
          132,
          133,
          134,
          135,
          136,
          137,
          138,
          139,
          140,
          141,
          142,
          143,
          144,
          145,
          146,
          147,
          148,
          149,
          150,
          151,
          152,
          153,
          154,
          155,
          156,
          157,
          158,
          159,
          160,
          161,
          162,
          163,
          164,
          165,
          166,
          167,
          168,
          169,
          170,
          171,
          172,
          173,
          174,
          175,
          176,
          177,
          178,
          179,
          180,
          181,
          182,
          183,
          184,
          185,
          186,
          187,
          188,
          189,
          190,
          191,
          192,
          193,
          194,
          195,
          196,
          197,
          198,
          199,
          200,
          201,
          202,
          203,
          204,
          205,
          206,
          207,
          208,
          209,
          210,
          211,
          212,
          213,
          214,
          215,
          216,
          217,
          218,
          219,
          220,
          221,
          222,
          223,
          224,
          225,
          226,
          227,
          228,
          229,
          230,
          231,
          232,
          233,
          234,
          235,
          236,
          237,
          238,
          239,
          240,
          241,
          242,
          243,
          244,
          245,
          246,
          247,
          248,
          249,
          250,
          251,
          252,
          253,
          254,
          255,
          256,
          257,
          258,
          259,
          260,
          261,
          262,
          263,
          264,
          265,
          266,
          267,
          268,
          269,
          270,
          271,
          272,
          273,
          274,
          275,
          276,
          277,
          278,
          279,
          280,
          281,
          282,
          283,
          284,
          285,
          286,
          287,
          288,
          289,
          290,
          291,
          292,
          293,
          294,
          295,
          296,
          297,
          298,
          299,
          300,
          301,
          302,
          303,
          304,
          305,
          306,
          307,
          308,
          309,
          310,
          311,
          312,
          313,
          314,
          315,
          316,
          317,
          318,
          319,
          320,
          321,
          322,
          323,
          324,
          325,
          326,
          327,
          328,
          329,
          330,
          331,
          332,
          333,
          334,
          335,
          336,
          337,
          338,
          339,
          340,
          341,
          342,
          343,
          344,
          345,
          346,
          347,
          348,
          349,
          350,
          351,
          352,
          353,
          354,
          355,
          356,
          357,
          358,
          359,
          360,
          361,
          362,
          363,
          364,
          365,
          366,
          367,
          368,
          369,
          370,
          371,
          372,
          373,
          374,
          375,
          376,
          377,
          378,
          379,
          380,
          381,
          382,
          383,
          384,
          385,
          386,
          387,
          388,
          389,
          390,
          391,
          392,
          393,
          394,
          395,
          396,
          397,
          398,
          399,
          400,
          401,
          402,
          403,
          404,
          405,
          406,
          407,
          408,
          409,
          410,
          411,
          412,
          413,
          414,
          415,
          416,
          417,
          418,
          419,
          420,
          421,
          422,
          423,
          424,
          425,
          426,
          427,
          428,
          429,
          430,
          431,
          432,
          433,
          434,
          435,
          436,
          437,
          438,
          439,
          440,
          441,
          442,
          443,
          444,
          445,
          446,
          447,
          448,
          449,
          450,
          451,
          452,
          453,
          454,
          455,
          456,
          457,
          458,
          459,
          460,
          461,
          462,
          463,
          464,
          465,
          466,
          467,
          468,
          469,
          470,
          471,
          472,
          473,
          474,
          475,
          476,
          477,
          478,
          479,
          480,
          481,
          482,
          483,
          484,
          485,
          486,
          487,
          488,
          489,
          490,
          491,
          492,
          493,
          494,
          495,
          496,
          497,
          498,
          499
         ],
         "xaxis": "x",
         "y": [
          20.822449896908445,
          21.95745964442181,
          37.849914697214246,
          46.24551539779244,
          47.13099536758405,
          48.835568106855746,
          50.55656980200526,
          45.64683904418875,
          47.13099536758405,
          48.02329125371432,
          60.250999212563485,
          58.39905528455992,
          58.39905528455992,
          58.851411435308435,
          60.87464266143516,
          65.53060742381476,
          66.69846190521312,
          68.94901847773858,
          70.36550653065308,
          70.36550653065308,
          68.94901847773858,
          70.36550653065308,
          72.0140157097627,
          71.48433970696652,
          71.91079530857974,
          71.91079530857974,
          76.57993890058103,
          78.57664644087778,
          71.91079530857974,
          71.91079530857974,
          74.10612865578959,
          72.05602787311766,
          76.57993890058103,
          78.57664644087778,
          80.66723611323103,
          80.66723611323103,
          80.66723611323103,
          72.66602915211033,
          72.5030822645417,
          72.66602915211033,
          71.44232754361155,
          70.26228612947011,
          67.03077939714018,
          70.51583989927322,
          62.32127311379523,
          66.7149781547574,
          72.98523759674433,
          71.32359814834507,
          72.0140157097627,
          64.4746834563106,
          73.09134438768521,
          73.03956429127297,
          72.13965240713094,
          71.7943425228181,
          69.83673363610569,
          70.65760413944507,
          59.03571261293767,
          63.96660286598723,
          56.03830525058339,
          63.96660286598723,
          63.96660286598723,
          70.65760413944507,
          64.4691690563239,
          62.24879868632391,
          65.55980430062773,
          68.21527777717668,
          69.14589710813507,
          69.55971228523265,
          69.55971228523265,
          69.55971228523265,
          67.02384259112404,
          67.02384259112404,
          54.21377550859184,
          35.93587234940272,
          26.215702728866688,
          20.19132183478012,
          11.861559071743471,
          5.972884746169603,
          3.7606079842622226,
          7.14969570574435,
          10.392894145758266,
          4.032132976725394,
          11.425639255728246,
          11.60036497113575,
          11.563625548599507,
          11.37942412204285,
          11.038432464794795,
          15.118050862210767,
          21.838801311370585,
          25.450659738906985,
          31.30789749825207,
          37.667193455369215,
          44.33181512371219,
          26.497776543531508,
          20.848746504510224,
          7.550213214548597,
          5.734436008668173,
          4.009897789299246,
          3.1544332507956256,
          4.954090406634837,
          3.56778326000318,
          8.328152798054631,
          8.464384701481706,
          10.92667521798834,
          15.1575616355397,
          17.524137799583734,
          20.919220690570874,
          21.264946966439766,
          29.478914225695146,
          41.97877963804131,
          41.97877963804131,
          43.057286725340575,
          41.59427462058062,
          23.51289764447013,
          23.553737053213275,
          26.04436373681378,
          27.412484676438346,
          44.97349646693408,
          45.2127474399974,
          41.93306328448408,
          50.775057425324825,
          52.56326417724474,
          52.56326417724474,
          56.35436662312513,
          57.9421121957802,
          57.52908883972765,
          55.364657158939046,
          50.12316704797067,
          45.33551442243217,
          41.25623645576463,
          25.13467234814736,
          24.599366061284023,
          24.599366061284023,
          22.59045801572507,
          26.178122378690922,
          37.984511004688244,
          40.012504668318826,
          40.012504668318826,
          34.733499373368815,
          39.39219652188753,
          49.10754980788598,
          43.268814072190125,
          47.63036202047297,
          32.54818265475342,
          29.60087773551725,
          46.56366885071196,
          55.69360926985323,
          61.11972073396434,
          61.49522026518228,
          39.736555884589976,
          60.07855980080264,
          45.2642307097326,
          30.15495166490805,
          21.639170965735662,
          8.631787032562812,
          21.65822550429823,
          21.22594002008241,
          21.737094867716305,
          11.20179618964624,
          7.804903993728802,
          32.6854300964461,
          25.7037596616548,
          33.28063576726675,
          60.76539918601536,
          39.41825724925353,
          48.959531504458425,
          43.23284033917553,
          57.693932241253265,
          47.67921583680973,
          53.04576827338063,
          51.27518390800759,
          61.93154634954203,
          57.55428722538932,
          61.95651034975078,
          61.95651034975078,
          65.94161366979716,
          64.22596826935893,
          65.94161366979716,
          65.94161366979716,
          66.50877444016886,
          66.50877444016886,
          64.0127203990414,
          64.0127203990414,
          64.0127203990414,
          61.71680532906311,
          60.76539918601536,
          60.32731908235126,
          60.32731908235126,
          63.93933262360363,
          60.76539918601536,
          56.254565462751835,
          58.58594629863907,
          37.03180969378376,
          27.30444416478563,
          21.551522624497704,
          14.885287509544444,
          15.88138327143669,
          15.495254584306604,
          15.495254584306604,
          19.707402311984378,
          28.044658022576677,
          28.66552651006741,
          27.290494253492824,
          27.923539620907007,
          30.558651498371358,
          40.50756033104827,
          51.55370742597744,
          51.55370742597744,
          54.98228801016515,
          75.5586497815656,
          75.52917381546312,
          74.01978782830633,
          75.5586497815656,
          74.84265047050035,
          75.34604662910942,
          75.34604662910942,
          75.34604662910942,
          76.78940209074668,
          75.34604662910942,
          76.32312805440671,
          78.61363600400531,
          77.03912736547196,
          78.2977621333132,
          67.47731278420727,
          65.49139497543905,
          66.81154340207424,
          56.45077276537804,
          59.38194083618946,
          51.75097424715095,
          54.29280981287758,
          56.35648498287768,
          45.2060248811446,
          57.3361410239761,
          66.04177208649288,
          66.04177208649288,
          56.19963356876432,
          62.85059516997355,
          45.060842592155566,
          41.976198256836,
          25.04061011807141,
          23.145788021258387,
          21.657457096387432,
          25.915025504409087,
          29.676322828279787,
          28.473143178645476,
          25.915025504409087,
          28.888871554766858,
          28.864482145189704,
          14.302993745341828,
          6.015592120887671,
          8.118123279614297,
          6.9288794308726915,
          4.899848403879149,
          4.269709843971031,
          6.973754268167298,
          9.1193087300014,
          8.74608444985268,
          22.212668192515906,
          22.384023671465755,
          23.25447869823585,
          23.94377365409496,
          25.028754639274155,
          23.94377365409496,
          25.938213522876143,
          26.2182015639944,
          42.71671484328813,
          54.27646818283493,
          64.4071503386609,
          72.63308048196272,
          78.78573049753719,
          79.2926559972804,
          79.2926559972804,
          79.2926559972804,
          79.2926559972804,
          80.12518273126524,
          79.2926559972804,
          79.2926559972804,
          79.2926559972804,
          80.89632513022357,
          81.19100698562414,
          81.19100698562414,
          81.58264351312147,
          80.89632513022357,
          80.89632513022357,
          80.89632513022357,
          80.89632513022357,
          80.89632513022357,
          79.19873217562704,
          79.63716434399002,
          76.05245357109531,
          76.00033643992236,
          72.92381699810528,
          72.16815916503245,
          60.39454107775353,
          57.99514573941251,
          59.69522995454126,
          60.39454107775353,
          53.6405710974482,
          50.378972303189116,
          55.25767348607836,
          49.2052875731474,
          44.778692004002565,
          40.29375992860381,
          40.42642674365382,
          44.778692004002565,
          73.92195856864059,
          77.56068420249306,
          76.51071154012041,
          74.92842421193933,
          76.96353417105539,
          77.01936715670197,
          71.51498432170578,
          71.51498432170578,
          69.83025809017462,
          64.58577734783863,
          61.70151409988174,
          70.25449719503776,
          58.56122637635164,
          58.56122637635164,
          60.28361005839487,
          63.47858082168193,
          78.06180863048652,
          76.52076723247545,
          73.25455727465786,
          75.46521811774619,
          74.87373149764196,
          79.8703732007419,
          82.04861322385648,
          77.477101725306,
          76.44180038529504,
          77.54930886221499,
          78.4882660727827,
          79.43461995732514,
          79.43461995732514,
          78.4882660727827,
          80.80609471147062,
          80.80609471147062,
          79.43461995732514,
          80.72518799482131,
          80.56088471155564,
          80.56088471155564,
          80.56088471155564,
          80.76866042600852,
          80.76866042600852,
          80.76866042600852,
          80.76866042600852,
          80.56088471155564,
          80.56088471155564,
          80.56088471155564,
          80.56088471155564,
          79.21143042755767,
          77.64596252391132,
          78.8339518904227,
          81.00482858652487,
          78.89667656145795,
          79.88514828313204,
          80.7475154325926,
          79.88514828313204,
          80.25485382271438,
          79.50728600549148,
          78.85629415865873,
          78.38322854178668,
          74.47281907790446,
          72.79769612651192,
          71.52877080788893,
          71.52877080788893,
          71.52877080788893,
          70.4205674078513,
          72.79769612651192,
          74.09315859355192,
          74.09315859355192,
          74.09315859355192,
          74.09315859355192,
          78.30173993355045,
          78.38322854178668,
          78.80808560332184,
          81.96830150514756,
          79.07180207320201,
          80.09773707236351,
          80.09773707236351,
          79.50728600549148,
          78.65819427209604,
          78.56556052830325,
          70.32957254970341,
          62.34251534845828,
          64.18532051272308,
          64.15362277774817,
          61.09552867384301,
          53.97773881856475,
          61.09552867384301,
          53.97773881856475,
          53.333068354432186,
          53.97773881856475,
          56.131301967493854,
          56.131301967493854,
          58.83874239965504,
          56.131301967493854,
          60.7044123496222,
          58.83874239965504,
          56.131301967493854,
          53.60489905861085,
          65.73770536409882,
          69.24431477410877,
          74.7714518930364,
          69.84575641002566,
          71.48236987519391,
          72.28194522968515,
          72.5533575554737,
          72.67635102247648,
          78.37264298897615,
          71.48236987519391,
          71.48236987519391,
          75.40230340358269,
          72.67635102247648,
          73.37881740860374,
          73.37881740860374,
          72.67635102247648,
          73.37881740860374,
          72.24092355498713,
          68.94507042750091,
          65.32805909173804,
          55.88861571609957,
          54.66172586497268,
          56.88852530156247,
          51.414152822790086,
          56.71840439017252,
          64.35265112029943,
          50.54403812206414,
          51.33487101362602,
          48.79911124945656,
          40.34307260706852,
          17.69386819727647,
          8.893972256345927,
          7.178615774844765,
          8.542331590011303,
          11.251591299229906,
          11.251591299229906,
          11.251591299229906,
          14.066483834654083,
          18.45282425718741,
          51.508113601562286,
          59.719548433483176,
          64.70669871528972,
          69.38483927448908,
          71.80233968656084,
          81.8359182962071,
          71.80233968656084,
          59.19322777745492,
          65.31211111144637,
          71.02318126200169,
          65.01365111048773,
          65.01365111048773,
          65.01365111048773,
          65.01365111048773,
          68.60005984014937,
          68.60005984014937,
          68.86654898338088,
          68.86654898338088,
          72.07598783285069,
          77.36863204983894,
          78.4480104167625,
          76.29144022560592,
          77.36863204983894,
          77.36863204983894,
          77.36863204983894,
          77.36863204983894,
          77.36863204983894,
          77.36863204983894,
          77.36863204983894,
          77.36863204983894,
          78.5034341566171,
          78.5034341566171,
          78.5034341566171,
          79.74056365669585,
          79.74056365669585,
          78.5034341566171,
          79.74056365669585,
          75.36073858394386,
          81.6274872071853,
          78.2990773019926,
          71.38333333294767,
          73.95369375719264,
          58.743517779399525,
          62.195482032832786,
          56.746649147014864,
          56.746649147014864,
          54.27850744797071,
          55.4476602412325,
          55.789449138630545,
          67.51978807290027,
          73.33946886430167,
          71.8029766389356,
          72.5367207134766,
          73.95814688347356,
          79.0061857529863,
          81.538000548318,
          83.09241421626604,
          83.09241421626604,
          85.60679757679591,
          85.60679757679591
         ],
         "yaxis": "y"
        }
       ],
       "layout": {
        "legend": {
         "title": {
          "text": "variable"
         },
         "tracegroupgap": 0
        },
        "margin": {
         "t": 60
        },
        "template": {
         "data": {
          "bar": [
           {
            "error_x": {
             "color": "#2a3f5f"
            },
            "error_y": {
             "color": "#2a3f5f"
            },
            "marker": {
             "line": {
              "color": "#E5ECF6",
              "width": 0.5
             },
             "pattern": {
              "fillmode": "overlay",
              "size": 10,
              "solidity": 0.2
             }
            },
            "type": "bar"
           }
          ],
          "barpolar": [
           {
            "marker": {
             "line": {
              "color": "#E5ECF6",
              "width": 0.5
             },
             "pattern": {
              "fillmode": "overlay",
              "size": 10,
              "solidity": 0.2
             }
            },
            "type": "barpolar"
           }
          ],
          "carpet": [
           {
            "aaxis": {
             "endlinecolor": "#2a3f5f",
             "gridcolor": "white",
             "linecolor": "white",
             "minorgridcolor": "white",
             "startlinecolor": "#2a3f5f"
            },
            "baxis": {
             "endlinecolor": "#2a3f5f",
             "gridcolor": "white",
             "linecolor": "white",
             "minorgridcolor": "white",
             "startlinecolor": "#2a3f5f"
            },
            "type": "carpet"
           }
          ],
          "choropleth": [
           {
            "colorbar": {
             "outlinewidth": 0,
             "ticks": ""
            },
            "type": "choropleth"
           }
          ],
          "contour": [
           {
            "colorbar": {
             "outlinewidth": 0,
             "ticks": ""
            },
            "colorscale": [
             [
              0,
              "#0d0887"
             ],
             [
              0.1111111111111111,
              "#46039f"
             ],
             [
              0.2222222222222222,
              "#7201a8"
             ],
             [
              0.3333333333333333,
              "#9c179e"
             ],
             [
              0.4444444444444444,
              "#bd3786"
             ],
             [
              0.5555555555555556,
              "#d8576b"
             ],
             [
              0.6666666666666666,
              "#ed7953"
             ],
             [
              0.7777777777777778,
              "#fb9f3a"
             ],
             [
              0.8888888888888888,
              "#fdca26"
             ],
             [
              1,
              "#f0f921"
             ]
            ],
            "type": "contour"
           }
          ],
          "contourcarpet": [
           {
            "colorbar": {
             "outlinewidth": 0,
             "ticks": ""
            },
            "type": "contourcarpet"
           }
          ],
          "heatmap": [
           {
            "colorbar": {
             "outlinewidth": 0,
             "ticks": ""
            },
            "colorscale": [
             [
              0,
              "#0d0887"
             ],
             [
              0.1111111111111111,
              "#46039f"
             ],
             [
              0.2222222222222222,
              "#7201a8"
             ],
             [
              0.3333333333333333,
              "#9c179e"
             ],
             [
              0.4444444444444444,
              "#bd3786"
             ],
             [
              0.5555555555555556,
              "#d8576b"
             ],
             [
              0.6666666666666666,
              "#ed7953"
             ],
             [
              0.7777777777777778,
              "#fb9f3a"
             ],
             [
              0.8888888888888888,
              "#fdca26"
             ],
             [
              1,
              "#f0f921"
             ]
            ],
            "type": "heatmap"
           }
          ],
          "heatmapgl": [
           {
            "colorbar": {
             "outlinewidth": 0,
             "ticks": ""
            },
            "colorscale": [
             [
              0,
              "#0d0887"
             ],
             [
              0.1111111111111111,
              "#46039f"
             ],
             [
              0.2222222222222222,
              "#7201a8"
             ],
             [
              0.3333333333333333,
              "#9c179e"
             ],
             [
              0.4444444444444444,
              "#bd3786"
             ],
             [
              0.5555555555555556,
              "#d8576b"
             ],
             [
              0.6666666666666666,
              "#ed7953"
             ],
             [
              0.7777777777777778,
              "#fb9f3a"
             ],
             [
              0.8888888888888888,
              "#fdca26"
             ],
             [
              1,
              "#f0f921"
             ]
            ],
            "type": "heatmapgl"
           }
          ],
          "histogram": [
           {
            "marker": {
             "pattern": {
              "fillmode": "overlay",
              "size": 10,
              "solidity": 0.2
             }
            },
            "type": "histogram"
           }
          ],
          "histogram2d": [
           {
            "colorbar": {
             "outlinewidth": 0,
             "ticks": ""
            },
            "colorscale": [
             [
              0,
              "#0d0887"
             ],
             [
              0.1111111111111111,
              "#46039f"
             ],
             [
              0.2222222222222222,
              "#7201a8"
             ],
             [
              0.3333333333333333,
              "#9c179e"
             ],
             [
              0.4444444444444444,
              "#bd3786"
             ],
             [
              0.5555555555555556,
              "#d8576b"
             ],
             [
              0.6666666666666666,
              "#ed7953"
             ],
             [
              0.7777777777777778,
              "#fb9f3a"
             ],
             [
              0.8888888888888888,
              "#fdca26"
             ],
             [
              1,
              "#f0f921"
             ]
            ],
            "type": "histogram2d"
           }
          ],
          "histogram2dcontour": [
           {
            "colorbar": {
             "outlinewidth": 0,
             "ticks": ""
            },
            "colorscale": [
             [
              0,
              "#0d0887"
             ],
             [
              0.1111111111111111,
              "#46039f"
             ],
             [
              0.2222222222222222,
              "#7201a8"
             ],
             [
              0.3333333333333333,
              "#9c179e"
             ],
             [
              0.4444444444444444,
              "#bd3786"
             ],
             [
              0.5555555555555556,
              "#d8576b"
             ],
             [
              0.6666666666666666,
              "#ed7953"
             ],
             [
              0.7777777777777778,
              "#fb9f3a"
             ],
             [
              0.8888888888888888,
              "#fdca26"
             ],
             [
              1,
              "#f0f921"
             ]
            ],
            "type": "histogram2dcontour"
           }
          ],
          "mesh3d": [
           {
            "colorbar": {
             "outlinewidth": 0,
             "ticks": ""
            },
            "type": "mesh3d"
           }
          ],
          "parcoords": [
           {
            "line": {
             "colorbar": {
              "outlinewidth": 0,
              "ticks": ""
             }
            },
            "type": "parcoords"
           }
          ],
          "pie": [
           {
            "automargin": true,
            "type": "pie"
           }
          ],
          "scatter": [
           {
            "fillpattern": {
             "fillmode": "overlay",
             "size": 10,
             "solidity": 0.2
            },
            "type": "scatter"
           }
          ],
          "scatter3d": [
           {
            "line": {
             "colorbar": {
              "outlinewidth": 0,
              "ticks": ""
             }
            },
            "marker": {
             "colorbar": {
              "outlinewidth": 0,
              "ticks": ""
             }
            },
            "type": "scatter3d"
           }
          ],
          "scattercarpet": [
           {
            "marker": {
             "colorbar": {
              "outlinewidth": 0,
              "ticks": ""
             }
            },
            "type": "scattercarpet"
           }
          ],
          "scattergeo": [
           {
            "marker": {
             "colorbar": {
              "outlinewidth": 0,
              "ticks": ""
             }
            },
            "type": "scattergeo"
           }
          ],
          "scattergl": [
           {
            "marker": {
             "colorbar": {
              "outlinewidth": 0,
              "ticks": ""
             }
            },
            "type": "scattergl"
           }
          ],
          "scattermapbox": [
           {
            "marker": {
             "colorbar": {
              "outlinewidth": 0,
              "ticks": ""
             }
            },
            "type": "scattermapbox"
           }
          ],
          "scatterpolar": [
           {
            "marker": {
             "colorbar": {
              "outlinewidth": 0,
              "ticks": ""
             }
            },
            "type": "scatterpolar"
           }
          ],
          "scatterpolargl": [
           {
            "marker": {
             "colorbar": {
              "outlinewidth": 0,
              "ticks": ""
             }
            },
            "type": "scatterpolargl"
           }
          ],
          "scatterternary": [
           {
            "marker": {
             "colorbar": {
              "outlinewidth": 0,
              "ticks": ""
             }
            },
            "type": "scatterternary"
           }
          ],
          "surface": [
           {
            "colorbar": {
             "outlinewidth": 0,
             "ticks": ""
            },
            "colorscale": [
             [
              0,
              "#0d0887"
             ],
             [
              0.1111111111111111,
              "#46039f"
             ],
             [
              0.2222222222222222,
              "#7201a8"
             ],
             [
              0.3333333333333333,
              "#9c179e"
             ],
             [
              0.4444444444444444,
              "#bd3786"
             ],
             [
              0.5555555555555556,
              "#d8576b"
             ],
             [
              0.6666666666666666,
              "#ed7953"
             ],
             [
              0.7777777777777778,
              "#fb9f3a"
             ],
             [
              0.8888888888888888,
              "#fdca26"
             ],
             [
              1,
              "#f0f921"
             ]
            ],
            "type": "surface"
           }
          ],
          "table": [
           {
            "cells": {
             "fill": {
              "color": "#EBF0F8"
             },
             "line": {
              "color": "white"
             }
            },
            "header": {
             "fill": {
              "color": "#C8D4E3"
             },
             "line": {
              "color": "white"
             }
            },
            "type": "table"
           }
          ]
         },
         "layout": {
          "annotationdefaults": {
           "arrowcolor": "#2a3f5f",
           "arrowhead": 0,
           "arrowwidth": 1
          },
          "autotypenumbers": "strict",
          "coloraxis": {
           "colorbar": {
            "outlinewidth": 0,
            "ticks": ""
           }
          },
          "colorscale": {
           "diverging": [
            [
             0,
             "#8e0152"
            ],
            [
             0.1,
             "#c51b7d"
            ],
            [
             0.2,
             "#de77ae"
            ],
            [
             0.3,
             "#f1b6da"
            ],
            [
             0.4,
             "#fde0ef"
            ],
            [
             0.5,
             "#f7f7f7"
            ],
            [
             0.6,
             "#e6f5d0"
            ],
            [
             0.7,
             "#b8e186"
            ],
            [
             0.8,
             "#7fbc41"
            ],
            [
             0.9,
             "#4d9221"
            ],
            [
             1,
             "#276419"
            ]
           ],
           "sequential": [
            [
             0,
             "#0d0887"
            ],
            [
             0.1111111111111111,
             "#46039f"
            ],
            [
             0.2222222222222222,
             "#7201a8"
            ],
            [
             0.3333333333333333,
             "#9c179e"
            ],
            [
             0.4444444444444444,
             "#bd3786"
            ],
            [
             0.5555555555555556,
             "#d8576b"
            ],
            [
             0.6666666666666666,
             "#ed7953"
            ],
            [
             0.7777777777777778,
             "#fb9f3a"
            ],
            [
             0.8888888888888888,
             "#fdca26"
            ],
            [
             1,
             "#f0f921"
            ]
           ],
           "sequentialminus": [
            [
             0,
             "#0d0887"
            ],
            [
             0.1111111111111111,
             "#46039f"
            ],
            [
             0.2222222222222222,
             "#7201a8"
            ],
            [
             0.3333333333333333,
             "#9c179e"
            ],
            [
             0.4444444444444444,
             "#bd3786"
            ],
            [
             0.5555555555555556,
             "#d8576b"
            ],
            [
             0.6666666666666666,
             "#ed7953"
            ],
            [
             0.7777777777777778,
             "#fb9f3a"
            ],
            [
             0.8888888888888888,
             "#fdca26"
            ],
            [
             1,
             "#f0f921"
            ]
           ]
          },
          "colorway": [
           "#636efa",
           "#EF553B",
           "#00cc96",
           "#ab63fa",
           "#FFA15A",
           "#19d3f3",
           "#FF6692",
           "#B6E880",
           "#FF97FF",
           "#FECB52"
          ],
          "font": {
           "color": "#2a3f5f"
          },
          "geo": {
           "bgcolor": "white",
           "lakecolor": "white",
           "landcolor": "#E5ECF6",
           "showlakes": true,
           "showland": true,
           "subunitcolor": "white"
          },
          "hoverlabel": {
           "align": "left"
          },
          "hovermode": "closest",
          "mapbox": {
           "style": "light"
          },
          "paper_bgcolor": "white",
          "plot_bgcolor": "#E5ECF6",
          "polar": {
           "angularaxis": {
            "gridcolor": "white",
            "linecolor": "white",
            "ticks": ""
           },
           "bgcolor": "#E5ECF6",
           "radialaxis": {
            "gridcolor": "white",
            "linecolor": "white",
            "ticks": ""
           }
          },
          "scene": {
           "xaxis": {
            "backgroundcolor": "#E5ECF6",
            "gridcolor": "white",
            "gridwidth": 2,
            "linecolor": "white",
            "showbackground": true,
            "ticks": "",
            "zerolinecolor": "white"
           },
           "yaxis": {
            "backgroundcolor": "#E5ECF6",
            "gridcolor": "white",
            "gridwidth": 2,
            "linecolor": "white",
            "showbackground": true,
            "ticks": "",
            "zerolinecolor": "white"
           },
           "zaxis": {
            "backgroundcolor": "#E5ECF6",
            "gridcolor": "white",
            "gridwidth": 2,
            "linecolor": "white",
            "showbackground": true,
            "ticks": "",
            "zerolinecolor": "white"
           }
          },
          "shapedefaults": {
           "line": {
            "color": "#2a3f5f"
           }
          },
          "ternary": {
           "aaxis": {
            "gridcolor": "white",
            "linecolor": "white",
            "ticks": ""
           },
           "baxis": {
            "gridcolor": "white",
            "linecolor": "white",
            "ticks": ""
           },
           "bgcolor": "#E5ECF6",
           "caxis": {
            "gridcolor": "white",
            "linecolor": "white",
            "ticks": ""
           }
          },
          "title": {
           "x": 0.05
          },
          "xaxis": {
           "automargin": true,
           "gridcolor": "white",
           "linecolor": "white",
           "ticks": "",
           "title": {
            "standoff": 15
           },
           "zerolinecolor": "white",
           "zerolinewidth": 2
          },
          "yaxis": {
           "automargin": true,
           "gridcolor": "white",
           "linecolor": "white",
           "ticks": "",
           "title": {
            "standoff": 15
           },
           "zerolinecolor": "white",
           "zerolinewidth": 2
          }
         }
        },
        "xaxis": {
         "anchor": "y",
         "domain": [
          0,
          1
         ],
         "title": {
          "text": "index"
         }
        },
        "yaxis": {
         "anchor": "x",
         "domain": [
          0,
          1
         ],
         "title": {
          "text": "value"
         }
        }
       }
      }
     },
     "metadata": {},
     "output_type": "display_data"
    }
   ],
   "source": [
    "import plotly.express as px\n",
    "\n",
    "df = pd.DataFrame({\"y_true\": y_true, \"y_preds\": y_preds}).head(500)\n",
    "fig = px.line(df, y=[\"y_true\", \"y_preds\"], title=\"\")\n",
    "fig.show()"
   ]
  }
 ],
 "metadata": {
  "kernelspec": {
   "display_name": "venv-sail",
   "language": "python",
   "name": "python3"
  },
  "language_info": {
   "codemirror_mode": {
    "name": "ipython",
    "version": 3
   },
   "file_extension": ".py",
   "mimetype": "text/x-python",
   "name": "python",
   "nbconvert_exporter": "python",
   "pygments_lexer": "ipython3",
   "version": "3.10.10"
  },
  "orig_nbformat": 4
 },
 "nbformat": 4,
 "nbformat_minor": 2
}
