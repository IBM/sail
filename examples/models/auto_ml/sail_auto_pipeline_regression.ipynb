{
 "cells": [
  {
   "cell_type": "code",
   "execution_count": 1,
   "metadata": {},
   "outputs": [],
   "source": [
    "import numpy as np\n",
    "import pandas as pd\n",
    "from river import optim\n",
    "from river import metrics\n",
    "from river.drift.binary import EDDM\n",
    "from sail.models.auto_ml.tune import SAILTuneGridSearchCV\n",
    "from sail.models.river.forest import AdaptiveRandomForestRegressor\n",
    "from sail.models.river.linear_model import LinearRegression\n",
    "from sail.models.auto_ml.auto_pipeline import SAILAutoPipeline\n",
    "from sail.pipeline import SAILPipeline\n",
    "from sklearn.impute import SimpleImputer\n",
    "from sail.drift_detection.drift_detector import SAILDriftDetector\n",
    "from sail.transformers.river.preprocessing import StandardScaler\n",
    "from sail.utils.logging import SAILVerbosity"
   ]
  },
  {
   "attachments": {},
   "cell_type": "markdown",
   "metadata": {},
   "source": [
    "#### Load Data\n"
   ]
  },
  {
   "cell_type": "code",
   "execution_count": 2,
   "metadata": {},
   "outputs": [],
   "source": [
    "X = pd.read_csv(\"../../datasets/HDWF2.csv\")\n",
    "\n",
    "y = X[\"power\"]\n",
    "X.drop([\"power\", \"time\"], axis=1, inplace=True)"
   ]
  },
  {
   "attachments": {},
   "cell_type": "markdown",
   "metadata": {},
   "source": [
    "#### Model Definition\n"
   ]
  },
  {
   "cell_type": "code",
   "execution_count": 3,
   "metadata": {},
   "outputs": [],
   "source": [
    "linear_reg = LinearRegression(optimizer=optim.SGD(0.1))\n",
    "random_forest = AdaptiveRandomForestRegressor()"
   ]
  },
  {
   "attachments": {},
   "cell_type": "markdown",
   "metadata": {},
   "source": [
    "#### Create SAIL Pipeline\n"
   ]
  },
  {
   "cell_type": "code",
   "execution_count": 4,
   "metadata": {},
   "outputs": [],
   "source": [
    "steps = [\n",
    "    (\"Imputer\", SimpleImputer(missing_values=np.nan, strategy=\"mean\")),\n",
    "    (\"standard_scalar\", StandardScaler()),\n",
    "    (\"regressor\", \"passthrough\"),\n",
    "]\n",
    "sail_pipeline = SAILPipeline(steps=steps, scoring=metrics.R2, verbosity=SAILVerbosity(verbosity=1, log_interval=4))"
   ]
  },
  {
   "attachments": {},
   "cell_type": "markdown",
   "metadata": {},
   "source": [
    "#### HPO Params\n"
   ]
  },
  {
   "cell_type": "code",
   "execution_count": 5,
   "metadata": {},
   "outputs": [],
   "source": [
    "params_grid = [\n",
    "    {\n",
    "        \"regressor\": [linear_reg],\n",
    "        \"regressor__l2\": [0.1, 0.9],\n",
    "        \"regressor__intercept_init\": [0.2, 0.5],\n",
    "    },\n",
    "    {\n",
    "        \"regressor\": [random_forest],\n",
    "        \"regressor__n_models\": [10, 15, 20]\n",
    "    },\n",
    "]"
   ]
  },
  {
   "attachments": {},
   "cell_type": "markdown",
   "metadata": {},
   "source": [
    "#### Create Model Instance\n"
   ]
  },
  {
   "cell_type": "code",
   "execution_count": 6,
   "metadata": {},
   "outputs": [
    {
     "name": "stderr",
     "output_type": "stream",
     "text": [
      "[2023-09-05 21:18:58:198] - INFO - SAIL (PipelineStrategy) - Pipeline Strategy [DetectAndIncrement] created with actions: ['DATA_COLLECTION', 'FIND_BEST_PIPELINE', 'SCORE_AND_DETECT_DRIFT', 'PARTIAL_FIT_MODEL']\n"
     ]
    }
   ],
   "source": [
    "auto_pipeline = SAILAutoPipeline(\n",
    "    pipeline=sail_pipeline,\n",
    "    pipeline_params_grid=params_grid,\n",
    "    search_method=SAILTuneGridSearchCV,\n",
    "    search_method_params={\n",
    "        \"num_cpus_per_trial\": 1,\n",
    "        \"max_iters\": 1,\n",
    "        \"early_stopping\": False,\n",
    "        \"mode\": \"max\",\n",
    "        \"scoring\": \"r2\",\n",
    "        \"pipeline_auto_early_stop\": False,\n",
    "        \"keep_best_configurations\": 2,\n",
    "        # \"runtime_env\": {\n",
    "        #     \"py_modules\": [sail],\n",
    "        #     \"pip\": [\n",
    "        #         \"scikit-learn>=1.2\",\n",
    "        #         \"logzero\",\n",
    "        #         \"numpy>=1.23\",\n",
    "        #         \"river==0.14.*\",\n",
    "        #         \"ray>=2.5\",\n",
    "        #         \"tune_sklearn\",\n",
    "        #         \"dill\",\n",
    "        #         \"ipython\",\n",
    "        #     ],\n",
    "        # },\n",
    "        # \"namespace\": \"sail-tune\",\n",
    "        # \"cluster_address\": \"ray://localhost:10001\"\n",
    "    },\n",
    "    search_data_size=1000,\n",
    "    incremental_training=True,\n",
    "    drift_detector=SAILDriftDetector(model=EDDM(), drift_param=\"difference\"),\n",
    "    pipeline_strategy=\"DetectAndIncrement\",\n",
    ")"
   ]
  },
  {
   "attachments": {},
   "cell_type": "markdown",
   "metadata": {},
   "source": [
    "#### Start Training\n"
   ]
  },
  {
   "cell_type": "code",
   "execution_count": 7,
   "metadata": {},
   "outputs": [
    {
     "data": {
      "text/html": [
       "<div class=\"tuneStatus\">\n",
       "  <div style=\"display: flex;flex-direction: row\">\n",
       "    <div style=\"display: flex;flex-direction: column;\">\n",
       "      <h3>Tune Status</h3>\n",
       "      <table>\n",
       "<tbody>\n",
       "<tr><td>Current time:</td><td>2023-09-05 21:19:21</td></tr>\n",
       "<tr><td>Running for: </td><td>00:00:19.48        </td></tr>\n",
       "<tr><td>Memory:      </td><td>34.7/64.0 GiB      </td></tr>\n",
       "</tbody>\n",
       "</table>\n",
       "    </div>\n",
       "    <div class=\"vDivider\"></div>\n",
       "    <div class=\"systemInfo\">\n",
       "      <h3>System Info</h3>\n",
       "      Using FIFO scheduling algorithm.<br>Logical resource usage: 1.0/10 CPUs, 0/0 GPUs\n",
       "    </div>\n",
       "    \n",
       "  </div>\n",
       "  <div class=\"hDivider\"></div>\n",
       "  <div class=\"trialStatus\">\n",
       "    <h3>Trial Status</h3>\n",
       "    <table>\n",
       "<thead>\n",
       "<tr><th>Trial name         </th><th>status    </th><th>loc           </th><th>regressor           </th><th style=\"text-align: right;\">    regressor__intercept\n",
       "_init</th><th style=\"text-align: right;\">  regressor__l2</th><th style=\"text-align: right;\">  regressor__n_models</th><th style=\"text-align: right;\">  iter</th><th style=\"text-align: right;\">  total time (s)</th><th style=\"text-align: right;\">  split0_test_score</th><th style=\"text-align: right;\">  split1_test_score</th><th style=\"text-align: right;\">  split2_test_score</th></tr>\n",
       "</thead>\n",
       "<tbody>\n",
       "<tr><td>_Trainable_7643d374</td><td>TERMINATED</td><td>127.0.0.1:4541</td><td>LinearRegressio_4400</td><td style=\"text-align: right;\">0.2</td><td style=\"text-align: right;\">            0.1</td><td style=\"text-align: right;\">                     </td><td style=\"text-align: right;\">     1</td><td style=\"text-align: right;\">        0.137235</td><td style=\"text-align: right;\">       -2.22877e+19</td><td style=\"text-align: right;\">       -2.31076e+19</td><td style=\"text-align: right;\">       -6.51966e+19</td></tr>\n",
       "<tr><td>_Trainable_3caead95</td><td>TERMINATED</td><td>127.0.0.1:4541</td><td>LinearRegressio_8c10</td><td style=\"text-align: right;\">0.2</td><td style=\"text-align: right;\">            0.9</td><td style=\"text-align: right;\">                     </td><td style=\"text-align: right;\">     1</td><td style=\"text-align: right;\">        0.132829</td><td style=\"text-align: right;\">       -6.82354e+17</td><td style=\"text-align: right;\">       -6.05753e+17</td><td style=\"text-align: right;\">       -5.67513e+18</td></tr>\n",
       "<tr><td>_Trainable_ddb07e61</td><td>TERMINATED</td><td>127.0.0.1:4541</td><td>LinearRegressio_9510</td><td style=\"text-align: right;\">0.5</td><td style=\"text-align: right;\">            0.1</td><td style=\"text-align: right;\">                     </td><td style=\"text-align: right;\">     1</td><td style=\"text-align: right;\">        0.151488</td><td style=\"text-align: right;\">       -3.12752e+19</td><td style=\"text-align: right;\">       -2.58568e+19</td><td style=\"text-align: right;\">       -6.76019e+19</td></tr>\n",
       "<tr><td>_Trainable_589f45c2</td><td>TERMINATED</td><td>127.0.0.1:4541</td><td>LinearRegressio_d960</td><td style=\"text-align: right;\">0.5</td><td style=\"text-align: right;\">            0.9</td><td style=\"text-align: right;\">                     </td><td style=\"text-align: right;\">     1</td><td style=\"text-align: right;\">        0.157404</td><td style=\"text-align: right;\">       -6.31941e+17</td><td style=\"text-align: right;\">       -5.45171e+17</td><td style=\"text-align: right;\">       -5.7334e+18 </td></tr>\n",
       "<tr><td>_Trainable_d1f92de3</td><td>TERMINATED</td><td>127.0.0.1:4541</td><td>AdaptiveRandomF_dcc0</td><td style=\"text-align: right;\">   </td><td style=\"text-align: right;\">               </td><td style=\"text-align: right;\">                   10</td><td style=\"text-align: right;\">     1</td><td style=\"text-align: right;\">        6.57615 </td><td style=\"text-align: right;\">        0.637743   </td><td style=\"text-align: right;\">        0.776827   </td><td style=\"text-align: right;\">        0.762451   </td></tr>\n",
       "<tr><td>_Trainable_4e3c127b</td><td>TERMINATED</td><td>127.0.0.1:4552</td><td>AdaptiveRandomF_e7a0</td><td style=\"text-align: right;\">   </td><td style=\"text-align: right;\">               </td><td style=\"text-align: right;\">                   15</td><td style=\"text-align: right;\">     1</td><td style=\"text-align: right;\">        8.88301 </td><td style=\"text-align: right;\">        0.684084   </td><td style=\"text-align: right;\">        0.723983   </td><td style=\"text-align: right;\">        0.733096   </td></tr>\n",
       "<tr><td>_Trainable_37d328f1</td><td>TERMINATED</td><td>127.0.0.1:4562</td><td>AdaptiveRandomF_b4c0</td><td style=\"text-align: right;\">   </td><td style=\"text-align: right;\">               </td><td style=\"text-align: right;\">                   20</td><td style=\"text-align: right;\">     1</td><td style=\"text-align: right;\">       11.4619  </td><td style=\"text-align: right;\">        0.663047   </td><td style=\"text-align: right;\">        0.754116   </td><td style=\"text-align: right;\">        0.73017    </td></tr>\n",
       "</tbody>\n",
       "</table>\n",
       "  </div>\n",
       "</div>\n",
       "<style>\n",
       ".tuneStatus {\n",
       "  color: var(--jp-ui-font-color1);\n",
       "}\n",
       ".tuneStatus .systemInfo {\n",
       "  display: flex;\n",
       "  flex-direction: column;\n",
       "}\n",
       ".tuneStatus td {\n",
       "  white-space: nowrap;\n",
       "}\n",
       ".tuneStatus .trialStatus {\n",
       "  display: flex;\n",
       "  flex-direction: column;\n",
       "}\n",
       ".tuneStatus h3 {\n",
       "  font-weight: bold;\n",
       "}\n",
       ".tuneStatus .hDivider {\n",
       "  border-bottom-width: var(--jp-border-width);\n",
       "  border-bottom-color: var(--jp-border-color0);\n",
       "  border-bottom-style: solid;\n",
       "}\n",
       ".tuneStatus .vDivider {\n",
       "  border-left-width: var(--jp-border-width);\n",
       "  border-left-color: var(--jp-border-color0);\n",
       "  border-left-style: solid;\n",
       "  margin: 0.5em 1em 0.5em 1em;\n",
       "}\n",
       "</style>\n"
      ],
      "text/plain": [
       "<IPython.core.display.HTML object>"
      ]
     },
     "metadata": {},
     "output_type": "display_data"
    },
    {
     "name": "stderr",
     "output_type": "stream",
     "text": [
      "2023-09-05 21:19:21,884\tINFO tune.py:1148 -- Total run time: 19.49 seconds (19.48 seconds for the tuning loop).\n",
      "SAIL Pipeline fit: 100%========== [Steps: 3/3, ETA: 00:02<00:00, Elapsed:2.288s, Batch Size=1000, Score=0.815]            \n",
      "[2023-09-05 21:19:25:770] - INFO - SAIL (PipelineStrategy) - Pipeline tuning completed. Disconnecting Ray cluster...\n",
      "[2023-09-05 21:19:25:772] - INFO - SAIL (PipelineStrategy) - Found best params: {'regressor': AdaptiveRandomForestRegressor(drift_detector=ADWIN (\n",
      "      delta=0.001\n",
      "      clock=32\n",
      "      max_buckets=5\n",
      "      min_window_length=5\n",
      "      grace_period=10\n",
      "    ),\n",
      "                                  metric=MSE: 0., n_models=15,\n",
      "                                  warning_detector=ADWIN (\n",
      "      delta=0.01\n",
      "      clock=32\n",
      "      max_buckets=5\n",
      "      min_window_length=5\n",
      "      grace_period=10\n",
      "    )), 'regressor__n_models': 15}\n"
     ]
    },
    {
     "name": "stdout",
     "output_type": "stream",
     "text": [
      ">>>--------------------------------------------------------------------------------------------\n"
     ]
    },
    {
     "name": "stderr",
     "output_type": "stream",
     "text": [
      "SAIL Pipeline Progressive Score: 100%========== [Points: 50/50, Elapsed:0.0012s, Metric=R2, Batch Size=50, P_Score=0.557]\n",
      "SAIL Drift detection: 100%========== [Points: 50/50, Elapsed:0.0011s, Detector=EDDM, Batch Size=50, Param=differene, Drift=No]\n",
      "SAIL Pipeline Partial fit: 100%========== [Steps: 3/3, ETA: 00:00<00:00, Elapsed:0.130s, Batch Size=50, P_Score=0.557]            \n"
     ]
    },
    {
     "name": "stdout",
     "output_type": "stream",
     "text": [
      ">>>--------------------------------------------------------------------------------------------\n"
     ]
    },
    {
     "name": "stderr",
     "output_type": "stream",
     "text": [
      "SAIL Pipeline Progressive Score: 100%========== [Points: 50/50, Elapsed:0.0012s, Metric=R2, Batch Size=50, P_Score=0.705]\n",
      "SAIL Drift detection: 100%========== [Points: 50/50, Elapsed:0.0009s, Detector=EDDM, Batch Size=50, Param=differene, Drift=No]\n",
      "SAIL Pipeline Partial fit: 100%========== [Steps: 3/3, ETA: 00:00<00:00, Elapsed:0.130s, Batch Size=50, P_Score=0.705]            \n"
     ]
    },
    {
     "name": "stdout",
     "output_type": "stream",
     "text": [
      ">>>--------------------------------------------------------------------------------------------\n"
     ]
    },
    {
     "name": "stderr",
     "output_type": "stream",
     "text": [
      "SAIL Pipeline Progressive Score: 100%========== [Points: 50/50, Elapsed:0.0013s, Metric=R2, Batch Size=50, P_Score=0.672]\n",
      "SAIL Drift detection: 100%========== [Points: 50/50, Elapsed:0.0011s, Detector=EDDM, Batch Size=50, Param=differene, Drift=No]\n",
      "SAIL Pipeline Partial fit: 100%========== [Steps: 3/3, ETA: 00:00<00:00, Elapsed:0.155s, Batch Size=50, P_Score=0.672]            \n"
     ]
    }
   ],
   "source": [
    "y_preds = []\n",
    "y_true = []\n",
    "batch_size = 50\n",
    "\n",
    "for start in range(0, 1500, batch_size):\n",
    "\n",
    "    end = start + batch_size\n",
    "\n",
    "    X_train = X.iloc[start:end]\n",
    "    y_train = y.iloc[start:end]\n",
    "\n",
    "    if end > 1000: # search_data_size is 1000\n",
    "        preds = auto_pipeline.predict(X_train)\n",
    "        y_preds.extend(list(preds))\n",
    "        y_true.extend(list(y_train))\n",
    "\n",
    "    auto_pipeline.train(X_train, y_train)"
   ]
  },
  {
   "attachments": {},
   "cell_type": "markdown",
   "metadata": {},
   "source": [
    "#### Save Model\n"
   ]
  },
  {
   "cell_type": "code",
   "execution_count": 8,
   "metadata": {},
   "outputs": [
    {
     "data": {
      "text/plain": [
       "'./sail_auto_pipeline'"
      ]
     },
     "execution_count": 8,
     "metadata": {},
     "output_type": "execute_result"
    }
   ],
   "source": [
    "auto_pipeline.save_model(\".\")"
   ]
  },
  {
   "attachments": {},
   "cell_type": "markdown",
   "metadata": {},
   "source": [
    "#### Load Model\n"
   ]
  },
  {
   "cell_type": "code",
   "execution_count": 9,
   "metadata": {},
   "outputs": [
    {
     "name": "stderr",
     "output_type": "stream",
     "text": [
      "[2023-09-05 21:19:30:545] - INFO - SAIL (PipelineStrategy) - Pipeline Strategy [DetectAndIncrement] created with actions: ['DATA_COLLECTION', 'FIND_BEST_PIPELINE', 'SCORE_AND_DETECT_DRIFT', 'PARTIAL_FIT_MODEL']\n",
      "SAIL Pipeline Progressive Score: 100%========== [Points: 1000/1000, Elapsed:0.0027s, Metric=R2, Batch Size=1000, P_Score=0.668]\n"
     ]
    }
   ],
   "source": [
    "new_auto_pipeline = SAILAutoPipeline.load_model(\".\")"
   ]
  },
  {
   "attachments": {},
   "cell_type": "markdown",
   "metadata": {},
   "source": [
    "#### Continue training using the load model\n"
   ]
  },
  {
   "cell_type": "code",
   "execution_count": 10,
   "metadata": {},
   "outputs": [
    {
     "name": "stdout",
     "output_type": "stream",
     "text": [
      ">>>--------------------------------------------------------------------------------------------\n"
     ]
    },
    {
     "name": "stderr",
     "output_type": "stream",
     "text": [
      "SAIL Pipeline Progressive Score: 100%========== [Points: 50/50, Elapsed:0.0012s, Metric=R2, Batch Size=50, P_Score=0.675]\n",
      "SAIL Drift detection: 100%========== [Points: 50/50, Elapsed:0.0011s, Detector=EDDM, Batch Size=50, Param=differene, Drift=No]\n",
      "SAIL Pipeline Partial fit: 100%========== [Steps: 3/3, ETA: 00:00<00:00, Elapsed:0.150s, Batch Size=50, P_Score=0.675]            \n"
     ]
    },
    {
     "name": "stdout",
     "output_type": "stream",
     "text": [
      ">>>--------------------------------------------------------------------------------------------\n"
     ]
    },
    {
     "name": "stderr",
     "output_type": "stream",
     "text": [
      "SAIL Pipeline Progressive Score: 100%========== [Points: 50/50, Elapsed:0.0014s, Metric=R2, Batch Size=50, P_Score=0.69]\n",
      "SAIL Drift detection: 100%========== [Points: 50/50, Elapsed:0.0013s, Detector=EDDM, Batch Size=50, Param=differene, Drift=No]\n",
      "SAIL Pipeline Partial fit: 100%========== [Steps: 3/3, ETA: 00:00<00:00, Elapsed:0.160s, Batch Size=50, P_Score=0.69]            \n"
     ]
    }
   ],
   "source": [
    "for start in range(1501, 2001, batch_size):\n",
    "\n",
    "    end = start + batch_size\n",
    "\n",
    "    X_train = X.iloc[start:end]\n",
    "    y_train = y.iloc[start:end]\n",
    "\n",
    "    if end > 1000: # search_data_size is 1000\n",
    "        preds = new_auto_pipeline.predict(X_train)\n",
    "        if preds is not None:\n",
    "            y_preds.extend(list(preds))\n",
    "            y_true.extend(list(y_train))\n",
    "\n",
    "    new_auto_pipeline.train(X_train, y_train)"
   ]
  },
  {
   "attachments": {},
   "cell_type": "markdown",
   "metadata": {},
   "source": [
    "#### Final Score\n"
   ]
  },
  {
   "cell_type": "code",
   "execution_count": 11,
   "metadata": {},
   "outputs": [
    {
     "data": {
      "text/plain": [
       "0.6962536249863747"
      ]
     },
     "execution_count": 11,
     "metadata": {},
     "output_type": "execute_result"
    }
   ],
   "source": [
    "new_auto_pipeline.progressive_score"
   ]
  },
  {
   "attachments": {},
   "cell_type": "markdown",
   "metadata": {},
   "source": [
    "### Plot predictions\n"
   ]
  },
  {
   "cell_type": "code",
   "execution_count": 12,
   "metadata": {},
   "outputs": [
    {
     "data": {
      "application/vnd.plotly.v1+json": {
       "config": {
        "plotlyServerURL": "https://plot.ly"
       },
       "data": [
        {
         "hovertemplate": "variable=y_true<br>index=%{x}<br>value=%{y}<extra></extra>",
         "legendgroup": "y_true",
         "line": {
          "color": "#636efa",
          "dash": "solid"
         },
         "marker": {
          "symbol": "circle"
         },
         "mode": "lines",
         "name": "y_true",
         "orientation": "v",
         "showlegend": true,
         "type": "scatter",
         "x": [
          0,
          1,
          2,
          3,
          4,
          5,
          6,
          7,
          8,
          9,
          10,
          11,
          12,
          13,
          14,
          15,
          16,
          17,
          18,
          19,
          20,
          21,
          22,
          23,
          24,
          25,
          26,
          27,
          28,
          29,
          30,
          31,
          32,
          33,
          34,
          35,
          36,
          37,
          38,
          39,
          40,
          41,
          42,
          43,
          44,
          45,
          46,
          47,
          48,
          49,
          50,
          51,
          52,
          53,
          54,
          55,
          56,
          57,
          58,
          59,
          60,
          61,
          62,
          63,
          64,
          65,
          66,
          67,
          68,
          69,
          70,
          71,
          72,
          73,
          74,
          75,
          76,
          77,
          78,
          79,
          80,
          81,
          82,
          83,
          84,
          85,
          86,
          87,
          88,
          89,
          90,
          91,
          92,
          93,
          94,
          95,
          96,
          97,
          98,
          99,
          100,
          101,
          102,
          103,
          104,
          105,
          106,
          107,
          108,
          109,
          110,
          111,
          112,
          113,
          114,
          115,
          116,
          117,
          118,
          119,
          120,
          121,
          122,
          123,
          124,
          125,
          126,
          127,
          128,
          129,
          130,
          131,
          132,
          133,
          134,
          135,
          136,
          137,
          138,
          139,
          140,
          141,
          142,
          143,
          144,
          145,
          146,
          147,
          148,
          149,
          150,
          151,
          152,
          153,
          154,
          155,
          156,
          157,
          158,
          159,
          160,
          161,
          162,
          163,
          164,
          165,
          166,
          167,
          168,
          169,
          170,
          171,
          172,
          173,
          174,
          175,
          176,
          177,
          178,
          179,
          180,
          181,
          182,
          183,
          184,
          185,
          186,
          187,
          188,
          189,
          190,
          191,
          192,
          193,
          194,
          195,
          196,
          197,
          198,
          199,
          200,
          201,
          202,
          203,
          204,
          205,
          206,
          207,
          208,
          209,
          210,
          211,
          212,
          213,
          214,
          215,
          216,
          217,
          218,
          219,
          220,
          221,
          222,
          223,
          224,
          225,
          226,
          227,
          228,
          229,
          230,
          231,
          232,
          233,
          234,
          235,
          236,
          237,
          238,
          239,
          240,
          241,
          242,
          243,
          244,
          245,
          246,
          247,
          248,
          249,
          250,
          251,
          252,
          253,
          254,
          255,
          256,
          257,
          258,
          259,
          260,
          261,
          262,
          263,
          264,
          265,
          266,
          267,
          268,
          269,
          270,
          271,
          272,
          273,
          274,
          275,
          276,
          277,
          278,
          279,
          280,
          281,
          282,
          283,
          284,
          285,
          286,
          287,
          288,
          289,
          290,
          291,
          292,
          293,
          294,
          295,
          296,
          297,
          298,
          299,
          300,
          301,
          302,
          303,
          304,
          305,
          306,
          307,
          308,
          309,
          310,
          311,
          312,
          313,
          314,
          315,
          316,
          317,
          318,
          319,
          320,
          321,
          322,
          323,
          324,
          325,
          326,
          327,
          328,
          329,
          330,
          331,
          332,
          333,
          334,
          335,
          336,
          337,
          338,
          339,
          340,
          341,
          342,
          343,
          344,
          345,
          346,
          347,
          348,
          349,
          350,
          351,
          352,
          353,
          354,
          355,
          356,
          357,
          358,
          359,
          360,
          361,
          362,
          363,
          364,
          365,
          366,
          367,
          368,
          369,
          370,
          371,
          372,
          373,
          374,
          375,
          376,
          377,
          378,
          379,
          380,
          381,
          382,
          383,
          384,
          385,
          386,
          387,
          388,
          389,
          390,
          391,
          392,
          393,
          394,
          395,
          396,
          397,
          398,
          399,
          400,
          401,
          402,
          403,
          404,
          405,
          406,
          407,
          408,
          409,
          410,
          411,
          412,
          413,
          414,
          415,
          416,
          417,
          418,
          419,
          420,
          421,
          422,
          423,
          424,
          425,
          426,
          427,
          428,
          429,
          430,
          431,
          432,
          433,
          434,
          435,
          436,
          437,
          438,
          439,
          440,
          441,
          442,
          443,
          444,
          445,
          446,
          447,
          448,
          449,
          450,
          451,
          452,
          453,
          454,
          455,
          456,
          457,
          458,
          459,
          460,
          461,
          462,
          463,
          464,
          465,
          466,
          467,
          468,
          469,
          470,
          471,
          472,
          473,
          474,
          475,
          476,
          477,
          478,
          479,
          480,
          481,
          482,
          483,
          484,
          485,
          486,
          487,
          488,
          489,
          490,
          491,
          492,
          493,
          494,
          495,
          496,
          497,
          498,
          499
         ],
         "xaxis": "x",
         "y": [
          80.19166667,
          78.95833333,
          97.98333333,
          99.15833333,
          90.75,
          83.75833333,
          64.98333333,
          61.30833333,
          47.68333333,
          32.95833333,
          26.83333333,
          20.71666667,
          14.44166667,
          16.08333333,
          19.51666667,
          25.64166667,
          19.16666667,
          24.54166667,
          21.61666667,
          21.2,
          45.30833333,
          47.50833333,
          52.85833333,
          67.78333333,
          73.68333333,
          63.375,
          27.23333333,
          21.58333333,
          23.50833333,
          26.35833333,
          46.33333333,
          44.76666667,
          41.08333333,
          38.925,
          45.90833333,
          63.16666667,
          47.2,
          48.13333333,
          41.69166667,
          33.35833333,
          24.575,
          19.125,
          12.73333333,
          7.216666667,
          5.575,
          2.441666667,
          1.75,
          1.966666667,
          1.475,
          1.133333333,
          0,
          0.808333333,
          0,
          0,
          0,
          0,
          2.175,
          2.1583333330000003,
          1.308333333,
          10.49166667,
          18.41666667,
          29.24166667,
          47.09166667,
          48.70833333,
          54.675,
          51.89166667,
          50.9,
          70.925,
          76.21666667,
          78.64166667,
          72.21666667,
          71.86666667,
          73.29166667,
          75.95833333,
          78.35833333,
          73.71666667,
          77.875,
          75.35,
          75.44166667,
          77.26666667,
          73.8,
          72.64166667,
          77.45,
          75.64166667,
          79.76666667,
          85.11666667,
          88.625,
          78.40833333,
          72.88333333,
          75.55,
          74.075,
          58.91666667,
          50.50833333,
          36.51666667,
          42.35833333,
          59.64166667,
          73.45833333,
          77.16666667,
          62.575,
          86.30833333,
          40.93333333,
          60.625,
          49.10833333,
          42.96666667,
          55.81666667,
          38.65833333,
          26.1,
          29.25833333,
          23.775,
          17.55833333,
          10.95833333,
          4.691666667,
          2.925,
          1.7416666669999998,
          0.75,
          2.558333333,
          5.791666667,
          8.033333333,
          10.91666667,
          13.73333333,
          17.875,
          17.19166667,
          0.941666667,
          0,
          0,
          0,
          0,
          0,
          0,
          0.291666667,
          3.483333333,
          5.366666667,
          12.64166667,
          13.775,
          7.158333333,
          14,
          15.54166667,
          16.6,
          13.08333333,
          24.025,
          35.425,
          66.1,
          63.26666667,
          61.40833333,
          70.55833333,
          74.01666667,
          80.29166667,
          76.1,
          76.025,
          84.79166667,
          81.68333333,
          69.05,
          73.65,
          68.34166667,
          68.9,
          40.05833333,
          60.125,
          74.93333333,
          79.11666667,
          72.08333333,
          73.85,
          71.425,
          74.35,
          78.925,
          78.63333333,
          84,
          83.15,
          79.74166667,
          80.08333333,
          79.40833333,
          77.45833333,
          77.65,
          77.65833333,
          77.25833333,
          76.34166667,
          74.65833333,
          71.66666667,
          67.925,
          60.875,
          51.29166667,
          55.71666667,
          72.55,
          70.14166667,
          66.05833333,
          65.69166667,
          60.775,
          63.10833333,
          73.88333333,
          71.90833333,
          66.85,
          57.675,
          48.46666667,
          50.925,
          37.3,
          29.05833333,
          28.61666667,
          24.01666667,
          13.15833333,
          7.883333332999999,
          1.016666667,
          0.191666667,
          0.216666667,
          1.6833333330000002,
          5.583333333,
          7.15,
          3.675,
          2.383333333,
          4.7,
          7.933333332999999,
          2.75,
          0,
          0,
          0.45,
          2.2833333330000003,
          5.441666667000001,
          13.49166667,
          11.65,
          4.041666667,
          0,
          0,
          0,
          0,
          0,
          0,
          0.141666667,
          0,
          0,
          0,
          0,
          0,
          0,
          0,
          0,
          0.6416666670000001,
          1.425,
          11.95,
          22.79166667,
          16.91666667,
          14.79166667,
          13.89166667,
          11.16666667,
          4.791666667,
          1.45,
          0,
          0.016666667,
          5.883333333,
          8.808333333,
          22.54166667,
          24.01666667,
          25.75,
          27.89166667,
          31.60833333,
          46.14166667,
          57.28333333,
          65.575,
          69.80833333,
          76.41666667,
          73.69166667,
          64.525,
          54.1,
          71.58333333,
          60.76666667,
          43.8,
          34.54166667,
          33.075,
          30.2,
          30.025,
          50.3,
          82.73333333,
          98.44166667,
          99.825,
          99.65833333,
          99.81666667,
          99.78333333,
          99.725,
          99.1,
          99.26666667,
          99.81666667,
          99.825,
          99.83333333,
          99.45,
          99.65,
          97.99166667,
          95.2,
          88.70833333,
          49.89166667,
          14.98333333,
          56.54166667,
          98.1,
          95.075,
          89.91666667,
          56.90833333,
          61.925,
          77.03333333,
          60.225,
          89.99166667,
          88.325,
          85.89166667,
          47.00833333,
          33.50833333,
          43.025,
          71.31666667,
          91.375,
          94.91666667,
          98.94166667,
          91.38333333,
          69.61666667,
          73.03333333,
          79.40833333,
          87.49166667,
          86.125,
          84.85833333,
          78.56666667,
          78.21666667,
          56.725,
          83.375,
          89.66666667,
          81.64166667,
          86.825,
          97.225,
          95.68333333,
          92.25,
          86.40833333,
          93.775,
          91.29166667,
          93.15,
          84.325,
          62.83333333,
          37.975,
          38.01666667,
          34.64166667,
          51.55833333,
          42.36666667,
          19.95833333,
          3.666666667,
          2.716666667,
          1.808333333,
          3.333333333,
          10.575,
          12.16666667,
          12.925,
          9.433333333,
          10.18333333,
          16.81666667,
          21.8,
          18.975,
          23.025,
          13.89166667,
          3.8,
          0,
          0,
          0,
          0,
          0,
          0.008333333,
          3.016666667,
          7.033333333,
          13.375,
          22.85,
          12.375,
          16.80833333,
          24.45,
          21.26666667,
          13.14166667,
          4.05,
          7.966666667,
          25.8,
          25.3,
          16.3,
          6.725,
          9.058333333,
          15.38333333,
          14.19166667,
          20.59166667,
          44.075,
          61.23333333,
          74.04166667,
          75.56666667,
          65.975,
          45.23333333,
          29.60833333,
          19.18333333,
          9.3,
          3.475,
          0.8,
          0.7,
          2.383333333,
          17.025,
          46.625,
          52.79166667,
          60.39166667,
          66.96666667,
          76.54166667,
          84.53333333,
          93.275,
          92.03333333,
          94.15833333,
          86.33333333,
          91.025,
          85.875,
          75.36666667,
          63.58333333,
          48.29166667,
          26.91666667,
          12.775,
          6.15,
          5.008333333,
          3.491666667,
          4.541666667,
          6.291666667,
          10.90833333,
          27.58333333,
          51.25833333,
          67.26666667,
          81.00833333,
          84.55,
          89.525,
          90.8,
          95.8,
          99.75833333,
          99.79166667,
          96.35833333,
          92.125,
          99.775,
          99.81666667,
          99.825,
          99.825,
          99.71666667,
          98.7,
          98.85,
          99.84166667,
          98.51666667,
          99.75833333,
          99.73333333,
          94.45833333,
          88.95833333,
          82.85,
          82.50833333,
          80.175,
          78.83333333,
          73.48333333,
          78.83333333,
          79.03333333,
          83.65,
          80.75,
          74.26666667,
          74.06666667,
          79.96666667,
          77.90833333,
          88.05833333,
          90.15833333,
          98.23333333,
          98.64166667,
          87.025,
          86.59166667,
          93.13333333,
          91.825,
          86.34166667,
          39.53333333,
          19.46666667,
          11.06666667,
          20.85,
          28.41666667,
          30.875,
          29.38333333,
          38.58333333,
          60.51666667,
          76.05,
          84.54166667,
          76.33333333,
          91.175,
          95.075,
          92.71666667,
          94.90833333,
          98.86666667,
          93.50833333,
          90.71666667,
          86.65833333,
          82.025,
          82.55833333,
          83.78333333,
          83.45833333,
          83.875,
          81.09166667,
          80.5,
          84.20833333,
          83.68333333,
          79.59166667,
          74.99166667,
          74.71666667,
          52.59166667,
          61.51666667,
          48.075,
          18.25,
          7.966666667,
          6.583333333,
          3.5,
          3.941666667,
          9.208333333,
          17.89166667
         ],
         "yaxis": "y"
        },
        {
         "hovertemplate": "variable=y_preds<br>index=%{x}<br>value=%{y}<extra></extra>",
         "legendgroup": "y_preds",
         "line": {
          "color": "#EF553B",
          "dash": "solid"
         },
         "marker": {
          "symbol": "circle"
         },
         "mode": "lines",
         "name": "y_preds",
         "orientation": "v",
         "showlegend": true,
         "type": "scatter",
         "x": [
          0,
          1,
          2,
          3,
          4,
          5,
          6,
          7,
          8,
          9,
          10,
          11,
          12,
          13,
          14,
          15,
          16,
          17,
          18,
          19,
          20,
          21,
          22,
          23,
          24,
          25,
          26,
          27,
          28,
          29,
          30,
          31,
          32,
          33,
          34,
          35,
          36,
          37,
          38,
          39,
          40,
          41,
          42,
          43,
          44,
          45,
          46,
          47,
          48,
          49,
          50,
          51,
          52,
          53,
          54,
          55,
          56,
          57,
          58,
          59,
          60,
          61,
          62,
          63,
          64,
          65,
          66,
          67,
          68,
          69,
          70,
          71,
          72,
          73,
          74,
          75,
          76,
          77,
          78,
          79,
          80,
          81,
          82,
          83,
          84,
          85,
          86,
          87,
          88,
          89,
          90,
          91,
          92,
          93,
          94,
          95,
          96,
          97,
          98,
          99,
          100,
          101,
          102,
          103,
          104,
          105,
          106,
          107,
          108,
          109,
          110,
          111,
          112,
          113,
          114,
          115,
          116,
          117,
          118,
          119,
          120,
          121,
          122,
          123,
          124,
          125,
          126,
          127,
          128,
          129,
          130,
          131,
          132,
          133,
          134,
          135,
          136,
          137,
          138,
          139,
          140,
          141,
          142,
          143,
          144,
          145,
          146,
          147,
          148,
          149,
          150,
          151,
          152,
          153,
          154,
          155,
          156,
          157,
          158,
          159,
          160,
          161,
          162,
          163,
          164,
          165,
          166,
          167,
          168,
          169,
          170,
          171,
          172,
          173,
          174,
          175,
          176,
          177,
          178,
          179,
          180,
          181,
          182,
          183,
          184,
          185,
          186,
          187,
          188,
          189,
          190,
          191,
          192,
          193,
          194,
          195,
          196,
          197,
          198,
          199,
          200,
          201,
          202,
          203,
          204,
          205,
          206,
          207,
          208,
          209,
          210,
          211,
          212,
          213,
          214,
          215,
          216,
          217,
          218,
          219,
          220,
          221,
          222,
          223,
          224,
          225,
          226,
          227,
          228,
          229,
          230,
          231,
          232,
          233,
          234,
          235,
          236,
          237,
          238,
          239,
          240,
          241,
          242,
          243,
          244,
          245,
          246,
          247,
          248,
          249,
          250,
          251,
          252,
          253,
          254,
          255,
          256,
          257,
          258,
          259,
          260,
          261,
          262,
          263,
          264,
          265,
          266,
          267,
          268,
          269,
          270,
          271,
          272,
          273,
          274,
          275,
          276,
          277,
          278,
          279,
          280,
          281,
          282,
          283,
          284,
          285,
          286,
          287,
          288,
          289,
          290,
          291,
          292,
          293,
          294,
          295,
          296,
          297,
          298,
          299,
          300,
          301,
          302,
          303,
          304,
          305,
          306,
          307,
          308,
          309,
          310,
          311,
          312,
          313,
          314,
          315,
          316,
          317,
          318,
          319,
          320,
          321,
          322,
          323,
          324,
          325,
          326,
          327,
          328,
          329,
          330,
          331,
          332,
          333,
          334,
          335,
          336,
          337,
          338,
          339,
          340,
          341,
          342,
          343,
          344,
          345,
          346,
          347,
          348,
          349,
          350,
          351,
          352,
          353,
          354,
          355,
          356,
          357,
          358,
          359,
          360,
          361,
          362,
          363,
          364,
          365,
          366,
          367,
          368,
          369,
          370,
          371,
          372,
          373,
          374,
          375,
          376,
          377,
          378,
          379,
          380,
          381,
          382,
          383,
          384,
          385,
          386,
          387,
          388,
          389,
          390,
          391,
          392,
          393,
          394,
          395,
          396,
          397,
          398,
          399,
          400,
          401,
          402,
          403,
          404,
          405,
          406,
          407,
          408,
          409,
          410,
          411,
          412,
          413,
          414,
          415,
          416,
          417,
          418,
          419,
          420,
          421,
          422,
          423,
          424,
          425,
          426,
          427,
          428,
          429,
          430,
          431,
          432,
          433,
          434,
          435,
          436,
          437,
          438,
          439,
          440,
          441,
          442,
          443,
          444,
          445,
          446,
          447,
          448,
          449,
          450,
          451,
          452,
          453,
          454,
          455,
          456,
          457,
          458,
          459,
          460,
          461,
          462,
          463,
          464,
          465,
          466,
          467,
          468,
          469,
          470,
          471,
          472,
          473,
          474,
          475,
          476,
          477,
          478,
          479,
          480,
          481,
          482,
          483,
          484,
          485,
          486,
          487,
          488,
          489,
          490,
          491,
          492,
          493,
          494,
          495,
          496,
          497,
          498,
          499
         ],
         "xaxis": "x",
         "y": [
          82.0509067358031,
          82.61755560602191,
          77.65952380942856,
          76.81780742470994,
          76.91798245421053,
          69.28591269880953,
          66.06607669600001,
          74.97291666735295,
          51.476666667,
          54.43169934686275,
          51.476666667,
          48.00507341911897,
          48.00507341911897,
          36.626724138017245,
          36.626724138017245,
          27.039707835115543,
          42.89444444431371,
          51.476666667,
          54.61710296685864,
          53.70913242035618,
          58.22971428583429,
          58.22971428583429,
          63.04011656252,
          46.11359649157896,
          46.11359649157896,
          51.476666667,
          55.36946236600001,
          38.37083333320312,
          25.01530612275255,
          30.25299990874209,
          32.75052238428325,
          42.04634502894737,
          42.04634502894737,
          48.00507341911897,
          48.00507341911897,
          48.00507341911897,
          48.00507341911897,
          44.72758620586207,
          48.00507341911897,
          44.72758620586207,
          36.47216055650294,
          36.626724138017245,
          38.37083333320312,
          26.141427701636445,
          17.772562770313996,
          21.29146922996068,
          23.25980392170588,
          21.30169491386441,
          21.30169491386441,
          8.754193338543939,
          6.144757859577233,
          7.604612159069182,
          7.604612159069182,
          7.604612159069182,
          9.375124377044777,
          9.375124377044777,
          10.183255451644861,
          20.909943978126048,
          20.909943978126048,
          29.21617647117647,
          29.21617647117647,
          44.44330265889878,
          44.44330265889878,
          44.44330265889878,
          44.44330265889878,
          53.56350000136665,
          61.953861788109734,
          74.89999999937497,
          72.55141975296296,
          74.89999999937497,
          72.55141975296296,
          68.32332516306859,
          68.32332516306859,
          74.89999999937497,
          78.08480392070588,
          78.60135467970444,
          78.60135467970444,
          78.75547263656718,
          79.06690104193751,
          79.06690104193751,
          79.06690104193751,
          78.75547263656718,
          78.70767276365854,
          78.75547263656718,
          78.75547263656718,
          78.70767276365854,
          78.82881355762713,
          78.75547263656718,
          78.70767276365854,
          75.99909638433735,
          74.40895593873562,
          75.85799086630136,
          68.72477477585586,
          68.72477477585586,
          68.72477477585586,
          68.02816091983836,
          66.27818627426471,
          65.37342896131149,
          65.37342896131149,
          73.76304644793444,
          73.57834994425248,
          59.18294377951368,
          60.99849542876618,
          58.50972046047793,
          54.38274268111402,
          54.38274268111402,
          45.47907735904251,
          49.33396551640689,
          41.24539115616123,
          41.24539115616123,
          41.24539115616123,
          39.7832754625625,
          39.7832754625625,
          34.701736111159725,
          34.701736111159725,
          33.32123015810318,
          54.38274268111402,
          34.701736111159725,
          52.626117959977336,
          59.697357723475605,
          44.88408440584549,
          44.88408440584549,
          33.451854623931695,
          22.182896123900953,
          8.254774480504658,
          7.391059766599838,
          7.8895113469082006,
          9.7817690029235,
          11.397182703404194,
          11.084423976327477,
          11.612456335832256,
          24.489800992611947,
          23.116963226423486,
          23.116963226423486,
          24.489800992611947,
          24.489800992611947,
          26.258919663557574,
          31.34149305354167,
          43.19515976497187,
          60.147324810238636,
          46.02847405498469,
          66.15588578181818,
          68.363294638466,
          68.363294638466,
          68.363294638466,
          68.363294638466,
          68.363294638466,
          64.29567183356589,
          68.31852165697622,
          72.17394918795432,
          74.91320028071428,
          73.21730769240386,
          69.43883068014898,
          71.198263888125,
          52.81333883399506,
          68.34035580471911,
          57.48990800854546,
          46.300141241694924,
          49.89818404629545,
          49.89818404629545,
          49.89818404629545,
          71.78429203628318,
          79.3468810917544,
          83.21846466572238,
          82.83594994245738,
          76.08934290084335,
          79.07138702491274,
          75.5073108393865,
          71.78429203628318,
          71.78429203628318,
          69.57966666643775,
          62.35851351340541,
          74.4591269837619,
          72.08574397049676,
          65.58018867886793,
          58.80978043814372,
          55.006899641182784,
          58.80978043814372,
          54.37119882931579,
          46.300141241694924,
          45.579761901428576,
          56.898652882255654,
          56.898652882255654,
          54.37119882931579,
          53.410719072708936,
          34.25320312527696,
          51.67654180809038,
          58.4190104158884,
          62.35851351340541,
          58.4190104158884,
          58.4190104158884,
          58.29932692220768,
          41.89240196146078,
          28.392749999399996,
          20.417344497483185,
          19.956149363093054,
          20.417344497483185,
          5.72631086110674,
          17.118039214882355,
          5.72631086110674,
          4.499674115382682,
          2.203635788076061,
          2.162016369061806,
          2.3233333337142854,
          2.5647201888471356,
          4.177993539926522,
          5.8031196577487165,
          5.8031196577487165,
          4.022767640883381,
          4.499674115382682,
          4.499674115382682,
          4.499674115382682,
          15.89248866215646,
          15.89248866215646,
          21.7639669863099,
          28.409984956148968,
          27.760246756921635,
          26.973432760730027,
          15.89248866215646,
          6.636352656946861,
          1.36950354606383,
          1.7450542004999998,
          2.0282638888916664,
          2.3233333337142854,
          2.3233333337142854,
          2.3233333337142854,
          2.3233333337142854,
          2.3233333337142854,
          2.687637452686289,
          3.849999999972222,
          5.8031196577487165,
          5.8031196577487165,
          10.500737142637774,
          16.003062678376068,
          24.230990793391083,
          21.7639669863099,
          43.29809711361417,
          44.64590584246139,
          65.75367132783218,
          65.75367132783218,
          66.31995271922696,
          40.709562211751155,
          27.805241089685534,
          2.534541062753621,
          1.7450542004999998,
          4.2818407962238805,
          35.92589285708333,
          47.07127925916464,
          50.800096792031,
          58.07849099118244,
          29.246308018354437,
          35.180395990727334,
          45.06666667,
          53.30188564412409,
          53.30188564412409,
          53.30188564412409,
          53.30188564412409,
          57.51561713844431,
          63.13547979772728,
          64.09954462759015,
          63.13547979772728,
          77.84211676988888,
          77.84211676988888,
          77.84211676988888,
          77.84211676988888,
          75.67468553471697,
          62.51247195798406,
          61.051428571904765,
          57.618244575686404,
          66.49217686959183,
          69.80272264701986,
          79.1993459306744,
          79.1993459306744,
          69.80272264701986,
          72.7760920510035,
          79.1993459306744,
          75.13745254158538,
          77.7262150414104,
          79.59653695569747,
          79.59653695569747,
          79.1993459306744,
          63.13547979772728,
          63.13547979772728,
          63.13547979772728,
          63.13547979772728,
          65.46403061295918,
          60.46435897415383,
          55.568604650155045,
          55.568604650155045,
          54.337009803747065,
          53.12571473469649,
          19.185758378121697,
          18.526076554842117,
          19.185758378121697,
          18.555680864370743,
          39.85738992052916,
          47.07673824089571,
          47.07673824089571,
          51.14211309542858,
          59.85452381051427,
          65.11435452709827,
          75.25575396726191,
          72.58930555566667,
          68.42922008448718,
          79.76596244098592,
          77.87134399051509,
          72.58930555566667,
          71.07374999978568,
          71.11112612659461,
          71.07374999978568,
          69.15245995443934,
          66.96718599031888,
          69.15245995443934,
          71.11112612659461,
          70.46559247497477,
          68.12598142329153,
          74.36286330661852,
          74.36286330661852,
          74.36286330661852,
          63.94070512692306,
          61.220907079738936,
          61.220907079738936,
          60.5672413797414,
          48.5304166662,
          45.98014184442553,
          37.754040405712125,
          26.642926561892303,
          25.52254946881848,
          24.882019174604086,
          31.51931089825961,
          26.52450396857142,
          32.712866666800004,
          32.712866666800004,
          20.217512219120238,
          20.217512219120238,
          25.534722222544872,
          20.217512219120238,
          20.217512219120238,
          18.44946236735484,
          10.983159722145835,
          6.205833333333333,
          5.693148203057653,
          5.766480062142918,
          10.983159722145835,
          10.983159722145835,
          10.983159722145835,
          4.0631172838888885,
          1.5559782608442028,
          0.3597953217017544,
          0.3597953217017544,
          1.1165909092636364,
          1.1165909092636364,
          2.0179104479402987,
          10.66116301903376,
          7.339021163650792,
          15.420124113526594,
          15.208279915147441,
          32.13374413149296,
          31.141602563692306,
          31.141602563692306,
          49.53229949831579,
          40.14234829503661,
          24.9762905608761,
          25.402289789918918,
          13.772904896471747,
          10.557771386284948,
          15.65607843152941,
          10.871766848808743,
          9.775830854970174,
          7.742105262342105,
          7.742105262342105,
          8.223116316287971,
          10.871766848808743,
          14.418982612905697,
          17.916751991904036,
          16.918715848114754,
          31.701479751672892,
          31.701479751672892,
          32.63914141372223,
          24.9762905608761,
          24.9762905608761,
          17.88183060137705,
          15.78612244916735,
          20.536666666000002,
          17.88183060137705,
          17.88183060137705,
          15.78612244916735,
          46.657991803311475,
          57.055396174147546,
          51.89616969895433,
          53.60421810740741,
          53.86171243111836,
          53.60421810740741,
          59.934575920491014,
          49.80325399687546,
          49.637860415313156,
          41.405701751578945,
          41.405701751578945,
          51.0174999998,
          49.41666666659091,
          79.32153465326734,
          69.59163436608526,
          40.36076696154645,
          36.7034785701189,
          29.059704640886075,
          15.745969498248368,
          15.745969498248368,
          19.76695854067645,
          29.059704640886075,
          56.44649122848684,
          23.137476722754194,
          28.48366336722773,
          52.530242072724235,
          64.53740740744446,
          64.53740740744446,
          77.63169642928568,
          80.59229611405584,
          80.59229611405584,
          80.59229611405584,
          80.62334541098548,
          82.93220779200001,
          83.8671739124348,
          83.18245257349595,
          82.93220779200001,
          80.59229611405584,
          80.62334541098548,
          81.1095238096429,
          80.03472222129629,
          79.625336700606,
          77.63169642928568,
          77.93210741383537,
          77.63169642928568,
          77.93210741383537,
          77.98956790153774,
          83.57266865089285,
          84.9316863324985,
          85.00531531572975,
          84.9316863324985,
          86.16201923134615,
          86.16201923134615,
          86.16201923134615,
          86.16201923134615,
          86.16201923134615,
          86.16201923134615,
          86.2,
          86.2,
          86.2,
          86.2,
          86.2,
          84.9316863324985,
          83.16064476846714,
          80.76236772396827,
          81.04875886361704,
          81.62487499965,
          78.45304659526883,
          78.2059405949505,
          72.48019230684615,
          52.27057453420186,
          50.26507352924019,
          45.218941232101564,
          45.218941232101564,
          45.218941232101564,
          50.26507352924019,
          44.86962666909173,
          53.23056962032913,
          55.948122304437646,
          54.85693612802396,
          71.88235930818183,
          71.88235930818183,
          71.88235930818183,
          73.65491071419645,
          76.06799704351656,
          78.76356292510204,
          71.88235930818183,
          71.88235930818183,
          70.29434731902099,
          74.33364197407407,
          70.29434731902099,
          62.753508772982464,
          74.33364197407407,
          80.01169527914166,
          70.9287735845283,
          70.9287735845283,
          74.33364197407407,
          72.74406565642418,
          72.74406565642418,
          70.9287735845283,
          70.9287735845283,
          70.9287735845283,
          69.58562841509726,
          69.15095744625535,
          63.935215735664954,
          54.38462643586208,
          53.71267550713106,
          51.30371473978426,
          51.30371473978426,
          53.71267550713106,
          51.30371473978426,
          46.594066667599996,
          43.155344169806845
         ],
         "yaxis": "y"
        }
       ],
       "layout": {
        "legend": {
         "title": {
          "text": "variable"
         },
         "tracegroupgap": 0
        },
        "margin": {
         "t": 60
        },
        "template": {
         "data": {
          "bar": [
           {
            "error_x": {
             "color": "#2a3f5f"
            },
            "error_y": {
             "color": "#2a3f5f"
            },
            "marker": {
             "line": {
              "color": "#E5ECF6",
              "width": 0.5
             },
             "pattern": {
              "fillmode": "overlay",
              "size": 10,
              "solidity": 0.2
             }
            },
            "type": "bar"
           }
          ],
          "barpolar": [
           {
            "marker": {
             "line": {
              "color": "#E5ECF6",
              "width": 0.5
             },
             "pattern": {
              "fillmode": "overlay",
              "size": 10,
              "solidity": 0.2
             }
            },
            "type": "barpolar"
           }
          ],
          "carpet": [
           {
            "aaxis": {
             "endlinecolor": "#2a3f5f",
             "gridcolor": "white",
             "linecolor": "white",
             "minorgridcolor": "white",
             "startlinecolor": "#2a3f5f"
            },
            "baxis": {
             "endlinecolor": "#2a3f5f",
             "gridcolor": "white",
             "linecolor": "white",
             "minorgridcolor": "white",
             "startlinecolor": "#2a3f5f"
            },
            "type": "carpet"
           }
          ],
          "choropleth": [
           {
            "colorbar": {
             "outlinewidth": 0,
             "ticks": ""
            },
            "type": "choropleth"
           }
          ],
          "contour": [
           {
            "colorbar": {
             "outlinewidth": 0,
             "ticks": ""
            },
            "colorscale": [
             [
              0,
              "#0d0887"
             ],
             [
              0.1111111111111111,
              "#46039f"
             ],
             [
              0.2222222222222222,
              "#7201a8"
             ],
             [
              0.3333333333333333,
              "#9c179e"
             ],
             [
              0.4444444444444444,
              "#bd3786"
             ],
             [
              0.5555555555555556,
              "#d8576b"
             ],
             [
              0.6666666666666666,
              "#ed7953"
             ],
             [
              0.7777777777777778,
              "#fb9f3a"
             ],
             [
              0.8888888888888888,
              "#fdca26"
             ],
             [
              1,
              "#f0f921"
             ]
            ],
            "type": "contour"
           }
          ],
          "contourcarpet": [
           {
            "colorbar": {
             "outlinewidth": 0,
             "ticks": ""
            },
            "type": "contourcarpet"
           }
          ],
          "heatmap": [
           {
            "colorbar": {
             "outlinewidth": 0,
             "ticks": ""
            },
            "colorscale": [
             [
              0,
              "#0d0887"
             ],
             [
              0.1111111111111111,
              "#46039f"
             ],
             [
              0.2222222222222222,
              "#7201a8"
             ],
             [
              0.3333333333333333,
              "#9c179e"
             ],
             [
              0.4444444444444444,
              "#bd3786"
             ],
             [
              0.5555555555555556,
              "#d8576b"
             ],
             [
              0.6666666666666666,
              "#ed7953"
             ],
             [
              0.7777777777777778,
              "#fb9f3a"
             ],
             [
              0.8888888888888888,
              "#fdca26"
             ],
             [
              1,
              "#f0f921"
             ]
            ],
            "type": "heatmap"
           }
          ],
          "heatmapgl": [
           {
            "colorbar": {
             "outlinewidth": 0,
             "ticks": ""
            },
            "colorscale": [
             [
              0,
              "#0d0887"
             ],
             [
              0.1111111111111111,
              "#46039f"
             ],
             [
              0.2222222222222222,
              "#7201a8"
             ],
             [
              0.3333333333333333,
              "#9c179e"
             ],
             [
              0.4444444444444444,
              "#bd3786"
             ],
             [
              0.5555555555555556,
              "#d8576b"
             ],
             [
              0.6666666666666666,
              "#ed7953"
             ],
             [
              0.7777777777777778,
              "#fb9f3a"
             ],
             [
              0.8888888888888888,
              "#fdca26"
             ],
             [
              1,
              "#f0f921"
             ]
            ],
            "type": "heatmapgl"
           }
          ],
          "histogram": [
           {
            "marker": {
             "pattern": {
              "fillmode": "overlay",
              "size": 10,
              "solidity": 0.2
             }
            },
            "type": "histogram"
           }
          ],
          "histogram2d": [
           {
            "colorbar": {
             "outlinewidth": 0,
             "ticks": ""
            },
            "colorscale": [
             [
              0,
              "#0d0887"
             ],
             [
              0.1111111111111111,
              "#46039f"
             ],
             [
              0.2222222222222222,
              "#7201a8"
             ],
             [
              0.3333333333333333,
              "#9c179e"
             ],
             [
              0.4444444444444444,
              "#bd3786"
             ],
             [
              0.5555555555555556,
              "#d8576b"
             ],
             [
              0.6666666666666666,
              "#ed7953"
             ],
             [
              0.7777777777777778,
              "#fb9f3a"
             ],
             [
              0.8888888888888888,
              "#fdca26"
             ],
             [
              1,
              "#f0f921"
             ]
            ],
            "type": "histogram2d"
           }
          ],
          "histogram2dcontour": [
           {
            "colorbar": {
             "outlinewidth": 0,
             "ticks": ""
            },
            "colorscale": [
             [
              0,
              "#0d0887"
             ],
             [
              0.1111111111111111,
              "#46039f"
             ],
             [
              0.2222222222222222,
              "#7201a8"
             ],
             [
              0.3333333333333333,
              "#9c179e"
             ],
             [
              0.4444444444444444,
              "#bd3786"
             ],
             [
              0.5555555555555556,
              "#d8576b"
             ],
             [
              0.6666666666666666,
              "#ed7953"
             ],
             [
              0.7777777777777778,
              "#fb9f3a"
             ],
             [
              0.8888888888888888,
              "#fdca26"
             ],
             [
              1,
              "#f0f921"
             ]
            ],
            "type": "histogram2dcontour"
           }
          ],
          "mesh3d": [
           {
            "colorbar": {
             "outlinewidth": 0,
             "ticks": ""
            },
            "type": "mesh3d"
           }
          ],
          "parcoords": [
           {
            "line": {
             "colorbar": {
              "outlinewidth": 0,
              "ticks": ""
             }
            },
            "type": "parcoords"
           }
          ],
          "pie": [
           {
            "automargin": true,
            "type": "pie"
           }
          ],
          "scatter": [
           {
            "fillpattern": {
             "fillmode": "overlay",
             "size": 10,
             "solidity": 0.2
            },
            "type": "scatter"
           }
          ],
          "scatter3d": [
           {
            "line": {
             "colorbar": {
              "outlinewidth": 0,
              "ticks": ""
             }
            },
            "marker": {
             "colorbar": {
              "outlinewidth": 0,
              "ticks": ""
             }
            },
            "type": "scatter3d"
           }
          ],
          "scattercarpet": [
           {
            "marker": {
             "colorbar": {
              "outlinewidth": 0,
              "ticks": ""
             }
            },
            "type": "scattercarpet"
           }
          ],
          "scattergeo": [
           {
            "marker": {
             "colorbar": {
              "outlinewidth": 0,
              "ticks": ""
             }
            },
            "type": "scattergeo"
           }
          ],
          "scattergl": [
           {
            "marker": {
             "colorbar": {
              "outlinewidth": 0,
              "ticks": ""
             }
            },
            "type": "scattergl"
           }
          ],
          "scattermapbox": [
           {
            "marker": {
             "colorbar": {
              "outlinewidth": 0,
              "ticks": ""
             }
            },
            "type": "scattermapbox"
           }
          ],
          "scatterpolar": [
           {
            "marker": {
             "colorbar": {
              "outlinewidth": 0,
              "ticks": ""
             }
            },
            "type": "scatterpolar"
           }
          ],
          "scatterpolargl": [
           {
            "marker": {
             "colorbar": {
              "outlinewidth": 0,
              "ticks": ""
             }
            },
            "type": "scatterpolargl"
           }
          ],
          "scatterternary": [
           {
            "marker": {
             "colorbar": {
              "outlinewidth": 0,
              "ticks": ""
             }
            },
            "type": "scatterternary"
           }
          ],
          "surface": [
           {
            "colorbar": {
             "outlinewidth": 0,
             "ticks": ""
            },
            "colorscale": [
             [
              0,
              "#0d0887"
             ],
             [
              0.1111111111111111,
              "#46039f"
             ],
             [
              0.2222222222222222,
              "#7201a8"
             ],
             [
              0.3333333333333333,
              "#9c179e"
             ],
             [
              0.4444444444444444,
              "#bd3786"
             ],
             [
              0.5555555555555556,
              "#d8576b"
             ],
             [
              0.6666666666666666,
              "#ed7953"
             ],
             [
              0.7777777777777778,
              "#fb9f3a"
             ],
             [
              0.8888888888888888,
              "#fdca26"
             ],
             [
              1,
              "#f0f921"
             ]
            ],
            "type": "surface"
           }
          ],
          "table": [
           {
            "cells": {
             "fill": {
              "color": "#EBF0F8"
             },
             "line": {
              "color": "white"
             }
            },
            "header": {
             "fill": {
              "color": "#C8D4E3"
             },
             "line": {
              "color": "white"
             }
            },
            "type": "table"
           }
          ]
         },
         "layout": {
          "annotationdefaults": {
           "arrowcolor": "#2a3f5f",
           "arrowhead": 0,
           "arrowwidth": 1
          },
          "autotypenumbers": "strict",
          "coloraxis": {
           "colorbar": {
            "outlinewidth": 0,
            "ticks": ""
           }
          },
          "colorscale": {
           "diverging": [
            [
             0,
             "#8e0152"
            ],
            [
             0.1,
             "#c51b7d"
            ],
            [
             0.2,
             "#de77ae"
            ],
            [
             0.3,
             "#f1b6da"
            ],
            [
             0.4,
             "#fde0ef"
            ],
            [
             0.5,
             "#f7f7f7"
            ],
            [
             0.6,
             "#e6f5d0"
            ],
            [
             0.7,
             "#b8e186"
            ],
            [
             0.8,
             "#7fbc41"
            ],
            [
             0.9,
             "#4d9221"
            ],
            [
             1,
             "#276419"
            ]
           ],
           "sequential": [
            [
             0,
             "#0d0887"
            ],
            [
             0.1111111111111111,
             "#46039f"
            ],
            [
             0.2222222222222222,
             "#7201a8"
            ],
            [
             0.3333333333333333,
             "#9c179e"
            ],
            [
             0.4444444444444444,
             "#bd3786"
            ],
            [
             0.5555555555555556,
             "#d8576b"
            ],
            [
             0.6666666666666666,
             "#ed7953"
            ],
            [
             0.7777777777777778,
             "#fb9f3a"
            ],
            [
             0.8888888888888888,
             "#fdca26"
            ],
            [
             1,
             "#f0f921"
            ]
           ],
           "sequentialminus": [
            [
             0,
             "#0d0887"
            ],
            [
             0.1111111111111111,
             "#46039f"
            ],
            [
             0.2222222222222222,
             "#7201a8"
            ],
            [
             0.3333333333333333,
             "#9c179e"
            ],
            [
             0.4444444444444444,
             "#bd3786"
            ],
            [
             0.5555555555555556,
             "#d8576b"
            ],
            [
             0.6666666666666666,
             "#ed7953"
            ],
            [
             0.7777777777777778,
             "#fb9f3a"
            ],
            [
             0.8888888888888888,
             "#fdca26"
            ],
            [
             1,
             "#f0f921"
            ]
           ]
          },
          "colorway": [
           "#636efa",
           "#EF553B",
           "#00cc96",
           "#ab63fa",
           "#FFA15A",
           "#19d3f3",
           "#FF6692",
           "#B6E880",
           "#FF97FF",
           "#FECB52"
          ],
          "font": {
           "color": "#2a3f5f"
          },
          "geo": {
           "bgcolor": "white",
           "lakecolor": "white",
           "landcolor": "#E5ECF6",
           "showlakes": true,
           "showland": true,
           "subunitcolor": "white"
          },
          "hoverlabel": {
           "align": "left"
          },
          "hovermode": "closest",
          "mapbox": {
           "style": "light"
          },
          "paper_bgcolor": "white",
          "plot_bgcolor": "#E5ECF6",
          "polar": {
           "angularaxis": {
            "gridcolor": "white",
            "linecolor": "white",
            "ticks": ""
           },
           "bgcolor": "#E5ECF6",
           "radialaxis": {
            "gridcolor": "white",
            "linecolor": "white",
            "ticks": ""
           }
          },
          "scene": {
           "xaxis": {
            "backgroundcolor": "#E5ECF6",
            "gridcolor": "white",
            "gridwidth": 2,
            "linecolor": "white",
            "showbackground": true,
            "ticks": "",
            "zerolinecolor": "white"
           },
           "yaxis": {
            "backgroundcolor": "#E5ECF6",
            "gridcolor": "white",
            "gridwidth": 2,
            "linecolor": "white",
            "showbackground": true,
            "ticks": "",
            "zerolinecolor": "white"
           },
           "zaxis": {
            "backgroundcolor": "#E5ECF6",
            "gridcolor": "white",
            "gridwidth": 2,
            "linecolor": "white",
            "showbackground": true,
            "ticks": "",
            "zerolinecolor": "white"
           }
          },
          "shapedefaults": {
           "line": {
            "color": "#2a3f5f"
           }
          },
          "ternary": {
           "aaxis": {
            "gridcolor": "white",
            "linecolor": "white",
            "ticks": ""
           },
           "baxis": {
            "gridcolor": "white",
            "linecolor": "white",
            "ticks": ""
           },
           "bgcolor": "#E5ECF6",
           "caxis": {
            "gridcolor": "white",
            "linecolor": "white",
            "ticks": ""
           }
          },
          "title": {
           "x": 0.05
          },
          "xaxis": {
           "automargin": true,
           "gridcolor": "white",
           "linecolor": "white",
           "ticks": "",
           "title": {
            "standoff": 15
           },
           "zerolinecolor": "white",
           "zerolinewidth": 2
          },
          "yaxis": {
           "automargin": true,
           "gridcolor": "white",
           "linecolor": "white",
           "ticks": "",
           "title": {
            "standoff": 15
           },
           "zerolinecolor": "white",
           "zerolinewidth": 2
          }
         }
        },
        "xaxis": {
         "anchor": "y",
         "domain": [
          0,
          1
         ],
         "title": {
          "text": "index"
         }
        },
        "yaxis": {
         "anchor": "x",
         "domain": [
          0,
          1
         ],
         "title": {
          "text": "value"
         }
        }
       }
      }
     },
     "metadata": {},
     "output_type": "display_data"
    }
   ],
   "source": [
    "import plotly.express as px\n",
    "\n",
    "df = pd.DataFrame({\"y_true\": y_true, \"y_preds\": y_preds}).head(500)\n",
    "fig = px.line(df, y=[\"y_true\", \"y_preds\"], title='')\n",
    "fig.show()"
   ]
  }
 ],
 "metadata": {
  "kernelspec": {
   "display_name": "venv-sail",
   "language": "python",
   "name": "python3"
  },
  "language_info": {
   "codemirror_mode": {
    "name": "ipython",
    "version": 3
   },
   "file_extension": ".py",
   "mimetype": "text/x-python",
   "name": "python",
   "nbconvert_exporter": "python",
   "pygments_lexer": "ipython3",
   "version": "3.10.10"
  },
  "orig_nbformat": 4
 },
 "nbformat": 4,
 "nbformat_minor": 2
}
