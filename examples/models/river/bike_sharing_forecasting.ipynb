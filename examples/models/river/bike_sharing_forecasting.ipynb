{
 "cells": [
  {
   "cell_type": "code",
   "execution_count": 7,
   "metadata": {},
   "outputs": [],
   "source": [
    "from sail.pipeline import SAILPipeline\n",
    "import numpy as np\n",
    "import pandas as pd\n",
    "from river import datasets, metrics, optim, stats\n",
    "from sail.transformers.river.compose import Select\n",
    "from sail.transformers.river.feature_extraction import TargetAgg\n",
    "from sail.models.river.linear_model import LinearRegression\n",
    "from sail.transformers.river.preprocessing import AdaptiveStandardScaler, StandardScaler\n",
    "from sail.transformers.datetime import EncodeDateTransformer\n",
    "from sail.transformers.column import ColumnNamePrefixTransformer\n",
    "from sail.transformers.number import Polar2CartTransformer"
   ]
  },
  {
   "cell_type": "markdown",
   "metadata": {},
   "source": [
    "### Loading the dataset\n"
   ]
  },
  {
   "cell_type": "code",
   "execution_count": 8,
   "metadata": {},
   "outputs": [],
   "source": [
    "dataset = datasets.Bikes()\n",
    "x, y = [], []\n",
    "for data, label in dataset:\n",
    "    x.append(data)\n",
    "    y.append(label)\n",
    "\n",
    "df = pd.DataFrame(x)\n",
    "df[\"target\"] = y\n",
    "df[\"hour\"] = df.moment.dt.hour\n",
    "\n",
    "X = df.drop([\"moment\"], axis=1)\n",
    "y = df[\"target\"]"
   ]
  },
  {
   "cell_type": "code",
   "execution_count": 9,
   "metadata": {},
   "outputs": [
    {
     "name": "stdout",
     "output_type": "stream",
     "text": [
      "MAE after 0 iterations 0.0\n",
      "MAE after 20000 iterations [4.91369848]\n",
      "MAE after 40000 iterations [5.33356474]\n",
      "MAE after 60000 iterations [5.33099467]\n",
      "MAE after 80000 iterations [5.39232983]\n",
      "MAE after 100000 iterations [5.42310781]\n",
      "MAE after 120000 iterations [5.54129902]\n",
      "MAE after 140000 iterations [5.61305014]\n",
      "MAE after 160000 iterations [5.62248674]\n",
      "MAE after 180000 iterations [5.5678413]\n",
      "Finally, MAE: [5.56392979]\n"
     ]
    }
   ],
   "source": [
    "steps = [\n",
    "    (\"Select\", Select(\"clouds\", \"humidity\", \"pressure\", \"temperature\", \"wind\")),\n",
    "    (\"Scaler\", StandardScaler()),\n",
    "    (\"regressor\", LinearRegression(optimizer=optim.SGD(0.001))),\n",
    "]\n",
    "\n",
    "pipeline = SAILPipeline(steps=steps, scoring=metrics.MAE(), verbosity=0)\n",
    "\n",
    "metric = metrics.MAE()\n",
    "\n",
    "batch_size = 1\n",
    "for start in range(0, df.shape[0], batch_size):\n",
    "    end = start + batch_size\n",
    "    X_train = df.iloc[start:end]\n",
    "    y_train = y.iloc[start:end]\n",
    "\n",
    "    if start > 0:\n",
    "        # Predicting\n",
    "        yhat = pipeline.predict(X_train)\n",
    "\n",
    "        # Update the metric\n",
    "        metric.update(y_train.to_numpy(), yhat)\n",
    "\n",
    "    # Partially fitting the model\n",
    "    model = pipeline.partial_fit(X_train, y_train)\n",
    "\n",
    "    if start % 20000 == 0:\n",
    "        print(\"MAE after\", start, \"iterations\", metric.get())\n",
    "\n",
    "print(\"Finally, MAE:\", metric.get())"
   ]
  },
  {
   "cell_type": "code",
   "execution_count": 10,
   "metadata": {},
   "outputs": [
    {
     "data": {
      "text/plain": [
       "5.56392979004822"
      ]
     },
     "execution_count": 10,
     "metadata": {},
     "output_type": "execute_result"
    }
   ],
   "source": [
    "pipeline.get_progressive_score"
   ]
  },
  {
   "cell_type": "code",
   "execution_count": null,
   "metadata": {},
   "outputs": [],
   "source": [
    "# new_steps = [\n",
    "#     (\n",
    "#         \"aggregation\",\n",
    "#         ColumnTransformer(\n",
    "#             [\n",
    "#                 (\n",
    "#                     \"Select\",\n",
    "#                     \"passthrough\",\n",
    "#                     [\"clouds\", \"humidity\", \"pressure\", \"temperature\", \"wind\"],\n",
    "#                 ),\n",
    "#                 (\n",
    "#                     \"TargetAgg\",\n",
    "#                     TargetAgg(\n",
    "#                         by=[\"station\", \"hour\"],\n",
    "#                         how=stats.Mean(),\n",
    "#                     ),\n",
    "#                     [\"station\", \"hour\"],\n",
    "#                 ),\n",
    "#             ],\n",
    "#             verbose_feature_names_out=False,\n",
    "#             remainder=\"drop\",\n",
    "#         ),\n",
    "#     ),\n",
    "#     (\"Scaler\", StandardScaler()),\n",
    "#     (\"regressor\", LinearRegression(optimizer=optim.SGD(0.001))),\n",
    "# ]"
   ]
  }
 ],
 "metadata": {
  "kernelspec": {
   "display_name": "sail",
   "language": "python",
   "name": "python3"
  },
  "language_info": {
   "codemirror_mode": {
    "name": "ipython",
    "version": 3
   },
   "file_extension": ".py",
   "mimetype": "text/x-python",
   "name": "python",
   "nbconvert_exporter": "python",
   "pygments_lexer": "ipython3",
   "version": "3.10.10"
  },
  "orig_nbformat": 4
 },
 "nbformat": 4,
 "nbformat_minor": 2
}
