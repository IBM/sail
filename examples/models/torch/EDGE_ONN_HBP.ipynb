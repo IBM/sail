{
 "cells": [
  {
   "cell_type": "code",
   "execution_count": 1,
   "id": "8a20ef46",
   "metadata": {},
   "outputs": [],
   "source": [
    "# Implementation for Hedge Backpropagation Feed Forward Network for Classification\n",
    "# Original code in Theano https://github.com/LIBOL/ODL\n",
    "# Paper https://www.ijcai.org/proceedings/2018/369\n",
    "#\n",
    "# By Carlos Muniz Cuza and Jonas Brusokas"
   ]
  },
  {
   "cell_type": "code",
   "execution_count": 35,
   "id": "011c86ab",
   "metadata": {},
   "outputs": [],
   "source": [
    "from sail.models.torch.onn_hbp import ONNHBPClassifier, _ONNHBPModel\n",
    "from sklearn.model_selection import train_test_split\n",
    "from sklearn.preprocessing import StandardScaler\n",
    "from sklearn.datasets import make_classification\n",
    "from sklearn.datasets import load_iris\n",
    "from sklearn.utils import gen_batches\n",
    "import numpy as np\n",
    "import torch"
   ]
  },
  {
   "cell_type": "markdown",
   "source": [
    "### 1. Create dataset for classification"
   ],
   "metadata": {
    "collapsed": false,
    "pycharm": {
     "name": "#%% md\n"
    }
   }
  },
  {
   "cell_type": "code",
   "execution_count": 36,
   "outputs": [],
   "source": [
    "n_data_points = 40\n",
    "n_features = 15\n",
    "n_classes = 5\n",
    "\n",
    "X, y = make_classification(n_samples=n_data_points,\n",
    "                           n_features=n_features,\n",
    "                           n_informative=n_classes,\n",
    "                           random_state=0,\n",
    "                           n_classes=n_classes,\n",
    "                           n_clusters_per_class=1)"
   ],
   "metadata": {
    "collapsed": false,
    "pycharm": {
     "name": "#%%\n"
    }
   }
  },
  {
   "cell_type": "markdown",
   "id": "4aade475",
   "metadata": {},
   "source": [
    "### 2. Import and check that the model works."
   ]
  },
  {
   "cell_type": "code",
   "execution_count": 37,
   "id": "32738ced",
   "metadata": {},
   "outputs": [
    {
     "name": "stdout",
     "output_type": "stream",
     "text": [
      "tensor([[0.2028, 0.2119, 0.1731, 0.2008, 0.2113],\n",
      "        [0.2174, 0.2008, 0.1867, 0.1922, 0.2029],\n",
      "        [0.2112, 0.2137, 0.1833, 0.1911, 0.2006],\n",
      "        [0.1812, 0.2151, 0.1379, 0.1811, 0.2846],\n",
      "        [0.2068, 0.2109, 0.1998, 0.1806, 0.2018],\n",
      "        [0.1688, 0.2421, 0.1295, 0.1934, 0.2662],\n",
      "        [0.2279, 0.1915, 0.1990, 0.1921, 0.1896],\n",
      "        [0.1972, 0.2105, 0.1696, 0.1980, 0.2247],\n",
      "        [0.1904, 0.2384, 0.1591, 0.1908, 0.2213],\n",
      "        [0.2499, 0.1884, 0.1747, 0.2038, 0.1832],\n",
      "        [0.1886, 0.2287, 0.1712, 0.1905, 0.2209],\n",
      "        [0.2206, 0.2029, 0.1614, 0.1784, 0.2367],\n",
      "        [0.2196, 0.2187, 0.1439, 0.1663, 0.2516],\n",
      "        [0.2143, 0.2108, 0.1671, 0.2144, 0.1935],\n",
      "        [0.2026, 0.2315, 0.1474, 0.1899, 0.2286],\n",
      "        [0.2032, 0.2352, 0.1026, 0.1640, 0.2950],\n",
      "        [0.2026, 0.2234, 0.1760, 0.1980, 0.2001],\n",
      "        [0.2393, 0.1916, 0.1684, 0.1944, 0.2063],\n",
      "        [0.1923, 0.2010, 0.2037, 0.1823, 0.2207],\n",
      "        [0.2161, 0.1852, 0.2002, 0.2029, 0.1955],\n",
      "        [0.2248, 0.2007, 0.1689, 0.1900, 0.2156],\n",
      "        [0.1934, 0.2422, 0.1080, 0.1634, 0.2931],\n",
      "        [0.2318, 0.1937, 0.1767, 0.1895, 0.2082],\n",
      "        [0.1895, 0.2318, 0.1475, 0.1883, 0.2428],\n",
      "        [0.2124, 0.2070, 0.1733, 0.1889, 0.2183],\n",
      "        [0.2127, 0.1854, 0.2017, 0.1874, 0.2128],\n",
      "        [0.1977, 0.2192, 0.1668, 0.1933, 0.2229],\n",
      "        [0.2148, 0.2070, 0.1876, 0.1843, 0.2063],\n",
      "        [0.2270, 0.1943, 0.1850, 0.2075, 0.1862],\n",
      "        [0.1994, 0.2306, 0.1416, 0.1749, 0.2536],\n",
      "        [0.1973, 0.2372, 0.1309, 0.1920, 0.2426],\n",
      "        [0.1997, 0.2368, 0.1684, 0.2018, 0.1935],\n",
      "        [0.2330, 0.2296, 0.1386, 0.1710, 0.2278],\n",
      "        [0.2126, 0.2397, 0.1380, 0.1688, 0.2410],\n",
      "        [0.2377, 0.1957, 0.1705, 0.2001, 0.1960],\n",
      "        [0.2270, 0.2134, 0.1636, 0.1831, 0.2130],\n",
      "        [0.1882, 0.2311, 0.1262, 0.1936, 0.2608],\n",
      "        [0.2295, 0.1850, 0.1909, 0.2055, 0.1891],\n",
      "        [0.2094, 0.2072, 0.1861, 0.1975, 0.1998],\n",
      "        [0.2082, 0.2068, 0.2014, 0.1824, 0.2011]], grad_fn=<SoftmaxBackward0>)\n"
     ]
    }
   ],
   "source": [
    "ffn_hidden_units = 16\n",
    "n_hidden_layers = 2\n",
    "\n",
    "model = _ONNHBPModel(input_units=n_features,\n",
    "                     output_units=n_classes,\n",
    "                     hidden_units=ffn_hidden_units,\n",
    "                     n_hidden_layers=n_hidden_layers)\n",
    "\n",
    "output = model(X)\n",
    "print(output)"
   ]
  },
  {
   "cell_type": "markdown",
   "source": [
    "### 3. Check skorch"
   ],
   "metadata": {
    "collapsed": false,
    "pycharm": {
     "name": "#%% md\n"
    }
   }
  },
  {
   "cell_type": "code",
   "execution_count": 38,
   "id": "a3ab038f",
   "metadata": {},
   "outputs": [
    {
     "name": "stdout",
     "output_type": "stream",
     "text": [
      "  epoch    train_loss    valid_acc    valid_loss     dur\n",
      "-------  ------------  -----------  ------------  ------\n",
      "      1        \u001B[36m1.7685\u001B[0m       \u001B[32m0.0000\u001B[0m        \u001B[35m1.7679\u001B[0m  0.0030\n",
      "<class 'sail.models.torch.onn_hbp.ONNHBPClassifier'>[initialized](\n",
      "  module_=_ONNHBPModel(\n",
      "    (hidden_layers): ModuleList(\n",
      "      (0): Linear(in_features=15, out_features=16, bias=True)\n",
      "      (1): Linear(in_features=16, out_features=16, bias=True)\n",
      "    )\n",
      "    (output_layers): ModuleList(\n",
      "      (0): Linear(in_features=16, out_features=5, bias=True)\n",
      "      (1): Linear(in_features=16, out_features=5, bias=True)\n",
      "    )\n",
      "    (do): Dropout(p=0.2, inplace=False)\n",
      "    (actfn): ReLU()\n",
      "  ),\n",
      ")\n",
      "[2 4 4 4 1 4 2 4 4 4 4 4 4 4 4 3 2 4 4 4 2 0 4 4 4 4 4 4 2 4 4 4 4 4 4 4 4\n",
      " 4 2 2]\n"
     ]
    }
   ],
   "source": [
    "model_skorch = ONNHBPClassifier(input_units=n_features,\n",
    "                                 output_units=n_classes,\n",
    "                                 hidden_units=ffn_hidden_units,\n",
    "                                 n_hidden_layers=n_hidden_layers)\n",
    "\n",
    "partial_fit = model_skorch.partial_fit(X,y)\n",
    "print(partial_fit)\n",
    "predict = model_skorch.predict(X)\n",
    "print(predict)"
   ]
  },
  {
   "cell_type": "markdown",
   "id": "3d398e54",
   "metadata": {},
   "source": [
    "### 2. Load the Iris dataset"
   ]
  },
  {
   "cell_type": "code",
   "execution_count": 39,
   "id": "fdbf8069",
   "metadata": {},
   "outputs": [],
   "source": [
    "iris = load_iris()\n",
    "X = iris['data']\n",
    "y = iris['target']\n",
    "names = iris['target_names']\n",
    "feature_names = iris['feature_names']\n",
    "\n",
    "# Scale data to have mean 0 and variance 1\n",
    "# which is importance for convergence of the neural network\n",
    "scaler = StandardScaler()\n",
    "X_scaled = scaler.fit_transform(X)\n",
    "\n",
    "# Split the data set into training and testing\n",
    "X_train, X_test, y_train, y_test = train_test_split(\n",
    "    X_scaled, y, test_size=0.2, random_state=2)"
   ]
  },
  {
   "cell_type": "markdown",
   "id": "1c438a51",
   "metadata": {},
   "source": [
    "### 3. Train and test ONN on Iris dataset"
   ]
  },
  {
   "cell_type": "code",
   "execution_count": 40,
   "id": "ec8adb44",
   "metadata": {
    "pycharm": {
     "name": "#%%\n"
    }
   },
   "outputs": [
    {
     "name": "stdout",
     "output_type": "stream",
     "text": [
      "  epoch    train_loss    valid_acc    valid_loss     dur\n",
      "-------  ------------  -----------  ------------  ------\n",
      "      1        \u001B[36m1.1316\u001B[0m       \u001B[32m0.1667\u001B[0m        \u001B[35m1.1229\u001B[0m  0.0044\n",
      "      2        \u001B[36m1.1293\u001B[0m       0.1667        \u001B[35m1.1200\u001B[0m  0.0055\n",
      "      3        \u001B[36m1.1262\u001B[0m       0.1667        \u001B[35m1.1171\u001B[0m  0.0053\n",
      "      4        \u001B[36m1.1231\u001B[0m       0.1667        \u001B[35m1.1142\u001B[0m  0.0045\n",
      "      5        \u001B[36m1.1201\u001B[0m       0.1667        \u001B[35m1.1114\u001B[0m  0.0047\n",
      "Accuracy on the test data 0.1\n"
     ]
    }
   ],
   "source": [
    "n_features = X_train.shape[1]\n",
    "n_classes = np.unique(y_test).shape[0]\n",
    "ffn_hidden_units = 50\n",
    "n_hidden_layers = 3\n",
    "\n",
    "model_skorch = ONNHBPClassifier(input_units=n_features,\n",
    "                                 output_units=n_classes,\n",
    "                                 hidden_units=ffn_hidden_units,\n",
    "                                 n_hidden_layers=n_hidden_layers)\n",
    "partial_fit = None\n",
    "for i in range(0,5):\n",
    "    partial_fit = model_skorch.partial_fit(X_train, y_train)\n",
    "\n",
    "print('Accuracy on the test data', partial_fit.score(X_test, y_test))"
   ]
  },
  {
   "cell_type": "markdown",
   "source": [
    "### 4. Mini-batch training."
   ],
   "metadata": {
    "collapsed": false
   }
  },
  {
   "cell_type": "code",
   "execution_count": 41,
   "outputs": [
    {
     "name": "stdout",
     "output_type": "stream",
     "text": [
      "  epoch    train_loss    valid_acc    valid_loss     dur\n",
      "-------  ------------  -----------  ------------  ------\n",
      "      1        \u001B[36m1.0839\u001B[0m       \u001B[32m0.7500\u001B[0m        \u001B[35m1.0656\u001B[0m  0.0040\n",
      "      2        \u001B[36m1.0649\u001B[0m       0.7500        \u001B[35m1.0500\u001B[0m  0.0040\n",
      "      3        1.0705       0.5000        1.0944  0.0041\n",
      "      4        \u001B[36m1.0624\u001B[0m       0.7500        1.0834  0.0037\n",
      "      5        1.0896       0.2500        1.1075  0.0050\n",
      "      6        \u001B[36m1.0624\u001B[0m       0.7500        1.0618  0.0045\n",
      "0.7\n"
     ]
    },
    {
     "name": "stderr",
     "output_type": "stream",
     "text": [
      "/usr/local/anaconda3/envs/imla/lib/python3.8/site-packages/sklearn/model_selection/_split.py:676: UserWarning: The least populated class in y has only 4 members, which is less than n_splits=5.\n",
      "  warnings.warn(\n",
      "/usr/local/anaconda3/envs/imla/lib/python3.8/site-packages/sklearn/model_selection/_split.py:676: UserWarning: The least populated class in y has only 3 members, which is less than n_splits=5.\n",
      "  warnings.warn(\n"
     ]
    }
   ],
   "source": [
    "batch_size = 20\n",
    "\n",
    "model_skorch = ONNHBPClassifier(input_units=n_features,\n",
    "                                 output_units=n_classes,\n",
    "                                 hidden_units=ffn_hidden_units,\n",
    "                                 n_hidden_layers=n_hidden_layers)\n",
    "\n",
    "for batch in gen_batches(X_train.shape[0], batch_size):\n",
    "    x_batch = X_train[batch]\n",
    "    y_batch = y_train[batch]\n",
    "    partial_fit = model_skorch.partial_fit(x_batch, y_batch)\n",
    "\n",
    "predict = model_skorch.predict(X_test)\n",
    "\n",
    "print(partial_fit.score(X_test, y_test))"
   ],
   "metadata": {
    "collapsed": false,
    "pycharm": {
     "name": "#%%\n"
    }
   }
  },
  {
   "cell_type": "markdown",
   "source": [
    "### 5. Improving the results.\n",
    "Note, the results of doing mini batch learning are very bad. This is because we only do one single epoch. An easy way to improve this is by running partial fit for each mini-batch several times, i.e, multiple epochs."
   ],
   "metadata": {
    "collapsed": false
   }
  },
  {
   "cell_type": "code",
   "execution_count": 42,
   "outputs": [
    {
     "name": "stdout",
     "output_type": "stream",
     "text": [
      "      7        1.0761       0.7500        1.0581  0.0040\n",
      "      8        1.0671       0.7500        1.0644  0.0041\n",
      "      9        1.0706       0.5000        1.0645  0.0043\n",
      "     10        \u001B[36m1.0427\u001B[0m       0.7500        1.0555  0.0032\n",
      "     11        1.0671       0.7500        1.0602  0.0037\n",
      "     12        1.0587       0.5000        1.0611  0.0046\n",
      "     13        1.0530       0.5000        1.0627  0.0042\n",
      "     14        1.0692       0.5000        1.0713  0.0050\n",
      "     15        1.0647       0.7500        \u001B[35m1.0417\u001B[0m  0.0042\n",
      "     16        1.0469       0.7500        \u001B[35m1.0326\u001B[0m  0.0069\n",
      "     17        1.0596       0.5000        1.0672  0.0036\n",
      "     18        1.0662       0.7500        \u001B[35m1.0301\u001B[0m  0.0050\n",
      "     19        1.0458       0.5000        1.0885  0.0035\n",
      "     20        1.0548       0.7500        1.0331  0.0042\n",
      "     21        1.0516       0.7500        \u001B[35m1.0218\u001B[0m  0.0042\n",
      "     22        1.0622       0.7500        1.0266  0.0042\n",
      "     23        1.0532       0.7500        1.0404  0.0036\n",
      "     24        1.0479       0.5000        1.0531  0.0045\n",
      "     25        1.0430       0.7500        1.0296  0.0041\n",
      "     26        1.0443       0.7500        1.0310  0.0040\n",
      "     27        1.0630       0.5000        1.0910  0.0039\n",
      "     28        1.0458       0.5000        1.0589  0.0041\n"
     ]
    },
    {
     "name": "stderr",
     "output_type": "stream",
     "text": [
      "/usr/local/anaconda3/envs/imla/lib/python3.8/site-packages/sklearn/model_selection/_split.py:676: UserWarning: The least populated class in y has only 4 members, which is less than n_splits=5.\n",
      "  warnings.warn(\n",
      "/usr/local/anaconda3/envs/imla/lib/python3.8/site-packages/sklearn/model_selection/_split.py:676: UserWarning: The least populated class in y has only 4 members, which is less than n_splits=5.\n",
      "  warnings.warn(\n",
      "/usr/local/anaconda3/envs/imla/lib/python3.8/site-packages/sklearn/model_selection/_split.py:676: UserWarning: The least populated class in y has only 4 members, which is less than n_splits=5.\n",
      "  warnings.warn(\n",
      "/usr/local/anaconda3/envs/imla/lib/python3.8/site-packages/sklearn/model_selection/_split.py:676: UserWarning: The least populated class in y has only 4 members, which is less than n_splits=5.\n",
      "  warnings.warn(\n",
      "/usr/local/anaconda3/envs/imla/lib/python3.8/site-packages/sklearn/model_selection/_split.py:676: UserWarning: The least populated class in y has only 4 members, which is less than n_splits=5.\n",
      "  warnings.warn(\n",
      "/usr/local/anaconda3/envs/imla/lib/python3.8/site-packages/sklearn/model_selection/_split.py:676: UserWarning: The least populated class in y has only 3 members, which is less than n_splits=5.\n",
      "  warnings.warn(\n",
      "/usr/local/anaconda3/envs/imla/lib/python3.8/site-packages/sklearn/model_selection/_split.py:676: UserWarning: The least populated class in y has only 2 members, which is less than n_splits=5.\n",
      "  warnings.warn(\n",
      "/usr/local/anaconda3/envs/imla/lib/python3.8/site-packages/sklearn/model_selection/_split.py:676: UserWarning: The least populated class in y has only 3 members, which is less than n_splits=5.\n",
      "  warnings.warn(\n"
     ]
    },
    {
     "name": "stdout",
     "output_type": "stream",
     "text": [
      "     29        1.0484       0.2500        1.0807  0.0047\n",
      "     30        \u001B[36m1.0376\u001B[0m       0.7500        \u001B[35m1.0128\u001B[0m  0.0044\n",
      "     31        1.0407       0.7500        1.0133  0.0042\n",
      "     32        1.0487       0.7500        1.0355  0.0047\n",
      "     33        1.0502       0.7500        1.0287  0.0049\n",
      "     34        \u001B[36m1.0193\u001B[0m       0.5000        1.0495  0.0043\n",
      "     35        \u001B[36m1.0169\u001B[0m       0.5000        1.0395  0.0041\n",
      "     36        1.0504       0.7500        \u001B[35m0.9984\u001B[0m  0.0044\n",
      "     37        1.0332       0.7500        1.0347  0.0046\n"
     ]
    },
    {
     "name": "stderr",
     "output_type": "stream",
     "text": [
      "/usr/local/anaconda3/envs/imla/lib/python3.8/site-packages/sklearn/model_selection/_split.py:676: UserWarning: The least populated class in y has only 3 members, which is less than n_splits=5.\n",
      "  warnings.warn(\n",
      "/usr/local/anaconda3/envs/imla/lib/python3.8/site-packages/sklearn/model_selection/_split.py:676: UserWarning: The least populated class in y has only 4 members, which is less than n_splits=5.\n",
      "  warnings.warn(\n",
      "/usr/local/anaconda3/envs/imla/lib/python3.8/site-packages/sklearn/model_selection/_split.py:676: UserWarning: The least populated class in y has only 4 members, which is less than n_splits=5.\n",
      "  warnings.warn(\n"
     ]
    },
    {
     "name": "stdout",
     "output_type": "stream",
     "text": [
      "     38        1.0254       0.7500        1.0412  0.0048\n",
      "     39        1.0400       0.7500        0.9988  0.0041\n",
      "     40        1.0463       0.5000        1.0451  0.0039\n",
      "     41        1.0432       0.7500        1.0092  0.0042\n",
      "     42        1.0205       0.5000        1.0473  0.0041\n",
      "     43        1.0170       0.7500        1.0506  0.0050\n",
      "     44        \u001B[36m1.0070\u001B[0m       0.7500        1.0206  0.0052\n",
      "     45        1.0265       0.7500        1.0172  0.0036\n",
      "     46        1.0177       0.7500        1.0043  0.0042\n",
      "     47        1.0273       0.5000        1.0458  0.0038\n",
      "     48        1.0331       \u001B[32m1.0000\u001B[0m        \u001B[35m0.9978\u001B[0m  0.0039\n",
      "     49        \u001B[36m1.0044\u001B[0m       0.7500        1.0033  0.0038\n",
      "     50        1.0169       0.5000        1.0309  0.0039\n",
      "     51        1.0281       0.5000        1.0220  0.0040\n",
      "     52        1.0265       1.0000        1.0044  0.0043\n",
      "     53        1.0151       0.7500        \u001B[35m0.9770\u001B[0m  0.0035\n",
      "     54        \u001B[36m0.9938\u001B[0m       1.0000        \u001B[35m0.9693\u001B[0m  0.0036\n",
      "     55        1.0226       0.7500        1.0380  0.0042\n",
      "     56        1.0213       0.5000        1.0232  0.0045\n",
      "     57        1.0034       1.0000        0.9729  0.0041\n",
      "     58        1.0117       0.5000        1.0138  0.0045\n",
      "     59        1.0211       0.5000        1.0639  0.0035\n",
      "     60        1.0129       0.7500        1.0298  0.0041\n"
     ]
    },
    {
     "name": "stderr",
     "output_type": "stream",
     "text": [
      "/usr/local/anaconda3/envs/imla/lib/python3.8/site-packages/sklearn/model_selection/_split.py:676: UserWarning: The least populated class in y has only 4 members, which is less than n_splits=5.\n",
      "  warnings.warn(\n",
      "/usr/local/anaconda3/envs/imla/lib/python3.8/site-packages/sklearn/model_selection/_split.py:676: UserWarning: The least populated class in y has only 3 members, which is less than n_splits=5.\n",
      "  warnings.warn(\n",
      "/usr/local/anaconda3/envs/imla/lib/python3.8/site-packages/sklearn/model_selection/_split.py:676: UserWarning: The least populated class in y has only 4 members, which is less than n_splits=5.\n",
      "  warnings.warn(\n",
      "/usr/local/anaconda3/envs/imla/lib/python3.8/site-packages/sklearn/model_selection/_split.py:676: UserWarning: The least populated class in y has only 4 members, which is less than n_splits=5.\n",
      "  warnings.warn(\n",
      "/usr/local/anaconda3/envs/imla/lib/python3.8/site-packages/sklearn/model_selection/_split.py:676: UserWarning: The least populated class in y has only 4 members, which is less than n_splits=5.\n",
      "  warnings.warn(\n",
      "/usr/local/anaconda3/envs/imla/lib/python3.8/site-packages/sklearn/model_selection/_split.py:676: UserWarning: The least populated class in y has only 4 members, which is less than n_splits=5.\n",
      "  warnings.warn(\n",
      "/usr/local/anaconda3/envs/imla/lib/python3.8/site-packages/sklearn/model_selection/_split.py:676: UserWarning: The least populated class in y has only 4 members, which is less than n_splits=5.\n",
      "  warnings.warn(\n",
      "/usr/local/anaconda3/envs/imla/lib/python3.8/site-packages/sklearn/model_selection/_split.py:676: UserWarning: The least populated class in y has only 4 members, which is less than n_splits=5.\n",
      "  warnings.warn(\n"
     ]
    },
    {
     "name": "stdout",
     "output_type": "stream",
     "text": [
      "     61        1.0123       0.7500        0.9853  0.0062\n",
      "     62        1.0108       0.7500        1.0003  0.0036\n",
      "     63        0.9969       1.0000        0.9955  0.0039\n",
      "     64        1.0109       0.5000        1.0201  0.0041\n",
      "     65        0.9995       0.5000        0.9979  0.0037\n",
      "     66        1.0151       0.7500        0.9780  0.0050\n",
      "Accuracy after 10 epochs 0.7666666666666667\n"
     ]
    }
   ],
   "source": [
    "for _ in range(10): # n_epochs\n",
    "    for batch in gen_batches(X_train.shape[0], batch_size):\n",
    "        x_batch = X_train[batch]\n",
    "        y_batch = y_train[batch]\n",
    "        partial_fit = model_skorch.partial_fit(x_batch, y_batch)\n",
    "        # Shuffling the dataset\n",
    "        permutation = torch.randperm(X_train.shape[0])\n",
    "        X_train = X_train[permutation]\n",
    "        y_train = y_train[permutation]\n",
    "\n",
    "# Note how the results improved considerably\n",
    "print('Accuracy after 10 epochs', partial_fit.score(X_test, y_test))"
   ],
   "metadata": {
    "collapsed": false,
    "pycharm": {
     "name": "#%%\n"
    }
   }
  },
  {
   "cell_type": "markdown",
   "source": [
    "## Training and testing simultaneously, one example at the time"
   ],
   "metadata": {
    "collapsed": false,
    "pycharm": {
     "name": "#%% md\n"
    }
   }
  },
  {
   "cell_type": "code",
   "execution_count": 43,
   "outputs": [
    {
     "name": "stdout",
     "output_type": "stream",
     "text": [
      "Training and testing finished.\n",
      "Final accuracy after 3500 samples: 0.9633333333333334\n",
      "Online Accuracy at time 0/3500: 0.05733333333333333\n",
      "Online Accuracy at time 1000/3500: 0.9746666666666667\n",
      "Online Accuracy at time 2000/3500: 0.98\n",
      "Online Accuracy at time 3000/3500: 0.9806666666666667\n",
      "Training and testing finished.\n",
      "Final accuracy after 3500 samples: 0.9793333333333333\n"
     ]
    }
   ],
   "source": [
    "X, Y = make_classification(n_samples=5000, n_features=10, n_informative=4, n_redundant=0, n_classes=10,\n",
    "                           n_clusters_per_class=1, class_sep=3)\n",
    "\n",
    "X_train, X_test, y_train, y_test = train_test_split(X, Y, test_size=0.3, random_state=42, shuffle=True)\n",
    "\n",
    "onn_network = ONNHBPClassifier(input_units=10,\n",
    "                                output_units=10,\n",
    "                                hidden_units=40,\n",
    "                                n_hidden_layers=5,\n",
    "                                train_split=None,\n",
    "                                verbose=0\n",
    "                                )\n",
    "\n",
    "n_training_samples = len(X_train)\n",
    "for i in range(n_training_samples):\n",
    "  partial_fit = onn_network.partial_fit(np.asarray([X_train[i, :]]), np.asarray([y_train[i]]))\n",
    "\n",
    "  if i % 1000 == 0:\n",
    "    print(\"Online Accuracy at time {}/{}: {}\".format(i, n_training_samples, partial_fit.score(X_test, y_test)))\n",
    "\n",
    "print('Training and testing finished.\\nFinal accuracy after {} samples: {}'.format(n_training_samples, partial_fit.score(X_test, y_test)))"
   ],
   "metadata": {
    "collapsed": false,
    "pycharm": {
     "name": "#%%\n"
    }
   }
  }
 ],
 "metadata": {
  "kernelspec": {
   "name": "conda-env-imla-py",
   "language": "python",
   "display_name": "Python [conda env:imla] *"
  },
  "language_info": {
   "codemirror_mode": {
    "name": "ipython",
    "version": 3
   },
   "file_extension": ".py",
   "mimetype": "text/x-python",
   "name": "python",
   "nbconvert_exporter": "python",
   "pygments_lexer": "ipython3",
   "version": "3.9.7"
  }
 },
 "nbformat": 4,
 "nbformat_minor": 5
}