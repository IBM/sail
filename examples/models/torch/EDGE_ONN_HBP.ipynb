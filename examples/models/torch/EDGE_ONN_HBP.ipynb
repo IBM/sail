{
 "cells": [
  {
   "cell_type": "code",
   "execution_count": 1,
   "id": "8a20ef46",
   "metadata": {},
   "outputs": [],
   "source": [
    "# Implementation for Hedge Backpropagation Feed Forward Network for Classification\n",
    "# Original code in Theano https://github.com/LIBOL/ODL\n",
    "# Paper https://www.ijcai.org/proceedings/2018/369\n",
    "#\n",
    "# By Carlos Muniz Cuza and Jonas Brusokas"
   ]
  },
  {
   "cell_type": "code",
   "execution_count": 1,
   "id": "011c86ab",
   "metadata": {},
   "outputs": [],
   "source": [
    "from sail.models.torch.onn_hbp import ONNHBPClassifier, _ONNHBPModel\n",
    "from sklearn.model_selection import train_test_split\n",
    "from sklearn.preprocessing import StandardScaler\n",
    "from sklearn.datasets import make_classification\n",
    "from sklearn.datasets import load_iris\n",
    "from sklearn.utils import gen_batches\n",
    "import numpy as np\n",
    "import torch"
   ]
  },
  {
   "cell_type": "markdown",
   "metadata": {
    "collapsed": false,
    "pycharm": {
     "name": "#%% md\n"
    }
   },
   "source": [
    "### 1. Create dataset for classification"
   ]
  },
  {
   "cell_type": "code",
   "execution_count": 2,
   "metadata": {
    "collapsed": false,
    "pycharm": {
     "name": "#%%\n"
    }
   },
   "outputs": [],
   "source": [
    "n_data_points = 40\n",
    "n_features = 15\n",
    "n_classes = 5\n",
    "\n",
    "X, y = make_classification(n_samples=n_data_points,\n",
    "                           n_features=n_features,\n",
    "                           n_informative=n_classes,\n",
    "                           random_state=0,\n",
    "                           n_classes=n_classes,\n",
    "                           n_clusters_per_class=1)"
   ]
  },
  {
   "cell_type": "markdown",
   "id": "4aade475",
   "metadata": {},
   "source": [
    "### 2. Import and check that the model works."
   ]
  },
  {
   "cell_type": "code",
   "execution_count": 3,
   "id": "32738ced",
   "metadata": {},
   "outputs": [
    {
     "name": "stdout",
     "output_type": "stream",
     "text": [
      "tensor([[0.2116, 0.2062, 0.1967, 0.1779, 0.2076],\n",
      "        [0.2117, 0.1961, 0.1889, 0.1718, 0.2315],\n",
      "        [0.2109, 0.2256, 0.1873, 0.1811, 0.1951],\n",
      "        [0.3190, 0.1672, 0.1347, 0.2030, 0.1762],\n",
      "        [0.1945, 0.2129, 0.1792, 0.1830, 0.2304],\n",
      "        [0.3141, 0.2072, 0.1443, 0.1880, 0.1464],\n",
      "        [0.2111, 0.2063, 0.1856, 0.1732, 0.2239],\n",
      "        [0.2336, 0.2156, 0.1737, 0.1904, 0.1868],\n",
      "        [0.2515, 0.2115, 0.1750, 0.1798, 0.1822],\n",
      "        [0.1954, 0.2239, 0.1939, 0.1767, 0.2100],\n",
      "        [0.2230, 0.2158, 0.1808, 0.1869, 0.1934],\n",
      "        [0.2809, 0.1736, 0.1598, 0.1945, 0.1912],\n",
      "        [0.2528, 0.2040, 0.1729, 0.1836, 0.1867],\n",
      "        [0.2434, 0.2121, 0.1826, 0.1662, 0.1957],\n",
      "        [0.2164, 0.2112, 0.1817, 0.1829, 0.2077],\n",
      "        [0.3155, 0.1824, 0.1458, 0.1908, 0.1655],\n",
      "        [0.2168, 0.2082, 0.1922, 0.1770, 0.2059],\n",
      "        [0.1856, 0.2151, 0.2069, 0.1703, 0.2221],\n",
      "        [0.1916, 0.2130, 0.2068, 0.1745, 0.2141],\n",
      "        [0.2249, 0.2075, 0.1997, 0.1767, 0.1912],\n",
      "        [0.1989, 0.2095, 0.1959, 0.1762, 0.2195],\n",
      "        [0.2968, 0.1718, 0.1432, 0.1866, 0.2015],\n",
      "        [0.1858, 0.2145, 0.2123, 0.1733, 0.2141],\n",
      "        [0.2675, 0.1896, 0.1633, 0.1960, 0.1837],\n",
      "        [0.2515, 0.2153, 0.1605, 0.1909, 0.1818],\n",
      "        [0.2223, 0.2236, 0.1757, 0.1822, 0.1962],\n",
      "        [0.2295, 0.2037, 0.1784, 0.1854, 0.2030],\n",
      "        [0.1952, 0.2108, 0.1950, 0.1833, 0.2157],\n",
      "        [0.2015, 0.2014, 0.1902, 0.1781, 0.2288],\n",
      "        [0.2678, 0.2064, 0.1705, 0.1748, 0.1806],\n",
      "        [0.2735, 0.1958, 0.1592, 0.1895, 0.1821],\n",
      "        [0.2076, 0.2238, 0.1912, 0.1813, 0.1962],\n",
      "        [0.2308, 0.1993, 0.1789, 0.1888, 0.2022],\n",
      "        [0.2425, 0.2108, 0.1813, 0.1760, 0.1895],\n",
      "        [0.2330, 0.2250, 0.1680, 0.1745, 0.1995],\n",
      "        [0.1990, 0.2185, 0.1906, 0.1813, 0.2106],\n",
      "        [0.2883, 0.2045, 0.1561, 0.1906, 0.1605],\n",
      "        [0.2019, 0.1990, 0.2188, 0.1609, 0.2194],\n",
      "        [0.2057, 0.2098, 0.2044, 0.1688, 0.2113],\n",
      "        [0.2070, 0.2089, 0.1913, 0.1773, 0.2155]], grad_fn=<SoftmaxBackward0>)\n"
     ]
    }
   ],
   "source": [
    "ffn_hidden_units = 16\n",
    "n_hidden_layers = 2\n",
    "\n",
    "model = _ONNHBPModel(input_units=n_features,\n",
    "                     output_units=n_classes,\n",
    "                     hidden_units=ffn_hidden_units,\n",
    "                     n_hidden_layers=n_hidden_layers)\n",
    "\n",
    "output = model(X)\n",
    "print(output)"
   ]
  },
  {
   "cell_type": "markdown",
   "metadata": {
    "collapsed": false,
    "pycharm": {
     "name": "#%% md\n"
    }
   },
   "source": [
    "### 3. Check skorch"
   ]
  },
  {
   "cell_type": "code",
   "execution_count": 4,
   "id": "a3ab038f",
   "metadata": {},
   "outputs": [
    {
     "name": "stdout",
     "output_type": "stream",
     "text": [
      "  epoch    train_loss    valid_acc    valid_loss     dur\n",
      "-------  ------------  -----------  ------------  ------\n",
      "      1        \u001b[36m1.6549\u001b[0m       \u001b[32m0.2500\u001b[0m        \u001b[35m1.6407\u001b[0m  0.0282\n",
      "<class 'sail.models.torch.onn_hbp.ONNHBPClassifier'>[initialized](\n",
      "  module_=_ONNHBPModel(\n",
      "    (hidden_layers): ModuleList(\n",
      "      (0): Linear(in_features=15, out_features=16, bias=True)\n",
      "      (1): Linear(in_features=16, out_features=16, bias=True)\n",
      "    )\n",
      "    (output_layers): ModuleList(\n",
      "      (0-1): 2 x Linear(in_features=16, out_features=5, bias=True)\n",
      "    )\n",
      "    (do): Dropout(p=0.2, inplace=False)\n",
      "    (actfn): ReLU()\n",
      "  ),\n",
      ")\n",
      "[2 2 3 3 2 3 2 2 3 2 3 4 4 3 2 2 2 3 3 2 3 3 2 2 2 3 3 2 2 3 2 3 3 3 3 3 2\n",
      " 2 2 2]\n"
     ]
    }
   ],
   "source": [
    "model_skorch = ONNHBPClassifier(input_units=n_features,\n",
    "                                 output_units=n_classes,\n",
    "                                 hidden_units=ffn_hidden_units,\n",
    "                                 n_hidden_layers=n_hidden_layers)\n",
    "\n",
    "partial_fit = model_skorch.partial_fit(X,y)\n",
    "print(partial_fit)\n",
    "predict = model_skorch.predict(X)\n",
    "print(predict)"
   ]
  },
  {
   "cell_type": "markdown",
   "id": "3d398e54",
   "metadata": {},
   "source": [
    "### 2. Load the Iris dataset"
   ]
  },
  {
   "cell_type": "code",
   "execution_count": 6,
   "id": "fdbf8069",
   "metadata": {},
   "outputs": [],
   "source": [
    "iris = load_iris()\n",
    "X = iris['data']\n",
    "y = iris['target']\n",
    "names = iris['target_names']\n",
    "feature_names = iris['feature_names']\n",
    "\n",
    "# Scale data to have mean 0 and variance 1\n",
    "# which is importance for convergence of the neural network\n",
    "scaler = StandardScaler()\n",
    "X_scaled = scaler.fit_transform(X)\n",
    "\n",
    "# Split the data set into training and testing\n",
    "X_train, X_test, y_train, y_test = train_test_split(\n",
    "    X_scaled, y, test_size=0.2, random_state=2)"
   ]
  },
  {
   "cell_type": "markdown",
   "id": "1c438a51",
   "metadata": {},
   "source": [
    "### 3. Train and test ONN on Iris dataset"
   ]
  },
  {
   "cell_type": "code",
   "execution_count": 7,
   "id": "ec8adb44",
   "metadata": {
    "pycharm": {
     "name": "#%%\n"
    }
   },
   "outputs": [
    {
     "name": "stdout",
     "output_type": "stream",
     "text": [
      "  epoch    train_loss    valid_acc    valid_loss     dur\n",
      "-------  ------------  -----------  ------------  ------\n",
      "      1        \u001b[36m1.0350\u001b[0m       \u001b[32m0.6250\u001b[0m        \u001b[35m1.0384\u001b[0m  0.0127\n",
      "      2        \u001b[36m1.0338\u001b[0m       0.6250        \u001b[35m1.0368\u001b[0m  0.0076\n",
      "      3        \u001b[36m1.0323\u001b[0m       0.6250        \u001b[35m1.0353\u001b[0m  0.0088\n",
      "      4        \u001b[36m1.0307\u001b[0m       0.6250        \u001b[35m1.0337\u001b[0m  0.0064\n",
      "      5        \u001b[36m1.0292\u001b[0m       0.6250        \u001b[35m1.0322\u001b[0m  0.0062\n",
      "Accuracy on the test data 0.6666666666666666\n"
     ]
    }
   ],
   "source": [
    "n_features = X_train.shape[1]\n",
    "n_classes = np.unique(y_test).shape[0]\n",
    "ffn_hidden_units = 50\n",
    "n_hidden_layers = 3\n",
    "\n",
    "model_skorch = ONNHBPClassifier(input_units=n_features,\n",
    "                                 output_units=n_classes,\n",
    "                                 hidden_units=ffn_hidden_units,\n",
    "                                 n_hidden_layers=n_hidden_layers)\n",
    "partial_fit = None\n",
    "for i in range(0,5):\n",
    "    partial_fit = model_skorch.partial_fit(X_train, y_train)\n",
    "\n",
    "print('Accuracy on the test data', partial_fit.score(X_test, y_test))"
   ]
  },
  {
   "cell_type": "markdown",
   "metadata": {
    "collapsed": false
   },
   "source": [
    "### 4. Mini-batch training."
   ]
  },
  {
   "cell_type": "code",
   "execution_count": 8,
   "metadata": {
    "collapsed": false,
    "pycharm": {
     "name": "#%%\n"
    }
   },
   "outputs": [
    {
     "name": "stdout",
     "output_type": "stream",
     "text": [
      "  epoch    train_loss    valid_acc    valid_loss     dur\n",
      "-------  ------------  -----------  ------------  ------\n",
      "      1        \u001b[36m1.0705\u001b[0m       \u001b[32m0.5000\u001b[0m        \u001b[35m1.0725\u001b[0m  0.0062\n",
      "      2        \u001b[36m1.0681\u001b[0m       \u001b[32m1.0000\u001b[0m        \u001b[35m1.0519\u001b[0m  0.0054\n",
      "      3        1.0705       0.5000        1.0779  0.0070\n",
      "      4        \u001b[36m1.0613\u001b[0m       0.7500        1.0586  0.0088\n",
      "      5        1.0803       0.2500        1.0811  0.0356\n",
      "      6        \u001b[36m1.0574\u001b[0m       0.7500        \u001b[35m1.0480\u001b[0m  0.0135\n",
      "0.8\n"
     ]
    },
    {
     "name": "stderr",
     "output_type": "stream",
     "text": [
      "/Users/dhaval/.pyenv/versions/3.10.9/envs/venv-sail/lib/python3.10/site-packages/sklearn/model_selection/_split.py:700: UserWarning: The least populated class in y has only 4 members, which is less than n_splits=5.\n",
      "  warnings.warn(\n",
      "/Users/dhaval/.pyenv/versions/3.10.9/envs/venv-sail/lib/python3.10/site-packages/sklearn/model_selection/_split.py:700: UserWarning: The least populated class in y has only 3 members, which is less than n_splits=5.\n",
      "  warnings.warn(\n"
     ]
    }
   ],
   "source": [
    "batch_size = 20\n",
    "\n",
    "model_skorch = ONNHBPClassifier(input_units=n_features,\n",
    "                                 output_units=n_classes,\n",
    "                                 hidden_units=ffn_hidden_units,\n",
    "                                 n_hidden_layers=n_hidden_layers)\n",
    "\n",
    "for batch in gen_batches(X_train.shape[0], batch_size):\n",
    "    x_batch = X_train[batch]\n",
    "    y_batch = y_train[batch]\n",
    "    partial_fit = model_skorch.partial_fit(x_batch, y_batch)\n",
    "\n",
    "predict = model_skorch.predict(X_test)\n",
    "\n",
    "print(partial_fit.score(X_test, y_test))"
   ]
  },
  {
   "cell_type": "markdown",
   "metadata": {
    "collapsed": false
   },
   "source": [
    "### 5. Improving the results.\n",
    "Note, the results of doing mini batch learning are very bad. This is because we only do one single epoch. An easy way to improve this is by running partial fit for each mini-batch several times, i.e, multiple epochs."
   ]
  },
  {
   "cell_type": "code",
   "execution_count": 9,
   "metadata": {
    "collapsed": false,
    "pycharm": {
     "name": "#%%\n"
    }
   },
   "outputs": [
    {
     "name": "stdout",
     "output_type": "stream",
     "text": [
      "      7        1.0629       0.7500        1.0639  0.0071\n",
      "      8        \u001b[36m1.0551\u001b[0m       0.7500        1.0548  0.0059\n",
      "      9        \u001b[36m1.0480\u001b[0m       0.7500        1.0540  0.0059\n",
      "     10        1.0694       0.7500        1.0592  0.0069\n",
      "     11        1.0621       0.5000        1.0609  0.0064\n",
      "     12        1.0643       0.7500        1.0501  0.0076\n",
      "     13        \u001b[36m1.0413\u001b[0m       0.7500        \u001b[35m1.0460\u001b[0m  0.0076\n",
      "     14        1.0578       0.5000        1.0539  0.0130\n",
      "     15        1.0501       0.7500        \u001b[35m1.0376\u001b[0m  0.0062\n",
      "     16        1.0568       0.5000        1.0707  0.0081\n",
      "     17        \u001b[36m1.0340\u001b[0m       0.7500        1.0491  0.0080\n",
      "     18        1.0454       0.7500        1.0589  0.0106\n",
      "     19        1.0531       0.7500        1.0624  0.0119\n",
      "     20        1.0519       0.7500        \u001b[35m1.0343\u001b[0m  0.0119\n",
      "     21        1.0426       0.7500        1.0396  0.0120\n"
     ]
    },
    {
     "name": "stderr",
     "output_type": "stream",
     "text": [
      "/Users/dhaval/.pyenv/versions/3.10.9/envs/venv-sail/lib/python3.10/site-packages/sklearn/model_selection/_split.py:700: UserWarning: The least populated class in y has only 4 members, which is less than n_splits=5.\n",
      "  warnings.warn(\n",
      "/Users/dhaval/.pyenv/versions/3.10.9/envs/venv-sail/lib/python3.10/site-packages/sklearn/model_selection/_split.py:700: UserWarning: The least populated class in y has only 3 members, which is less than n_splits=5.\n",
      "  warnings.warn(\n",
      "/Users/dhaval/.pyenv/versions/3.10.9/envs/venv-sail/lib/python3.10/site-packages/sklearn/model_selection/_split.py:700: UserWarning: The least populated class in y has only 3 members, which is less than n_splits=5.\n",
      "  warnings.warn(\n",
      "/Users/dhaval/.pyenv/versions/3.10.9/envs/venv-sail/lib/python3.10/site-packages/sklearn/model_selection/_split.py:700: UserWarning: The least populated class in y has only 4 members, which is less than n_splits=5.\n",
      "  warnings.warn(\n",
      "/Users/dhaval/.pyenv/versions/3.10.9/envs/venv-sail/lib/python3.10/site-packages/sklearn/model_selection/_split.py:700: UserWarning: The least populated class in y has only 3 members, which is less than n_splits=5.\n",
      "  warnings.warn(\n",
      "/Users/dhaval/.pyenv/versions/3.10.9/envs/venv-sail/lib/python3.10/site-packages/sklearn/model_selection/_split.py:700: UserWarning: The least populated class in y has only 2 members, which is less than n_splits=5.\n",
      "  warnings.warn(\n"
     ]
    },
    {
     "name": "stdout",
     "output_type": "stream",
     "text": [
      "     22        \u001b[36m1.0242\u001b[0m       1.0000        \u001b[35m1.0154\u001b[0m  0.0272\n",
      "     23        1.0521       0.7500        1.0499  0.0339\n",
      "     24        1.0368       0.7500        1.0312  0.0172\n",
      "     25        1.0511       0.5000        1.0520  0.0107\n",
      "     26        1.0354       1.0000        1.0213  0.0059\n",
      "     27        1.0339       0.5000        1.0395  0.0123\n",
      "     28        1.0407       0.7500        1.0207  0.0097\n",
      "     29        1.0277       0.7500        1.0337  0.0099\n",
      "     30        1.0302       1.0000        \u001b[35m0.9946\u001b[0m  0.0108\n",
      "     31        \u001b[36m1.0239\u001b[0m       0.5000        1.0545  0.0111\n",
      "     32        1.0464       0.7500        1.0310  0.0084\n",
      "     33        1.0308       0.7500        1.0388  0.0080\n",
      "     34        1.0401       0.5000        1.0400  0.0091\n",
      "     35        1.0258       0.7500        1.0410  0.0077\n",
      "     36        \u001b[36m1.0226\u001b[0m       0.5000        1.0405  0.0070\n"
     ]
    },
    {
     "name": "stderr",
     "output_type": "stream",
     "text": [
      "/Users/dhaval/.pyenv/versions/3.10.9/envs/venv-sail/lib/python3.10/site-packages/sklearn/model_selection/_split.py:700: UserWarning: The least populated class in y has only 3 members, which is less than n_splits=5.\n",
      "  warnings.warn(\n",
      "/Users/dhaval/.pyenv/versions/3.10.9/envs/venv-sail/lib/python3.10/site-packages/sklearn/model_selection/_split.py:700: UserWarning: The least populated class in y has only 4 members, which is less than n_splits=5.\n",
      "  warnings.warn(\n",
      "/Users/dhaval/.pyenv/versions/3.10.9/envs/venv-sail/lib/python3.10/site-packages/sklearn/model_selection/_split.py:700: UserWarning: The least populated class in y has only 4 members, which is less than n_splits=5.\n",
      "  warnings.warn(\n",
      "/Users/dhaval/.pyenv/versions/3.10.9/envs/venv-sail/lib/python3.10/site-packages/sklearn/model_selection/_split.py:700: UserWarning: The least populated class in y has only 4 members, which is less than n_splits=5.\n",
      "  warnings.warn(\n"
     ]
    },
    {
     "name": "stdout",
     "output_type": "stream",
     "text": [
      "     37        \u001b[36m1.0167\u001b[0m       0.7500        1.0123  0.0079\n",
      "     38        \u001b[36m1.0081\u001b[0m       1.0000        0.9985  0.0096\n",
      "     39        1.0296       0.7500        1.0227  0.0074\n",
      "     40        \u001b[36m1.0056\u001b[0m       0.7500        1.0049  0.0130\n",
      "     41        1.0208       0.7500        1.0267  0.0079\n",
      "     42        1.0310       0.5000        1.0374  0.0080\n",
      "     43        \u001b[36m1.0003\u001b[0m       1.0000        \u001b[35m0.9912\u001b[0m  0.0062\n",
      "     44        1.0283       0.7500        1.0318  0.0078\n",
      "     45        1.0146       0.5000        1.0337  0.0124\n",
      "     46        \u001b[36m0.9947\u001b[0m       0.7500        1.0273  0.0066\n",
      "     47        0.9968       0.7500        0.9982  0.0075\n",
      "     48        0.9969       1.0000        \u001b[35m0.9796\u001b[0m  0.0084\n",
      "     49        1.0097       0.5000        1.0246  0.0086\n",
      "     50        \u001b[36m0.9916\u001b[0m       0.5000        1.0332  0.0144\n",
      "     51        1.0040       0.7500        0.9982  0.0069\n"
     ]
    },
    {
     "name": "stderr",
     "output_type": "stream",
     "text": [
      "/Users/dhaval/.pyenv/versions/3.10.9/envs/venv-sail/lib/python3.10/site-packages/sklearn/model_selection/_split.py:700: UserWarning: The least populated class in y has only 4 members, which is less than n_splits=5.\n",
      "  warnings.warn(\n",
      "/Users/dhaval/.pyenv/versions/3.10.9/envs/venv-sail/lib/python3.10/site-packages/sklearn/model_selection/_split.py:700: UserWarning: The least populated class in y has only 4 members, which is less than n_splits=5.\n",
      "  warnings.warn(\n",
      "/Users/dhaval/.pyenv/versions/3.10.9/envs/venv-sail/lib/python3.10/site-packages/sklearn/model_selection/_split.py:700: UserWarning: The least populated class in y has only 4 members, which is less than n_splits=5.\n",
      "  warnings.warn(\n",
      "/Users/dhaval/.pyenv/versions/3.10.9/envs/venv-sail/lib/python3.10/site-packages/sklearn/model_selection/_split.py:700: UserWarning: The least populated class in y has only 4 members, which is less than n_splits=5.\n",
      "  warnings.warn(\n",
      "/Users/dhaval/.pyenv/versions/3.10.9/envs/venv-sail/lib/python3.10/site-packages/sklearn/model_selection/_split.py:700: UserWarning: The least populated class in y has only 4 members, which is less than n_splits=5.\n",
      "  warnings.warn(\n",
      "/Users/dhaval/.pyenv/versions/3.10.9/envs/venv-sail/lib/python3.10/site-packages/sklearn/model_selection/_split.py:700: UserWarning: The least populated class in y has only 4 members, which is less than n_splits=5.\n",
      "  warnings.warn(\n",
      "/Users/dhaval/.pyenv/versions/3.10.9/envs/venv-sail/lib/python3.10/site-packages/sklearn/model_selection/_split.py:700: UserWarning: The least populated class in y has only 4 members, which is less than n_splits=5.\n",
      "  warnings.warn(\n",
      "/Users/dhaval/.pyenv/versions/3.10.9/envs/venv-sail/lib/python3.10/site-packages/sklearn/model_selection/_split.py:700: UserWarning: The least populated class in y has only 4 members, which is less than n_splits=5.\n",
      "  warnings.warn(\n"
     ]
    },
    {
     "name": "stdout",
     "output_type": "stream",
     "text": [
      "     52        1.0228       0.5000        0.9908  0.0098\n",
      "     53        1.0004       0.7500        0.9898  0.0107\n",
      "     54        1.0264       0.7500        0.9890  0.0135\n",
      "     55        0.9938       1.0000        \u001b[35m0.9557\u001b[0m  0.0140\n",
      "     56        1.0082       0.7500        1.0022  0.0112\n",
      "     57        \u001b[36m0.9900\u001b[0m       0.5000        1.0302  0.0114\n",
      "     58        1.0154       0.7500        1.0071  0.0094\n",
      "     59        1.0038       0.7500        0.9759  0.0088\n",
      "     60        \u001b[36m0.9898\u001b[0m       0.7500        0.9693  0.0086\n",
      "     61        0.9999       0.7500        0.9992  0.0089\n"
     ]
    },
    {
     "name": "stderr",
     "output_type": "stream",
     "text": [
      "/Users/dhaval/.pyenv/versions/3.10.9/envs/venv-sail/lib/python3.10/site-packages/sklearn/model_selection/_split.py:700: UserWarning: The least populated class in y has only 4 members, which is less than n_splits=5.\n",
      "  warnings.warn(\n",
      "/Users/dhaval/.pyenv/versions/3.10.9/envs/venv-sail/lib/python3.10/site-packages/sklearn/model_selection/_split.py:700: UserWarning: The least populated class in y has only 4 members, which is less than n_splits=5.\n",
      "  warnings.warn(\n",
      "/Users/dhaval/.pyenv/versions/3.10.9/envs/venv-sail/lib/python3.10/site-packages/sklearn/model_selection/_split.py:700: UserWarning: The least populated class in y has only 3 members, which is less than n_splits=5.\n",
      "  warnings.warn(\n",
      "/Users/dhaval/.pyenv/versions/3.10.9/envs/venv-sail/lib/python3.10/site-packages/sklearn/model_selection/_split.py:700: UserWarning: The least populated class in y has only 4 members, which is less than n_splits=5.\n",
      "  warnings.warn(\n"
     ]
    },
    {
     "name": "stdout",
     "output_type": "stream",
     "text": [
      "     62        1.0085       0.7500        1.0005  0.0089\n",
      "     63        0.9931       1.0000        0.9719  0.0075\n",
      "     64        0.9947       0.7500        0.9863  0.0090\n",
      "     65        0.9955       0.7500        0.9900  0.0310\n",
      "     66        0.9900       1.0000        0.9757  0.0114\n",
      "Accuracy after 10 epochs 0.8333333333333334\n"
     ]
    },
    {
     "name": "stderr",
     "output_type": "stream",
     "text": [
      "/Users/dhaval/.pyenv/versions/3.10.9/envs/venv-sail/lib/python3.10/site-packages/sklearn/model_selection/_split.py:700: UserWarning: The least populated class in y has only 4 members, which is less than n_splits=5.\n",
      "  warnings.warn(\n"
     ]
    }
   ],
   "source": [
    "for _ in range(10): # n_epochs\n",
    "    for batch in gen_batches(X_train.shape[0], batch_size):\n",
    "        x_batch = X_train[batch]\n",
    "        y_batch = y_train[batch]\n",
    "        partial_fit = model_skorch.partial_fit(x_batch, y_batch)\n",
    "        # Shuffling the dataset\n",
    "        permutation = torch.randperm(X_train.shape[0])\n",
    "        X_train = X_train[permutation]\n",
    "        y_train = y_train[permutation]\n",
    "\n",
    "# Note how the results improved considerably\n",
    "print('Accuracy after 10 epochs', partial_fit.score(X_test, y_test))"
   ]
  },
  {
   "cell_type": "markdown",
   "metadata": {
    "collapsed": false,
    "pycharm": {
     "name": "#%% md\n"
    }
   },
   "source": [
    "## Training and testing simultaneously, one example at the time"
   ]
  },
  {
   "cell_type": "code",
   "execution_count": 10,
   "metadata": {
    "collapsed": false,
    "pycharm": {
     "name": "#%%\n"
    }
   },
   "outputs": [
    {
     "name": "stdout",
     "output_type": "stream",
     "text": [
      "Online Accuracy at time 0/3500: 0.04533333333333334\n",
      "Online Accuracy at time 1000/3500: 0.9726666666666667\n",
      "Online Accuracy at time 2000/3500: 0.9686666666666667\n",
      "Online Accuracy at time 3000/3500: 0.9786666666666667\n",
      "Training and testing finished.\n",
      "Final accuracy after 3500 samples: 0.9786666666666667\n"
     ]
    }
   ],
   "source": [
    "X, Y = make_classification(n_samples=5000, n_features=10, n_informative=4, n_redundant=0, n_classes=10,\n",
    "                           n_clusters_per_class=1, class_sep=3)\n",
    "\n",
    "X_train, X_test, y_train, y_test = train_test_split(X, Y, test_size=0.3, random_state=42, shuffle=True)\n",
    "\n",
    "onn_network = ONNHBPClassifier(input_units=10,\n",
    "                                output_units=10,\n",
    "                                hidden_units=40,\n",
    "                                n_hidden_layers=5,\n",
    "                                train_split=None,\n",
    "                                verbose=0\n",
    "                                )\n",
    "\n",
    "n_training_samples = len(X_train)\n",
    "for i in range(n_training_samples):\n",
    "  partial_fit = onn_network.partial_fit(np.asarray([X_train[i, :]]), np.asarray([y_train[i]]))\n",
    "\n",
    "  if i % 1000 == 0:\n",
    "    print(\"Online Accuracy at time {}/{}: {}\".format(i, n_training_samples, partial_fit.score(X_test, y_test)))\n",
    "\n",
    "print('Training and testing finished.\\nFinal accuracy after {} samples: {}'.format(n_training_samples, partial_fit.score(X_test, y_test)))"
   ]
  }
 ],
 "metadata": {
  "kernelspec": {
   "display_name": "venv-sail",
   "language": "python",
   "name": "python3"
  },
  "language_info": {
   "codemirror_mode": {
    "name": "ipython",
    "version": 3
   },
   "file_extension": ".py",
   "mimetype": "text/x-python",
   "name": "python",
   "nbconvert_exporter": "python",
   "pygments_lexer": "ipython3",
   "version": "3.10.9"
  }
 },
 "nbformat": 4,
 "nbformat_minor": 5
}
