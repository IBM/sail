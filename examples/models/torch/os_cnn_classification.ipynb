{
 "cells": [
  {
   "cell_type": "code",
   "execution_count": 1,
   "id": "f371e50e-fb5c-4f5f-a39a-4258b7deb6e5",
   "metadata": {},
   "outputs": [],
   "source": [
    "import numpy as np\n",
    "import torch\n",
    "from sklearn import preprocessing\n",
    "\n",
    "from sail.models.torch.os_cnn import OSCNNCLassifier"
   ]
  },
  {
   "cell_type": "code",
   "execution_count": 2,
   "id": "17fb7c93-7d34-4587-b7e2-89ad6f20cb5f",
   "metadata": {},
   "outputs": [],
   "source": [
    "# methods for preprocessing data \n",
    "def set_nan_to_zero(a):\n",
    "    where_are_NaNs = np.isnan(a)\n",
    "    a[where_are_NaNs] = 0\n",
    "    return a\n",
    "\n",
    "def TSC_data_loader(dataset_path,dataset_name):\n",
    "    Train_dataset = np.loadtxt(\n",
    "        dataset_path + '/' + dataset_name + '/' + dataset_name + '_TRAIN.tsv')\n",
    "    Test_dataset = np.loadtxt(\n",
    "        dataset_path + '/' + dataset_name + '/' + dataset_name + '_TEST.tsv')\n",
    "    Train_dataset = Train_dataset.astype(np.float32)\n",
    "    Test_dataset = Test_dataset.astype(np.float32)\n",
    "\n",
    "    X_train = Train_dataset[:, 1:]\n",
    "    y_train = Train_dataset[:, 0:1]\n",
    "\n",
    "    X_test = Test_dataset[:, 1:]\n",
    "    y_test = Test_dataset[:, 0:1]\n",
    "    le = preprocessing.LabelEncoder()\n",
    "    le.fit(np.squeeze(y_train, axis=1))\n",
    "    y_train = le.transform(np.squeeze(y_train, axis=1))\n",
    "    y_test = le.transform(np.squeeze(y_test, axis=1))\n",
    "    return set_nan_to_zero(X_train), y_train, set_nan_to_zero(X_test), y_test\n",
    "\n",
    "\n",
    "def load_to_torch(X_train, y_train, X_test, y_test, device):\n",
    "    X_train = torch.from_numpy(X_train)\n",
    "    X_train.requires_grad = False\n",
    "    X_train = X_train.to(device)\n",
    "    y_train = torch.from_numpy(y_train).to(device)\n",
    "\n",
    "    X_test = torch.from_numpy(X_test)\n",
    "    X_test.requires_grad = False\n",
    "    X_test = X_test.to(device)\n",
    "    y_test = torch.from_numpy(y_test).to(device)\n",
    "\n",
    "\n",
    "    if len(X_train.shape) == 2:\n",
    "        X_train = X_train.unsqueeze_(1)\n",
    "        X_test = X_test.unsqueeze_(1)\n",
    "    return X_train, y_train, X_test, y_test"
   ]
  },
  {
   "attachments": {},
   "cell_type": "markdown",
   "id": "8a299d4e",
   "metadata": {},
   "source": [
    "##### Download Dataset\n"
   ]
  },
  {
   "cell_type": "code",
   "execution_count": 3,
   "id": "fdf62c75",
   "metadata": {},
   "outputs": [
    {
     "data": {
      "text/plain": [
       "['/Users/dhaval/Projects/SAIL/sail/notebooks/UCRArchive_2018/FiftyWords/desktop.ini',\n",
       " '/Users/dhaval/Projects/SAIL/sail/notebooks/UCRArchive_2018/FiftyWords/FiftyWords_TEST.tsv',\n",
       " '/Users/dhaval/Projects/SAIL/sail/notebooks/UCRArchive_2018/FiftyWords/FiftyWords_TRAIN.tsv',\n",
       " '/Users/dhaval/Projects/SAIL/sail/notebooks/UCRArchive_2018/FiftyWords/README.md']"
      ]
     },
     "execution_count": 3,
     "metadata": {},
     "output_type": "execute_result"
    }
   ],
   "source": [
    "import gdown\n",
    "url = \"https://drive.google.com/drive/folders/1SyX8ylC6TbwJPnLKPP_o4qdm03r-0Yby\"\n",
    "gdown.download_folder(url, quiet=True, use_cookies=False)"
   ]
  },
  {
   "cell_type": "code",
   "execution_count": 4,
   "id": "e80cc71e-edc6-4df2-917f-bfa20f20d004",
   "metadata": {},
   "outputs": [
    {
     "name": "stdout",
     "output_type": "stream",
     "text": [
      "train data shape (450, 270)\n",
      "\n",
      "train label shape (450,)\n",
      "test data shape (455, 270)\n",
      "test label shape (455,)\n",
      "unique train label [ 0  1  2  3  4  5  6  7  8  9 10 11 12 13 14 15 16 17 18 19 20 21 22 23\n",
      " 24 25 26 27 28 29 30 31 32 33 34 35 36 37 38 39 40 41 42 43 44 45 46 47\n",
      " 48 49]\n",
      "unique test label [ 0  1  2  3  4  5  6  7  8  9 10 11 12 13 14 15 16 17 18 19 20 21 22 23\n",
      " 24 25 26 27 28 29 30 31 32 33 34 35 36 37 38 39 40 41 42 43 44 45 46 47\n",
      " 48 49]\n",
      "  epoch    train_loss     dur\n",
      "-------  ------------  ------\n",
      "      1        \u001b[36m3.5016\u001b[0m  2.7310\n",
      "      2        \u001b[36m2.9053\u001b[0m  2.8249\n",
      "      3        \u001b[36m2.5445\u001b[0m  2.8687\n",
      "      4        \u001b[36m2.2457\u001b[0m  2.8680\n",
      "      5        \u001b[36m1.9874\u001b[0m  2.8601\n",
      "      6        \u001b[36m1.7832\u001b[0m  3.5804\n",
      "      7        \u001b[36m1.5714\u001b[0m  2.9875\n",
      "      8        \u001b[36m1.3965\u001b[0m  2.9456\n",
      "      9        \u001b[36m1.2541\u001b[0m  2.7899\n",
      "     10        \u001b[36m1.1163\u001b[0m  2.7804\n",
      "     11        \u001b[36m0.9997\u001b[0m  2.7760\n",
      "     12        \u001b[36m0.8810\u001b[0m  2.9273\n",
      "     13        \u001b[36m0.7632\u001b[0m  2.7852\n",
      "     14        \u001b[36m0.6678\u001b[0m  2.7998\n",
      "     15        \u001b[36m0.5706\u001b[0m  2.7063\n",
      "     16        \u001b[36m0.5018\u001b[0m  2.9955\n",
      "     17        \u001b[36m0.4099\u001b[0m  2.8525\n",
      "     18        \u001b[36m0.3275\u001b[0m  2.7624\n",
      "     19        \u001b[36m0.2879\u001b[0m  3.4488\n",
      "     20        \u001b[36m0.2423\u001b[0m  2.8690\n"
     ]
    },
    {
     "data": {
      "text/plain": [
       "<class 'sail.models.torch.os_cnn.OSCNNCLassifier'>[initialized](\n",
       "  module_=_OS_CNN(\n",
       "    (net): Sequential(\n",
       "      (0): build_layer_with_layer_parameter(\n",
       "        (padding): ConstantPad1d(padding=(33, 33), value=0)\n",
       "        (conv1d): Conv1d(1, 20, kernel_size=(67,), stride=(1,))\n",
       "        (bn): BatchNorm1d(20, eps=1e-05, momentum=0.1, affine=True, track_running_stats=True)\n",
       "      )\n",
       "      (1): build_layer_with_layer_parameter(\n",
       "        (padding): ConstantPad1d(padding=(33, 33), value=0)\n",
       "        (conv1d): Conv1d(20, 400, kernel_size=(67,), stride=(1,))\n",
       "        (bn): BatchNorm1d(400, eps=1e-05, momentum=0.1, affine=True, track_running_stats=True)\n",
       "      )\n",
       "      (2): build_layer_with_layer_parameter(\n",
       "        (padding): ConstantPad1d(padding=(0, 1), value=0)\n",
       "        (conv1d): Conv1d(400, 40, kernel_size=(2,), stride=(1,))\n",
       "        (bn): BatchNorm1d(40, eps=1e-05, momentum=0.1, affine=True, track_running_stats=True)\n",
       "      )\n",
       "    )\n",
       "    (averagepool): AdaptiveAvgPool1d(output_size=1)\n",
       "    (hidden): Linear(in_features=40, out_features=50, bias=True)\n",
       "  ),\n",
       ")"
      ]
     },
     "execution_count": 4,
     "metadata": {},
     "output_type": "execute_result"
    }
   ],
   "source": [
    "dataset_path = \"UCRArchive_2018\"\n",
    "dataset_name = \"FiftyWords\"\n",
    "\n",
    "# load data,\n",
    "X_train, y_train, X_test, y_test = TSC_data_loader(dataset_path, dataset_name)\n",
    "print('train data shape', X_train.shape)\n",
    "print()\n",
    "print('train label shape',y_train.shape)\n",
    "print('test data shape',X_test.shape)\n",
    "print('test label shape',y_test.shape)\n",
    "print('unique train label',np.unique(y_train))\n",
    "print('unique test label',np.unique(y_test))\n",
    "device = \"cpu\"\n",
    "X_train, y_train, X_test, y_test = load_to_torch(X_train, y_train, X_test, y_test, device)\n",
    "\n",
    "# the model prints out the result every epoch\n",
    "# defaul epoch size = 20\n",
    "Max_kernel_size = 89\n",
    "start_kernel_size = 1\n",
    "# loss, optimizer, scheduler\n",
    "input_channel = X_train.shape[1] # input channel size\n",
    "n_class = max(y_train) + 1 # output class number\n",
    "receptive_field_shape= min(int(X_train.shape[-1]/4),Max_kernel_size)\n",
    "\n",
    "model = OSCNNCLassifier(n_class.item(), input_channel, receptive_field_shape)\n",
    "model.fit(X_train, y_train)"
   ]
  },
  {
   "cell_type": "code",
   "execution_count": 5,
   "id": "17a15659-94d5-424c-9d64-7fb3dd2ed3b7",
   "metadata": {},
   "outputs": [
    {
     "data": {
      "text/plain": [
       "0.7406593406593407"
      ]
     },
     "execution_count": 5,
     "metadata": {},
     "output_type": "execute_result"
    }
   ],
   "source": [
    "correct = 0\n",
    "N_test=X_test.shape[0]\n",
    "yhat = model.predict(X_test)\n",
    "correct += (torch.tensor(yhat) == y_test).sum().item()\n",
    "accuracy = correct / N_test\n",
    "accuracy"
   ]
  }
 ],
 "metadata": {
  "kernelspec": {
   "display_name": "Python 3 (ipykernel)",
   "language": "python",
   "name": "python3"
  },
  "language_info": {
   "codemirror_mode": {
    "name": "ipython",
    "version": 3
   },
   "file_extension": ".py",
   "mimetype": "text/x-python",
   "name": "python",
   "nbconvert_exporter": "python",
   "pygments_lexer": "ipython3",
   "version": "3.10.10"
  }
 },
 "nbformat": 4,
 "nbformat_minor": 5
}
