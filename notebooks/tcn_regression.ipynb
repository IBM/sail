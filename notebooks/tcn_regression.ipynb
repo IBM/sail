{
 "cells": [
  {
   "cell_type": "code",
   "execution_count": null,
   "id": "62a0669e-3e1a-47a8-843e-bfe374f2379a",
   "metadata": {},
   "outputs": [],
   "source": [
    "from sklearn.preprocessing import StandardScaler\n",
    "from sail.models.torch.tcn import TCNRegressor\n",
    "import numpy as np\n",
    "from sklearn.datasets import make_regression\n"
   ]
  },
  {
   "cell_type": "code",
   "execution_count": null,
   "id": "e6030c8e-7f4c-4c1f-998d-a5a03a8dbc97",
   "metadata": {},
   "outputs": [],
   "source": [
    "# Create data as we do in tests\n",
    "def regression_data(n_samples, n_features):\n",
    "    X, y = make_regression(  # type: ignore\n",
    "        n_samples, n_features, n_informative=10, bias=0, random_state=0\n",
    "    )\n",
    "    X, y = X.astype(np.float32), y.astype(np.float32).reshape(-1, 1)\n",
    "    Xt = StandardScaler().fit_transform(X)\n",
    "    yt = StandardScaler().fit_transform(y)\n",
    "    return Xt, yt\n"
   ]
  },
  {
   "cell_type": "code",
   "execution_count": null,
   "id": "ade77e0e-8628-4902-8068-fcd62ca34fbc",
   "metadata": {},
   "outputs": [],
   "source": [
    "# Set size of data\n",
    "n_samples = 1000\n",
    "n_features = 12\n",
    "batch_size = 20\n",
    "\n",
    "# Get regression data\n",
    "X, y = regression_data(n_samples, n_features)\n",
    "\n",
    "# Add dummy axis, as net requires it\n",
    "X = X[:, :, np.newaxis]\n",
    "\n",
    "# Initialize network as TCNRegressor\n",
    "learner_tcn = TCNRegressor(n_features, 1)\n",
    "\n",
    "# Calculate epochs as even divisor of n_samples and batch_size for sake of easiness\n",
    "epochs = n_samples // batch_size\n",
    "for i in range(epochs):\n",
    "    # Extract X and y values of batch_size from training set\n",
    "    X_step = X[i * batch_size : (i + 1) * batch_size, :, :]\n",
    "    y_step = y[i * batch_size : (i + 1) * batch_size]\n",
    "\n",
    "    # Run partial fit\n",
    "    learner_tcn.partial_fit(X_step, y_step)\n",
    "\n",
    "# Run prediction (note: this is of course the data that we trained on,\n",
    "# but only for convenience sake; we are just testing if partial_fit works)\n",
    "y_prediction = learner_tcn.predict(X)\n"
   ]
  },
  {
   "cell_type": "code",
   "execution_count": null,
   "id": "8262bc28-e901-4a71-910d-c4b0fea6b172",
   "metadata": {},
   "outputs": [],
   "source": [
    "# Plot the predictions and the truth\n",
    "import plotly.graph_objects as go\n",
    "import plotly.io as pio\n",
    "\n",
    "pio.renderers.default = \"vscode\"\n",
    "\n",
    "y_pred = y_prediction.flatten().tolist()\n",
    "y_true = y.flatten().tolist()\n",
    "x = np.arange(len(y_true))\n",
    "fig = go.Figure()\n",
    "\n",
    "fig.add_trace(\n",
    "    go.Scatter(x=x, y=y_pred, name=\"predicted\", line=dict(color=\"red\", width=2))\n",
    ")\n",
    "fig.add_trace(\n",
    "    go.Scatter(x=x, y=y_true, name=\"actual\", line=dict(color=\"blue\", width=2))\n",
    ")\n",
    "fig.show()\n"
   ]
  }
 ],
 "metadata": {
  "interpreter": {
   "hash": "91f36900ab08a4a89d0cc4fd20efdb1481c6179575de820bd187d61e81c0ef66"
  },
  "kernelspec": {
   "display_name": "Python 3.8.13 ('imla')",
   "language": "python",
   "name": "python3"
  },
  "language_info": {
   "codemirror_mode": {
    "name": "ipython",
    "version": 3
   },
   "file_extension": ".py",
   "mimetype": "text/x-python",
   "name": "python",
   "nbconvert_exporter": "python",
   "pygments_lexer": "ipython3",
   "version": "3.8.13"
  }
 },
 "nbformat": 4,
 "nbformat_minor": 5
}
